{
 "cells": [
  {
   "cell_type": "code",
   "execution_count": null,
   "id": "e05ad077-c1bb-44a1-b56f-cb07d50ee9ec",
   "metadata": {},
   "outputs": [],
   "source": [
    "import pandas as pd\n",
    "import numpy as np\n",
    "\n",
    "import seaborn as sns\n",
    "\n",
    "import plotly\n",
    "import plotly.express as px\n",
    "import plotly.offline as pyo\n",
    "import plotly.graph_objs as go\n",
    "\n",
    "import matplotlib.pyplot as plt\n",
    "\n",
    "from natsort import index_natsorted"
   ]
  },
  {
   "cell_type": "code",
   "execution_count": null,
   "id": "cd898a2a-0cc8-4857-a721-4689c475f6d9",
   "metadata": {},
   "outputs": [],
   "source": [
    "from __future__ import print_function\n",
    "from ipywidgets import interact, interactive, fixed, interact_manual\n",
    "import ipywidgets as widgets"
   ]
  },
  {
   "cell_type": "code",
   "execution_count": null,
   "id": "aaa83288-14eb-42f6-8305-cca1db2b79a9",
   "metadata": {},
   "outputs": [],
   "source": [
    "%matplotlib inline\n",
    "pyo.init_notebook_mode(connected=True)"
   ]
  },
  {
   "cell_type": "code",
   "execution_count": null,
   "id": "46bfacd7-42d6-4727-8863-644d5c2cfe24",
   "metadata": {},
   "outputs": [],
   "source": [
    "df = pd.read_csv(\"./all_rgiout_2022-09-16\", sep='\\t')\n",
    "df = df.sort_values(by=[\"Accession_Number\"], ascending=True, key=lambda x: np.argsort(index_natsorted(df[\"Accession_Number\"])), ignore_index=True)\n",
    "df[['Species','Subspecies']] = df['Strain'].str.split('subsp.', 1, expand=True)\n",
    "df = df.replace(np.nan, 'Null', regex=True)\n",
    "df"
   ]
  },
  {
   "cell_type": "code",
   "execution_count": 6,
   "id": "40588388-ed34-427a-8cea-67639a1f1b37",
   "metadata": {},
   "outputs": [],
   "source": [
    "#seqreport = pd.read_csv(\"./seqreports\", sep=\"\\t\")\n",
    "#seqreport['Accession_Number'] = seqreport['path'].str.split('/', 4, expand=True)[2]\n",
    "#seqreport = seqreport[[\"Accession_Number\", \"Assembly_No\", \"replicon-type\", \"replicon-name\",\"path\"]]\n",
    "#seqreport = seqreport.replace(np.nan, 'Null', regex=True)\n",
    "#seqreport = seqreport.assign(Location=seqreport.agg('{0[replicon-type]} {0[replicon-name]}'.format, axis=1))\n",
    "#seqreport = seqreport.drop_duplicates(subset=['Accession_Number','Assembly_No'], keep='last')\n",
    "#seqreport = seqreport.sort_values(by=[\"Accession_Number\"], ascending=True, key=lambda x: np.argsort(index_natsorted(seqreport[\"Accession_Number\"])), ignore_index=True)\n",
    "#seqreport"
   ]
  },
  {
   "cell_type": "code",
   "execution_count": 7,
   "id": "e9d56d26-70f7-4eb0-95bd-a92b94de9892",
   "metadata": {},
   "outputs": [],
   "source": [
    "#df = df.merge(seqreport, how='left', on=['Accession_Number', 'Assembly_No'])\n",
    "#df = df.replace(np.nan, 'Null', regex=True)\n",
    "#df.shape"
   ]
  },
  {
   "cell_type": "code",
   "execution_count": 8,
   "id": "9fa9cff2-16a0-4135-a135-5497e2d2af93",
   "metadata": {},
   "outputs": [
    {
     "data": {
      "text/html": [
       "<div>\n",
       "<style scoped>\n",
       "    .dataframe tbody tr th:only-of-type {\n",
       "        vertical-align: middle;\n",
       "    }\n",
       "\n",
       "    .dataframe tbody tr th {\n",
       "        vertical-align: top;\n",
       "    }\n",
       "\n",
       "    .dataframe thead th {\n",
       "        text-align: right;\n",
       "    }\n",
       "</style>\n",
       "<table border=\"1\" class=\"dataframe\">\n",
       "  <thead>\n",
       "    <tr style=\"text-align: right;\">\n",
       "      <th></th>\n",
       "      <th>Accession_Number</th>\n",
       "      <th>Strain</th>\n",
       "      <th>Assembly_No</th>\n",
       "      <th>Year_Cultured</th>\n",
       "      <th>ORF_ID</th>\n",
       "      <th>Contig</th>\n",
       "      <th>Start</th>\n",
       "      <th>Stop</th>\n",
       "      <th>Orientation</th>\n",
       "      <th>Cut_Off</th>\n",
       "      <th>...</th>\n",
       "      <th>Predicted_DNA</th>\n",
       "      <th>Predicted_Protein</th>\n",
       "      <th>CARD_Protein_Sequence</th>\n",
       "      <th>Percentage Length of Reference Sequence</th>\n",
       "      <th>ID</th>\n",
       "      <th>Model_ID</th>\n",
       "      <th>Nudged</th>\n",
       "      <th>Note</th>\n",
       "      <th>Species</th>\n",
       "      <th>Subspecies</th>\n",
       "    </tr>\n",
       "  </thead>\n",
       "  <tbody>\n",
       "    <tr>\n",
       "      <th>0</th>\n",
       "      <td>NCTC1</td>\n",
       "      <td>Shigella flexneri</td>\n",
       "      <td>1</td>\n",
       "      <td>1914</td>\n",
       "      <td>ENA|LM651928|LM651928.1_231 # 254564 # 255658 ...</td>\n",
       "      <td>ENA|LM651928|LM651928.1_231</td>\n",
       "      <td>254564.0</td>\n",
       "      <td>255658.0</td>\n",
       "      <td>+</td>\n",
       "      <td>Strict</td>\n",
       "      <td>...</td>\n",
       "      <td>ATGGAAAAACTGCGGGTAGGAATCGTTTTTGGTGGTAAATCAGCGG...</td>\n",
       "      <td>MEKLRVGIVFGGKSAEHEVSLQSAKNIVDAIDKSRFDVVLLGIDKQ...</td>\n",
       "      <td>MQNKKIAVIFGGNSTEYEVSLQSASAVFENINTNKFDIIPIGITRS...</td>\n",
       "      <td>104.3</td>\n",
       "      <td>gnl|BL_ORD_ID|1071|hsp_num:0</td>\n",
       "      <td>1157.0</td>\n",
       "      <td>Null</td>\n",
       "      <td>Null</td>\n",
       "      <td>Shigella flexneri</td>\n",
       "      <td>Null</td>\n",
       "    </tr>\n",
       "    <tr>\n",
       "      <th>42</th>\n",
       "      <td>NCTC2</td>\n",
       "      <td>Shigella flexneri</td>\n",
       "      <td>1</td>\n",
       "      <td>1920</td>\n",
       "      <td>UGYS01000001.1_242 # 250945 # 252318 # -1 # ID...</td>\n",
       "      <td>UGYS01000001.1_242</td>\n",
       "      <td>250945.0</td>\n",
       "      <td>252318.0</td>\n",
       "      <td>-</td>\n",
       "      <td>Perfect</td>\n",
       "      <td>...</td>\n",
       "      <td>ATGATAGGCAGCTTAACCGCGCGCATCTTCGCCATCTTCTGGCTGA...</td>\n",
       "      <td>MIGSLTARIFAIFWLTLALVLMLVLMLPKLDSRQMTELLDSEQRQG...</td>\n",
       "      <td>MIGSLTARIFAIFWLTLALVLMLVLMLPKLDSRQMTELLDSEQRQG...</td>\n",
       "      <td>100.0</td>\n",
       "      <td>gnl|BL_ORD_ID|131|hsp_num:0</td>\n",
       "      <td>152.0</td>\n",
       "      <td>Null</td>\n",
       "      <td>Null</td>\n",
       "      <td>Shigella flexneri</td>\n",
       "      <td>Null</td>\n",
       "    </tr>\n",
       "    <tr>\n",
       "      <th>86</th>\n",
       "      <td>NCTC5</td>\n",
       "      <td>Shigella flexneri</td>\n",
       "      <td>1</td>\n",
       "      <td>1919</td>\n",
       "      <td>UGYU01000001.1_273 # 260205 # 260570 # 1 # ID=...</td>\n",
       "      <td>UGYU01000001.1_273</td>\n",
       "      <td>260205.0</td>\n",
       "      <td>260570.0</td>\n",
       "      <td>+</td>\n",
       "      <td>Strict</td>\n",
       "      <td>...</td>\n",
       "      <td>ATGTATATTTATTGGATTTTATTAGGTCTGGCTATTGCTACAGAAA...</td>\n",
       "      <td>MYIYWILLGLAIATEITGTLSMKWASVSEGNGGFILMLVMISLSYI...</td>\n",
       "      <td>MFYWILLALAIIAEITGTLSMKWASVSGGHTGFILMLAMIALSYIF...</td>\n",
       "      <td>100.83</td>\n",
       "      <td>gnl|BL_ORD_ID|2727|hsp_num:0</td>\n",
       "      <td>3283.0</td>\n",
       "      <td>Null</td>\n",
       "      <td>Null</td>\n",
       "      <td>Shigella flexneri</td>\n",
       "      <td>Null</td>\n",
       "    </tr>\n",
       "    <tr>\n",
       "      <th>130</th>\n",
       "      <td>NCTC30</td>\n",
       "      <td>Vibrio cholerae non 0:1</td>\n",
       "      <td>1</td>\n",
       "      <td>1916</td>\n",
       "      <td>ENA|LS997867|LS997867.1_207 # 228777 # 229409 ...</td>\n",
       "      <td>ENA|LS997867|LS997867.1_207</td>\n",
       "      <td>228777.0</td>\n",
       "      <td>229409.0</td>\n",
       "      <td>-</td>\n",
       "      <td>Strict</td>\n",
       "      <td>...</td>\n",
       "      <td>ATGGTTCTAGGTAAACCTCAAACCGATCCAACACTAGAGTGGTTTC...</td>\n",
       "      <td>MVLGKPQTDPTLEWFLSHCHIHKYPSKSTLIHAGEKAETLYYIVKG...</td>\n",
       "      <td>MVLGKPQTDPTLEWFLSHCHIHKYPSKSKLIHQGEKAETLYYIVKG...</td>\n",
       "      <td>100.0</td>\n",
       "      <td>gnl|BL_ORD_ID|803|hsp_num:0</td>\n",
       "      <td>869.0</td>\n",
       "      <td>Null</td>\n",
       "      <td>Null</td>\n",
       "      <td>Vibrio cholerae non 0:1</td>\n",
       "      <td>Null</td>\n",
       "    </tr>\n",
       "    <tr>\n",
       "      <th>136</th>\n",
       "      <td>NCTC60</td>\n",
       "      <td>Proteus mirabilis</td>\n",
       "      <td>1</td>\n",
       "      <td>1935</td>\n",
       "      <td>UATP01000004.1_7 # 13565 # 15103 # -1 # ID=1_7...</td>\n",
       "      <td>UATP01000004.1_7</td>\n",
       "      <td>13565.0</td>\n",
       "      <td>15103.0</td>\n",
       "      <td>-</td>\n",
       "      <td>Strict</td>\n",
       "      <td>...</td>\n",
       "      <td>ATGATAAAGCGAGGTGTAAAGGTGATTAAAGAACCCTTACAAGGAG...</td>\n",
       "      <td>MIKRGVKVIKEPLQGGKLAIMTIALALATFMQVLDSTIANVAIPTI...</td>\n",
       "      <td>MQQQKPLEGAQLVIMTIALSLATFMQVLDSTIANVAIPTIAGNLGS...</td>\n",
       "      <td>100.0</td>\n",
       "      <td>gnl|BL_ORD_ID|2740|hsp_num:0</td>\n",
       "      <td>3299.0</td>\n",
       "      <td>Null</td>\n",
       "      <td>Null</td>\n",
       "      <td>Proteus mirabilis</td>\n",
       "      <td>Null</td>\n",
       "    </tr>\n",
       "    <tr>\n",
       "      <th>...</th>\n",
       "      <td>...</td>\n",
       "      <td>...</td>\n",
       "      <td>...</td>\n",
       "      <td>...</td>\n",
       "      <td>...</td>\n",
       "      <td>...</td>\n",
       "      <td>...</td>\n",
       "      <td>...</td>\n",
       "      <td>...</td>\n",
       "      <td>...</td>\n",
       "      <td>...</td>\n",
       "      <td>...</td>\n",
       "      <td>...</td>\n",
       "      <td>...</td>\n",
       "      <td>...</td>\n",
       "      <td>...</td>\n",
       "      <td>...</td>\n",
       "      <td>...</td>\n",
       "      <td>...</td>\n",
       "      <td>...</td>\n",
       "      <td>...</td>\n",
       "    </tr>\n",
       "    <tr>\n",
       "      <th>31546</th>\n",
       "      <td>NCTC13923</td>\n",
       "      <td>Enterococcus faecium</td>\n",
       "      <td>1</td>\n",
       "      <td>2013</td>\n",
       "      <td>UARO01000068.1_42 # 41834 # 43171 # 1 # ID=1_4...</td>\n",
       "      <td>UARO01000068.1_42</td>\n",
       "      <td>41885.0</td>\n",
       "      <td>43171.0</td>\n",
       "      <td>+</td>\n",
       "      <td>Perfect</td>\n",
       "      <td>...</td>\n",
       "      <td>ATGGAAAATGAACAGTCGGTCGTTTTAACGAATTGGAAGAGAAATT...</td>\n",
       "      <td>MENEQSVVLTNWKRNYLFFLSGQFLSGITSMVVQYAIIWYLTRETG...</td>\n",
       "      <td>MENEQSVVLTNWKRNYLFFLSGQFLSGITSMVVQYAIIWYLTRETG...</td>\n",
       "      <td>103.97</td>\n",
       "      <td>gnl|BL_ORD_ID|2194|hsp_num:0</td>\n",
       "      <td>2426.0</td>\n",
       "      <td>True</td>\n",
       "      <td>possible complete gene, reference contained wi...</td>\n",
       "      <td>Enterococcus faecium</td>\n",
       "      <td>Null</td>\n",
       "    </tr>\n",
       "    <tr>\n",
       "      <th>31565</th>\n",
       "      <td>NCTC13924</td>\n",
       "      <td>Staphylococcus epidermidis</td>\n",
       "      <td>1</td>\n",
       "      <td>2013</td>\n",
       "      <td>ENA|LR134536|LR134536.1_21 # 15520 # 17526 # -...</td>\n",
       "      <td>ENA|LR134536|LR134536.1_21</td>\n",
       "      <td>15520.0</td>\n",
       "      <td>17526.0</td>\n",
       "      <td>-</td>\n",
       "      <td>Strict</td>\n",
       "      <td>...</td>\n",
       "      <td>ATGAAAAAGATAAAAATTGTTCCACTTATTTTAATAGTTGTAGTTG...</td>\n",
       "      <td>MKKIKIVPLILIVVVVGFGIYFYASKDKEINNTIDAIEDKNFKQVY...</td>\n",
       "      <td>MKKIKIVPLILIVVVVGFGIYFYASKDKEINNTIDAIEDKNFKQVY...</td>\n",
       "      <td>100.0</td>\n",
       "      <td>gnl|BL_ORD_ID|1218|hsp_num:0</td>\n",
       "      <td>1321.0</td>\n",
       "      <td>Null</td>\n",
       "      <td>Null</td>\n",
       "      <td>Staphylococcus epidermidis</td>\n",
       "      <td>Null</td>\n",
       "    </tr>\n",
       "    <tr>\n",
       "      <th>31579</th>\n",
       "      <td>NCTC13936</td>\n",
       "      <td>Listeria booriae</td>\n",
       "      <td>1</td>\n",
       "      <td>2015</td>\n",
       "      <td>UGPF01000002.1_488 # 505194 # 506024 # -1 # ID...</td>\n",
       "      <td>UGPF01000002.1_488</td>\n",
       "      <td>505194.0</td>\n",
       "      <td>506024.0</td>\n",
       "      <td>-</td>\n",
       "      <td>Strict</td>\n",
       "      <td>...</td>\n",
       "      <td>ATGATGCATTTTATTTCATTCATGATTGCCCTTAGTTTGTCGGGGT...</td>\n",
       "      <td>MMHFISFMIALSLSGYHTAADYVQGDINPEAQTQTAANTEQTSGSS...</td>\n",
       "      <td>MEKSNYHSNVNHHKRHMKQSGEKRAFLWAFIISFTVCTLFLGWRLV...</td>\n",
       "      <td>102.99</td>\n",
       "      <td>gnl|BL_ORD_ID|602|hsp_num:0</td>\n",
       "      <td>556.0</td>\n",
       "      <td>Null</td>\n",
       "      <td>Null</td>\n",
       "      <td>Listeria booriae</td>\n",
       "      <td>Null</td>\n",
       "    </tr>\n",
       "    <tr>\n",
       "      <th>31585</th>\n",
       "      <td>NCTC13940</td>\n",
       "      <td>Listeria fleischmannii subsp. fleischmannii</td>\n",
       "      <td>1</td>\n",
       "      <td>2006</td>\n",
       "      <td>UAWT01000043.1_22 # 20996 # 22393 # 1 # ID=1_2...</td>\n",
       "      <td>UAWT01000043.1_22</td>\n",
       "      <td>20996.0</td>\n",
       "      <td>22393.0</td>\n",
       "      <td>+</td>\n",
       "      <td>Strict</td>\n",
       "      <td>...</td>\n",
       "      <td>ATGACAACTACTGCCTATAAAGGAACAAATAAACTTATTGTTGGGA...</td>\n",
       "      <td>MTTTAYKGTNKLIVGIVFGVITFWLFAQSMVNIVPDVQSDLGISSD...</td>\n",
       "      <td>MNETYRGGNKLILGIVLGVITFWLFAQSLVNVVPNLQQSFGADMGT...</td>\n",
       "      <td>100.65</td>\n",
       "      <td>gnl|BL_ORD_ID|4663|hsp_num:0</td>\n",
       "      <td>5726.0</td>\n",
       "      <td>Null</td>\n",
       "      <td>Null</td>\n",
       "      <td>Listeria fleischmannii</td>\n",
       "      <td>fleischmannii</td>\n",
       "    </tr>\n",
       "    <tr>\n",
       "      <th>31588</th>\n",
       "      <td>NCTC14382</td>\n",
       "      <td>Yersinia canariae</td>\n",
       "      <td>1</td>\n",
       "      <td>2018</td>\n",
       "      <td>ENA|CP043727|CP043727.1_933 # 1058017 # 105820...</td>\n",
       "      <td>ENA|CP043727|CP043727.1_933</td>\n",
       "      <td>1058017.0</td>\n",
       "      <td>1058202.0</td>\n",
       "      <td>+</td>\n",
       "      <td>Strict</td>\n",
       "      <td>...</td>\n",
       "      <td>ATGCTTATTCTGACTCGTCGAGTTGGTGAAACACTCATGATTGGCG...</td>\n",
       "      <td>MLILTRRVGETLMIGDEVTVTVLGVKGNQVRIGVNAPKEVSVHREE...</td>\n",
       "      <td>MLILTRRVGETLMVGDDVTVTVLGVKGNQVRIGVNAPKEVAVHREE...</td>\n",
       "      <td>100.0</td>\n",
       "      <td>gnl|BL_ORD_ID|2800|hsp_num:0</td>\n",
       "      <td>3807.0</td>\n",
       "      <td>Null</td>\n",
       "      <td>Null</td>\n",
       "      <td>Yersinia canariae</td>\n",
       "      <td>Null</td>\n",
       "    </tr>\n",
       "  </tbody>\n",
       "</table>\n",
       "<p>1906 rows × 31 columns</p>\n",
       "</div>"
      ],
      "text/plain": [
       "      Accession_Number                                       Strain  \\\n",
       "0                NCTC1                            Shigella flexneri   \n",
       "42               NCTC2                            Shigella flexneri   \n",
       "86               NCTC5                            Shigella flexneri   \n",
       "130             NCTC30                      Vibrio cholerae non 0:1   \n",
       "136             NCTC60                            Proteus mirabilis   \n",
       "...                ...                                          ...   \n",
       "31546        NCTC13923                         Enterococcus faecium   \n",
       "31565        NCTC13924                   Staphylococcus epidermidis   \n",
       "31579        NCTC13936                             Listeria booriae   \n",
       "31585        NCTC13940  Listeria fleischmannii subsp. fleischmannii   \n",
       "31588        NCTC14382                            Yersinia canariae   \n",
       "\n",
       "       Assembly_No  Year_Cultured  \\\n",
       "0                1           1914   \n",
       "42               1           1920   \n",
       "86               1           1919   \n",
       "130              1           1916   \n",
       "136              1           1935   \n",
       "...            ...            ...   \n",
       "31546            1           2013   \n",
       "31565            1           2013   \n",
       "31579            1           2015   \n",
       "31585            1           2006   \n",
       "31588            1           2018   \n",
       "\n",
       "                                                  ORF_ID  \\\n",
       "0      ENA|LM651928|LM651928.1_231 # 254564 # 255658 ...   \n",
       "42     UGYS01000001.1_242 # 250945 # 252318 # -1 # ID...   \n",
       "86     UGYU01000001.1_273 # 260205 # 260570 # 1 # ID=...   \n",
       "130    ENA|LS997867|LS997867.1_207 # 228777 # 229409 ...   \n",
       "136    UATP01000004.1_7 # 13565 # 15103 # -1 # ID=1_7...   \n",
       "...                                                  ...   \n",
       "31546  UARO01000068.1_42 # 41834 # 43171 # 1 # ID=1_4...   \n",
       "31565  ENA|LR134536|LR134536.1_21 # 15520 # 17526 # -...   \n",
       "31579  UGPF01000002.1_488 # 505194 # 506024 # -1 # ID...   \n",
       "31585  UAWT01000043.1_22 # 20996 # 22393 # 1 # ID=1_2...   \n",
       "31588  ENA|CP043727|CP043727.1_933 # 1058017 # 105820...   \n",
       "\n",
       "                            Contig      Start       Stop Orientation  Cut_Off  \\\n",
       "0      ENA|LM651928|LM651928.1_231   254564.0   255658.0           +   Strict   \n",
       "42              UGYS01000001.1_242   250945.0   252318.0           -  Perfect   \n",
       "86              UGYU01000001.1_273   260205.0   260570.0           +   Strict   \n",
       "130    ENA|LS997867|LS997867.1_207   228777.0   229409.0           -   Strict   \n",
       "136               UATP01000004.1_7    13565.0    15103.0           -   Strict   \n",
       "...                            ...        ...        ...         ...      ...   \n",
       "31546            UARO01000068.1_42    41885.0    43171.0           +  Perfect   \n",
       "31565   ENA|LR134536|LR134536.1_21    15520.0    17526.0           -   Strict   \n",
       "31579           UGPF01000002.1_488   505194.0   506024.0           -   Strict   \n",
       "31585            UAWT01000043.1_22    20996.0    22393.0           +   Strict   \n",
       "31588  ENA|CP043727|CP043727.1_933  1058017.0  1058202.0           +   Strict   \n",
       "\n",
       "       ...                                      Predicted_DNA  \\\n",
       "0      ...  ATGGAAAAACTGCGGGTAGGAATCGTTTTTGGTGGTAAATCAGCGG...   \n",
       "42     ...  ATGATAGGCAGCTTAACCGCGCGCATCTTCGCCATCTTCTGGCTGA...   \n",
       "86     ...  ATGTATATTTATTGGATTTTATTAGGTCTGGCTATTGCTACAGAAA...   \n",
       "130    ...  ATGGTTCTAGGTAAACCTCAAACCGATCCAACACTAGAGTGGTTTC...   \n",
       "136    ...  ATGATAAAGCGAGGTGTAAAGGTGATTAAAGAACCCTTACAAGGAG...   \n",
       "...    ...                                                ...   \n",
       "31546  ...  ATGGAAAATGAACAGTCGGTCGTTTTAACGAATTGGAAGAGAAATT...   \n",
       "31565  ...  ATGAAAAAGATAAAAATTGTTCCACTTATTTTAATAGTTGTAGTTG...   \n",
       "31579  ...  ATGATGCATTTTATTTCATTCATGATTGCCCTTAGTTTGTCGGGGT...   \n",
       "31585  ...  ATGACAACTACTGCCTATAAAGGAACAAATAAACTTATTGTTGGGA...   \n",
       "31588  ...  ATGCTTATTCTGACTCGTCGAGTTGGTGAAACACTCATGATTGGCG...   \n",
       "\n",
       "                                       Predicted_Protein  \\\n",
       "0      MEKLRVGIVFGGKSAEHEVSLQSAKNIVDAIDKSRFDVVLLGIDKQ...   \n",
       "42     MIGSLTARIFAIFWLTLALVLMLVLMLPKLDSRQMTELLDSEQRQG...   \n",
       "86     MYIYWILLGLAIATEITGTLSMKWASVSEGNGGFILMLVMISLSYI...   \n",
       "130    MVLGKPQTDPTLEWFLSHCHIHKYPSKSTLIHAGEKAETLYYIVKG...   \n",
       "136    MIKRGVKVIKEPLQGGKLAIMTIALALATFMQVLDSTIANVAIPTI...   \n",
       "...                                                  ...   \n",
       "31546  MENEQSVVLTNWKRNYLFFLSGQFLSGITSMVVQYAIIWYLTRETG...   \n",
       "31565  MKKIKIVPLILIVVVVGFGIYFYASKDKEINNTIDAIEDKNFKQVY...   \n",
       "31579  MMHFISFMIALSLSGYHTAADYVQGDINPEAQTQTAANTEQTSGSS...   \n",
       "31585  MTTTAYKGTNKLIVGIVFGVITFWLFAQSMVNIVPDVQSDLGISSD...   \n",
       "31588  MLILTRRVGETLMIGDEVTVTVLGVKGNQVRIGVNAPKEVSVHREE...   \n",
       "\n",
       "                                   CARD_Protein_Sequence  \\\n",
       "0      MQNKKIAVIFGGNSTEYEVSLQSASAVFENINTNKFDIIPIGITRS...   \n",
       "42     MIGSLTARIFAIFWLTLALVLMLVLMLPKLDSRQMTELLDSEQRQG...   \n",
       "86     MFYWILLALAIIAEITGTLSMKWASVSGGHTGFILMLAMIALSYIF...   \n",
       "130    MVLGKPQTDPTLEWFLSHCHIHKYPSKSKLIHQGEKAETLYYIVKG...   \n",
       "136    MQQQKPLEGAQLVIMTIALSLATFMQVLDSTIANVAIPTIAGNLGS...   \n",
       "...                                                  ...   \n",
       "31546  MENEQSVVLTNWKRNYLFFLSGQFLSGITSMVVQYAIIWYLTRETG...   \n",
       "31565  MKKIKIVPLILIVVVVGFGIYFYASKDKEINNTIDAIEDKNFKQVY...   \n",
       "31579  MEKSNYHSNVNHHKRHMKQSGEKRAFLWAFIISFTVCTLFLGWRLV...   \n",
       "31585  MNETYRGGNKLILGIVLGVITFWLFAQSLVNVVPNLQQSFGADMGT...   \n",
       "31588  MLILTRRVGETLMVGDDVTVTVLGVKGNQVRIGVNAPKEVAVHREE...   \n",
       "\n",
       "      Percentage Length of Reference Sequence                            ID  \\\n",
       "0                                       104.3  gnl|BL_ORD_ID|1071|hsp_num:0   \n",
       "42                                      100.0   gnl|BL_ORD_ID|131|hsp_num:0   \n",
       "86                                     100.83  gnl|BL_ORD_ID|2727|hsp_num:0   \n",
       "130                                     100.0   gnl|BL_ORD_ID|803|hsp_num:0   \n",
       "136                                     100.0  gnl|BL_ORD_ID|2740|hsp_num:0   \n",
       "...                                       ...                           ...   \n",
       "31546                                  103.97  gnl|BL_ORD_ID|2194|hsp_num:0   \n",
       "31565                                   100.0  gnl|BL_ORD_ID|1218|hsp_num:0   \n",
       "31579                                  102.99   gnl|BL_ORD_ID|602|hsp_num:0   \n",
       "31585                                  100.65  gnl|BL_ORD_ID|4663|hsp_num:0   \n",
       "31588                                   100.0  gnl|BL_ORD_ID|2800|hsp_num:0   \n",
       "\n",
       "      Model_ID Nudged                                               Note  \\\n",
       "0       1157.0   Null                                               Null   \n",
       "42       152.0   Null                                               Null   \n",
       "86      3283.0   Null                                               Null   \n",
       "130      869.0   Null                                               Null   \n",
       "136     3299.0   Null                                               Null   \n",
       "...        ...    ...                                                ...   \n",
       "31546   2426.0   True  possible complete gene, reference contained wi...   \n",
       "31565   1321.0   Null                                               Null   \n",
       "31579    556.0   Null                                               Null   \n",
       "31585   5726.0   Null                                               Null   \n",
       "31588   3807.0   Null                                               Null   \n",
       "\n",
       "                          Species      Subspecies  \n",
       "0               Shigella flexneri            Null  \n",
       "42              Shigella flexneri            Null  \n",
       "86              Shigella flexneri            Null  \n",
       "130       Vibrio cholerae non 0:1            Null  \n",
       "136             Proteus mirabilis            Null  \n",
       "...                           ...             ...  \n",
       "31546        Enterococcus faecium            Null  \n",
       "31565  Staphylococcus epidermidis            Null  \n",
       "31579            Listeria booriae            Null  \n",
       "31585     Listeria fleischmannii    fleischmannii  \n",
       "31588           Yersinia canariae            Null  \n",
       "\n",
       "[1906 rows x 31 columns]"
      ]
     },
     "execution_count": 8,
     "metadata": {},
     "output_type": "execute_result"
    }
   ],
   "source": [
    "# this drops all but first line of every uq acc. number, useful for strain specific info\n",
    "singleaccdf = df.drop_duplicates(subset=['Accession_Number'])\n",
    "singleaccdf"
   ]
  },
  {
   "cell_type": "code",
   "execution_count": 9,
   "id": "a6f1de1f-c34c-4572-a275-e0168543eb21",
   "metadata": {},
   "outputs": [
    {
     "data": {
      "application/vnd.plotly.v1+json": {
       "config": {
        "plotlyServerURL": "https://plot.ly"
       },
       "data": [
        {
         "alignmentgroup": "True",
         "bingroup": "x",
         "hovertemplate": "Year Cultured=%{x}<br>count=%{y}<extra></extra>",
         "legendgroup": "",
         "marker": {
          "color": "#636efa",
          "pattern": {
           "shape": ""
          }
         },
         "name": "",
         "offsetgroup": "",
         "orientation": "v",
         "showlegend": false,
         "type": "histogram",
         "x": [
          1914,
          1920,
          1919,
          1916,
          1935,
          1911,
          1920,
          1917,
          1920,
          1920,
          1915,
          1920,
          1920,
          1906,
          1906,
          1920,
          1914,
          1918,
          1920,
          1920,
          1916,
          1911,
          1912,
          1919,
          1916,
          1919,
          1920,
          1920,
          1920,
          1917,
          1917,
          1920,
          1919,
          1919,
          1919,
          1920,
          1920,
          1920,
          1921,
          1920,
          1921,
          1921,
          1921,
          1920,
          1917,
          1919,
          1921,
          1921,
          1921,
          1922,
          1922,
          1923,
          1922,
          1922,
          1924,
          1924,
          1937,
          1923,
          1922,
          1925,
          1926,
          1926,
          1927,
          1916,
          1928,
          1916,
          1928,
          1928,
          1919,
          1929,
          1929,
          1928,
          1929,
          1929,
          1920,
          1930,
          1930,
          1930,
          1930,
          1930,
          1930,
          1936,
          1931,
          1931,
          1931,
          1932,
          1930,
          1932,
          1924,
          1931,
          1932,
          1932,
          1932,
          1927,
          1919,
          1926,
          1921,
          1925,
          1932,
          1933,
          1932,
          1930,
          1932,
          1933,
          1921,
          1931,
          1931,
          1931,
          1933,
          1933,
          1933,
          1933,
          1932,
          1925,
          1931,
          1934,
          1935,
          1932,
          1932,
          1932,
          1932,
          1932,
          1932,
          1933,
          1933,
          1935,
          1935,
          1935,
          1935,
          1963,
          1935,
          1932,
          1936,
          1934,
          1934,
          1934,
          1931,
          1934,
          1934,
          1934,
          1934,
          1934,
          1934,
          1934,
          1937,
          1937,
          1937,
          1927,
          1938,
          1938,
          1938,
          1938,
          1938,
          1938,
          1931,
          1938,
          1938,
          1938,
          1938,
          1938,
          1938,
          1933,
          1938,
          1937,
          1934,
          1920,
          1933,
          1939,
          1939,
          1926,
          1939,
          1930,
          1930,
          1936,
          1937,
          1939,
          1939,
          1939,
          1934,
          1937,
          1937,
          1934,
          1938,
          1938,
          1938,
          1936,
          1938,
          1939,
          1939,
          1939,
          1939,
          1939,
          1939,
          1939,
          1937,
          1938,
          1931,
          1940,
          1940,
          1940,
          1940,
          1940,
          1940,
          1937,
          1940,
          1941,
          1941,
          1941,
          1938,
          1938,
          1941,
          1941,
          1932,
          1941,
          1941,
          1941,
          1941,
          1941,
          1941,
          1941,
          1942,
          1905,
          1942,
          1942,
          1942,
          1942,
          1942,
          1942,
          1943,
          1943,
          1943,
          1944,
          1943,
          1942,
          1943,
          1944,
          1943,
          1943,
          1941,
          1944,
          1944,
          2014,
          1945,
          1945,
          1945,
          1945,
          1944,
          1946,
          1946,
          1945,
          1958,
          1946,
          1946,
          1945,
          1946,
          1946,
          1946,
          1946,
          1946,
          1946,
          1947,
          1947,
          1947,
          1947,
          1935,
          1935,
          2014,
          1965,
          1947,
          1947,
          1947,
          1947,
          1947,
          1947,
          1948,
          1946,
          1946,
          1947,
          1948,
          1948,
          1948,
          1948,
          1948,
          1948,
          1936,
          1948,
          1948,
          1948,
          1948,
          1947,
          1948,
          1948,
          1948,
          1948,
          1947,
          1948,
          1948,
          1948,
          1948,
          1948,
          1948,
          1948,
          1948,
          1948,
          1948,
          1948,
          1948,
          1948,
          1944,
          1948,
          1948,
          1948,
          1948,
          1948,
          1948,
          1948,
          1948,
          1948,
          1948,
          1948,
          1948,
          1948,
          1948,
          1946,
          1949,
          1949,
          1949,
          1949,
          1949,
          1949,
          1935,
          1938,
          1949,
          1949,
          1949,
          1947,
          1946,
          1948,
          1949,
          1949,
          1949,
          1944,
          1944,
          1949,
          1949,
          1949,
          1949,
          1949,
          1949,
          1983,
          1983,
          1949,
          1949,
          1949,
          1949,
          1949,
          1949,
          1949,
          1949,
          1949,
          1949,
          1949,
          1949,
          1949,
          1949,
          1949,
          1949,
          1949,
          1950,
          1932,
          1932,
          1946,
          1932,
          1949,
          1943,
          1950,
          1950,
          1950,
          1950,
          1950,
          1950,
          1950,
          1950,
          1950,
          1950,
          1949,
          1950,
          1937,
          1950,
          1950,
          1950,
          1950,
          1950,
          1950,
          1950,
          1950,
          1950,
          1949,
          1932,
          1932,
          1932,
          1932,
          1932,
          1932,
          1932,
          1932,
          1935,
          1944,
          1950,
          1926,
          1943,
          1950,
          1951,
          1942,
          1942,
          1942,
          1951,
          1944,
          1927,
          1934,
          1951,
          1953,
          1952,
          1953,
          1952,
          1952,
          1950,
          1947,
          1952,
          1952,
          1952,
          1952,
          1952,
          1952,
          1952,
          1952,
          1952,
          1952,
          1953,
          1953,
          1943,
          1918,
          1935,
          1931,
          1944,
          1936,
          1950,
          1935,
          1944,
          1934,
          1931,
          1950,
          1932,
          1943,
          1944,
          1935,
          1935,
          1950,
          1951,
          1951,
          1951,
          1944,
          1950,
          1952,
          1951,
          1918,
          1917,
          1952,
          1934,
          1947,
          1922,
          1953,
          1951,
          1946,
          1951,
          1930,
          1940,
          1939,
          1951,
          1951,
          1951,
          1951,
          1951,
          1949,
          1950,
          1930,
          1950,
          1950,
          1952,
          1951,
          1953,
          1935,
          1935,
          1935,
          1944,
          1953,
          1939,
          1953,
          1953,
          1953,
          1952,
          1942,
          1954,
          1954,
          1952,
          1954,
          1947,
          1943,
          1949,
          1949,
          1949,
          1948,
          1951,
          1951,
          1951,
          1953,
          1950,
          1952,
          1937,
          1950,
          1950,
          1951,
          1951,
          1951,
          1938,
          1951,
          1951,
          1951,
          1951,
          1951,
          1951,
          1951,
          1951,
          1951,
          1951,
          1950,
          1951,
          1951,
          1953,
          1950,
          1954,
          1951,
          1950,
          1953,
          1953,
          1951,
          1951,
          1951,
          1952,
          1952,
          1952,
          1952,
          1952,
          1953,
          1946,
          1952,
          1976,
          1952,
          1976,
          1952,
          1952,
          1952,
          1952,
          1976,
          1952,
          1976,
          1952,
          1952,
          1952,
          1952,
          1952,
          1976,
          1952,
          1952,
          1952,
          1952,
          1976,
          1952,
          1952,
          1952,
          1952,
          1952,
          1952,
          1952,
          1952,
          1952,
          1952,
          1952,
          1952,
          1952,
          1952,
          1952,
          1976,
          1952,
          1952,
          1952,
          1952,
          1952,
          1952,
          1952,
          1976,
          1952,
          1952,
          1952,
          1952,
          1952,
          1952,
          1952,
          1952,
          1952,
          1952,
          1952,
          1976,
          1976,
          1952,
          1952,
          1952,
          1952,
          1952,
          1952,
          1976,
          1952,
          1952,
          1952,
          1952,
          1952,
          1952,
          1952,
          1952,
          1952,
          1952,
          1952,
          1952,
          1952,
          1952,
          1952,
          1952,
          1952,
          1952,
          1952,
          1952,
          1952,
          1952,
          1952,
          1952,
          1952,
          1952,
          1952,
          1952,
          1952,
          1952,
          1952,
          1952,
          1952,
          1952,
          1952,
          1952,
          1952,
          1952,
          1935,
          1933,
          1952,
          1952,
          1952,
          1952,
          1952,
          1952,
          1952,
          1952,
          1952,
          1952,
          1952,
          1952,
          1952,
          1952,
          1952,
          1952,
          1952,
          1952,
          1952,
          1952,
          1952,
          1952,
          1952,
          1952,
          1952,
          1952,
          1952,
          1952,
          1952,
          1952,
          1952,
          1952,
          1952,
          1952,
          1952,
          1952,
          1952,
          1952,
          1952,
          1952,
          1952,
          1952,
          1952,
          1953,
          1953,
          1953,
          1953,
          1953,
          1953,
          1953,
          1953,
          1953,
          1953,
          1951,
          1954,
          1954,
          1955,
          1955,
          1955,
          1955,
          1952,
          1956,
          1956,
          1928,
          1928,
          1951,
          1955,
          1953,
          1953,
          1947,
          1954,
          1953,
          1954,
          1925,
          1954,
          1954,
          1954,
          1954,
          1954,
          1954,
          1954,
          1954,
          1954,
          1954,
          1954,
          1954,
          1954,
          1954,
          1954,
          1954,
          1954,
          1954,
          1954,
          1953,
          1954,
          1954,
          1954,
          1954,
          1955,
          1955,
          1955,
          1955,
          1955,
          1955,
          1955,
          1955,
          1955,
          1955,
          1955,
          1955,
          1955,
          1955,
          1955,
          1955,
          1955,
          1955,
          1955,
          1953,
          1955,
          1955,
          1953,
          1946,
          1955,
          1955,
          1955,
          1955,
          1955,
          1955,
          1955,
          1955,
          1948,
          1956,
          1955,
          1955,
          1955,
          1955,
          1955,
          1955,
          1955,
          1939,
          1953,
          1955,
          1952,
          1952,
          1955,
          1955,
          1955,
          1955,
          1955,
          1955,
          1956,
          1946,
          1952,
          1956,
          1955,
          1927,
          1955,
          1956,
          1953,
          1956,
          1956,
          1956,
          1954,
          1954,
          1954,
          1953,
          1955,
          1955,
          1956,
          1956,
          1956,
          1955,
          1957,
          1956,
          2014,
          1957,
          1957,
          1976,
          1976,
          1957,
          1957,
          1957,
          1976,
          1932,
          1957,
          1958,
          1958,
          1958,
          1958,
          1958,
          1937,
          1957,
          1959,
          1959,
          1951,
          1959,
          1958,
          1957,
          1957,
          1959,
          1959,
          1959,
          1957,
          1953,
          1976,
          1960,
          1960,
          1953,
          1960,
          1964,
          1956,
          1960,
          1941,
          1956,
          1967,
          1957,
          1955,
          1947,
          1964,
          1969,
          1970,
          1968,
          1955,
          1951,
          1963,
          1969,
          1936,
          1972,
          1951,
          1968,
          1975,
          1974,
          1971,
          1969,
          1976,
          1964,
          1942,
          1976,
          1949,
          1977,
          1973,
          1973,
          1977,
          1969,
          1981,
          1981,
          1981,
          1972,
          1984,
          1984,
          1945,
          1959,
          1959,
          1960,
          1957,
          1960,
          1960,
          1960,
          1960,
          1960,
          1960,
          1961,
          1961,
          1961,
          1961,
          1961,
          1961,
          1961,
          1942,
          1958,
          1959,
          1948,
          1960,
          1961,
          1961,
          1961,
          1961,
          1961,
          1958,
          1958,
          1958,
          1961,
          1961,
          1952,
          1952,
          1962,
          1962,
          1962,
          1961,
          1961,
          1962,
          1953,
          1962,
          1962,
          1962,
          1962,
          1962,
          1960,
          1962,
          1962,
          1962,
          1962,
          1962,
          1978,
          1962,
          1960,
          1953,
          1962,
          1963,
          1963,
          1962,
          1963,
          1961,
          1961,
          1933,
          1901,
          1904,
          1944,
          1916,
          1963,
          1963,
          1963,
          1950,
          1963,
          1952,
          1924,
          1964,
          1954,
          1958,
          1947,
          1960,
          1961,
          1962,
          1964,
          1964,
          1964,
          1962,
          1964,
          1960,
          1964,
          1965,
          1965,
          1965,
          1965,
          1962,
          1960,
          1965,
          1947,
          1964,
          1965,
          1965,
          1965,
          1965,
          1960,
          1964,
          1948,
          1956,
          1924,
          1965,
          1958,
          1966,
          1960,
          1960,
          1965,
          1956,
          1959,
          1967,
          1965,
          1967,
          1957,
          1966,
          1957,
          1953,
          1957,
          1960,
          1966,
          1959,
          1961,
          1963,
          1960,
          1963,
          1967,
          1965,
          1967,
          1967,
          1967,
          1966,
          1967,
          1967,
          1990,
          1963,
          1966,
          1951,
          1952,
          1974,
          1942,
          1951,
          1954,
          1961,
          1961,
          1968,
          1970,
          1967,
          1956,
          2013,
          1954,
          1966,
          1968,
          1968,
          1967,
          1968,
          1967,
          1953,
          1965,
          1967,
          1966,
          1967,
          1960,
          1968,
          1968,
          1969,
          1969,
          1968,
          1940,
          1954,
          1969,
          1964,
          1969,
          1969,
          1969,
          1966,
          1969,
          1966,
          1969,
          1968,
          1967,
          1970,
          1969,
          1963,
          1959,
          1959,
          1954,
          1941,
          1956,
          1950,
          1932,
          1956,
          1970,
          1968,
          1968,
          1970,
          1970,
          1963,
          1965,
          1937,
          1970,
          1970,
          1967,
          1970,
          1964,
          1970,
          1970,
          1970,
          1970,
          1970,
          2014,
          1968,
          1970,
          1963,
          1970,
          1970,
          1950,
          1968,
          1976,
          1964,
          1971,
          1971,
          1971,
          1971,
          1971,
          1971,
          1971,
          1971,
          1968,
          1971,
          1971,
          1971,
          1971,
          1958,
          1971,
          1971,
          1971,
          1971,
          1971,
          1971,
          1971,
          1971,
          1971,
          1971,
          1971,
          1971,
          1971,
          1971,
          1968,
          1972,
          1972,
          1970,
          1972,
          1972,
          1972,
          1972,
          1972,
          1932,
          1957,
          1960,
          1938,
          1955,
          1966,
          1966,
          1972,
          1935,
          1958,
          1958,
          1957,
          1967,
          1967,
          1967,
          1967,
          1967,
          1967,
          1968,
          1969,
          1966,
          1972,
          1972,
          1983,
          1971,
          1972,
          1970,
          1970,
          1970,
          1950,
          1953,
          1970,
          1973,
          1964,
          1952,
          1967,
          1966,
          1973,
          1957,
          1957,
          1960,
          1971,
          1966,
          1966,
          1966,
          1958,
          1958,
          1967,
          1945,
          1947,
          1965,
          1973,
          1971,
          1974,
          1971,
          1971,
          1971,
          1971,
          1973,
          1973,
          1973,
          1969,
          1974,
          1974,
          1971,
          1973,
          1975,
          1975,
          1969,
          1975,
          1971,
          1972,
          1968,
          1975,
          1971,
          1970,
          1970,
          1970,
          1932,
          1975,
          1972,
          1975,
          1967,
          1975,
          1974,
          1976,
          1969,
          1973,
          1973,
          1976,
          1929,
          1974,
          1935,
          1957,
          1975,
          1975,
          1975,
          1975,
          1975,
          1975,
          1976,
          1968,
          1976,
          1951,
          1959,
          1959,
          1964,
          1964,
          1976,
          1972,
          1972,
          1974,
          1974,
          1965,
          1974,
          1974,
          1960,
          1972,
          1976,
          1971,
          1974,
          1957,
          1976,
          1976,
          1976,
          1975,
          1972,
          1977,
          1977,
          1942,
          1942,
          1972,
          1972,
          1969,
          1972,
          1968,
          1968,
          1968,
          1977,
          1977,
          1966,
          1967,
          1960,
          1977,
          1977,
          1955,
          1971,
          1977,
          1977,
          1977,
          1977,
          1929,
          1974,
          1974,
          1978,
          1958,
          1955,
          1974,
          1980,
          1979,
          1979,
          1976,
          1957,
          1979,
          1976,
          1973,
          1974,
          1978,
          1969,
          1975,
          1974,
          1974,
          1979,
          1976,
          1976,
          1977,
          1981,
          1980,
          1980,
          1980,
          1980,
          1980,
          1980,
          1980,
          1963,
          1980,
          1980,
          1980,
          1979,
          1959,
          1978,
          1980,
          1968,
          1981,
          1976,
          1969,
          1975,
          1981,
          1971,
          1981,
          1979,
          1982,
          1982,
          1968,
          1983,
          1982,
          1977,
          1977,
          1981,
          1980,
          1957,
          1982,
          1957,
          1957,
          1957,
          1957,
          1957,
          1957,
          1960,
          1982,
          1977,
          1981,
          1980,
          1981,
          1980,
          1980,
          1980,
          1982,
          1982,
          1978,
          1982,
          1982,
          1980,
          1981,
          1960,
          1982,
          1982,
          1976,
          1981,
          1981,
          1978,
          1976,
          1983,
          1983,
          1982,
          1982,
          1982,
          1982,
          1983,
          1983,
          1983,
          1983,
          1984,
          1983,
          1983,
          1983,
          1983,
          1935,
          1983,
          1983,
          1983,
          1983,
          1983,
          1976,
          1983,
          1983,
          1984,
          1985,
          1985,
          1985,
          1985,
          1983,
          1983,
          1983,
          1983,
          1982,
          1982,
          1984,
          1981,
          1984,
          1984,
          1985,
          1984,
          1984,
          1984,
          1984,
          1977,
          1968,
          1984,
          1968,
          1983,
          1984,
          1984,
          1965,
          1965,
          1984,
          1963,
          1974,
          1963,
          1963,
          1983,
          1983,
          1980,
          1984,
          1950,
          1950,
          1985,
          1985,
          1984,
          1983,
          1984,
          1982,
          1984,
          1984,
          1984,
          1983,
          1982,
          1924,
          1978,
          1978,
          1982,
          1981,
          1984,
          1976,
          1975,
          1978,
          1978,
          1978,
          1978,
          1978,
          1978,
          1978,
          1978,
          1978,
          1978,
          1978,
          1978,
          1978,
          1978,
          1978,
          1978,
          1978,
          1978,
          1979,
          1984,
          1984,
          1980,
          1985,
          1985,
          1985,
          1980,
          1984,
          1986,
          1986,
          1985,
          1985,
          1983,
          1985,
          1986,
          1985,
          1985,
          1976,
          1986,
          1984,
          1984,
          1984,
          1972,
          1982,
          1985,
          1981,
          1979,
          1981,
          1981,
          1983,
          1981,
          1981,
          1985,
          1982,
          1983,
          1987,
          1971,
          1985,
          1964,
          1985,
          1986,
          1986,
          1986,
          1986,
          1988,
          1987,
          1987,
          1987,
          1987,
          1987,
          1979,
          1979,
          1973,
          1987,
          1986,
          1978,
          1986,
          1981,
          1975,
          1988,
          1974,
          1974,
          1974,
          1974,
          1974,
          1965,
          1967,
          1972,
          1972,
          1974,
          1975,
          1979,
          1972,
          1982,
          1976,
          1975,
          1980,
          1981,
          1975,
          1988,
          1987,
          1987,
          1987,
          1987,
          1975,
          1987,
          1983,
          1976,
          1976,
          1987,
          1987,
          1981,
          1982,
          1980,
          1981,
          1986,
          1981,
          1980,
          1985,
          1987,
          1985,
          1982,
          1977,
          1985,
          1984,
          1987,
          1988,
          1980,
          1979,
          1983,
          1981,
          1985,
          1985,
          1986,
          1986,
          1986,
          1983,
          1980,
          1985,
          1982,
          1967,
          1988,
          1988,
          1988,
          1986,
          1987,
          1988,
          1986,
          1985,
          1983,
          1983,
          1988,
          1986,
          1987,
          1987,
          1987,
          1986,
          1988,
          1988,
          1988,
          1988,
          1988,
          1984,
          1988,
          1980,
          1989,
          1989,
          1989,
          1988,
          1988,
          1988,
          1989,
          1989,
          1984,
          1989,
          1989,
          1989,
          1988,
          1988,
          1959,
          1977,
          1958,
          1976,
          1988,
          1988,
          1989,
          1989,
          1989,
          1984,
          1984,
          1984,
          1984,
          1986,
          1984,
          1984,
          1985,
          1985,
          1993,
          1993,
          1993,
          1973,
          1990,
          1989,
          1990,
          1985,
          1985,
          1985,
          1982,
          1982,
          1982,
          1982,
          1982,
          1983,
          1983,
          1989,
          1987,
          1988,
          1990,
          1990,
          1963,
          1960,
          1963,
          1991,
          1930,
          1989,
          1991,
          1981,
          1980,
          1989,
          1991,
          1986,
          1987,
          1992,
          1992,
          1992,
          1992,
          1992,
          1992,
          1992,
          1992,
          1992,
          1992,
          1992,
          1992,
          1991,
          1988,
          1990,
          1992,
          1992,
          1990,
          1991,
          1982,
          1981,
          1916,
          1993,
          1990,
          1991,
          1992,
          1993,
          1995,
          1995,
          1994,
          1991,
          1999,
          1985,
          1988,
          2003,
          1997,
          1999,
          1996,
          2004,
          2004,
          2004,
          2004,
          2003,
          2003,
          2008,
          2003,
          2008,
          2008,
          2008,
          2008,
          2003,
          2009,
          2009,
          2009,
          2006,
          2006,
          2006,
          2006,
          2006,
          1991,
          1992,
          1991,
          2016,
          2007,
          1984,
          2007,
          2005,
          2008,
          2011,
          2011,
          2012,
          1976,
          1985,
          1958,
          1975,
          2002,
          2012,
          2012,
          1937,
          1937,
          1940,
          1920,
          1933,
          1940,
          1941,
          1940,
          1940,
          1940,
          1941,
          1940,
          1940,
          1932,
          1940,
          1948,
          1947,
          1940,
          1955,
          1936,
          1984,
          1973,
          1993,
          2006,
          2010,
          2011,
          2012,
          2010,
          2010,
          2010,
          1999,
          1999,
          1980,
          2013,
          2013,
          2015,
          2012,
          2015,
          2014,
          2015,
          2015,
          2015,
          2015,
          2013,
          2015,
          2010,
          2015,
          2015,
          2015,
          2015,
          2015,
          2015,
          2012,
          2015,
          1974,
          1989,
          2004,
          1997,
          1990,
          1974,
          2007,
          2006,
          2002,
          1997,
          2015,
          2015,
          2015,
          2015,
          2015,
          2015,
          2015,
          2002,
          2003,
          2003,
          2012,
          2009,
          2010,
          1983,
          1991,
          1991,
          2006,
          1995,
          2010,
          2000,
          1992,
          2003,
          2009,
          1992,
          2004,
          1993,
          2013,
          2016,
          2015,
          2013,
          2013,
          2013,
          2015,
          2006,
          2018
         ],
         "xaxis": "x",
         "yaxis": "y"
        },
        {
         "alignmentgroup": "True",
         "hovertemplate": "Year Cultured=%{x}<extra></extra>",
         "legendgroup": "",
         "marker": {
          "color": "#636efa"
         },
         "name": "",
         "notched": true,
         "offsetgroup": "",
         "showlegend": false,
         "type": "box",
         "x": [
          1914,
          1920,
          1919,
          1916,
          1935,
          1911,
          1920,
          1917,
          1920,
          1920,
          1915,
          1920,
          1920,
          1906,
          1906,
          1920,
          1914,
          1918,
          1920,
          1920,
          1916,
          1911,
          1912,
          1919,
          1916,
          1919,
          1920,
          1920,
          1920,
          1917,
          1917,
          1920,
          1919,
          1919,
          1919,
          1920,
          1920,
          1920,
          1921,
          1920,
          1921,
          1921,
          1921,
          1920,
          1917,
          1919,
          1921,
          1921,
          1921,
          1922,
          1922,
          1923,
          1922,
          1922,
          1924,
          1924,
          1937,
          1923,
          1922,
          1925,
          1926,
          1926,
          1927,
          1916,
          1928,
          1916,
          1928,
          1928,
          1919,
          1929,
          1929,
          1928,
          1929,
          1929,
          1920,
          1930,
          1930,
          1930,
          1930,
          1930,
          1930,
          1936,
          1931,
          1931,
          1931,
          1932,
          1930,
          1932,
          1924,
          1931,
          1932,
          1932,
          1932,
          1927,
          1919,
          1926,
          1921,
          1925,
          1932,
          1933,
          1932,
          1930,
          1932,
          1933,
          1921,
          1931,
          1931,
          1931,
          1933,
          1933,
          1933,
          1933,
          1932,
          1925,
          1931,
          1934,
          1935,
          1932,
          1932,
          1932,
          1932,
          1932,
          1932,
          1933,
          1933,
          1935,
          1935,
          1935,
          1935,
          1963,
          1935,
          1932,
          1936,
          1934,
          1934,
          1934,
          1931,
          1934,
          1934,
          1934,
          1934,
          1934,
          1934,
          1934,
          1937,
          1937,
          1937,
          1927,
          1938,
          1938,
          1938,
          1938,
          1938,
          1938,
          1931,
          1938,
          1938,
          1938,
          1938,
          1938,
          1938,
          1933,
          1938,
          1937,
          1934,
          1920,
          1933,
          1939,
          1939,
          1926,
          1939,
          1930,
          1930,
          1936,
          1937,
          1939,
          1939,
          1939,
          1934,
          1937,
          1937,
          1934,
          1938,
          1938,
          1938,
          1936,
          1938,
          1939,
          1939,
          1939,
          1939,
          1939,
          1939,
          1939,
          1937,
          1938,
          1931,
          1940,
          1940,
          1940,
          1940,
          1940,
          1940,
          1937,
          1940,
          1941,
          1941,
          1941,
          1938,
          1938,
          1941,
          1941,
          1932,
          1941,
          1941,
          1941,
          1941,
          1941,
          1941,
          1941,
          1942,
          1905,
          1942,
          1942,
          1942,
          1942,
          1942,
          1942,
          1943,
          1943,
          1943,
          1944,
          1943,
          1942,
          1943,
          1944,
          1943,
          1943,
          1941,
          1944,
          1944,
          2014,
          1945,
          1945,
          1945,
          1945,
          1944,
          1946,
          1946,
          1945,
          1958,
          1946,
          1946,
          1945,
          1946,
          1946,
          1946,
          1946,
          1946,
          1946,
          1947,
          1947,
          1947,
          1947,
          1935,
          1935,
          2014,
          1965,
          1947,
          1947,
          1947,
          1947,
          1947,
          1947,
          1948,
          1946,
          1946,
          1947,
          1948,
          1948,
          1948,
          1948,
          1948,
          1948,
          1936,
          1948,
          1948,
          1948,
          1948,
          1947,
          1948,
          1948,
          1948,
          1948,
          1947,
          1948,
          1948,
          1948,
          1948,
          1948,
          1948,
          1948,
          1948,
          1948,
          1948,
          1948,
          1948,
          1948,
          1944,
          1948,
          1948,
          1948,
          1948,
          1948,
          1948,
          1948,
          1948,
          1948,
          1948,
          1948,
          1948,
          1948,
          1948,
          1946,
          1949,
          1949,
          1949,
          1949,
          1949,
          1949,
          1935,
          1938,
          1949,
          1949,
          1949,
          1947,
          1946,
          1948,
          1949,
          1949,
          1949,
          1944,
          1944,
          1949,
          1949,
          1949,
          1949,
          1949,
          1949,
          1983,
          1983,
          1949,
          1949,
          1949,
          1949,
          1949,
          1949,
          1949,
          1949,
          1949,
          1949,
          1949,
          1949,
          1949,
          1949,
          1949,
          1949,
          1949,
          1950,
          1932,
          1932,
          1946,
          1932,
          1949,
          1943,
          1950,
          1950,
          1950,
          1950,
          1950,
          1950,
          1950,
          1950,
          1950,
          1950,
          1949,
          1950,
          1937,
          1950,
          1950,
          1950,
          1950,
          1950,
          1950,
          1950,
          1950,
          1950,
          1949,
          1932,
          1932,
          1932,
          1932,
          1932,
          1932,
          1932,
          1932,
          1935,
          1944,
          1950,
          1926,
          1943,
          1950,
          1951,
          1942,
          1942,
          1942,
          1951,
          1944,
          1927,
          1934,
          1951,
          1953,
          1952,
          1953,
          1952,
          1952,
          1950,
          1947,
          1952,
          1952,
          1952,
          1952,
          1952,
          1952,
          1952,
          1952,
          1952,
          1952,
          1953,
          1953,
          1943,
          1918,
          1935,
          1931,
          1944,
          1936,
          1950,
          1935,
          1944,
          1934,
          1931,
          1950,
          1932,
          1943,
          1944,
          1935,
          1935,
          1950,
          1951,
          1951,
          1951,
          1944,
          1950,
          1952,
          1951,
          1918,
          1917,
          1952,
          1934,
          1947,
          1922,
          1953,
          1951,
          1946,
          1951,
          1930,
          1940,
          1939,
          1951,
          1951,
          1951,
          1951,
          1951,
          1949,
          1950,
          1930,
          1950,
          1950,
          1952,
          1951,
          1953,
          1935,
          1935,
          1935,
          1944,
          1953,
          1939,
          1953,
          1953,
          1953,
          1952,
          1942,
          1954,
          1954,
          1952,
          1954,
          1947,
          1943,
          1949,
          1949,
          1949,
          1948,
          1951,
          1951,
          1951,
          1953,
          1950,
          1952,
          1937,
          1950,
          1950,
          1951,
          1951,
          1951,
          1938,
          1951,
          1951,
          1951,
          1951,
          1951,
          1951,
          1951,
          1951,
          1951,
          1951,
          1950,
          1951,
          1951,
          1953,
          1950,
          1954,
          1951,
          1950,
          1953,
          1953,
          1951,
          1951,
          1951,
          1952,
          1952,
          1952,
          1952,
          1952,
          1953,
          1946,
          1952,
          1976,
          1952,
          1976,
          1952,
          1952,
          1952,
          1952,
          1976,
          1952,
          1976,
          1952,
          1952,
          1952,
          1952,
          1952,
          1976,
          1952,
          1952,
          1952,
          1952,
          1976,
          1952,
          1952,
          1952,
          1952,
          1952,
          1952,
          1952,
          1952,
          1952,
          1952,
          1952,
          1952,
          1952,
          1952,
          1952,
          1976,
          1952,
          1952,
          1952,
          1952,
          1952,
          1952,
          1952,
          1976,
          1952,
          1952,
          1952,
          1952,
          1952,
          1952,
          1952,
          1952,
          1952,
          1952,
          1952,
          1976,
          1976,
          1952,
          1952,
          1952,
          1952,
          1952,
          1952,
          1976,
          1952,
          1952,
          1952,
          1952,
          1952,
          1952,
          1952,
          1952,
          1952,
          1952,
          1952,
          1952,
          1952,
          1952,
          1952,
          1952,
          1952,
          1952,
          1952,
          1952,
          1952,
          1952,
          1952,
          1952,
          1952,
          1952,
          1952,
          1952,
          1952,
          1952,
          1952,
          1952,
          1952,
          1952,
          1952,
          1952,
          1952,
          1952,
          1935,
          1933,
          1952,
          1952,
          1952,
          1952,
          1952,
          1952,
          1952,
          1952,
          1952,
          1952,
          1952,
          1952,
          1952,
          1952,
          1952,
          1952,
          1952,
          1952,
          1952,
          1952,
          1952,
          1952,
          1952,
          1952,
          1952,
          1952,
          1952,
          1952,
          1952,
          1952,
          1952,
          1952,
          1952,
          1952,
          1952,
          1952,
          1952,
          1952,
          1952,
          1952,
          1952,
          1952,
          1952,
          1953,
          1953,
          1953,
          1953,
          1953,
          1953,
          1953,
          1953,
          1953,
          1953,
          1951,
          1954,
          1954,
          1955,
          1955,
          1955,
          1955,
          1952,
          1956,
          1956,
          1928,
          1928,
          1951,
          1955,
          1953,
          1953,
          1947,
          1954,
          1953,
          1954,
          1925,
          1954,
          1954,
          1954,
          1954,
          1954,
          1954,
          1954,
          1954,
          1954,
          1954,
          1954,
          1954,
          1954,
          1954,
          1954,
          1954,
          1954,
          1954,
          1954,
          1953,
          1954,
          1954,
          1954,
          1954,
          1955,
          1955,
          1955,
          1955,
          1955,
          1955,
          1955,
          1955,
          1955,
          1955,
          1955,
          1955,
          1955,
          1955,
          1955,
          1955,
          1955,
          1955,
          1955,
          1953,
          1955,
          1955,
          1953,
          1946,
          1955,
          1955,
          1955,
          1955,
          1955,
          1955,
          1955,
          1955,
          1948,
          1956,
          1955,
          1955,
          1955,
          1955,
          1955,
          1955,
          1955,
          1939,
          1953,
          1955,
          1952,
          1952,
          1955,
          1955,
          1955,
          1955,
          1955,
          1955,
          1956,
          1946,
          1952,
          1956,
          1955,
          1927,
          1955,
          1956,
          1953,
          1956,
          1956,
          1956,
          1954,
          1954,
          1954,
          1953,
          1955,
          1955,
          1956,
          1956,
          1956,
          1955,
          1957,
          1956,
          2014,
          1957,
          1957,
          1976,
          1976,
          1957,
          1957,
          1957,
          1976,
          1932,
          1957,
          1958,
          1958,
          1958,
          1958,
          1958,
          1937,
          1957,
          1959,
          1959,
          1951,
          1959,
          1958,
          1957,
          1957,
          1959,
          1959,
          1959,
          1957,
          1953,
          1976,
          1960,
          1960,
          1953,
          1960,
          1964,
          1956,
          1960,
          1941,
          1956,
          1967,
          1957,
          1955,
          1947,
          1964,
          1969,
          1970,
          1968,
          1955,
          1951,
          1963,
          1969,
          1936,
          1972,
          1951,
          1968,
          1975,
          1974,
          1971,
          1969,
          1976,
          1964,
          1942,
          1976,
          1949,
          1977,
          1973,
          1973,
          1977,
          1969,
          1981,
          1981,
          1981,
          1972,
          1984,
          1984,
          1945,
          1959,
          1959,
          1960,
          1957,
          1960,
          1960,
          1960,
          1960,
          1960,
          1960,
          1961,
          1961,
          1961,
          1961,
          1961,
          1961,
          1961,
          1942,
          1958,
          1959,
          1948,
          1960,
          1961,
          1961,
          1961,
          1961,
          1961,
          1958,
          1958,
          1958,
          1961,
          1961,
          1952,
          1952,
          1962,
          1962,
          1962,
          1961,
          1961,
          1962,
          1953,
          1962,
          1962,
          1962,
          1962,
          1962,
          1960,
          1962,
          1962,
          1962,
          1962,
          1962,
          1978,
          1962,
          1960,
          1953,
          1962,
          1963,
          1963,
          1962,
          1963,
          1961,
          1961,
          1933,
          1901,
          1904,
          1944,
          1916,
          1963,
          1963,
          1963,
          1950,
          1963,
          1952,
          1924,
          1964,
          1954,
          1958,
          1947,
          1960,
          1961,
          1962,
          1964,
          1964,
          1964,
          1962,
          1964,
          1960,
          1964,
          1965,
          1965,
          1965,
          1965,
          1962,
          1960,
          1965,
          1947,
          1964,
          1965,
          1965,
          1965,
          1965,
          1960,
          1964,
          1948,
          1956,
          1924,
          1965,
          1958,
          1966,
          1960,
          1960,
          1965,
          1956,
          1959,
          1967,
          1965,
          1967,
          1957,
          1966,
          1957,
          1953,
          1957,
          1960,
          1966,
          1959,
          1961,
          1963,
          1960,
          1963,
          1967,
          1965,
          1967,
          1967,
          1967,
          1966,
          1967,
          1967,
          1990,
          1963,
          1966,
          1951,
          1952,
          1974,
          1942,
          1951,
          1954,
          1961,
          1961,
          1968,
          1970,
          1967,
          1956,
          2013,
          1954,
          1966,
          1968,
          1968,
          1967,
          1968,
          1967,
          1953,
          1965,
          1967,
          1966,
          1967,
          1960,
          1968,
          1968,
          1969,
          1969,
          1968,
          1940,
          1954,
          1969,
          1964,
          1969,
          1969,
          1969,
          1966,
          1969,
          1966,
          1969,
          1968,
          1967,
          1970,
          1969,
          1963,
          1959,
          1959,
          1954,
          1941,
          1956,
          1950,
          1932,
          1956,
          1970,
          1968,
          1968,
          1970,
          1970,
          1963,
          1965,
          1937,
          1970,
          1970,
          1967,
          1970,
          1964,
          1970,
          1970,
          1970,
          1970,
          1970,
          2014,
          1968,
          1970,
          1963,
          1970,
          1970,
          1950,
          1968,
          1976,
          1964,
          1971,
          1971,
          1971,
          1971,
          1971,
          1971,
          1971,
          1971,
          1968,
          1971,
          1971,
          1971,
          1971,
          1958,
          1971,
          1971,
          1971,
          1971,
          1971,
          1971,
          1971,
          1971,
          1971,
          1971,
          1971,
          1971,
          1971,
          1971,
          1968,
          1972,
          1972,
          1970,
          1972,
          1972,
          1972,
          1972,
          1972,
          1932,
          1957,
          1960,
          1938,
          1955,
          1966,
          1966,
          1972,
          1935,
          1958,
          1958,
          1957,
          1967,
          1967,
          1967,
          1967,
          1967,
          1967,
          1968,
          1969,
          1966,
          1972,
          1972,
          1983,
          1971,
          1972,
          1970,
          1970,
          1970,
          1950,
          1953,
          1970,
          1973,
          1964,
          1952,
          1967,
          1966,
          1973,
          1957,
          1957,
          1960,
          1971,
          1966,
          1966,
          1966,
          1958,
          1958,
          1967,
          1945,
          1947,
          1965,
          1973,
          1971,
          1974,
          1971,
          1971,
          1971,
          1971,
          1973,
          1973,
          1973,
          1969,
          1974,
          1974,
          1971,
          1973,
          1975,
          1975,
          1969,
          1975,
          1971,
          1972,
          1968,
          1975,
          1971,
          1970,
          1970,
          1970,
          1932,
          1975,
          1972,
          1975,
          1967,
          1975,
          1974,
          1976,
          1969,
          1973,
          1973,
          1976,
          1929,
          1974,
          1935,
          1957,
          1975,
          1975,
          1975,
          1975,
          1975,
          1975,
          1976,
          1968,
          1976,
          1951,
          1959,
          1959,
          1964,
          1964,
          1976,
          1972,
          1972,
          1974,
          1974,
          1965,
          1974,
          1974,
          1960,
          1972,
          1976,
          1971,
          1974,
          1957,
          1976,
          1976,
          1976,
          1975,
          1972,
          1977,
          1977,
          1942,
          1942,
          1972,
          1972,
          1969,
          1972,
          1968,
          1968,
          1968,
          1977,
          1977,
          1966,
          1967,
          1960,
          1977,
          1977,
          1955,
          1971,
          1977,
          1977,
          1977,
          1977,
          1929,
          1974,
          1974,
          1978,
          1958,
          1955,
          1974,
          1980,
          1979,
          1979,
          1976,
          1957,
          1979,
          1976,
          1973,
          1974,
          1978,
          1969,
          1975,
          1974,
          1974,
          1979,
          1976,
          1976,
          1977,
          1981,
          1980,
          1980,
          1980,
          1980,
          1980,
          1980,
          1980,
          1963,
          1980,
          1980,
          1980,
          1979,
          1959,
          1978,
          1980,
          1968,
          1981,
          1976,
          1969,
          1975,
          1981,
          1971,
          1981,
          1979,
          1982,
          1982,
          1968,
          1983,
          1982,
          1977,
          1977,
          1981,
          1980,
          1957,
          1982,
          1957,
          1957,
          1957,
          1957,
          1957,
          1957,
          1960,
          1982,
          1977,
          1981,
          1980,
          1981,
          1980,
          1980,
          1980,
          1982,
          1982,
          1978,
          1982,
          1982,
          1980,
          1981,
          1960,
          1982,
          1982,
          1976,
          1981,
          1981,
          1978,
          1976,
          1983,
          1983,
          1982,
          1982,
          1982,
          1982,
          1983,
          1983,
          1983,
          1983,
          1984,
          1983,
          1983,
          1983,
          1983,
          1935,
          1983,
          1983,
          1983,
          1983,
          1983,
          1976,
          1983,
          1983,
          1984,
          1985,
          1985,
          1985,
          1985,
          1983,
          1983,
          1983,
          1983,
          1982,
          1982,
          1984,
          1981,
          1984,
          1984,
          1985,
          1984,
          1984,
          1984,
          1984,
          1977,
          1968,
          1984,
          1968,
          1983,
          1984,
          1984,
          1965,
          1965,
          1984,
          1963,
          1974,
          1963,
          1963,
          1983,
          1983,
          1980,
          1984,
          1950,
          1950,
          1985,
          1985,
          1984,
          1983,
          1984,
          1982,
          1984,
          1984,
          1984,
          1983,
          1982,
          1924,
          1978,
          1978,
          1982,
          1981,
          1984,
          1976,
          1975,
          1978,
          1978,
          1978,
          1978,
          1978,
          1978,
          1978,
          1978,
          1978,
          1978,
          1978,
          1978,
          1978,
          1978,
          1978,
          1978,
          1978,
          1978,
          1979,
          1984,
          1984,
          1980,
          1985,
          1985,
          1985,
          1980,
          1984,
          1986,
          1986,
          1985,
          1985,
          1983,
          1985,
          1986,
          1985,
          1985,
          1976,
          1986,
          1984,
          1984,
          1984,
          1972,
          1982,
          1985,
          1981,
          1979,
          1981,
          1981,
          1983,
          1981,
          1981,
          1985,
          1982,
          1983,
          1987,
          1971,
          1985,
          1964,
          1985,
          1986,
          1986,
          1986,
          1986,
          1988,
          1987,
          1987,
          1987,
          1987,
          1987,
          1979,
          1979,
          1973,
          1987,
          1986,
          1978,
          1986,
          1981,
          1975,
          1988,
          1974,
          1974,
          1974,
          1974,
          1974,
          1965,
          1967,
          1972,
          1972,
          1974,
          1975,
          1979,
          1972,
          1982,
          1976,
          1975,
          1980,
          1981,
          1975,
          1988,
          1987,
          1987,
          1987,
          1987,
          1975,
          1987,
          1983,
          1976,
          1976,
          1987,
          1987,
          1981,
          1982,
          1980,
          1981,
          1986,
          1981,
          1980,
          1985,
          1987,
          1985,
          1982,
          1977,
          1985,
          1984,
          1987,
          1988,
          1980,
          1979,
          1983,
          1981,
          1985,
          1985,
          1986,
          1986,
          1986,
          1983,
          1980,
          1985,
          1982,
          1967,
          1988,
          1988,
          1988,
          1986,
          1987,
          1988,
          1986,
          1985,
          1983,
          1983,
          1988,
          1986,
          1987,
          1987,
          1987,
          1986,
          1988,
          1988,
          1988,
          1988,
          1988,
          1984,
          1988,
          1980,
          1989,
          1989,
          1989,
          1988,
          1988,
          1988,
          1989,
          1989,
          1984,
          1989,
          1989,
          1989,
          1988,
          1988,
          1959,
          1977,
          1958,
          1976,
          1988,
          1988,
          1989,
          1989,
          1989,
          1984,
          1984,
          1984,
          1984,
          1986,
          1984,
          1984,
          1985,
          1985,
          1993,
          1993,
          1993,
          1973,
          1990,
          1989,
          1990,
          1985,
          1985,
          1985,
          1982,
          1982,
          1982,
          1982,
          1982,
          1983,
          1983,
          1989,
          1987,
          1988,
          1990,
          1990,
          1963,
          1960,
          1963,
          1991,
          1930,
          1989,
          1991,
          1981,
          1980,
          1989,
          1991,
          1986,
          1987,
          1992,
          1992,
          1992,
          1992,
          1992,
          1992,
          1992,
          1992,
          1992,
          1992,
          1992,
          1992,
          1991,
          1988,
          1990,
          1992,
          1992,
          1990,
          1991,
          1982,
          1981,
          1916,
          1993,
          1990,
          1991,
          1992,
          1993,
          1995,
          1995,
          1994,
          1991,
          1999,
          1985,
          1988,
          2003,
          1997,
          1999,
          1996,
          2004,
          2004,
          2004,
          2004,
          2003,
          2003,
          2008,
          2003,
          2008,
          2008,
          2008,
          2008,
          2003,
          2009,
          2009,
          2009,
          2006,
          2006,
          2006,
          2006,
          2006,
          1991,
          1992,
          1991,
          2016,
          2007,
          1984,
          2007,
          2005,
          2008,
          2011,
          2011,
          2012,
          1976,
          1985,
          1958,
          1975,
          2002,
          2012,
          2012,
          1937,
          1937,
          1940,
          1920,
          1933,
          1940,
          1941,
          1940,
          1940,
          1940,
          1941,
          1940,
          1940,
          1932,
          1940,
          1948,
          1947,
          1940,
          1955,
          1936,
          1984,
          1973,
          1993,
          2006,
          2010,
          2011,
          2012,
          2010,
          2010,
          2010,
          1999,
          1999,
          1980,
          2013,
          2013,
          2015,
          2012,
          2015,
          2014,
          2015,
          2015,
          2015,
          2015,
          2013,
          2015,
          2010,
          2015,
          2015,
          2015,
          2015,
          2015,
          2015,
          2012,
          2015,
          1974,
          1989,
          2004,
          1997,
          1990,
          1974,
          2007,
          2006,
          2002,
          1997,
          2015,
          2015,
          2015,
          2015,
          2015,
          2015,
          2015,
          2002,
          2003,
          2003,
          2012,
          2009,
          2010,
          1983,
          1991,
          1991,
          2006,
          1995,
          2010,
          2000,
          1992,
          2003,
          2009,
          1992,
          2004,
          1993,
          2013,
          2016,
          2015,
          2013,
          2013,
          2013,
          2015,
          2006,
          2018
         ],
         "xaxis": "x2",
         "yaxis": "y2"
        }
       ],
       "layout": {
        "autosize": true,
        "barmode": "relative",
        "legend": {
         "tracegroupgap": 0
        },
        "template": {
         "data": {
          "bar": [
           {
            "error_x": {
             "color": "#2a3f5f"
            },
            "error_y": {
             "color": "#2a3f5f"
            },
            "marker": {
             "line": {
              "color": "#E5ECF6",
              "width": 0.5
             },
             "pattern": {
              "fillmode": "overlay",
              "size": 10,
              "solidity": 0.2
             }
            },
            "type": "bar"
           }
          ],
          "barpolar": [
           {
            "marker": {
             "line": {
              "color": "#E5ECF6",
              "width": 0.5
             },
             "pattern": {
              "fillmode": "overlay",
              "size": 10,
              "solidity": 0.2
             }
            },
            "type": "barpolar"
           }
          ],
          "carpet": [
           {
            "aaxis": {
             "endlinecolor": "#2a3f5f",
             "gridcolor": "white",
             "linecolor": "white",
             "minorgridcolor": "white",
             "startlinecolor": "#2a3f5f"
            },
            "baxis": {
             "endlinecolor": "#2a3f5f",
             "gridcolor": "white",
             "linecolor": "white",
             "minorgridcolor": "white",
             "startlinecolor": "#2a3f5f"
            },
            "type": "carpet"
           }
          ],
          "choropleth": [
           {
            "colorbar": {
             "outlinewidth": 0,
             "ticks": ""
            },
            "type": "choropleth"
           }
          ],
          "contour": [
           {
            "colorbar": {
             "outlinewidth": 0,
             "ticks": ""
            },
            "colorscale": [
             [
              0,
              "#0d0887"
             ],
             [
              0.1111111111111111,
              "#46039f"
             ],
             [
              0.2222222222222222,
              "#7201a8"
             ],
             [
              0.3333333333333333,
              "#9c179e"
             ],
             [
              0.4444444444444444,
              "#bd3786"
             ],
             [
              0.5555555555555556,
              "#d8576b"
             ],
             [
              0.6666666666666666,
              "#ed7953"
             ],
             [
              0.7777777777777778,
              "#fb9f3a"
             ],
             [
              0.8888888888888888,
              "#fdca26"
             ],
             [
              1,
              "#f0f921"
             ]
            ],
            "type": "contour"
           }
          ],
          "contourcarpet": [
           {
            "colorbar": {
             "outlinewidth": 0,
             "ticks": ""
            },
            "type": "contourcarpet"
           }
          ],
          "heatmap": [
           {
            "colorbar": {
             "outlinewidth": 0,
             "ticks": ""
            },
            "colorscale": [
             [
              0,
              "#0d0887"
             ],
             [
              0.1111111111111111,
              "#46039f"
             ],
             [
              0.2222222222222222,
              "#7201a8"
             ],
             [
              0.3333333333333333,
              "#9c179e"
             ],
             [
              0.4444444444444444,
              "#bd3786"
             ],
             [
              0.5555555555555556,
              "#d8576b"
             ],
             [
              0.6666666666666666,
              "#ed7953"
             ],
             [
              0.7777777777777778,
              "#fb9f3a"
             ],
             [
              0.8888888888888888,
              "#fdca26"
             ],
             [
              1,
              "#f0f921"
             ]
            ],
            "type": "heatmap"
           }
          ],
          "heatmapgl": [
           {
            "colorbar": {
             "outlinewidth": 0,
             "ticks": ""
            },
            "colorscale": [
             [
              0,
              "#0d0887"
             ],
             [
              0.1111111111111111,
              "#46039f"
             ],
             [
              0.2222222222222222,
              "#7201a8"
             ],
             [
              0.3333333333333333,
              "#9c179e"
             ],
             [
              0.4444444444444444,
              "#bd3786"
             ],
             [
              0.5555555555555556,
              "#d8576b"
             ],
             [
              0.6666666666666666,
              "#ed7953"
             ],
             [
              0.7777777777777778,
              "#fb9f3a"
             ],
             [
              0.8888888888888888,
              "#fdca26"
             ],
             [
              1,
              "#f0f921"
             ]
            ],
            "type": "heatmapgl"
           }
          ],
          "histogram": [
           {
            "marker": {
             "pattern": {
              "fillmode": "overlay",
              "size": 10,
              "solidity": 0.2
             }
            },
            "type": "histogram"
           }
          ],
          "histogram2d": [
           {
            "colorbar": {
             "outlinewidth": 0,
             "ticks": ""
            },
            "colorscale": [
             [
              0,
              "#0d0887"
             ],
             [
              0.1111111111111111,
              "#46039f"
             ],
             [
              0.2222222222222222,
              "#7201a8"
             ],
             [
              0.3333333333333333,
              "#9c179e"
             ],
             [
              0.4444444444444444,
              "#bd3786"
             ],
             [
              0.5555555555555556,
              "#d8576b"
             ],
             [
              0.6666666666666666,
              "#ed7953"
             ],
             [
              0.7777777777777778,
              "#fb9f3a"
             ],
             [
              0.8888888888888888,
              "#fdca26"
             ],
             [
              1,
              "#f0f921"
             ]
            ],
            "type": "histogram2d"
           }
          ],
          "histogram2dcontour": [
           {
            "colorbar": {
             "outlinewidth": 0,
             "ticks": ""
            },
            "colorscale": [
             [
              0,
              "#0d0887"
             ],
             [
              0.1111111111111111,
              "#46039f"
             ],
             [
              0.2222222222222222,
              "#7201a8"
             ],
             [
              0.3333333333333333,
              "#9c179e"
             ],
             [
              0.4444444444444444,
              "#bd3786"
             ],
             [
              0.5555555555555556,
              "#d8576b"
             ],
             [
              0.6666666666666666,
              "#ed7953"
             ],
             [
              0.7777777777777778,
              "#fb9f3a"
             ],
             [
              0.8888888888888888,
              "#fdca26"
             ],
             [
              1,
              "#f0f921"
             ]
            ],
            "type": "histogram2dcontour"
           }
          ],
          "mesh3d": [
           {
            "colorbar": {
             "outlinewidth": 0,
             "ticks": ""
            },
            "type": "mesh3d"
           }
          ],
          "parcoords": [
           {
            "line": {
             "colorbar": {
              "outlinewidth": 0,
              "ticks": ""
             }
            },
            "type": "parcoords"
           }
          ],
          "pie": [
           {
            "automargin": true,
            "type": "pie"
           }
          ],
          "scatter": [
           {
            "fillpattern": {
             "fillmode": "overlay",
             "size": 10,
             "solidity": 0.2
            },
            "type": "scatter"
           }
          ],
          "scatter3d": [
           {
            "line": {
             "colorbar": {
              "outlinewidth": 0,
              "ticks": ""
             }
            },
            "marker": {
             "colorbar": {
              "outlinewidth": 0,
              "ticks": ""
             }
            },
            "type": "scatter3d"
           }
          ],
          "scattercarpet": [
           {
            "marker": {
             "colorbar": {
              "outlinewidth": 0,
              "ticks": ""
             }
            },
            "type": "scattercarpet"
           }
          ],
          "scattergeo": [
           {
            "marker": {
             "colorbar": {
              "outlinewidth": 0,
              "ticks": ""
             }
            },
            "type": "scattergeo"
           }
          ],
          "scattergl": [
           {
            "marker": {
             "colorbar": {
              "outlinewidth": 0,
              "ticks": ""
             }
            },
            "type": "scattergl"
           }
          ],
          "scattermapbox": [
           {
            "marker": {
             "colorbar": {
              "outlinewidth": 0,
              "ticks": ""
             }
            },
            "type": "scattermapbox"
           }
          ],
          "scatterpolar": [
           {
            "marker": {
             "colorbar": {
              "outlinewidth": 0,
              "ticks": ""
             }
            },
            "type": "scatterpolar"
           }
          ],
          "scatterpolargl": [
           {
            "marker": {
             "colorbar": {
              "outlinewidth": 0,
              "ticks": ""
             }
            },
            "type": "scatterpolargl"
           }
          ],
          "scatterternary": [
           {
            "marker": {
             "colorbar": {
              "outlinewidth": 0,
              "ticks": ""
             }
            },
            "type": "scatterternary"
           }
          ],
          "surface": [
           {
            "colorbar": {
             "outlinewidth": 0,
             "ticks": ""
            },
            "colorscale": [
             [
              0,
              "#0d0887"
             ],
             [
              0.1111111111111111,
              "#46039f"
             ],
             [
              0.2222222222222222,
              "#7201a8"
             ],
             [
              0.3333333333333333,
              "#9c179e"
             ],
             [
              0.4444444444444444,
              "#bd3786"
             ],
             [
              0.5555555555555556,
              "#d8576b"
             ],
             [
              0.6666666666666666,
              "#ed7953"
             ],
             [
              0.7777777777777778,
              "#fb9f3a"
             ],
             [
              0.8888888888888888,
              "#fdca26"
             ],
             [
              1,
              "#f0f921"
             ]
            ],
            "type": "surface"
           }
          ],
          "table": [
           {
            "cells": {
             "fill": {
              "color": "#EBF0F8"
             },
             "line": {
              "color": "white"
             }
            },
            "header": {
             "fill": {
              "color": "#C8D4E3"
             },
             "line": {
              "color": "white"
             }
            },
            "type": "table"
           }
          ]
         },
         "layout": {
          "annotationdefaults": {
           "arrowcolor": "#2a3f5f",
           "arrowhead": 0,
           "arrowwidth": 1
          },
          "autotypenumbers": "strict",
          "coloraxis": {
           "colorbar": {
            "outlinewidth": 0,
            "ticks": ""
           }
          },
          "colorscale": {
           "diverging": [
            [
             0,
             "#8e0152"
            ],
            [
             0.1,
             "#c51b7d"
            ],
            [
             0.2,
             "#de77ae"
            ],
            [
             0.3,
             "#f1b6da"
            ],
            [
             0.4,
             "#fde0ef"
            ],
            [
             0.5,
             "#f7f7f7"
            ],
            [
             0.6,
             "#e6f5d0"
            ],
            [
             0.7,
             "#b8e186"
            ],
            [
             0.8,
             "#7fbc41"
            ],
            [
             0.9,
             "#4d9221"
            ],
            [
             1,
             "#276419"
            ]
           ],
           "sequential": [
            [
             0,
             "#0d0887"
            ],
            [
             0.1111111111111111,
             "#46039f"
            ],
            [
             0.2222222222222222,
             "#7201a8"
            ],
            [
             0.3333333333333333,
             "#9c179e"
            ],
            [
             0.4444444444444444,
             "#bd3786"
            ],
            [
             0.5555555555555556,
             "#d8576b"
            ],
            [
             0.6666666666666666,
             "#ed7953"
            ],
            [
             0.7777777777777778,
             "#fb9f3a"
            ],
            [
             0.8888888888888888,
             "#fdca26"
            ],
            [
             1,
             "#f0f921"
            ]
           ],
           "sequentialminus": [
            [
             0,
             "#0d0887"
            ],
            [
             0.1111111111111111,
             "#46039f"
            ],
            [
             0.2222222222222222,
             "#7201a8"
            ],
            [
             0.3333333333333333,
             "#9c179e"
            ],
            [
             0.4444444444444444,
             "#bd3786"
            ],
            [
             0.5555555555555556,
             "#d8576b"
            ],
            [
             0.6666666666666666,
             "#ed7953"
            ],
            [
             0.7777777777777778,
             "#fb9f3a"
            ],
            [
             0.8888888888888888,
             "#fdca26"
            ],
            [
             1,
             "#f0f921"
            ]
           ]
          },
          "colorway": [
           "#636efa",
           "#EF553B",
           "#00cc96",
           "#ab63fa",
           "#FFA15A",
           "#19d3f3",
           "#FF6692",
           "#B6E880",
           "#FF97FF",
           "#FECB52"
          ],
          "font": {
           "color": "#2a3f5f"
          },
          "geo": {
           "bgcolor": "white",
           "lakecolor": "white",
           "landcolor": "#E5ECF6",
           "showlakes": true,
           "showland": true,
           "subunitcolor": "white"
          },
          "hoverlabel": {
           "align": "left"
          },
          "hovermode": "closest",
          "mapbox": {
           "style": "light"
          },
          "paper_bgcolor": "white",
          "plot_bgcolor": "#E5ECF6",
          "polar": {
           "angularaxis": {
            "gridcolor": "white",
            "linecolor": "white",
            "ticks": ""
           },
           "bgcolor": "#E5ECF6",
           "radialaxis": {
            "gridcolor": "white",
            "linecolor": "white",
            "ticks": ""
           }
          },
          "scene": {
           "xaxis": {
            "backgroundcolor": "#E5ECF6",
            "gridcolor": "white",
            "gridwidth": 2,
            "linecolor": "white",
            "showbackground": true,
            "ticks": "",
            "zerolinecolor": "white"
           },
           "yaxis": {
            "backgroundcolor": "#E5ECF6",
            "gridcolor": "white",
            "gridwidth": 2,
            "linecolor": "white",
            "showbackground": true,
            "ticks": "",
            "zerolinecolor": "white"
           },
           "zaxis": {
            "backgroundcolor": "#E5ECF6",
            "gridcolor": "white",
            "gridwidth": 2,
            "linecolor": "white",
            "showbackground": true,
            "ticks": "",
            "zerolinecolor": "white"
           }
          },
          "shapedefaults": {
           "line": {
            "color": "#2a3f5f"
           }
          },
          "ternary": {
           "aaxis": {
            "gridcolor": "white",
            "linecolor": "white",
            "ticks": ""
           },
           "baxis": {
            "gridcolor": "white",
            "linecolor": "white",
            "ticks": ""
           },
           "bgcolor": "#E5ECF6",
           "caxis": {
            "gridcolor": "white",
            "linecolor": "white",
            "ticks": ""
           }
          },
          "title": {
           "x": 0.05
          },
          "xaxis": {
           "automargin": true,
           "gridcolor": "white",
           "linecolor": "white",
           "ticks": "",
           "title": {
            "standoff": 15
           },
           "zerolinecolor": "white",
           "zerolinewidth": 2
          },
          "yaxis": {
           "automargin": true,
           "gridcolor": "white",
           "linecolor": "white",
           "ticks": "",
           "title": {
            "standoff": 15
           },
           "zerolinecolor": "white",
           "zerolinewidth": 2
          }
         }
        },
        "title": {
         "text": "Histogram of Year Cultured information from strains w/ genome assemblies in NCTC"
        },
        "xaxis": {
         "anchor": "y",
         "autorange": false,
         "domain": [
          0,
          1
         ],
         "range": [
          1894.5,
          2024.5
         ],
         "title": {
          "text": "Year Cultured"
         },
         "type": "linear"
        },
        "xaxis2": {
         "anchor": "y2",
         "autorange": true,
         "domain": [
          0,
          1
         ],
         "matches": "x",
         "range": [
          1894.5,
          2024.5
         ],
         "showgrid": true,
         "showticklabels": false,
         "type": "linear"
        },
        "yaxis": {
         "anchor": "x",
         "autorange": true,
         "domain": [
          0,
          0.8316
         ],
         "range": [
          0,
          354.7368421052632
         ],
         "title": {
          "text": "count"
         }
        },
        "yaxis2": {
         "anchor": "x2",
         "autorange": true,
         "domain": [
          0.8416,
          1
         ],
         "matches": "y2",
         "range": [
          -0.5,
          0.5
         ],
         "showgrid": false,
         "showline": false,
         "showticklabels": false,
         "ticks": "",
         "type": "category"
        }
       }
      },
      "image/png": "[encoded data removed]",
      "text/html": [
       "<div>                            <div id=\"a145d511-b8a8-43a8-b197-95398cce1553\" class=\"plotly-graph-div\" style=\"height:525px; width:100%;\"></div>            <script type=\"text/javascript\">                require([\"plotly\"], function(Plotly) {                    window.PLOTLYENV=window.PLOTLYENV || {};                                    if (document.getElementById(\"a145d511-b8a8-43a8-b197-95398cce1553\")) {                    Plotly.newPlot(                        \"a145d511-b8a8-43a8-b197-95398cce1553\",                        [{\"alignmentgroup\":\"True\",\"bingroup\":\"x\",\"hovertemplate\":\"Year Cultured=%{x}<br>count=%{y}<extra></extra>\",\"legendgroup\":\"\",\"marker\":{\"color\":\"#636efa\",\"pattern\":{\"shape\":\"\"}},\"name\":\"\",\"offsetgroup\":\"\",\"orientation\":\"v\",\"showlegend\":false,\"x\":[1914,1920,1919,1916,1935,1911,1920,1917,1920,1920,1915,1920,1920,1906,1906,1920,1914,1918,1920,1920,1916,1911,1912,1919,1916,1919,1920,1920,1920,1917,1917,1920,1919,1919,1919,1920,1920,1920,1921,1920,1921,1921,1921,1920,1917,1919,1921,1921,1921,1922,1922,1923,1922,1922,1924,1924,1937,1923,1922,1925,1926,1926,1927,1916,1928,1916,1928,1928,1919,1929,1929,1928,1929,1929,1920,1930,1930,1930,1930,1930,1930,1936,1931,1931,1931,1932,1930,1932,1924,1931,1932,1932,1932,1927,1919,1926,1921,1925,1932,1933,1932,1930,1932,1933,1921,1931,1931,1931,1933,1933,1933,1933,1932,1925,1931,1934,1935,1932,1932,1932,1932,1932,1932,1933,1933,1935,1935,1935,1935,1963,1935,1932,1936,1934,1934,1934,1931,1934,1934,1934,1934,1934,1934,1934,1937,1937,1937,1927,1938,1938,1938,1938,1938,1938,1931,1938,1938,1938,1938,1938,1938,1933,1938,1937,1934,1920,1933,1939,1939,1926,1939,1930,1930,1936,1937,1939,1939,1939,1934,1937,1937,1934,1938,1938,1938,1936,1938,1939,1939,1939,1939,1939,1939,1939,1937,1938,1931,1940,1940,1940,1940,1940,1940,1937,1940,1941,1941,1941,1938,1938,1941,1941,1932,1941,1941,1941,1941,1941,1941,1941,1942,1905,1942,1942,1942,1942,1942,1942,1943,1943,1943,1944,1943,1942,1943,1944,1943,1943,1941,1944,1944,2014,1945,1945,1945,1945,1944,1946,1946,1945,1958,1946,1946,1945,1946,1946,1946,1946,1946,1946,1947,1947,1947,1947,1935,1935,2014,1965,1947,1947,1947,1947,1947,1947,1948,1946,1946,1947,1948,1948,1948,1948,1948,1948,1936,1948,1948,1948,1948,1947,1948,1948,1948,1948,1947,1948,1948,1948,1948,1948,1948,1948,1948,1948,1948,1948,1948,1948,1944,1948,1948,1948,1948,1948,1948,1948,1948,1948,1948,1948,1948,1948,1948,1946,1949,1949,1949,1949,1949,1949,1935,1938,1949,1949,1949,1947,1946,1948,1949,1949,1949,1944,1944,1949,1949,1949,1949,1949,1949,1983,1983,1949,1949,1949,1949,1949,1949,1949,1949,1949,1949,1949,1949,1949,1949,1949,1949,1949,1950,1932,1932,1946,1932,1949,1943,1950,1950,1950,1950,1950,1950,1950,1950,1950,1950,1949,1950,1937,1950,1950,1950,1950,1950,1950,1950,1950,1950,1949,1932,1932,1932,1932,1932,1932,1932,1932,1935,1944,1950,1926,1943,1950,1951,1942,1942,1942,1951,1944,1927,1934,1951,1953,1952,1953,1952,1952,1950,1947,1952,1952,1952,1952,1952,1952,1952,1952,1952,1952,1953,1953,1943,1918,1935,1931,1944,1936,1950,1935,1944,1934,1931,1950,1932,1943,1944,1935,1935,1950,1951,1951,1951,1944,1950,1952,1951,1918,1917,1952,1934,1947,1922,1953,1951,1946,1951,1930,1940,1939,1951,1951,1951,1951,1951,1949,1950,1930,1950,1950,1952,1951,1953,1935,1935,1935,1944,1953,1939,1953,1953,1953,1952,1942,1954,1954,1952,1954,1947,1943,1949,1949,1949,1948,1951,1951,1951,1953,1950,1952,1937,1950,1950,1951,1951,1951,1938,1951,1951,1951,1951,1951,1951,1951,1951,1951,1951,1950,1951,1951,1953,1950,1954,1951,1950,1953,1953,1951,1951,1951,1952,1952,1952,1952,1952,1953,1946,1952,1976,1952,1976,1952,1952,1952,1952,1976,1952,1976,1952,1952,1952,1952,1952,1976,1952,1952,1952,1952,1976,1952,1952,1952,1952,1952,1952,1952,1952,1952,1952,1952,1952,1952,1952,1952,1976,1952,1952,1952,1952,1952,1952,1952,1976,1952,1952,1952,1952,1952,1952,1952,1952,1952,1952,1952,1976,1976,1952,1952,1952,1952,1952,1952,1976,1952,1952,1952,1952,1952,1952,1952,1952,1952,1952,1952,1952,1952,1952,1952,1952,1952,1952,1952,1952,1952,1952,1952,1952,1952,1952,1952,1952,1952,1952,1952,1952,1952,1952,1952,1952,1952,1952,1935,1933,1952,1952,1952,1952,1952,1952,1952,1952,1952,1952,1952,1952,1952,1952,1952,1952,1952,1952,1952,1952,1952,1952,1952,1952,1952,1952,1952,1952,1952,1952,1952,1952,1952,1952,1952,1952,1952,1952,1952,1952,1952,1952,1952,1953,1953,1953,1953,1953,1953,1953,1953,1953,1953,1951,1954,1954,1955,1955,1955,1955,1952,1956,1956,1928,1928,1951,1955,1953,1953,1947,1954,1953,1954,1925,1954,1954,1954,1954,1954,1954,1954,1954,1954,1954,1954,1954,1954,1954,1954,1954,1954,1954,1954,1953,1954,1954,1954,1954,1955,1955,1955,1955,1955,1955,1955,1955,1955,1955,1955,1955,1955,1955,1955,1955,1955,1955,1955,1953,1955,1955,1953,1946,1955,1955,1955,1955,1955,1955,1955,1955,1948,1956,1955,1955,1955,1955,1955,1955,1955,1939,1953,1955,1952,1952,1955,1955,1955,1955,1955,1955,1956,1946,1952,1956,1955,1927,1955,1956,1953,1956,1956,1956,1954,1954,1954,1953,1955,1955,1956,1956,1956,1955,1957,1956,2014,1957,1957,1976,1976,1957,1957,1957,1976,1932,1957,1958,1958,1958,1958,1958,1937,1957,1959,1959,1951,1959,1958,1957,1957,1959,1959,1959,1957,1953,1976,1960,1960,1953,1960,1964,1956,1960,1941,1956,1967,1957,1955,1947,1964,1969,1970,1968,1955,1951,1963,1969,1936,1972,1951,1968,1975,1974,1971,1969,1976,1964,1942,1976,1949,1977,1973,1973,1977,1969,1981,1981,1981,1972,1984,1984,1945,1959,1959,1960,1957,1960,1960,1960,1960,1960,1960,1961,1961,1961,1961,1961,1961,1961,1942,1958,1959,1948,1960,1961,1961,1961,1961,1961,1958,1958,1958,1961,1961,1952,1952,1962,1962,1962,1961,1961,1962,1953,1962,1962,1962,1962,1962,1960,1962,1962,1962,1962,1962,1978,1962,1960,1953,1962,1963,1963,1962,1963,1961,1961,1933,1901,1904,1944,1916,1963,1963,1963,1950,1963,1952,1924,1964,1954,1958,1947,1960,1961,1962,1964,1964,1964,1962,1964,1960,1964,1965,1965,1965,1965,1962,1960,1965,1947,1964,1965,1965,1965,1965,1960,1964,1948,1956,1924,1965,1958,1966,1960,1960,1965,1956,1959,1967,1965,1967,1957,1966,1957,1953,1957,1960,1966,1959,1961,1963,1960,1963,1967,1965,1967,1967,1967,1966,1967,1967,1990,1963,1966,1951,1952,1974,1942,1951,1954,1961,1961,1968,1970,1967,1956,2013,1954,1966,1968,1968,1967,1968,1967,1953,1965,1967,1966,1967,1960,1968,1968,1969,1969,1968,1940,1954,1969,1964,1969,1969,1969,1966,1969,1966,1969,1968,1967,1970,1969,1963,1959,1959,1954,1941,1956,1950,1932,1956,1970,1968,1968,1970,1970,1963,1965,1937,1970,1970,1967,1970,1964,1970,1970,1970,1970,1970,2014,1968,1970,1963,1970,1970,1950,1968,1976,1964,1971,1971,1971,1971,1971,1971,1971,1971,1968,1971,1971,1971,1971,1958,1971,1971,1971,1971,1971,1971,1971,1971,1971,1971,1971,1971,1971,1971,1968,1972,1972,1970,1972,1972,1972,1972,1972,1932,1957,1960,1938,1955,1966,1966,1972,1935,1958,1958,1957,1967,1967,1967,1967,1967,1967,1968,1969,1966,1972,1972,1983,1971,1972,1970,1970,1970,1950,1953,1970,1973,1964,1952,1967,1966,1973,1957,1957,1960,1971,1966,1966,1966,1958,1958,1967,1945,1947,1965,1973,1971,1974,1971,1971,1971,1971,1973,1973,1973,1969,1974,1974,1971,1973,1975,1975,1969,1975,1971,1972,1968,1975,1971,1970,1970,1970,1932,1975,1972,1975,1967,1975,1974,1976,1969,1973,1973,1976,1929,1974,1935,1957,1975,1975,1975,1975,1975,1975,1976,1968,1976,1951,1959,1959,1964,1964,1976,1972,1972,1974,1974,1965,1974,1974,1960,1972,1976,1971,1974,1957,1976,1976,1976,1975,1972,1977,1977,1942,1942,1972,1972,1969,1972,1968,1968,1968,1977,1977,1966,1967,1960,1977,1977,1955,1971,1977,1977,1977,1977,1929,1974,1974,1978,1958,1955,1974,1980,1979,1979,1976,1957,1979,1976,1973,1974,1978,1969,1975,1974,1974,1979,1976,1976,1977,1981,1980,1980,1980,1980,1980,1980,1980,1963,1980,1980,1980,1979,1959,1978,1980,1968,1981,1976,1969,1975,1981,1971,1981,1979,1982,1982,1968,1983,1982,1977,1977,1981,1980,1957,1982,1957,1957,1957,1957,1957,1957,1960,1982,1977,1981,1980,1981,1980,1980,1980,1982,1982,1978,1982,1982,1980,1981,1960,1982,1982,1976,1981,1981,1978,1976,1983,1983,1982,1982,1982,1982,1983,1983,1983,1983,1984,1983,1983,1983,1983,1935,1983,1983,1983,1983,1983,1976,1983,1983,1984,1985,1985,1985,1985,1983,1983,1983,1983,1982,1982,1984,1981,1984,1984,1985,1984,1984,1984,1984,1977,1968,1984,1968,1983,1984,1984,1965,1965,1984,1963,1974,1963,1963,1983,1983,1980,1984,1950,1950,1985,1985,1984,1983,1984,1982,1984,1984,1984,1983,1982,1924,1978,1978,1982,1981,1984,1976,1975,1978,1978,1978,1978,1978,1978,1978,1978,1978,1978,1978,1978,1978,1978,1978,1978,1978,1978,1979,1984,1984,1980,1985,1985,1985,1980,1984,1986,1986,1985,1985,1983,1985,1986,1985,1985,1976,1986,1984,1984,1984,1972,1982,1985,1981,1979,1981,1981,1983,1981,1981,1985,1982,1983,1987,1971,1985,1964,1985,1986,1986,1986,1986,1988,1987,1987,1987,1987,1987,1979,1979,1973,1987,1986,1978,1986,1981,1975,1988,1974,1974,1974,1974,1974,1965,1967,1972,1972,1974,1975,1979,1972,1982,1976,1975,1980,1981,1975,1988,1987,1987,1987,1987,1975,1987,1983,1976,1976,1987,1987,1981,1982,1980,1981,1986,1981,1980,1985,1987,1985,1982,1977,1985,1984,1987,1988,1980,1979,1983,1981,1985,1985,1986,1986,1986,1983,1980,1985,1982,1967,1988,1988,1988,1986,1987,1988,1986,1985,1983,1983,1988,1986,1987,1987,1987,1986,1988,1988,1988,1988,1988,1984,1988,1980,1989,1989,1989,1988,1988,1988,1989,1989,1984,1989,1989,1989,1988,1988,1959,1977,1958,1976,1988,1988,1989,1989,1989,1984,1984,1984,1984,1986,1984,1984,1985,1985,1993,1993,1993,1973,1990,1989,1990,1985,1985,1985,1982,1982,1982,1982,1982,1983,1983,1989,1987,1988,1990,1990,1963,1960,1963,1991,1930,1989,1991,1981,1980,1989,1991,1986,1987,1992,1992,1992,1992,1992,1992,1992,1992,1992,1992,1992,1992,1991,1988,1990,1992,1992,1990,1991,1982,1981,1916,1993,1990,1991,1992,1993,1995,1995,1994,1991,1999,1985,1988,2003,1997,1999,1996,2004,2004,2004,2004,2003,2003,2008,2003,2008,2008,2008,2008,2003,2009,2009,2009,2006,2006,2006,2006,2006,1991,1992,1991,2016,2007,1984,2007,2005,2008,2011,2011,2012,1976,1985,1958,1975,2002,2012,2012,1937,1937,1940,1920,1933,1940,1941,1940,1940,1940,1941,1940,1940,1932,1940,1948,1947,1940,1955,1936,1984,1973,1993,2006,2010,2011,2012,2010,2010,2010,1999,1999,1980,2013,2013,2015,2012,2015,2014,2015,2015,2015,2015,2013,2015,2010,2015,2015,2015,2015,2015,2015,2012,2015,1974,1989,2004,1997,1990,1974,2007,2006,2002,1997,2015,2015,2015,2015,2015,2015,2015,2002,2003,2003,2012,2009,2010,1983,1991,1991,2006,1995,2010,2000,1992,2003,2009,1992,2004,1993,2013,2016,2015,2013,2013,2013,2015,2006,2018],\"xaxis\":\"x\",\"yaxis\":\"y\",\"type\":\"histogram\"},{\"alignmentgroup\":\"True\",\"hovertemplate\":\"Year Cultured=%{x}<extra></extra>\",\"legendgroup\":\"\",\"marker\":{\"color\":\"#636efa\"},\"name\":\"\",\"notched\":true,\"offsetgroup\":\"\",\"showlegend\":false,\"x\":[1914,1920,1919,1916,1935,1911,1920,1917,1920,1920,1915,1920,1920,1906,1906,1920,1914,1918,1920,1920,1916,1911,1912,1919,1916,1919,1920,1920,1920,1917,1917,1920,1919,1919,1919,1920,1920,1920,1921,1920,1921,1921,1921,1920,1917,1919,1921,1921,1921,1922,1922,1923,1922,1922,1924,1924,1937,1923,1922,1925,1926,1926,1927,1916,1928,1916,1928,1928,1919,1929,1929,1928,1929,1929,1920,1930,1930,1930,1930,1930,1930,1936,1931,1931,1931,1932,1930,1932,1924,1931,1932,1932,1932,1927,1919,1926,1921,1925,1932,1933,1932,1930,1932,1933,1921,1931,1931,1931,1933,1933,1933,1933,1932,1925,1931,1934,1935,1932,1932,1932,1932,1932,1932,1933,1933,1935,1935,1935,1935,1963,1935,1932,1936,1934,1934,1934,1931,1934,1934,1934,1934,1934,1934,1934,1937,1937,1937,1927,1938,1938,1938,1938,1938,1938,1931,1938,1938,1938,1938,1938,1938,1933,1938,1937,1934,1920,1933,1939,1939,1926,1939,1930,1930,1936,1937,1939,1939,1939,1934,1937,1937,1934,1938,1938,1938,1936,1938,1939,1939,1939,1939,1939,1939,1939,1937,1938,1931,1940,1940,1940,1940,1940,1940,1937,1940,1941,1941,1941,1938,1938,1941,1941,1932,1941,1941,1941,1941,1941,1941,1941,1942,1905,1942,1942,1942,1942,1942,1942,1943,1943,1943,1944,1943,1942,1943,1944,1943,1943,1941,1944,1944,2014,1945,1945,1945,1945,1944,1946,1946,1945,1958,1946,1946,1945,1946,1946,1946,1946,1946,1946,1947,1947,1947,1947,1935,1935,2014,1965,1947,1947,1947,1947,1947,1947,1948,1946,1946,1947,1948,1948,1948,1948,1948,1948,1936,1948,1948,1948,1948,1947,1948,1948,1948,1948,1947,1948,1948,1948,1948,1948,1948,1948,1948,1948,1948,1948,1948,1948,1944,1948,1948,1948,1948,1948,1948,1948,1948,1948,1948,1948,1948,1948,1948,1946,1949,1949,1949,1949,1949,1949,1935,1938,1949,1949,1949,1947,1946,1948,1949,1949,1949,1944,1944,1949,1949,1949,1949,1949,1949,1983,1983,1949,1949,1949,1949,1949,1949,1949,1949,1949,1949,1949,1949,1949,1949,1949,1949,1949,1950,1932,1932,1946,1932,1949,1943,1950,1950,1950,1950,1950,1950,1950,1950,1950,1950,1949,1950,1937,1950,1950,1950,1950,1950,1950,1950,1950,1950,1949,1932,1932,1932,1932,1932,1932,1932,1932,1935,1944,1950,1926,1943,1950,1951,1942,1942,1942,1951,1944,1927,1934,1951,1953,1952,1953,1952,1952,1950,1947,1952,1952,1952,1952,1952,1952,1952,1952,1952,1952,1953,1953,1943,1918,1935,1931,1944,1936,1950,1935,1944,1934,1931,1950,1932,1943,1944,1935,1935,1950,1951,1951,1951,1944,1950,1952,1951,1918,1917,1952,1934,1947,1922,1953,1951,1946,1951,1930,1940,1939,1951,1951,1951,1951,1951,1949,1950,1930,1950,1950,1952,1951,1953,1935,1935,1935,1944,1953,1939,1953,1953,1953,1952,1942,1954,1954,1952,1954,1947,1943,1949,1949,1949,1948,1951,1951,1951,1953,1950,1952,1937,1950,1950,1951,1951,1951,1938,1951,1951,1951,1951,1951,1951,1951,1951,1951,1951,1950,1951,1951,1953,1950,1954,1951,1950,1953,1953,1951,1951,1951,1952,1952,1952,1952,1952,1953,1946,1952,1976,1952,1976,1952,1952,1952,1952,1976,1952,1976,1952,1952,1952,1952,1952,1976,1952,1952,1952,1952,1976,1952,1952,1952,1952,1952,1952,1952,1952,1952,1952,1952,1952,1952,1952,1952,1976,1952,1952,1952,1952,1952,1952,1952,1976,1952,1952,1952,1952,1952,1952,1952,1952,1952,1952,1952,1976,1976,1952,1952,1952,1952,1952,1952,1976,1952,1952,1952,1952,1952,1952,1952,1952,1952,1952,1952,1952,1952,1952,1952,1952,1952,1952,1952,1952,1952,1952,1952,1952,1952,1952,1952,1952,1952,1952,1952,1952,1952,1952,1952,1952,1952,1952,1935,1933,1952,1952,1952,1952,1952,1952,1952,1952,1952,1952,1952,1952,1952,1952,1952,1952,1952,1952,1952,1952,1952,1952,1952,1952,1952,1952,1952,1952,1952,1952,1952,1952,1952,1952,1952,1952,1952,1952,1952,1952,1952,1952,1952,1953,1953,1953,1953,1953,1953,1953,1953,1953,1953,1951,1954,1954,1955,1955,1955,1955,1952,1956,1956,1928,1928,1951,1955,1953,1953,1947,1954,1953,1954,1925,1954,1954,1954,1954,1954,1954,1954,1954,1954,1954,1954,1954,1954,1954,1954,1954,1954,1954,1954,1953,1954,1954,1954,1954,1955,1955,1955,1955,1955,1955,1955,1955,1955,1955,1955,1955,1955,1955,1955,1955,1955,1955,1955,1953,1955,1955,1953,1946,1955,1955,1955,1955,1955,1955,1955,1955,1948,1956,1955,1955,1955,1955,1955,1955,1955,1939,1953,1955,1952,1952,1955,1955,1955,1955,1955,1955,1956,1946,1952,1956,1955,1927,1955,1956,1953,1956,1956,1956,1954,1954,1954,1953,1955,1955,1956,1956,1956,1955,1957,1956,2014,1957,1957,1976,1976,1957,1957,1957,1976,1932,1957,1958,1958,1958,1958,1958,1937,1957,1959,1959,1951,1959,1958,1957,1957,1959,1959,1959,1957,1953,1976,1960,1960,1953,1960,1964,1956,1960,1941,1956,1967,1957,1955,1947,1964,1969,1970,1968,1955,1951,1963,1969,1936,1972,1951,1968,1975,1974,1971,1969,1976,1964,1942,1976,1949,1977,1973,1973,1977,1969,1981,1981,1981,1972,1984,1984,1945,1959,1959,1960,1957,1960,1960,1960,1960,1960,1960,1961,1961,1961,1961,1961,1961,1961,1942,1958,1959,1948,1960,1961,1961,1961,1961,1961,1958,1958,1958,1961,1961,1952,1952,1962,1962,1962,1961,1961,1962,1953,1962,1962,1962,1962,1962,1960,1962,1962,1962,1962,1962,1978,1962,1960,1953,1962,1963,1963,1962,1963,1961,1961,1933,1901,1904,1944,1916,1963,1963,1963,1950,1963,1952,1924,1964,1954,1958,1947,1960,1961,1962,1964,1964,1964,1962,1964,1960,1964,1965,1965,1965,1965,1962,1960,1965,1947,1964,1965,1965,1965,1965,1960,1964,1948,1956,1924,1965,1958,1966,1960,1960,1965,1956,1959,1967,1965,1967,1957,1966,1957,1953,1957,1960,1966,1959,1961,1963,1960,1963,1967,1965,1967,1967,1967,1966,1967,1967,1990,1963,1966,1951,1952,1974,1942,1951,1954,1961,1961,1968,1970,1967,1956,2013,1954,1966,1968,1968,1967,1968,1967,1953,1965,1967,1966,1967,1960,1968,1968,1969,1969,1968,1940,1954,1969,1964,1969,1969,1969,1966,1969,1966,1969,1968,1967,1970,1969,1963,1959,1959,1954,1941,1956,1950,1932,1956,1970,1968,1968,1970,1970,1963,1965,1937,1970,1970,1967,1970,1964,1970,1970,1970,1970,1970,2014,1968,1970,1963,1970,1970,1950,1968,1976,1964,1971,1971,1971,1971,1971,1971,1971,1971,1968,1971,1971,1971,1971,1958,1971,1971,1971,1971,1971,1971,1971,1971,1971,1971,1971,1971,1971,1971,1968,1972,1972,1970,1972,1972,1972,1972,1972,1932,1957,1960,1938,1955,1966,1966,1972,1935,1958,1958,1957,1967,1967,1967,1967,1967,1967,1968,1969,1966,1972,1972,1983,1971,1972,1970,1970,1970,1950,1953,1970,1973,1964,1952,1967,1966,1973,1957,1957,1960,1971,1966,1966,1966,1958,1958,1967,1945,1947,1965,1973,1971,1974,1971,1971,1971,1971,1973,1973,1973,1969,1974,1974,1971,1973,1975,1975,1969,1975,1971,1972,1968,1975,1971,1970,1970,1970,1932,1975,1972,1975,1967,1975,1974,1976,1969,1973,1973,1976,1929,1974,1935,1957,1975,1975,1975,1975,1975,1975,1976,1968,1976,1951,1959,1959,1964,1964,1976,1972,1972,1974,1974,1965,1974,1974,1960,1972,1976,1971,1974,1957,1976,1976,1976,1975,1972,1977,1977,1942,1942,1972,1972,1969,1972,1968,1968,1968,1977,1977,1966,1967,1960,1977,1977,1955,1971,1977,1977,1977,1977,1929,1974,1974,1978,1958,1955,1974,1980,1979,1979,1976,1957,1979,1976,1973,1974,1978,1969,1975,1974,1974,1979,1976,1976,1977,1981,1980,1980,1980,1980,1980,1980,1980,1963,1980,1980,1980,1979,1959,1978,1980,1968,1981,1976,1969,1975,1981,1971,1981,1979,1982,1982,1968,1983,1982,1977,1977,1981,1980,1957,1982,1957,1957,1957,1957,1957,1957,1960,1982,1977,1981,1980,1981,1980,1980,1980,1982,1982,1978,1982,1982,1980,1981,1960,1982,1982,1976,1981,1981,1978,1976,1983,1983,1982,1982,1982,1982,1983,1983,1983,1983,1984,1983,1983,1983,1983,1935,1983,1983,1983,1983,1983,1976,1983,1983,1984,1985,1985,1985,1985,1983,1983,1983,1983,1982,1982,1984,1981,1984,1984,1985,1984,1984,1984,1984,1977,1968,1984,1968,1983,1984,1984,1965,1965,1984,1963,1974,1963,1963,1983,1983,1980,1984,1950,1950,1985,1985,1984,1983,1984,1982,1984,1984,1984,1983,1982,1924,1978,1978,1982,1981,1984,1976,1975,1978,1978,1978,1978,1978,1978,1978,1978,1978,1978,1978,1978,1978,1978,1978,1978,1978,1978,1979,1984,1984,1980,1985,1985,1985,1980,1984,1986,1986,1985,1985,1983,1985,1986,1985,1985,1976,1986,1984,1984,1984,1972,1982,1985,1981,1979,1981,1981,1983,1981,1981,1985,1982,1983,1987,1971,1985,1964,1985,1986,1986,1986,1986,1988,1987,1987,1987,1987,1987,1979,1979,1973,1987,1986,1978,1986,1981,1975,1988,1974,1974,1974,1974,1974,1965,1967,1972,1972,1974,1975,1979,1972,1982,1976,1975,1980,1981,1975,1988,1987,1987,1987,1987,1975,1987,1983,1976,1976,1987,1987,1981,1982,1980,1981,1986,1981,1980,1985,1987,1985,1982,1977,1985,1984,1987,1988,1980,1979,1983,1981,1985,1985,1986,1986,1986,1983,1980,1985,1982,1967,1988,1988,1988,1986,1987,1988,1986,1985,1983,1983,1988,1986,1987,1987,1987,1986,1988,1988,1988,1988,1988,1984,1988,1980,1989,1989,1989,1988,1988,1988,1989,1989,1984,1989,1989,1989,1988,1988,1959,1977,1958,1976,1988,1988,1989,1989,1989,1984,1984,1984,1984,1986,1984,1984,1985,1985,1993,1993,1993,1973,1990,1989,1990,1985,1985,1985,1982,1982,1982,1982,1982,1983,1983,1989,1987,1988,1990,1990,1963,1960,1963,1991,1930,1989,1991,1981,1980,1989,1991,1986,1987,1992,1992,1992,1992,1992,1992,1992,1992,1992,1992,1992,1992,1991,1988,1990,1992,1992,1990,1991,1982,1981,1916,1993,1990,1991,1992,1993,1995,1995,1994,1991,1999,1985,1988,2003,1997,1999,1996,2004,2004,2004,2004,2003,2003,2008,2003,2008,2008,2008,2008,2003,2009,2009,2009,2006,2006,2006,2006,2006,1991,1992,1991,2016,2007,1984,2007,2005,2008,2011,2011,2012,1976,1985,1958,1975,2002,2012,2012,1937,1937,1940,1920,1933,1940,1941,1940,1940,1940,1941,1940,1940,1932,1940,1948,1947,1940,1955,1936,1984,1973,1993,2006,2010,2011,2012,2010,2010,2010,1999,1999,1980,2013,2013,2015,2012,2015,2014,2015,2015,2015,2015,2013,2015,2010,2015,2015,2015,2015,2015,2015,2012,2015,1974,1989,2004,1997,1990,1974,2007,2006,2002,1997,2015,2015,2015,2015,2015,2015,2015,2002,2003,2003,2012,2009,2010,1983,1991,1991,2006,1995,2010,2000,1992,2003,2009,1992,2004,1993,2013,2016,2015,2013,2013,2013,2015,2006,2018],\"xaxis\":\"x2\",\"yaxis\":\"y2\",\"type\":\"box\"}],                        {\"template\":{\"data\":{\"histogram2dcontour\":[{\"type\":\"histogram2dcontour\",\"colorbar\":{\"outlinewidth\":0,\"ticks\":\"\"},\"colorscale\":[[0.0,\"#0d0887\"],[0.1111111111111111,\"#46039f\"],[0.2222222222222222,\"#7201a8\"],[0.3333333333333333,\"#9c179e\"],[0.4444444444444444,\"#bd3786\"],[0.5555555555555556,\"#d8576b\"],[0.6666666666666666,\"#ed7953\"],[0.7777777777777778,\"#fb9f3a\"],[0.8888888888888888,\"#fdca26\"],[1.0,\"#f0f921\"]]}],\"choropleth\":[{\"type\":\"choropleth\",\"colorbar\":{\"outlinewidth\":0,\"ticks\":\"\"}}],\"histogram2d\":[{\"type\":\"histogram2d\",\"colorbar\":{\"outlinewidth\":0,\"ticks\":\"\"},\"colorscale\":[[0.0,\"#0d0887\"],[0.1111111111111111,\"#46039f\"],[0.2222222222222222,\"#7201a8\"],[0.3333333333333333,\"#9c179e\"],[0.4444444444444444,\"#bd3786\"],[0.5555555555555556,\"#d8576b\"],[0.6666666666666666,\"#ed7953\"],[0.7777777777777778,\"#fb9f3a\"],[0.8888888888888888,\"#fdca26\"],[1.0,\"#f0f921\"]]}],\"heatmap\":[{\"type\":\"heatmap\",\"colorbar\":{\"outlinewidth\":0,\"ticks\":\"\"},\"colorscale\":[[0.0,\"#0d0887\"],[0.1111111111111111,\"#46039f\"],[0.2222222222222222,\"#7201a8\"],[0.3333333333333333,\"#9c179e\"],[0.4444444444444444,\"#bd3786\"],[0.5555555555555556,\"#d8576b\"],[0.6666666666666666,\"#ed7953\"],[0.7777777777777778,\"#fb9f3a\"],[0.8888888888888888,\"#fdca26\"],[1.0,\"#f0f921\"]]}],\"heatmapgl\":[{\"type\":\"heatmapgl\",\"colorbar\":{\"outlinewidth\":0,\"ticks\":\"\"},\"colorscale\":[[0.0,\"#0d0887\"],[0.1111111111111111,\"#46039f\"],[0.2222222222222222,\"#7201a8\"],[0.3333333333333333,\"#9c179e\"],[0.4444444444444444,\"#bd3786\"],[0.5555555555555556,\"#d8576b\"],[0.6666666666666666,\"#ed7953\"],[0.7777777777777778,\"#fb9f3a\"],[0.8888888888888888,\"#fdca26\"],[1.0,\"#f0f921\"]]}],\"contourcarpet\":[{\"type\":\"contourcarpet\",\"colorbar\":{\"outlinewidth\":0,\"ticks\":\"\"}}],\"contour\":[{\"type\":\"contour\",\"colorbar\":{\"outlinewidth\":0,\"ticks\":\"\"},\"colorscale\":[[0.0,\"#0d0887\"],[0.1111111111111111,\"#46039f\"],[0.2222222222222222,\"#7201a8\"],[0.3333333333333333,\"#9c179e\"],[0.4444444444444444,\"#bd3786\"],[0.5555555555555556,\"#d8576b\"],[0.6666666666666666,\"#ed7953\"],[0.7777777777777778,\"#fb9f3a\"],[0.8888888888888888,\"#fdca26\"],[1.0,\"#f0f921\"]]}],\"surface\":[{\"type\":\"surface\",\"colorbar\":{\"outlinewidth\":0,\"ticks\":\"\"},\"colorscale\":[[0.0,\"#0d0887\"],[0.1111111111111111,\"#46039f\"],[0.2222222222222222,\"#7201a8\"],[0.3333333333333333,\"#9c179e\"],[0.4444444444444444,\"#bd3786\"],[0.5555555555555556,\"#d8576b\"],[0.6666666666666666,\"#ed7953\"],[0.7777777777777778,\"#fb9f3a\"],[0.8888888888888888,\"#fdca26\"],[1.0,\"#f0f921\"]]}],\"mesh3d\":[{\"type\":\"mesh3d\",\"colorbar\":{\"outlinewidth\":0,\"ticks\":\"\"}}],\"scatter\":[{\"fillpattern\":{\"fillmode\":\"overlay\",\"size\":10,\"solidity\":0.2},\"type\":\"scatter\"}],\"parcoords\":[{\"type\":\"parcoords\",\"line\":{\"colorbar\":{\"outlinewidth\":0,\"ticks\":\"\"}}}],\"scatterpolargl\":[{\"type\":\"scatterpolargl\",\"marker\":{\"colorbar\":{\"outlinewidth\":0,\"ticks\":\"\"}}}],\"bar\":[{\"error_x\":{\"color\":\"#2a3f5f\"},\"error_y\":{\"color\":\"#2a3f5f\"},\"marker\":{\"line\":{\"color\":\"#E5ECF6\",\"width\":0.5},\"pattern\":{\"fillmode\":\"overlay\",\"size\":10,\"solidity\":0.2}},\"type\":\"bar\"}],\"scattergeo\":[{\"type\":\"scattergeo\",\"marker\":{\"colorbar\":{\"outlinewidth\":0,\"ticks\":\"\"}}}],\"scatterpolar\":[{\"type\":\"scatterpolar\",\"marker\":{\"colorbar\":{\"outlinewidth\":0,\"ticks\":\"\"}}}],\"histogram\":[{\"marker\":{\"pattern\":{\"fillmode\":\"overlay\",\"size\":10,\"solidity\":0.2}},\"type\":\"histogram\"}],\"scattergl\":[{\"type\":\"scattergl\",\"marker\":{\"colorbar\":{\"outlinewidth\":0,\"ticks\":\"\"}}}],\"scatter3d\":[{\"type\":\"scatter3d\",\"line\":{\"colorbar\":{\"outlinewidth\":0,\"ticks\":\"\"}},\"marker\":{\"colorbar\":{\"outlinewidth\":0,\"ticks\":\"\"}}}],\"scattermapbox\":[{\"type\":\"scattermapbox\",\"marker\":{\"colorbar\":{\"outlinewidth\":0,\"ticks\":\"\"}}}],\"scatterternary\":[{\"type\":\"scatterternary\",\"marker\":{\"colorbar\":{\"outlinewidth\":0,\"ticks\":\"\"}}}],\"scattercarpet\":[{\"type\":\"scattercarpet\",\"marker\":{\"colorbar\":{\"outlinewidth\":0,\"ticks\":\"\"}}}],\"carpet\":[{\"aaxis\":{\"endlinecolor\":\"#2a3f5f\",\"gridcolor\":\"white\",\"linecolor\":\"white\",\"minorgridcolor\":\"white\",\"startlinecolor\":\"#2a3f5f\"},\"baxis\":{\"endlinecolor\":\"#2a3f5f\",\"gridcolor\":\"white\",\"linecolor\":\"white\",\"minorgridcolor\":\"white\",\"startlinecolor\":\"#2a3f5f\"},\"type\":\"carpet\"}],\"table\":[{\"cells\":{\"fill\":{\"color\":\"#EBF0F8\"},\"line\":{\"color\":\"white\"}},\"header\":{\"fill\":{\"color\":\"#C8D4E3\"},\"line\":{\"color\":\"white\"}},\"type\":\"table\"}],\"barpolar\":[{\"marker\":{\"line\":{\"color\":\"#E5ECF6\",\"width\":0.5},\"pattern\":{\"fillmode\":\"overlay\",\"size\":10,\"solidity\":0.2}},\"type\":\"barpolar\"}],\"pie\":[{\"automargin\":true,\"type\":\"pie\"}]},\"layout\":{\"autotypenumbers\":\"strict\",\"colorway\":[\"#636efa\",\"#EF553B\",\"#00cc96\",\"#ab63fa\",\"#FFA15A\",\"#19d3f3\",\"#FF6692\",\"#B6E880\",\"#FF97FF\",\"#FECB52\"],\"font\":{\"color\":\"#2a3f5f\"},\"hovermode\":\"closest\",\"hoverlabel\":{\"align\":\"left\"},\"paper_bgcolor\":\"white\",\"plot_bgcolor\":\"#E5ECF6\",\"polar\":{\"bgcolor\":\"#E5ECF6\",\"angularaxis\":{\"gridcolor\":\"white\",\"linecolor\":\"white\",\"ticks\":\"\"},\"radialaxis\":{\"gridcolor\":\"white\",\"linecolor\":\"white\",\"ticks\":\"\"}},\"ternary\":{\"bgcolor\":\"#E5ECF6\",\"aaxis\":{\"gridcolor\":\"white\",\"linecolor\":\"white\",\"ticks\":\"\"},\"baxis\":{\"gridcolor\":\"white\",\"linecolor\":\"white\",\"ticks\":\"\"},\"caxis\":{\"gridcolor\":\"white\",\"linecolor\":\"white\",\"ticks\":\"\"}},\"coloraxis\":{\"colorbar\":{\"outlinewidth\":0,\"ticks\":\"\"}},\"colorscale\":{\"sequential\":[[0.0,\"#0d0887\"],[0.1111111111111111,\"#46039f\"],[0.2222222222222222,\"#7201a8\"],[0.3333333333333333,\"#9c179e\"],[0.4444444444444444,\"#bd3786\"],[0.5555555555555556,\"#d8576b\"],[0.6666666666666666,\"#ed7953\"],[0.7777777777777778,\"#fb9f3a\"],[0.8888888888888888,\"#fdca26\"],[1.0,\"#f0f921\"]],\"sequentialminus\":[[0.0,\"#0d0887\"],[0.1111111111111111,\"#46039f\"],[0.2222222222222222,\"#7201a8\"],[0.3333333333333333,\"#9c179e\"],[0.4444444444444444,\"#bd3786\"],[0.5555555555555556,\"#d8576b\"],[0.6666666666666666,\"#ed7953\"],[0.7777777777777778,\"#fb9f3a\"],[0.8888888888888888,\"#fdca26\"],[1.0,\"#f0f921\"]],\"diverging\":[[0,\"#8e0152\"],[0.1,\"#c51b7d\"],[0.2,\"#de77ae\"],[0.3,\"#f1b6da\"],[0.4,\"#fde0ef\"],[0.5,\"#f7f7f7\"],[0.6,\"#e6f5d0\"],[0.7,\"#b8e186\"],[0.8,\"#7fbc41\"],[0.9,\"#4d9221\"],[1,\"#276419\"]]},\"xaxis\":{\"gridcolor\":\"white\",\"linecolor\":\"white\",\"ticks\":\"\",\"title\":{\"standoff\":15},\"zerolinecolor\":\"white\",\"automargin\":true,\"zerolinewidth\":2},\"yaxis\":{\"gridcolor\":\"white\",\"linecolor\":\"white\",\"ticks\":\"\",\"title\":{\"standoff\":15},\"zerolinecolor\":\"white\",\"automargin\":true,\"zerolinewidth\":2},\"scene\":{\"xaxis\":{\"backgroundcolor\":\"#E5ECF6\",\"gridcolor\":\"white\",\"linecolor\":\"white\",\"showbackground\":true,\"ticks\":\"\",\"zerolinecolor\":\"white\",\"gridwidth\":2},\"yaxis\":{\"backgroundcolor\":\"#E5ECF6\",\"gridcolor\":\"white\",\"linecolor\":\"white\",\"showbackground\":true,\"ticks\":\"\",\"zerolinecolor\":\"white\",\"gridwidth\":2},\"zaxis\":{\"backgroundcolor\":\"#E5ECF6\",\"gridcolor\":\"white\",\"linecolor\":\"white\",\"showbackground\":true,\"ticks\":\"\",\"zerolinecolor\":\"white\",\"gridwidth\":2}},\"shapedefaults\":{\"line\":{\"color\":\"#2a3f5f\"}},\"annotationdefaults\":{\"arrowcolor\":\"#2a3f5f\",\"arrowhead\":0,\"arrowwidth\":1},\"geo\":{\"bgcolor\":\"white\",\"landcolor\":\"#E5ECF6\",\"subunitcolor\":\"white\",\"showland\":true,\"showlakes\":true,\"lakecolor\":\"white\"},\"title\":{\"x\":0.05},\"mapbox\":{\"style\":\"light\"}}},\"xaxis\":{\"anchor\":\"y\",\"domain\":[0.0,1.0],\"title\":{\"text\":\"Year Cultured\"}},\"yaxis\":{\"anchor\":\"x\",\"domain\":[0.0,0.8316],\"title\":{\"text\":\"count\"}},\"xaxis2\":{\"anchor\":\"y2\",\"domain\":[0.0,1.0],\"matches\":\"x\",\"showticklabels\":false,\"showgrid\":true},\"yaxis2\":{\"anchor\":\"x2\",\"domain\":[0.8416,1.0],\"matches\":\"y2\",\"showticklabels\":false,\"showline\":false,\"ticks\":\"\",\"showgrid\":false},\"legend\":{\"tracegroupgap\":0},\"title\":{\"text\":\"Histogram of Year Cultured information from strains w/ genome assemblies in NCTC\"},\"barmode\":\"relative\"},                        {\"responsive\": true}                    ).then(function(){\n",
       "                            \n",
       "var gd = document.getElementById('a145d511-b8a8-43a8-b197-95398cce1553');\n",
       "var x = new MutationObserver(function (mutations, observer) {{\n",
       "        var display = window.getComputedStyle(gd).display;\n",
       "        if (!display || display === 'none') {{\n",
       "            console.log([gd, 'removed!']);\n",
       "            Plotly.purge(gd);\n",
       "            observer.disconnect();\n",
       "        }}\n",
       "}});\n",
       "\n",
       "// Listen for the removal of the full notebook cells\n",
       "var notebookContainer = gd.closest('#notebook-container');\n",
       "if (notebookContainer) {{\n",
       "    x.observe(notebookContainer, {childList: true});\n",
       "}}\n",
       "\n",
       "// Listen for the clearing of the current output cell\n",
       "var outputEl = gd.closest('.output');\n",
       "if (outputEl) {{\n",
       "    x.observe(outputEl, {childList: true});\n",
       "}}\n",
       "\n",
       "                        })                };                });            </script>        </div>"
      ]
     },
     "metadata": {},
     "output_type": "display_data"
    }
   ],
   "source": [
    "#sns.histplot(data=singleaccdf, x=\"Year_Cultured\", bins=30).set(title=\"Histogram of Year Cultured information of assembled genomes in NCTC\")\n",
    "px.histogram(\n",
    "    singleaccdf, \n",
    "    x=\"Year_Cultured\", \n",
    "    labels={'Year_Cultured':'Year Cultured'}, \n",
    "    title=\"Histogram of Year Cultured information from strains w/ genome assemblies in NCTC\",\n",
    "    marginal='box'\n",
    "    #nbins=30\n",
    ")"
   ]
  },
  {
   "cell_type": "code",
   "execution_count": 10,
   "id": "762ccea5-107d-4964-bd1b-cb613816131d",
   "metadata": {},
   "outputs": [
    {
     "name": "stdout",
     "output_type": "stream",
     "text": [
      "1906 assemblies analysed\n",
      "280 assemblies before 1940\n",
      "1626 assemblies after 1940\n"
     ]
    }
   ],
   "source": [
    "print(\"%s assemblies analysed\" % singleaccdf.shape[0])\n",
    "print(\"%s assemblies before 1940\" % singleaccdf.loc[singleaccdf['Year_Cultured'] < 1940].shape[0])\n",
    "print(\"%s assemblies after 1940\" % singleaccdf.loc[singleaccdf['Year_Cultured'] >= 1940].shape[0])"
   ]
  },
  {
   "cell_type": "code",
   "execution_count": 12,
   "id": "86ec6862-7cf8-45da-9fbc-b38ece38553d",
   "metadata": {},
   "outputs": [
    {
     "data": {
      "application/vnd.plotly.v1+json": {
       "config": {
        "plotlyServerURL": "https://plot.ly"
       },
       "data": [
        {
         "alignmentgroup": "True",
         "boxpoints": "all",
         "customdata": [
          [
           "Escherichia coli"
          ],
          [
           "Salmonella enterica "
          ],
          [
           "Staphylococcus aureus"
          ],
          [
           "Klebsiella pneumoniae"
          ],
          [
           "Streptococcus pyogenes"
          ],
          [
           "Pseudomonas aeruginosa"
          ],
          [
           "Streptococcus pneumoniae"
          ],
          [
           "Clostridium perfringens"
          ],
          [
           "Streptococcus dysgalactiae "
          ],
          [
           "Neisseria gonorrhoeae"
          ],
          [
           "Enterococcus faecalis"
          ],
          [
           "Legionella pneumophila"
          ],
          [
           "Klebsiella pneumoniae "
          ],
          [
           "Streptococcus agalactiae"
          ],
          [
           "Klebsiella pneumoniae sensu stricto"
          ],
          [
           "Clostridium botulinum"
          ],
          [
           "Citrobacter koseri"
          ],
          [
           "Streptococcus sp."
          ],
          [
           "Bacillus licheniformis"
          ],
          [
           "Streptococcus equi "
          ],
          [
           "Haemophilus influenzae"
          ],
          [
           "Acinetobacter baumannii"
          ],
          [
           "Staphylococcus saprophyticus "
          ],
          [
           "Campylobacter jejuni "
          ],
          [
           "Yersinia pseudotuberculosis"
          ],
          [
           "Neisseria meningitidis"
          ],
          [
           "Shigella flexneri"
          ],
          [
           "Bordetella pertussis"
          ],
          [
           "Shigella boydii"
          ],
          [
           "Klebsiella oxytoca"
          ],
          [
           "Brucella abortus"
          ],
          [
           "Mannheimia haemolytica"
          ],
          [
           "Staphylococcus epidermidis"
          ],
          [
           "Enterococcus faecium"
          ],
          [
           "Enterobacter cloacae"
          ],
          [
           "Proteus mirabilis"
          ],
          [
           "Listeria monocytogenes"
          ],
          [
           "Streptococcus sanguinis"
          ],
          [
           "Morganella morganii"
          ],
          [
           "Klebsiella sp."
          ],
          [
           "Streptococcus gordonii"
          ],
          [
           "Streptococcus anginosus"
          ],
          [
           "Salmonella sp."
          ],
          [
           "Clostridium difficile"
          ],
          [
           "Bordetella bronchiseptica"
          ],
          [
           "Corynebacterium ulcerans"
          ],
          [
           "Corynebacterium diphtheriae"
          ],
          [
           "Shewanella putrefaciens"
          ],
          [
           "Raoultella ornithinolytica"
          ],
          [
           "Chromobacterium violaceum"
          ],
          [
           "Pasteurella multocida"
          ],
          [
           "Burkholderia mallei"
          ],
          [
           "Klebsiella aerogenes"
          ],
          [
           "Stenotrophomonas maltophilia"
          ],
          [
           "Campylobacter upsaliensis"
          ],
          [
           "Kocuria rosea"
          ],
          [
           "Shigella dysenteriae"
          ],
          [
           "Streptococcus dysgalactiae"
          ],
          [
           "Campylobacter lari"
          ],
          [
           "Bordetella parapertussis"
          ],
          [
           "Streptococcus mutans"
          ],
          [
           "Pasteurella multocida "
          ],
          [
           "Actinobacillus pleuropneumoniae"
          ],
          [
           "Streptococcus uberis"
          ],
          [
           "Pseudomonas fluorescens"
          ],
          [
           "Providencia rustigianii"
          ],
          [
           "Staphylococcus warneri"
          ],
          [
           "Yokenella regensburgei"
          ],
          [
           "Enterococcus hirae"
          ],
          [
           "Oligella urethralis"
          ],
          [
           "Citrobacter freundii"
          ],
          [
           "Corynebacterium renale"
          ],
          [
           "Cronobacter sakazakii"
          ],
          [
           "Corynebacterium minutissimum"
          ],
          [
           "Enterococcus casseliflavus"
          ],
          [
           "Corynebacterium kutscheri"
          ],
          [
           "Moraxella (branhamella) catarrhalis"
          ],
          [
           "Campylobacter coli"
          ],
          [
           "Corynebacterium jeikeium"
          ],
          [
           "Elizabethkingia meningoseptica"
          ],
          [
           "Hafnia alvei"
          ],
          [
           "Brucella suis"
          ],
          [
           "Clostridium sporogenes"
          ],
          [
           "Campylobacter jejuni"
          ],
          [
           "Actinobacillus lignieresii"
          ],
          [
           "Enterococcus gallinarum"
          ],
          [
           "Haemophilus parainfluenzae"
          ],
          [
           "Pantoea agglomerans"
          ],
          [
           "Streptobacillus moniliformis"
          ],
          [
           "Neisseria lactamica"
          ],
          [
           "Paenibacillus polymyxa"
          ],
          [
           "Haemophilus haemoglobinophilus"
          ],
          [
           "Streptococcus lutetiensis"
          ],
          [
           "Aggregatibacter aphrophilus"
          ],
          [
           "Serratia rubidaea"
          ],
          [
           "Vibrio vulnificus"
          ],
          [
           "Pseudomonas putida"
          ],
          [
           "Rothia dentocariosa"
          ],
          [
           "Plesiomonas shigelloides"
          ],
          [
           "Ralstonia mannitolilytica"
          ],
          [
           "Raoultella planticola"
          ],
          [
           "Photobacterium damselae"
          ],
          [
           "Serratia marcescens"
          ],
          [
           "Brucella neotomae"
          ],
          [
           "Streptococcus porcinus"
          ],
          [
           "Streptococcus suis"
          ],
          [
           "Listeria ivanovii "
          ],
          [
           "Bacillus sphaericus"
          ],
          [
           "Moraxella (branhamella) ovis"
          ],
          [
           "Bacillus cereus"
          ],
          [
           "Pseudomonas stutzeri"
          ],
          [
           "Brevundimonas diminuta"
          ],
          [
           "Micrococcus luteus"
          ],
          [
           "Yersinia enterocolitica"
          ],
          [
           "Providencia stuartii"
          ],
          [
           "Brucella melitensis"
          ],
          [
           "Pseudomonas mendocina"
          ],
          [
           "Erysipelothrix rhusiopathiae"
          ],
          [
           "Enterococcus malodoratus"
          ],
          [
           "Legionella sainthelensi"
          ],
          [
           "Legionella spiritensis"
          ],
          [
           "Legionella pneumophila "
          ],
          [
           "Enterococcus cecorum"
          ],
          [
           "Listeria grayi "
          ],
          [
           "Mycoplasma hyorhinis"
          ],
          [
           "Neisseria animaloris"
          ],
          [
           "Enterococcus durans"
          ],
          [
           "Pseudomonas chlororaphis"
          ],
          [
           "Staphylococcus hyicus "
          ],
          [
           "Myroides odoratus"
          ],
          [
           "Proteus vulgaris"
          ],
          [
           "Megamonas hypermegale"
          ],
          [
           "Edwardsiella tarda"
          ],
          [
           "Staphylococcus lugdunensis"
          ],
          [
           "Providencia rettgeri"
          ],
          [
           "Pseudomonas taetrolens"
          ],
          [
           "Klebsiella edwardsii var. edwardsii"
          ],
          [
           "Neisseria zoodegmatis"
          ],
          [
           "Nocardia farcinica"
          ],
          [
           "Kingella kingae"
          ],
          [
           "Janthinobacterium lividum"
          ],
          [
           "Mycobacterium smegmatis"
          ],
          [
           "Helicobacter mustelae"
          ],
          [
           "Mycobacterium phlei"
          ],
          [
           "Helicobacter cinaedi"
          ],
          [
           "Helicobacter canis"
          ],
          [
           "Corynebacterium striatum"
          ],
          [
           "Pasteurella dagmatis"
          ],
          [
           "Pasteurella canis"
          ],
          [
           "Kurthia zopfii"
          ],
          [
           "Haemophilus parahaemolyticus"
          ],
          [
           "Lactobacillus acidophilus"
          ],
          [
           "Leclercia adecarboxylata"
          ],
          [
           "Haemophilus haemolyticus"
          ],
          [
           "Pragia fontium"
          ],
          [
           "Haemophilus aegyptius"
          ],
          [
           "Shimwellia blattae"
          ],
          [
           "Legionella feeleii"
          ],
          [
           "Raoultella terrigena"
          ],
          [
           "Sphingobacterium multivorum"
          ],
          [
           "Sphingomonas paucimobilis"
          ],
          [
           "Oligella ureolytica"
          ],
          [
           "Staphylococcus carnosus "
          ],
          [
           "Odoribacter splanchnicus"
          ],
          [
           "Fusobacterium nucleatum "
          ],
          [
           "streptococcus equisimilis"
          ],
          [
           "Streptococcus gallolyticus "
          ],
          [
           "Acinetobacter lwoffii"
          ],
          [
           "Yersinia pestis"
          ],
          [
           "Actinobacillus equuli"
          ],
          [
           "Streptococcus sobrinus"
          ],
          [
           "Vibrio cholerae biotype el tor"
          ],
          [
           "Streptococcus canis"
          ],
          [
           "Bergeyella zoohelcum"
          ],
          [
           "Streptococcus constellatus"
          ],
          [
           "Actinobacillus ureae"
          ],
          [
           "Bifidobacterium breve"
          ],
          [
           "Afipia felis"
          ],
          [
           "Weeksella virosa"
          ],
          [
           "Streptococcus equi subp. zooepidemicus"
          ],
          [
           "Streptococcus oralis"
          ],
          [
           "Streptococcus equinus"
          ],
          [
           "Avibacterium paragallinarum"
          ],
          [
           "Capnocytophaga sputigena"
          ],
          [
           "Capnocytophaga ochracea"
          ],
          [
           "Capnocytophaga canimorsus"
          ],
          [
           "Campylobacter ureolyticus"
          ],
          [
           "Campylobacter sputorum "
          ],
          [
           "Campylobacter hyointestinalis"
          ],
          [
           "Vibrio parahaemolyticus"
          ],
          [
           "Aerococcus viridans"
          ],
          [
           "Campylobacter fetus "
          ],
          [
           "Streptococcus mitis"
          ],
          [
           "Burkholderia pseudomallei"
          ],
          [
           "Vibrio metschnikovii"
          ],
          [
           "Streptococcus bovis"
          ],
          [
           "Bacteroides thetaiotaomicron"
          ],
          [
           "Burkholderia cepacia"
          ],
          [
           "Corynebacterium matruchotii"
          ],
          [
           "Vibrio alginolyticus"
          ],
          [
           "Clostridium novyi"
          ],
          [
           "Staphylococcus xylosus"
          ],
          [
           "Arcanobacterium haemolyticum"
          ],
          [
           "Acinetobacter junii"
          ],
          [
           "Achromobacter xylosoxidans "
          ],
          [
           "Clostridium tetani"
          ],
          [
           "Corynebacterium pseudotuberculosis"
          ],
          [
           "Acinetobacter haemolyticus"
          ],
          [
           "Clostridium haemolyticum"
          ],
          [
           "Bacillus pumilus"
          ],
          [
           "Staphylococcus pseudintermedius"
          ],
          [
           "Bacillus megaterium"
          ],
          [
           "Pseudomonas lemoignei"
          ],
          [
           "Pseudomonas mucidolens"
          ],
          [
           "Pseudomonas luteola"
          ],
          [
           "Trueperella pyogenes"
          ],
          [
           "Veillonella atypica"
          ],
          [
           "Pseudomonas oleovorans"
          ],
          [
           "Propionibacterium propionicum"
          ],
          [
           "Propionibacterium granulosum"
          ],
          [
           "Pseudomonas pseudoalcaligenes "
          ],
          [
           "Tsukamurella paurometabola"
          ],
          [
           "Vibrio cholerae"
          ],
          [
           "Vibrio hollisae"
          ],
          [
           "Veillonella criceti"
          ],
          [
           "Veillonella dispar"
          ],
          [
           "Vibrio harveyi"
          ],
          [
           "Providencia alcalifaciens"
          ],
          [
           "Providencia friedericiana"
          ],
          [
           "Vibrio furnissii"
          ],
          [
           "Pseudomonas alcaligenes"
          ],
          [
           "Providencia heimbachae"
          ],
          [
           "Veillonella parvula"
          ],
          [
           "Veillonella rodentium"
          ],
          [
           "Vibrio fluvialis"
          ],
          [
           "Vibrio cholerae non 0:1"
          ],
          [
           "Propionibacterium australiense"
          ],
          [
           "Proteus penneri"
          ],
          [
           "Staphylococcus piscifermentans"
          ],
          [
           "Prevotella nigrescens"
          ],
          [
           "Prevotella disiens"
          ],
          [
           "Nocardia otitidiscaviarum"
          ],
          [
           "Nocardia brasiliensis"
          ],
          [
           "Nocardia asteroides"
          ],
          [
           "Yersinia ruckeri"
          ],
          [
           "Neisseria weaveri"
          ],
          [
           "Neisseria mucosa"
          ],
          [
           "acinetobacter genospecies 13"
          ],
          [
           "Neisseria flavescens"
          ],
          [
           "lactobacillus odontolyticus"
          ],
          [
           "Neisseria elongata "
          ],
          [
           "Neisseria elongata"
          ],
          [
           "Neisseria cinerea"
          ],
          [
           "Neisseria canis"
          ],
          [
           "moraxella liquefaciens"
          ],
          [
           "Neisseria animalis"
          ],
          [
           "pseudomonas nigrifaciens"
          ],
          [
           "Myroides odoratimimus"
          ],
          [
           "Nocardiopsis dassonvillei"
          ],
          [
           "Paenibacillus macerans"
          ],
          [
           "Yersinia kristensenii"
          ],
          [
           "Pasteurella testudinis"
          ],
          [
           "Vibrio mimicus"
          ],
          [
           "Porphyromonas macacae"
          ],
          [
           "Pluralibacter gergoviae"
          ],
          [
           "Peptostreptococcus anaerobius"
          ],
          [
           "Peptoniphilus indolicus"
          ],
          [
           "Pediococcus pentosaceus"
          ],
          [
           "Weissella viridescens"
          ],
          [
           "Pasteurella pneumotropica"
          ],
          [
           "Paenibacillus thiaminolyticus"
          ],
          [
           "Wolinella succinogenes"
          ],
          [
           "Yersinia canariae"
          ],
          [
           "Pasteurella mairii"
          ],
          [
           "Yersinia frederiksenii"
          ],
          [
           "Pasteurella bettyae"
          ],
          [
           "Parvimonas micra"
          ],
          [
           "Yersinia intermedia"
          ],
          [
           "Tissierella praeacuta"
          ],
          [
           "Rhodococcus hoagii"
          ],
          [
           "Taylorella equigenitalis"
          ],
          [
           "Staphylococcus fleurettii"
          ],
          [
           "Staphylococcus equorum"
          ],
          [
           "Staphylococcus devriesei"
          ],
          [
           "Staphylococcus delphini"
          ],
          [
           "Staphylococcus condimenti"
          ],
          [
           "Staphylococcus cohnii"
          ],
          [
           "Staphylococcus chromogenes"
          ],
          [
           "Staphylococcus caprae"
          ],
          [
           "Staphylococcus capitis"
          ],
          [
           "Staphylococcus auricularis"
          ],
          [
           "Streptococcus constellatus "
          ],
          [
           "Staphylococcus arlettae"
          ],
          [
           "Staphylococcus argenteus"
          ],
          [
           "Staphylococcus agnetis"
          ],
          [
           "Streptococcus criceti"
          ],
          [
           "Sphingobacterium thalpophilum"
          ],
          [
           "Sphingobacterium spiritivorum"
          ],
          [
           "Streptococcus downei"
          ],
          [
           "Streptococcus australis"
          ],
          [
           "Staphylococcus sp."
          ],
          [
           "Streptococcus equi"
          ],
          [
           "Staphylococcus simulans"
          ],
          [
           "Staphylococcus nepalensis"
          ],
          [
           "Staphylococcus muscae"
          ],
          [
           "Staphylococcus microti"
          ],
          [
           "Staphylococcus lentus"
          ],
          [
           "Staphylococcus kloosii"
          ],
          [
           "Staphylococcus jettensis"
          ],
          [
           "Staphylococcus saccharolyticus"
          ],
          [
           "Staphylococcus intermedius"
          ],
          [
           "Staphylococcus schleiferi"
          ],
          [
           "Staphylococcus hyicus"
          ],
          [
           "Mycoplasma salivarium"
          ],
          [
           "Staphylococcus hominis "
          ],
          [
           "Staphylococcus haemolyticus"
          ],
          [
           "Staphylococcus gallinarum"
          ],
          [
           "Staphylococcus schweitzeri"
          ],
          [
           "Staphylococcus sciuri "
          ],
          [
           "Staphylococcus simiae"
          ],
          [
           "Slackia heliotrinireducens"
          ],
          [
           "Shigella sonnei"
          ],
          [
           "Tatumella ptyseos"
          ],
          [
           "Streptococcus salivarius"
          ],
          [
           "Salmonella bongori serotype Brookfield"
          ],
          [
           "Rikenella microfusus"
          ],
          [
           "Riemerella anatipestifer"
          ],
          [
           "Streptococcus thermophilus"
          ],
          [
           "Rhodococcus rhodochrous"
          ],
          [
           "Staphylococcus petrasii"
          ],
          [
           "Rhodococcus erythropolis"
          ],
          [
           "Rhodococcus equi"
          ],
          [
           "Rhodococcus coprophilus"
          ],
          [
           "Streptococcus urinalis"
          ],
          [
           "Streptococcus vestibularis"
          ],
          [
           "Ralstonia pickettii"
          ],
          [
           "Psychrobacter phenylpyruvicus"
          ],
          [
           "Streptomyces griseus"
          ],
          [
           "Suttonella indologenes"
          ],
          [
           "Tatlockia maceachernii"
          ],
          [
           "Pseudomonas synxantha"
          ],
          [
           "Streptococcus salivarius "
          ],
          [
           "Sebaldella termitidis"
          ],
          [
           "Streptococcus ferus"
          ],
          [
           "Streptococcus ratti"
          ],
          [
           "Streptococcus hyointestinalis"
          ],
          [
           "Streptococcus hyovaginalis"
          ],
          [
           "Shewanella baltica"
          ],
          [
           "Streptococcus infantarius"
          ],
          [
           "Serratia proteamaculans "
          ],
          [
           "Streptococcus infantis"
          ],
          [
           "Serratia plymuthica"
          ],
          [
           "Serratia odorifera"
          ],
          [
           "Streptococcus intermedius"
          ],
          [
           "Streptococcus macacae"
          ],
          [
           "Streptococcus massilliensis"
          ],
          [
           "Streptococcus oligofermentans"
          ],
          [
           "Streptococcus pleomorphus"
          ],
          [
           "Streptococcus pseudoporcinus"
          ],
          [
           "Serratia liquefaciens"
          ],
          [
           "Serratia grimesii"
          ],
          [
           "Serratia ficaria"
          ],
          [
           "Mycoplasma synoviae"
          ],
          [
           "Acholeplasma axanthum"
          ],
          [
           "Mycoplasma putrefaciens"
          ],
          [
           "Brevundimonas vesicularis"
          ],
          [
           "Clostridium histolyticum"
          ],
          [
           "Clostridium fallax"
          ],
          [
           "Clostridium cochlearium"
          ],
          [
           "Clostridium clostridiiforme"
          ],
          [
           "Clostridium carnis"
          ],
          [
           "Clostridium baratii"
          ],
          [
           "Citrobacter youngae"
          ],
          [
           "Citrobacter gillenii"
          ],
          [
           "Citrobacter braakii"
          ],
          [
           "Citrobacter amalonaticus"
          ],
          [
           "Chryseobacterium meningosepticum"
          ],
          [
           "Chryseobacterium lactis"
          ],
          [
           "Chryseobacterium indologenes"
          ],
          [
           "Chryseobacterium gleum"
          ],
          [
           "Chryseobacterium balustinum"
          ],
          [
           "Cellulomonas fimi"
          ],
          [
           "Cedecea neteri"
          ],
          [
           "Cedecea lapagei"
          ],
          [
           "Cardiobacterium hominis"
          ],
          [
           "Campylobacter helveticus"
          ],
          [
           "Campylobacter gracilis"
          ],
          [
           "Buttiauxella agrestis"
          ],
          [
           "Burkholderia gladioli"
          ],
          [
           "Burkholderia cenocepacia"
          ],
          [
           "Budvicia aquatica"
          ],
          [
           "Brucella ovis"
          ],
          [
           "Brucella intermedia"
          ],
          [
           "Clostridium indolis"
          ],
          [
           "Clostridium paraputrificum"
          ],
          [
           "Clostridium putrefaciens"
          ],
          [
           "Dermatophilus congolensis"
          ],
          [
           "Escherichia fergusonii"
          ],
          [
           "Escherichia dispar"
          ],
          [
           "Enterococcus mundtii"
          ],
          [
           "Enterococcus avium"
          ],
          [
           "Enterobacter taylorae"
          ],
          [
           "Enterobacter intermedius"
          ],
          [
           "Enterobacter asburiae"
          ],
          [
           "Enterobacter amnigenus"
          ],
          [
           "Enterobacter aerogenes"
          ],
          [
           "Eikenella corrodens"
          ],
          [
           "Edwardsiella ictaluri"
          ],
          [
           "Edwardsiella hoshinae"
          ],
          [
           "Dermacoccus nishinomiyaensis"
          ],
          [
           "Clostridium sphenoides"
          ],
          [
           "Cronobacter universalis"
          ],
          [
           "Corynebacterium xerosis"
          ],
          [
           "Corynebacterium urealyticum"
          ],
          [
           "Corynebacterium segmentosum"
          ],
          [
           "Corynebacterium pilosum"
          ],
          [
           "Corynebacterium diptheriae var mitis"
          ],
          [
           "Corynebacterium cystitidis"
          ],
          [
           "Corynebacterium amycolatum"
          ],
          [
           "Comamonas testosteroni"
          ],
          [
           "Comamonas terrigena"
          ],
          [
           "Collinsella aerofaciens"
          ],
          [
           "Clostridium tetanomorphum"
          ],
          [
           "Brucella anthropi"
          ],
          [
           "Brevundimonas vancanneytii"
          ],
          [
           "Escherichia vulneris"
          ],
          [
           "Brevibacterium iodinum"
          ],
          [
           "Alysiella crassa"
          ],
          [
           "Alloiococcus otitis"
          ],
          [
           "Alcaligenes odorans"
          ],
          [
           "Aggregatibacter sp."
          ],
          [
           "Aggregatibacter segnis"
          ],
          [
           "Aggregatibacter actinomycetemcomitans"
          ],
          [
           "Aeromonas salmonicida"
          ],
          [
           "Aeromonas hydrophila"
          ],
          [
           "Aeromonas caviae"
          ],
          [
           "Actinomyces viscosus"
          ],
          [
           "Actinomyces slackii"
          ],
          [
           "Actinomyces odontolyticus"
          ],
          [
           "Actinomyces naeslundii"
          ],
          [
           "Actinomyces howellii"
          ],
          [
           "Actinomyces denticolens"
          ],
          [
           "Actinomyces bovis"
          ],
          [
           "Actinomadura madurae"
          ],
          [
           "Actinobacillus seminis"
          ],
          [
           "Actinobacillus rossii"
          ],
          [
           "Acinetobacter sp."
          ],
          [
           "Acinetobacter johnsonii"
          ],
          [
           "Acinetobacter haemolyticus "
          ],
          [
           "Achromobacter sp."
          ],
          [
           "Achromobacter insolitus"
          ],
          [
           "Achromobacter denitrificans"
          ],
          [
           "Acholeplasma oculi"
          ],
          [
           "Acholeplasma laidlawii"
          ],
          [
           "Aminobacter aminovorans"
          ],
          [
           "Anaerobiospirillum thomasii"
          ],
          [
           "Anaerococcus octavius"
          ],
          [
           "Bacteroides eggerthii"
          ],
          [
           "Brevibacillus brevis"
          ],
          [
           "Bordetella avium"
          ],
          [
           "Blautia coccoides"
          ],
          [
           "Bifidobacterium longum "
          ],
          [
           "Bifidobacterium longum"
          ],
          [
           "Bifidobacterium dentium"
          ],
          [
           "Bifidobacterium adolescentis"
          ],
          [
           "Bergeriella denitrificans"
          ],
          [
           "Bacteroides vulgatus"
          ],
          [
           "Bacteroides tectus"
          ],
          [
           "Bacteroides ovatus"
          ],
          [
           "Bacteroides fragilis"
          ],
          [
           "Bacteroides distasonis"
          ],
          [
           "Anaerococcus prevotii"
          ],
          [
           "Bacillus subtilis "
          ],
          [
           "Bacillus subtilis"
          ],
          [
           "Bacillus lentus"
          ],
          [
           "Bacillus freudenreichii"
          ],
          [
           "Bacillus firmus"
          ],
          [
           "Bacillus circulans"
          ],
          [
           "Avibacterium volantium"
          ],
          [
           "Avibacterium gallinarum"
          ],
          [
           "Avibacterium avium"
          ],
          [
           "Arcobacter skirrowii"
          ],
          [
           "Arcobacter butzleri"
          ],
          [
           "Aneurinibacillus migulanus"
          ],
          [
           "Escherichia hermannii"
          ],
          [
           "Ewingella americana"
          ],
          [
           "Mycoplasma pulmonis"
          ],
          [
           "Listeria welshimeri"
          ],
          [
           "Mycoplasma alkalescens"
          ],
          [
           "Mycobacterium xenopi"
          ],
          [
           "Mycobacterium tokaiense"
          ],
          [
           "Mycobacterium thermoresistibile"
          ],
          [
           "Mycobacterium terrae"
          ],
          [
           "Mycobacterium marinum"
          ],
          [
           "Mycobacterium gilvum"
          ],
          [
           "Mycobacterium fortuitum"
          ],
          [
           "Mycobacterium flavescens"
          ],
          [
           "Mycobacterium farcinogenes "
          ],
          [
           "Mycobacterium chubuense"
          ],
          [
           "Mycobacterium chitae"
          ],
          [
           "Mycobacterium chelonae "
          ],
          [
           "Mycobacterium aurum"
          ],
          [
           "Mycobacterium aichiense"
          ],
          [
           "Mycobacterium abscessus"
          ],
          [
           "Moraxella osloensis"
          ],
          [
           "Moraxella lacunata"
          ],
          [
           "Moraxella equi"
          ],
          [
           "Moraxella bovis"
          ],
          [
           "Moraxella atlantae"
          ],
          [
           "Moraxella (branhamella) cuniculi"
          ],
          [
           "Acholeplasma hippikon"
          ],
          [
           "Moellerella wisconsensis"
          ],
          [
           "Mobiluncus mulieris"
          ],
          [
           "Mobiluncus curtisii "
          ],
          [
           "Micrococcus lylae"
          ],
          [
           "Mycoplasma anatis"
          ],
          [
           "Mycoplasma arginini"
          ],
          [
           "Mycoplasma arthritidis"
          ],
          [
           "Mycoplasma equirhinis"
          ],
          [
           "Mycoplasma pneumoniae"
          ],
          [
           "Mycoplasma ovipneumoniae"
          ],
          [
           "Mycoplasma orale"
          ],
          [
           "Mycoplasma neurolyticum"
          ],
          [
           "Mycoplasma meleagridis"
          ],
          [
           "Mycoplasma maculosum"
          ],
          [
           "Mycoplasma iowae"
          ],
          [
           "Mycoplasma glycophilum"
          ],
          [
           "Mycoplasma gallopavonis"
          ],
          [
           "Mycoplasma gallisepticum"
          ],
          [
           "Mycoplasma gallinaceum"
          ],
          [
           "Mycoplasma fermentans"
          ],
          [
           "Mycoplasma edwardii"
          ],
          [
           "Mycoplasma bovigenitalium"
          ],
          [
           "Mycoplasma dispar"
          ],
          [
           "Mycoplasma cynos"
          ],
          [
           "Mycoplasma conjunctivae"
          ],
          [
           "Mycoplasma columborale"
          ],
          [
           "Mycoplasma columbinum"
          ],
          [
           "Mycoplasma columbinasale"
          ],
          [
           "Mycoplasma cloacale"
          ],
          [
           "Mycoplasma citelli"
          ],
          [
           "Mycoplasma caviae"
          ],
          [
           "Mycoplasma canis"
          ],
          [
           "Mycoplasma californicum"
          ],
          [
           "Mycoplasma bovirhinis"
          ],
          [
           "Listonella anguillarum"
          ],
          [
           "Listeria innocua"
          ],
          [
           "Falcivibrio grandis"
          ],
          [
           "Listeria fleischmannii "
          ],
          [
           "Kluyvera cryocrescens"
          ],
          [
           "Kluyvera ascorbata"
          ],
          [
           "Kingella denitrificans"
          ],
          [
           "Jonesia denitrificans"
          ],
          [
           "Iodobacter fluviatilis"
          ],
          [
           "Helicobacter pylori"
          ],
          [
           "Helicobacter muridarum"
          ],
          [
           "Helicobacter fennelliae"
          ],
          [
           "Haemophilus parasuis"
          ],
          [
           "Haemophilus paraphrohaemolyticus"
          ],
          [
           "Haemophilus influenzae biotype aegyptius"
          ],
          [
           "Haemophilus ducreyi"
          ],
          [
           "Grimontia hollisae"
          ],
          [
           "Gordonia terrae"
          ],
          [
           "Gordonia bronchialis"
          ],
          [
           "Gemella morbillorum"
          ],
          [
           "Gemella haemolysans"
          ],
          [
           "Gardnerella vaginalis"
          ],
          [
           "Gallibacterium anatis"
          ],
          [
           "Fusobacterium varium"
          ],
          [
           "Fusobacterium ulcerans"
          ],
          [
           "Fusobacterium necrogenes"
          ],
          [
           "Fluoribacter dumoffii"
          ],
          [
           "Fluoribacter bozemanae"
          ],
          [
           "Flavobacterium thermophilum"
          ],
          [
           "Flavobacterium mizutaii"
          ],
          [
           "Falcivibrio vaginalis"
          ],
          [
           "Kocuria kristinae"
          ],
          [
           "Kocuria rhizophila"
          ],
          [
           "Kytococcus sedentarius"
          ],
          [
           "Legionella longbeachae"
          ],
          [
           "Listeria booriae"
          ],
          [
           "Leuconostoc mesenteroides"
          ],
          [
           "Leminorella richardii"
          ],
          [
           "Leminorella grimontii"
          ],
          [
           "Legionella worsleiensis"
          ],
          [
           "Legionella wadsworthii"
          ],
          [
           "Legionella steigerwaltii"
          ],
          [
           "Legionella quinlivanii"
          ],
          [
           "Legionella quateirensis"
          ],
          [
           "Legionella parisiensis"
          ],
          [
           "Legionella oakridgensis"
          ],
          [
           "Legionella moravica"
          ],
          [
           "Legionella londiniensis"
          ],
          [
           "Lactobacillus gasseri"
          ],
          [
           "Legionella lansingensis"
          ],
          [
           "Legionella jordanis"
          ],
          [
           "Legionella israelensis"
          ],
          [
           "Legionella hackeliae"
          ],
          [
           "Legionella gratiana"
          ],
          [
           "Legionella gormanii"
          ],
          [
           "Legionella geestiana"
          ],
          [
           "Legionella cincinnatiensis"
          ],
          [
           "Legionella cherrii"
          ],
          [
           "Legionella birminghamensis"
          ],
          [
           "Legionella adelaidensis"
          ],
          [
           "Lactobacillus plantarum "
          ],
          [
           "Moraxella (branhamella) caviae"
          ]
         ],
         "fillcolor": "rgba(255,255,255,0)",
         "hoveron": "points",
         "hovertemplate": "Number of Strains w/ assemblies=%{x}<br>Species=%{customdata[0]}<extra></extra>",
         "legendgroup": "",
         "line": {
          "color": "rgba(255,255,255,0)"
         },
         "marker": {
          "color": "#636efa"
         },
         "name": "",
         "offsetgroup": "",
         "orientation": "h",
         "pointpos": 0,
         "showlegend": false,
         "type": "box",
         "x": [
          228,
          119,
          105,
          88,
          77,
          39,
          29,
          22,
          20,
          19,
          19,
          19,
          18,
          17,
          16,
          12,
          12,
          11,
          11,
          10,
          10,
          10,
          10,
          9,
          9,
          9,
          8,
          8,
          7,
          7,
          7,
          7,
          7,
          7,
          7,
          7,
          6,
          6,
          6,
          6,
          6,
          5,
          5,
          5,
          5,
          5,
          5,
          5,
          5,
          5,
          5,
          5,
          5,
          5,
          4,
          4,
          4,
          4,
          4,
          4,
          4,
          4,
          4,
          4,
          4,
          4,
          4,
          4,
          4,
          4,
          4,
          3,
          3,
          3,
          3,
          3,
          3,
          3,
          3,
          3,
          3,
          3,
          3,
          3,
          3,
          3,
          3,
          3,
          3,
          3,
          3,
          3,
          3,
          3,
          3,
          3,
          3,
          3,
          3,
          3,
          3,
          3,
          3,
          3,
          3,
          3,
          3,
          3,
          3,
          3,
          3,
          3,
          3,
          3,
          3,
          3,
          3,
          2,
          2,
          2,
          2,
          2,
          2,
          2,
          2,
          2,
          2,
          2,
          2,
          2,
          2,
          2,
          2,
          2,
          2,
          2,
          2,
          2,
          2,
          2,
          2,
          2,
          2,
          2,
          2,
          2,
          2,
          2,
          2,
          2,
          2,
          2,
          2,
          2,
          2,
          2,
          2,
          2,
          2,
          2,
          2,
          2,
          2,
          2,
          2,
          2,
          2,
          2,
          2,
          2,
          2,
          2,
          2,
          2,
          2,
          2,
          2,
          2,
          2,
          2,
          2,
          2,
          2,
          2,
          2,
          2,
          2,
          2,
          2,
          2,
          2,
          2,
          2,
          2,
          2,
          2,
          2,
          2,
          2,
          2,
          2,
          2,
          2,
          2,
          2,
          2,
          2,
          2,
          2,
          2,
          2,
          2,
          1,
          1,
          1,
          1,
          1,
          1,
          1,
          1,
          1,
          1,
          1,
          1,
          1,
          1,
          1,
          1,
          1,
          1,
          1,
          1,
          1,
          1,
          1,
          1,
          1,
          1,
          1,
          1,
          1,
          1,
          1,
          1,
          1,
          1,
          1,
          1,
          1,
          1,
          1,
          1,
          1,
          1,
          1,
          1,
          1,
          1,
          1,
          1,
          1,
          1,
          1,
          1,
          1,
          1,
          1,
          1,
          1,
          1,
          1,
          1,
          1,
          1,
          1,
          1,
          1,
          1,
          1,
          1,
          1,
          1,
          1,
          1,
          1,
          1,
          1,
          1,
          1,
          1,
          1,
          1,
          1,
          1,
          1,
          1,
          1,
          1,
          1,
          1,
          1,
          1,
          1,
          1,
          1,
          1,
          1,
          1,
          1,
          1,
          1,
          1,
          1,
          1,
          1,
          1,
          1,
          1,
          1,
          1,
          1,
          1,
          1,
          1,
          1,
          1,
          1,
          1,
          1,
          1,
          1,
          1,
          1,
          1,
          1,
          1,
          1,
          1,
          1,
          1,
          1,
          1,
          1,
          1,
          1,
          1,
          1,
          1,
          1,
          1,
          1,
          1,
          1,
          1,
          1,
          1,
          1,
          1,
          1,
          1,
          1,
          1,
          1,
          1,
          1,
          1,
          1,
          1,
          1,
          1,
          1,
          1,
          1,
          1,
          1,
          1,
          1,
          1,
          1,
          1,
          1,
          1,
          1,
          1,
          1,
          1,
          1,
          1,
          1,
          1,
          1,
          1,
          1,
          1,
          1,
          1,
          1,
          1,
          1,
          1,
          1,
          1,
          1,
          1,
          1,
          1,
          1,
          1,
          1,
          1,
          1,
          1,
          1,
          1,
          1,
          1,
          1,
          1,
          1,
          1,
          1,
          1,
          1,
          1,
          1,
          1,
          1,
          1,
          1,
          1,
          1,
          1,
          1,
          1,
          1,
          1,
          1,
          1,
          1,
          1,
          1,
          1,
          1,
          1,
          1,
          1,
          1,
          1,
          1,
          1,
          1,
          1,
          1,
          1,
          1,
          1,
          1,
          1,
          1,
          1,
          1,
          1,
          1,
          1,
          1,
          1,
          1,
          1,
          1,
          1,
          1,
          1,
          1,
          1,
          1,
          1,
          1,
          1,
          1,
          1,
          1,
          1,
          1,
          1,
          1,
          1,
          1,
          1,
          1,
          1,
          1,
          1,
          1,
          1,
          1,
          1,
          1,
          1,
          1,
          1,
          1,
          1,
          1,
          1,
          1,
          1,
          1,
          1,
          1,
          1,
          1,
          1,
          1,
          1,
          1,
          1,
          1,
          1,
          1,
          1,
          1,
          1,
          1,
          1,
          1,
          1,
          1,
          1,
          1,
          1,
          1,
          1,
          1,
          1,
          1,
          1,
          1,
          1,
          1,
          1,
          1,
          1,
          1,
          1,
          1,
          1,
          1,
          1,
          1,
          1,
          1,
          1,
          1,
          1,
          1,
          1,
          1,
          1,
          1,
          1,
          1,
          1,
          1,
          1,
          1,
          1,
          1,
          1,
          1,
          1,
          1,
          1,
          1,
          1,
          1,
          1,
          1,
          1,
          1,
          1,
          1,
          1,
          1,
          1,
          1,
          1,
          1,
          1,
          1,
          1,
          1,
          1,
          1,
          1,
          1,
          1,
          1,
          1,
          1,
          1,
          1,
          1,
          1,
          1,
          1,
          1,
          1
         ],
         "x0": " ",
         "xaxis": "x",
         "y0": " ",
         "yaxis": "y"
        }
       ],
       "layout": {
        "autosize": true,
        "boxmode": "group",
        "legend": {
         "tracegroupgap": 0
        },
        "margin": {
         "t": 60
        },
        "template": {
         "data": {
          "bar": [
           {
            "error_x": {
             "color": "#2a3f5f"
            },
            "error_y": {
             "color": "#2a3f5f"
            },
            "marker": {
             "line": {
              "color": "#E5ECF6",
              "width": 0.5
             },
             "pattern": {
              "fillmode": "overlay",
              "size": 10,
              "solidity": 0.2
             }
            },
            "type": "bar"
           }
          ],
          "barpolar": [
           {
            "marker": {
             "line": {
              "color": "#E5ECF6",
              "width": 0.5
             },
             "pattern": {
              "fillmode": "overlay",
              "size": 10,
              "solidity": 0.2
             }
            },
            "type": "barpolar"
           }
          ],
          "carpet": [
           {
            "aaxis": {
             "endlinecolor": "#2a3f5f",
             "gridcolor": "white",
             "linecolor": "white",
             "minorgridcolor": "white",
             "startlinecolor": "#2a3f5f"
            },
            "baxis": {
             "endlinecolor": "#2a3f5f",
             "gridcolor": "white",
             "linecolor": "white",
             "minorgridcolor": "white",
             "startlinecolor": "#2a3f5f"
            },
            "type": "carpet"
           }
          ],
          "choropleth": [
           {
            "colorbar": {
             "outlinewidth": 0,
             "ticks": ""
            },
            "type": "choropleth"
           }
          ],
          "contour": [
           {
            "colorbar": {
             "outlinewidth": 0,
             "ticks": ""
            },
            "colorscale": [
             [
              0,
              "#0d0887"
             ],
             [
              0.1111111111111111,
              "#46039f"
             ],
             [
              0.2222222222222222,
              "#7201a8"
             ],
             [
              0.3333333333333333,
              "#9c179e"
             ],
             [
              0.4444444444444444,
              "#bd3786"
             ],
             [
              0.5555555555555556,
              "#d8576b"
             ],
             [
              0.6666666666666666,
              "#ed7953"
             ],
             [
              0.7777777777777778,
              "#fb9f3a"
             ],
             [
              0.8888888888888888,
              "#fdca26"
             ],
             [
              1,
              "#f0f921"
             ]
            ],
            "type": "contour"
           }
          ],
          "contourcarpet": [
           {
            "colorbar": {
             "outlinewidth": 0,
             "ticks": ""
            },
            "type": "contourcarpet"
           }
          ],
          "heatmap": [
           {
            "colorbar": {
             "outlinewidth": 0,
             "ticks": ""
            },
            "colorscale": [
             [
              0,
              "#0d0887"
             ],
             [
              0.1111111111111111,
              "#46039f"
             ],
             [
              0.2222222222222222,
              "#7201a8"
             ],
             [
              0.3333333333333333,
              "#9c179e"
             ],
             [
              0.4444444444444444,
              "#bd3786"
             ],
             [
              0.5555555555555556,
              "#d8576b"
             ],
             [
              0.6666666666666666,
              "#ed7953"
             ],
             [
              0.7777777777777778,
              "#fb9f3a"
             ],
             [
              0.8888888888888888,
              "#fdca26"
             ],
             [
              1,
              "#f0f921"
             ]
            ],
            "type": "heatmap"
           }
          ],
          "heatmapgl": [
           {
            "colorbar": {
             "outlinewidth": 0,
             "ticks": ""
            },
            "colorscale": [
             [
              0,
              "#0d0887"
             ],
             [
              0.1111111111111111,
              "#46039f"
             ],
             [
              0.2222222222222222,
              "#7201a8"
             ],
             [
              0.3333333333333333,
              "#9c179e"
             ],
             [
              0.4444444444444444,
              "#bd3786"
             ],
             [
              0.5555555555555556,
              "#d8576b"
             ],
             [
              0.6666666666666666,
              "#ed7953"
             ],
             [
              0.7777777777777778,
              "#fb9f3a"
             ],
             [
              0.8888888888888888,
              "#fdca26"
             ],
             [
              1,
              "#f0f921"
             ]
            ],
            "type": "heatmapgl"
           }
          ],
          "histogram": [
           {
            "marker": {
             "pattern": {
              "fillmode": "overlay",
              "size": 10,
              "solidity": 0.2
             }
            },
            "type": "histogram"
           }
          ],
          "histogram2d": [
           {
            "colorbar": {
             "outlinewidth": 0,
             "ticks": ""
            },
            "colorscale": [
             [
              0,
              "#0d0887"
             ],
             [
              0.1111111111111111,
              "#46039f"
             ],
             [
              0.2222222222222222,
              "#7201a8"
             ],
             [
              0.3333333333333333,
              "#9c179e"
             ],
             [
              0.4444444444444444,
              "#bd3786"
             ],
             [
              0.5555555555555556,
              "#d8576b"
             ],
             [
              0.6666666666666666,
              "#ed7953"
             ],
             [
              0.7777777777777778,
              "#fb9f3a"
             ],
             [
              0.8888888888888888,
              "#fdca26"
             ],
             [
              1,
              "#f0f921"
             ]
            ],
            "type": "histogram2d"
           }
          ],
          "histogram2dcontour": [
           {
            "colorbar": {
             "outlinewidth": 0,
             "ticks": ""
            },
            "colorscale": [
             [
              0,
              "#0d0887"
             ],
             [
              0.1111111111111111,
              "#46039f"
             ],
             [
              0.2222222222222222,
              "#7201a8"
             ],
             [
              0.3333333333333333,
              "#9c179e"
             ],
             [
              0.4444444444444444,
              "#bd3786"
             ],
             [
              0.5555555555555556,
              "#d8576b"
             ],
             [
              0.6666666666666666,
              "#ed7953"
             ],
             [
              0.7777777777777778,
              "#fb9f3a"
             ],
             [
              0.8888888888888888,
              "#fdca26"
             ],
             [
              1,
              "#f0f921"
             ]
            ],
            "type": "histogram2dcontour"
           }
          ],
          "mesh3d": [
           {
            "colorbar": {
             "outlinewidth": 0,
             "ticks": ""
            },
            "type": "mesh3d"
           }
          ],
          "parcoords": [
           {
            "line": {
             "colorbar": {
              "outlinewidth": 0,
              "ticks": ""
             }
            },
            "type": "parcoords"
           }
          ],
          "pie": [
           {
            "automargin": true,
            "type": "pie"
           }
          ],
          "scatter": [
           {
            "fillpattern": {
             "fillmode": "overlay",
             "size": 10,
             "solidity": 0.2
            },
            "type": "scatter"
           }
          ],
          "scatter3d": [
           {
            "line": {
             "colorbar": {
              "outlinewidth": 0,
              "ticks": ""
             }
            },
            "marker": {
             "colorbar": {
              "outlinewidth": 0,
              "ticks": ""
             }
            },
            "type": "scatter3d"
           }
          ],
          "scattercarpet": [
           {
            "marker": {
             "colorbar": {
              "outlinewidth": 0,
              "ticks": ""
             }
            },
            "type": "scattercarpet"
           }
          ],
          "scattergeo": [
           {
            "marker": {
             "colorbar": {
              "outlinewidth": 0,
              "ticks": ""
             }
            },
            "type": "scattergeo"
           }
          ],
          "scattergl": [
           {
            "marker": {
             "colorbar": {
              "outlinewidth": 0,
              "ticks": ""
             }
            },
            "type": "scattergl"
           }
          ],
          "scattermapbox": [
           {
            "marker": {
             "colorbar": {
              "outlinewidth": 0,
              "ticks": ""
             }
            },
            "type": "scattermapbox"
           }
          ],
          "scatterpolar": [
           {
            "marker": {
             "colorbar": {
              "outlinewidth": 0,
              "ticks": ""
             }
            },
            "type": "scatterpolar"
           }
          ],
          "scatterpolargl": [
           {
            "marker": {
             "colorbar": {
              "outlinewidth": 0,
              "ticks": ""
             }
            },
            "type": "scatterpolargl"
           }
          ],
          "scatterternary": [
           {
            "marker": {
             "colorbar": {
              "outlinewidth": 0,
              "ticks": ""
             }
            },
            "type": "scatterternary"
           }
          ],
          "surface": [
           {
            "colorbar": {
             "outlinewidth": 0,
             "ticks": ""
            },
            "colorscale": [
             [
              0,
              "#0d0887"
             ],
             [
              0.1111111111111111,
              "#46039f"
             ],
             [
              0.2222222222222222,
              "#7201a8"
             ],
             [
              0.3333333333333333,
              "#9c179e"
             ],
             [
              0.4444444444444444,
              "#bd3786"
             ],
             [
              0.5555555555555556,
              "#d8576b"
             ],
             [
              0.6666666666666666,
              "#ed7953"
             ],
             [
              0.7777777777777778,
              "#fb9f3a"
             ],
             [
              0.8888888888888888,
              "#fdca26"
             ],
             [
              1,
              "#f0f921"
             ]
            ],
            "type": "surface"
           }
          ],
          "table": [
           {
            "cells": {
             "fill": {
              "color": "#EBF0F8"
             },
             "line": {
              "color": "white"
             }
            },
            "header": {
             "fill": {
              "color": "#C8D4E3"
             },
             "line": {
              "color": "white"
             }
            },
            "type": "table"
           }
          ]
         },
         "layout": {
          "annotationdefaults": {
           "arrowcolor": "#2a3f5f",
           "arrowhead": 0,
           "arrowwidth": 1
          },
          "autotypenumbers": "strict",
          "coloraxis": {
           "colorbar": {
            "outlinewidth": 0,
            "ticks": ""
           }
          },
          "colorscale": {
           "diverging": [
            [
             0,
             "#8e0152"
            ],
            [
             0.1,
             "#c51b7d"
            ],
            [
             0.2,
             "#de77ae"
            ],
            [
             0.3,
             "#f1b6da"
            ],
            [
             0.4,
             "#fde0ef"
            ],
            [
             0.5,
             "#f7f7f7"
            ],
            [
             0.6,
             "#e6f5d0"
            ],
            [
             0.7,
             "#b8e186"
            ],
            [
             0.8,
             "#7fbc41"
            ],
            [
             0.9,
             "#4d9221"
            ],
            [
             1,
             "#276419"
            ]
           ],
           "sequential": [
            [
             0,
             "#0d0887"
            ],
            [
             0.1111111111111111,
             "#46039f"
            ],
            [
             0.2222222222222222,
             "#7201a8"
            ],
            [
             0.3333333333333333,
             "#9c179e"
            ],
            [
             0.4444444444444444,
             "#bd3786"
            ],
            [
             0.5555555555555556,
             "#d8576b"
            ],
            [
             0.6666666666666666,
             "#ed7953"
            ],
            [
             0.7777777777777778,
             "#fb9f3a"
            ],
            [
             0.8888888888888888,
             "#fdca26"
            ],
            [
             1,
             "#f0f921"
            ]
           ],
           "sequentialminus": [
            [
             0,
             "#0d0887"
            ],
            [
             0.1111111111111111,
             "#46039f"
            ],
            [
             0.2222222222222222,
             "#7201a8"
            ],
            [
             0.3333333333333333,
             "#9c179e"
            ],
            [
             0.4444444444444444,
             "#bd3786"
            ],
            [
             0.5555555555555556,
             "#d8576b"
            ],
            [
             0.6666666666666666,
             "#ed7953"
            ],
            [
             0.7777777777777778,
             "#fb9f3a"
            ],
            [
             0.8888888888888888,
             "#fdca26"
            ],
            [
             1,
             "#f0f921"
            ]
           ]
          },
          "colorway": [
           "#636efa",
           "#EF553B",
           "#00cc96",
           "#ab63fa",
           "#FFA15A",
           "#19d3f3",
           "#FF6692",
           "#B6E880",
           "#FF97FF",
           "#FECB52"
          ],
          "font": {
           "color": "#2a3f5f"
          },
          "geo": {
           "bgcolor": "white",
           "lakecolor": "white",
           "landcolor": "#E5ECF6",
           "showlakes": true,
           "showland": true,
           "subunitcolor": "white"
          },
          "hoverlabel": {
           "align": "left"
          },
          "hovermode": "closest",
          "mapbox": {
           "style": "light"
          },
          "paper_bgcolor": "white",
          "plot_bgcolor": "#E5ECF6",
          "polar": {
           "angularaxis": {
            "gridcolor": "white",
            "linecolor": "white",
            "ticks": ""
           },
           "bgcolor": "#E5ECF6",
           "radialaxis": {
            "gridcolor": "white",
            "linecolor": "white",
            "ticks": ""
           }
          },
          "scene": {
           "xaxis": {
            "backgroundcolor": "#E5ECF6",
            "gridcolor": "white",
            "gridwidth": 2,
            "linecolor": "white",
            "showbackground": true,
            "ticks": "",
            "zerolinecolor": "white"
           },
           "yaxis": {
            "backgroundcolor": "#E5ECF6",
            "gridcolor": "white",
            "gridwidth": 2,
            "linecolor": "white",
            "showbackground": true,
            "ticks": "",
            "zerolinecolor": "white"
           },
           "zaxis": {
            "backgroundcolor": "#E5ECF6",
            "gridcolor": "white",
            "gridwidth": 2,
            "linecolor": "white",
            "showbackground": true,
            "ticks": "",
            "zerolinecolor": "white"
           }
          },
          "shapedefaults": {
           "line": {
            "color": "#2a3f5f"
           }
          },
          "ternary": {
           "aaxis": {
            "gridcolor": "white",
            "linecolor": "white",
            "ticks": ""
           },
           "baxis": {
            "gridcolor": "white",
            "linecolor": "white",
            "ticks": ""
           },
           "bgcolor": "#E5ECF6",
           "caxis": {
            "gridcolor": "white",
            "linecolor": "white",
            "ticks": ""
           }
          },
          "title": {
           "x": 0.05
          },
          "xaxis": {
           "automargin": true,
           "gridcolor": "white",
           "linecolor": "white",
           "ticks": "",
           "title": {
            "standoff": 15
           },
           "zerolinecolor": "white",
           "zerolinewidth": 2
          },
          "yaxis": {
           "automargin": true,
           "gridcolor": "white",
           "linecolor": "white",
           "ticks": "",
           "title": {
            "standoff": 15
           },
           "zerolinecolor": "white",
           "zerolinewidth": 2
          }
         }
        },
        "xaxis": {
         "anchor": "y",
         "autorange": true,
         "domain": [
          0,
          1
         ],
         "range": [
          -11.611111111111112,
          240.61111111111111
         ],
         "title": {
          "text": "Number of Strains w/ assemblies"
         },
         "type": "linear"
        },
        "yaxis": {
         "anchor": "x",
         "autorange": true,
         "domain": [
          0,
          1
         ],
         "range": [
          -0.5,
          0.5
         ],
         "type": "category"
        }
       }
      },
      "image/png": "[encoded data removed]",
      "text/html": [
       "<div>                            <div id=\"9ac3530b-964f-41ab-8e5c-85eae77c8c2b\" class=\"plotly-graph-div\" style=\"height:525px; width:100%;\"></div>            <script type=\"text/javascript\">                require([\"plotly\"], function(Plotly) {                    window.PLOTLYENV=window.PLOTLYENV || {};                                    if (document.getElementById(\"9ac3530b-964f-41ab-8e5c-85eae77c8c2b\")) {                    Plotly.newPlot(                        \"9ac3530b-964f-41ab-8e5c-85eae77c8c2b\",                        [{\"alignmentgroup\":\"True\",\"boxpoints\":\"all\",\"customdata\":[[\"Escherichia coli\"],[\"Salmonella enterica \"],[\"Staphylococcus aureus\"],[\"Klebsiella pneumoniae\"],[\"Streptococcus pyogenes\"],[\"Pseudomonas aeruginosa\"],[\"Streptococcus pneumoniae\"],[\"Clostridium perfringens\"],[\"Streptococcus dysgalactiae \"],[\"Neisseria gonorrhoeae\"],[\"Enterococcus faecalis\"],[\"Legionella pneumophila\"],[\"Klebsiella pneumoniae \"],[\"Streptococcus agalactiae\"],[\"Klebsiella pneumoniae sensu stricto\"],[\"Clostridium botulinum\"],[\"Citrobacter koseri\"],[\"Streptococcus sp.\"],[\"Bacillus licheniformis\"],[\"Streptococcus equi \"],[\"Haemophilus influenzae\"],[\"Acinetobacter baumannii\"],[\"Staphylococcus saprophyticus \"],[\"Campylobacter jejuni \"],[\"Yersinia pseudotuberculosis\"],[\"Neisseria meningitidis\"],[\"Shigella flexneri\"],[\"Bordetella pertussis\"],[\"Shigella boydii\"],[\"Klebsiella oxytoca\"],[\"Brucella abortus\"],[\"Mannheimia haemolytica\"],[\"Staphylococcus epidermidis\"],[\"Enterococcus faecium\"],[\"Enterobacter cloacae\"],[\"Proteus mirabilis\"],[\"Listeria monocytogenes\"],[\"Streptococcus sanguinis\"],[\"Morganella morganii\"],[\"Klebsiella sp.\"],[\"Streptococcus gordonii\"],[\"Streptococcus anginosus\"],[\"Salmonella sp.\"],[\"Clostridium difficile\"],[\"Bordetella bronchiseptica\"],[\"Corynebacterium ulcerans\"],[\"Corynebacterium diphtheriae\"],[\"Shewanella putrefaciens\"],[\"Raoultella ornithinolytica\"],[\"Chromobacterium violaceum\"],[\"Pasteurella multocida\"],[\"Burkholderia mallei\"],[\"Klebsiella aerogenes\"],[\"Stenotrophomonas maltophilia\"],[\"Campylobacter upsaliensis\"],[\"Kocuria rosea\"],[\"Shigella dysenteriae\"],[\"Streptococcus dysgalactiae\"],[\"Campylobacter lari\"],[\"Bordetella parapertussis\"],[\"Streptococcus mutans\"],[\"Pasteurella multocida \"],[\"Actinobacillus pleuropneumoniae\"],[\"Streptococcus uberis\"],[\"Pseudomonas fluorescens\"],[\"Providencia rustigianii\"],[\"Staphylococcus warneri\"],[\"Yokenella regensburgei\"],[\"Enterococcus hirae\"],[\"Oligella urethralis\"],[\"Citrobacter freundii\"],[\"Corynebacterium renale\"],[\"Cronobacter sakazakii\"],[\"Corynebacterium minutissimum\"],[\"Enterococcus casseliflavus\"],[\"Corynebacterium kutscheri\"],[\"Moraxella (branhamella) catarrhalis\"],[\"Campylobacter coli\"],[\"Corynebacterium jeikeium\"],[\"Elizabethkingia meningoseptica\"],[\"Hafnia alvei\"],[\"Brucella suis\"],[\"Clostridium sporogenes\"],[\"Campylobacter jejuni\"],[\"Actinobacillus lignieresii\"],[\"Enterococcus gallinarum\"],[\"Haemophilus parainfluenzae\"],[\"Pantoea agglomerans\"],[\"Streptobacillus moniliformis\"],[\"Neisseria lactamica\"],[\"Paenibacillus polymyxa\"],[\"Haemophilus haemoglobinophilus\"],[\"Streptococcus lutetiensis\"],[\"Aggregatibacter aphrophilus\"],[\"Serratia rubidaea\"],[\"Vibrio vulnificus\"],[\"Pseudomonas putida\"],[\"Rothia dentocariosa\"],[\"Plesiomonas shigelloides\"],[\"Ralstonia mannitolilytica\"],[\"Raoultella planticola\"],[\"Photobacterium damselae\"],[\"Serratia marcescens\"],[\"Brucella neotomae\"],[\"Streptococcus porcinus\"],[\"Streptococcus suis\"],[\"Listeria ivanovii \"],[\"Bacillus sphaericus\"],[\"Moraxella (branhamella) ovis\"],[\"Bacillus cereus\"],[\"Pseudomonas stutzeri\"],[\"Brevundimonas diminuta\"],[\"Micrococcus luteus\"],[\"Yersinia enterocolitica\"],[\"Providencia stuartii\"],[\"Brucella melitensis\"],[\"Pseudomonas mendocina\"],[\"Erysipelothrix rhusiopathiae\"],[\"Enterococcus malodoratus\"],[\"Legionella sainthelensi\"],[\"Legionella spiritensis\"],[\"Legionella pneumophila \"],[\"Enterococcus cecorum\"],[\"Listeria grayi \"],[\"Mycoplasma hyorhinis\"],[\"Neisseria animaloris\"],[\"Enterococcus durans\"],[\"Pseudomonas chlororaphis\"],[\"Staphylococcus hyicus \"],[\"Myroides odoratus\"],[\"Proteus vulgaris\"],[\"Megamonas hypermegale\"],[\"Edwardsiella tarda\"],[\"Staphylococcus lugdunensis\"],[\"Providencia rettgeri\"],[\"Pseudomonas taetrolens\"],[\"Klebsiella edwardsii var. edwardsii\"],[\"Neisseria zoodegmatis\"],[\"Nocardia farcinica\"],[\"Kingella kingae\"],[\"Janthinobacterium lividum\"],[\"Mycobacterium smegmatis\"],[\"Helicobacter mustelae\"],[\"Mycobacterium phlei\"],[\"Helicobacter cinaedi\"],[\"Helicobacter canis\"],[\"Corynebacterium striatum\"],[\"Pasteurella dagmatis\"],[\"Pasteurella canis\"],[\"Kurthia zopfii\"],[\"Haemophilus parahaemolyticus\"],[\"Lactobacillus acidophilus\"],[\"Leclercia adecarboxylata\"],[\"Haemophilus haemolyticus\"],[\"Pragia fontium\"],[\"Haemophilus aegyptius\"],[\"Shimwellia blattae\"],[\"Legionella feeleii\"],[\"Raoultella terrigena\"],[\"Sphingobacterium multivorum\"],[\"Sphingomonas paucimobilis\"],[\"Oligella ureolytica\"],[\"Staphylococcus carnosus \"],[\"Odoribacter splanchnicus\"],[\"Fusobacterium nucleatum \"],[\"streptococcus equisimilis\"],[\"Streptococcus gallolyticus \"],[\"Acinetobacter lwoffii\"],[\"Yersinia pestis\"],[\"Actinobacillus equuli\"],[\"Streptococcus sobrinus\"],[\"Vibrio cholerae biotype el tor\"],[\"Streptococcus canis\"],[\"Bergeyella zoohelcum\"],[\"Streptococcus constellatus\"],[\"Actinobacillus ureae\"],[\"Bifidobacterium breve\"],[\"Afipia felis\"],[\"Weeksella virosa\"],[\"Streptococcus equi subp. zooepidemicus\"],[\"Streptococcus oralis\"],[\"Streptococcus equinus\"],[\"Avibacterium paragallinarum\"],[\"Capnocytophaga sputigena\"],[\"Capnocytophaga ochracea\"],[\"Capnocytophaga canimorsus\"],[\"Campylobacter ureolyticus\"],[\"Campylobacter sputorum \"],[\"Campylobacter hyointestinalis\"],[\"Vibrio parahaemolyticus\"],[\"Aerococcus viridans\"],[\"Campylobacter fetus \"],[\"Streptococcus mitis\"],[\"Burkholderia pseudomallei\"],[\"Vibrio metschnikovii\"],[\"Streptococcus bovis\"],[\"Bacteroides thetaiotaomicron\"],[\"Burkholderia cepacia\"],[\"Corynebacterium matruchotii\"],[\"Vibrio alginolyticus\"],[\"Clostridium novyi\"],[\"Staphylococcus xylosus\"],[\"Arcanobacterium haemolyticum\"],[\"Acinetobacter junii\"],[\"Achromobacter xylosoxidans \"],[\"Clostridium tetani\"],[\"Corynebacterium pseudotuberculosis\"],[\"Acinetobacter haemolyticus\"],[\"Clostridium haemolyticum\"],[\"Bacillus pumilus\"],[\"Staphylococcus pseudintermedius\"],[\"Bacillus megaterium\"],[\"Pseudomonas lemoignei\"],[\"Pseudomonas mucidolens\"],[\"Pseudomonas luteola\"],[\"Trueperella pyogenes\"],[\"Veillonella atypica\"],[\"Pseudomonas oleovorans\"],[\"Propionibacterium propionicum\"],[\"Propionibacterium granulosum\"],[\"Pseudomonas pseudoalcaligenes \"],[\"Tsukamurella paurometabola\"],[\"Vibrio cholerae\"],[\"Vibrio hollisae\"],[\"Veillonella criceti\"],[\"Veillonella dispar\"],[\"Vibrio harveyi\"],[\"Providencia alcalifaciens\"],[\"Providencia friedericiana\"],[\"Vibrio furnissii\"],[\"Pseudomonas alcaligenes\"],[\"Providencia heimbachae\"],[\"Veillonella parvula\"],[\"Veillonella rodentium\"],[\"Vibrio fluvialis\"],[\"Vibrio cholerae non 0:1\"],[\"Propionibacterium australiense\"],[\"Proteus penneri\"],[\"Staphylococcus piscifermentans\"],[\"Prevotella nigrescens\"],[\"Prevotella disiens\"],[\"Nocardia otitidiscaviarum\"],[\"Nocardia brasiliensis\"],[\"Nocardia asteroides\"],[\"Yersinia ruckeri\"],[\"Neisseria weaveri\"],[\"Neisseria mucosa\"],[\"acinetobacter genospecies 13\"],[\"Neisseria flavescens\"],[\"lactobacillus odontolyticus\"],[\"Neisseria elongata \"],[\"Neisseria elongata\"],[\"Neisseria cinerea\"],[\"Neisseria canis\"],[\"moraxella liquefaciens\"],[\"Neisseria animalis\"],[\"pseudomonas nigrifaciens\"],[\"Myroides odoratimimus\"],[\"Nocardiopsis dassonvillei\"],[\"Paenibacillus macerans\"],[\"Yersinia kristensenii\"],[\"Pasteurella testudinis\"],[\"Vibrio mimicus\"],[\"Porphyromonas macacae\"],[\"Pluralibacter gergoviae\"],[\"Peptostreptococcus anaerobius\"],[\"Peptoniphilus indolicus\"],[\"Pediococcus pentosaceus\"],[\"Weissella viridescens\"],[\"Pasteurella pneumotropica\"],[\"Paenibacillus thiaminolyticus\"],[\"Wolinella succinogenes\"],[\"Yersinia canariae\"],[\"Pasteurella mairii\"],[\"Yersinia frederiksenii\"],[\"Pasteurella bettyae\"],[\"Parvimonas micra\"],[\"Yersinia intermedia\"],[\"Tissierella praeacuta\"],[\"Rhodococcus hoagii\"],[\"Taylorella equigenitalis\"],[\"Staphylococcus fleurettii\"],[\"Staphylococcus equorum\"],[\"Staphylococcus devriesei\"],[\"Staphylococcus delphini\"],[\"Staphylococcus condimenti\"],[\"Staphylococcus cohnii\"],[\"Staphylococcus chromogenes\"],[\"Staphylococcus caprae\"],[\"Staphylococcus capitis\"],[\"Staphylococcus auricularis\"],[\"Streptococcus constellatus \"],[\"Staphylococcus arlettae\"],[\"Staphylococcus argenteus\"],[\"Staphylococcus agnetis\"],[\"Streptococcus criceti\"],[\"Sphingobacterium thalpophilum\"],[\"Sphingobacterium spiritivorum\"],[\"Streptococcus downei\"],[\"Streptococcus australis\"],[\"Staphylococcus sp.\"],[\"Streptococcus equi\"],[\"Staphylococcus simulans\"],[\"Staphylococcus nepalensis\"],[\"Staphylococcus muscae\"],[\"Staphylococcus microti\"],[\"Staphylococcus lentus\"],[\"Staphylococcus kloosii\"],[\"Staphylococcus jettensis\"],[\"Staphylococcus saccharolyticus\"],[\"Staphylococcus intermedius\"],[\"Staphylococcus schleiferi\"],[\"Staphylococcus hyicus\"],[\"Mycoplasma salivarium\"],[\"Staphylococcus hominis \"],[\"Staphylococcus haemolyticus\"],[\"Staphylococcus gallinarum\"],[\"Staphylococcus schweitzeri\"],[\"Staphylococcus sciuri \"],[\"Staphylococcus simiae\"],[\"Slackia heliotrinireducens\"],[\"Shigella sonnei\"],[\"Tatumella ptyseos\"],[\"Streptococcus salivarius\"],[\"Salmonella bongori serotype Brookfield\"],[\"Rikenella microfusus\"],[\"Riemerella anatipestifer\"],[\"Streptococcus thermophilus\"],[\"Rhodococcus rhodochrous\"],[\"Staphylococcus petrasii\"],[\"Rhodococcus erythropolis\"],[\"Rhodococcus equi\"],[\"Rhodococcus coprophilus\"],[\"Streptococcus urinalis\"],[\"Streptococcus vestibularis\"],[\"Ralstonia pickettii\"],[\"Psychrobacter phenylpyruvicus\"],[\"Streptomyces griseus\"],[\"Suttonella indologenes\"],[\"Tatlockia maceachernii\"],[\"Pseudomonas synxantha\"],[\"Streptococcus salivarius \"],[\"Sebaldella termitidis\"],[\"Streptococcus ferus\"],[\"Streptococcus ratti\"],[\"Streptococcus hyointestinalis\"],[\"Streptococcus hyovaginalis\"],[\"Shewanella baltica\"],[\"Streptococcus infantarius\"],[\"Serratia proteamaculans \"],[\"Streptococcus infantis\"],[\"Serratia plymuthica\"],[\"Serratia odorifera\"],[\"Streptococcus intermedius\"],[\"Streptococcus macacae\"],[\"Streptococcus massilliensis\"],[\"Streptococcus oligofermentans\"],[\"Streptococcus pleomorphus\"],[\"Streptococcus pseudoporcinus\"],[\"Serratia liquefaciens\"],[\"Serratia grimesii\"],[\"Serratia ficaria\"],[\"Mycoplasma synoviae\"],[\"Acholeplasma axanthum\"],[\"Mycoplasma putrefaciens\"],[\"Brevundimonas vesicularis\"],[\"Clostridium histolyticum\"],[\"Clostridium fallax\"],[\"Clostridium cochlearium\"],[\"Clostridium clostridiiforme\"],[\"Clostridium carnis\"],[\"Clostridium baratii\"],[\"Citrobacter youngae\"],[\"Citrobacter gillenii\"],[\"Citrobacter braakii\"],[\"Citrobacter amalonaticus\"],[\"Chryseobacterium meningosepticum\"],[\"Chryseobacterium lactis\"],[\"Chryseobacterium indologenes\"],[\"Chryseobacterium gleum\"],[\"Chryseobacterium balustinum\"],[\"Cellulomonas fimi\"],[\"Cedecea neteri\"],[\"Cedecea lapagei\"],[\"Cardiobacterium hominis\"],[\"Campylobacter helveticus\"],[\"Campylobacter gracilis\"],[\"Buttiauxella agrestis\"],[\"Burkholderia gladioli\"],[\"Burkholderia cenocepacia\"],[\"Budvicia aquatica\"],[\"Brucella ovis\"],[\"Brucella intermedia\"],[\"Clostridium indolis\"],[\"Clostridium paraputrificum\"],[\"Clostridium putrefaciens\"],[\"Dermatophilus congolensis\"],[\"Escherichia fergusonii\"],[\"Escherichia dispar\"],[\"Enterococcus mundtii\"],[\"Enterococcus avium\"],[\"Enterobacter taylorae\"],[\"Enterobacter intermedius\"],[\"Enterobacter asburiae\"],[\"Enterobacter amnigenus\"],[\"Enterobacter aerogenes\"],[\"Eikenella corrodens\"],[\"Edwardsiella ictaluri\"],[\"Edwardsiella hoshinae\"],[\"Dermacoccus nishinomiyaensis\"],[\"Clostridium sphenoides\"],[\"Cronobacter universalis\"],[\"Corynebacterium xerosis\"],[\"Corynebacterium urealyticum\"],[\"Corynebacterium segmentosum\"],[\"Corynebacterium pilosum\"],[\"Corynebacterium diptheriae var mitis\"],[\"Corynebacterium cystitidis\"],[\"Corynebacterium amycolatum\"],[\"Comamonas testosteroni\"],[\"Comamonas terrigena\"],[\"Collinsella aerofaciens\"],[\"Clostridium tetanomorphum\"],[\"Brucella anthropi\"],[\"Brevundimonas vancanneytii\"],[\"Escherichia vulneris\"],[\"Brevibacterium iodinum\"],[\"Alysiella crassa\"],[\"Alloiococcus otitis\"],[\"Alcaligenes odorans\"],[\"Aggregatibacter sp.\"],[\"Aggregatibacter segnis\"],[\"Aggregatibacter actinomycetemcomitans\"],[\"Aeromonas salmonicida\"],[\"Aeromonas hydrophila\"],[\"Aeromonas caviae\"],[\"Actinomyces viscosus\"],[\"Actinomyces slackii\"],[\"Actinomyces odontolyticus\"],[\"Actinomyces naeslundii\"],[\"Actinomyces howellii\"],[\"Actinomyces denticolens\"],[\"Actinomyces bovis\"],[\"Actinomadura madurae\"],[\"Actinobacillus seminis\"],[\"Actinobacillus rossii\"],[\"Acinetobacter sp.\"],[\"Acinetobacter johnsonii\"],[\"Acinetobacter haemolyticus \"],[\"Achromobacter sp.\"],[\"Achromobacter insolitus\"],[\"Achromobacter denitrificans\"],[\"Acholeplasma oculi\"],[\"Acholeplasma laidlawii\"],[\"Aminobacter aminovorans\"],[\"Anaerobiospirillum thomasii\"],[\"Anaerococcus octavius\"],[\"Bacteroides eggerthii\"],[\"Brevibacillus brevis\"],[\"Bordetella avium\"],[\"Blautia coccoides\"],[\"Bifidobacterium longum \"],[\"Bifidobacterium longum\"],[\"Bifidobacterium dentium\"],[\"Bifidobacterium adolescentis\"],[\"Bergeriella denitrificans\"],[\"Bacteroides vulgatus\"],[\"Bacteroides tectus\"],[\"Bacteroides ovatus\"],[\"Bacteroides fragilis\"],[\"Bacteroides distasonis\"],[\"Anaerococcus prevotii\"],[\"Bacillus subtilis \"],[\"Bacillus subtilis\"],[\"Bacillus lentus\"],[\"Bacillus freudenreichii\"],[\"Bacillus firmus\"],[\"Bacillus circulans\"],[\"Avibacterium volantium\"],[\"Avibacterium gallinarum\"],[\"Avibacterium avium\"],[\"Arcobacter skirrowii\"],[\"Arcobacter butzleri\"],[\"Aneurinibacillus migulanus\"],[\"Escherichia hermannii\"],[\"Ewingella americana\"],[\"Mycoplasma pulmonis\"],[\"Listeria welshimeri\"],[\"Mycoplasma alkalescens\"],[\"Mycobacterium xenopi\"],[\"Mycobacterium tokaiense\"],[\"Mycobacterium thermoresistibile\"],[\"Mycobacterium terrae\"],[\"Mycobacterium marinum\"],[\"Mycobacterium gilvum\"],[\"Mycobacterium fortuitum\"],[\"Mycobacterium flavescens\"],[\"Mycobacterium farcinogenes \"],[\"Mycobacterium chubuense\"],[\"Mycobacterium chitae\"],[\"Mycobacterium chelonae \"],[\"Mycobacterium aurum\"],[\"Mycobacterium aichiense\"],[\"Mycobacterium abscessus\"],[\"Moraxella osloensis\"],[\"Moraxella lacunata\"],[\"Moraxella equi\"],[\"Moraxella bovis\"],[\"Moraxella atlantae\"],[\"Moraxella (branhamella) cuniculi\"],[\"Acholeplasma hippikon\"],[\"Moellerella wisconsensis\"],[\"Mobiluncus mulieris\"],[\"Mobiluncus curtisii \"],[\"Micrococcus lylae\"],[\"Mycoplasma anatis\"],[\"Mycoplasma arginini\"],[\"Mycoplasma arthritidis\"],[\"Mycoplasma equirhinis\"],[\"Mycoplasma pneumoniae\"],[\"Mycoplasma ovipneumoniae\"],[\"Mycoplasma orale\"],[\"Mycoplasma neurolyticum\"],[\"Mycoplasma meleagridis\"],[\"Mycoplasma maculosum\"],[\"Mycoplasma iowae\"],[\"Mycoplasma glycophilum\"],[\"Mycoplasma gallopavonis\"],[\"Mycoplasma gallisepticum\"],[\"Mycoplasma gallinaceum\"],[\"Mycoplasma fermentans\"],[\"Mycoplasma edwardii\"],[\"Mycoplasma bovigenitalium\"],[\"Mycoplasma dispar\"],[\"Mycoplasma cynos\"],[\"Mycoplasma conjunctivae\"],[\"Mycoplasma columborale\"],[\"Mycoplasma columbinum\"],[\"Mycoplasma columbinasale\"],[\"Mycoplasma cloacale\"],[\"Mycoplasma citelli\"],[\"Mycoplasma caviae\"],[\"Mycoplasma canis\"],[\"Mycoplasma californicum\"],[\"Mycoplasma bovirhinis\"],[\"Listonella anguillarum\"],[\"Listeria innocua\"],[\"Falcivibrio grandis\"],[\"Listeria fleischmannii \"],[\"Kluyvera cryocrescens\"],[\"Kluyvera ascorbata\"],[\"Kingella denitrificans\"],[\"Jonesia denitrificans\"],[\"Iodobacter fluviatilis\"],[\"Helicobacter pylori\"],[\"Helicobacter muridarum\"],[\"Helicobacter fennelliae\"],[\"Haemophilus parasuis\"],[\"Haemophilus paraphrohaemolyticus\"],[\"Haemophilus influenzae biotype aegyptius\"],[\"Haemophilus ducreyi\"],[\"Grimontia hollisae\"],[\"Gordonia terrae\"],[\"Gordonia bronchialis\"],[\"Gemella morbillorum\"],[\"Gemella haemolysans\"],[\"Gardnerella vaginalis\"],[\"Gallibacterium anatis\"],[\"Fusobacterium varium\"],[\"Fusobacterium ulcerans\"],[\"Fusobacterium necrogenes\"],[\"Fluoribacter dumoffii\"],[\"Fluoribacter bozemanae\"],[\"Flavobacterium thermophilum\"],[\"Flavobacterium mizutaii\"],[\"Falcivibrio vaginalis\"],[\"Kocuria kristinae\"],[\"Kocuria rhizophila\"],[\"Kytococcus sedentarius\"],[\"Legionella longbeachae\"],[\"Listeria booriae\"],[\"Leuconostoc mesenteroides\"],[\"Leminorella richardii\"],[\"Leminorella grimontii\"],[\"Legionella worsleiensis\"],[\"Legionella wadsworthii\"],[\"Legionella steigerwaltii\"],[\"Legionella quinlivanii\"],[\"Legionella quateirensis\"],[\"Legionella parisiensis\"],[\"Legionella oakridgensis\"],[\"Legionella moravica\"],[\"Legionella londiniensis\"],[\"Lactobacillus gasseri\"],[\"Legionella lansingensis\"],[\"Legionella jordanis\"],[\"Legionella israelensis\"],[\"Legionella hackeliae\"],[\"Legionella gratiana\"],[\"Legionella gormanii\"],[\"Legionella geestiana\"],[\"Legionella cincinnatiensis\"],[\"Legionella cherrii\"],[\"Legionella birminghamensis\"],[\"Legionella adelaidensis\"],[\"Lactobacillus plantarum \"],[\"Moraxella (branhamella) caviae\"]],\"fillcolor\":\"rgba(255,255,255,0)\",\"hoveron\":\"points\",\"hovertemplate\":\"Number of Strains w/ assemblies=%{x}<br>Species=%{customdata[0]}<extra></extra>\",\"legendgroup\":\"\",\"line\":{\"color\":\"rgba(255,255,255,0)\"},\"marker\":{\"color\":\"#636efa\"},\"name\":\"\",\"offsetgroup\":\"\",\"orientation\":\"h\",\"pointpos\":0,\"showlegend\":false,\"x\":[228,119,105,88,77,39,29,22,20,19,19,19,18,17,16,12,12,11,11,10,10,10,10,9,9,9,8,8,7,7,7,7,7,7,7,7,6,6,6,6,6,5,5,5,5,5,5,5,5,5,5,5,5,5,4,4,4,4,4,4,4,4,4,4,4,4,4,4,4,4,4,3,3,3,3,3,3,3,3,3,3,3,3,3,3,3,3,3,3,3,3,3,3,3,3,3,3,3,3,3,3,3,3,3,3,3,3,3,3,3,3,3,3,3,3,3,3,2,2,2,2,2,2,2,2,2,2,2,2,2,2,2,2,2,2,2,2,2,2,2,2,2,2,2,2,2,2,2,2,2,2,2,2,2,2,2,2,2,2,2,2,2,2,2,2,2,2,2,2,2,2,2,2,2,2,2,2,2,2,2,2,2,2,2,2,2,2,2,2,2,2,2,2,2,2,2,2,2,2,2,2,2,2,2,2,2,2,2,2,2,2,2,1,1,1,1,1,1,1,1,1,1,1,1,1,1,1,1,1,1,1,1,1,1,1,1,1,1,1,1,1,1,1,1,1,1,1,1,1,1,1,1,1,1,1,1,1,1,1,1,1,1,1,1,1,1,1,1,1,1,1,1,1,1,1,1,1,1,1,1,1,1,1,1,1,1,1,1,1,1,1,1,1,1,1,1,1,1,1,1,1,1,1,1,1,1,1,1,1,1,1,1,1,1,1,1,1,1,1,1,1,1,1,1,1,1,1,1,1,1,1,1,1,1,1,1,1,1,1,1,1,1,1,1,1,1,1,1,1,1,1,1,1,1,1,1,1,1,1,1,1,1,1,1,1,1,1,1,1,1,1,1,1,1,1,1,1,1,1,1,1,1,1,1,1,1,1,1,1,1,1,1,1,1,1,1,1,1,1,1,1,1,1,1,1,1,1,1,1,1,1,1,1,1,1,1,1,1,1,1,1,1,1,1,1,1,1,1,1,1,1,1,1,1,1,1,1,1,1,1,1,1,1,1,1,1,1,1,1,1,1,1,1,1,1,1,1,1,1,1,1,1,1,1,1,1,1,1,1,1,1,1,1,1,1,1,1,1,1,1,1,1,1,1,1,1,1,1,1,1,1,1,1,1,1,1,1,1,1,1,1,1,1,1,1,1,1,1,1,1,1,1,1,1,1,1,1,1,1,1,1,1,1,1,1,1,1,1,1,1,1,1,1,1,1,1,1,1,1,1,1,1,1,1,1,1,1,1,1,1,1,1,1,1,1,1,1,1,1,1,1,1,1,1,1,1,1,1,1,1,1,1,1,1,1,1,1,1,1,1,1,1,1,1,1,1,1,1,1,1,1,1,1,1,1,1,1,1,1,1,1,1,1,1,1,1,1],\"x0\":\" \",\"xaxis\":\"x\",\"y0\":\" \",\"yaxis\":\"y\",\"type\":\"box\"}],                        {\"template\":{\"data\":{\"histogram2dcontour\":[{\"type\":\"histogram2dcontour\",\"colorbar\":{\"outlinewidth\":0,\"ticks\":\"\"},\"colorscale\":[[0.0,\"#0d0887\"],[0.1111111111111111,\"#46039f\"],[0.2222222222222222,\"#7201a8\"],[0.3333333333333333,\"#9c179e\"],[0.4444444444444444,\"#bd3786\"],[0.5555555555555556,\"#d8576b\"],[0.6666666666666666,\"#ed7953\"],[0.7777777777777778,\"#fb9f3a\"],[0.8888888888888888,\"#fdca26\"],[1.0,\"#f0f921\"]]}],\"choropleth\":[{\"type\":\"choropleth\",\"colorbar\":{\"outlinewidth\":0,\"ticks\":\"\"}}],\"histogram2d\":[{\"type\":\"histogram2d\",\"colorbar\":{\"outlinewidth\":0,\"ticks\":\"\"},\"colorscale\":[[0.0,\"#0d0887\"],[0.1111111111111111,\"#46039f\"],[0.2222222222222222,\"#7201a8\"],[0.3333333333333333,\"#9c179e\"],[0.4444444444444444,\"#bd3786\"],[0.5555555555555556,\"#d8576b\"],[0.6666666666666666,\"#ed7953\"],[0.7777777777777778,\"#fb9f3a\"],[0.8888888888888888,\"#fdca26\"],[1.0,\"#f0f921\"]]}],\"heatmap\":[{\"type\":\"heatmap\",\"colorbar\":{\"outlinewidth\":0,\"ticks\":\"\"},\"colorscale\":[[0.0,\"#0d0887\"],[0.1111111111111111,\"#46039f\"],[0.2222222222222222,\"#7201a8\"],[0.3333333333333333,\"#9c179e\"],[0.4444444444444444,\"#bd3786\"],[0.5555555555555556,\"#d8576b\"],[0.6666666666666666,\"#ed7953\"],[0.7777777777777778,\"#fb9f3a\"],[0.8888888888888888,\"#fdca26\"],[1.0,\"#f0f921\"]]}],\"heatmapgl\":[{\"type\":\"heatmapgl\",\"colorbar\":{\"outlinewidth\":0,\"ticks\":\"\"},\"colorscale\":[[0.0,\"#0d0887\"],[0.1111111111111111,\"#46039f\"],[0.2222222222222222,\"#7201a8\"],[0.3333333333333333,\"#9c179e\"],[0.4444444444444444,\"#bd3786\"],[0.5555555555555556,\"#d8576b\"],[0.6666666666666666,\"#ed7953\"],[0.7777777777777778,\"#fb9f3a\"],[0.8888888888888888,\"#fdca26\"],[1.0,\"#f0f921\"]]}],\"contourcarpet\":[{\"type\":\"contourcarpet\",\"colorbar\":{\"outlinewidth\":0,\"ticks\":\"\"}}],\"contour\":[{\"type\":\"contour\",\"colorbar\":{\"outlinewidth\":0,\"ticks\":\"\"},\"colorscale\":[[0.0,\"#0d0887\"],[0.1111111111111111,\"#46039f\"],[0.2222222222222222,\"#7201a8\"],[0.3333333333333333,\"#9c179e\"],[0.4444444444444444,\"#bd3786\"],[0.5555555555555556,\"#d8576b\"],[0.6666666666666666,\"#ed7953\"],[0.7777777777777778,\"#fb9f3a\"],[0.8888888888888888,\"#fdca26\"],[1.0,\"#f0f921\"]]}],\"surface\":[{\"type\":\"surface\",\"colorbar\":{\"outlinewidth\":0,\"ticks\":\"\"},\"colorscale\":[[0.0,\"#0d0887\"],[0.1111111111111111,\"#46039f\"],[0.2222222222222222,\"#7201a8\"],[0.3333333333333333,\"#9c179e\"],[0.4444444444444444,\"#bd3786\"],[0.5555555555555556,\"#d8576b\"],[0.6666666666666666,\"#ed7953\"],[0.7777777777777778,\"#fb9f3a\"],[0.8888888888888888,\"#fdca26\"],[1.0,\"#f0f921\"]]}],\"mesh3d\":[{\"type\":\"mesh3d\",\"colorbar\":{\"outlinewidth\":0,\"ticks\":\"\"}}],\"scatter\":[{\"fillpattern\":{\"fillmode\":\"overlay\",\"size\":10,\"solidity\":0.2},\"type\":\"scatter\"}],\"parcoords\":[{\"type\":\"parcoords\",\"line\":{\"colorbar\":{\"outlinewidth\":0,\"ticks\":\"\"}}}],\"scatterpolargl\":[{\"type\":\"scatterpolargl\",\"marker\":{\"colorbar\":{\"outlinewidth\":0,\"ticks\":\"\"}}}],\"bar\":[{\"error_x\":{\"color\":\"#2a3f5f\"},\"error_y\":{\"color\":\"#2a3f5f\"},\"marker\":{\"line\":{\"color\":\"#E5ECF6\",\"width\":0.5},\"pattern\":{\"fillmode\":\"overlay\",\"size\":10,\"solidity\":0.2}},\"type\":\"bar\"}],\"scattergeo\":[{\"type\":\"scattergeo\",\"marker\":{\"colorbar\":{\"outlinewidth\":0,\"ticks\":\"\"}}}],\"scatterpolar\":[{\"type\":\"scatterpolar\",\"marker\":{\"colorbar\":{\"outlinewidth\":0,\"ticks\":\"\"}}}],\"histogram\":[{\"marker\":{\"pattern\":{\"fillmode\":\"overlay\",\"size\":10,\"solidity\":0.2}},\"type\":\"histogram\"}],\"scattergl\":[{\"type\":\"scattergl\",\"marker\":{\"colorbar\":{\"outlinewidth\":0,\"ticks\":\"\"}}}],\"scatter3d\":[{\"type\":\"scatter3d\",\"line\":{\"colorbar\":{\"outlinewidth\":0,\"ticks\":\"\"}},\"marker\":{\"colorbar\":{\"outlinewidth\":0,\"ticks\":\"\"}}}],\"scattermapbox\":[{\"type\":\"scattermapbox\",\"marker\":{\"colorbar\":{\"outlinewidth\":0,\"ticks\":\"\"}}}],\"scatterternary\":[{\"type\":\"scatterternary\",\"marker\":{\"colorbar\":{\"outlinewidth\":0,\"ticks\":\"\"}}}],\"scattercarpet\":[{\"type\":\"scattercarpet\",\"marker\":{\"colorbar\":{\"outlinewidth\":0,\"ticks\":\"\"}}}],\"carpet\":[{\"aaxis\":{\"endlinecolor\":\"#2a3f5f\",\"gridcolor\":\"white\",\"linecolor\":\"white\",\"minorgridcolor\":\"white\",\"startlinecolor\":\"#2a3f5f\"},\"baxis\":{\"endlinecolor\":\"#2a3f5f\",\"gridcolor\":\"white\",\"linecolor\":\"white\",\"minorgridcolor\":\"white\",\"startlinecolor\":\"#2a3f5f\"},\"type\":\"carpet\"}],\"table\":[{\"cells\":{\"fill\":{\"color\":\"#EBF0F8\"},\"line\":{\"color\":\"white\"}},\"header\":{\"fill\":{\"color\":\"#C8D4E3\"},\"line\":{\"color\":\"white\"}},\"type\":\"table\"}],\"barpolar\":[{\"marker\":{\"line\":{\"color\":\"#E5ECF6\",\"width\":0.5},\"pattern\":{\"fillmode\":\"overlay\",\"size\":10,\"solidity\":0.2}},\"type\":\"barpolar\"}],\"pie\":[{\"automargin\":true,\"type\":\"pie\"}]},\"layout\":{\"autotypenumbers\":\"strict\",\"colorway\":[\"#636efa\",\"#EF553B\",\"#00cc96\",\"#ab63fa\",\"#FFA15A\",\"#19d3f3\",\"#FF6692\",\"#B6E880\",\"#FF97FF\",\"#FECB52\"],\"font\":{\"color\":\"#2a3f5f\"},\"hovermode\":\"closest\",\"hoverlabel\":{\"align\":\"left\"},\"paper_bgcolor\":\"white\",\"plot_bgcolor\":\"#E5ECF6\",\"polar\":{\"bgcolor\":\"#E5ECF6\",\"angularaxis\":{\"gridcolor\":\"white\",\"linecolor\":\"white\",\"ticks\":\"\"},\"radialaxis\":{\"gridcolor\":\"white\",\"linecolor\":\"white\",\"ticks\":\"\"}},\"ternary\":{\"bgcolor\":\"#E5ECF6\",\"aaxis\":{\"gridcolor\":\"white\",\"linecolor\":\"white\",\"ticks\":\"\"},\"baxis\":{\"gridcolor\":\"white\",\"linecolor\":\"white\",\"ticks\":\"\"},\"caxis\":{\"gridcolor\":\"white\",\"linecolor\":\"white\",\"ticks\":\"\"}},\"coloraxis\":{\"colorbar\":{\"outlinewidth\":0,\"ticks\":\"\"}},\"colorscale\":{\"sequential\":[[0.0,\"#0d0887\"],[0.1111111111111111,\"#46039f\"],[0.2222222222222222,\"#7201a8\"],[0.3333333333333333,\"#9c179e\"],[0.4444444444444444,\"#bd3786\"],[0.5555555555555556,\"#d8576b\"],[0.6666666666666666,\"#ed7953\"],[0.7777777777777778,\"#fb9f3a\"],[0.8888888888888888,\"#fdca26\"],[1.0,\"#f0f921\"]],\"sequentialminus\":[[0.0,\"#0d0887\"],[0.1111111111111111,\"#46039f\"],[0.2222222222222222,\"#7201a8\"],[0.3333333333333333,\"#9c179e\"],[0.4444444444444444,\"#bd3786\"],[0.5555555555555556,\"#d8576b\"],[0.6666666666666666,\"#ed7953\"],[0.7777777777777778,\"#fb9f3a\"],[0.8888888888888888,\"#fdca26\"],[1.0,\"#f0f921\"]],\"diverging\":[[0,\"#8e0152\"],[0.1,\"#c51b7d\"],[0.2,\"#de77ae\"],[0.3,\"#f1b6da\"],[0.4,\"#fde0ef\"],[0.5,\"#f7f7f7\"],[0.6,\"#e6f5d0\"],[0.7,\"#b8e186\"],[0.8,\"#7fbc41\"],[0.9,\"#4d9221\"],[1,\"#276419\"]]},\"xaxis\":{\"gridcolor\":\"white\",\"linecolor\":\"white\",\"ticks\":\"\",\"title\":{\"standoff\":15},\"zerolinecolor\":\"white\",\"automargin\":true,\"zerolinewidth\":2},\"yaxis\":{\"gridcolor\":\"white\",\"linecolor\":\"white\",\"ticks\":\"\",\"title\":{\"standoff\":15},\"zerolinecolor\":\"white\",\"automargin\":true,\"zerolinewidth\":2},\"scene\":{\"xaxis\":{\"backgroundcolor\":\"#E5ECF6\",\"gridcolor\":\"white\",\"linecolor\":\"white\",\"showbackground\":true,\"ticks\":\"\",\"zerolinecolor\":\"white\",\"gridwidth\":2},\"yaxis\":{\"backgroundcolor\":\"#E5ECF6\",\"gridcolor\":\"white\",\"linecolor\":\"white\",\"showbackground\":true,\"ticks\":\"\",\"zerolinecolor\":\"white\",\"gridwidth\":2},\"zaxis\":{\"backgroundcolor\":\"#E5ECF6\",\"gridcolor\":\"white\",\"linecolor\":\"white\",\"showbackground\":true,\"ticks\":\"\",\"zerolinecolor\":\"white\",\"gridwidth\":2}},\"shapedefaults\":{\"line\":{\"color\":\"#2a3f5f\"}},\"annotationdefaults\":{\"arrowcolor\":\"#2a3f5f\",\"arrowhead\":0,\"arrowwidth\":1},\"geo\":{\"bgcolor\":\"white\",\"landcolor\":\"#E5ECF6\",\"subunitcolor\":\"white\",\"showland\":true,\"showlakes\":true,\"lakecolor\":\"white\"},\"title\":{\"x\":0.05},\"mapbox\":{\"style\":\"light\"}}},\"xaxis\":{\"anchor\":\"y\",\"domain\":[0.0,1.0],\"title\":{\"text\":\"Number of Strains w/ assemblies\"}},\"yaxis\":{\"anchor\":\"x\",\"domain\":[0.0,1.0]},\"legend\":{\"tracegroupgap\":0},\"margin\":{\"t\":60},\"boxmode\":\"group\"},                        {\"responsive\": true}                    ).then(function(){\n",
       "                            \n",
       "var gd = document.getElementById('9ac3530b-964f-41ab-8e5c-85eae77c8c2b');\n",
       "var x = new MutationObserver(function (mutations, observer) {{\n",
       "        var display = window.getComputedStyle(gd).display;\n",
       "        if (!display || display === 'none') {{\n",
       "            console.log([gd, 'removed!']);\n",
       "            Plotly.purge(gd);\n",
       "            observer.disconnect();\n",
       "        }}\n",
       "}});\n",
       "\n",
       "// Listen for the removal of the full notebook cells\n",
       "var notebookContainer = gd.closest('#notebook-container');\n",
       "if (notebookContainer) {{\n",
       "    x.observe(notebookContainer, {childList: true});\n",
       "}}\n",
       "\n",
       "// Listen for the clearing of the current output cell\n",
       "var outputEl = gd.closest('.output');\n",
       "if (outputEl) {{\n",
       "    x.observe(outputEl, {childList: true});\n",
       "}}\n",
       "\n",
       "                        })                };                });            </script>        </div>"
      ]
     },
     "metadata": {},
     "output_type": "display_data"
    }
   ],
   "source": [
    "px.strip(\n",
    "    singleaccdf.value_counts(\"Species\").to_frame().reset_index(),\n",
    "    x=0,\n",
    "    hover_data=['Species'],\n",
    "    labels={'0':'Number of Strains w/ assemblies'},\n",
    ")"
   ]
  },
  {
   "cell_type": "code",
   "execution_count": 13,
   "id": "cd36f618-0750-4451-bb06-dd252e32368f",
   "metadata": {},
   "outputs": [
    {
     "data": {
      "application/vnd.jupyter.widget-view+json": {
       "model_id": "28a76846d1964f69a7aa24ce3111c8c0",
       "version_major": 2,
       "version_minor": 0
      },
      "text/plain": [
       "interactive(children=(Dropdown(description='species', options=('Escherichia coli', 'Salmonella enterica ', 'St…"
      ]
     },
     "metadata": {},
     "output_type": "display_data"
    }
   ],
   "source": [
    "def plot_givenspecies(df, species):\n",
    "    print(\"\\nFound %s assemblies...\" % df.loc[df['Species'].str.contains(species)].shape[0])\n",
    "    x = px.histogram(\n",
    "        df.loc[df['Species'].str.contains(species)], \n",
    "        x=\"Year_Cultured\", \n",
    "        labels={'Year_Cultured':'Year Cultured'}, \n",
    "        title=\"Histogram of Year Cultured information from \" + species,\n",
    "        marginal=\"rug\",\n",
    "    )\n",
    "    x.show()\n",
    "    \n",
    "interact(plot_givenspecies, \n",
    "         df=fixed(singleaccdf), \n",
    "         species=list(singleaccdf['Species'].value_counts().to_frame().index),\n",
    "        );"
   ]
  },
  {
   "cell_type": "code",
   "execution_count": 142,
   "id": "7967169f-5634-49ae-947c-1eaa0ae815b6",
   "metadata": {},
   "outputs": [
    {
     "data": {
      "application/vnd.plotly.v1+json": {
       "config": {
        "plotlyServerURL": "https://plot.ly"
       },
       "data": [
        {
         "alignmentgroup": "True",
         "bingroup": "x",
         "hovertemplate": "variable=Assembly_No<br>value=%{x}<br>count=%{y}<extra></extra>",
         "legendgroup": "Assembly_No",
         "marker": {
          "color": "#636efa",
          "pattern": {
           "shape": ""
          }
         },
         "name": "Assembly_No",
         "offsetgroup": "Assembly_No",
         "orientation": "v",
         "showlegend": true,
         "type": "histogram",
         "x": [
          1,
          1,
          2,
          1,
          1,
          1,
          1,
          1,
          3,
          2,
          1,
          4,
          1,
          1,
          1,
          1,
          1,
          1,
          1,
          1,
          1,
          1,
          1,
          1,
          1,
          1,
          1,
          1,
          1,
          1,
          1,
          1,
          1,
          1,
          1,
          1,
          1,
          1,
          1,
          1,
          1,
          1,
          1,
          1,
          1,
          1,
          1,
          1,
          1,
          1,
          2,
          1,
          1,
          1,
          1,
          1,
          1,
          1,
          1,
          1,
          1,
          1,
          1,
          1,
          1,
          1,
          1,
          1,
          1,
          1,
          1,
          1,
          1,
          1,
          1,
          1,
          1,
          1,
          1,
          1,
          1,
          1,
          1,
          1,
          1,
          1,
          1,
          1,
          1,
          2,
          1,
          1,
          1,
          1,
          1,
          1,
          1,
          1,
          1,
          1,
          1,
          1,
          1,
          1,
          1,
          1,
          1,
          1,
          1,
          1,
          1,
          1,
          6,
          5,
          4,
          3,
          1,
          2,
          1,
          1,
          1,
          1,
          1,
          1,
          1,
          1,
          1,
          1,
          1,
          1,
          4,
          3,
          1,
          2,
          1,
          1,
          1,
          1,
          1,
          1,
          1,
          1,
          1,
          1,
          1,
          1,
          1,
          1,
          1,
          1,
          1,
          1,
          1,
          1,
          1,
          1,
          1,
          1,
          1,
          1,
          1,
          1,
          1,
          1,
          1,
          1,
          1,
          1,
          1,
          1,
          1,
          1,
          98,
          97,
          96,
          95,
          94,
          93,
          92,
          91,
          10,
          90,
          89,
          88,
          87,
          86,
          85,
          84,
          82,
          81,
          9,
          80,
          79,
          78,
          77,
          83,
          76,
          75,
          74,
          71,
          72,
          8,
          70,
          69,
          68,
          67,
          66,
          65,
          64,
          63,
          62,
          61,
          7,
          60,
          59,
          57,
          58,
          55,
          56,
          53,
          52,
          51,
          54,
          6,
          50,
          48,
          49,
          47,
          46,
          45,
          44,
          43,
          42,
          5,
          40,
          39,
          38,
          36,
          37,
          35,
          34,
          33,
          31,
          32,
          4,
          30,
          28,
          27,
          29,
          26,
          25,
          24,
          23,
          22,
          3,
          21,
          20,
          73,
          19,
          18,
          17,
          16,
          15,
          14,
          13,
          12,
          11,
          2,
          1,
          1,
          1,
          1,
          1,
          1,
          1,
          1,
          1,
          1,
          1,
          1,
          1,
          1,
          1,
          1,
          1,
          2,
          1,
          1,
          1,
          1,
          1,
          1,
          1,
          1,
          1,
          1,
          1,
          1,
          1,
          1,
          1,
          1,
          1,
          1,
          1,
          1,
          1,
          1,
          1,
          1,
          1,
          1,
          1,
          1,
          1,
          1,
          1,
          1,
          2,
          1,
          1,
          2,
          1,
          2,
          1,
          1,
          1,
          1,
          2,
          1,
          1,
          1,
          1,
          2,
          1,
          1,
          5,
          4,
          3,
          2,
          1,
          2,
          1,
          2,
          1,
          1,
          1,
          1,
          3,
          1,
          2,
          1,
          1,
          1,
          1,
          1,
          2,
          2,
          1,
          2,
          1,
          2,
          1,
          1,
          1,
          1,
          1,
          5,
          6,
          4,
          2,
          3,
          1,
          1,
          2,
          1,
          1,
          1,
          1,
          1,
          1,
          1,
          1,
          2,
          1,
          3,
          10,
          9,
          8,
          7,
          6,
          4,
          5,
          3,
          13,
          12,
          11,
          2,
          1,
          1,
          1,
          1,
          1,
          1,
          1,
          1,
          5,
          4,
          3,
          2,
          1,
          1,
          1,
          1,
          10,
          8,
          9,
          7,
          6,
          5,
          4,
          3,
          15,
          13,
          14,
          12,
          11,
          2,
          1,
          2,
          1,
          2,
          1,
          2,
          3,
          1,
          1,
          1,
          1,
          5,
          4,
          3,
          2,
          1,
          3,
          2,
          1,
          1,
          1,
          1,
          1,
          2,
          1,
          10,
          9,
          8,
          7,
          6,
          5,
          4,
          3,
          18,
          17,
          16,
          15,
          14,
          13,
          12,
          11,
          1,
          2,
          10,
          8,
          9,
          7,
          6,
          4,
          3,
          12,
          11,
          2,
          1,
          5,
          10,
          9,
          8,
          6,
          5,
          4,
          7,
          3,
          11,
          1,
          2,
          6,
          5,
          4,
          3,
          2,
          1,
          1,
          1,
          1,
          1,
          4,
          3,
          2,
          1,
          2,
          1,
          2,
          1,
          1,
          2,
          1,
          1,
          1,
          1,
          1,
          4,
          3,
          2,
          1,
          1,
          1,
          1,
          1,
          1,
          1,
          1,
          1,
          1,
          1,
          2,
          1,
          1,
          1,
          1,
          1,
          2,
          1,
          1,
          1,
          1,
          1,
          1,
          1,
          1,
          1,
          1,
          1,
          1,
          1,
          3,
          2,
          1,
          1,
          1,
          1,
          1,
          1,
          1,
          1,
          2,
          1,
          1,
          1,
          1,
          1,
          4,
          3,
          2,
          1,
          1,
          1,
          1,
          1,
          1,
          1,
          1,
          1,
          1,
          1,
          1,
          1,
          1,
          1,
          1,
          2,
          1,
          1,
          1,
          1,
          1,
          1,
          1,
          1,
          2,
          1,
          1,
          1,
          1,
          1,
          1,
          1,
          1,
          1,
          1,
          1,
          1,
          1,
          1,
          1,
          1,
          1,
          1,
          1,
          1,
          1,
          1,
          1,
          1,
          1,
          1,
          1,
          1,
          1,
          1,
          1,
          1,
          1,
          1,
          1,
          1,
          1,
          1,
          1,
          1,
          1,
          1,
          1,
          1,
          1,
          1,
          1,
          1,
          1,
          1,
          1,
          1,
          1,
          1,
          1,
          1,
          1,
          1,
          1,
          1,
          1,
          1,
          1,
          4,
          5,
          3,
          2,
          1,
          1,
          1,
          1,
          1,
          1,
          1,
          1,
          1,
          2,
          1,
          1,
          1,
          1,
          1,
          1,
          1,
          1,
          1,
          1,
          1,
          1,
          1,
          1,
          1,
          1,
          1,
          1,
          1,
          1,
          1,
          1,
          1,
          1,
          1,
          1,
          1,
          1,
          1,
          1,
          1,
          1,
          1,
          1,
          1,
          1,
          1,
          1,
          1,
          1,
          1,
          1,
          1,
          1,
          1,
          1,
          1,
          1,
          1,
          1,
          1,
          1,
          1,
          1,
          1,
          1,
          1,
          1,
          1,
          1,
          1,
          1,
          1,
          1,
          1,
          1,
          1,
          1,
          1,
          1,
          1,
          1,
          1,
          1,
          1,
          1,
          1,
          1,
          1,
          1,
          1,
          1,
          1,
          1,
          1,
          1,
          1,
          1,
          1,
          1,
          1,
          1,
          1,
          1,
          1,
          1,
          1,
          1,
          1,
          1,
          1,
          1,
          1,
          1,
          1,
          1,
          1,
          1,
          1,
          1,
          1,
          1,
          1,
          1,
          1,
          1,
          1,
          1,
          1,
          1,
          1,
          1,
          1,
          1,
          1,
          1,
          1,
          1,
          1,
          1,
          1,
          1,
          1,
          1,
          9,
          6,
          7,
          8,
          5,
          4,
          29,
          28,
          10,
          27,
          25,
          24,
          23,
          22,
          3,
          21,
          20,
          19,
          18,
          17,
          16,
          15,
          14,
          13,
          12,
          11,
          2,
          1,
          26,
          1,
          1,
          1,
          1,
          1,
          1,
          1,
          2,
          3,
          1,
          1,
          1,
          1,
          1,
          1,
          1,
          1,
          1,
          1,
          1,
          1,
          1,
          1,
          1,
          1,
          1,
          1,
          1,
          1,
          1,
          1,
          1,
          1,
          1,
          1,
          1,
          1,
          1,
          1,
          1,
          1,
          1,
          1,
          1,
          1,
          1
         ],
         "xaxis": "x",
         "yaxis": "y"
        },
        {
         "alignmentgroup": "True",
         "boxpoints": "all",
         "fillcolor": "rgba(255,255,255,0)",
         "hoveron": "points",
         "hovertemplate": "variable=Assembly_No<br>value=%{x}<extra></extra>",
         "jitter": 0,
         "legendgroup": "Assembly_No",
         "line": {
          "color": "rgba(255,255,255,0)"
         },
         "marker": {
          "color": "#636efa",
          "symbol": "line-ns-open"
         },
         "name": "Assembly_No",
         "offsetgroup": "Assembly_No",
         "showlegend": false,
         "type": "box",
         "x": [
          1,
          1,
          2,
          1,
          1,
          1,
          1,
          1,
          3,
          2,
          1,
          4,
          1,
          1,
          1,
          1,
          1,
          1,
          1,
          1,
          1,
          1,
          1,
          1,
          1,
          1,
          1,
          1,
          1,
          1,
          1,
          1,
          1,
          1,
          1,
          1,
          1,
          1,
          1,
          1,
          1,
          1,
          1,
          1,
          1,
          1,
          1,
          1,
          1,
          1,
          2,
          1,
          1,
          1,
          1,
          1,
          1,
          1,
          1,
          1,
          1,
          1,
          1,
          1,
          1,
          1,
          1,
          1,
          1,
          1,
          1,
          1,
          1,
          1,
          1,
          1,
          1,
          1,
          1,
          1,
          1,
          1,
          1,
          1,
          1,
          1,
          1,
          1,
          1,
          2,
          1,
          1,
          1,
          1,
          1,
          1,
          1,
          1,
          1,
          1,
          1,
          1,
          1,
          1,
          1,
          1,
          1,
          1,
          1,
          1,
          1,
          1,
          6,
          5,
          4,
          3,
          1,
          2,
          1,
          1,
          1,
          1,
          1,
          1,
          1,
          1,
          1,
          1,
          1,
          1,
          4,
          3,
          1,
          2,
          1,
          1,
          1,
          1,
          1,
          1,
          1,
          1,
          1,
          1,
          1,
          1,
          1,
          1,
          1,
          1,
          1,
          1,
          1,
          1,
          1,
          1,
          1,
          1,
          1,
          1,
          1,
          1,
          1,
          1,
          1,
          1,
          1,
          1,
          1,
          1,
          1,
          1,
          98,
          97,
          96,
          95,
          94,
          93,
          92,
          91,
          10,
          90,
          89,
          88,
          87,
          86,
          85,
          84,
          82,
          81,
          9,
          80,
          79,
          78,
          77,
          83,
          76,
          75,
          74,
          71,
          72,
          8,
          70,
          69,
          68,
          67,
          66,
          65,
          64,
          63,
          62,
          61,
          7,
          60,
          59,
          57,
          58,
          55,
          56,
          53,
          52,
          51,
          54,
          6,
          50,
          48,
          49,
          47,
          46,
          45,
          44,
          43,
          42,
          5,
          40,
          39,
          38,
          36,
          37,
          35,
          34,
          33,
          31,
          32,
          4,
          30,
          28,
          27,
          29,
          26,
          25,
          24,
          23,
          22,
          3,
          21,
          20,
          73,
          19,
          18,
          17,
          16,
          15,
          14,
          13,
          12,
          11,
          2,
          1,
          1,
          1,
          1,
          1,
          1,
          1,
          1,
          1,
          1,
          1,
          1,
          1,
          1,
          1,
          1,
          1,
          2,
          1,
          1,
          1,
          1,
          1,
          1,
          1,
          1,
          1,
          1,
          1,
          1,
          1,
          1,
          1,
          1,
          1,
          1,
          1,
          1,
          1,
          1,
          1,
          1,
          1,
          1,
          1,
          1,
          1,
          1,
          1,
          1,
          2,
          1,
          1,
          2,
          1,
          2,
          1,
          1,
          1,
          1,
          2,
          1,
          1,
          1,
          1,
          2,
          1,
          1,
          5,
          4,
          3,
          2,
          1,
          2,
          1,
          2,
          1,
          1,
          1,
          1,
          3,
          1,
          2,
          1,
          1,
          1,
          1,
          1,
          2,
          2,
          1,
          2,
          1,
          2,
          1,
          1,
          1,
          1,
          1,
          5,
          6,
          4,
          2,
          3,
          1,
          1,
          2,
          1,
          1,
          1,
          1,
          1,
          1,
          1,
          1,
          2,
          1,
          3,
          10,
          9,
          8,
          7,
          6,
          4,
          5,
          3,
          13,
          12,
          11,
          2,
          1,
          1,
          1,
          1,
          1,
          1,
          1,
          1,
          5,
          4,
          3,
          2,
          1,
          1,
          1,
          1,
          10,
          8,
          9,
          7,
          6,
          5,
          4,
          3,
          15,
          13,
          14,
          12,
          11,
          2,
          1,
          2,
          1,
          2,
          1,
          2,
          3,
          1,
          1,
          1,
          1,
          5,
          4,
          3,
          2,
          1,
          3,
          2,
          1,
          1,
          1,
          1,
          1,
          2,
          1,
          10,
          9,
          8,
          7,
          6,
          5,
          4,
          3,
          18,
          17,
          16,
          15,
          14,
          13,
          12,
          11,
          1,
          2,
          10,
          8,
          9,
          7,
          6,
          4,
          3,
          12,
          11,
          2,
          1,
          5,
          10,
          9,
          8,
          6,
          5,
          4,
          7,
          3,
          11,
          1,
          2,
          6,
          5,
          4,
          3,
          2,
          1,
          1,
          1,
          1,
          1,
          4,
          3,
          2,
          1,
          2,
          1,
          2,
          1,
          1,
          2,
          1,
          1,
          1,
          1,
          1,
          4,
          3,
          2,
          1,
          1,
          1,
          1,
          1,
          1,
          1,
          1,
          1,
          1,
          1,
          2,
          1,
          1,
          1,
          1,
          1,
          2,
          1,
          1,
          1,
          1,
          1,
          1,
          1,
          1,
          1,
          1,
          1,
          1,
          1,
          3,
          2,
          1,
          1,
          1,
          1,
          1,
          1,
          1,
          1,
          2,
          1,
          1,
          1,
          1,
          1,
          4,
          3,
          2,
          1,
          1,
          1,
          1,
          1,
          1,
          1,
          1,
          1,
          1,
          1,
          1,
          1,
          1,
          1,
          1,
          2,
          1,
          1,
          1,
          1,
          1,
          1,
          1,
          1,
          2,
          1,
          1,
          1,
          1,
          1,
          1,
          1,
          1,
          1,
          1,
          1,
          1,
          1,
          1,
          1,
          1,
          1,
          1,
          1,
          1,
          1,
          1,
          1,
          1,
          1,
          1,
          1,
          1,
          1,
          1,
          1,
          1,
          1,
          1,
          1,
          1,
          1,
          1,
          1,
          1,
          1,
          1,
          1,
          1,
          1,
          1,
          1,
          1,
          1,
          1,
          1,
          1,
          1,
          1,
          1,
          1,
          1,
          1,
          1,
          1,
          1,
          1,
          1,
          4,
          5,
          3,
          2,
          1,
          1,
          1,
          1,
          1,
          1,
          1,
          1,
          1,
          2,
          1,
          1,
          1,
          1,
          1,
          1,
          1,
          1,
          1,
          1,
          1,
          1,
          1,
          1,
          1,
          1,
          1,
          1,
          1,
          1,
          1,
          1,
          1,
          1,
          1,
          1,
          1,
          1,
          1,
          1,
          1,
          1,
          1,
          1,
          1,
          1,
          1,
          1,
          1,
          1,
          1,
          1,
          1,
          1,
          1,
          1,
          1,
          1,
          1,
          1,
          1,
          1,
          1,
          1,
          1,
          1,
          1,
          1,
          1,
          1,
          1,
          1,
          1,
          1,
          1,
          1,
          1,
          1,
          1,
          1,
          1,
          1,
          1,
          1,
          1,
          1,
          1,
          1,
          1,
          1,
          1,
          1,
          1,
          1,
          1,
          1,
          1,
          1,
          1,
          1,
          1,
          1,
          1,
          1,
          1,
          1,
          1,
          1,
          1,
          1,
          1,
          1,
          1,
          1,
          1,
          1,
          1,
          1,
          1,
          1,
          1,
          1,
          1,
          1,
          1,
          1,
          1,
          1,
          1,
          1,
          1,
          1,
          1,
          1,
          1,
          1,
          1,
          1,
          1,
          1,
          1,
          1,
          1,
          1,
          9,
          6,
          7,
          8,
          5,
          4,
          29,
          28,
          10,
          27,
          25,
          24,
          23,
          22,
          3,
          21,
          20,
          19,
          18,
          17,
          16,
          15,
          14,
          13,
          12,
          11,
          2,
          1,
          26,
          1,
          1,
          1,
          1,
          1,
          1,
          1,
          2,
          3,
          1,
          1,
          1,
          1,
          1,
          1,
          1,
          1,
          1,
          1,
          1,
          1,
          1,
          1,
          1,
          1,
          1,
          1,
          1,
          1,
          1,
          1,
          1,
          1,
          1,
          1,
          1,
          1,
          1,
          1,
          1,
          1,
          1,
          1,
          1,
          1,
          1
         ],
         "xaxis": "x2",
         "yaxis": "y2"
        }
       ],
       "layout": {
        "autosize": true,
        "barmode": "relative",
        "legend": {
         "title": {
          "text": "variable"
         },
         "tracegroupgap": 0
        },
        "margin": {
         "t": 60
        },
        "template": {
         "data": {
          "bar": [
           {
            "error_x": {
             "color": "#2a3f5f"
            },
            "error_y": {
             "color": "#2a3f5f"
            },
            "marker": {
             "line": {
              "color": "#E5ECF6",
              "width": 0.5
             },
             "pattern": {
              "fillmode": "overlay",
              "size": 10,
              "solidity": 0.2
             }
            },
            "type": "bar"
           }
          ],
          "barpolar": [
           {
            "marker": {
             "line": {
              "color": "#E5ECF6",
              "width": 0.5
             },
             "pattern": {
              "fillmode": "overlay",
              "size": 10,
              "solidity": 0.2
             }
            },
            "type": "barpolar"
           }
          ],
          "carpet": [
           {
            "aaxis": {
             "endlinecolor": "#2a3f5f",
             "gridcolor": "white",
             "linecolor": "white",
             "minorgridcolor": "white",
             "startlinecolor": "#2a3f5f"
            },
            "baxis": {
             "endlinecolor": "#2a3f5f",
             "gridcolor": "white",
             "linecolor": "white",
             "minorgridcolor": "white",
             "startlinecolor": "#2a3f5f"
            },
            "type": "carpet"
           }
          ],
          "choropleth": [
           {
            "colorbar": {
             "outlinewidth": 0,
             "ticks": ""
            },
            "type": "choropleth"
           }
          ],
          "contour": [
           {
            "colorbar": {
             "outlinewidth": 0,
             "ticks": ""
            },
            "colorscale": [
             [
              0,
              "#0d0887"
             ],
             [
              0.1111111111111111,
              "#46039f"
             ],
             [
              0.2222222222222222,
              "#7201a8"
             ],
             [
              0.3333333333333333,
              "#9c179e"
             ],
             [
              0.4444444444444444,
              "#bd3786"
             ],
             [
              0.5555555555555556,
              "#d8576b"
             ],
             [
              0.6666666666666666,
              "#ed7953"
             ],
             [
              0.7777777777777778,
              "#fb9f3a"
             ],
             [
              0.8888888888888888,
              "#fdca26"
             ],
             [
              1,
              "#f0f921"
             ]
            ],
            "type": "contour"
           }
          ],
          "contourcarpet": [
           {
            "colorbar": {
             "outlinewidth": 0,
             "ticks": ""
            },
            "type": "contourcarpet"
           }
          ],
          "heatmap": [
           {
            "colorbar": {
             "outlinewidth": 0,
             "ticks": ""
            },
            "colorscale": [
             [
              0,
              "#0d0887"
             ],
             [
              0.1111111111111111,
              "#46039f"
             ],
             [
              0.2222222222222222,
              "#7201a8"
             ],
             [
              0.3333333333333333,
              "#9c179e"
             ],
             [
              0.4444444444444444,
              "#bd3786"
             ],
             [
              0.5555555555555556,
              "#d8576b"
             ],
             [
              0.6666666666666666,
              "#ed7953"
             ],
             [
              0.7777777777777778,
              "#fb9f3a"
             ],
             [
              0.8888888888888888,
              "#fdca26"
             ],
             [
              1,
              "#f0f921"
             ]
            ],
            "type": "heatmap"
           }
          ],
          "heatmapgl": [
           {
            "colorbar": {
             "outlinewidth": 0,
             "ticks": ""
            },
            "colorscale": [
             [
              0,
              "#0d0887"
             ],
             [
              0.1111111111111111,
              "#46039f"
             ],
             [
              0.2222222222222222,
              "#7201a8"
             ],
             [
              0.3333333333333333,
              "#9c179e"
             ],
             [
              0.4444444444444444,
              "#bd3786"
             ],
             [
              0.5555555555555556,
              "#d8576b"
             ],
             [
              0.6666666666666666,
              "#ed7953"
             ],
             [
              0.7777777777777778,
              "#fb9f3a"
             ],
             [
              0.8888888888888888,
              "#fdca26"
             ],
             [
              1,
              "#f0f921"
             ]
            ],
            "type": "heatmapgl"
           }
          ],
          "histogram": [
           {
            "marker": {
             "pattern": {
              "fillmode": "overlay",
              "size": 10,
              "solidity": 0.2
             }
            },
            "type": "histogram"
           }
          ],
          "histogram2d": [
           {
            "colorbar": {
             "outlinewidth": 0,
             "ticks": ""
            },
            "colorscale": [
             [
              0,
              "#0d0887"
             ],
             [
              0.1111111111111111,
              "#46039f"
             ],
             [
              0.2222222222222222,
              "#7201a8"
             ],
             [
              0.3333333333333333,
              "#9c179e"
             ],
             [
              0.4444444444444444,
              "#bd3786"
             ],
             [
              0.5555555555555556,
              "#d8576b"
             ],
             [
              0.6666666666666666,
              "#ed7953"
             ],
             [
              0.7777777777777778,
              "#fb9f3a"
             ],
             [
              0.8888888888888888,
              "#fdca26"
             ],
             [
              1,
              "#f0f921"
             ]
            ],
            "type": "histogram2d"
           }
          ],
          "histogram2dcontour": [
           {
            "colorbar": {
             "outlinewidth": 0,
             "ticks": ""
            },
            "colorscale": [
             [
              0,
              "#0d0887"
             ],
             [
              0.1111111111111111,
              "#46039f"
             ],
             [
              0.2222222222222222,
              "#7201a8"
             ],
             [
              0.3333333333333333,
              "#9c179e"
             ],
             [
              0.4444444444444444,
              "#bd3786"
             ],
             [
              0.5555555555555556,
              "#d8576b"
             ],
             [
              0.6666666666666666,
              "#ed7953"
             ],
             [
              0.7777777777777778,
              "#fb9f3a"
             ],
             [
              0.8888888888888888,
              "#fdca26"
             ],
             [
              1,
              "#f0f921"
             ]
            ],
            "type": "histogram2dcontour"
           }
          ],
          "mesh3d": [
           {
            "colorbar": {
             "outlinewidth": 0,
             "ticks": ""
            },
            "type": "mesh3d"
           }
          ],
          "parcoords": [
           {
            "line": {
             "colorbar": {
              "outlinewidth": 0,
              "ticks": ""
             }
            },
            "type": "parcoords"
           }
          ],
          "pie": [
           {
            "automargin": true,
            "type": "pie"
           }
          ],
          "scatter": [
           {
            "marker": {
             "colorbar": {
              "outlinewidth": 0,
              "ticks": ""
             }
            },
            "type": "scatter"
           }
          ],
          "scatter3d": [
           {
            "line": {
             "colorbar": {
              "outlinewidth": 0,
              "ticks": ""
             }
            },
            "marker": {
             "colorbar": {
              "outlinewidth": 0,
              "ticks": ""
             }
            },
            "type": "scatter3d"
           }
          ],
          "scattercarpet": [
           {
            "marker": {
             "colorbar": {
              "outlinewidth": 0,
              "ticks": ""
             }
            },
            "type": "scattercarpet"
           }
          ],
          "scattergeo": [
           {
            "marker": {
             "colorbar": {
              "outlinewidth": 0,
              "ticks": ""
             }
            },
            "type": "scattergeo"
           }
          ],
          "scattergl": [
           {
            "marker": {
             "colorbar": {
              "outlinewidth": 0,
              "ticks": ""
             }
            },
            "type": "scattergl"
           }
          ],
          "scattermapbox": [
           {
            "marker": {
             "colorbar": {
              "outlinewidth": 0,
              "ticks": ""
             }
            },
            "type": "scattermapbox"
           }
          ],
          "scatterpolar": [
           {
            "marker": {
             "colorbar": {
              "outlinewidth": 0,
              "ticks": ""
             }
            },
            "type": "scatterpolar"
           }
          ],
          "scatterpolargl": [
           {
            "marker": {
             "colorbar": {
              "outlinewidth": 0,
              "ticks": ""
             }
            },
            "type": "scatterpolargl"
           }
          ],
          "scatterternary": [
           {
            "marker": {
             "colorbar": {
              "outlinewidth": 0,
              "ticks": ""
             }
            },
            "type": "scatterternary"
           }
          ],
          "surface": [
           {
            "colorbar": {
             "outlinewidth": 0,
             "ticks": ""
            },
            "colorscale": [
             [
              0,
              "#0d0887"
             ],
             [
              0.1111111111111111,
              "#46039f"
             ],
             [
              0.2222222222222222,
              "#7201a8"
             ],
             [
              0.3333333333333333,
              "#9c179e"
             ],
             [
              0.4444444444444444,
              "#bd3786"
             ],
             [
              0.5555555555555556,
              "#d8576b"
             ],
             [
              0.6666666666666666,
              "#ed7953"
             ],
             [
              0.7777777777777778,
              "#fb9f3a"
             ],
             [
              0.8888888888888888,
              "#fdca26"
             ],
             [
              1,
              "#f0f921"
             ]
            ],
            "type": "surface"
           }
          ],
          "table": [
           {
            "cells": {
             "fill": {
              "color": "#EBF0F8"
             },
             "line": {
              "color": "white"
             }
            },
            "header": {
             "fill": {
              "color": "#C8D4E3"
             },
             "line": {
              "color": "white"
             }
            },
            "type": "table"
           }
          ]
         },
         "layout": {
          "annotationdefaults": {
           "arrowcolor": "#2a3f5f",
           "arrowhead": 0,
           "arrowwidth": 1
          },
          "autotypenumbers": "strict",
          "coloraxis": {
           "colorbar": {
            "outlinewidth": 0,
            "ticks": ""
           }
          },
          "colorscale": {
           "diverging": [
            [
             0,
             "#8e0152"
            ],
            [
             0.1,
             "#c51b7d"
            ],
            [
             0.2,
             "#de77ae"
            ],
            [
             0.3,
             "#f1b6da"
            ],
            [
             0.4,
             "#fde0ef"
            ],
            [
             0.5,
             "#f7f7f7"
            ],
            [
             0.6,
             "#e6f5d0"
            ],
            [
             0.7,
             "#b8e186"
            ],
            [
             0.8,
             "#7fbc41"
            ],
            [
             0.9,
             "#4d9221"
            ],
            [
             1,
             "#276419"
            ]
           ],
           "sequential": [
            [
             0,
             "#0d0887"
            ],
            [
             0.1111111111111111,
             "#46039f"
            ],
            [
             0.2222222222222222,
             "#7201a8"
            ],
            [
             0.3333333333333333,
             "#9c179e"
            ],
            [
             0.4444444444444444,
             "#bd3786"
            ],
            [
             0.5555555555555556,
             "#d8576b"
            ],
            [
             0.6666666666666666,
             "#ed7953"
            ],
            [
             0.7777777777777778,
             "#fb9f3a"
            ],
            [
             0.8888888888888888,
             "#fdca26"
            ],
            [
             1,
             "#f0f921"
            ]
           ],
           "sequentialminus": [
            [
             0,
             "#0d0887"
            ],
            [
             0.1111111111111111,
             "#46039f"
            ],
            [
             0.2222222222222222,
             "#7201a8"
            ],
            [
             0.3333333333333333,
             "#9c179e"
            ],
            [
             0.4444444444444444,
             "#bd3786"
            ],
            [
             0.5555555555555556,
             "#d8576b"
            ],
            [
             0.6666666666666666,
             "#ed7953"
            ],
            [
             0.7777777777777778,
             "#fb9f3a"
            ],
            [
             0.8888888888888888,
             "#fdca26"
            ],
            [
             1,
             "#f0f921"
            ]
           ]
          },
          "colorway": [
           "#636efa",
           "#EF553B",
           "#00cc96",
           "#ab63fa",
           "#FFA15A",
           "#19d3f3",
           "#FF6692",
           "#B6E880",
           "#FF97FF",
           "#FECB52"
          ],
          "font": {
           "color": "#2a3f5f"
          },
          "geo": {
           "bgcolor": "white",
           "lakecolor": "white",
           "landcolor": "#E5ECF6",
           "showlakes": true,
           "showland": true,
           "subunitcolor": "white"
          },
          "hoverlabel": {
           "align": "left"
          },
          "hovermode": "closest",
          "mapbox": {
           "style": "light"
          },
          "paper_bgcolor": "white",
          "plot_bgcolor": "#E5ECF6",
          "polar": {
           "angularaxis": {
            "gridcolor": "white",
            "linecolor": "white",
            "ticks": ""
           },
           "bgcolor": "#E5ECF6",
           "radialaxis": {
            "gridcolor": "white",
            "linecolor": "white",
            "ticks": ""
           }
          },
          "scene": {
           "xaxis": {
            "backgroundcolor": "#E5ECF6",
            "gridcolor": "white",
            "gridwidth": 2,
            "linecolor": "white",
            "showbackground": true,
            "ticks": "",
            "zerolinecolor": "white"
           },
           "yaxis": {
            "backgroundcolor": "#E5ECF6",
            "gridcolor": "white",
            "gridwidth": 2,
            "linecolor": "white",
            "showbackground": true,
            "ticks": "",
            "zerolinecolor": "white"
           },
           "zaxis": {
            "backgroundcolor": "#E5ECF6",
            "gridcolor": "white",
            "gridwidth": 2,
            "linecolor": "white",
            "showbackground": true,
            "ticks": "",
            "zerolinecolor": "white"
           }
          },
          "shapedefaults": {
           "line": {
            "color": "#2a3f5f"
           }
          },
          "ternary": {
           "aaxis": {
            "gridcolor": "white",
            "linecolor": "white",
            "ticks": ""
           },
           "baxis": {
            "gridcolor": "white",
            "linecolor": "white",
            "ticks": ""
           },
           "bgcolor": "#E5ECF6",
           "caxis": {
            "gridcolor": "white",
            "linecolor": "white",
            "ticks": ""
           }
          },
          "title": {
           "x": 0.05
          },
          "xaxis": {
           "automargin": true,
           "gridcolor": "white",
           "linecolor": "white",
           "ticks": "",
           "title": {
            "standoff": 15
           },
           "zerolinecolor": "white",
           "zerolinewidth": 2
          },
          "yaxis": {
           "automargin": true,
           "gridcolor": "white",
           "linecolor": "white",
           "ticks": "",
           "title": {
            "standoff": 15
           },
           "zerolinecolor": "white",
           "zerolinewidth": 2
          }
         }
        },
        "xaxis": {
         "anchor": "y",
         "autorange": true,
         "domain": [
          0,
          1
         ],
         "range": [
          -4.388888888888888,
          103.38888888888889
         ],
         "title": {
          "text": "value"
         },
         "type": "linear"
        },
        "xaxis2": {
         "anchor": "y2",
         "autorange": true,
         "domain": [
          0,
          1
         ],
         "matches": "x",
         "range": [
          -4.388888888888888,
          103.38888888888889
         ],
         "showgrid": true,
         "showticklabels": false,
         "type": "linear"
        },
        "yaxis": {
         "anchor": "x",
         "autorange": true,
         "domain": [
          0,
          0.7326
         ],
         "range": [
          0,
          744.2105263157895
         ],
         "title": {
          "text": "count"
         }
        },
        "yaxis2": {
         "anchor": "x2",
         "autorange": true,
         "domain": [
          0.7426,
          1
         ],
         "matches": "y2",
         "range": [
          -0.5559409263817409,
          0.5
         ],
         "showgrid": false,
         "showline": false,
         "showticklabels": false,
         "ticks": "",
         "type": "category"
        }
       }
      },
      "image/png": "[encoded data removed]",
      "text/html": [
       "<div>                            <div id=\"014e065f-f545-4ee7-9371-143e4921e751\" class=\"plotly-graph-div\" style=\"height:525px; width:100%;\"></div>            <script type=\"text/javascript\">                require([\"plotly\"], function(Plotly) {                    window.PLOTLYENV=window.PLOTLYENV || {};                                    if (document.getElementById(\"014e065f-f545-4ee7-9371-143e4921e751\")) {                    Plotly.newPlot(                        \"014e065f-f545-4ee7-9371-143e4921e751\",                        [{\"alignmentgroup\":\"True\",\"bingroup\":\"x\",\"hovertemplate\":\"variable=Assembly_No<br>value=%{x}<br>count=%{y}<extra></extra>\",\"legendgroup\":\"Assembly_No\",\"marker\":{\"color\":\"#636efa\",\"pattern\":{\"shape\":\"\"}},\"name\":\"Assembly_No\",\"offsetgroup\":\"Assembly_No\",\"orientation\":\"v\",\"showlegend\":true,\"type\":\"histogram\",\"x\":[1,1,2,1,1,1,1,1,3,2,1,4,1,1,1,1,1,1,1,1,1,1,1,1,1,1,1,1,1,1,1,1,1,1,1,1,1,1,1,1,1,1,1,1,1,1,1,1,1,1,2,1,1,1,1,1,1,1,1,1,1,1,1,1,1,1,1,1,1,1,1,1,1,1,1,1,1,1,1,1,1,1,1,1,1,1,1,1,1,2,1,1,1,1,1,1,1,1,1,1,1,1,1,1,1,1,1,1,1,1,1,1,6,5,4,3,1,2,1,1,1,1,1,1,1,1,1,1,1,1,4,3,1,2,1,1,1,1,1,1,1,1,1,1,1,1,1,1,1,1,1,1,1,1,1,1,1,1,1,1,1,1,1,1,1,1,1,1,1,1,1,1,98,97,96,95,94,93,92,91,10,90,89,88,87,86,85,84,82,81,9,80,79,78,77,83,76,75,74,71,72,8,70,69,68,67,66,65,64,63,62,61,7,60,59,57,58,55,56,53,52,51,54,6,50,48,49,47,46,45,44,43,42,5,40,39,38,36,37,35,34,33,31,32,4,30,28,27,29,26,25,24,23,22,3,21,20,73,19,18,17,16,15,14,13,12,11,2,1,1,1,1,1,1,1,1,1,1,1,1,1,1,1,1,1,2,1,1,1,1,1,1,1,1,1,1,1,1,1,1,1,1,1,1,1,1,1,1,1,1,1,1,1,1,1,1,1,1,2,1,1,2,1,2,1,1,1,1,2,1,1,1,1,2,1,1,5,4,3,2,1,2,1,2,1,1,1,1,3,1,2,1,1,1,1,1,2,2,1,2,1,2,1,1,1,1,1,5,6,4,2,3,1,1,2,1,1,1,1,1,1,1,1,2,1,3,10,9,8,7,6,4,5,3,13,12,11,2,1,1,1,1,1,1,1,1,5,4,3,2,1,1,1,1,10,8,9,7,6,5,4,3,15,13,14,12,11,2,1,2,1,2,1,2,3,1,1,1,1,5,4,3,2,1,3,2,1,1,1,1,1,2,1,10,9,8,7,6,5,4,3,18,17,16,15,14,13,12,11,1,2,10,8,9,7,6,4,3,12,11,2,1,5,10,9,8,6,5,4,7,3,11,1,2,6,5,4,3,2,1,1,1,1,1,4,3,2,1,2,1,2,1,1,2,1,1,1,1,1,4,3,2,1,1,1,1,1,1,1,1,1,1,1,2,1,1,1,1,1,2,1,1,1,1,1,1,1,1,1,1,1,1,1,3,2,1,1,1,1,1,1,1,1,2,1,1,1,1,1,4,3,2,1,1,1,1,1,1,1,1,1,1,1,1,1,1,1,1,2,1,1,1,1,1,1,1,1,2,1,1,1,1,1,1,1,1,1,1,1,1,1,1,1,1,1,1,1,1,1,1,1,1,1,1,1,1,1,1,1,1,1,1,1,1,1,1,1,1,1,1,1,1,1,1,1,1,1,1,1,1,1,1,1,1,1,1,1,1,1,1,1,4,5,3,2,1,1,1,1,1,1,1,1,1,2,1,1,1,1,1,1,1,1,1,1,1,1,1,1,1,1,1,1,1,1,1,1,1,1,1,1,1,1,1,1,1,1,1,1,1,1,1,1,1,1,1,1,1,1,1,1,1,1,1,1,1,1,1,1,1,1,1,1,1,1,1,1,1,1,1,1,1,1,1,1,1,1,1,1,1,1,1,1,1,1,1,1,1,1,1,1,1,1,1,1,1,1,1,1,1,1,1,1,1,1,1,1,1,1,1,1,1,1,1,1,1,1,1,1,1,1,1,1,1,1,1,1,1,1,1,1,1,1,1,1,1,1,1,1,9,6,7,8,5,4,29,28,10,27,25,24,23,22,3,21,20,19,18,17,16,15,14,13,12,11,2,1,26,1,1,1,1,1,1,1,2,3,1,1,1,1,1,1,1,1,1,1,1,1,1,1,1,1,1,1,1,1,1,1,1,1,1,1,1,1,1,1,1,1,1,1,1,1,1],\"xaxis\":\"x\",\"yaxis\":\"y\"},{\"alignmentgroup\":\"True\",\"boxpoints\":\"all\",\"fillcolor\":\"rgba(255,255,255,0)\",\"hoveron\":\"points\",\"hovertemplate\":\"variable=Assembly_No<br>value=%{x}<extra></extra>\",\"jitter\":0,\"legendgroup\":\"Assembly_No\",\"line\":{\"color\":\"rgba(255,255,255,0)\"},\"marker\":{\"color\":\"#636efa\",\"symbol\":\"line-ns-open\"},\"name\":\"Assembly_No\",\"offsetgroup\":\"Assembly_No\",\"showlegend\":false,\"type\":\"box\",\"x\":[1,1,2,1,1,1,1,1,3,2,1,4,1,1,1,1,1,1,1,1,1,1,1,1,1,1,1,1,1,1,1,1,1,1,1,1,1,1,1,1,1,1,1,1,1,1,1,1,1,1,2,1,1,1,1,1,1,1,1,1,1,1,1,1,1,1,1,1,1,1,1,1,1,1,1,1,1,1,1,1,1,1,1,1,1,1,1,1,1,2,1,1,1,1,1,1,1,1,1,1,1,1,1,1,1,1,1,1,1,1,1,1,6,5,4,3,1,2,1,1,1,1,1,1,1,1,1,1,1,1,4,3,1,2,1,1,1,1,1,1,1,1,1,1,1,1,1,1,1,1,1,1,1,1,1,1,1,1,1,1,1,1,1,1,1,1,1,1,1,1,1,1,98,97,96,95,94,93,92,91,10,90,89,88,87,86,85,84,82,81,9,80,79,78,77,83,76,75,74,71,72,8,70,69,68,67,66,65,64,63,62,61,7,60,59,57,58,55,56,53,52,51,54,6,50,48,49,47,46,45,44,43,42,5,40,39,38,36,37,35,34,33,31,32,4,30,28,27,29,26,25,24,23,22,3,21,20,73,19,18,17,16,15,14,13,12,11,2,1,1,1,1,1,1,1,1,1,1,1,1,1,1,1,1,1,2,1,1,1,1,1,1,1,1,1,1,1,1,1,1,1,1,1,1,1,1,1,1,1,1,1,1,1,1,1,1,1,1,2,1,1,2,1,2,1,1,1,1,2,1,1,1,1,2,1,1,5,4,3,2,1,2,1,2,1,1,1,1,3,1,2,1,1,1,1,1,2,2,1,2,1,2,1,1,1,1,1,5,6,4,2,3,1,1,2,1,1,1,1,1,1,1,1,2,1,3,10,9,8,7,6,4,5,3,13,12,11,2,1,1,1,1,1,1,1,1,5,4,3,2,1,1,1,1,10,8,9,7,6,5,4,3,15,13,14,12,11,2,1,2,1,2,1,2,3,1,1,1,1,5,4,3,2,1,3,2,1,1,1,1,1,2,1,10,9,8,7,6,5,4,3,18,17,16,15,14,13,12,11,1,2,10,8,9,7,6,4,3,12,11,2,1,5,10,9,8,6,5,4,7,3,11,1,2,6,5,4,3,2,1,1,1,1,1,4,3,2,1,2,1,2,1,1,2,1,1,1,1,1,4,3,2,1,1,1,1,1,1,1,1,1,1,1,2,1,1,1,1,1,2,1,1,1,1,1,1,1,1,1,1,1,1,1,3,2,1,1,1,1,1,1,1,1,2,1,1,1,1,1,4,3,2,1,1,1,1,1,1,1,1,1,1,1,1,1,1,1,1,2,1,1,1,1,1,1,1,1,2,1,1,1,1,1,1,1,1,1,1,1,1,1,1,1,1,1,1,1,1,1,1,1,1,1,1,1,1,1,1,1,1,1,1,1,1,1,1,1,1,1,1,1,1,1,1,1,1,1,1,1,1,1,1,1,1,1,1,1,1,1,1,1,4,5,3,2,1,1,1,1,1,1,1,1,1,2,1,1,1,1,1,1,1,1,1,1,1,1,1,1,1,1,1,1,1,1,1,1,1,1,1,1,1,1,1,1,1,1,1,1,1,1,1,1,1,1,1,1,1,1,1,1,1,1,1,1,1,1,1,1,1,1,1,1,1,1,1,1,1,1,1,1,1,1,1,1,1,1,1,1,1,1,1,1,1,1,1,1,1,1,1,1,1,1,1,1,1,1,1,1,1,1,1,1,1,1,1,1,1,1,1,1,1,1,1,1,1,1,1,1,1,1,1,1,1,1,1,1,1,1,1,1,1,1,1,1,1,1,1,1,9,6,7,8,5,4,29,28,10,27,25,24,23,22,3,21,20,19,18,17,16,15,14,13,12,11,2,1,26,1,1,1,1,1,1,1,2,3,1,1,1,1,1,1,1,1,1,1,1,1,1,1,1,1,1,1,1,1,1,1,1,1,1,1,1,1,1,1,1,1,1,1,1,1,1],\"xaxis\":\"x2\",\"yaxis\":\"y2\"}],                        {\"barmode\":\"relative\",\"legend\":{\"title\":{\"text\":\"variable\"},\"tracegroupgap\":0},\"margin\":{\"t\":60},\"template\":{\"data\":{\"bar\":[{\"error_x\":{\"color\":\"#2a3f5f\"},\"error_y\":{\"color\":\"#2a3f5f\"},\"marker\":{\"line\":{\"color\":\"#E5ECF6\",\"width\":0.5},\"pattern\":{\"fillmode\":\"overlay\",\"size\":10,\"solidity\":0.2}},\"type\":\"bar\"}],\"barpolar\":[{\"marker\":{\"line\":{\"color\":\"#E5ECF6\",\"width\":0.5},\"pattern\":{\"fillmode\":\"overlay\",\"size\":10,\"solidity\":0.2}},\"type\":\"barpolar\"}],\"carpet\":[{\"aaxis\":{\"endlinecolor\":\"#2a3f5f\",\"gridcolor\":\"white\",\"linecolor\":\"white\",\"minorgridcolor\":\"white\",\"startlinecolor\":\"#2a3f5f\"},\"baxis\":{\"endlinecolor\":\"#2a3f5f\",\"gridcolor\":\"white\",\"linecolor\":\"white\",\"minorgridcolor\":\"white\",\"startlinecolor\":\"#2a3f5f\"},\"type\":\"carpet\"}],\"choropleth\":[{\"colorbar\":{\"outlinewidth\":0,\"ticks\":\"\"},\"type\":\"choropleth\"}],\"contour\":[{\"colorbar\":{\"outlinewidth\":0,\"ticks\":\"\"},\"colorscale\":[[0.0,\"#0d0887\"],[0.1111111111111111,\"#46039f\"],[0.2222222222222222,\"#7201a8\"],[0.3333333333333333,\"#9c179e\"],[0.4444444444444444,\"#bd3786\"],[0.5555555555555556,\"#d8576b\"],[0.6666666666666666,\"#ed7953\"],[0.7777777777777778,\"#fb9f3a\"],[0.8888888888888888,\"#fdca26\"],[1.0,\"#f0f921\"]],\"type\":\"contour\"}],\"contourcarpet\":[{\"colorbar\":{\"outlinewidth\":0,\"ticks\":\"\"},\"type\":\"contourcarpet\"}],\"heatmap\":[{\"colorbar\":{\"outlinewidth\":0,\"ticks\":\"\"},\"colorscale\":[[0.0,\"#0d0887\"],[0.1111111111111111,\"#46039f\"],[0.2222222222222222,\"#7201a8\"],[0.3333333333333333,\"#9c179e\"],[0.4444444444444444,\"#bd3786\"],[0.5555555555555556,\"#d8576b\"],[0.6666666666666666,\"#ed7953\"],[0.7777777777777778,\"#fb9f3a\"],[0.8888888888888888,\"#fdca26\"],[1.0,\"#f0f921\"]],\"type\":\"heatmap\"}],\"heatmapgl\":[{\"colorbar\":{\"outlinewidth\":0,\"ticks\":\"\"},\"colorscale\":[[0.0,\"#0d0887\"],[0.1111111111111111,\"#46039f\"],[0.2222222222222222,\"#7201a8\"],[0.3333333333333333,\"#9c179e\"],[0.4444444444444444,\"#bd3786\"],[0.5555555555555556,\"#d8576b\"],[0.6666666666666666,\"#ed7953\"],[0.7777777777777778,\"#fb9f3a\"],[0.8888888888888888,\"#fdca26\"],[1.0,\"#f0f921\"]],\"type\":\"heatmapgl\"}],\"histogram\":[{\"marker\":{\"pattern\":{\"fillmode\":\"overlay\",\"size\":10,\"solidity\":0.2}},\"type\":\"histogram\"}],\"histogram2d\":[{\"colorbar\":{\"outlinewidth\":0,\"ticks\":\"\"},\"colorscale\":[[0.0,\"#0d0887\"],[0.1111111111111111,\"#46039f\"],[0.2222222222222222,\"#7201a8\"],[0.3333333333333333,\"#9c179e\"],[0.4444444444444444,\"#bd3786\"],[0.5555555555555556,\"#d8576b\"],[0.6666666666666666,\"#ed7953\"],[0.7777777777777778,\"#fb9f3a\"],[0.8888888888888888,\"#fdca26\"],[1.0,\"#f0f921\"]],\"type\":\"histogram2d\"}],\"histogram2dcontour\":[{\"colorbar\":{\"outlinewidth\":0,\"ticks\":\"\"},\"colorscale\":[[0.0,\"#0d0887\"],[0.1111111111111111,\"#46039f\"],[0.2222222222222222,\"#7201a8\"],[0.3333333333333333,\"#9c179e\"],[0.4444444444444444,\"#bd3786\"],[0.5555555555555556,\"#d8576b\"],[0.6666666666666666,\"#ed7953\"],[0.7777777777777778,\"#fb9f3a\"],[0.8888888888888888,\"#fdca26\"],[1.0,\"#f0f921\"]],\"type\":\"histogram2dcontour\"}],\"mesh3d\":[{\"colorbar\":{\"outlinewidth\":0,\"ticks\":\"\"},\"type\":\"mesh3d\"}],\"parcoords\":[{\"line\":{\"colorbar\":{\"outlinewidth\":0,\"ticks\":\"\"}},\"type\":\"parcoords\"}],\"pie\":[{\"automargin\":true,\"type\":\"pie\"}],\"scatter\":[{\"marker\":{\"colorbar\":{\"outlinewidth\":0,\"ticks\":\"\"}},\"type\":\"scatter\"}],\"scatter3d\":[{\"line\":{\"colorbar\":{\"outlinewidth\":0,\"ticks\":\"\"}},\"marker\":{\"colorbar\":{\"outlinewidth\":0,\"ticks\":\"\"}},\"type\":\"scatter3d\"}],\"scattercarpet\":[{\"marker\":{\"colorbar\":{\"outlinewidth\":0,\"ticks\":\"\"}},\"type\":\"scattercarpet\"}],\"scattergeo\":[{\"marker\":{\"colorbar\":{\"outlinewidth\":0,\"ticks\":\"\"}},\"type\":\"scattergeo\"}],\"scattergl\":[{\"marker\":{\"colorbar\":{\"outlinewidth\":0,\"ticks\":\"\"}},\"type\":\"scattergl\"}],\"scattermapbox\":[{\"marker\":{\"colorbar\":{\"outlinewidth\":0,\"ticks\":\"\"}},\"type\":\"scattermapbox\"}],\"scatterpolar\":[{\"marker\":{\"colorbar\":{\"outlinewidth\":0,\"ticks\":\"\"}},\"type\":\"scatterpolar\"}],\"scatterpolargl\":[{\"marker\":{\"colorbar\":{\"outlinewidth\":0,\"ticks\":\"\"}},\"type\":\"scatterpolargl\"}],\"scatterternary\":[{\"marker\":{\"colorbar\":{\"outlinewidth\":0,\"ticks\":\"\"}},\"type\":\"scatterternary\"}],\"surface\":[{\"colorbar\":{\"outlinewidth\":0,\"ticks\":\"\"},\"colorscale\":[[0.0,\"#0d0887\"],[0.1111111111111111,\"#46039f\"],[0.2222222222222222,\"#7201a8\"],[0.3333333333333333,\"#9c179e\"],[0.4444444444444444,\"#bd3786\"],[0.5555555555555556,\"#d8576b\"],[0.6666666666666666,\"#ed7953\"],[0.7777777777777778,\"#fb9f3a\"],[0.8888888888888888,\"#fdca26\"],[1.0,\"#f0f921\"]],\"type\":\"surface\"}],\"table\":[{\"cells\":{\"fill\":{\"color\":\"#EBF0F8\"},\"line\":{\"color\":\"white\"}},\"header\":{\"fill\":{\"color\":\"#C8D4E3\"},\"line\":{\"color\":\"white\"}},\"type\":\"table\"}]},\"layout\":{\"annotationdefaults\":{\"arrowcolor\":\"#2a3f5f\",\"arrowhead\":0,\"arrowwidth\":1},\"autotypenumbers\":\"strict\",\"coloraxis\":{\"colorbar\":{\"outlinewidth\":0,\"ticks\":\"\"}},\"colorscale\":{\"diverging\":[[0,\"#8e0152\"],[0.1,\"#c51b7d\"],[0.2,\"#de77ae\"],[0.3,\"#f1b6da\"],[0.4,\"#fde0ef\"],[0.5,\"#f7f7f7\"],[0.6,\"#e6f5d0\"],[0.7,\"#b8e186\"],[0.8,\"#7fbc41\"],[0.9,\"#4d9221\"],[1,\"#276419\"]],\"sequential\":[[0.0,\"#0d0887\"],[0.1111111111111111,\"#46039f\"],[0.2222222222222222,\"#7201a8\"],[0.3333333333333333,\"#9c179e\"],[0.4444444444444444,\"#bd3786\"],[0.5555555555555556,\"#d8576b\"],[0.6666666666666666,\"#ed7953\"],[0.7777777777777778,\"#fb9f3a\"],[0.8888888888888888,\"#fdca26\"],[1.0,\"#f0f921\"]],\"sequentialminus\":[[0.0,\"#0d0887\"],[0.1111111111111111,\"#46039f\"],[0.2222222222222222,\"#7201a8\"],[0.3333333333333333,\"#9c179e\"],[0.4444444444444444,\"#bd3786\"],[0.5555555555555556,\"#d8576b\"],[0.6666666666666666,\"#ed7953\"],[0.7777777777777778,\"#fb9f3a\"],[0.8888888888888888,\"#fdca26\"],[1.0,\"#f0f921\"]]},\"colorway\":[\"#636efa\",\"#EF553B\",\"#00cc96\",\"#ab63fa\",\"#FFA15A\",\"#19d3f3\",\"#FF6692\",\"#B6E880\",\"#FF97FF\",\"#FECB52\"],\"font\":{\"color\":\"#2a3f5f\"},\"geo\":{\"bgcolor\":\"white\",\"lakecolor\":\"white\",\"landcolor\":\"#E5ECF6\",\"showlakes\":true,\"showland\":true,\"subunitcolor\":\"white\"},\"hoverlabel\":{\"align\":\"left\"},\"hovermode\":\"closest\",\"mapbox\":{\"style\":\"light\"},\"paper_bgcolor\":\"white\",\"plot_bgcolor\":\"#E5ECF6\",\"polar\":{\"angularaxis\":{\"gridcolor\":\"white\",\"linecolor\":\"white\",\"ticks\":\"\"},\"bgcolor\":\"#E5ECF6\",\"radialaxis\":{\"gridcolor\":\"white\",\"linecolor\":\"white\",\"ticks\":\"\"}},\"scene\":{\"xaxis\":{\"backgroundcolor\":\"#E5ECF6\",\"gridcolor\":\"white\",\"gridwidth\":2,\"linecolor\":\"white\",\"showbackground\":true,\"ticks\":\"\",\"zerolinecolor\":\"white\"},\"yaxis\":{\"backgroundcolor\":\"#E5ECF6\",\"gridcolor\":\"white\",\"gridwidth\":2,\"linecolor\":\"white\",\"showbackground\":true,\"ticks\":\"\",\"zerolinecolor\":\"white\"},\"zaxis\":{\"backgroundcolor\":\"#E5ECF6\",\"gridcolor\":\"white\",\"gridwidth\":2,\"linecolor\":\"white\",\"showbackground\":true,\"ticks\":\"\",\"zerolinecolor\":\"white\"}},\"shapedefaults\":{\"line\":{\"color\":\"#2a3f5f\"}},\"ternary\":{\"aaxis\":{\"gridcolor\":\"white\",\"linecolor\":\"white\",\"ticks\":\"\"},\"baxis\":{\"gridcolor\":\"white\",\"linecolor\":\"white\",\"ticks\":\"\"},\"bgcolor\":\"#E5ECF6\",\"caxis\":{\"gridcolor\":\"white\",\"linecolor\":\"white\",\"ticks\":\"\"}},\"title\":{\"x\":0.05},\"xaxis\":{\"automargin\":true,\"gridcolor\":\"white\",\"linecolor\":\"white\",\"ticks\":\"\",\"title\":{\"standoff\":15},\"zerolinecolor\":\"white\",\"zerolinewidth\":2},\"yaxis\":{\"automargin\":true,\"gridcolor\":\"white\",\"linecolor\":\"white\",\"ticks\":\"\",\"title\":{\"standoff\":15},\"zerolinecolor\":\"white\",\"zerolinewidth\":2}}},\"xaxis\":{\"anchor\":\"y\",\"domain\":[0.0,1.0],\"title\":{\"text\":\"value\"}},\"xaxis2\":{\"anchor\":\"y2\",\"domain\":[0.0,1.0],\"matches\":\"x\",\"showgrid\":true,\"showticklabels\":false},\"yaxis\":{\"anchor\":\"x\",\"domain\":[0.0,0.7326],\"title\":{\"text\":\"count\"}},\"yaxis2\":{\"anchor\":\"x2\",\"domain\":[0.7426,1.0],\"matches\":\"y2\",\"showgrid\":false,\"showline\":false,\"showticklabels\":false,\"ticks\":\"\"}},                        {\"responsive\": true}                    ).then(function(){\n",
       "                            \n",
       "var gd = document.getElementById('014e065f-f545-4ee7-9371-143e4921e751');\n",
       "var x = new MutationObserver(function (mutations, observer) {{\n",
       "        var display = window.getComputedStyle(gd).display;\n",
       "        if (!display || display === 'none') {{\n",
       "            console.log([gd, 'removed!']);\n",
       "            Plotly.purge(gd);\n",
       "            observer.disconnect();\n",
       "        }}\n",
       "}});\n",
       "\n",
       "// Listen for the removal of the full notebook cells\n",
       "var notebookContainer = gd.closest('#notebook-container');\n",
       "if (notebookContainer) {{\n",
       "    x.observe(notebookContainer, {childList: true});\n",
       "}}\n",
       "\n",
       "// Listen for the clearing of the current output cell\n",
       "var outputEl = gd.closest('.output');\n",
       "if (outputEl) {{\n",
       "    x.observe(outputEl, {childList: true});\n",
       "}}\n",
       "\n",
       "                        })                };                });            </script>        </div>"
      ]
     },
     "metadata": {},
     "output_type": "display_data"
    }
   ],
   "source": [
    "# histogram of assemblies? of assemblies\n",
    "px.histogram(\n",
    "    df.drop_duplicates(subset=['Accession_Number','Assembly_No'])['Assembly_No'],\n",
    "    marginal=\"rug\",\n",
    ")"
   ]
  },
  {
   "cell_type": "code",
   "execution_count": 145,
   "id": "a87e0742-a94a-49bb-a34b-82b14e5d19a2",
   "metadata": {},
   "outputs": [
    {
     "data": {
      "application/vnd.plotly.v1+json": {
       "config": {
        "plotlyServerURL": "https://plot.ly"
       },
       "data": [
        {
         "alignmentgroup": "True",
         "bingroup": "x",
         "hovertemplate": "Year Cultured=%{x}<br>count=%{y}<extra></extra>",
         "legendgroup": "",
         "marker": {
          "color": "#636efa",
          "pattern": {
           "shape": ""
          }
         },
         "name": "",
         "offsetgroup": "",
         "orientation": "v",
         "showlegend": false,
         "type": "histogram",
         "x": [
          1911,
          1920,
          1947,
          1983,
          1950,
          1955,
          1955,
          1955,
          1954,
          1955,
          1955,
          1955,
          1955,
          1955,
          1955,
          1955,
          1955,
          1946,
          1956,
          1954,
          1957,
          1958,
          1964,
          1956,
          1967,
          1957,
          1955,
          1970,
          1968,
          1936,
          1972,
          1951,
          1968,
          1971,
          1976,
          1949,
          1977,
          1973,
          1981,
          1962,
          1952,
          1964,
          1951,
          1957,
          1991,
          2003
         ],
         "xaxis": "x",
         "yaxis": "y"
        },
        {
         "alignmentgroup": "True",
         "boxpoints": "all",
         "fillcolor": "rgba(255,255,255,0)",
         "hoveron": "points",
         "hovertemplate": "Year Cultured=%{x}<extra></extra>",
         "jitter": 0,
         "legendgroup": "",
         "line": {
          "color": "rgba(255,255,255,0)"
         },
         "marker": {
          "color": "#636efa",
          "symbol": "line-ns-open"
         },
         "name": "",
         "offsetgroup": "",
         "showlegend": false,
         "type": "box",
         "x": [
          1911,
          1920,
          1947,
          1983,
          1950,
          1955,
          1955,
          1955,
          1954,
          1955,
          1955,
          1955,
          1955,
          1955,
          1955,
          1955,
          1955,
          1946,
          1956,
          1954,
          1957,
          1958,
          1964,
          1956,
          1967,
          1957,
          1955,
          1970,
          1968,
          1936,
          1972,
          1951,
          1968,
          1971,
          1976,
          1949,
          1977,
          1973,
          1981,
          1962,
          1952,
          1964,
          1951,
          1957,
          1991,
          2003
         ],
         "xaxis": "x2",
         "yaxis": "y2"
        }
       ],
       "layout": {
        "autosize": true,
        "barmode": "relative",
        "legend": {
         "tracegroupgap": 0
        },
        "template": {
         "data": {
          "bar": [
           {
            "error_x": {
             "color": "#2a3f5f"
            },
            "error_y": {
             "color": "#2a3f5f"
            },
            "marker": {
             "line": {
              "color": "#E5ECF6",
              "width": 0.5
             },
             "pattern": {
              "fillmode": "overlay",
              "size": 10,
              "solidity": 0.2
             }
            },
            "type": "bar"
           }
          ],
          "barpolar": [
           {
            "marker": {
             "line": {
              "color": "#E5ECF6",
              "width": 0.5
             },
             "pattern": {
              "fillmode": "overlay",
              "size": 10,
              "solidity": 0.2
             }
            },
            "type": "barpolar"
           }
          ],
          "carpet": [
           {
            "aaxis": {
             "endlinecolor": "#2a3f5f",
             "gridcolor": "white",
             "linecolor": "white",
             "minorgridcolor": "white",
             "startlinecolor": "#2a3f5f"
            },
            "baxis": {
             "endlinecolor": "#2a3f5f",
             "gridcolor": "white",
             "linecolor": "white",
             "minorgridcolor": "white",
             "startlinecolor": "#2a3f5f"
            },
            "type": "carpet"
           }
          ],
          "choropleth": [
           {
            "colorbar": {
             "outlinewidth": 0,
             "ticks": ""
            },
            "type": "choropleth"
           }
          ],
          "contour": [
           {
            "colorbar": {
             "outlinewidth": 0,
             "ticks": ""
            },
            "colorscale": [
             [
              0,
              "#0d0887"
             ],
             [
              0.1111111111111111,
              "#46039f"
             ],
             [
              0.2222222222222222,
              "#7201a8"
             ],
             [
              0.3333333333333333,
              "#9c179e"
             ],
             [
              0.4444444444444444,
              "#bd3786"
             ],
             [
              0.5555555555555556,
              "#d8576b"
             ],
             [
              0.6666666666666666,
              "#ed7953"
             ],
             [
              0.7777777777777778,
              "#fb9f3a"
             ],
             [
              0.8888888888888888,
              "#fdca26"
             ],
             [
              1,
              "#f0f921"
             ]
            ],
            "type": "contour"
           }
          ],
          "contourcarpet": [
           {
            "colorbar": {
             "outlinewidth": 0,
             "ticks": ""
            },
            "type": "contourcarpet"
           }
          ],
          "heatmap": [
           {
            "colorbar": {
             "outlinewidth": 0,
             "ticks": ""
            },
            "colorscale": [
             [
              0,
              "#0d0887"
             ],
             [
              0.1111111111111111,
              "#46039f"
             ],
             [
              0.2222222222222222,
              "#7201a8"
             ],
             [
              0.3333333333333333,
              "#9c179e"
             ],
             [
              0.4444444444444444,
              "#bd3786"
             ],
             [
              0.5555555555555556,
              "#d8576b"
             ],
             [
              0.6666666666666666,
              "#ed7953"
             ],
             [
              0.7777777777777778,
              "#fb9f3a"
             ],
             [
              0.8888888888888888,
              "#fdca26"
             ],
             [
              1,
              "#f0f921"
             ]
            ],
            "type": "heatmap"
           }
          ],
          "heatmapgl": [
           {
            "colorbar": {
             "outlinewidth": 0,
             "ticks": ""
            },
            "colorscale": [
             [
              0,
              "#0d0887"
             ],
             [
              0.1111111111111111,
              "#46039f"
             ],
             [
              0.2222222222222222,
              "#7201a8"
             ],
             [
              0.3333333333333333,
              "#9c179e"
             ],
             [
              0.4444444444444444,
              "#bd3786"
             ],
             [
              0.5555555555555556,
              "#d8576b"
             ],
             [
              0.6666666666666666,
              "#ed7953"
             ],
             [
              0.7777777777777778,
              "#fb9f3a"
             ],
             [
              0.8888888888888888,
              "#fdca26"
             ],
             [
              1,
              "#f0f921"
             ]
            ],
            "type": "heatmapgl"
           }
          ],
          "histogram": [
           {
            "marker": {
             "pattern": {
              "fillmode": "overlay",
              "size": 10,
              "solidity": 0.2
             }
            },
            "type": "histogram"
           }
          ],
          "histogram2d": [
           {
            "colorbar": {
             "outlinewidth": 0,
             "ticks": ""
            },
            "colorscale": [
             [
              0,
              "#0d0887"
             ],
             [
              0.1111111111111111,
              "#46039f"
             ],
             [
              0.2222222222222222,
              "#7201a8"
             ],
             [
              0.3333333333333333,
              "#9c179e"
             ],
             [
              0.4444444444444444,
              "#bd3786"
             ],
             [
              0.5555555555555556,
              "#d8576b"
             ],
             [
              0.6666666666666666,
              "#ed7953"
             ],
             [
              0.7777777777777778,
              "#fb9f3a"
             ],
             [
              0.8888888888888888,
              "#fdca26"
             ],
             [
              1,
              "#f0f921"
             ]
            ],
            "type": "histogram2d"
           }
          ],
          "histogram2dcontour": [
           {
            "colorbar": {
             "outlinewidth": 0,
             "ticks": ""
            },
            "colorscale": [
             [
              0,
              "#0d0887"
             ],
             [
              0.1111111111111111,
              "#46039f"
             ],
             [
              0.2222222222222222,
              "#7201a8"
             ],
             [
              0.3333333333333333,
              "#9c179e"
             ],
             [
              0.4444444444444444,
              "#bd3786"
             ],
             [
              0.5555555555555556,
              "#d8576b"
             ],
             [
              0.6666666666666666,
              "#ed7953"
             ],
             [
              0.7777777777777778,
              "#fb9f3a"
             ],
             [
              0.8888888888888888,
              "#fdca26"
             ],
             [
              1,
              "#f0f921"
             ]
            ],
            "type": "histogram2dcontour"
           }
          ],
          "mesh3d": [
           {
            "colorbar": {
             "outlinewidth": 0,
             "ticks": ""
            },
            "type": "mesh3d"
           }
          ],
          "parcoords": [
           {
            "line": {
             "colorbar": {
              "outlinewidth": 0,
              "ticks": ""
             }
            },
            "type": "parcoords"
           }
          ],
          "pie": [
           {
            "automargin": true,
            "type": "pie"
           }
          ],
          "scatter": [
           {
            "marker": {
             "colorbar": {
              "outlinewidth": 0,
              "ticks": ""
             }
            },
            "type": "scatter"
           }
          ],
          "scatter3d": [
           {
            "line": {
             "colorbar": {
              "outlinewidth": 0,
              "ticks": ""
             }
            },
            "marker": {
             "colorbar": {
              "outlinewidth": 0,
              "ticks": ""
             }
            },
            "type": "scatter3d"
           }
          ],
          "scattercarpet": [
           {
            "marker": {
             "colorbar": {
              "outlinewidth": 0,
              "ticks": ""
             }
            },
            "type": "scattercarpet"
           }
          ],
          "scattergeo": [
           {
            "marker": {
             "colorbar": {
              "outlinewidth": 0,
              "ticks": ""
             }
            },
            "type": "scattergeo"
           }
          ],
          "scattergl": [
           {
            "marker": {
             "colorbar": {
              "outlinewidth": 0,
              "ticks": ""
             }
            },
            "type": "scattergl"
           }
          ],
          "scattermapbox": [
           {
            "marker": {
             "colorbar": {
              "outlinewidth": 0,
              "ticks": ""
             }
            },
            "type": "scattermapbox"
           }
          ],
          "scatterpolar": [
           {
            "marker": {
             "colorbar": {
              "outlinewidth": 0,
              "ticks": ""
             }
            },
            "type": "scatterpolar"
           }
          ],
          "scatterpolargl": [
           {
            "marker": {
             "colorbar": {
              "outlinewidth": 0,
              "ticks": ""
             }
            },
            "type": "scatterpolargl"
           }
          ],
          "scatterternary": [
           {
            "marker": {
             "colorbar": {
              "outlinewidth": 0,
              "ticks": ""
             }
            },
            "type": "scatterternary"
           }
          ],
          "surface": [
           {
            "colorbar": {
             "outlinewidth": 0,
             "ticks": ""
            },
            "colorscale": [
             [
              0,
              "#0d0887"
             ],
             [
              0.1111111111111111,
              "#46039f"
             ],
             [
              0.2222222222222222,
              "#7201a8"
             ],
             [
              0.3333333333333333,
              "#9c179e"
             ],
             [
              0.4444444444444444,
              "#bd3786"
             ],
             [
              0.5555555555555556,
              "#d8576b"
             ],
             [
              0.6666666666666666,
              "#ed7953"
             ],
             [
              0.7777777777777778,
              "#fb9f3a"
             ],
             [
              0.8888888888888888,
              "#fdca26"
             ],
             [
              1,
              "#f0f921"
             ]
            ],
            "type": "surface"
           }
          ],
          "table": [
           {
            "cells": {
             "fill": {
              "color": "#EBF0F8"
             },
             "line": {
              "color": "white"
             }
            },
            "header": {
             "fill": {
              "color": "#C8D4E3"
             },
             "line": {
              "color": "white"
             }
            },
            "type": "table"
           }
          ]
         },
         "layout": {
          "annotationdefaults": {
           "arrowcolor": "#2a3f5f",
           "arrowhead": 0,
           "arrowwidth": 1
          },
          "autotypenumbers": "strict",
          "coloraxis": {
           "colorbar": {
            "outlinewidth": 0,
            "ticks": ""
           }
          },
          "colorscale": {
           "diverging": [
            [
             0,
             "#8e0152"
            ],
            [
             0.1,
             "#c51b7d"
            ],
            [
             0.2,
             "#de77ae"
            ],
            [
             0.3,
             "#f1b6da"
            ],
            [
             0.4,
             "#fde0ef"
            ],
            [
             0.5,
             "#f7f7f7"
            ],
            [
             0.6,
             "#e6f5d0"
            ],
            [
             0.7,
             "#b8e186"
            ],
            [
             0.8,
             "#7fbc41"
            ],
            [
             0.9,
             "#4d9221"
            ],
            [
             1,
             "#276419"
            ]
           ],
           "sequential": [
            [
             0,
             "#0d0887"
            ],
            [
             0.1111111111111111,
             "#46039f"
            ],
            [
             0.2222222222222222,
             "#7201a8"
            ],
            [
             0.3333333333333333,
             "#9c179e"
            ],
            [
             0.4444444444444444,
             "#bd3786"
            ],
            [
             0.5555555555555556,
             "#d8576b"
            ],
            [
             0.6666666666666666,
             "#ed7953"
            ],
            [
             0.7777777777777778,
             "#fb9f3a"
            ],
            [
             0.8888888888888888,
             "#fdca26"
            ],
            [
             1,
             "#f0f921"
            ]
           ],
           "sequentialminus": [
            [
             0,
             "#0d0887"
            ],
            [
             0.1111111111111111,
             "#46039f"
            ],
            [
             0.2222222222222222,
             "#7201a8"
            ],
            [
             0.3333333333333333,
             "#9c179e"
            ],
            [
             0.4444444444444444,
             "#bd3786"
            ],
            [
             0.5555555555555556,
             "#d8576b"
            ],
            [
             0.6666666666666666,
             "#ed7953"
            ],
            [
             0.7777777777777778,
             "#fb9f3a"
            ],
            [
             0.8888888888888888,
             "#fdca26"
            ],
            [
             1,
             "#f0f921"
            ]
           ]
          },
          "colorway": [
           "#636efa",
           "#EF553B",
           "#00cc96",
           "#ab63fa",
           "#FFA15A",
           "#19d3f3",
           "#FF6692",
           "#B6E880",
           "#FF97FF",
           "#FECB52"
          ],
          "font": {
           "color": "#2a3f5f"
          },
          "geo": {
           "bgcolor": "white",
           "lakecolor": "white",
           "landcolor": "#E5ECF6",
           "showlakes": true,
           "showland": true,
           "subunitcolor": "white"
          },
          "hoverlabel": {
           "align": "left"
          },
          "hovermode": "closest",
          "mapbox": {
           "style": "light"
          },
          "paper_bgcolor": "white",
          "plot_bgcolor": "#E5ECF6",
          "polar": {
           "angularaxis": {
            "gridcolor": "white",
            "linecolor": "white",
            "ticks": ""
           },
           "bgcolor": "#E5ECF6",
           "radialaxis": {
            "gridcolor": "white",
            "linecolor": "white",
            "ticks": ""
           }
          },
          "scene": {
           "xaxis": {
            "backgroundcolor": "#E5ECF6",
            "gridcolor": "white",
            "gridwidth": 2,
            "linecolor": "white",
            "showbackground": true,
            "ticks": "",
            "zerolinecolor": "white"
           },
           "yaxis": {
            "backgroundcolor": "#E5ECF6",
            "gridcolor": "white",
            "gridwidth": 2,
            "linecolor": "white",
            "showbackground": true,
            "ticks": "",
            "zerolinecolor": "white"
           },
           "zaxis": {
            "backgroundcolor": "#E5ECF6",
            "gridcolor": "white",
            "gridwidth": 2,
            "linecolor": "white",
            "showbackground": true,
            "ticks": "",
            "zerolinecolor": "white"
           }
          },
          "shapedefaults": {
           "line": {
            "color": "#2a3f5f"
           }
          },
          "ternary": {
           "aaxis": {
            "gridcolor": "white",
            "linecolor": "white",
            "ticks": ""
           },
           "baxis": {
            "gridcolor": "white",
            "linecolor": "white",
            "ticks": ""
           },
           "bgcolor": "#E5ECF6",
           "caxis": {
            "gridcolor": "white",
            "linecolor": "white",
            "ticks": ""
           }
          },
          "title": {
           "x": 0.05
          },
          "xaxis": {
           "automargin": true,
           "gridcolor": "white",
           "linecolor": "white",
           "ticks": "",
           "title": {
            "standoff": 15
           },
           "zerolinecolor": "white",
           "zerolinewidth": 2
          },
          "yaxis": {
           "automargin": true,
           "gridcolor": "white",
           "linecolor": "white",
           "ticks": "",
           "title": {
            "standoff": 15
           },
           "zerolinecolor": "white",
           "zerolinewidth": 2
          }
         }
        },
        "title": {
         "text": "Histogram of Year Cultured information for assemblies with Plasmids"
        },
        "xaxis": {
         "anchor": "y",
         "autorange": true,
         "domain": [
          0,
          1
         ],
         "range": [
          1905.8157894736842,
          2009.5
         ],
         "title": {
          "text": "Year Cultured"
         },
         "type": "linear"
        },
        "xaxis2": {
         "anchor": "y2",
         "autorange": true,
         "domain": [
          0,
          1
         ],
         "matches": "x",
         "range": [
          1905.8157894736842,
          2009.5
         ],
         "showgrid": true,
         "showticklabels": false,
         "type": "linear"
        },
        "yaxis": {
         "anchor": "x",
         "autorange": true,
         "domain": [
          0,
          0.8316
         ],
         "range": [
          0,
          25.263157894736842
         ],
         "title": {
          "text": "count"
         }
        },
        "yaxis2": {
         "anchor": "x2",
         "autorange": true,
         "domain": [
          0.8416,
          1
         ],
         "matches": "y2",
         "range": [
          -0.6175917215428034,
          0.5
         ],
         "showgrid": false,
         "showline": false,
         "showticklabels": false,
         "ticks": "",
         "type": "category"
        }
       }
      },
      "image/png": "[encoded data removed]",
      "text/html": [
       "<div>                            <div id=\"933bb456-43a4-42de-aa05-0e13e373b756\" class=\"plotly-graph-div\" style=\"height:525px; width:100%;\"></div>            <script type=\"text/javascript\">                require([\"plotly\"], function(Plotly) {                    window.PLOTLYENV=window.PLOTLYENV || {};                                    if (document.getElementById(\"933bb456-43a4-42de-aa05-0e13e373b756\")) {                    Plotly.newPlot(                        \"933bb456-43a4-42de-aa05-0e13e373b756\",                        [{\"alignmentgroup\":\"True\",\"bingroup\":\"x\",\"hovertemplate\":\"Year Cultured=%{x}<br>count=%{y}<extra></extra>\",\"legendgroup\":\"\",\"marker\":{\"color\":\"#636efa\",\"pattern\":{\"shape\":\"\"}},\"name\":\"\",\"offsetgroup\":\"\",\"orientation\":\"v\",\"showlegend\":false,\"type\":\"histogram\",\"x\":[1911,1920,1947,1983,1950,1955,1955,1955,1954,1955,1955,1955,1955,1955,1955,1955,1955,1946,1956,1954,1957,1958,1964,1956,1967,1957,1955,1970,1968,1936,1972,1951,1968,1971,1976,1949,1977,1973,1981,1962,1952,1964,1951,1957,1991,2003],\"xaxis\":\"x\",\"yaxis\":\"y\"},{\"alignmentgroup\":\"True\",\"boxpoints\":\"all\",\"fillcolor\":\"rgba(255,255,255,0)\",\"hoveron\":\"points\",\"hovertemplate\":\"Year Cultured=%{x}<extra></extra>\",\"jitter\":0,\"legendgroup\":\"\",\"line\":{\"color\":\"rgba(255,255,255,0)\"},\"marker\":{\"color\":\"#636efa\",\"symbol\":\"line-ns-open\"},\"name\":\"\",\"offsetgroup\":\"\",\"showlegend\":false,\"type\":\"box\",\"x\":[1911,1920,1947,1983,1950,1955,1955,1955,1954,1955,1955,1955,1955,1955,1955,1955,1955,1946,1956,1954,1957,1958,1964,1956,1967,1957,1955,1970,1968,1936,1972,1951,1968,1971,1976,1949,1977,1973,1981,1962,1952,1964,1951,1957,1991,2003],\"xaxis\":\"x2\",\"yaxis\":\"y2\"}],                        {\"barmode\":\"relative\",\"legend\":{\"tracegroupgap\":0},\"template\":{\"data\":{\"bar\":[{\"error_x\":{\"color\":\"#2a3f5f\"},\"error_y\":{\"color\":\"#2a3f5f\"},\"marker\":{\"line\":{\"color\":\"#E5ECF6\",\"width\":0.5},\"pattern\":{\"fillmode\":\"overlay\",\"size\":10,\"solidity\":0.2}},\"type\":\"bar\"}],\"barpolar\":[{\"marker\":{\"line\":{\"color\":\"#E5ECF6\",\"width\":0.5},\"pattern\":{\"fillmode\":\"overlay\",\"size\":10,\"solidity\":0.2}},\"type\":\"barpolar\"}],\"carpet\":[{\"aaxis\":{\"endlinecolor\":\"#2a3f5f\",\"gridcolor\":\"white\",\"linecolor\":\"white\",\"minorgridcolor\":\"white\",\"startlinecolor\":\"#2a3f5f\"},\"baxis\":{\"endlinecolor\":\"#2a3f5f\",\"gridcolor\":\"white\",\"linecolor\":\"white\",\"minorgridcolor\":\"white\",\"startlinecolor\":\"#2a3f5f\"},\"type\":\"carpet\"}],\"choropleth\":[{\"colorbar\":{\"outlinewidth\":0,\"ticks\":\"\"},\"type\":\"choropleth\"}],\"contour\":[{\"colorbar\":{\"outlinewidth\":0,\"ticks\":\"\"},\"colorscale\":[[0.0,\"#0d0887\"],[0.1111111111111111,\"#46039f\"],[0.2222222222222222,\"#7201a8\"],[0.3333333333333333,\"#9c179e\"],[0.4444444444444444,\"#bd3786\"],[0.5555555555555556,\"#d8576b\"],[0.6666666666666666,\"#ed7953\"],[0.7777777777777778,\"#fb9f3a\"],[0.8888888888888888,\"#fdca26\"],[1.0,\"#f0f921\"]],\"type\":\"contour\"}],\"contourcarpet\":[{\"colorbar\":{\"outlinewidth\":0,\"ticks\":\"\"},\"type\":\"contourcarpet\"}],\"heatmap\":[{\"colorbar\":{\"outlinewidth\":0,\"ticks\":\"\"},\"colorscale\":[[0.0,\"#0d0887\"],[0.1111111111111111,\"#46039f\"],[0.2222222222222222,\"#7201a8\"],[0.3333333333333333,\"#9c179e\"],[0.4444444444444444,\"#bd3786\"],[0.5555555555555556,\"#d8576b\"],[0.6666666666666666,\"#ed7953\"],[0.7777777777777778,\"#fb9f3a\"],[0.8888888888888888,\"#fdca26\"],[1.0,\"#f0f921\"]],\"type\":\"heatmap\"}],\"heatmapgl\":[{\"colorbar\":{\"outlinewidth\":0,\"ticks\":\"\"},\"colorscale\":[[0.0,\"#0d0887\"],[0.1111111111111111,\"#46039f\"],[0.2222222222222222,\"#7201a8\"],[0.3333333333333333,\"#9c179e\"],[0.4444444444444444,\"#bd3786\"],[0.5555555555555556,\"#d8576b\"],[0.6666666666666666,\"#ed7953\"],[0.7777777777777778,\"#fb9f3a\"],[0.8888888888888888,\"#fdca26\"],[1.0,\"#f0f921\"]],\"type\":\"heatmapgl\"}],\"histogram\":[{\"marker\":{\"pattern\":{\"fillmode\":\"overlay\",\"size\":10,\"solidity\":0.2}},\"type\":\"histogram\"}],\"histogram2d\":[{\"colorbar\":{\"outlinewidth\":0,\"ticks\":\"\"},\"colorscale\":[[0.0,\"#0d0887\"],[0.1111111111111111,\"#46039f\"],[0.2222222222222222,\"#7201a8\"],[0.3333333333333333,\"#9c179e\"],[0.4444444444444444,\"#bd3786\"],[0.5555555555555556,\"#d8576b\"],[0.6666666666666666,\"#ed7953\"],[0.7777777777777778,\"#fb9f3a\"],[0.8888888888888888,\"#fdca26\"],[1.0,\"#f0f921\"]],\"type\":\"histogram2d\"}],\"histogram2dcontour\":[{\"colorbar\":{\"outlinewidth\":0,\"ticks\":\"\"},\"colorscale\":[[0.0,\"#0d0887\"],[0.1111111111111111,\"#46039f\"],[0.2222222222222222,\"#7201a8\"],[0.3333333333333333,\"#9c179e\"],[0.4444444444444444,\"#bd3786\"],[0.5555555555555556,\"#d8576b\"],[0.6666666666666666,\"#ed7953\"],[0.7777777777777778,\"#fb9f3a\"],[0.8888888888888888,\"#fdca26\"],[1.0,\"#f0f921\"]],\"type\":\"histogram2dcontour\"}],\"mesh3d\":[{\"colorbar\":{\"outlinewidth\":0,\"ticks\":\"\"},\"type\":\"mesh3d\"}],\"parcoords\":[{\"line\":{\"colorbar\":{\"outlinewidth\":0,\"ticks\":\"\"}},\"type\":\"parcoords\"}],\"pie\":[{\"automargin\":true,\"type\":\"pie\"}],\"scatter\":[{\"marker\":{\"colorbar\":{\"outlinewidth\":0,\"ticks\":\"\"}},\"type\":\"scatter\"}],\"scatter3d\":[{\"line\":{\"colorbar\":{\"outlinewidth\":0,\"ticks\":\"\"}},\"marker\":{\"colorbar\":{\"outlinewidth\":0,\"ticks\":\"\"}},\"type\":\"scatter3d\"}],\"scattercarpet\":[{\"marker\":{\"colorbar\":{\"outlinewidth\":0,\"ticks\":\"\"}},\"type\":\"scattercarpet\"}],\"scattergeo\":[{\"marker\":{\"colorbar\":{\"outlinewidth\":0,\"ticks\":\"\"}},\"type\":\"scattergeo\"}],\"scattergl\":[{\"marker\":{\"colorbar\":{\"outlinewidth\":0,\"ticks\":\"\"}},\"type\":\"scattergl\"}],\"scattermapbox\":[{\"marker\":{\"colorbar\":{\"outlinewidth\":0,\"ticks\":\"\"}},\"type\":\"scattermapbox\"}],\"scatterpolar\":[{\"marker\":{\"colorbar\":{\"outlinewidth\":0,\"ticks\":\"\"}},\"type\":\"scatterpolar\"}],\"scatterpolargl\":[{\"marker\":{\"colorbar\":{\"outlinewidth\":0,\"ticks\":\"\"}},\"type\":\"scatterpolargl\"}],\"scatterternary\":[{\"marker\":{\"colorbar\":{\"outlinewidth\":0,\"ticks\":\"\"}},\"type\":\"scatterternary\"}],\"surface\":[{\"colorbar\":{\"outlinewidth\":0,\"ticks\":\"\"},\"colorscale\":[[0.0,\"#0d0887\"],[0.1111111111111111,\"#46039f\"],[0.2222222222222222,\"#7201a8\"],[0.3333333333333333,\"#9c179e\"],[0.4444444444444444,\"#bd3786\"],[0.5555555555555556,\"#d8576b\"],[0.6666666666666666,\"#ed7953\"],[0.7777777777777778,\"#fb9f3a\"],[0.8888888888888888,\"#fdca26\"],[1.0,\"#f0f921\"]],\"type\":\"surface\"}],\"table\":[{\"cells\":{\"fill\":{\"color\":\"#EBF0F8\"},\"line\":{\"color\":\"white\"}},\"header\":{\"fill\":{\"color\":\"#C8D4E3\"},\"line\":{\"color\":\"white\"}},\"type\":\"table\"}]},\"layout\":{\"annotationdefaults\":{\"arrowcolor\":\"#2a3f5f\",\"arrowhead\":0,\"arrowwidth\":1},\"autotypenumbers\":\"strict\",\"coloraxis\":{\"colorbar\":{\"outlinewidth\":0,\"ticks\":\"\"}},\"colorscale\":{\"diverging\":[[0,\"#8e0152\"],[0.1,\"#c51b7d\"],[0.2,\"#de77ae\"],[0.3,\"#f1b6da\"],[0.4,\"#fde0ef\"],[0.5,\"#f7f7f7\"],[0.6,\"#e6f5d0\"],[0.7,\"#b8e186\"],[0.8,\"#7fbc41\"],[0.9,\"#4d9221\"],[1,\"#276419\"]],\"sequential\":[[0.0,\"#0d0887\"],[0.1111111111111111,\"#46039f\"],[0.2222222222222222,\"#7201a8\"],[0.3333333333333333,\"#9c179e\"],[0.4444444444444444,\"#bd3786\"],[0.5555555555555556,\"#d8576b\"],[0.6666666666666666,\"#ed7953\"],[0.7777777777777778,\"#fb9f3a\"],[0.8888888888888888,\"#fdca26\"],[1.0,\"#f0f921\"]],\"sequentialminus\":[[0.0,\"#0d0887\"],[0.1111111111111111,\"#46039f\"],[0.2222222222222222,\"#7201a8\"],[0.3333333333333333,\"#9c179e\"],[0.4444444444444444,\"#bd3786\"],[0.5555555555555556,\"#d8576b\"],[0.6666666666666666,\"#ed7953\"],[0.7777777777777778,\"#fb9f3a\"],[0.8888888888888888,\"#fdca26\"],[1.0,\"#f0f921\"]]},\"colorway\":[\"#636efa\",\"#EF553B\",\"#00cc96\",\"#ab63fa\",\"#FFA15A\",\"#19d3f3\",\"#FF6692\",\"#B6E880\",\"#FF97FF\",\"#FECB52\"],\"font\":{\"color\":\"#2a3f5f\"},\"geo\":{\"bgcolor\":\"white\",\"lakecolor\":\"white\",\"landcolor\":\"#E5ECF6\",\"showlakes\":true,\"showland\":true,\"subunitcolor\":\"white\"},\"hoverlabel\":{\"align\":\"left\"},\"hovermode\":\"closest\",\"mapbox\":{\"style\":\"light\"},\"paper_bgcolor\":\"white\",\"plot_bgcolor\":\"#E5ECF6\",\"polar\":{\"angularaxis\":{\"gridcolor\":\"white\",\"linecolor\":\"white\",\"ticks\":\"\"},\"bgcolor\":\"#E5ECF6\",\"radialaxis\":{\"gridcolor\":\"white\",\"linecolor\":\"white\",\"ticks\":\"\"}},\"scene\":{\"xaxis\":{\"backgroundcolor\":\"#E5ECF6\",\"gridcolor\":\"white\",\"gridwidth\":2,\"linecolor\":\"white\",\"showbackground\":true,\"ticks\":\"\",\"zerolinecolor\":\"white\"},\"yaxis\":{\"backgroundcolor\":\"#E5ECF6\",\"gridcolor\":\"white\",\"gridwidth\":2,\"linecolor\":\"white\",\"showbackground\":true,\"ticks\":\"\",\"zerolinecolor\":\"white\"},\"zaxis\":{\"backgroundcolor\":\"#E5ECF6\",\"gridcolor\":\"white\",\"gridwidth\":2,\"linecolor\":\"white\",\"showbackground\":true,\"ticks\":\"\",\"zerolinecolor\":\"white\"}},\"shapedefaults\":{\"line\":{\"color\":\"#2a3f5f\"}},\"ternary\":{\"aaxis\":{\"gridcolor\":\"white\",\"linecolor\":\"white\",\"ticks\":\"\"},\"baxis\":{\"gridcolor\":\"white\",\"linecolor\":\"white\",\"ticks\":\"\"},\"bgcolor\":\"#E5ECF6\",\"caxis\":{\"gridcolor\":\"white\",\"linecolor\":\"white\",\"ticks\":\"\"}},\"title\":{\"x\":0.05},\"xaxis\":{\"automargin\":true,\"gridcolor\":\"white\",\"linecolor\":\"white\",\"ticks\":\"\",\"title\":{\"standoff\":15},\"zerolinecolor\":\"white\",\"zerolinewidth\":2},\"yaxis\":{\"automargin\":true,\"gridcolor\":\"white\",\"linecolor\":\"white\",\"ticks\":\"\",\"title\":{\"standoff\":15},\"zerolinecolor\":\"white\",\"zerolinewidth\":2}}},\"title\":{\"text\":\"Histogram of Year Cultured information for assemblies with Plasmids\"},\"xaxis\":{\"anchor\":\"y\",\"domain\":[0.0,1.0],\"title\":{\"text\":\"Year Cultured\"}},\"xaxis2\":{\"anchor\":\"y2\",\"domain\":[0.0,1.0],\"matches\":\"x\",\"showgrid\":true,\"showticklabels\":false},\"yaxis\":{\"anchor\":\"x\",\"domain\":[0.0,0.8316],\"title\":{\"text\":\"count\"}},\"yaxis2\":{\"anchor\":\"x2\",\"domain\":[0.8416,1.0],\"matches\":\"y2\",\"showgrid\":false,\"showline\":false,\"showticklabels\":false,\"ticks\":\"\"}},                        {\"responsive\": true}                    ).then(function(){\n",
       "                            \n",
       "var gd = document.getElementById('933bb456-43a4-42de-aa05-0e13e373b756');\n",
       "var x = new MutationObserver(function (mutations, observer) {{\n",
       "        var display = window.getComputedStyle(gd).display;\n",
       "        if (!display || display === 'none') {{\n",
       "            console.log([gd, 'removed!']);\n",
       "            Plotly.purge(gd);\n",
       "            observer.disconnect();\n",
       "        }}\n",
       "}});\n",
       "\n",
       "// Listen for the removal of the full notebook cells\n",
       "var notebookContainer = gd.closest('#notebook-container');\n",
       "if (notebookContainer) {{\n",
       "    x.observe(notebookContainer, {childList: true});\n",
       "}}\n",
       "\n",
       "// Listen for the clearing of the current output cell\n",
       "var outputEl = gd.closest('.output');\n",
       "if (outputEl) {{\n",
       "    x.observe(outputEl, {childList: true});\n",
       "}}\n",
       "\n",
       "                        })                };                });            </script>        </div>"
      ]
     },
     "metadata": {},
     "output_type": "display_data"
    }
   ],
   "source": [
    "# histogram of years for bugs w/ plasmids\n",
    "px.histogram(\n",
    "    df.loc[df['Location'].str.contains(\"Plasmid\")].drop_duplicates(subset=['Accession_Number']),\n",
    "    x=\"Year_Cultured\",\n",
    "    labels={'Year_Cultured':'Year Cultured'}, \n",
    "    title=\"Histogram of Year Cultured information for assemblies with Plasmids\",\n",
    "    marginal=\"rug\"\n",
    ")"
   ]
  },
  {
   "cell_type": "code",
   "execution_count": 16,
   "id": "d84d3e07-7d1a-4682-a116-670d4cdfc91c",
   "metadata": {},
   "outputs": [
    {
     "data": {
      "application/vnd.plotly.v1+json": {
       "config": {
        "plotlyServerURL": "https://plot.ly"
       },
       "data": [
        {
         "alignmentgroup": "True",
         "boxpoints": "all",
         "customdata": [
          [
           "NCTC12735",
           "Legionella adelaidensis",
           1991
          ],
          [
           "NCTC10006",
           "Klebsiella aerogenes",
           1958
          ],
          [
           "NCTC10142",
           "Mycoplasma cynos",
           1972
          ],
          [
           "NCTC10117",
           "Mycoplasma fermentans",
           1956
          ],
          [
           "NCTC10146",
           "Mycoplasma canis",
           1951
          ],
          [
           "NCTC10147",
           "Mycoplasma conjunctivae",
           1968
          ],
          [
           "NCTC10384",
           "Salmonella enterica ",
           1964
          ],
          [
           "NCTC7974",
           "Listeria monocytogenes",
           1983
          ],
          [
           "NCTC10127",
           "Mycoplasma hyopneumoniae",
           1970
          ],
          [
           "NCTC9644",
           "Klebsiella pneumoniae",
           1955
          ],
          [
           "NCTC9793",
           "Klebsiella pneumoniae",
           1946
          ],
          [
           "NCTC10151",
           "Mycoplasma ovipneumoniae",
           1971
          ],
          [
           "NCTC10112",
           "Mycoplasma orale",
           1964
          ],
          [
           "NCTC11134",
           "Nocardia farcinica",
           1957
          ],
          [
           "NCTC9691",
           "Clostridium novyi",
           1955
          ],
          [
           "NCTC8155",
           "Cronobacter sakazakii",
           1950
          ],
          [
           "NCTC10166",
           "Mycoplasma neurolyticum",
           1976
          ],
          [
           "NCTC10186",
           "Mycoplasma gallopavonis",
           1981
          ],
          [
           "NCTC418",
           "Klebsiella pneumoniae",
           1911
          ],
          [
           "NCTC13435",
           "Staphylococcus aureus",
           2003
          ],
          [
           "NCTC10129",
           "Mycoplasma arginini",
           1968
          ],
          [
           "NCTC10317",
           "Klebsiella pneumoniae",
           1962
          ],
          [
           "NCTC10121",
           "Mycoplasma hyorhinis",
           1955
          ],
          [
           "NCTC10354",
           "Campylobacter fetus ",
           1952
          ],
          [
           "NCTC9877",
           "Salmonella enterica ",
           1954
          ],
          [
           "NCTC9850",
           "Shigella boydii",
           1956
          ],
          [
           "NCTC10119",
           "Mycoplasma pneumoniae",
           1957
          ],
          [
           "NCTC9734",
           "Shigella boydii",
           1955
          ],
          [
           "NCTC9733",
           "Shigella boydii",
           1955
          ],
          [
           "NCTC9728",
           "Shigella flexneri",
           1955
          ],
          [
           "NCTC9718",
           "Shigella dysenteriae",
           1955
          ],
          [
           "NCTC9693",
           "Clostridium haemolyticum",
           1955
          ],
          [
           "NCTC9667",
           "Klebsiella pneumoniae",
           1955
          ],
          [
           "NCTC9529",
           "Cronobacter universalis",
           1954
          ],
          [
           "NCTC10562",
           "Fusobacterium nucleatum ",
           1951
          ],
          [
           "NCTC9362",
           "Shigella boydii",
           1955
          ],
          [
           "NCTC9353",
           "Shigella boydii",
           1955
          ],
          [
           "NCTC9343",
           "Bacteroides fragilis",
           1955
          ],
          [
           "NCTC10139",
           "Mycoplasma pulmonis",
           1936
          ],
          [
           "NCTC10168",
           "Mycoplasma maculosum",
           1949
          ],
          [
           "NCTC7364",
           "Acinetobacter baumannii",
           1947
          ],
          [
           "NCTC538",
           "Clostridium novyi",
           1920
          ],
          [
           "NCTC10172",
           "Acholeplasma hippikon",
           1977
          ],
          [
           "NCTC10118",
           "Mycoplasma bovirhinis",
           1967
          ],
          [
           "NCTC10179",
           "Mycoplasma columborale",
           1973
          ],
          [
           "NCTC9997",
           "Klebsiella aerogenes",
           1957
          ]
         ],
         "fillcolor": "rgba(255,255,255,0)",
         "hoveron": "points",
         "hovertemplate": "Number of plasmids w/in assembly=%{x}<br>Accession_Number=%{customdata[0]}<br>Species=%{customdata[1]}<br>Year_Cultured=%{customdata[2]}<extra></extra>",
         "legendgroup": "",
         "line": {
          "color": "rgba(255,255,255,0)"
         },
         "marker": {
          "color": "#636efa"
         },
         "name": "",
         "offsetgroup": "",
         "orientation": "h",
         "pointpos": 0,
         "showlegend": false,
         "type": "box",
         "x": [
          28,
          19,
          17,
          13,
          11,
          10,
          7,
          6,
          4,
          4,
          4,
          4,
          4,
          4,
          3,
          3,
          3,
          3,
          2,
          2,
          2,
          2,
          2,
          1,
          1,
          1,
          1,
          1,
          1,
          1,
          1,
          1,
          1,
          1,
          1,
          1,
          1,
          1,
          1,
          1,
          1,
          1,
          1,
          1,
          1,
          1
         ],
         "x0": " ",
         "xaxis": "x",
         "y0": " ",
         "yaxis": "y"
        }
       ],
       "layout": {
        "autosize": true,
        "boxmode": "group",
        "dragmode": "pan",
        "legend": {
         "tracegroupgap": 0
        },
        "template": {
         "data": {
          "bar": [
           {
            "error_x": {
             "color": "#2a3f5f"
            },
            "error_y": {
             "color": "#2a3f5f"
            },
            "marker": {
             "line": {
              "color": "#E5ECF6",
              "width": 0.5
             },
             "pattern": {
              "fillmode": "overlay",
              "size": 10,
              "solidity": 0.2
             }
            },
            "type": "bar"
           }
          ],
          "barpolar": [
           {
            "marker": {
             "line": {
              "color": "#E5ECF6",
              "width": 0.5
             },
             "pattern": {
              "fillmode": "overlay",
              "size": 10,
              "solidity": 0.2
             }
            },
            "type": "barpolar"
           }
          ],
          "carpet": [
           {
            "aaxis": {
             "endlinecolor": "#2a3f5f",
             "gridcolor": "white",
             "linecolor": "white",
             "minorgridcolor": "white",
             "startlinecolor": "#2a3f5f"
            },
            "baxis": {
             "endlinecolor": "#2a3f5f",
             "gridcolor": "white",
             "linecolor": "white",
             "minorgridcolor": "white",
             "startlinecolor": "#2a3f5f"
            },
            "type": "carpet"
           }
          ],
          "choropleth": [
           {
            "colorbar": {
             "outlinewidth": 0,
             "ticks": ""
            },
            "type": "choropleth"
           }
          ],
          "contour": [
           {
            "colorbar": {
             "outlinewidth": 0,
             "ticks": ""
            },
            "colorscale": [
             [
              0,
              "#0d0887"
             ],
             [
              0.1111111111111111,
              "#46039f"
             ],
             [
              0.2222222222222222,
              "#7201a8"
             ],
             [
              0.3333333333333333,
              "#9c179e"
             ],
             [
              0.4444444444444444,
              "#bd3786"
             ],
             [
              0.5555555555555556,
              "#d8576b"
             ],
             [
              0.6666666666666666,
              "#ed7953"
             ],
             [
              0.7777777777777778,
              "#fb9f3a"
             ],
             [
              0.8888888888888888,
              "#fdca26"
             ],
             [
              1,
              "#f0f921"
             ]
            ],
            "type": "contour"
           }
          ],
          "contourcarpet": [
           {
            "colorbar": {
             "outlinewidth": 0,
             "ticks": ""
            },
            "type": "contourcarpet"
           }
          ],
          "heatmap": [
           {
            "colorbar": {
             "outlinewidth": 0,
             "ticks": ""
            },
            "colorscale": [
             [
              0,
              "#0d0887"
             ],
             [
              0.1111111111111111,
              "#46039f"
             ],
             [
              0.2222222222222222,
              "#7201a8"
             ],
             [
              0.3333333333333333,
              "#9c179e"
             ],
             [
              0.4444444444444444,
              "#bd3786"
             ],
             [
              0.5555555555555556,
              "#d8576b"
             ],
             [
              0.6666666666666666,
              "#ed7953"
             ],
             [
              0.7777777777777778,
              "#fb9f3a"
             ],
             [
              0.8888888888888888,
              "#fdca26"
             ],
             [
              1,
              "#f0f921"
             ]
            ],
            "type": "heatmap"
           }
          ],
          "heatmapgl": [
           {
            "colorbar": {
             "outlinewidth": 0,
             "ticks": ""
            },
            "colorscale": [
             [
              0,
              "#0d0887"
             ],
             [
              0.1111111111111111,
              "#46039f"
             ],
             [
              0.2222222222222222,
              "#7201a8"
             ],
             [
              0.3333333333333333,
              "#9c179e"
             ],
             [
              0.4444444444444444,
              "#bd3786"
             ],
             [
              0.5555555555555556,
              "#d8576b"
             ],
             [
              0.6666666666666666,
              "#ed7953"
             ],
             [
              0.7777777777777778,
              "#fb9f3a"
             ],
             [
              0.8888888888888888,
              "#fdca26"
             ],
             [
              1,
              "#f0f921"
             ]
            ],
            "type": "heatmapgl"
           }
          ],
          "histogram": [
           {
            "marker": {
             "pattern": {
              "fillmode": "overlay",
              "size": 10,
              "solidity": 0.2
             }
            },
            "type": "histogram"
           }
          ],
          "histogram2d": [
           {
            "colorbar": {
             "outlinewidth": 0,
             "ticks": ""
            },
            "colorscale": [
             [
              0,
              "#0d0887"
             ],
             [
              0.1111111111111111,
              "#46039f"
             ],
             [
              0.2222222222222222,
              "#7201a8"
             ],
             [
              0.3333333333333333,
              "#9c179e"
             ],
             [
              0.4444444444444444,
              "#bd3786"
             ],
             [
              0.5555555555555556,
              "#d8576b"
             ],
             [
              0.6666666666666666,
              "#ed7953"
             ],
             [
              0.7777777777777778,
              "#fb9f3a"
             ],
             [
              0.8888888888888888,
              "#fdca26"
             ],
             [
              1,
              "#f0f921"
             ]
            ],
            "type": "histogram2d"
           }
          ],
          "histogram2dcontour": [
           {
            "colorbar": {
             "outlinewidth": 0,
             "ticks": ""
            },
            "colorscale": [
             [
              0,
              "#0d0887"
             ],
             [
              0.1111111111111111,
              "#46039f"
             ],
             [
              0.2222222222222222,
              "#7201a8"
             ],
             [
              0.3333333333333333,
              "#9c179e"
             ],
             [
              0.4444444444444444,
              "#bd3786"
             ],
             [
              0.5555555555555556,
              "#d8576b"
             ],
             [
              0.6666666666666666,
              "#ed7953"
             ],
             [
              0.7777777777777778,
              "#fb9f3a"
             ],
             [
              0.8888888888888888,
              "#fdca26"
             ],
             [
              1,
              "#f0f921"
             ]
            ],
            "type": "histogram2dcontour"
           }
          ],
          "mesh3d": [
           {
            "colorbar": {
             "outlinewidth": 0,
             "ticks": ""
            },
            "type": "mesh3d"
           }
          ],
          "parcoords": [
           {
            "line": {
             "colorbar": {
              "outlinewidth": 0,
              "ticks": ""
             }
            },
            "type": "parcoords"
           }
          ],
          "pie": [
           {
            "automargin": true,
            "type": "pie"
           }
          ],
          "scatter": [
           {
            "marker": {
             "colorbar": {
              "outlinewidth": 0,
              "ticks": ""
             }
            },
            "type": "scatter"
           }
          ],
          "scatter3d": [
           {
            "line": {
             "colorbar": {
              "outlinewidth": 0,
              "ticks": ""
             }
            },
            "marker": {
             "colorbar": {
              "outlinewidth": 0,
              "ticks": ""
             }
            },
            "type": "scatter3d"
           }
          ],
          "scattercarpet": [
           {
            "marker": {
             "colorbar": {
              "outlinewidth": 0,
              "ticks": ""
             }
            },
            "type": "scattercarpet"
           }
          ],
          "scattergeo": [
           {
            "marker": {
             "colorbar": {
              "outlinewidth": 0,
              "ticks": ""
             }
            },
            "type": "scattergeo"
           }
          ],
          "scattergl": [
           {
            "marker": {
             "colorbar": {
              "outlinewidth": 0,
              "ticks": ""
             }
            },
            "type": "scattergl"
           }
          ],
          "scattermapbox": [
           {
            "marker": {
             "colorbar": {
              "outlinewidth": 0,
              "ticks": ""
             }
            },
            "type": "scattermapbox"
           }
          ],
          "scatterpolar": [
           {
            "marker": {
             "colorbar": {
              "outlinewidth": 0,
              "ticks": ""
             }
            },
            "type": "scatterpolar"
           }
          ],
          "scatterpolargl": [
           {
            "marker": {
             "colorbar": {
              "outlinewidth": 0,
              "ticks": ""
             }
            },
            "type": "scatterpolargl"
           }
          ],
          "scatterternary": [
           {
            "marker": {
             "colorbar": {
              "outlinewidth": 0,
              "ticks": ""
             }
            },
            "type": "scatterternary"
           }
          ],
          "surface": [
           {
            "colorbar": {
             "outlinewidth": 0,
             "ticks": ""
            },
            "colorscale": [
             [
              0,
              "#0d0887"
             ],
             [
              0.1111111111111111,
              "#46039f"
             ],
             [
              0.2222222222222222,
              "#7201a8"
             ],
             [
              0.3333333333333333,
              "#9c179e"
             ],
             [
              0.4444444444444444,
              "#bd3786"
             ],
             [
              0.5555555555555556,
              "#d8576b"
             ],
             [
              0.6666666666666666,
              "#ed7953"
             ],
             [
              0.7777777777777778,
              "#fb9f3a"
             ],
             [
              0.8888888888888888,
              "#fdca26"
             ],
             [
              1,
              "#f0f921"
             ]
            ],
            "type": "surface"
           }
          ],
          "table": [
           {
            "cells": {
             "fill": {
              "color": "#EBF0F8"
             },
             "line": {
              "color": "white"
             }
            },
            "header": {
             "fill": {
              "color": "#C8D4E3"
             },
             "line": {
              "color": "white"
             }
            },
            "type": "table"
           }
          ]
         },
         "layout": {
          "annotationdefaults": {
           "arrowcolor": "#2a3f5f",
           "arrowhead": 0,
           "arrowwidth": 1
          },
          "autotypenumbers": "strict",
          "coloraxis": {
           "colorbar": {
            "outlinewidth": 0,
            "ticks": ""
           }
          },
          "colorscale": {
           "diverging": [
            [
             0,
             "#8e0152"
            ],
            [
             0.1,
             "#c51b7d"
            ],
            [
             0.2,
             "#de77ae"
            ],
            [
             0.3,
             "#f1b6da"
            ],
            [
             0.4,
             "#fde0ef"
            ],
            [
             0.5,
             "#f7f7f7"
            ],
            [
             0.6,
             "#e6f5d0"
            ],
            [
             0.7,
             "#b8e186"
            ],
            [
             0.8,
             "#7fbc41"
            ],
            [
             0.9,
             "#4d9221"
            ],
            [
             1,
             "#276419"
            ]
           ],
           "sequential": [
            [
             0,
             "#0d0887"
            ],
            [
             0.1111111111111111,
             "#46039f"
            ],
            [
             0.2222222222222222,
             "#7201a8"
            ],
            [
             0.3333333333333333,
             "#9c179e"
            ],
            [
             0.4444444444444444,
             "#bd3786"
            ],
            [
             0.5555555555555556,
             "#d8576b"
            ],
            [
             0.6666666666666666,
             "#ed7953"
            ],
            [
             0.7777777777777778,
             "#fb9f3a"
            ],
            [
             0.8888888888888888,
             "#fdca26"
            ],
            [
             1,
             "#f0f921"
            ]
           ],
           "sequentialminus": [
            [
             0,
             "#0d0887"
            ],
            [
             0.1111111111111111,
             "#46039f"
            ],
            [
             0.2222222222222222,
             "#7201a8"
            ],
            [
             0.3333333333333333,
             "#9c179e"
            ],
            [
             0.4444444444444444,
             "#bd3786"
            ],
            [
             0.5555555555555556,
             "#d8576b"
            ],
            [
             0.6666666666666666,
             "#ed7953"
            ],
            [
             0.7777777777777778,
             "#fb9f3a"
            ],
            [
             0.8888888888888888,
             "#fdca26"
            ],
            [
             1,
             "#f0f921"
            ]
           ]
          },
          "colorway": [
           "#636efa",
           "#EF553B",
           "#00cc96",
           "#ab63fa",
           "#FFA15A",
           "#19d3f3",
           "#FF6692",
           "#B6E880",
           "#FF97FF",
           "#FECB52"
          ],
          "font": {
           "color": "#2a3f5f"
          },
          "geo": {
           "bgcolor": "white",
           "lakecolor": "white",
           "landcolor": "#E5ECF6",
           "showlakes": true,
           "showland": true,
           "subunitcolor": "white"
          },
          "hoverlabel": {
           "align": "left"
          },
          "hovermode": "closest",
          "mapbox": {
           "style": "light"
          },
          "paper_bgcolor": "white",
          "plot_bgcolor": "#E5ECF6",
          "polar": {
           "angularaxis": {
            "gridcolor": "white",
            "linecolor": "white",
            "ticks": ""
           },
           "bgcolor": "#E5ECF6",
           "radialaxis": {
            "gridcolor": "white",
            "linecolor": "white",
            "ticks": ""
           }
          },
          "scene": {
           "xaxis": {
            "backgroundcolor": "#E5ECF6",
            "gridcolor": "white",
            "gridwidth": 2,
            "linecolor": "white",
            "showbackground": true,
            "ticks": "",
            "zerolinecolor": "white"
           },
           "yaxis": {
            "backgroundcolor": "#E5ECF6",
            "gridcolor": "white",
            "gridwidth": 2,
            "linecolor": "white",
            "showbackground": true,
            "ticks": "",
            "zerolinecolor": "white"
           },
           "zaxis": {
            "backgroundcolor": "#E5ECF6",
            "gridcolor": "white",
            "gridwidth": 2,
            "linecolor": "white",
            "showbackground": true,
            "ticks": "",
            "zerolinecolor": "white"
           }
          },
          "shapedefaults": {
           "line": {
            "color": "#2a3f5f"
           }
          },
          "ternary": {
           "aaxis": {
            "gridcolor": "white",
            "linecolor": "white",
            "ticks": ""
           },
           "baxis": {
            "gridcolor": "white",
            "linecolor": "white",
            "ticks": ""
           },
           "bgcolor": "#E5ECF6",
           "caxis": {
            "gridcolor": "white",
            "linecolor": "white",
            "ticks": ""
           }
          },
          "title": {
           "x": 0.05
          },
          "xaxis": {
           "automargin": true,
           "gridcolor": "white",
           "linecolor": "white",
           "ticks": "",
           "title": {
            "standoff": 15
           },
           "zerolinecolor": "white",
           "zerolinewidth": 2
          },
          "yaxis": {
           "automargin": true,
           "gridcolor": "white",
           "linecolor": "white",
           "ticks": "",
           "title": {
            "standoff": 15
           },
           "zerolinecolor": "white",
           "zerolinewidth": 2
          }
         }
        },
        "title": {
         "text": "Number of plasmids w/in a given assembly"
        },
        "xaxis": {
         "anchor": "y",
         "autorange": true,
         "domain": [
          0,
          1
         ],
         "range": [
          -0.5,
          29.5
         ],
         "showspikes": false,
         "title": {
          "text": "Number of plasmids w/in assembly"
         },
         "type": "linear"
        },
        "yaxis": {
         "anchor": "x",
         "autorange": true,
         "domain": [
          0,
          1
         ],
         "range": [
          -0.5,
          0.5
         ],
         "showspikes": false,
         "type": "category"
        }
       }
      },
      "image/png": "[encoded data removed]",
      "text/html": [
       "<div>                            <div id=\"a0283911-0333-45d8-889d-33948451f50c\" class=\"plotly-graph-div\" style=\"height:525px; width:100%;\"></div>            <script type=\"text/javascript\">                require([\"plotly\"], function(Plotly) {                    window.PLOTLYENV=window.PLOTLYENV || {};                                    if (document.getElementById(\"a0283911-0333-45d8-889d-33948451f50c\")) {                    Plotly.newPlot(                        \"a0283911-0333-45d8-889d-33948451f50c\",                        [{\"alignmentgroup\":\"True\",\"boxpoints\":\"all\",\"customdata\":[[\"NCTC12735\",\"Legionella adelaidensis\",1991],[\"NCTC10006\",\"Klebsiella aerogenes\",1958],[\"NCTC10142\",\"Mycoplasma cynos\",1972],[\"NCTC10117\",\"Mycoplasma fermentans\",1956],[\"NCTC10146\",\"Mycoplasma canis\",1951],[\"NCTC10147\",\"Mycoplasma conjunctivae\",1968],[\"NCTC10384\",\"Salmonella enterica \",1964],[\"NCTC7974\",\"Listeria monocytogenes\",1983],[\"NCTC10127\",\"Mycoplasma hyopneumoniae\",1970],[\"NCTC9644\",\"Klebsiella pneumoniae\",1955],[\"NCTC9793\",\"Klebsiella pneumoniae\",1946],[\"NCTC10151\",\"Mycoplasma ovipneumoniae\",1971],[\"NCTC10112\",\"Mycoplasma orale\",1964],[\"NCTC11134\",\"Nocardia farcinica\",1957],[\"NCTC9691\",\"Clostridium novyi\",1955],[\"NCTC8155\",\"Cronobacter sakazakii\",1950],[\"NCTC10166\",\"Mycoplasma neurolyticum\",1976],[\"NCTC10186\",\"Mycoplasma gallopavonis\",1981],[\"NCTC418\",\"Klebsiella pneumoniae\",1911],[\"NCTC13435\",\"Staphylococcus aureus\",2003],[\"NCTC10129\",\"Mycoplasma arginini\",1968],[\"NCTC10317\",\"Klebsiella pneumoniae\",1962],[\"NCTC10121\",\"Mycoplasma hyorhinis\",1955],[\"NCTC10354\",\"Campylobacter fetus \",1952],[\"NCTC9877\",\"Salmonella enterica \",1954],[\"NCTC9850\",\"Shigella boydii\",1956],[\"NCTC10119\",\"Mycoplasma pneumoniae\",1957],[\"NCTC9734\",\"Shigella boydii\",1955],[\"NCTC9733\",\"Shigella boydii\",1955],[\"NCTC9728\",\"Shigella flexneri\",1955],[\"NCTC9718\",\"Shigella dysenteriae\",1955],[\"NCTC9693\",\"Clostridium haemolyticum\",1955],[\"NCTC9667\",\"Klebsiella pneumoniae\",1955],[\"NCTC9529\",\"Cronobacter universalis\",1954],[\"NCTC10562\",\"Fusobacterium nucleatum \",1951],[\"NCTC9362\",\"Shigella boydii\",1955],[\"NCTC9353\",\"Shigella boydii\",1955],[\"NCTC9343\",\"Bacteroides fragilis\",1955],[\"NCTC10139\",\"Mycoplasma pulmonis\",1936],[\"NCTC10168\",\"Mycoplasma maculosum\",1949],[\"NCTC7364\",\"Acinetobacter baumannii\",1947],[\"NCTC538\",\"Clostridium novyi\",1920],[\"NCTC10172\",\"Acholeplasma hippikon\",1977],[\"NCTC10118\",\"Mycoplasma bovirhinis\",1967],[\"NCTC10179\",\"Mycoplasma columborale\",1973],[\"NCTC9997\",\"Klebsiella aerogenes\",1957]],\"fillcolor\":\"rgba(255,255,255,0)\",\"hoveron\":\"points\",\"hovertemplate\":\"Number of plasmids w/in assembly=%{x}<br>Accession_Number=%{customdata[0]}<br>Species=%{customdata[1]}<br>Year_Cultured=%{customdata[2]}<extra></extra>\",\"legendgroup\":\"\",\"line\":{\"color\":\"rgba(255,255,255,0)\"},\"marker\":{\"color\":\"#636efa\"},\"name\":\"\",\"offsetgroup\":\"\",\"orientation\":\"h\",\"pointpos\":0,\"showlegend\":false,\"type\":\"box\",\"x\":[28,19,17,13,11,10,7,6,4,4,4,4,4,4,3,3,3,3,2,2,2,2,2,1,1,1,1,1,1,1,1,1,1,1,1,1,1,1,1,1,1,1,1,1,1,1],\"x0\":\" \",\"xaxis\":\"x\",\"y0\":\" \",\"yaxis\":\"y\"}],                        {\"boxmode\":\"group\",\"legend\":{\"tracegroupgap\":0},\"template\":{\"data\":{\"bar\":[{\"error_x\":{\"color\":\"#2a3f5f\"},\"error_y\":{\"color\":\"#2a3f5f\"},\"marker\":{\"line\":{\"color\":\"#E5ECF6\",\"width\":0.5},\"pattern\":{\"fillmode\":\"overlay\",\"size\":10,\"solidity\":0.2}},\"type\":\"bar\"}],\"barpolar\":[{\"marker\":{\"line\":{\"color\":\"#E5ECF6\",\"width\":0.5},\"pattern\":{\"fillmode\":\"overlay\",\"size\":10,\"solidity\":0.2}},\"type\":\"barpolar\"}],\"carpet\":[{\"aaxis\":{\"endlinecolor\":\"#2a3f5f\",\"gridcolor\":\"white\",\"linecolor\":\"white\",\"minorgridcolor\":\"white\",\"startlinecolor\":\"#2a3f5f\"},\"baxis\":{\"endlinecolor\":\"#2a3f5f\",\"gridcolor\":\"white\",\"linecolor\":\"white\",\"minorgridcolor\":\"white\",\"startlinecolor\":\"#2a3f5f\"},\"type\":\"carpet\"}],\"choropleth\":[{\"colorbar\":{\"outlinewidth\":0,\"ticks\":\"\"},\"type\":\"choropleth\"}],\"contour\":[{\"colorbar\":{\"outlinewidth\":0,\"ticks\":\"\"},\"colorscale\":[[0.0,\"#0d0887\"],[0.1111111111111111,\"#46039f\"],[0.2222222222222222,\"#7201a8\"],[0.3333333333333333,\"#9c179e\"],[0.4444444444444444,\"#bd3786\"],[0.5555555555555556,\"#d8576b\"],[0.6666666666666666,\"#ed7953\"],[0.7777777777777778,\"#fb9f3a\"],[0.8888888888888888,\"#fdca26\"],[1.0,\"#f0f921\"]],\"type\":\"contour\"}],\"contourcarpet\":[{\"colorbar\":{\"outlinewidth\":0,\"ticks\":\"\"},\"type\":\"contourcarpet\"}],\"heatmap\":[{\"colorbar\":{\"outlinewidth\":0,\"ticks\":\"\"},\"colorscale\":[[0.0,\"#0d0887\"],[0.1111111111111111,\"#46039f\"],[0.2222222222222222,\"#7201a8\"],[0.3333333333333333,\"#9c179e\"],[0.4444444444444444,\"#bd3786\"],[0.5555555555555556,\"#d8576b\"],[0.6666666666666666,\"#ed7953\"],[0.7777777777777778,\"#fb9f3a\"],[0.8888888888888888,\"#fdca26\"],[1.0,\"#f0f921\"]],\"type\":\"heatmap\"}],\"heatmapgl\":[{\"colorbar\":{\"outlinewidth\":0,\"ticks\":\"\"},\"colorscale\":[[0.0,\"#0d0887\"],[0.1111111111111111,\"#46039f\"],[0.2222222222222222,\"#7201a8\"],[0.3333333333333333,\"#9c179e\"],[0.4444444444444444,\"#bd3786\"],[0.5555555555555556,\"#d8576b\"],[0.6666666666666666,\"#ed7953\"],[0.7777777777777778,\"#fb9f3a\"],[0.8888888888888888,\"#fdca26\"],[1.0,\"#f0f921\"]],\"type\":\"heatmapgl\"}],\"histogram\":[{\"marker\":{\"pattern\":{\"fillmode\":\"overlay\",\"size\":10,\"solidity\":0.2}},\"type\":\"histogram\"}],\"histogram2d\":[{\"colorbar\":{\"outlinewidth\":0,\"ticks\":\"\"},\"colorscale\":[[0.0,\"#0d0887\"],[0.1111111111111111,\"#46039f\"],[0.2222222222222222,\"#7201a8\"],[0.3333333333333333,\"#9c179e\"],[0.4444444444444444,\"#bd3786\"],[0.5555555555555556,\"#d8576b\"],[0.6666666666666666,\"#ed7953\"],[0.7777777777777778,\"#fb9f3a\"],[0.8888888888888888,\"#fdca26\"],[1.0,\"#f0f921\"]],\"type\":\"histogram2d\"}],\"histogram2dcontour\":[{\"colorbar\":{\"outlinewidth\":0,\"ticks\":\"\"},\"colorscale\":[[0.0,\"#0d0887\"],[0.1111111111111111,\"#46039f\"],[0.2222222222222222,\"#7201a8\"],[0.3333333333333333,\"#9c179e\"],[0.4444444444444444,\"#bd3786\"],[0.5555555555555556,\"#d8576b\"],[0.6666666666666666,\"#ed7953\"],[0.7777777777777778,\"#fb9f3a\"],[0.8888888888888888,\"#fdca26\"],[1.0,\"#f0f921\"]],\"type\":\"histogram2dcontour\"}],\"mesh3d\":[{\"colorbar\":{\"outlinewidth\":0,\"ticks\":\"\"},\"type\":\"mesh3d\"}],\"parcoords\":[{\"line\":{\"colorbar\":{\"outlinewidth\":0,\"ticks\":\"\"}},\"type\":\"parcoords\"}],\"pie\":[{\"automargin\":true,\"type\":\"pie\"}],\"scatter\":[{\"marker\":{\"colorbar\":{\"outlinewidth\":0,\"ticks\":\"\"}},\"type\":\"scatter\"}],\"scatter3d\":[{\"line\":{\"colorbar\":{\"outlinewidth\":0,\"ticks\":\"\"}},\"marker\":{\"colorbar\":{\"outlinewidth\":0,\"ticks\":\"\"}},\"type\":\"scatter3d\"}],\"scattercarpet\":[{\"marker\":{\"colorbar\":{\"outlinewidth\":0,\"ticks\":\"\"}},\"type\":\"scattercarpet\"}],\"scattergeo\":[{\"marker\":{\"colorbar\":{\"outlinewidth\":0,\"ticks\":\"\"}},\"type\":\"scattergeo\"}],\"scattergl\":[{\"marker\":{\"colorbar\":{\"outlinewidth\":0,\"ticks\":\"\"}},\"type\":\"scattergl\"}],\"scattermapbox\":[{\"marker\":{\"colorbar\":{\"outlinewidth\":0,\"ticks\":\"\"}},\"type\":\"scattermapbox\"}],\"scatterpolar\":[{\"marker\":{\"colorbar\":{\"outlinewidth\":0,\"ticks\":\"\"}},\"type\":\"scatterpolar\"}],\"scatterpolargl\":[{\"marker\":{\"colorbar\":{\"outlinewidth\":0,\"ticks\":\"\"}},\"type\":\"scatterpolargl\"}],\"scatterternary\":[{\"marker\":{\"colorbar\":{\"outlinewidth\":0,\"ticks\":\"\"}},\"type\":\"scatterternary\"}],\"surface\":[{\"colorbar\":{\"outlinewidth\":0,\"ticks\":\"\"},\"colorscale\":[[0.0,\"#0d0887\"],[0.1111111111111111,\"#46039f\"],[0.2222222222222222,\"#7201a8\"],[0.3333333333333333,\"#9c179e\"],[0.4444444444444444,\"#bd3786\"],[0.5555555555555556,\"#d8576b\"],[0.6666666666666666,\"#ed7953\"],[0.7777777777777778,\"#fb9f3a\"],[0.8888888888888888,\"#fdca26\"],[1.0,\"#f0f921\"]],\"type\":\"surface\"}],\"table\":[{\"cells\":{\"fill\":{\"color\":\"#EBF0F8\"},\"line\":{\"color\":\"white\"}},\"header\":{\"fill\":{\"color\":\"#C8D4E3\"},\"line\":{\"color\":\"white\"}},\"type\":\"table\"}]},\"layout\":{\"annotationdefaults\":{\"arrowcolor\":\"#2a3f5f\",\"arrowhead\":0,\"arrowwidth\":1},\"autotypenumbers\":\"strict\",\"coloraxis\":{\"colorbar\":{\"outlinewidth\":0,\"ticks\":\"\"}},\"colorscale\":{\"diverging\":[[0,\"#8e0152\"],[0.1,\"#c51b7d\"],[0.2,\"#de77ae\"],[0.3,\"#f1b6da\"],[0.4,\"#fde0ef\"],[0.5,\"#f7f7f7\"],[0.6,\"#e6f5d0\"],[0.7,\"#b8e186\"],[0.8,\"#7fbc41\"],[0.9,\"#4d9221\"],[1,\"#276419\"]],\"sequential\":[[0.0,\"#0d0887\"],[0.1111111111111111,\"#46039f\"],[0.2222222222222222,\"#7201a8\"],[0.3333333333333333,\"#9c179e\"],[0.4444444444444444,\"#bd3786\"],[0.5555555555555556,\"#d8576b\"],[0.6666666666666666,\"#ed7953\"],[0.7777777777777778,\"#fb9f3a\"],[0.8888888888888888,\"#fdca26\"],[1.0,\"#f0f921\"]],\"sequentialminus\":[[0.0,\"#0d0887\"],[0.1111111111111111,\"#46039f\"],[0.2222222222222222,\"#7201a8\"],[0.3333333333333333,\"#9c179e\"],[0.4444444444444444,\"#bd3786\"],[0.5555555555555556,\"#d8576b\"],[0.6666666666666666,\"#ed7953\"],[0.7777777777777778,\"#fb9f3a\"],[0.8888888888888888,\"#fdca26\"],[1.0,\"#f0f921\"]]},\"colorway\":[\"#636efa\",\"#EF553B\",\"#00cc96\",\"#ab63fa\",\"#FFA15A\",\"#19d3f3\",\"#FF6692\",\"#B6E880\",\"#FF97FF\",\"#FECB52\"],\"font\":{\"color\":\"#2a3f5f\"},\"geo\":{\"bgcolor\":\"white\",\"lakecolor\":\"white\",\"landcolor\":\"#E5ECF6\",\"showlakes\":true,\"showland\":true,\"subunitcolor\":\"white\"},\"hoverlabel\":{\"align\":\"left\"},\"hovermode\":\"closest\",\"mapbox\":{\"style\":\"light\"},\"paper_bgcolor\":\"white\",\"plot_bgcolor\":\"#E5ECF6\",\"polar\":{\"angularaxis\":{\"gridcolor\":\"white\",\"linecolor\":\"white\",\"ticks\":\"\"},\"bgcolor\":\"#E5ECF6\",\"radialaxis\":{\"gridcolor\":\"white\",\"linecolor\":\"white\",\"ticks\":\"\"}},\"scene\":{\"xaxis\":{\"backgroundcolor\":\"#E5ECF6\",\"gridcolor\":\"white\",\"gridwidth\":2,\"linecolor\":\"white\",\"showbackground\":true,\"ticks\":\"\",\"zerolinecolor\":\"white\"},\"yaxis\":{\"backgroundcolor\":\"#E5ECF6\",\"gridcolor\":\"white\",\"gridwidth\":2,\"linecolor\":\"white\",\"showbackground\":true,\"ticks\":\"\",\"zerolinecolor\":\"white\"},\"zaxis\":{\"backgroundcolor\":\"#E5ECF6\",\"gridcolor\":\"white\",\"gridwidth\":2,\"linecolor\":\"white\",\"showbackground\":true,\"ticks\":\"\",\"zerolinecolor\":\"white\"}},\"shapedefaults\":{\"line\":{\"color\":\"#2a3f5f\"}},\"ternary\":{\"aaxis\":{\"gridcolor\":\"white\",\"linecolor\":\"white\",\"ticks\":\"\"},\"baxis\":{\"gridcolor\":\"white\",\"linecolor\":\"white\",\"ticks\":\"\"},\"bgcolor\":\"#E5ECF6\",\"caxis\":{\"gridcolor\":\"white\",\"linecolor\":\"white\",\"ticks\":\"\"}},\"title\":{\"x\":0.05},\"xaxis\":{\"automargin\":true,\"gridcolor\":\"white\",\"linecolor\":\"white\",\"ticks\":\"\",\"title\":{\"standoff\":15},\"zerolinecolor\":\"white\",\"zerolinewidth\":2},\"yaxis\":{\"automargin\":true,\"gridcolor\":\"white\",\"linecolor\":\"white\",\"ticks\":\"\",\"title\":{\"standoff\":15},\"zerolinecolor\":\"white\",\"zerolinewidth\":2}}},\"title\":{\"text\":\"Number of plasmids w/in a given assembly\"},\"xaxis\":{\"anchor\":\"y\",\"domain\":[0.0,1.0],\"title\":{\"text\":\"Number of plasmids w/in assembly\"}},\"yaxis\":{\"anchor\":\"x\",\"domain\":[0.0,1.0]}},                        {\"responsive\": true}                    ).then(function(){\n",
       "                            \n",
       "var gd = document.getElementById('a0283911-0333-45d8-889d-33948451f50c');\n",
       "var x = new MutationObserver(function (mutations, observer) {{\n",
       "        var display = window.getComputedStyle(gd).display;\n",
       "        if (!display || display === 'none') {{\n",
       "            console.log([gd, 'removed!']);\n",
       "            Plotly.purge(gd);\n",
       "            observer.disconnect();\n",
       "        }}\n",
       "}});\n",
       "\n",
       "// Listen for the removal of the full notebook cells\n",
       "var notebookContainer = gd.closest('#notebook-container');\n",
       "if (notebookContainer) {{\n",
       "    x.observe(notebookContainer, {childList: true});\n",
       "}}\n",
       "\n",
       "// Listen for the clearing of the current output cell\n",
       "var outputEl = gd.closest('.output');\n",
       "if (outputEl) {{\n",
       "    x.observe(outputEl, {childList: true});\n",
       "}}\n",
       "\n",
       "                        })                };                });            </script>        </div>"
      ]
     },
     "metadata": {},
     "output_type": "display_data"
    }
   ],
   "source": [
    "px.strip(\n",
    "    df.loc[df['Location'].str.contains(\"Plasmid\")].value_counts(subset=[\"Accession_Number\",\"Species\",'Year_Cultured']).to_frame().reset_index(),\n",
    "    x=0,\n",
    "    hover_data=['Accession_Number', 'Species', 'Year_Cultured'],\n",
    "    labels={'0':'Number of plasmids w/in assembly'},\n",
    "    title=\"Number of plasmids w/in a given assembly\"\n",
    ")"
   ]
  },
  {
   "cell_type": "code",
   "execution_count": 43,
   "id": "61733f63-c3ba-4bff-baa3-ab0c10acc723",
   "metadata": {},
   "outputs": [
    {
     "data": {
      "application/vnd.plotly.v1+json": {
       "config": {
        "plotlyServerURL": "https://plot.ly"
       },
       "data": [
        {
         "alignmentgroup": "True",
         "boxpoints": "all",
         "customdata": [
          [
           "Escherichia coli",
           "NCTC13461"
          ],
          [
           "Escherichia coli",
           "NCTC12653"
          ],
          [
           "Escherichia coli",
           "NCTC13441"
          ],
          [
           "Escherichia coli",
           "NCTC13846"
          ],
          [
           "Escherichia coli",
           "NCTC12652"
          ],
          [
           "Escherichia coli",
           "NCTC13919"
          ],
          [
           "Escherichia coli",
           "NCTC12654"
          ],
          [
           "Escherichia coli",
           "NCTC11472"
          ],
          [
           "Escherichia coli",
           "NCTC13353"
          ],
          [
           "Pseudomonas aeruginosa",
           "NCTC13717"
          ],
          [
           "Pseudomonas aeruginosa",
           "NCTC13719"
          ],
          [
           "Pseudomonas aeruginosa",
           "NCTC13715"
          ],
          [
           "Escherichia coli",
           "NCTC13462"
          ],
          [
           "Escherichia coli",
           "NCTC11186"
          ],
          [
           "Pseudomonas aeruginosa",
           "NCTC13921"
          ],
          [
           "Escherichia coli",
           "NCTC13451"
          ],
          [
           "Escherichia coli",
           "NCTC11560"
          ],
          [
           "Pseudomonas aeruginosa",
           "NCTC11839"
          ],
          [
           "Pseudomonas aeruginosa",
           "NCTC8506"
          ],
          [
           "Escherichia coli",
           "NCTC13463"
          ],
          [
           "Pseudomonas aeruginosa",
           "NCTC13716"
          ],
          [
           "Escherichia coli",
           "NCTC13450"
          ],
          [
           "Pseudomonas aeruginosa",
           "NCTC12447"
          ],
          [
           "Pseudomonas aeruginosa",
           "NCTC13437"
          ],
          [
           "Pseudomonas aeruginosa",
           "NCTC8058"
          ],
          [
           "Pseudomonas aeruginosa",
           "NCTC8203"
          ],
          [
           "Escherichia coli",
           "NCTC9031"
          ],
          [
           "Pseudomonas aeruginosa",
           "NCTC7244"
          ],
          [
           "Pseudomonas aeruginosa",
           "NCTC10730"
          ],
          [
           "Pseudomonas aeruginosa",
           "NCTC10782"
          ],
          [
           "Pseudomonas aeruginosa",
           "NCTC11445"
          ],
          [
           "Escherichia coli",
           "NCTC13452"
          ],
          [
           "Escherichia coli",
           "NCTC13351"
          ],
          [
           "Pseudomonas aeruginosa",
           "NCTC11452"
          ],
          [
           "Pseudomonas aeruginosa",
           "NCTC10731"
          ],
          [
           "Escherichia coli",
           "NCTC9109"
          ],
          [
           "Pseudomonas aeruginosa",
           "NCTC12449"
          ],
          [
           "Escherichia coli",
           "NCTC4169"
          ],
          [
           "Pseudomonas aeruginosa",
           "NCTC12448"
          ],
          [
           "Escherichia coli",
           "NCTC9015"
          ],
          [
           "Escherichia coli",
           "NCTC9069"
          ],
          [
           "Pseudomonas aeruginosa",
           "NCTC11448"
          ],
          [
           "Pseudomonas aeruginosa",
           "NCTC11447"
          ],
          [
           "Pseudomonas aeruginosa",
           "NCTC10728"
          ],
          [
           "Pseudomonas aeruginosa",
           "NCTC10299"
          ],
          [
           "Escherichia coli",
           "NCTC9005"
          ],
          [
           "Escherichia coli",
           "NCTC9009"
          ],
          [
           "Escherichia coli",
           "NCTC9008"
          ],
          [
           "Pseudomonas aeruginosa",
           "NCTC10332"
          ],
          [
           "Pseudomonas aeruginosa",
           "NCTC9433"
          ],
          [
           "Escherichia coli",
           "NCTC9705"
          ],
          [
           "Escherichia coli",
           "NCTC9775"
          ],
          [
           "Pseudomonas aeruginosa",
           "NCTC6750"
          ],
          [
           "Pseudomonas aeruginosa",
           "NCTC10727"
          ],
          [
           "Escherichia coli",
           "NCTC9070"
          ],
          [
           "Pseudomonas aeruginosa",
           "NCTC11446"
          ],
          [
           "Pseudomonas aeruginosa",
           "NCTC11449"
          ],
          [
           "Pseudomonas aeruginosa",
           "NCTC11450"
          ],
          [
           "Escherichia coli",
           "NCTC7927"
          ],
          [
           "Escherichia coli",
           "NCTC8623"
          ],
          [
           "Escherichia coli",
           "NCTC7921"
          ],
          [
           "Escherichia coli",
           "NCTC9050"
          ],
          [
           "Escherichia coli",
           "NCTC9034"
          ],
          [
           "Escherichia coli",
           "NCTC10537"
          ],
          [
           "Escherichia coli",
           "NCTC9032"
          ],
          [
           "Escherichia coli",
           "NCTC9105"
          ],
          [
           "Escherichia coli",
           "NCTC9085"
          ],
          [
           "Escherichia coli",
           "NCTC9103"
          ],
          [
           "Pseudomonas aeruginosa",
           "NCTC10783"
          ],
          [
           "Escherichia coli",
           "NCTC9086"
          ],
          [
           "Escherichia coli",
           "NCTC9071"
          ],
          [
           "Escherichia coli",
           "NCTC9080"
          ],
          [
           "Escherichia coli",
           "NCTC9114"
          ],
          [
           "Escherichia coli",
           "NCTC9076"
          ],
          [
           "Escherichia coli",
           "NCTC9123"
          ],
          [
           "Escherichia coli",
           "NCTC9066"
          ],
          [
           "Escherichia coli",
           "NCTC9060"
          ],
          [
           "Shigella dysenteriae",
           "NCTC2966"
          ],
          [
           "Escherichia coli",
           "NCTC11476"
          ],
          [
           "Escherichia coli",
           "NCTC9056"
          ],
          [
           "Escherichia coli",
           "NCTC4450"
          ],
          [
           "Escherichia coli",
           "NCTC9055"
          ],
          [
           "Pseudomonas aeruginosa",
           "NCTC11440"
          ],
          [
           "Escherichia coli",
           "NCTC9963"
          ],
          [
           "Escherichia coli",
           "NCTC9019"
          ],
          [
           "Escherichia coli",
           "NCTC7362"
          ],
          [
           "Escherichia coli",
           "NCTC10089"
          ],
          [
           "Escherichia coli",
           "NCTC10863"
          ],
          [
           "Escherichia coli",
           "NCTC9699"
          ],
          [
           "Escherichia coli",
           "NCTC9007"
          ],
          [
           "Escherichia coli",
           "NCTC10960"
          ],
          [
           "Escherichia coli",
           "NCTC9096"
          ],
          [
           "Escherichia coli",
           "NCTC9102"
          ],
          [
           "Escherichia coli",
           "NCTC9087"
          ],
          [
           "Escherichia coli",
           "NCTC86"
          ],
          [
           "Escherichia coli",
           "NCTC5934"
          ],
          [
           "Escherichia coli",
           "NCTC8620"
          ],
          [
           "Escherichia coli",
           "NCTC9777"
          ],
          [
           "Escherichia coli",
           "NCTC9064"
          ],
          [
           "Escherichia coli",
           "NCTC9062"
          ],
          [
           "Escherichia coli",
           "NCTC8603"
          ],
          [
           "Escherichia coli",
           "NCTC10961"
          ],
          [
           "Escherichia coli",
           "NCTC8783"
          ],
          [
           "Escherichia coli",
           "NCTC10963"
          ],
          [
           "Escherichia coli",
           "NCTC10973"
          ],
          [
           "Escherichia coli",
           "NCTC10664"
          ],
          [
           "Escherichia coli",
           "NCTC9967"
          ],
          [
           "Escherichia coli",
           "NCTC9107"
          ],
          [
           "Escherichia coli",
           "NCTC8008"
          ],
          [
           "Escherichia coli",
           "NCTC9966"
          ],
          [
           "Escherichia coli",
           "NCTC9964"
          ],
          [
           "Escherichia coli",
           "NCTC9083"
          ],
          [
           "Escherichia coli",
           "NCTC9084"
          ],
          [
           "Streptococcus pneumoniae",
           "NCTC7978"
          ],
          [
           "Escherichia coli",
           "NCTC12650"
          ],
          [
           "Escherichia coli",
           "NCTC11151"
          ],
          [
           "Escherichia coli",
           "NCTC9058"
          ],
          [
           "Escherichia coli",
           "NCTC9110"
          ],
          [
           "Escherichia coli",
           "NCTC9434"
          ],
          [
           "Escherichia coli",
           "NCTC9035"
          ],
          [
           "Escherichia coli",
           "NCTC9026"
          ],
          [
           "Escherichia coli",
           "NCTC9020"
          ],
          [
           "Escherichia coli",
           "NCTC9018"
          ],
          [
           "Escherichia coli",
           "NCTC10850"
          ],
          [
           "Escherichia coli",
           "NCTC10002"
          ],
          [
           "Escherichia coli",
           "NCTC9014"
          ],
          [
           "Escherichia coli",
           "NCTC9100"
          ],
          [
           "Escherichia coli",
           "NCTC9013"
          ],
          [
           "Escherichia coli",
           "NCTC9041"
          ],
          [
           "Escherichia coli",
           "NCTC9043"
          ],
          [
           "Escherichia coli",
           "NCTC9047"
          ],
          [
           "Escherichia coli",
           "NCTC9011"
          ],
          [
           "Escherichia coli",
           "NCTC9010"
          ],
          [
           "Escherichia coli",
           "NCTC4168"
          ],
          [
           "Escherichia coli",
           "NCTC9701"
          ],
          [
           "Escherichia coli",
           "NCTC9006"
          ],
          [
           "Escherichia coli",
           "NCTC9003"
          ],
          [
           "Escherichia coli",
           "NCTC9707"
          ],
          [
           "Escherichia coli",
           "NCTC9002"
          ],
          [
           "Escherichia coli",
           "NCTC8960"
          ],
          [
           "Escherichia coli",
           "NCTC8959"
          ],
          [
           "Escherichia coli",
           "NCTC9092"
          ],
          [
           "Escherichia coli",
           "NCTC9091"
          ],
          [
           "Escherichia coli",
           "NCTC9028"
          ],
          [
           "Escherichia coli",
           "NCTC10650"
          ],
          [
           "Escherichia coli",
           "NCTC8003"
          ],
          [
           "Escherichia coli",
           "NCTC9079"
          ],
          [
           "Escherichia coli",
           "NCTC11023"
          ],
          [
           "Escherichia coli",
           "NCTC10959"
          ],
          [
           "Escherichia coli",
           "NCTC10958"
          ],
          [
           "Escherichia coli",
           "NCTC9068"
          ],
          [
           "Escherichia coli",
           "NCTC9053"
          ],
          [
           "Escherichia coli",
           "NCTC9038"
          ],
          [
           "Escherichia coli",
           "NCTC9022"
          ],
          [
           "Escherichia coli",
           "NCTC8621"
          ],
          [
           "Escherichia coli",
           "NCTC9082"
          ],
          [
           "Escherichia coli",
           "NCTC10279"
          ],
          [
           "Escherichia coli",
           "NCTC10361"
          ],
          [
           "Escherichia coli",
           "NCTC10090"
          ],
          [
           "Escherichia coli",
           "NCTC9120"
          ],
          [
           "Escherichia coli",
           "NCTC9119"
          ],
          [
           "Escherichia coli",
           "NCTC11473"
          ],
          [
           "Pseudomonas aeruginosa",
           "NCTC13618"
          ],
          [
           "Escherichia coli",
           "NCTC11475"
          ],
          [
           "Escherichia coli",
           "NCTC9706"
          ],
          [
           "Escherichia coli",
           "NCTC9113"
          ],
          [
           "Escherichia coli",
           "NCTC10444"
          ],
          [
           "Escherichia coli",
           "NCTC13128"
          ],
          [
           "Escherichia coli",
           "NCTC12655"
          ],
          [
           "Escherichia coli",
           "NCTC9111"
          ],
          [
           "Escherichia coli",
           "NCTC9108"
          ],
          [
           "Escherichia coli",
           "NCTC9104"
          ],
          [
           "Escherichia coli",
           "NCTC9969"
          ],
          [
           "Escherichia coli",
           "NCTC9101"
          ],
          [
           "Escherichia coli",
           "NCTC9099"
          ],
          [
           "Escherichia coli",
           "NCTC9098"
          ],
          [
           "Escherichia coli",
           "NCTC8007"
          ],
          [
           "Escherichia coli",
           "NCTC10087"
          ],
          [
           "Escherichia coli",
           "NCTC8196"
          ],
          [
           "Escherichia coli",
           "NCTC9037"
          ],
          [
           "Escherichia coli",
           "NCTC9049"
          ],
          [
           "Escherichia coli",
           "NCTC9065"
          ],
          [
           "Escherichia coli",
           "NCTC12241"
          ],
          [
           "Escherichia coli",
           "NCTC11181"
          ],
          [
           "Pseudomonas aeruginosa",
           "NCTC13620"
          ],
          [
           "Escherichia coli",
           "NCTC9776"
          ],
          [
           "Escherichia coli",
           "NCTC122"
          ],
          [
           "Escherichia coli",
           "NCTC4174"
          ],
          [
           "Escherichia coli",
           "NCTC9012"
          ],
          [
           "Escherichia coli",
           "NCTC10957"
          ],
          [
           "Escherichia coli",
           "NCTC9030"
          ],
          [
           "Escherichia coli",
           "NCTC9095"
          ],
          [
           "Escherichia coli",
           "NCTC9112"
          ],
          [
           "Pseudomonas aeruginosa",
           "NCTC11444"
          ],
          [
           "Escherichia coli",
           "NCTC1093"
          ],
          [
           "Escherichia coli",
           "NCTC13352"
          ],
          [
           "Escherichia coli",
           "NCTC9855"
          ],
          [
           "Escherichia coli",
           "NCTC10758"
          ],
          [
           "Escherichia coli",
           "NCTC9023"
          ],
          [
           "Escherichia coli",
           "NCTC9004"
          ],
          [
           "Escherichia coli",
           "NCTC10864"
          ],
          [
           "Escherichia coli",
           "NCTC9121"
          ],
          [
           "Shigella sonnei",
           "NCTC7924"
          ],
          [
           "Escherichia coli",
           "NCTC9078"
          ],
          [
           "Escherichia coli",
           "NCTC9088"
          ],
          [
           "Shigella dysenteriae",
           "NCTC11868"
          ],
          [
           "Escherichia coli",
           "NCTC10767"
          ],
          [
           "Escherichia coli",
           "NCTC9040"
          ],
          [
           "Escherichia coli",
           "NCTC9097"
          ],
          [
           "Escherichia coli",
           "NCTC11474"
          ],
          [
           "Escherichia coli",
           "NCTC9052"
          ],
          [
           "Escherichia coli",
           "NCTC9961"
          ],
          [
           "Escherichia coli",
           "NCTC9708"
          ],
          [
           "Escherichia coli",
           "NCTC9029"
          ],
          [
           "Escherichia coli",
           "NCTC8450"
          ],
          [
           "Escherichia coli",
           "NCTC9116"
          ],
          [
           "Escherichia coli",
           "NCTC9036"
          ],
          [
           "Escherichia coli",
           "NCTC7360"
          ],
          [
           "Escherichia coli",
           "NCTC9016"
          ],
          [
           "Escherichia coli",
           "NCTC10766"
          ],
          [
           "Escherichia coli",
           "NCTC10538"
          ],
          [
           "Escherichia coli",
           "NCTC9048"
          ],
          [
           "Escherichia coli",
           "NCTC8984"
          ],
          [
           "Escherichia coli",
           "NCTC10487"
          ],
          [
           "Escherichia coli",
           "NCTC8333"
          ],
          [
           "Escherichia coli",
           "NCTC11022"
          ],
          [
           "Escherichia coli",
           "NCTC7152"
          ],
          [
           "Escherichia coli",
           "NCTC8781"
          ],
          [
           "Pseudomonas aeruginosa",
           "NCTC13619"
          ],
          [
           "Shigella flexneri",
           "NCTC9783"
          ],
          [
           "Shigella flexneri",
           "NCTC8520"
          ],
          [
           "Escherichia coli",
           "NCTC9045"
          ],
          [
           "Escherichia dispar",
           "NCTC8006"
          ],
          [
           "Escherichia coli",
           "NCTC9702"
          ],
          [
           "Escherichia coli",
           "NCTC13125"
          ],
          [
           "Escherichia coli",
           "NCTC9965"
          ],
          [
           "Escherichia coli",
           "NCTC9703"
          ],
          [
           "Escherichia coli",
           "NCTC10962"
          ],
          [
           "Escherichia coli",
           "NCTC10855"
          ],
          [
           "Escherichia coli",
           "NCTC10430"
          ],
          [
           "Shigella boydii",
           "NCTC9362"
          ],
          [
           "Shigella boydii",
           "NCTC9734"
          ],
          [
           "Shigella flexneri",
           "NCTC8524"
          ],
          [
           "Klebsiella pneumoniae",
           "NCTC13438"
          ],
          [
           "Shigella boydii",
           "NCTC8576"
          ],
          [
           "Escherichia coli",
           "NCTC10764"
          ],
          [
           "Escherichia coli",
           "NCTC9024"
          ],
          [
           "Escherichia coli",
           "NCTC9089"
          ],
          [
           "Shigella flexneri",
           "NCTC12698"
          ],
          [
           "Shigella boydii",
           "NCTC9850"
          ],
          [
           "Shigella flexneri",
           "NCTC2"
          ],
          [
           "Escherichia coli",
           "NCTC9117"
          ],
          [
           "Shigella flexneri",
           "NCTC5"
          ],
          [
           "Pseudomonas aeruginosa",
           "NCTC10662"
          ],
          [
           "Escherichia coli",
           "NCTC7926"
          ],
          [
           "Shigella boydii",
           "NCTC9733"
          ],
          [
           "Escherichia coli",
           "NCTC9778"
          ],
          [
           "Shigella flexneri",
           "NCTC9728"
          ],
          [
           "streptococcus equisimilis",
           "NCTC11565"
          ],
          [
           "Escherichia coli",
           "NCTC11341"
          ],
          [
           "Salmonella enterica ",
           "NCTC9854"
          ],
          [
           "Citrobacter koseri",
           "NCTC10771"
          ],
          [
           "Enterobacter cloacae",
           "NCTC11593"
          ],
          [
           "Shigella flexneri",
           "NCTC1"
          ],
          [
           "Escherichia coli",
           "NCTC9054"
          ],
          [
           "Shigella dysenteriae",
           "NCTC4837"
          ],
          [
           "Salmonella enterica ",
           "NCTC10075"
          ],
          [
           "Salmonella enterica ",
           "NCTC12705"
          ],
          [
           "Escherichia coli",
           "NCTC9077"
          ],
          [
           "Salmonella enterica ",
           "NCTC9941"
          ],
          [
           "Salmonella enterica ",
           "NCTC6016"
          ],
          [
           "Salmonella enterica ",
           "NCTC7404"
          ],
          [
           "Salmonella enterica ",
           "NCTC7388"
          ],
          [
           "Escherichia fergusonii",
           "NCTC12128"
          ],
          [
           "Salmonella enterica ",
           "NCTC8392"
          ],
          [
           "Salmonella enterica ",
           "NCTC7744"
          ],
          [
           "Salmonella enterica ",
           "NCTC6020"
          ],
          [
           "Salmonella enterica ",
           "NCTC5716"
          ],
          [
           "Salmonella enterica ",
           "NCTC6022"
          ],
          [
           "Salmonella enterica ",
           "NCTC5735"
          ],
          [
           "Salmonella enterica ",
           "NCTC5741"
          ],
          [
           "Salmonella enterica ",
           "NCTC7101"
          ],
          [
           "Salmonella enterica ",
           "NCTC6026"
          ],
          [
           "Salmonella enterica ",
           "NCTC10480"
          ],
          [
           "Salmonella enterica ",
           "NCTC5740"
          ],
          [
           "Salmonella enterica ",
           "NCTC8270"
          ],
          [
           "Salmonella enterica ",
           "NCTC5706"
          ],
          [
           "Salmonella enterica ",
           "NCTC6480"
          ],
          [
           "Salmonella enterica ",
           "NCTC6703"
          ],
          [
           "Salmonella enterica ",
           "NCTC9930"
          ],
          [
           "Salmonella enterica ",
           "NCTC7112"
          ],
          [
           "Salmonella enterica ",
           "NCTC9912"
          ],
          [
           "Salmonella enterica ",
           "NCTC10080"
          ],
          [
           "Salmonella enterica ",
           "NCTC8495"
          ],
          [
           "Salmonella enterica ",
           "NCTC5778"
          ],
          [
           "Salmonella enterica ",
           "NCTC10718"
          ],
          [
           "Salmonella enterica ",
           "NCTC8785"
          ],
          [
           "Salmonella enterica ",
           "NCTC5785"
          ],
          [
           "Salmonella enterica ",
           "NCTC5774"
          ],
          [
           "Escherichia coli",
           "NCTC13127"
          ],
          [
           "Salmonella enterica ",
           "NCTC5754"
          ],
          [
           "Salmonella enterica ",
           "NCTC92"
          ],
          [
           "Escherichia coli",
           "NCTC9033"
          ],
          [
           "Pseudomonas aeruginosa",
           "NCTC13621"
          ],
          [
           "Salmonella enterica ",
           "NCTC5791"
          ],
          [
           "Salmonella enterica ",
           "NCTC12709"
          ],
          [
           "Salmonella enterica ",
           "NCTC10384"
          ],
          [
           "Salmonella enterica ",
           "NCTC5747"
          ],
          [
           "Salmonella sp.",
           "NCTC5793"
          ],
          [
           "Salmonella enterica ",
           "NCTC5743"
          ],
          [
           "Salmonella enterica ",
           "NCTC5794"
          ],
          [
           "Salmonella enterica ",
           "NCTC3072"
          ],
          [
           "Salmonella enterica ",
           "NCTC9787"
          ],
          [
           "Salmonella enterica ",
           "NCTC5800"
          ],
          [
           "Salmonella enterica ",
           "NCTC9872"
          ],
          [
           "Salmonella enterica ",
           "NCTC10310"
          ],
          [
           "Salmonella enterica ",
           "NCTC8497"
          ],
          [
           "Salmonella enterica ",
           "NCTC5801"
          ],
          [
           "Salmonella sp.",
           "NCTC3046"
          ],
          [
           "Salmonella enterica ",
           "NCTC8718"
          ],
          [
           "Salmonella enterica ",
           "NCTC9884"
          ],
          [
           "Salmonella enterica ",
           "NCTC9606"
          ],
          [
           "Escherichia coli",
           "NCTC7922"
          ],
          [
           "Salmonella enterica ",
           "NCTC9853"
          ],
          [
           "Salmonella enterica ",
           "NCTC4840"
          ],
          [
           "Salmonella enterica ",
           "NCTC12710"
          ],
          [
           "Salmonella enterica ",
           "NCTC5742"
          ],
          [
           "Citrobacter koseri",
           "NCTC10768"
          ],
          [
           "Salmonella enterica ",
           "NCTC10436"
          ],
          [
           "Salmonella enterica ",
           "NCTC5797"
          ],
          [
           "Shigella dysenteriae",
           "NCTC9718"
          ],
          [
           "Salmonella enterica ",
           "NCTC12023"
          ],
          [
           "Salmonella enterica ",
           "NCTC5722"
          ],
          [
           "Salmonella enterica ",
           "NCTC618"
          ],
          [
           "Salmonella enterica ",
           "NCTC5750"
          ],
          [
           "Salmonella enterica ",
           "NCTC6385"
          ],
          [
           "Salmonella enterica ",
           "NCTC11948"
          ],
          [
           "Salmonella enterica ",
           "NCTC74"
          ],
          [
           "Acinetobacter baumannii",
           "NCTC13424"
          ],
          [
           "Salmonella enterica ",
           "NCTC12116"
          ],
          [
           "Escherichia coli",
           "NCTC10757"
          ],
          [
           "Klebsiella pneumoniae sensu stricto",
           "NCTC10273"
          ],
          [
           "Salmonella enterica ",
           "NCTC10252"
          ],
          [
           "Escherichia coli",
           "NCTC9044"
          ],
          [
           "Escherichia coli",
           "NCTC8179"
          ],
          [
           "Salmonella enterica ",
           "NCTC6759"
          ],
          [
           "Acinetobacter baumannii",
           "NCTC13421"
          ],
          [
           "Salmonella sp.",
           "NCTC6947"
          ],
          [
           "Shigella boydii",
           "NCTC9353"
          ],
          [
           "Salmonella enterica ",
           "NCTC10532"
          ],
          [
           "Salmonella enterica ",
           "NCTC10081"
          ],
          [
           "Salmonella enterica ",
           "NCTC5717"
          ],
          [
           "Salmonella enterica ",
           "NCTC9936"
          ],
          [
           "Escherichia coli",
           "NCTC10429"
          ],
          [
           "Salmonella enterica ",
           "NCTC6086"
          ],
          [
           "Salmonella enterica ",
           "NCTC8273"
          ],
          [
           "Salmonella enterica ",
           "NCTC12420"
          ],
          [
           "Enterobacter cloacae",
           "NCTC13464"
          ],
          [
           "Escherichia coli",
           "NCTC9021"
          ],
          [
           "Salmonella enterica ",
           "NCTC8385"
          ],
          [
           "Klebsiella pneumoniae",
           "NCTC13440"
          ],
          [
           "Escherichia coli",
           "NCTC10865"
          ],
          [
           "Salmonella enterica ",
           "NCTC7831"
          ],
          [
           "Escherichia coli",
           "NCTC10974"
          ],
          [
           "Salmonella enterica ",
           "NCTC10381"
          ],
          [
           "Salmonella enterica ",
           "NCTC8496"
          ],
          [
           "Escherichia coli",
           "NCTC8985"
          ],
          [
           "Citrobacter koseri",
           "NCTC10769"
          ],
          [
           "Salmonella enterica ",
           "NCTC9868"
          ],
          [
           "Citrobacter koseri",
           "NCTC11076"
          ],
          [
           "Salmonella enterica ",
           "NCTC7318"
          ],
          [
           "Klebsiella pneumoniae",
           "NCTC5055"
          ],
          [
           "Salmonella enterica ",
           "NCTC10056"
          ],
          [
           "Salmonella enterica ",
           "NCTC10401"
          ],
          [
           "Acinetobacter baumannii",
           "NCTC13420"
          ],
          [
           "Citrobacter koseri",
           "NCTC10770"
          ],
          [
           "Citrobacter koseri",
           "NCTC10811"
          ],
          [
           "Klebsiella pneumoniae",
           "NCTC9130"
          ],
          [
           "Acinetobacter baumannii",
           "NCTC13485"
          ],
          [
           "Salmonella enterica ",
           "NCTC8705"
          ],
          [
           "Escherichia coli",
           "NCTC8622"
          ],
          [
           "Escherichia coli",
           "NCTC9001"
          ],
          [
           "Escherichia coli",
           "NCTC7928"
          ],
          [
           "Salmonella enterica ",
           "NCTC8267"
          ],
          [
           "Citrobacter koseri",
           "NCTC11077"
          ],
          [
           "Salmonella enterica ",
           "NCTC6024"
          ],
          [
           "Salmonella enterica ",
           "NCTC9684"
          ],
          [
           "Salmonella enterica ",
           "NCTC779"
          ],
          [
           "Klebsiella pneumoniae",
           "NCTC9166"
          ],
          [
           "Klebsiella pneumoniae sensu stricto",
           "NCTC9137"
          ],
          [
           "Klebsiella pneumoniae",
           "NCTC13691"
          ],
          [
           "Klebsiella pneumoniae",
           "NCTC9180"
          ],
          [
           "Salmonella enterica ",
           "NCTC9322"
          ],
          [
           "Escherichia coli",
           "NCTC9081"
          ],
          [
           "Klebsiella pneumoniae",
           "NCTC9499"
          ],
          [
           "Klebsiella pneumoniae",
           "NCTC11357"
          ],
          [
           "Citrobacter koseri",
           "NCTC10849"
          ],
          [
           "Salmonella enterica ",
           "NCTC5772"
          ],
          [
           "Acinetobacter baumannii",
           "NCTC13423"
          ],
          [
           "Klebsiella pneumoniae ",
           "NCTC9633"
          ],
          [
           "Salmonella enterica ",
           "NCTC8389"
          ],
          [
           "Salmonella enterica ",
           "NCTC8387"
          ],
          [
           "Klebsiella pneumoniae",
           "NCTC9632"
          ],
          [
           "Klebsiella pneumoniae",
           "NCTC9660"
          ],
          [
           "Salmonella enterica ",
           "NCTC12416"
          ],
          [
           "Klebsiella pneumoniae",
           "NCTC9636"
          ],
          [
           "Klebsiella pneumoniae",
           "NCTC13695"
          ],
          [
           "Klebsiella pneumoniae",
           "NCTC9133"
          ],
          [
           "Klebsiella pneumoniae",
           "NCTC9142"
          ],
          [
           "Salmonella sp.",
           "NCTC9948"
          ],
          [
           "Salmonella enterica ",
           "NCTC6017"
          ],
          [
           "Klebsiella pneumoniae",
           "NCTC9150"
          ],
          [
           "Salmonella enterica ",
           "NCTC7411"
          ],
          [
           "Klebsiella aerogenes",
           "NCTC3279"
          ],
          [
           "Klebsiella pneumoniae",
           "NCTC9182"
          ],
          [
           "Klebsiella pneumoniae",
           "NCTC9132"
          ],
          [
           "Citrobacter koseri",
           "NCTC11074"
          ],
          [
           "Klebsiella pneumoniae",
           "NCTC9656"
          ],
          [
           "Klebsiella sp.",
           "NCTC9129"
          ],
          [
           "Escherichia coli",
           "NCTC8164"
          ],
          [
           "Salmonella enterica ",
           "NCTC6802"
          ],
          [
           "Salmonella enterica ",
           "NCTC10705"
          ],
          [
           "Citrobacter braakii",
           "NCTC9067"
          ],
          [
           "Escherichia coli",
           "NCTC9073"
          ],
          [
           "Klebsiella pneumoniae",
           "NCTC9167"
          ],
          [
           "Klebsiella pneumoniae",
           "NCTC10246"
          ],
          [
           "Klebsiella aerogenes",
           "NCTC243"
          ],
          [
           "Klebsiella pneumoniae",
           "NCTC9162"
          ],
          [
           "Klebsiella pneumoniae",
           "NCTC9163"
          ],
          [
           "Klebsiella pneumoniae",
           "NCTC9644"
          ],
          [
           "Klebsiella pneumoniae",
           "NCTC9170"
          ],
          [
           "Klebsiella pneumoniae",
           "NCTC9184"
          ],
          [
           "Citrobacter youngae",
           "NCTC13709"
          ],
          [
           "Klebsiella pneumoniae",
           "NCTC9793"
          ],
          [
           "Klebsiella pneumoniae",
           "NCTC13674"
          ],
          [
           "Acinetobacter baumannii",
           "NCTC13422"
          ],
          [
           "Klebsiella pneumoniae",
           "NCTC9181"
          ],
          [
           "Klebsiella pneumoniae sensu stricto",
           "NCTC9157"
          ],
          [
           "Klebsiella pneumoniae",
           "NCTC418"
          ],
          [
           "Klebsiella pneumoniae sensu stricto",
           "NCTC9136"
          ],
          [
           "Klebsiella pneumoniae",
           "NCTC11228"
          ],
          [
           "Klebsiella pneumoniae",
           "NCTC9154"
          ],
          [
           "Salmonella enterica ",
           "NCTC7308"
          ],
          [
           "Citrobacter freundii",
           "NCTC8165"
          ],
          [
           "Klebsiella pneumoniae",
           "NCTC11358"
          ],
          [
           "Salmonella enterica ",
           "NCTC8256"
          ],
          [
           "Citrobacter freundii",
           "NCTC6266"
          ],
          [
           "Klebsiella pneumoniae",
           "NCTC9134"
          ],
          [
           "Salmonella enterica ",
           "NCTC5773"
          ],
          [
           "Klebsiella pneumoniae",
           "NCTC13439"
          ],
          [
           "Salmonella enterica ",
           "NCTC8271"
          ],
          [
           "Citrobacter gillenii",
           "NCTC9094"
          ],
          [
           "Klebsiella pneumoniae",
           "NCTC10262"
          ],
          [
           "Klebsiella pneumoniae sensu stricto",
           "NCTC9138"
          ],
          [
           "Enterobacter aerogenes",
           "NCTC9735"
          ],
          [
           "Escherichia coli",
           "NCTC8009"
          ],
          [
           "Salmonella enterica ",
           "NCTC12417"
          ],
          [
           "Klebsiella pneumoniae ",
           "NCTC7799"
          ],
          [
           "Salmonella enterica ",
           "NCTC6482"
          ],
          [
           "Klebsiella edwardsii var. edwardsii",
           "NCTC7761"
          ],
          [
           "Salmonella enterica ",
           "NCTC4444"
          ],
          [
           "Klebsiella pneumoniae",
           "NCTC9159"
          ],
          [
           "Klebsiella pneumoniae",
           "NCTC9144"
          ],
          [
           "Klebsiella pneumoniae",
           "NCTC9169"
          ],
          [
           "Klebsiella pneumoniae",
           "NCTC7427"
          ],
          [
           "Klebsiella pneumoniae ",
           "NCTC1936"
          ],
          [
           "Klebsiella pneumoniae",
           "NCTC9139"
          ],
          [
           "Klebsiella oxytoca",
           "NCTC11356"
          ],
          [
           "Klebsiella pneumoniae",
           "NCTC9153"
          ],
          [
           "Klebsiella pneumoniae ",
           "NCTC5048"
          ],
          [
           "Salmonella enterica ",
           "NCTC8272"
          ],
          [
           "Escherichia coli",
           "NCTC9075"
          ],
          [
           "Klebsiella oxytoca",
           "NCTC13775"
          ],
          [
           "Escherichia coli",
           "NCTC10418"
          ],
          [
           "Klebsiella pneumoniae",
           "NCTC9143"
          ],
          [
           "Klebsiella pneumoniae",
           "NCTC11359"
          ],
          [
           "Klebsiella pneumoniae sensu stricto",
           "NCTC9616"
          ],
          [
           "Klebsiella pneumoniae",
           "NCTC9156"
          ],
          [
           "Salmonella enterica ",
           "NCTC7102"
          ],
          [
           "Salmonella enterica ",
           "NCTC12418"
          ],
          [
           "Citrobacter freundii",
           "NCTC13639"
          ],
          [
           "Citrobacter freundii",
           "NCTC9750"
          ],
          [
           "Klebsiella pneumoniae",
           "NCTC10004"
          ],
          [
           "Klebsiella pneumoniae",
           "NCTC13672"
          ],
          [
           "Salmonella enterica ",
           "NCTC7406"
          ],
          [
           "Enterobacter cloacae",
           "NCTC11579"
          ],
          [
           "Klebsiella pneumoniae",
           "NCTC5056"
          ],
          [
           "Klebsiella pneumoniae",
           "NCTC9158"
          ],
          [
           "Salmonella enterica ",
           "NCTC7836"
          ],
          [
           "Salmonella enterica ",
           "NCTC5798"
          ],
          [
           "Enterobacter cloacae",
           "NCTC11571"
          ],
          [
           "Salmonella enterica ",
           "NCTC6245"
          ],
          [
           "Klebsiella pneumoniae",
           "NCTC9667"
          ],
          [
           "Klebsiella pneumoniae",
           "NCTC9668"
          ],
          [
           "Escherichia coli",
           "NCTC8500"
          ],
          [
           "Klebsiella pneumoniae",
           "NCTC9635"
          ],
          [
           "Salmonella enterica ",
           "NCTC5713"
          ],
          [
           "Klebsiella pneumoniae",
           "NCTC9174"
          ],
          [
           "Citrobacter koseri",
           "NCTC10810"
          ],
          [
           "Klebsiella sp.",
           "NCTC9189"
          ],
          [
           "Klebsiella pneumoniae",
           "NCTC13700"
          ],
          [
           "Klebsiella pneumoniae sensu stricto",
           "NCTC5054"
          ],
          [
           "Klebsiella pneumoniae",
           "NCTC13675"
          ],
          [
           "Klebsiella pneumoniae",
           "NCTC13676"
          ],
          [
           "Klebsiella pneumoniae",
           "NCTC13684"
          ],
          [
           "Klebsiella pneumoniae",
           "NCTC13688"
          ],
          [
           "Klebsiella pneumoniae sensu stricto",
           "NCTC5051"
          ],
          [
           "Klebsiella pneumoniae",
           "NCTC13669"
          ],
          [
           "Salmonella enterica ",
           "NCTC7832"
          ],
          [
           "Klebsiella pneumoniae",
           "NCTC13696"
          ],
          [
           "Enterococcus faecalis",
           "NCTC12203"
          ],
          [
           "Klebsiella pneumoniae",
           "NCTC13697"
          ],
          [
           "Klebsiella pneumoniae",
           "NCTC13698"
          ],
          [
           "Klebsiella pneumoniae",
           "NCTC13673"
          ],
          [
           "Raoultella planticola",
           "NCTC9179"
          ],
          [
           "Klebsiella pneumoniae sensu stricto",
           "NCTC5057"
          ],
          [
           "Klebsiella pneumoniae ",
           "NCTC8883"
          ],
          [
           "Klebsiella pneumoniae sensu stricto",
           "NCTC9135"
          ],
          [
           "Klebsiella pneumoniae",
           "NCTC9145"
          ],
          [
           "Klebsiella pneumoniae",
           "NCTC9176"
          ],
          [
           "Klebsiella pneumoniae",
           "NCTC9127"
          ],
          [
           "Klebsiella pneumoniae sensu stricto",
           "NCTC9661"
          ],
          [
           "Klebsiella pneumoniae sensu stricto",
           "NCTC9495"
          ],
          [
           "Klebsiella pneumoniae ",
           "NCTC9657"
          ],
          [
           "Raoultella planticola",
           "NCTC9527"
          ],
          [
           "Klebsiella pneumoniae",
           "NCTC9652"
          ],
          [
           "Raoultella planticola",
           "NCTC9528"
          ],
          [
           "Klebsiella pneumoniae",
           "NCTC13701"
          ],
          [
           "Klebsiella aerogenes",
           "NCTC9997"
          ],
          [
           "Klebsiella pneumoniae",
           "NCTC10317"
          ],
          [
           "Raoultella ornithinolytica",
           "NCTC9155"
          ],
          [
           "Klebsiella aerogenes",
           "NCTC10006"
          ],
          [
           "Klebsiella pneumoniae",
           "NCTC13686"
          ],
          [
           "Klebsiella pneumoniae",
           "NCTC13687"
          ],
          [
           "Klebsiella edwardsii var. edwardsii",
           "NCTC8839"
          ],
          [
           "Klebsiella pneumoniae ",
           "NCTC8172"
          ],
          [
           "Enterobacter cloacae",
           "NCTC11588"
          ],
          [
           "Klebsiella pneumoniae ",
           "NCTC8895"
          ],
          [
           "Klebsiella pneumoniae",
           "NCTC13685"
          ],
          [
           "Raoultella terrigena",
           "NCTC12146"
          ],
          [
           "Klebsiella pneumoniae ",
           "NCTC5052"
          ],
          [
           "Klebsiella oxytoca",
           "NCTC10261"
          ],
          [
           "Klebsiella pneumoniae",
           "NCTC9151"
          ],
          [
           "Klebsiella pneumoniae sensu stricto",
           "NCTC9662"
          ],
          [
           "Klebsiella sp.",
           "NCTC9164"
          ],
          [
           "Klebsiella pneumoniae",
           "NCTC10213"
          ],
          [
           "Yokenella regensburgei",
           "NCTC11966"
          ],
          [
           "Klebsiella pneumoniae",
           "NCTC8849"
          ],
          [
           "Klebsiella pneumoniae sensu stricto",
           "NCTC9183"
          ],
          [
           "Yokenella regensburgei",
           "NCTC11967"
          ],
          [
           "Citrobacter amalonaticus",
           "NCTC10805"
          ],
          [
           "Yokenella regensburgei",
           "NCTC11968"
          ],
          [
           "Raoultella ornithinolytica",
           "NCTC10263"
          ],
          [
           "Klebsiella pneumoniae sensu stricto",
           "NCTC7242"
          ],
          [
           "Klebsiella pneumoniae",
           "NCTC13671"
          ],
          [
           "Citrobacter koseri",
           "NCTC11075"
          ],
          [
           "Leclercia adecarboxylata",
           "NCTC10600"
          ],
          [
           "Acinetobacter baumannii",
           "NCTC12156"
          ],
          [
           "Acinetobacter baumannii",
           "NCTC7364"
          ],
          [
           "Escherichia coli",
           "NCTC9962"
          ],
          [
           "Klebsiella pneumoniae",
           "NCTC9171"
          ],
          [
           "Enterobacter cloacae",
           "NCTC9394"
          ],
          [
           "Klebsiella pneumoniae",
           "NCTC12463"
          ],
          [
           "Klebsiella pneumoniae",
           "NCTC13694"
          ],
          [
           "Klebsiella oxytoca",
           "NCTC9186"
          ],
          [
           "Salmonella enterica ",
           "NCTC129"
          ],
          [
           "Salmonella enterica ",
           "NCTC11881"
          ],
          [
           "Klebsiella pneumoniae",
           "NCTC13465"
          ],
          [
           "Raoultella ornithinolytica",
           "NCTC8846"
          ],
          [
           "Klebsiella pneumoniae",
           "NCTC9498"
          ],
          [
           "Acinetobacter baumannii",
           "NCTC7412"
          ],
          [
           "Enterococcus faecalis",
           "NCTC12201"
          ],
          [
           "Klebsiella pneumoniae",
           "NCTC9175"
          ],
          [
           "acinetobacter genospecies 13",
           "NCTC10304"
          ],
          [
           "Yokenella regensburgei",
           "NCTC12131"
          ],
          [
           "Enterobacter amnigenus",
           "NCTC12124"
          ],
          [
           "Salmonella bongori serotype Brookfield",
           "NCTC12419"
          ],
          [
           "Salmonella enterica ",
           "NCTC8297"
          ],
          [
           "Leclercia adecarboxylata",
           "NCTC10599"
          ],
          [
           "Klebsiella pneumoniae",
           "NCTC10314"
          ],
          [
           "Klebsiella pneumoniae ",
           "NCTC9504"
          ],
          [
           "Enterococcus hirae",
           "NCTC12367"
          ],
          [
           "Klebsiella pneumoniae",
           "NCTC9177"
          ],
          [
           "Klebsiella oxytoca",
           "NCTC8167"
          ],
          [
           "Kluyvera ascorbata",
           "NCTC9737"
          ],
          [
           "Salmonella enterica ",
           "NCTC8258"
          ],
          [
           "Escherichia vulneris",
           "NCTC12130"
          ],
          [
           "Kluyvera cryocrescens",
           "NCTC10483"
          ],
          [
           "Staphylococcus aureus",
           "NCTC11939"
          ],
          [
           "Klebsiella pneumoniae ",
           "NCTC9494"
          ],
          [
           "Raoultella ornithinolytica",
           "NCTC12158"
          ],
          [
           "Cedecea lapagei",
           "NCTC11466"
          ],
          [
           "Klebsiella pneumoniae",
           "NCTC9178"
          ],
          [
           "Enterobacter intermedius",
           "NCTC12125"
          ],
          [
           "Klebsiella pneumoniae",
           "NCTC9161"
          ],
          [
           "Klebsiella pneumoniae ",
           "NCTC5046"
          ],
          [
           "Klebsiella pneumoniae sensu stricto",
           "NCTC204"
          ],
          [
           "Klebsiella pneumoniae",
           "NCTC9637"
          ],
          [
           "Klebsiella pneumoniae ",
           "NCTC10313"
          ],
          [
           "Staphylococcus aureus",
           "NCTC9944"
          ],
          [
           "Enterobacter cloacae",
           "NCTC10005"
          ],
          [
           "Staphylococcus aureus",
           "NCTC10988"
          ],
          [
           "Cronobacter universalis",
           "NCTC9529"
          ],
          [
           "Acinetobacter sp.",
           "NCTC8102"
          ],
          [
           "Cronobacter sakazakii",
           "NCTC8155"
          ],
          [
           "Klebsiella pneumoniae ",
           "NCTC5050"
          ],
          [
           "Buttiauxella agrestis",
           "NCTC12119"
          ],
          [
           "Cronobacter sakazakii",
           "NCTC9238"
          ],
          [
           "Klebsiella pneumoniae ",
           "NCTC9645"
          ],
          [
           "Klebsiella oxytoca",
           "NCTC9149"
          ],
          [
           "Enterococcus faecium",
           "NCTC13923"
          ],
          [
           "Staphylococcus aureus",
           "NCTC10724"
          ],
          [
           "Enterobacter asburiae",
           "NCTC12123"
          ],
          [
           "Klebsiella pneumoniae ",
           "NCTC5047"
          ],
          [
           "Cronobacter sakazakii",
           "NCTC11467"
          ],
          [
           "Enterococcus faecalis",
           "NCTC13779"
          ],
          [
           "Staphylococcus epidermidis",
           "NCTC11964"
          ],
          [
           "Staphylococcus aureus",
           "NCTC13812"
          ],
          [
           "Klebsiella oxytoca",
           "NCTC11355"
          ],
          [
           "Staphylococcus aureus",
           "NCTC10703"
          ],
          [
           "Salmonella enterica ",
           "NCTC6754"
          ],
          [
           "Klebsiella pneumoniae ",
           "NCTC5053"
          ],
          [
           "Enterobacter taylorae",
           "NCTC12126"
          ],
          [
           "Raoultella ornithinolytica",
           "NCTC9152"
          ],
          [
           "Staphylococcus aureus",
           "NCTC11940"
          ],
          [
           "Providencia stuartii",
           "NCTC12257"
          ],
          [
           "Klebsiella pneumoniae ",
           "NCTC9601"
          ],
          [
           "Staphylococcus aureus",
           "NCTC13811"
          ],
          [
           "Klebsiella pneumoniae",
           "NCTC9617"
          ],
          [
           "Staphylococcus aureus",
           "NCTC10035"
          ],
          [
           "Citrobacter koseri",
           "NCTC10786"
          ],
          [
           "Escherichia hermannii",
           "NCTC12129"
          ],
          [
           "Serratia marcescens",
           "NCTC10211"
          ],
          [
           "Staphylococcus aureus",
           "NCTC12232"
          ],
          [
           "Serratia liquefaciens",
           "NCTC10861"
          ],
          [
           "Staphylococcus aureus",
           "NCTC13552"
          ],
          [
           "Pluralibacter gergoviae",
           "NCTC11434"
          ],
          [
           "Pantoea agglomerans",
           "NCTC10500"
          ],
          [
           "Shimwellia blattae",
           "NCTC10965"
          ],
          [
           "Shimwellia blattae",
           "NCTC12127"
          ],
          [
           "Serratia proteamaculans ",
           "NCTC11544"
          ],
          [
           "Enterococcus faecium",
           "NCTC12202"
          ],
          [
           "Enterococcus faecalis",
           "NCTC13780"
          ],
          [
           "Morganella morganii",
           "NCTC12286"
          ],
          [
           "Raoultella terrigena",
           "NCTC9185"
          ],
          [
           "Staphylococcus aureus",
           "NCTC13434"
          ],
          [
           "Hafnia alvei",
           "NCTC8535"
          ],
          [
           "Yersinia canariae",
           "NCTC14382"
          ],
          [
           "Staphylococcus aureus",
           "NCTC11561"
          ],
          [
           "Staphylococcus aureus",
           "NCTC12233"
          ],
          [
           "Pantoea agglomerans",
           "NCTC10601"
          ],
          [
           "Klebsiella sp.",
           "NCTC9140"
          ],
          [
           "Salmonella enterica ",
           "NCTC8261"
          ],
          [
           "Staphylococcus aureus",
           "NCTC10442"
          ],
          [
           "Staphylococcus aureus",
           "NCTC8766"
          ],
          [
           "Serratia marcescens",
           "NCTC13920"
          ],
          [
           "Staphylococcus aureus",
           "NCTC1803"
          ],
          [
           "Serratia plymuthica",
           "NCTC8015"
          ],
          [
           "Hafnia alvei",
           "NCTC6578"
          ],
          [
           "Neisseria gonorrhoeae",
           "NCTC13818"
          ],
          [
           "Klebsiella aerogenes",
           "NCTC9646"
          ],
          [
           "Serratia grimesii",
           "NCTC11543"
          ],
          [
           "Staphylococcus aureus",
           "NCTC13435"
          ],
          [
           "Yersinia enterocolitica",
           "NCTC10938"
          ],
          [
           "Yersinia ruckeri",
           "NCTC10476"
          ],
          [
           "Staphylococcus aureus",
           "NCTC8004"
          ],
          [
           "Staphylococcus aureus",
           "NCTC13616"
          ],
          [
           "Yersinia enterocolitica",
           "NCTC10460"
          ],
          [
           "Staphylococcus aureus",
           "NCTC10654"
          ],
          [
           "Serratia ficaria",
           "NCTC12148"
          ],
          [
           "Staphylococcus aureus",
           "NCTC11963"
          ],
          [
           "Salmonella sp.",
           "NCTC7297"
          ],
          [
           "Staphylococcus aureus",
           "NCTC5656"
          ],
          [
           "Achromobacter xylosoxidans ",
           "NCTC10808"
          ],
          [
           "Serratia rubidaea",
           "NCTC10036"
          ],
          [
           "Staphylococcus argenteus",
           "NCTC13711"
          ],
          [
           "Staphylococcus aureus",
           "NCTC6571"
          ],
          [
           "Staphylococcus aureus",
           "NCTC10652"
          ],
          [
           "Staphylococcus aureus",
           "NCTC3750"
          ],
          [
           "Staphylococcus aureus",
           "NCTC5655"
          ],
          [
           "Staphylococcus aureus",
           "NCTC7791"
          ],
          [
           "Staphylococcus aureus",
           "NCTC10443"
          ],
          [
           "Providencia stuartii",
           "NCTC10835"
          ],
          [
           "Staphylococcus aureus",
           "NCTC4136"
          ],
          [
           "Klebsiella sp.",
           "NCTC9128"
          ],
          [
           "Serratia rubidaea",
           "NCTC10848"
          ],
          [
           "Staphylococcus hyicus",
           "NCTC8294"
          ],
          [
           "Yersinia intermedia",
           "NCTC11469"
          ],
          [
           "Staphylococcus aureus",
           "NCTC9369"
          ],
          [
           "Staphylococcus aureus",
           "NCTC7446"
          ],
          [
           "Yersinia kristensenii",
           "NCTC11471"
          ],
          [
           "Serratia marcescens",
           "NCTC8900"
          ],
          [
           "Staphylococcus aureus",
           "NCTC11965"
          ],
          [
           "Edwardsiella hoshinae",
           "NCTC12121"
          ],
          [
           "Vibrio alginolyticus",
           "NCTC12160"
          ],
          [
           "Staphylococcus epidermidis",
           "NCTC13924"
          ],
          [
           "Staphylococcus aureus",
           "NCTC8507"
          ],
          [
           "Staphylococcus aureus",
           "NCTC7988"
          ],
          [
           "Staphylococcus aureus",
           "NCTC7445"
          ],
          [
           "Staphylococcus aureus",
           "NCTC8530"
          ],
          [
           "Staphylococcus aureus",
           "NCTC9555"
          ],
          [
           "Staphylococcus aureus",
           "NCTC8531"
          ],
          [
           "Achromobacter xylosoxidans ",
           "NCTC10807"
          ],
          [
           "Staphylococcus aureus",
           "NCTC8317"
          ],
          [
           "Proteus mirabilis",
           "NCTC4199"
          ],
          [
           "Yersinia pseudotuberculosis",
           "NCTC1101"
          ],
          [
           "Neisseria gonorrhoeae",
           "NCTC13805"
          ],
          [
           "Staphylococcus aureus",
           "NCTC7361"
          ],
          [
           "Streptococcus dysgalactiae ",
           "NCTC5969"
          ],
          [
           "Proteus vulgaris",
           "NCTC10376"
          ],
          [
           "Yersinia pseudotuberculosis",
           "NCTC10217"
          ],
          [
           "Paenibacillus polymyxa",
           "NCTC4744"
          ],
          [
           "Neisseria gonorrhoeae",
           "NCTC13820"
          ],
          [
           "Pantoea agglomerans",
           "NCTC9381"
          ],
          [
           "Yersinia pseudotuberculosis",
           "NCTC10551"
          ],
          [
           "Neisseria gonorrhoeae",
           "NCTC13800"
          ],
          [
           "Neisseria gonorrhoeae",
           "NCTC13795"
          ],
          [
           "Neisseria gonorrhoeae",
           "NCTC13821"
          ],
          [
           "Staphylococcus aureus",
           "NCTC10702"
          ],
          [
           "Yersinia pestis",
           "NCTC144"
          ],
          [
           "Morganella morganii",
           "NCTC232"
          ],
          [
           "Staphylococcus aureus",
           "NCTC7972"
          ],
          [
           "Staphylococcus aureus",
           "NCTC2669"
          ],
          [
           "Staphylococcus aureus",
           "NCTC9553"
          ],
          [
           "Staphylococcus aureus",
           "NCTC7856"
          ],
          [
           "Staphylococcus aureus",
           "NCTC8178"
          ],
          [
           "Yersinia pseudotuberculosis",
           "NCTC3571"
          ],
          [
           "Staphylococcus aureus",
           "NCTC7718"
          ],
          [
           "Serratia rubidaea",
           "NCTC9419"
          ],
          [
           "Providencia heimbachae",
           "NCTC12003"
          ],
          [
           "Staphylococcus aureus",
           "NCTC10655"
          ],
          [
           "Staphylococcus aureus",
           "NCTC7712"
          ],
          [
           "Staphylococcus aureus",
           "NCTC9393"
          ],
          [
           "Yersinia pseudotuberculosis",
           "NCTC8480"
          ],
          [
           "Proteus vulgaris",
           "NCTC401"
          ],
          [
           "Staphylococcus aureus",
           "NCTC7485"
          ],
          [
           "Providencia stuartii",
           "NCTC11800"
          ],
          [
           "Neisseria gonorrhoeae",
           "NCTC13481"
          ],
          [
           "Neisseria gonorrhoeae",
           "NCTC13802"
          ],
          [
           "Staphylococcus aureus",
           "NCTC10833"
          ],
          [
           "Yersinia pseudotuberculosis",
           "NCTC10275"
          ],
          [
           "Staphylococcus aureus",
           "NCTC8765"
          ],
          [
           "Staphylococcus aureus",
           "NCTC6507"
          ],
          [
           "Staphylococcus aureus",
           "NCTC5657"
          ],
          [
           "Staphylococcus aureus",
           "NCTC8726"
          ],
          [
           "Staphylococcus aureus",
           "NCTC6137"
          ],
          [
           "Staphylococcus aureus",
           "NCTC6135"
          ],
          [
           "Staphylococcus aureus",
           "NCTC10649"
          ],
          [
           "Staphylococcus aureus",
           "NCTC6966"
          ],
          [
           "Morganella morganii",
           "NCTC12028"
          ],
          [
           "Staphylococcus aureus",
           "NCTC6133"
          ],
          [
           "Shewanella putrefaciens",
           "NCTC12093"
          ],
          [
           "Staphylococcus aureus",
           "NCTC5663"
          ],
          [
           "Proteus mirabilis",
           "NCTC12446"
          ],
          [
           "Yersinia pseudotuberculosis",
           "NCTC8580"
          ],
          [
           "Proteus mirabilis",
           "NCTC12441"
          ],
          [
           "Staphylococcus aureus",
           "NCTC11962"
          ],
          [
           "Yersinia pestis",
           "NCTC5923"
          ],
          [
           "Yersinia frederiksenii",
           "NCTC11470"
          ],
          [
           "Staphylococcus aureus",
           "NCTC10656"
          ],
          [
           "Edwardsiella tarda",
           "NCTC10397"
          ],
          [
           "Edwardsiella ictaluri",
           "NCTC12122"
          ],
          [
           "Proteus mirabilis",
           "NCTC60"
          ],
          [
           "Staphylococcus aureus",
           "NCTC6136"
          ],
          [
           "Neisseria gonorrhoeae",
           "NCTC13801"
          ],
          [
           "Vibrio parahaemolyticus",
           "NCTC10903"
          ],
          [
           "Yersinia pseudotuberculosis",
           "NCTC10278"
          ],
          [
           "Neisseria gonorrhoeae",
           "NCTC13798"
          ],
          [
           "Proteus mirabilis",
           "NCTC6197"
          ],
          [
           "Edwardsiella tarda",
           "NCTC10396"
          ],
          [
           "Staphylococcus aureus",
           "NCTC7878"
          ],
          [
           "Staphylococcus aureus",
           "NCTC9556"
          ],
          [
           "Staphylococcus aureus",
           "NCTC9546"
          ],
          [
           "Staphylococcus aureus",
           "NCTC6134"
          ],
          [
           "Hafnia alvei",
           "NCTC8105"
          ],
          [
           "Providencia rustigianii",
           "NCTC8113"
          ],
          [
           "Vibrio parahaemolyticus",
           "NCTC10884"
          ],
          [
           "Staphylococcus aureus",
           "NCTC6131"
          ],
          [
           "Plesiomonas shigelloides",
           "NCTC10364"
          ],
          [
           "Pseudomonas chlororaphis",
           "NCTC10686"
          ],
          [
           "Morganella morganii",
           "NCTC235"
          ],
          [
           "Staphylococcus aureus",
           "NCTC10657"
          ],
          [
           "Pragia fontium",
           "NCTC12285"
          ],
          [
           "Morganella morganii",
           "NCTC12289"
          ],
          [
           "Mycobacterium smegmatis",
           "NCTC7017"
          ],
          [
           "Stenotrophomonas maltophilia",
           "NCTC10257"
          ],
          [
           "Morganella morganii",
           "NCTC12358"
          ],
          [
           "Stenotrophomonas maltophilia",
           "NCTC10258"
          ],
          [
           "Staphylococcus aureus",
           "NCTC7415"
          ],
          [
           "Cedecea neteri",
           "NCTC12120"
          ],
          [
           "Staphylococcus aureus",
           "NCTC11150"
          ],
          [
           "Neisseria gonorrhoeae",
           "NCTC13484"
          ],
          [
           "Staphylococcus aureus",
           "NCTC7428"
          ],
          [
           "Pragia fontium",
           "NCTC12284"
          ],
          [
           "Burkholderia cenocepacia",
           "NCTC13417"
          ],
          [
           "Staphylococcus aureus",
           "NCTC8532"
          ],
          [
           "Staphylococcus aureus",
           "NCTC8325"
          ],
          [
           "Stenotrophomonas maltophilia",
           "NCTC10498"
          ],
          [
           "Staphylococcus aureus",
           "NCTC9309"
          ],
          [
           "Staphylococcus aureus",
           "NCTC10399"
          ],
          [
           "Serratia odorifera",
           "NCTC11214"
          ],
          [
           "Staphylococcus aureus",
           "NCTC9611"
          ],
          [
           "Staphylococcus aureus",
           "NCTC9612"
          ],
          [
           "Staphylococcus aureus",
           "NCTC9613"
          ],
          [
           "Staphylococcus aureus",
           "NCTC8723"
          ],
          [
           "Staphylococcus aureus",
           "NCTC10804"
          ],
          [
           "Staphylococcus aureus",
           "NCTC8724"
          ],
          [
           "Staphylococcus aureus",
           "NCTC8725"
          ],
          [
           "Staphylococcus aureus",
           "NCTC9614"
          ],
          [
           "Pseudomonas chlororaphis",
           "NCTC7357"
          ],
          [
           "Yersinia enterocolitica",
           "NCTC10462"
          ],
          [
           "Staphylococcus jettensis",
           "NCTC13830"
          ],
          [
           "Aeromonas hydrophila",
           "NCTC8049"
          ],
          [
           "Bacillus subtilis",
           "NCTC3610"
          ],
          [
           "Staphylococcus aureus",
           "NCTC7447"
          ],
          [
           "Vibrio harveyi",
           "NCTC11318"
          ],
          [
           "Leminorella grimontii",
           "NCTC12152"
          ],
          [
           "Leminorella richardii",
           "NCTC12151"
          ],
          [
           "Staphylococcus aureus",
           "NCTC9547"
          ],
          [
           "Providencia rettgeri",
           "NCTC7476"
          ],
          [
           "Actinobacillus pleuropneumoniae",
           "NCTC11383"
          ],
          [
           "Staphylococcus aureus",
           "NCTC5658"
          ],
          [
           "Staphylococcus aureus",
           "NCTC7121"
          ],
          [
           "Burkholderia cepacia",
           "NCTC10661"
          ],
          [
           "Staphylococcus aureus",
           "NCTC9552"
          ],
          [
           "Vibrio alginolyticus",
           "NCTC10675"
          ],
          [
           "Staphylococcus schweitzeri",
           "NCTC13712"
          ],
          [
           "Providencia rustigianii",
           "NCTC12026"
          ],
          [
           "Staphylococcus aureus",
           "NCTC10344"
          ],
          [
           "Yersinia pseudotuberculosis",
           "NCTC1103"
          ],
          [
           "Streptococcus pneumoniae",
           "NCTC13754"
          ],
          [
           "Staphylococcus aureus",
           "NCTC13758"
          ],
          [
           "Providencia friedericiana",
           "NCTC11667"
          ],
          [
           "Streptococcus pyogenes",
           "NCTC13740"
          ],
          [
           "Burkholderia cepacia",
           "NCTC10743"
          ],
          [
           "Staphylococcus aureus",
           "NCTC12035"
          ],
          [
           "Plesiomonas shigelloides",
           "NCTC10360"
          ],
          [
           "Staphylococcus aureus",
           "NCTC10345"
          ],
          [
           "Staphylococcus aureus",
           "NCTC8399"
          ],
          [
           "Staphylococcus aureus",
           "NCTC9752"
          ],
          [
           "Budvicia aquatica",
           "NCTC12282"
          ],
          [
           "Mycobacterium smegmatis",
           "NCTC8159"
          ],
          [
           "Neisseria gonorrhoeae",
           "NCTC13483"
          ],
          [
           "Staphylococcus aureus",
           "NCTC10788"
          ],
          [
           "Plesiomonas shigelloides",
           "NCTC10363"
          ],
          [
           "Neisseria meningitidis",
           "NCTC3372"
          ],
          [
           "Actinobacillus rossii",
           "NCTC10801"
          ],
          [
           "Providencia rustigianii",
           "NCTC6933"
          ],
          [
           "Staphylococcus epidermidis",
           "NCTC12100"
          ],
          [
           "Neisseria meningitidis",
           "NCTC8554"
          ],
          [
           "Staphylococcus aureus",
           "NCTC3761"
          ],
          [
           "Streptococcus pneumoniae",
           "NCTC13735"
          ],
          [
           "Streptococcus pneumoniae",
           "NCTC13734"
          ],
          [
           "Neisseria meningitidis",
           "NCTC8249"
          ],
          [
           "Neisseria gonorrhoeae",
           "NCTC12700"
          ],
          [
           "Neisseria meningitidis",
           "NCTC10026"
          ],
          [
           "Staphylococcus aureus",
           "NCTC4137"
          ],
          [
           "Staphylococcus aureus",
           "NCTC4163"
          ],
          [
           "Proteus mirabilis",
           "NCTC10975"
          ],
          [
           "Neisseria gonorrhoeae",
           "NCTC13799"
          ],
          [
           "Achromobacter insolitus",
           "NCTC13520"
          ],
          [
           "Acinetobacter baumannii",
           "NCTC7422"
          ],
          [
           "Proteus penneri",
           "NCTC12737"
          ],
          [
           "Neisseria meningitidis",
           "NCTC10025"
          ],
          [
           "Haemophilus influenzae",
           "NCTC12699"
          ],
          [
           "Staphylococcus aureus",
           "NCTC5660"
          ],
          [
           "Pseudomonas synxantha",
           "NCTC10696"
          ],
          [
           "Providencia alcalifaciens",
           "NCTC6344"
          ],
          [
           "Neisseria meningitidis",
           "NCTC6455"
          ],
          [
           "Staphylococcus aureus",
           "NCTC5664"
          ],
          [
           "Mycobacterium fortuitum",
           "NCTC1542"
          ],
          [
           "Providencia alcalifaciens",
           "NCTC10286"
          ],
          [
           "Staphylococcus aureus",
           "NCTC9551"
          ],
          [
           "Clostridium difficile",
           "NCTC13749"
          ],
          [
           "Pseudomonas mucidolens",
           "NCTC8068"
          ],
          [
           "Streptococcus pneumoniae",
           "NCTC12495"
          ],
          [
           "Enterococcus gallinarum",
           "NCTC12359"
          ],
          [
           "Vibrio fluvialis",
           "NCTC11327"
          ],
          [
           "Providencia rettgeri",
           "NCTC11801"
          ],
          [
           "Haemophilus influenzae",
           "NCTC8468"
          ],
          [
           "Providencia rustigianii",
           "NCTC11802"
          ],
          [
           "Corynebacterium urealyticum",
           "NCTC12011"
          ],
          [
           "Moellerella wisconsensis",
           "NCTC12132"
          ],
          [
           "Aeromonas caviae",
           "NCTC12244"
          ],
          [
           "Pseudomonas taetrolens",
           "NCTC10697"
          ],
          [
           "Pseudomonas taetrolens",
           "NCTC8067"
          ],
          [
           "Streptococcus pneumoniae",
           "NCTC12140"
          ],
          [
           "Haemophilus influenzae",
           "NCTC11931"
          ],
          [
           "Enterococcus gallinarum",
           "NCTC12360"
          ],
          [
           "Neisseria meningitidis",
           "NCTC9714"
          ],
          [
           "Burkholderia pseudomallei",
           "NCTC13392"
          ],
          [
           "Burkholderia pseudomallei",
           "NCTC6700"
          ],
          [
           "Bacillus subtilis ",
           "NCTC10400"
          ],
          [
           "Streptococcus pneumoniae",
           "NCTC13753"
          ],
          [
           "Ewingella americana",
           "NCTC12157"
          ],
          [
           "Vibrio furnissii",
           "NCTC11218"
          ],
          [
           "Pseudomonas fluorescens",
           "NCTC9428"
          ],
          [
           "Pseudomonas fluorescens",
           "NCTC10038"
          ],
          [
           "Acinetobacter haemolyticus ",
           "NCTC10305"
          ],
          [
           "Acinetobacter haemolyticus",
           "NCTC10306"
          ],
          [
           "Elizabethkingia meningoseptica",
           "NCTC11305"
          ],
          [
           "Corynebacterium jeikeium",
           "NCTC11913"
          ],
          [
           "Avibacterium avium",
           "NCTC11297"
          ],
          [
           "Enterococcus faecalis",
           "NCTC12697"
          ],
          [
           "Proteus mirabilis",
           "NCTC11938"
          ],
          [
           "Aeromonas salmonicida",
           "NCTC10402"
          ],
          [
           "Neisseria gonorrhoeae",
           "NCTC10928"
          ],
          [
           "Achromobacter denitrificans",
           "NCTC8582"
          ],
          [
           "Haemophilus influenzae",
           "NCTC8455"
          ],
          [
           "Vibrio cholerae",
           "NCTC5395"
          ],
          [
           "Enterococcus gallinarum",
           "NCTC8736"
          ],
          [
           "Tatumella ptyseos",
           "NCTC11468"
          ],
          [
           "Haemophilus influenzae",
           "NCTC11426"
          ],
          [
           "Haemophilus aegyptius",
           "NCTC8502"
          ],
          [
           "Stenotrophomonas maltophilia",
           "NCTC10259"
          ],
          [
           "Neisseria lactamica",
           "NCTC10618"
          ],
          [
           "Elizabethkingia meningoseptica",
           "NCTC10016"
          ],
          [
           "Vibrio vulnificus",
           "NCTC13647"
          ],
          [
           "Stenotrophomonas maltophilia",
           "NCTC10499"
          ],
          [
           "Acinetobacter haemolyticus",
           "NCTC12155"
          ],
          [
           "Streptococcus pneumoniae",
           "NCTC10319"
          ],
          [
           "Brevibacillus brevis",
           "NCTC2611"
          ],
          [
           "Vibrio vulnificus",
           "NCTC11067"
          ],
          [
           "Vibrio vulnificus",
           "NCTC11066"
          ],
          [
           "Haemophilus influenzae",
           "NCTC8143"
          ],
          [
           "Haemophilus influenzae biotype aegyptius",
           "NCTC8135"
          ],
          [
           "Mycobacterium marinum",
           "NCTC2275"
          ],
          [
           "Haemophilus aegyptius",
           "NCTC8134"
          ],
          [
           "Streptococcus pyogenes",
           "NCTC13737"
          ],
          [
           "Elizabethkingia meningoseptica",
           "NCTC10588"
          ],
          [
           "Ochrobactrum anthropi",
           "NCTC12168"
          ],
          [
           "Chryseobacterium meningosepticum",
           "NCTC10586"
          ],
          [
           "Shewanella putrefaciens",
           "NCTC10738"
          ],
          [
           "Streptococcus gallolyticus ",
           "NCTC13784"
          ],
          [
           "Pseudomonas fluorescens",
           "NCTC10392"
          ],
          [
           "Haemophilus influenzae",
           "NCTC12194"
          ],
          [
           "Vibrio cholerae non 0:1",
           "NCTC30"
          ],
          [
           "Staphylococcus arlettae",
           "NCTC12413"
          ],
          [
           "Photobacterium damselae",
           "NCTC11646"
          ],
          [
           "Pseudomonas luteola",
           "NCTC11842"
          ],
          [
           "Bacillus cereus",
           "NCTC7464"
          ],
          [
           "Photobacterium damselae",
           "NCTC11648"
          ],
          [
           "Neisseria gonorrhoeae",
           "NCTC8254"
          ],
          [
           "Vibrio cholerae biotype el tor",
           "NCTC9420"
          ],
          [
           "Photobacterium damselae",
           "NCTC11647"
          ],
          [
           "Streptococcus pneumoniae",
           "NCTC7466"
          ],
          [
           "Avibacterium paragallinarum",
           "NCTC11296"
          ],
          [
           "Shewanella baltica",
           "NCTC10735"
          ],
          [
           "Neisseria lactamica",
           "NCTC10616"
          ],
          [
           "Enterococcus faecalis",
           "NCTC8131"
          ],
          [
           "Listeria monocytogenes",
           "NCTC10357"
          ],
          [
           "Enterococcus faecalis",
           "NCTC8132"
          ],
          [
           "Pseudomonas mendocina",
           "NCTC10899"
          ],
          [
           "Streptococcus pneumoniae",
           "NCTC7465"
          ],
          [
           "Pseudomonas mendocina",
           "NCTC10898"
          ],
          [
           "Enterococcus faecalis",
           "NCTC10927"
          ],
          [
           "Enterococcus faecalis",
           "NCTC8745"
          ],
          [
           "Aggregatibacter segnis",
           "NCTC10977"
          ],
          [
           "Pseudomonas putida",
           "NCTC912"
          ],
          [
           "Pseudomonas stutzeri",
           "NCTC10473"
          ],
          [
           "Staphylococcus epidermidis",
           "NCTC10519"
          ],
          [
           "Ralstonia mannitolilytica",
           "NCTC10894"
          ],
          [
           "Pseudomonas mendocina",
           "NCTC10897"
          ],
          [
           "Campylobacter jejuni ",
           "NCTC10983"
          ],
          [
           "Shewanella putrefaciens",
           "NCTC10737"
          ],
          [
           "Listeria monocytogenes",
           "NCTC10887"
          ],
          [
           "Ralstonia mannitolilytica",
           "NCTC10893"
          ],
          [
           "Campylobacter jejuni ",
           "NCTC11168"
          ],
          [
           "Enterococcus faecalis",
           "NCTC8732"
          ],
          [
           "Staphylococcus epidermidis",
           "NCTC11047"
          ],
          [
           "Haemophilus haemolyticus",
           "NCTC10839"
          ],
          [
           "Aggregatibacter aphrophilus",
           "NCTC11096"
          ],
          [
           "Pseudomonas alcaligenes",
           "NCTC10367"
          ],
          [
           "Ralstonia pickettii",
           "NCTC11149"
          ],
          [
           "Enterococcus faecalis",
           "NCTC8176"
          ],
          [
           "Haemophilus paragallinarum",
           "NCTC10926"
          ],
          [
           "Avibacterium gallinarum",
           "NCTC11188"
          ],
          [
           "Enterococcus faecalis",
           "NCTC8175"
          ],
          [
           "Streptococcus mitis",
           "NCTC11189"
          ],
          [
           "Chryseobacterium indologenes",
           "NCTC10796"
          ],
          [
           "Sphingomonas paucimobilis",
           "NCTC11032"
          ],
          [
           "Pseudomonas putida",
           "NCTC7914"
          ],
          [
           "Enterococcus faecalis",
           "NCTC8734"
          ],
          [
           "Enterococcus faecalis",
           "NCTC8727"
          ],
          [
           "Enterococcus faecium",
           "NCTC7379"
          ],
          [
           "Bacillus licheniformis",
           "NCTC7589"
          ],
          [
           "Pseudomonas lemoignei",
           "NCTC10937"
          ],
          [
           "Acinetobacter junii",
           "NCTC10307"
          ],
          [
           "Listeria monocytogenes",
           "NCTC7973"
          ],
          [
           "Haemophilus haemolyticus",
           "NCTC10659"
          ],
          [
           "Listeria monocytogenes",
           "NCTC7974"
          ],
          [
           "Vibrio cholerae biotype el tor",
           "NCTC8457"
          ],
          [
           "Enterococcus faecalis",
           "NCTC775"
          ],
          [
           "Enterococcus faecalis",
           "NCTC8729"
          ],
          [
           "Streptococcus pyogenes",
           "NCTC13744"
          ],
          [
           "Aggregatibacter aphrophilus",
           "NCTC5906"
          ],
          [
           "Streptococcus pneumoniae",
           "NCTC11891"
          ],
          [
           "Streptococcus pneumoniae",
           "NCTC11895"
          ],
          [
           "Avibacterium volantium",
           "NCTC3438"
          ],
          [
           "Streptococcus pneumoniae",
           "NCTC11897"
          ],
          [
           "Streptococcus pneumoniae",
           "NCTC11898"
          ],
          [
           "Streptococcus pneumoniae",
           "NCTC11899"
          ],
          [
           "Streptococcus pneumoniae",
           "NCTC11901"
          ],
          [
           "Campylobacter jejuni",
           "NCTC13257"
          ],
          [
           "Pseudomonas fluorescens",
           "NCTC3756"
          ],
          [
           "Streptococcus pneumoniae",
           "NCTC11902"
          ],
          [
           "Streptococcus pneumoniae",
           "NCTC11903"
          ],
          [
           "Streptococcus pneumoniae",
           "NCTC11904"
          ],
          [
           "Streptococcus pneumoniae",
           "NCTC11905"
          ],
          [
           "Streptococcus pneumoniae",
           "NCTC11907"
          ],
          [
           "Streptococcus pneumoniae",
           "NCTC11908"
          ],
          [
           "Corynebacterium jeikeium",
           "NCTC11917"
          ],
          [
           "Campylobacter jejuni ",
           "NCTC11925"
          ],
          [
           "Listeria monocytogenes",
           "NCTC12480"
          ],
          [
           "Burkholderia mallei",
           "NCTC10247"
          ],
          [
           "Legionella quinlivanii",
           "NCTC12433"
          ],
          [
           "Staphylococcus equorum",
           "NCTC12414"
          ],
          [
           "Ralstonia mannitolilytica",
           "NCTC12379"
          ],
          [
           "Legionella worsleiensis",
           "NCTC12377"
          ],
          [
           "Legionella pneumophila ",
           "NCTC12273"
          ],
          [
           "Streptococcus pneumoniae",
           "NCTC11893"
          ],
          [
           "Streptococcus pneumoniae",
           "NCTC11890"
          ],
          [
           "Listeria innocua",
           "NCTC12210"
          ],
          [
           "Streptococcus pneumoniae",
           "NCTC11889"
          ],
          [
           "Streptococcus pyogenes",
           "NCTC13736"
          ],
          [
           "Streptococcus pyogenes",
           "NCTC13742"
          ],
          [
           "Clostridium difficile",
           "NCTC13746"
          ],
          [
           "Clostridium difficile",
           "NCTC13747"
          ],
          [
           "Clostridium difficile",
           "NCTC13748"
          ],
          [
           "Clostridium difficile",
           "NCTC13750"
          ],
          [
           "Enterococcus faecalis",
           "NCTC13705"
          ],
          [
           "Streptococcus pneumoniae",
           "NCTC13755"
          ],
          [
           "Burkholderia mallei",
           "NCTC10229"
          ],
          [
           "Streptococcus infantis",
           "NCTC13771"
          ],
          [
           "Streptococcus oligofermentans",
           "NCTC13807"
          ],
          [
           "Aggregatibacter sp.",
           "NCTC11607"
          ],
          [
           "Campylobacter jejuni ",
           "NCTC11827"
          ],
          [
           "Bacillus licheniformis",
           "NCTC2120"
          ],
          [
           "Neisseria gonorrhoeae",
           "NCTC13477"
          ],
          [
           "Janthinobacterium lividum",
           "NCTC9796"
          ],
          [
           "Streptococcus dysgalactiae",
           "NCTC10238"
          ],
          [
           "Enterococcus faecalis",
           "NCTC2705"
          ],
          [
           "Haemophilus influenzae",
           "NCTC11872"
          ],
          [
           "Haemophilus influenzae",
           "NCTC11873"
          ],
          [
           "Streptococcus dysgalactiae ",
           "NCTC11557"
          ],
          [
           "Streptococcus pneumoniae",
           "NCTC11886"
          ],
          [
           "Streptococcus pneumoniae",
           "NCTC11888"
          ],
          [
           "Legionella pneumophila ",
           "NCTC12272"
          ],
          [
           "Corynebacterium jeikeium",
           "NCTC11914"
          ],
          [
           "Streptococcus pyogenes",
           "NCTC12057"
          ],
          [
           "Legionella pneumophila",
           "NCTC11986"
          ],
          [
           "Streptococcus pyogenes",
           "NCTC12069"
          ],
          [
           "Chryseobacterium lactis",
           "NCTC11390"
          ],
          [
           "Vibrio mimicus",
           "NCTC11435"
          ],
          [
           "Haemophilus influenzae",
           "NCTC11394"
          ],
          [
           "Legionella pneumophila",
           "NCTC12025"
          ],
          [
           "Chryseobacterium gleum",
           "NCTC11432"
          ],
          [
           "Legionella pneumophila",
           "NCTC12008"
          ],
          [
           "Legionella gormanii",
           "NCTC11401"
          ],
          [
           "Oligella ureolytica",
           "NCTC11997"
          ],
          [
           "Listeria monocytogenes",
           "NCTC11994"
          ],
          [
           "Streptococcus pyogenes",
           "NCTC12061"
          ],
          [
           "Streptococcus pyogenes",
           "NCTC12050"
          ],
          [
           "Streptococcus pyogenes",
           "NCTC12047"
          ],
          [
           "Streptococcus pyogenes",
           "NCTC8370"
          ],
          [
           "Streptococcus pyogenes",
           "NCTC12052"
          ],
          [
           "Streptococcus pyogenes",
           "NCTC8320"
          ],
          [
           "Streptococcus pyogenes",
           "NCTC8326"
          ],
          [
           "Streptococcus pyogenes",
           "NCTC12051"
          ],
          [
           "Streptococcus pyogenes",
           "NCTC8330"
          ],
          [
           "Streptococcus pyogenes",
           "NCTC8332"
          ],
          [
           "Pasteurella multocida",
           "NCTC8489"
          ],
          [
           "Brucella melitensis",
           "NCTC8334"
          ],
          [
           "Actinobacillus lignieresii",
           "NCTC10568"
          ],
          [
           "Pasteurella multocida",
           "NCTC10323"
          ],
          [
           "Campylobacter jejuni ",
           "NCTC11848"
          ],
          [
           "Haemophilus parahaemolyticus",
           "NCTC8479"
          ],
          [
           "Pasteurella bettyae",
           "NCTC10535"
          ],
          [
           "Listeria welshimeri",
           "NCTC11857"
          ],
          [
           "Streptococcus pyogenes",
           "NCTC12045"
          ],
          [
           "Actinobacillus ureae",
           "NCTC10220"
          ],
          [
           "Streptococcus pyogenes",
           "NCTC12048"
          ],
          [
           "Streptococcus pyogenes",
           "NCTC12046"
          ],
          [
           "Actinobacillus pleuropneumoniae",
           "NCTC10976"
          ],
          [
           "Bacteroides fragilis",
           "NCTC9343"
          ],
          [
           "Streptococcus pyogenes",
           "NCTC8318"
          ],
          [
           "Pasteurella mairii",
           "NCTC10699"
          ],
          [
           "Streptococcus pyogenes",
           "NCTC8316"
          ],
          [
           "Streptococcus pyogenes",
           "NCTC8231"
          ],
          [
           "Streptococcus pyogenes",
           "NCTC8195"
          ],
          [
           "Vibrio hollisae",
           "NCTC11641"
          ],
          [
           "Streptococcus pyogenes",
           "NCTC8198"
          ],
          [
           "Streptococcus pyogenes",
           "NCTC8199"
          ],
          [
           "Paenibacillus thiaminolyticus",
           "NCTC11027"
          ],
          [
           "Brucella melitensis",
           "NCTC8223"
          ],
          [
           "Legionella parisiensis",
           "NCTC11983"
          ],
          [
           "Streptococcus pyogenes",
           "NCTC8224"
          ],
          [
           "Streptococcus pyogenes",
           "NCTC8225"
          ],
          [
           "Streptococcus pyogenes",
           "NCTC8227"
          ],
          [
           "Pseudomonas stutzeri",
           "NCTC10450"
          ],
          [
           "Streptococcus pyogenes",
           "NCTC8229"
          ],
          [
           "Streptococcus pyogenes",
           "NCTC8230"
          ],
          [
           "Bacteroides thetaiotaomicron",
           "NCTC13706"
          ],
          [
           "Streptococcus pyogenes",
           "NCTC8308"
          ],
          [
           "Pasteurella multocida ",
           "NCTC11995"
          ],
          [
           "Pseudomonas stutzeri",
           "NCTC10475"
          ],
          [
           "Pasteurella canis",
           "NCTC11650"
          ],
          [
           "Legionella pneumophila",
           "NCTC12024"
          ],
          [
           "Mannheimia haemolytica",
           "NCTC9380"
          ],
          [
           "Streptococcus porcinus",
           "NCTC10999"
          ],
          [
           "Pasteurella dagmatis",
           "NCTC8282"
          ],
          [
           "Streptococcus pyogenes",
           "NCTC12044"
          ],
          [
           "Actinobacillus ureae",
           "NCTC10221"
          ],
          [
           "Streptococcus pyogenes",
           "NCTC8300"
          ],
          [
           "Streptococcus pyogenes",
           "NCTC8302"
          ],
          [
           "Streptococcus pyogenes",
           "NCTC8303"
          ],
          [
           "Streptococcus pyogenes",
           "NCTC12054"
          ],
          [
           "Streptococcus pyogenes",
           "NCTC8305"
          ],
          [
           "Neisseria gonorrhoeae",
           "NCTC10931"
          ],
          [
           "Pseudomonas putida",
           "NCTC10936"
          ],
          [
           "Pasteurella multocida",
           "NCTC10722"
          ],
          [
           "Pasteurella testudinis",
           "NCTC12150"
          ],
          [
           "Campylobacter jejuni ",
           "NCTC11951"
          ],
          [
           "Aminobacter aminovorans",
           "NCTC10684"
          ],
          [
           "Acinetobacter junii",
           "NCTC12153"
          ],
          [
           "pseudomonas nigrifaciens",
           "NCTC10691"
          ],
          [
           "Streptococcus pyogenes",
           "NCTC10880"
          ],
          [
           "Streptococcus pyogenes",
           "NCTC10879"
          ],
          [
           "Streptococcus pyogenes",
           "NCTC10877"
          ],
          [
           "Streptococcus pyogenes",
           "NCTC10876"
          ],
          [
           "Streptococcus pyogenes",
           "NCTC10875"
          ],
          [
           "Streptococcus pyogenes",
           "NCTC10874"
          ],
          [
           "Streptococcus pyogenes",
           "NCTC10872"
          ],
          [
           "Streptococcus pyogenes",
           "NCTC10871"
          ],
          [
           "Streptococcus pyogenes",
           "NCTC10870"
          ],
          [
           "Streptococcus pyogenes",
           "NCTC10866"
          ],
          [
           "Legionella quateirensis",
           "NCTC12376"
          ],
          [
           "Pseudomonas pseudoalcaligenes ",
           "NCTC10860"
          ],
          [
           "Brucella neotomae",
           "NCTC10084"
          ],
          [
           "Actinobacillus seminis",
           "NCTC10851"
          ],
          [
           "Brucella neotomae",
           "NCTC10071"
          ],
          [
           "Enterococcus casseliflavus",
           "NCTC12362"
          ],
          [
           "Enterococcus casseliflavus",
           "NCTC12361"
          ],
          [
           "Pseudomonas oleovorans",
           "NCTC10692"
          ],
          [
           "Shewanella putrefaciens",
           "NCTC10695"
          ],
          [
           "Streptococcus mitis",
           "NCTC12261"
          ],
          [
           "Legionella moravica",
           "NCTC12239"
          ],
          [
           "Haemophilus parahaemolyticus",
           "NCTC10794"
          ],
          [
           "Listonella anguillarum",
           "NCTC12159"
          ],
          [
           "Campylobacter jejuni ",
           "NCTC12208"
          ],
          [
           "Legionella birminghamensis",
           "NCTC12437"
          ],
          [
           "Streptococcus pyogenes",
           "NCTC10085"
          ],
          [
           "Haemophilus parainfluenzae",
           "NCTC10672"
          ],
          [
           "Streptococcus pyogenes",
           "NCTC12066"
          ],
          [
           "Streptococcus pyogenes",
           "NCTC12058"
          ],
          [
           "Streptococcus pyogenes",
           "NCTC12059"
          ],
          [
           "Mannheimia haemolytica",
           "NCTC10609"
          ],
          [
           "Actinobacillus equuli",
           "NCTC8529"
          ],
          [
           "Pasteurella multocida",
           "NCTC10382"
          ],
          [
           "Streptococcus pyogenes",
           "NCTC12060"
          ],
          [
           "Campylobacter jejuni",
           "NCTC13362"
          ],
          [
           "Neisseria lactamica",
           "NCTC10617"
          ],
          [
           "Streptococcus pneumoniae",
           "NCTC11900"
          ],
          [
           "Streptococcus pyogenes",
           "NCTC12062"
          ],
          [
           "Mannheimia haemolytica",
           "NCTC10638"
          ],
          [
           "Mannheimia haemolytica",
           "NCTC10643"
          ],
          [
           "Streptococcus pyogenes",
           "NCTC12064"
          ],
          [
           "Streptococcus porcinus",
           "NCTC10925"
          ],
          [
           "Brucella suis",
           "NCTC10097"
          ],
          [
           "Legionella lansingensis",
           "NCTC12830"
          ],
          [
           "Afipia felis",
           "NCTC12722"
          ],
          [
           "Bacillus licheniformis",
           "NCTC8721"
          ],
          [
           "Mannheimia haemolytica",
           "NCTC10208"
          ],
          [
           "Streptococcus pyogenes",
           "NCTC12067"
          ],
          [
           "Streptococcus pyogenes",
           "NCTC12068"
          ],
          [
           "Pasteurella multocida ",
           "NCTC10204"
          ],
          [
           "Streptococcus pyogenes",
           "NCTC12696"
          ],
          [
           "Grimontia hollisae",
           "NCTC11640"
          ],
          [
           "Campylobacter jejuni ",
           "NCTC11924"
          ],
          [
           "Haemophilus parainfluenzae",
           "NCTC10665"
          ],
          [
           "Afipia felis",
           "NCTC12499"
          ],
          [
           "Haemophilus paraphrohaemolyticus",
           "NCTC10671"
          ],
          [
           "Streptococcus pyogenes",
           "NCTC8193"
          ],
          [
           "Streptococcus pyogenes",
           "NCTC8314"
          ],
          [
           "Actinobacillus pleuropneumoniae",
           "NCTC11384"
          ],
          [
           "Pasteurella multocida ",
           "NCTC11619"
          ],
          [
           "Actinomadura madurae",
           "NCTC11373"
          ],
          [
           "Enterococcus faecium",
           "NCTC7171"
          ],
          [
           "Staphylococcus fleurettii",
           "NCTC13829"
          ],
          [
           "Clostridium clostridiiforme",
           "NCTC11224"
          ],
          [
           "Clostridium sphenoides",
           "NCTC507"
          ],
          [
           "Actinobacillus lignieresii",
           "NCTC4191"
          ],
          [
           "Haemophilus parainfluenzae",
           "NCTC7857"
          ],
          [
           "Actinobacillus lignieresii",
           "NCTC4189"
          ],
          [
           "Staphylococcus simiae",
           "NCTC13838"
          ],
          [
           "Pasteurella dagmatis",
           "NCTC11617"
          ],
          [
           "Brucella suis",
           "NCTC10316"
          ],
          [
           "Burkholderia mallei",
           "NCTC3708"
          ],
          [
           "Streptococcus pyogenes",
           "NCTC5163"
          ],
          [
           "Streptococcus pyogenes",
           "NCTC5164"
          ],
          [
           "Campylobacter hyointestinalis",
           "NCTC11610"
          ],
          [
           "Streptococcus sp.",
           "NCTC4725"
          ],
          [
           "Staphylococcus epidermidis",
           "NCTC7474"
          ],
          [
           "Neisseria cinerea",
           "NCTC10294"
          ],
          [
           "Actinobacillus pleuropneumoniae",
           "NCTC11407"
          ],
          [
           "Streptococcus pyogenes",
           "NCTC4001"
          ],
          [
           "Streptococcus pyogenes",
           "NCTC2218"
          ],
          [
           "Gallibacterium anatis",
           "NCTC11413"
          ],
          [
           "Mannheimia haemolytica",
           "NCTC9712"
          ],
          [
           "Brucella abortus",
           "NCTC624"
          ],
          [
           "Streptococcus acidominimus",
           "NCTC11291"
          ],
          [
           "Streptococcus pseudoporcinus",
           "NCTC13786"
          ],
          [
           "Bacillus circulans",
           "NCTC2610"
          ],
          [
           "Enterococcus faecium",
           "NCTC7174"
          ],
          [
           "Moraxella (branhamella) catarrhalis",
           "NCTC3622"
          ],
          [
           "Haemophilus ducreyi",
           "NCTC11483"
          ],
          [
           "Burkholderia mallei",
           "NCTC3709"
          ],
          [
           "Enterococcus faecalis",
           "NCTC370"
          ],
          [
           "Pasteurella canis",
           "NCTC11621"
          ],
          [
           "Pasteurella multocida",
           "NCTC10322"
          ],
          [
           "Streptococcus pyogenes",
           "NCTC13738"
          ],
          [
           "Streptococcus pyogenes",
           "NCTC13739"
          ],
          [
           "Streptococcus pyogenes",
           "NCTC13741"
          ],
          [
           "Streptococcus pyogenes",
           "NCTC13743"
          ],
          [
           "Mycobacterium farcinogenes ",
           "NCTC4524"
          ],
          [
           "Brucella suis",
           "NCTC5061"
          ],
          [
           "Streptococcus pyogenes",
           "NCTC13745"
          ],
          [
           "Pasteurella multocida ",
           "NCTC11620"
          ],
          [
           "Enterococcus casseliflavus",
           "NCTC7179"
          ],
          [
           "Enterococcus faecium",
           "NCTC7176"
          ],
          [
           "Mycobacterium flavescens",
           "NCTC10271"
          ],
          [
           "Aggregatibacter actinomycetemcomitans",
           "NCTC9709"
          ],
          [
           "Streptococcus pyogenes",
           "NCTC13751"
          ],
          [
           "Staphylococcus epidermidis",
           "NCTC6513"
          ],
          [
           "Legionella pneumophila",
           "NCTC11193"
          ],
          [
           "Legionella pneumophila",
           "NCTC12179"
          ],
          [
           "Streptococcus equi",
           "NCTC7022"
          ],
          [
           "Streptococcus dysgalactiae ",
           "NCTC5371"
          ],
          [
           "Legionella pneumophila",
           "NCTC12174"
          ],
          [
           "Aneurinibacillus migulanus",
           "NCTC7096"
          ],
          [
           "Streptococcus equi ",
           "NCTC7023"
          ],
          [
           "Streptococcus dysgalactiae ",
           "NCTC5370"
          ],
          [
           "Comamonas testosteroni",
           "NCTC10698"
          ],
          [
           "Ochrobactrum intermedium",
           "NCTC12171"
          ],
          [
           "Streptococcus sp.",
           "NCTC5385"
          ],
          [
           "Streptococcus sp.",
           "NCTC5386"
          ],
          [
           "Streptococcus dysgalactiae ",
           "NCTC9413"
          ],
          [
           "Mycobacterium xenopi",
           "NCTC10042"
          ],
          [
           "Streptococcus sp.",
           "NCTC10710"
          ],
          [
           "Mycobacterium chubuense",
           "NCTC10819"
          ],
          [
           "Legionella feeleii",
           "NCTC11978"
          ],
          [
           "Clostridium botulinum",
           "NCTC7273"
          ],
          [
           "Myroides odoratus",
           "NCTC11179"
          ],
          [
           "Bordetella parapertussis",
           "NCTC10853"
          ],
          [
           "Enterococcus hirae",
           "NCTC12368"
          ],
          [
           "Enterococcus hirae",
           "NCTC7175"
          ],
          [
           "Bacteroides splanchnicus",
           "NCTC10826"
          ],
          [
           "Odoribacter splanchnicus",
           "NCTC10825"
          ],
          [
           "Streptococcus ferus",
           "NCTC12278"
          ],
          [
           "Mycobacterium aichiense",
           "NCTC10820"
          ],
          [
           "Enterococcus hirae",
           "NCTC7170"
          ],
          [
           "Legionella pneumophila",
           "NCTC12180"
          ],
          [
           "Streptococcus hyointestinalis",
           "NCTC12224"
          ],
          [
           "Streptococcus dysgalactiae ",
           "NCTC7136"
          ],
          [
           "Brucella neotomae",
           "NCTC10070"
          ],
          [
           "Mycobacterium gilvum",
           "NCTC10742"
          ],
          [
           "Enterococcus faecium",
           "NCTC12204"
          ],
          [
           "Staphylococcus caprae",
           "NCTC12196"
          ],
          [
           "Shewanella putrefaciens",
           "NCTC10736"
          ],
          [
           "Streptococcus canis",
           "NCTC12191"
          ],
          [
           "Legionella pneumophila",
           "NCTC12181"
          ],
          [
           "Streptococcus sp.",
           "NCTC5338"
          ],
          [
           "Chryseobacterium balustinum",
           "NCTC11212"
          ],
          [
           "Bacillus cereus",
           "NCTC6474"
          ],
          [
           "Staphylococcus lentus",
           "NCTC12102"
          ],
          [
           "Fluoribacter bozemanae",
           "NCTC11368"
          ],
          [
           "Streptococcus equi ",
           "NCTC6176"
          ],
          [
           "Sphingobacterium spiritivorum",
           "NCTC11386"
          ],
          [
           "Brucella ovis",
           "NCTC10512"
          ],
          [
           "Brucella melitensis",
           "NCTC10509"
          ],
          [
           "Streptococcus sp.",
           "NCTC9124"
          ],
          [
           "Brucella abortus",
           "NCTC10505"
          ],
          [
           "Bordetella avium",
           "NCTC12033"
          ],
          [
           "Legionella feeleii",
           "NCTC12022"
          ],
          [
           "Fluoribacter dumoffii",
           "NCTC11370"
          ],
          [
           "Legionella pneumophila",
           "NCTC12007"
          ],
          [
           "Legionella pneumophila",
           "NCTC12000"
          ],
          [
           "Oligella ureolytica",
           "NCTC11998"
          ],
          [
           "Streptococcus equi ",
           "NCTC12092"
          ],
          [
           "Acinetobacter lwoffii",
           "NCTC5866"
          ],
          [
           "Moraxella osloensis",
           "NCTC10465"
          ],
          [
           "Acinetobacter lwoffii",
           "NCTC5867"
          ],
          [
           "Campylobacter jejuni ",
           "NCTC11351"
          ],
          [
           "Campylobacter lari",
           "NCTC11352"
          ],
          [
           "Streptococcus suis",
           "NCTC10446"
          ],
          [
           "Legionella pneumophila",
           "NCTC11985"
          ],
          [
           "Legionella pneumophila",
           "NCTC11984"
          ],
          [
           "Aggregatibacter aphrophilus",
           "NCTC5908"
          ],
          [
           "Legionella hackeliae",
           "NCTC11979"
          ],
          [
           "Mycobacterium aurum",
           "NCTC10437"
          ],
          [
           "Bordetella parapertussis",
           "NCTC10520"
          ],
          [
           "Bordetella parapertussis",
           "NCTC10522"
          ],
          [
           "Bordetella parapertussis",
           "NCTC10524"
          ],
          [
           "streptococcus equisimilis",
           "NCTC6179"
          ],
          [
           "Streptococcus equi ",
           "NCTC12091"
          ],
          [
           "Streptococcus equi ",
           "NCTC12090"
          ],
          [
           "Campylobacter coli",
           "NCTC11437"
          ],
          [
           "Streptococcus pyogenes",
           "NCTC12065"
          ],
          [
           "Streptococcus oralis",
           "NCTC11427"
          ],
          [
           "Legionella pneumophila",
           "NCTC11230"
          ],
          [
           "Haemophilus haemoglobinophilus",
           "NCTC10619"
          ],
          [
           "Legionella pneumophila",
           "NCTC11417"
          ],
          [
           "Streptococcus dysgalactiae ",
           "NCTC6407"
          ],
          [
           "Streptococcus dysgalactiae",
           "NCTC6403"
          ],
          [
           "Paenibacillus macerans",
           "NCTC6355"
          ],
          [
           "Nocardia farcinica",
           "NCTC630"
          ],
          [
           "Legionella pneumophila",
           "NCTC11286"
          ],
          [
           "Bacteroides vulgatus",
           "NCTC10583"
          ],
          [
           "Bacteroides thetaiotaomicron",
           "NCTC10582"
          ],
          [
           "Streptococcus canis",
           "NCTC6198"
          ],
          [
           "Megamonas hypermegale",
           "NCTC10571"
          ],
          [
           "Streptococcus dysgalactiae ",
           "NCTC6181"
          ],
          [
           "Streptococcus pyogenes",
           "NCTC12049"
          ],
          [
           "Bordetella bronchiseptica",
           "NCTC10543"
          ],
          [
           "Bordetella bronchiseptica",
           "NCTC10542"
          ],
          [
           "Streptococcus equi ",
           "NCTC6180"
          ],
          [
           "Legionella pneumophila",
           "NCTC11404"
          ],
          [
           "Legionella oakridgensis",
           "NCTC11531"
          ],
          [
           "Bacteroides eggerthii",
           "NCTC11155"
          ],
          [
           "Streptococcus equi ",
           "NCTC4676"
          ],
          [
           "Streptococcus dysgalactiae ",
           "NCTC11564"
          ],
          [
           "Comamonas terrigena",
           "NCTC1937"
          ],
          [
           "Bordetella bronchiseptica",
           "NCTC8344"
          ],
          [
           "Streptococcus dysgalactiae",
           "NCTC7982"
          ],
          [
           "Clostridium botulinum",
           "NCTC2012"
          ],
          [
           "Streptococcus pyogenes",
           "NCTC2366"
          ],
          [
           "Streptococcus sp.",
           "NCTC11567"
          ],
          [
           "Listeria ivanovii ",
           "NCTC11846"
          ],
          [
           "Bacillus cereus",
           "NCTC2599"
          ],
          [
           "Streptococcus equi ",
           "NCTC11854"
          ],
          [
           "Streptococcus sanguinis",
           "NCTC11085"
          ],
          [
           "Clostridium botulinum",
           "NCTC2916"
          ],
          [
           "Streptococcus gordonii",
           "NCTC7870"
          ],
          [
           "Haemophilus haemoglobinophilus",
           "NCTC1659"
          ],
          [
           "Streptococcus gordonii",
           "NCTC7869"
          ],
          [
           "Streptococcus gordonii",
           "NCTC7868"
          ],
          [
           "Streptococcus gordonii",
           "NCTC7865"
          ],
          [
           "Streptococcus sanguinis",
           "NCTC7863"
          ],
          [
           "Streptococcus gordonii",
           "NCTC3165"
          ],
          [
           "Streptococcus sanguinis",
           "NCTC11086"
          ],
          [
           "Achromobacter sp.",
           "NCTC3233"
          ],
          [
           "Streptococcus equi ",
           "NCTC4675"
          ],
          [
           "Nocardia farcinica",
           "NCTC11134"
          ],
          [
           "Streptococcus dysgalactiae ",
           "NCTC9603"
          ],
          [
           "Brucella abortus",
           "NCTC3605"
          ],
          [
           "Streptococcus equi subp. zooepidemicus",
           "NCTC11606"
          ],
          [
           "Brucella abortus",
           "NCTC1478"
          ],
          [
           "Streptococcus dysgalactiae ",
           "NCTC8543"
          ],
          [
           "Streptococcus sp.",
           "NCTC10228"
          ],
          [
           "Streptococcus oralis",
           "NCTC10232"
          ],
          [
           "Streptococcus sp.",
           "NCTC10233"
          ],
          [
           "Streptococcus dysgalactiae ",
           "NCTC10321"
          ],
          [
           "Streptococcus pyogenes",
           "NCTC8232"
          ],
          [
           "Streptococcus massilliensis",
           "NCTC13765"
          ],
          [
           "Moraxella (branhamella) catarrhalis",
           "NCTC11020"
          ],
          [
           "Streptococcus gordonii",
           "NCTC10231"
          ],
          [
           "Chromobacterium violaceum",
           "NCTC9757"
          ],
          [
           "Enterococcus durans",
           "NCTC8130"
          ],
          [
           "Riemerella anatipestifer",
           "NCTC11014"
          ],
          [
           "Enterococcus durans",
           "NCTC8129"
          ],
          [
           "Listeria ivanovii ",
           "NCTC11007"
          ],
          [
           "Streptococcus equi subp. zooepidemicus",
           "NCTC11824"
          ],
          [
           "Bifidobacterium longum ",
           "NCTC11817"
          ],
          [
           "Staphylococcus devriesei",
           "NCTC13828"
          ],
          [
           "Streptococcus suis",
           "NCTC10234"
          ],
          [
           "Blautia coccoides",
           "NCTC11035"
          ],
          [
           "Streptococcus pyogenes",
           "NCTC8304"
          ],
          [
           "Streptococcus suis",
           "NCTC10237"
          ],
          [
           "Brucella abortus",
           "NCTC8038"
          ],
          [
           "Bordetella parapertussis",
           "NCTC5952"
          ],
          [
           "Rhodococcus erythropolis",
           "NCTC8036"
          ],
          [
           "Streptococcus pyogenes",
           "NCTC8322"
          ],
          [
           "Streptococcus pyogenes",
           "NCTC8324"
          ],
          [
           "Haemophilus haemoglobinophilus",
           "NCTC8540"
          ],
          [
           "Streptococcus dysgalactiae ",
           "NCTC11556"
          ],
          [
           "Streptococcus dysgalactiae ",
           "NCTC8546"
          ],
          [
           "Bacteroides distasonis",
           "NCTC11152"
          ],
          [
           "Brucella abortus",
           "NCTC7471"
          ],
          [
           "Streptococcus dysgalactiae ",
           "NCTC11555"
          ],
          [
           "Bordetella bronchiseptica",
           "NCTC8762"
          ],
          [
           "Legionella jordanis",
           "NCTC11533"
          ],
          [
           "Streptococcus agalactiae",
           "NCTC11930"
          ],
          [
           "Arcobacter butzleri",
           "NCTC12481"
          ],
          [
           "Bordetella bronchiseptica",
           "NCTC452"
          ],
          [
           "Brucella abortus",
           "NCTC10093"
          ],
          [
           "Clostridium botulinum",
           "NCTC4587"
          ],
          [
           "Streptococcus dysgalactiae ",
           "NCTC4669"
          ],
          [
           "Enterococcus cecorum",
           "NCTC12421"
          ],
          [
           "Clostridium botulinum",
           "NCTC751"
          ],
          [
           "Bacteroides ovatus",
           "NCTC11153"
          ],
          [
           "Streptococcus dysgalactiae ",
           "NCTC9414"
          ],
          [
           "Legionella gratiana",
           "NCTC12388"
          ],
          [
           "Streptococcus dysgalactiae ",
           "NCTC4670"
          ],
          [
           "Burkholderia gladioli",
           "NCTC12378"
          ],
          [
           "Iodobacter fluviatilis",
           "NCTC11159"
          ],
          [
           "Streptococcus dysgalactiae ",
           "NCTC4671"
          ],
          [
           "Streptococcus uberis",
           "NCTC4672"
          ],
          [
           "Streptococcus uberis",
           "NCTC4673"
          ],
          [
           "Streptococcus uberis",
           "NCTC4674"
          ],
          [
           "Moraxella (branhamella) catarrhalis",
           "NCTC4103"
          ],
          [
           "Streptococcus dysgalactiae ",
           "NCTC11554"
          ],
          [
           "Streptococcus sp.",
           "NCTC5968"
          ],
          [
           "Vibrio metschnikovii",
           "NCTC8563"
          ],
          [
           "Clostridium botulinum",
           "NCTC3815"
          ],
          [
           "Clostridium botulinum",
           "NCTC3806"
          ],
          [
           "Acinetobacter johnsonii",
           "NCTC10308"
          ],
          [
           "Janthinobacterium lividum",
           "NCTC8661"
          ],
          [
           "Clostridium botulinum",
           "NCTC9837"
          ],
          [
           "Clostridium botulinum",
           "NCTC3805"
          ],
          [
           "Legionella pneumophila",
           "NCTC12821"
          ],
          [
           "Chromobacterium violaceum",
           "NCTC8683"
          ],
          [
           "Clostridium botulinum",
           "NCTC3807"
          ],
          [
           "Streptococcus porcinus",
           "NCTC10924"
          ],
          [
           "Chromobacterium violaceum",
           "NCTC8684"
          ],
          [
           "Streptococcus sanguinis",
           "NCTC10904"
          ],
          [
           "Streptococcus dysgalactiae",
           "NCTC8547"
          ],
          [
           "Streptococcus uberis",
           "NCTC3858"
          ],
          [
           "Mycobacterium chelonae ",
           "NCTC946"
          ],
          [
           "Neisseria meningitidis",
           "NCTC9388"
          ],
          [
           "Moraxella (branhamella) cuniculi",
           "NCTC10297"
          ],
          [
           "Moraxella bovis",
           "NCTC9426"
          ],
          [
           "Streptococcus agalactiae",
           "NCTC9993"
          ],
          [
           "Streptococcus equi ",
           "NCTC9682"
          ],
          [
           "Gardnerella vaginalis",
           "NCTC10287"
          ],
          [
           "Bergeriella denitrificans",
           "NCTC10295"
          ],
          [
           "Neisseria meningitidis",
           "NCTC9390"
          ],
          [
           "Clostridium perfringens",
           "NCTC9851"
          ],
          [
           "Paenibacillus polymyxa",
           "NCTC10343"
          ],
          [
           "Brevundimonas vancanneytii",
           "NCTC9239"
          ],
          [
           "Streptococcus agalactiae",
           "NCTC9828"
          ],
          [
           "Neisseria animalis",
           "NCTC10212"
          ],
          [
           "moraxella liquefaciens",
           "NCTC10359"
          ],
          [
           "Clostridium perfringens",
           "NCTC10240"
          ],
          [
           "Moraxella (branhamella) caviae",
           "NCTC10293"
          ],
          [
           "Alcaligenes odorans",
           "NCTC10388"
          ],
          [
           "Bacillus licheniformis",
           "NCTC9932"
          ],
          [
           "Bacillus pumilus",
           "NCTC10337"
          ],
          [
           "Chromobacterium violaceum",
           "NCTC9695"
          ],
          [
           "Acholeplasma axanthum",
           "NCTC10138"
          ],
          [
           "Staphylococcus hyicus ",
           "NCTC10350"
          ],
          [
           "Clostridium perfringens",
           "NCTC10239"
          ],
          [
           "Chromobacterium violaceum",
           "NCTC9370"
          ],
          [
           "Legionella cherrii",
           "NCTC11976"
          ],
          [
           "Mycobacterium thermoresistibile",
           "NCTC10409"
          ],
          [
           "Clostridium sporogenes",
           "NCTC534"
          ],
          [
           "Legionella longbeachae",
           "NCTC11477"
          ],
          [
           "Clostridium tetanomorphum",
           "NCTC500"
          ],
          [
           "Wolinella succinogenes",
           "NCTC11488"
          ],
          [
           "Haemophilus parasuis",
           "NCTC4557"
          ],
          [
           "Legionella wadsworthii",
           "NCTC11532"
          ],
          [
           "Staphylococcus epidermidis",
           "NCTC4133"
          ],
          [
           "Clostridium perfringens",
           "NCTC3182"
          ],
          [
           "Clostridium perfringens",
           "NCTC2837"
          ],
          [
           "Clostridium sporogenes",
           "NCTC275"
          ],
          [
           "Micrococcus luteus",
           "NCTC2665"
          ],
          [
           "Staphylococcus petrasii",
           "NCTC13835"
          ],
          [
           "Staphylococcus nepalensis",
           "NCTC13834"
          ],
          [
           "Weeksella virosa",
           "NCTC11635"
          ],
          [
           "Actinomyces howellii",
           "NCTC11636"
          ],
          [
           "Mobiluncus curtisii ",
           "NCTC11656"
          ],
          [
           "Clostridium sporogenes",
           "NCTC532"
          ],
          [
           "Clostridium tetani",
           "NCTC539"
          ],
          [
           "Staphylococcus saprophyticus ",
           "NCTC7526"
          ],
          [
           "Clostridium tetani",
           "NCTC540"
          ],
          [
           "Brevundimonas diminuta",
           "NCTC11164"
          ],
          [
           "Brevundimonas diminuta",
           "NCTC11165"
          ],
          [
           "Brevundimonas vesicularis",
           "NCTC11166"
          ],
          [
           "Staphylococcus warneri",
           "NCTC7291"
          ],
          [
           "Myroides odoratimimus",
           "NCTC11180"
          ],
          [
           "Rikenella microfusus",
           "NCTC11190"
          ],
          [
           "Legionella pneumophila",
           "NCTC11192"
          ],
          [
           "Streptococcus agalactiae",
           "NCTC11242"
          ],
          [
           "Streptococcus agalactiae",
           "NCTC6175"
          ],
          [
           "Streptococcus constellatus",
           "NCTC11325"
          ],
          [
           "Streptococcus agalactiae",
           "NCTC11360"
          ],
          [
           "Campylobacter coli",
           "NCTC11366"
          ],
          [
           "Neisseria gonorrhoeae",
           "NCTC11421"
          ],
          [
           "Sphingobacterium thalpophilum",
           "NCTC11429"
          ],
          [
           "Streptococcus bovis",
           "NCTC11436"
          ],
          [
           "Staphylococcus saccharolyticus",
           "NCTC11807"
          ],
          [
           "Clostridium indolis",
           "NCTC11811"
          ],
          [
           "Bifidobacterium adolescentis",
           "NCTC11814"
          ],
          [
           "Bifidobacterium breve",
           "NCTC11815"
          ],
          [
           "Enterococcus mundtii",
           "NCTC12364"
          ],
          [
           "Helicobacter cinaedi",
           "NCTC12221"
          ],
          [
           "Helicobacter cinaedi",
           "NCTC12219"
          ],
          [
           "Staphylococcus schleiferi",
           "NCTC12218"
          ],
          [
           "Flavobacterium mizutaii",
           "NCTC12149"
          ],
          [
           "Staphylococcus sciuri ",
           "NCTC12103"
          ],
          [
           "Staphylococcus auricularis",
           "NCTC12101"
          ],
          [
           "Legionella spiritensis",
           "NCTC12082"
          ],
          [
           "Veillonella criceti",
           "NCTC12020"
          ],
          [
           "Legionella israelensis",
           "NCTC12010"
          ],
          [
           "Oligella urethralis",
           "NCTC11999"
          ],
          [
           "Legionella steigerwaltii",
           "NCTC11991"
          ],
          [
           "Legionella spiritensis",
           "NCTC11990"
          ],
          [
           "Legionella sainthelensi",
           "NCTC11988"
          ],
          [
           "Tatlockia maceachernii",
           "NCTC11982"
          ],
          [
           "Legionella geestiana",
           "NCTC12373"
          ],
          [
           "Legionella cincinnatiensis",
           "NCTC12438"
          ],
          [
           "Campylobacter lari",
           "NCTC11937"
          ],
          [
           "Campylobacter lari",
           "NCTC11845"
          ],
          [
           "Bifidobacterium dentium",
           "NCTC11816"
          ],
          [
           "Bordetella pertussis",
           "NCTC13668"
          ],
          [
           "Bordetella pertussis",
           "NCTC13667"
          ],
          [
           "Bifidobacterium longum",
           "NCTC11818"
          ],
          [
           "Falcivibrio vaginalis",
           "NCTC11820"
          ],
          [
           "Clostridium paraputrificum",
           "NCTC11833"
          ],
          [
           "Legionella londiniensis",
           "NCTC12931"
          ],
          [
           "Legionella sainthelensi",
           "NCTC12450"
          ],
          [
           "Helicobacter pylori",
           "NCTC12823"
          ],
          [
           "Legionella adelaidensis",
           "NCTC12735"
          ],
          [
           "Helicobacter muridarum",
           "NCTC12714"
          ],
          [
           "Arcobacter skirrowii",
           "NCTC12713"
          ],
          [
           "Listeria ivanovii ",
           "NCTC12701"
          ],
          [
           "Salmonella enterica ",
           "NCTC12694"
          ],
          [
           "Prevotella disiens",
           "NCTC11157"
          ],
          [
           "Staphylococcus saprophyticus ",
           "NCTC7540"
          ],
          [
           "Bifidobacterium breve",
           "NCTC10471"
          ],
          [
           "Clostridium perfringens",
           "NCTC8798"
          ],
          [
           "Bacillus licheniformis",
           "NCTC8720"
          ],
          [
           "Bordetella pertussis",
           "NCTC10905"
          ],
          [
           "Clostridium perfringens",
           "NCTC8679"
          ],
          [
           "Clostridium perfringens",
           "NCTC8678"
          ],
          [
           "Bordetella pertussis",
           "NCTC10907"
          ],
          [
           "Bordetella pertussis",
           "NCTC10908"
          ],
          [
           "Bordetella pertussis",
           "NCTC10910"
          ],
          [
           "Bordetella pertussis",
           "NCTC10911"
          ],
          [
           "Brevundimonas diminuta",
           "NCTC8545"
          ],
          [
           "Clostridium perfringens",
           "NCTC8503"
          ],
          [
           "Clostridium perfringens",
           "NCTC8449"
          ],
          [
           "Vibrio metschnikovii",
           "NCTC8443"
          ],
          [
           "Clostridium baratii",
           "NCTC10986"
          ],
          [
           "Clostridium perfringens",
           "NCTC8359"
          ],
          [
           "Pasteurella pneumotropica",
           "NCTC8284"
          ],
          [
           "Clostridium perfringens",
           "NCTC8797"
          ],
          [
           "Clostridium perfringens",
           "NCTC8799"
          ],
          [
           "Paenibacillus polymyxa",
           "NCTC7575"
          ],
          [
           "Mycobacterium abscessus",
           "NCTC10882"
          ],
          [
           "Mycobacterium chitae",
           "NCTC10485"
          ],
          [
           "Staphylococcus warneri",
           "NCTC10518"
          ],
          [
           "Psychrobacter phenylpyruvicus",
           "NCTC10526"
          ],
          [
           "Staphylococcus chromogenes",
           "NCTC10530"
          ],
          [
           "Megamonas hypermegale",
           "NCTC10570"
          ],
          [
           "Clostridium perfringens",
           "NCTC10578"
          ],
          [
           "Kurthia zopfii",
           "NCTC10597"
          ],
          [
           "Clostridium perfringens",
           "NCTC10613"
          ],
          [
           "Clostridium perfringens",
           "NCTC10614"
          ],
          [
           "Neisseria elongata",
           "NCTC10660"
          ],
          [
           "Gordonia terrae",
           "NCTC10669"
          ],
          [
           "Clostridium perfringens",
           "NCTC10719"
          ],
          [
           "Neisseria mucosa",
           "NCTC10774"
          ],
          [
           "Mycobacterium tokaiense",
           "NCTC10821"
          ],
          [
           "Mycobacterium terrae",
           "NCTC10856"
          ],
          [
           "Moraxella equi",
           "NCTC11012"
          ],
          [
           "Neisseria flavescens",
           "NCTC8263"
          ],
          [
           "Clostridium perfringens",
           "NCTC8247"
          ],
          [
           "Clostridium perfringens",
           "NCTC8246"
          ],
          [
           "Staphylococcus warneri",
           "NCTC11044"
          ],
          [
           "Staphylococcus capitis",
           "NCTC11045"
          ],
          [
           "Staphylococcus simulans",
           "NCTC11046"
          ],
          [
           "Neisseria elongata ",
           "NCTC11050"
          ],
          [
           "Streptococcus agalactiae",
           "NCTC11079"
          ],
          [
           "Moraxella lacunata",
           "NCTC7911"
          ],
          [
           "Staphylococcus agnetis",
           "NCTC7887"
          ],
          [
           "Streptococcus pleomorphus",
           "NCTC11087"
          ],
          [
           "Moraxella atlantae",
           "NCTC11091"
          ],
          [
           "Clostridium perfringens",
           "NCTC11144"
          ],
          [
           "Staphylococcus saprophyticus ",
           "NCTC7692"
          ],
          [
           "Staphylococcus saprophyticus ",
           "NCTC7688"
          ],
          [
           "Staphylococcus saprophyticus ",
           "NCTC7687"
          ],
          [
           "Staphylococcus saprophyticus ",
           "NCTC7666"
          ],
          [
           "Aerococcus viridans",
           "NCTC7595"
          ],
          [
           "Staphylococcus cohnii",
           "NCTC11041"
          ],
          [
           "Myroides odoratus",
           "NCTC11036"
          ],
          [
           "Streptococcus agalactiae",
           "NCTC8017"
          ],
          [
           "Streptococcus agalactiae",
           "NCTC8182"
          ],
          [
           "Clostridium perfringens",
           "NCTC8239"
          ],
          [
           "Streptococcus agalactiae",
           "NCTC8188"
          ],
          [
           "Streptococcus agalactiae",
           "NCTC8187"
          ],
          [
           "Streptococcus agalactiae",
           "NCTC8185"
          ],
          [
           "Streptococcus agalactiae",
           "NCTC8184"
          ],
          [
           "Streptococcus agalactiae",
           "NCTC8183"
          ],
          [
           "Streptococcus agalactiae",
           "NCTC8181"
          ],
          [
           "Clostridium perfringens",
           "NCTC8081"
          ],
          [
           "Streptococcus agalactiae",
           "NCTC8180"
          ],
          [
           "Sphingomonas paucimobilis",
           "NCTC11030"
          ],
          [
           "Sphingobacterium multivorum",
           "NCTC11034"
          ],
          [
           "Mycobacterium phlei",
           "NCTC8156"
          ],
          [
           "Mycobacterium phlei",
           "NCTC8151"
          ],
          [
           "Streptococcus agalactiae",
           "NCTC8100"
          ],
          [
           "Staphylococcus saprophyticus ",
           "NCTC7292"
          ]
         ],
         "fillcolor": "rgba(255,255,255,0)",
         "hoveron": "points",
         "hovertemplate": "Year_Cultured=%{x}<br>Number of strict/perfect AbR hits=%{y}<br>Species=%{customdata[0]}<br>Accession_Number=%{customdata[1]}<extra></extra>",
         "legendgroup": "",
         "line": {
          "color": "rgba(255,255,255,0)"
         },
         "marker": {
          "color": "#636efa"
         },
         "name": "",
         "offsetgroup": "",
         "orientation": "v",
         "pointpos": 0,
         "showlegend": false,
         "type": "box",
         "x": [
          2006,
          1992,
          2003,
          2013,
          1992,
          2016,
          1992,
          1982,
          2003,
          2010,
          2010,
          2011,
          2006,
          1977,
          2013,
          2009,
          1983,
          1984,
          1950,
          2006,
          2012,
          2009,
          1963,
          2008,
          1949,
          1950,
          1952,
          1947,
          1970,
          1968,
          1957,
          2009,
          1985,
          1960,
          1970,
          1952,
          1963,
          1931,
          1960,
          1952,
          1976,
          1957,
          1957,
          1970,
          1962,
          1952,
          1976,
          1952,
          1961,
          1925,
          1955,
          1955,
          1944,
          1970,
          1976,
          1957,
          1957,
          1957,
          1949,
          1948,
          1944,
          1952,
          1952,
          1963,
          1952,
          1952,
          1952,
          1952,
          1971,
          1952,
          1952,
          1952,
          1952,
          1952,
          1952,
          1952,
          1952,
          1929,
          1982,
          1952,
          1932,
          1952,
          1957,
          1976,
          1952,
          1947,
          1960,
          1935,
          1955,
          1952,
          1971,
          1952,
          1952,
          1952,
          1920,
          1939,
          1949,
          1955,
          1952,
          1952,
          1947,
          1973,
          1950,
          1973,
          1974,
          1966,
          1957,
          1952,
          1949,
          1957,
          1976,
          1952,
          1952,
          1949,
          1992,
          1977,
          1952,
          1952,
          1954,
          1952,
          1952,
          1952,
          1976,
          1957,
          1958,
          1952,
          1952,
          1952,
          1952,
          1976,
          1952,
          1976,
          1952,
          1931,
          1955,
          1952,
          1952,
          1955,
          1976,
          1952,
          1952,
          1952,
          1952,
          1952,
          1969,
          1949,
          1976,
          1967,
          1971,
          1971,
          1952,
          1976,
          1952,
          1952,
          1949,
          1952,
          1962,
          1958,
          1960,
          1952,
          1952,
          1982,
          2008,
          1982,
          1955,
          1952,
          1948,
          1994,
          1992,
          1952,
          1952,
          1952,
          1976,
          1952,
          1952,
          1952,
          1949,
          1976,
          1950,
          1952,
          1952,
          1952,
          1989,
          1960,
          2011,
          1955,
          1920,
          1931,
          1952,
          1971,
          1952,
          1952,
          1952,
          1982,
          1921,
          1988,
          1956,
          1964,
          1976,
          1976,
          1958,
          1952,
          1949,
          1952,
          1952,
          1981,
          1971,
          1952,
          1952,
          1978,
          1952,
          1957,
          1955,
          1952,
          1951,
          1952,
          1952,
          1947,
          1952,
          1971,
          1966,
          1952,
          1953,
          1957,
          1950,
          1975,
          1945,
          1953,
          2011,
          1955,
          1952,
          1952,
          1949,
          1955,
          1995,
          1957,
          1955,
          1973,
          1955,
          1965,
          1955,
          1955,
          1951,
          2008,
          1954,
          1971,
          1952,
          1952,
          1992,
          1956,
          1920,
          1952,
          1919,
          1969,
          1949,
          1955,
          1955,
          1955,
          1983,
          1977,
          1956,
          1971,
          1983,
          1914,
          1952,
          1935,
          1959,
          1991,
          1952,
          1957,
          1940,
          1947,
          1946,
          1985,
          1934,
          1948,
          1940,
          1920,
          1940,
          1939,
          1939,
          1946,
          1937,
          1967,
          1926,
          1952,
          1937,
          1942,
          1943,
          1955,
          1945,
          1955,
          1959,
          1951,
          1937,
          1970,
          1954,
          1937,
          1934,
          1995,
          1939,
          1917,
          1952,
          2012,
          1934,
          1988,
          1964,
          1936,
          1938,
          1930,
          1938,
          1920,
          1956,
          1938,
          1954,
          1978,
          1951,
          1939,
          1929,
          1950,
          1953,
          1953,
          1944,
          1956,
          1932,
          1990,
          1930,
          1971,
          1965,
          1938,
          1955,
          1987,
          1939,
          1920,
          1937,
          1942,
          1985,
          1911,
          2003,
          1987,
          1976,
          1961,
          1961,
          1952,
          1949,
          1943,
          2004,
          2014,
          1955,
          1967,
          1959,
          1933,
          1956,
          1965,
          1940,
          1952,
          1982,
          2006,
          1952,
          1918,
          2008,
          1958,
          1946,
          1974,
          1964,
          1951,
          1946,
          1971,
          1954,
          1974,
          1947,
          1934,
          1958,
          1962,
          2004,
          1971,
          1971,
          1952,
          2007,
          1950,
          1949,
          1952,
          1949,
          1952,
          1974,
          1940,
          1953,
          1920,
          1952,
          1952,
          1940,
          1952,
          1954,
          1952,
          1954,
          1980,
          1932,
          1939,
          2003,
          1955,
          1952,
          1917,
          1955,
          1955,
          1982,
          1955,
          1940,
          1952,
          1952,
          2014,
          1940,
          1952,
          1948,
          1930,
          1953,
          1952,
          1972,
          1955,
          1952,
          1950,
          1941,
          1970,
          1952,
          1952,
          1952,
          1948,
          1920,
          1952,
          1952,
          1955,
          1952,
          1953,
          1993,
          1946,
          1933,
          2004,
          1953,
          1952,
          1911,
          1952,
          1974,
          1952,
          1965,
          1950,
          1980,
          1947,
          1941,
          1952,
          1939,
          2008,
          1952,
          1952,
          1958,
          1952,
          1955,
          1949,
          1982,
          1948,
          1943,
          1948,
          1933,
          1952,
          1952,
          1952,
          1948,
          1937,
          1952,
          1980,
          1952,
          1934,
          1952,
          1952,
          1974,
          1947,
          1952,
          1980,
          1955,
          1952,
          1946,
          1982,
          1976,
          1953,
          1958,
          1940,
          1948,
          1983,
          1934,
          1952,
          1949,
          1936,
          1983,
          1941,
          1955,
          1955,
          1949,
          1955,
          1934,
          1952,
          1971,
          1953,
          1955,
          1934,
          1940,
          1941,
          1940,
          1940,
          1934,
          1937,
          1949,
          1948,
          1987,
          1947,
          1940,
          1920,
          1952,
          1934,
          1952,
          1952,
          1952,
          1952,
          1933,
          1955,
          1954,
          1955,
          1954,
          1955,
          1954,
          1936,
          1957,
          1962,
          1952,
          1958,
          1940,
          1941,
          1951,
          1950,
          1983,
          1952,
          1940,
          1980,
          1934,
          1958,
          1952,
          1955,
          1952,
          1960,
          1984,
          1951,
          1953,
          1984,
          1971,
          1984,
          1958,
          1947,
          1937,
          1972,
          1968,
          1986,
          1947,
          1957,
          1952,
          1955,
          1930,
          1932,
          1953,
          1915,
          1975,
          2006,
          1951,
          1954,
          1948,
          1986,
          1952,
          1962,
          1985,
          1981,
          1982,
          1953,
          1968,
          1960,
          1954,
          1985,
          1952,
          1950,
          1955,
          1952,
          1977,
          1957,
          1985,
          1954,
          1980,
          1981,
          1952,
          1980,
          1952,
          1934,
          1920,
          1955,
          1962,
          1956,
          1958,
          1975,
          1954,
          1949,
          1950,
          1931,
          1981,
          1953,
          1955,
          1952,
          2013,
          1970,
          1986,
          1934,
          1980,
          2007,
          1976,
          2003,
          1980,
          1968,
          1943,
          1934,
          1985,
          1952,
          1985,
          1989,
          1954,
          2003,
          1955,
          1959,
          1971,
          1982,
          1960,
          1988,
          1972,
          2007,
          1977,
          1966,
          1969,
          1987,
          1982,
          1987,
          2006,
          1989,
          1953,
          2008,
          1944,
          2018,
          1983,
          1988,
          1967,
          1952,
          1952,
          1960,
          1951,
          2015,
          1924,
          1949,
          1943,
          2012,
          1955,
          1982,
          2003,
          1973,
          1965,
          1949,
          2005,
          1960,
          1954,
          1979,
          1985,
          2014,
          1938,
          1971,
          1959,
          2006,
          1944,
          1940,
          1932,
          1938,
          1948,
          1964,
          1972,
          1932,
          1952,
          1972,
          1953,
          1980,
          1955,
          1948,
          1980,
          1952,
          1986,
          1980,
          1982,
          2013,
          1950,
          1949,
          1948,
          1935,
          1954,
          1935,
          1971,
          1944,
          1933,
          1921,
          2015,
          1947,
          1931,
          1962,
          1960,
          1935,
          2009,
          1956,
          1974,
          2015,
          2015,
          2010,
          1968,
          1920,
          1906,
          1949,
          1928,
          1954,
          1949,
          1950,
          1931,
          1948,
          1947,
          1986,
          1969,
          1948,
          1951,
          1951,
          1920,
          1948,
          1968,
          1992,
          2015,
          1970,
          1952,
          1951,
          1943,
          1938,
          1951,
          1941,
          1938,
          1969,
          1945,
          1987,
          1941,
          1975,
          1933,
          1990,
          1952,
          1990,
          1985,
          1939,
          1980,
          1964,
          1965,
          1981,
          1935,
          1938,
          2015,
          1953,
          1952,
          2015,
          1941,
          1965,
          1949,
          1954,
          1954,
          1941,
          1943,
          1950,
          1972,
          1941,
          1960,
          1959,
          1906,
          1969,
          1988,
          1989,
          1945,
          1961,
          1989,
          1961,
          1948,
          1982,
          1977,
          2016,
          1936,
          1988,
          2004,
          1935,
          1943,
          1957,
          1951,
          1965,
          1974,
          1954,
          1954,
          1954,
          1951,
          1971,
          1938,
          1951,
          1954,
          1947,
          1960,
          2010,
          1949,
          1930,
          1948,
          1969,
          1985,
          1985,
          1954,
          1947,
          1959,
          1938,
          1958,
          1966,
          1954,
          1963,
          2010,
          1973,
          1963,
          1921,
          2012,
          1974,
          1977,
          2015,
          1950,
          1986,
          1954,
          1963,
          1947,
          1955,
          1976,
          1950,
          1991,
          1971,
          1947,
          1936,
          1971,
          1944,
          1987,
          1942,
          1927,
          2013,
          2013,
          1952,
          1992,
          1957,
          1933,
          1921,
          1971,
          2015,
          1984,
          1948,
          1982,
          1937,
          1992,
          1938,
          1950,
          1942,
          1942,
          1938,
          1923,
          1945,
          1954,
          2015,
          1932,
          1986,
          1984,
          1976,
          1984,
          1940,
          1968,
          1988,
          1984,
          1984,
          1960,
          1932,
          1987,
          1984,
          1984,
          1955,
          1996,
          1942,
          1965,
          2015,
          1983,
          1974,
          1954,
          1951,
          1962,
          1962,
          1978,
          1979,
          1973,
          1992,
          1986,
          1960,
          1967,
          1954,
          1951,
          1938,
          1951,
          1981,
          1982,
          1950,
          1961,
          1966,
          1958,
          1975,
          1960,
          1986,
          1963,
          1916,
          1976,
          1964,
          1950,
          1950,
          1926,
          1950,
          2012,
          2013,
          1988,
          1956,
          1963,
          2002,
          1964,
          1985,
          1916,
          1985,
          1984,
          1984,
          1947,
          1984,
          1950,
          1954,
          1981,
          1948,
          1976,
          2014,
          1965,
          1950,
          1924,
          1950,
          1970,
          1948,
          1970,
          1958,
          1951,
          1975,
          1921,
          1959,
          1965,
          1972,
          1970,
          1975,
          1970,
          1983,
          1971,
          1977,
          1951,
          1967,
          1972,
          1971,
          1961,
          1972,
          1950,
          1958,
          1955,
          1950,
          1971,
          1958,
          1973,
          1949,
          1951,
          1951,
          1946,
          1944,
          1965,
          1962,
          1983,
          1969,
          1983,
          1930,
          1920,
          1951,
          2013,
          1939,
          1978,
          1978,
          1931,
          1978,
          1978,
          1978,
          1978,
          1999,
          1932,
          1978,
          1978,
          1978,
          1978,
          1978,
          1978,
          1984,
          1985,
          1989,
          1960,
          1989,
          1985,
          1990,
          1993,
          1988,
          1978,
          1978,
          1988,
          1978,
          2015,
          2015,
          2010,
          2015,
          2015,
          2015,
          1984,
          2015,
          1961,
          1990,
          2002,
          1976,
          1984,
          1925,
          1991,
          1952,
          1942,
          1919,
          1984,
          1976,
          1983,
          1978,
          1978,
          1988,
          1984,
          1972,
          1981,
          1975,
          1968,
          1977,
          1976,
          1979,
          1982,
          1986,
          1975,
          1971,
          1983,
          1979,
          1974,
          1974,
          1952,
          1965,
          1931,
          1944,
          1974,
          1935,
          1935,
          1951,
          1951,
          1954,
          1963,
          1984,
          1939,
          1990,
          1982,
          1975,
          1960,
          1974,
          1988,
          1973,
          1955,
          1934,
          1970,
          1935,
          1927,
          1944,
          1982,
          1926,
          1943,
          1974,
          1951,
          1981,
          1942,
          1942,
          1942,
          1965,
          1951,
          1944,
          1973,
          1936,
          1987,
          1967,
          1984,
          1979,
          1956,
          1968,
          1952,
          1981,
          1960,
          1943,
          1918,
          1935,
          1967,
          1944,
          1945,
          1947,
          1970,
          1981,
          1986,
          1959,
          1986,
          1954,
          1966,
          1969,
          1968,
          1967,
          1967,
          1967,
          1967,
          1967,
          1967,
          1957,
          1993,
          1966,
          1957,
          1960,
          1957,
          1984,
          1984,
          1942,
          1956,
          1989,
          1988,
          1971,
          1985,
          1986,
          1987,
          1953,
          1969,
          1975,
          1972,
          1974,
          1968,
          1953,
          1964,
          1975,
          1999,
          1967,
          1978,
          1972,
          1968,
          1968,
          1982,
          1966,
          1960,
          1992,
          1990,
          1951,
          1960,
          1980,
          1981,
          1945,
          1992,
          1982,
          1985,
          1969,
          1987,
          1970,
          1935,
          1950,
          1978,
          1985,
          1979,
          1946,
          1995,
          1958,
          1919,
          1933,
          1949,
          1933,
          2004,
          1985,
          1953,
          1931,
          1937,
          1937,
          1983,
          1935,
          1948,
          1962,
          1971,
          1933,
          1926,
          1981,
          1956,
          1919,
          1976,
          1997,
          1928,
          1946,
          1932,
          1981,
          1932,
          1918,
          1985,
          1962,
          2015,
          2014,
          2015,
          2015,
          1925,
          1937,
          2015,
          1985,
          1946,
          1946,
          1961,
          1948,
          2015,
          1943,
          1977,
          1986,
          1945,
          1938,
          1988,
          1944,
          1945,
          1938,
          1958,
          1988,
          1938,
          1938,
          1953,
          1959,
          1965,
          1971,
          1985,
          1947,
          1966,
          1938,
          1985,
          1946,
          1972,
          1968,
          1977,
          1971,
          1946,
          1987,
          1984,
          1946,
          1957,
          1970,
          1987,
          1983,
          1968,
          1986,
          1988,
          1938,
          1929,
          1942,
          1976,
          1980,
          1932,
          1980,
          1963,
          1961,
          1935,
          1959,
          1978,
          1987,
          1980,
          1986,
          1985,
          1985,
          1987,
          1939,
          1965,
          1939,
          1980,
          1980,
          1956,
          1983,
          1981,
          1939,
          1981,
          1965,
          1967,
          1967,
          1967,
          1941,
          1987,
          1987,
          1980,
          1976,
          1968,
          1980,
          1967,
          1979,
          1942,
          1942,
          1905,
          1919,
          1979,
          1967,
          1970,
          1941,
          1961,
          1941,
          1974,
          1952,
          1951,
          1941,
          1981,
          1981,
          1972,
          1933,
          1983,
          1923,
          1951,
          1949,
          1922,
          1927,
          1935,
          1984,
          1916,
          1983,
          1974,
          1928,
          1949,
          1922,
          1949,
          1938,
          1935,
          1949,
          1930,
          1974,
          1930,
          1933,
          1957,
          1954,
          1932,
          1983,
          1922,
          1939,
          1961,
          1961,
          1961,
          1963,
          1934,
          2004,
          1972,
          1961,
          1952,
          1950,
          1932,
          1950,
          1975,
          1980,
          1985,
          2006,
          1961,
          1976,
          1931,
          1961,
          1949,
          1937,
          1949,
          1950,
          1932,
          1953,
          1983,
          1953,
          1942,
          1948,
          1983,
          1950,
          1978,
          1980,
          1991,
          1912,
          1953,
          1934,
          1932,
          1983,
          1919,
          1942,
          1953,
          1989,
          1932,
          1973,
          1972,
          1932,
          1932,
          1932,
          1932,
          1932,
          1983,
          1938,
          1954,
          1925,
          1926,
          1962,
          1951,
          1955,
          1919,
          1990,
          1952,
          1921,
          1966,
          1937,
          1970,
          1953,
          1932,
          1921,
          1928,
          1962,
          1953,
          1932,
          1955,
          1961,
          1962,
          1928,
          1953,
          1963,
          1953,
          1955,
          1960,
          1964,
          1959,
          1953,
          1964,
          1956,
          1901,
          1953,
          1969,
          1950,
          1958,
          1952,
          1982,
          1965,
          1920,
          1980,
          1919,
          1960,
          1931,
          1981,
          1930,
          1930,
          1929,
          1914,
          1928,
          2009,
          2003,
          1983,
          1983,
          1984,
          1920,
          1917,
          1948,
          1917,
          1968,
          1968,
          1968,
          1935,
          1967,
          1977,
          1977,
          1979,
          1941,
          1979,
          1963,
          1980,
          1982,
          1983,
          1981,
          1984,
          1965,
          1984,
          1985,
          1986,
          1988,
          1988,
          1988,
          1983,
          1976,
          1983,
          1987,
          1987,
          1986,
          1964,
          1982,
          1985,
          1981,
          1979,
          1993,
          1988,
          1986,
          1982,
          1974,
          2012,
          2012,
          1985,
          1983,
          1985,
          1993,
          1991,
          1991,
          1991,
          1992,
          1992,
          1992,
          1992,
          1972,
          1948,
          1956,
          1953,
          1951,
          1973,
          1950,
          1953,
          1964,
          1952,
          1967,
          1966,
          1953,
          1930,
          1953,
          1922,
          1969,
          1950,
          1952,
          1950,
          1953,
          1948,
          1972,
          1966,
          1967,
          1967,
          1967,
          1961,
          1968,
          1966,
          1967,
          1953,
          1969,
          1967,
          1967,
          1971,
          1971,
          1966,
          1970,
          1952,
          1953,
          1952,
          1975,
          1975,
          1975,
          1976,
          1965,
          1949,
          1947,
          1960,
          1976,
          1975,
          1948,
          1948,
          1948,
          1948,
          1948,
          1975,
          1929,
          1949,
          1932,
          1953,
          1932,
          1932,
          1932,
          1932,
          1932,
          1932,
          1946,
          1932,
          1969,
          1973,
          1937,
          1949,
          1932,
          1935
         ],
         "x0": " ",
         "xaxis": "x",
         "y": [
          85,
          84,
          73,
          72,
          70,
          70,
          69,
          68,
          67,
          66,
          66,
          65,
          65,
          64,
          64,
          64,
          63,
          63,
          61,
          61,
          61,
          60,
          60,
          60,
          59,
          59,
          59,
          59,
          58,
          58,
          58,
          58,
          58,
          58,
          58,
          58,
          58,
          57,
          57,
          57,
          57,
          57,
          57,
          57,
          57,
          57,
          56,
          56,
          56,
          56,
          56,
          56,
          56,
          56,
          56,
          56,
          56,
          56,
          56,
          56,
          56,
          56,
          55,
          55,
          55,
          55,
          55,
          55,
          55,
          55,
          55,
          55,
          55,
          55,
          55,
          55,
          55,
          55,
          55,
          55,
          55,
          55,
          55,
          55,
          55,
          55,
          55,
          55,
          55,
          55,
          55,
          55,
          54,
          54,
          54,
          54,
          54,
          54,
          54,
          54,
          54,
          54,
          54,
          54,
          54,
          54,
          54,
          54,
          54,
          54,
          54,
          54,
          54,
          54,
          54,
          54,
          54,
          54,
          54,
          54,
          54,
          54,
          54,
          54,
          54,
          54,
          54,
          54,
          54,
          54,
          54,
          54,
          54,
          54,
          54,
          54,
          54,
          54,
          54,
          54,
          54,
          53,
          53,
          53,
          53,
          53,
          53,
          53,
          53,
          53,
          53,
          53,
          53,
          53,
          53,
          53,
          53,
          53,
          53,
          53,
          53,
          53,
          53,
          53,
          53,
          53,
          53,
          53,
          53,
          53,
          53,
          53,
          53,
          53,
          53,
          53,
          52,
          52,
          52,
          52,
          52,
          52,
          52,
          52,
          52,
          52,
          52,
          52,
          52,
          52,
          52,
          52,
          52,
          52,
          52,
          52,
          51,
          51,
          51,
          51,
          51,
          51,
          51,
          51,
          51,
          50,
          50,
          50,
          50,
          50,
          50,
          50,
          49,
          49,
          49,
          49,
          49,
          49,
          48,
          48,
          48,
          48,
          48,
          48,
          48,
          48,
          48,
          47,
          47,
          47,
          47,
          47,
          46,
          46,
          46,
          46,
          46,
          46,
          46,
          46,
          46,
          45,
          45,
          45,
          45,
          45,
          45,
          45,
          44,
          44,
          44,
          44,
          44,
          44,
          43,
          43,
          43,
          43,
          43,
          43,
          43,
          42,
          42,
          42,
          41,
          41,
          41,
          41,
          41,
          40,
          40,
          40,
          40,
          40,
          40,
          40,
          40,
          40,
          40,
          40,
          40,
          40,
          40,
          40,
          40,
          40,
          40,
          40,
          40,
          40,
          40,
          40,
          40,
          40,
          40,
          40,
          40,
          40,
          40,
          40,
          40,
          40,
          40,
          40,
          40,
          40,
          40,
          40,
          40,
          40,
          40,
          40,
          40,
          40,
          40,
          40,
          40,
          40,
          40,
          39,
          39,
          39,
          39,
          39,
          39,
          39,
          39,
          39,
          39,
          39,
          39,
          39,
          38,
          38,
          38,
          38,
          38,
          38,
          38,
          38,
          38,
          38,
          38,
          37,
          37,
          37,
          37,
          37,
          37,
          37,
          37,
          37,
          37,
          37,
          37,
          36,
          36,
          36,
          36,
          36,
          36,
          36,
          36,
          36,
          36,
          36,
          35,
          35,
          35,
          35,
          35,
          35,
          35,
          35,
          35,
          34,
          34,
          34,
          34,
          34,
          34,
          34,
          34,
          34,
          34,
          34,
          34,
          33,
          33,
          33,
          33,
          33,
          33,
          33,
          33,
          33,
          33,
          33,
          33,
          33,
          33,
          33,
          32,
          32,
          32,
          32,
          32,
          32,
          32,
          32,
          32,
          32,
          32,
          32,
          32,
          32,
          32,
          32,
          32,
          32,
          32,
          32,
          32,
          32,
          31,
          31,
          31,
          31,
          31,
          31,
          31,
          31,
          31,
          31,
          31,
          31,
          31,
          31,
          31,
          31,
          31,
          31,
          31,
          31,
          31,
          31,
          31,
          30,
          30,
          30,
          30,
          30,
          30,
          30,
          30,
          30,
          30,
          30,
          30,
          30,
          30,
          30,
          30,
          30,
          30,
          30,
          30,
          29,
          29,
          29,
          29,
          29,
          29,
          29,
          29,
          29,
          29,
          29,
          29,
          29,
          29,
          29,
          29,
          29,
          29,
          29,
          29,
          29,
          29,
          28,
          28,
          28,
          28,
          28,
          28,
          28,
          28,
          28,
          28,
          28,
          27,
          27,
          27,
          27,
          27,
          27,
          27,
          27,
          27,
          27,
          27,
          27,
          27,
          27,
          27,
          27,
          27,
          27,
          27,
          27,
          27,
          27,
          27,
          27,
          27,
          27,
          27,
          27,
          27,
          27,
          26,
          26,
          26,
          26,
          26,
          26,
          26,
          26,
          26,
          26,
          26,
          26,
          26,
          26,
          25,
          25,
          25,
          25,
          25,
          25,
          25,
          25,
          25,
          25,
          24,
          24,
          24,
          24,
          24,
          24,
          24,
          24,
          24,
          24,
          24,
          24,
          24,
          24,
          23,
          23,
          23,
          23,
          23,
          23,
          23,
          23,
          23,
          23,
          23,
          22,
          22,
          22,
          22,
          22,
          22,
          21,
          21,
          21,
          20,
          20,
          20,
          20,
          20,
          19,
          19,
          19,
          19,
          19,
          19,
          19,
          19,
          19,
          18,
          18,
          18,
          18,
          17,
          17,
          17,
          17,
          17,
          17,
          17,
          17,
          17,
          16,
          16,
          16,
          16,
          16,
          16,
          16,
          16,
          16,
          15,
          15,
          15,
          15,
          15,
          15,
          15,
          15,
          14,
          14,
          14,
          14,
          14,
          14,
          14,
          14,
          14,
          14,
          14,
          13,
          13,
          13,
          13,
          13,
          13,
          13,
          13,
          13,
          12,
          12,
          12,
          12,
          12,
          12,
          12,
          12,
          12,
          12,
          12,
          12,
          12,
          12,
          12,
          12,
          12,
          12,
          12,
          11,
          11,
          11,
          11,
          11,
          11,
          11,
          11,
          11,
          11,
          11,
          11,
          11,
          11,
          11,
          11,
          11,
          11,
          11,
          11,
          11,
          11,
          11,
          11,
          11,
          11,
          11,
          11,
          11,
          11,
          11,
          11,
          10,
          10,
          10,
          10,
          10,
          10,
          10,
          10,
          10,
          10,
          10,
          10,
          10,
          10,
          10,
          10,
          10,
          10,
          10,
          10,
          10,
          10,
          10,
          10,
          10,
          10,
          10,
          10,
          10,
          10,
          10,
          10,
          10,
          10,
          10,
          10,
          10,
          10,
          10,
          10,
          10,
          10,
          10,
          10,
          10,
          10,
          10,
          10,
          10,
          10,
          10,
          10,
          10,
          10,
          10,
          10,
          10,
          10,
          10,
          10,
          9,
          9,
          9,
          9,
          9,
          9,
          9,
          9,
          9,
          9,
          9,
          9,
          9,
          9,
          9,
          9,
          9,
          9,
          9,
          9,
          9,
          9,
          9,
          9,
          9,
          9,
          9,
          9,
          9,
          9,
          9,
          9,
          9,
          9,
          9,
          9,
          9,
          9,
          9,
          9,
          9,
          9,
          9,
          9,
          9,
          9,
          8,
          8,
          8,
          8,
          8,
          8,
          8,
          8,
          8,
          8,
          8,
          8,
          8,
          8,
          8,
          8,
          8,
          8,
          8,
          8,
          8,
          8,
          8,
          8,
          8,
          8,
          8,
          8,
          8,
          8,
          8,
          8,
          8,
          8,
          8,
          8,
          7,
          7,
          7,
          7,
          7,
          7,
          7,
          7,
          7,
          7,
          7,
          7,
          7,
          7,
          7,
          7,
          7,
          7,
          7,
          7,
          7,
          7,
          7,
          7,
          7,
          7,
          7,
          7,
          7,
          6,
          6,
          6,
          6,
          6,
          6,
          6,
          6,
          6,
          6,
          6,
          6,
          6,
          6,
          6,
          6,
          6,
          6,
          6,
          6,
          6,
          6,
          6,
          6,
          5,
          5,
          5,
          5,
          5,
          5,
          5,
          5,
          5,
          5,
          5,
          5,
          5,
          5,
          5,
          5,
          5,
          5,
          5,
          5,
          5,
          5,
          5,
          5,
          5,
          5,
          5,
          5,
          5,
          5,
          5,
          5,
          5,
          5,
          5,
          5,
          5,
          5,
          5,
          5,
          5,
          5,
          5,
          5,
          5,
          5,
          5,
          5,
          4,
          4,
          4,
          4,
          4,
          4,
          4,
          4,
          4,
          4,
          4,
          4,
          4,
          4,
          4,
          4,
          4,
          4,
          4,
          4,
          4,
          4,
          4,
          4,
          4,
          4,
          4,
          4,
          4,
          4,
          4,
          4,
          4,
          4,
          4,
          4,
          4,
          4,
          4,
          4,
          4,
          4,
          4,
          4,
          4,
          4,
          4,
          4,
          4,
          4,
          4,
          4,
          4,
          4,
          4,
          4,
          4,
          4,
          4,
          4,
          4,
          4,
          4,
          4,
          4,
          4,
          4,
          4,
          4,
          4,
          4,
          4,
          4,
          4,
          4,
          4,
          4,
          4,
          4,
          4,
          4,
          4,
          4,
          4,
          4,
          4,
          4,
          4,
          4,
          4,
          4,
          4,
          4,
          4,
          4,
          4,
          4,
          4,
          4,
          4,
          4,
          4,
          4,
          4,
          4,
          4,
          4,
          4,
          4,
          4,
          4,
          4,
          4,
          4,
          4,
          4,
          4,
          3,
          3,
          3,
          3,
          3,
          3,
          3,
          3,
          3,
          3,
          3,
          3,
          3,
          3,
          3,
          3,
          3,
          3,
          3,
          3,
          3,
          3,
          3,
          3,
          3,
          3,
          3,
          3,
          3,
          3,
          3,
          3,
          3,
          3,
          3,
          3,
          3,
          3,
          3,
          3,
          3,
          3,
          3,
          3,
          3,
          3,
          3,
          3,
          3,
          3,
          3,
          3,
          3,
          3,
          3,
          3,
          3,
          3,
          3,
          3,
          3,
          3,
          3,
          3,
          3,
          3,
          3,
          3,
          3,
          3,
          3,
          3,
          3,
          3,
          3,
          3,
          3,
          3,
          3,
          3,
          3,
          3,
          3,
          3,
          3,
          3,
          3,
          3,
          3,
          3,
          3,
          3,
          3,
          3,
          3,
          3,
          3,
          3,
          3,
          3,
          3,
          3,
          3,
          3,
          3,
          3,
          3,
          3,
          3,
          3,
          3,
          3,
          3,
          3,
          3,
          3,
          3,
          3,
          3,
          3,
          3,
          3,
          3,
          3,
          3,
          3,
          3,
          3,
          3,
          3,
          3,
          3,
          3,
          3,
          3,
          3,
          3,
          3,
          3,
          3,
          3,
          3,
          3,
          3,
          3,
          3,
          3,
          3,
          3,
          3,
          3,
          3,
          3,
          3,
          3,
          3,
          3,
          3,
          3,
          3,
          3,
          3,
          3,
          3,
          3,
          3,
          3,
          3,
          3,
          3,
          3,
          2,
          2,
          2,
          2,
          2,
          2,
          2,
          2,
          2,
          2,
          2,
          2,
          2,
          2,
          2,
          2,
          2,
          2,
          2,
          2,
          2,
          2,
          2,
          2,
          2,
          2,
          2,
          2,
          2,
          2,
          2,
          2,
          2,
          2,
          2,
          2,
          2,
          2,
          2,
          2,
          2,
          2,
          2,
          2,
          2,
          2,
          2,
          2,
          2,
          2,
          2,
          2,
          2,
          2,
          2,
          2,
          2,
          2,
          2,
          2,
          2,
          2,
          2,
          2,
          2,
          2,
          2,
          2,
          2,
          2,
          2,
          2,
          2,
          2,
          2,
          2,
          2,
          2,
          2,
          2,
          2,
          2,
          2,
          2,
          2,
          2,
          2,
          2,
          2,
          2,
          2,
          2,
          2,
          2,
          2,
          2,
          2,
          2,
          2,
          2,
          2,
          2,
          2,
          2,
          2,
          2,
          2,
          2,
          2,
          2,
          2,
          2,
          2,
          2,
          2,
          2,
          2,
          2,
          2,
          2,
          2,
          2,
          2,
          2,
          2,
          2,
          2,
          2,
          2,
          2,
          2,
          2,
          2,
          2,
          2,
          2,
          2,
          2,
          2,
          2,
          2,
          2,
          2,
          2,
          2,
          2,
          2,
          2,
          2,
          2,
          2,
          2,
          2,
          2,
          2,
          2,
          2,
          2,
          2,
          2,
          2,
          2,
          2,
          2,
          2,
          2,
          2,
          2,
          2,
          2,
          2,
          2,
          2,
          2,
          2,
          2,
          2,
          2,
          2,
          2,
          2,
          2,
          2,
          2,
          2,
          2,
          2,
          2,
          2,
          2,
          2,
          2,
          2,
          1,
          1,
          1,
          1,
          1,
          1,
          1,
          1,
          1,
          1,
          1,
          1,
          1,
          1,
          1,
          1,
          1,
          1,
          1,
          1,
          1,
          1,
          1,
          1,
          1,
          1,
          1,
          1,
          1,
          1,
          1,
          1,
          1,
          1,
          1,
          1,
          1,
          1,
          1,
          1,
          1,
          1,
          1,
          1,
          1,
          1,
          1,
          1,
          1,
          1,
          1,
          1,
          1,
          1,
          1,
          1,
          1,
          1,
          1,
          1,
          1,
          1,
          1,
          1,
          1,
          1,
          1,
          1,
          1,
          1,
          1,
          1,
          1,
          1,
          1,
          1,
          1,
          1,
          1,
          1,
          1,
          1,
          1,
          1,
          1,
          1,
          1,
          1,
          1,
          1,
          1,
          1,
          1,
          1,
          1,
          1,
          1,
          1,
          1,
          1,
          1,
          1,
          1,
          1,
          1,
          1,
          1,
          1,
          1,
          1,
          1,
          1,
          1,
          1,
          1,
          1,
          1,
          1,
          1,
          1,
          1,
          1,
          1,
          1,
          1,
          1,
          1,
          1,
          1,
          1,
          1,
          1,
          1,
          1,
          1,
          1,
          1,
          1,
          1,
          1,
          1,
          1,
          1,
          1,
          1,
          1,
          1,
          1,
          1,
          1,
          1,
          1,
          1,
          1,
          1,
          1,
          1,
          1,
          1,
          1,
          1,
          1,
          1,
          1,
          1,
          1,
          1,
          1,
          1,
          1,
          1,
          1,
          1,
          1,
          1
         ],
         "y0": " ",
         "yaxis": "y"
        }
       ],
       "layout": {
        "autosize": true,
        "boxmode": "group",
        "legend": {
         "tracegroupgap": 0
        },
        "margin": {
         "t": 60
        },
        "template": {
         "data": {
          "bar": [
           {
            "error_x": {
             "color": "#2a3f5f"
            },
            "error_y": {
             "color": "#2a3f5f"
            },
            "marker": {
             "line": {
              "color": "#E5ECF6",
              "width": 0.5
             },
             "pattern": {
              "fillmode": "overlay",
              "size": 10,
              "solidity": 0.2
             }
            },
            "type": "bar"
           }
          ],
          "barpolar": [
           {
            "marker": {
             "line": {
              "color": "#E5ECF6",
              "width": 0.5
             },
             "pattern": {
              "fillmode": "overlay",
              "size": 10,
              "solidity": 0.2
             }
            },
            "type": "barpolar"
           }
          ],
          "carpet": [
           {
            "aaxis": {
             "endlinecolor": "#2a3f5f",
             "gridcolor": "white",
             "linecolor": "white",
             "minorgridcolor": "white",
             "startlinecolor": "#2a3f5f"
            },
            "baxis": {
             "endlinecolor": "#2a3f5f",
             "gridcolor": "white",
             "linecolor": "white",
             "minorgridcolor": "white",
             "startlinecolor": "#2a3f5f"
            },
            "type": "carpet"
           }
          ],
          "choropleth": [
           {
            "colorbar": {
             "outlinewidth": 0,
             "ticks": ""
            },
            "type": "choropleth"
           }
          ],
          "contour": [
           {
            "colorbar": {
             "outlinewidth": 0,
             "ticks": ""
            },
            "colorscale": [
             [
              0,
              "#0d0887"
             ],
             [
              0.1111111111111111,
              "#46039f"
             ],
             [
              0.2222222222222222,
              "#7201a8"
             ],
             [
              0.3333333333333333,
              "#9c179e"
             ],
             [
              0.4444444444444444,
              "#bd3786"
             ],
             [
              0.5555555555555556,
              "#d8576b"
             ],
             [
              0.6666666666666666,
              "#ed7953"
             ],
             [
              0.7777777777777778,
              "#fb9f3a"
             ],
             [
              0.8888888888888888,
              "#fdca26"
             ],
             [
              1,
              "#f0f921"
             ]
            ],
            "type": "contour"
           }
          ],
          "contourcarpet": [
           {
            "colorbar": {
             "outlinewidth": 0,
             "ticks": ""
            },
            "type": "contourcarpet"
           }
          ],
          "heatmap": [
           {
            "colorbar": {
             "outlinewidth": 0,
             "ticks": ""
            },
            "colorscale": [
             [
              0,
              "#0d0887"
             ],
             [
              0.1111111111111111,
              "#46039f"
             ],
             [
              0.2222222222222222,
              "#7201a8"
             ],
             [
              0.3333333333333333,
              "#9c179e"
             ],
             [
              0.4444444444444444,
              "#bd3786"
             ],
             [
              0.5555555555555556,
              "#d8576b"
             ],
             [
              0.6666666666666666,
              "#ed7953"
             ],
             [
              0.7777777777777778,
              "#fb9f3a"
             ],
             [
              0.8888888888888888,
              "#fdca26"
             ],
             [
              1,
              "#f0f921"
             ]
            ],
            "type": "heatmap"
           }
          ],
          "heatmapgl": [
           {
            "colorbar": {
             "outlinewidth": 0,
             "ticks": ""
            },
            "colorscale": [
             [
              0,
              "#0d0887"
             ],
             [
              0.1111111111111111,
              "#46039f"
             ],
             [
              0.2222222222222222,
              "#7201a8"
             ],
             [
              0.3333333333333333,
              "#9c179e"
             ],
             [
              0.4444444444444444,
              "#bd3786"
             ],
             [
              0.5555555555555556,
              "#d8576b"
             ],
             [
              0.6666666666666666,
              "#ed7953"
             ],
             [
              0.7777777777777778,
              "#fb9f3a"
             ],
             [
              0.8888888888888888,
              "#fdca26"
             ],
             [
              1,
              "#f0f921"
             ]
            ],
            "type": "heatmapgl"
           }
          ],
          "histogram": [
           {
            "marker": {
             "pattern": {
              "fillmode": "overlay",
              "size": 10,
              "solidity": 0.2
             }
            },
            "type": "histogram"
           }
          ],
          "histogram2d": [
           {
            "colorbar": {
             "outlinewidth": 0,
             "ticks": ""
            },
            "colorscale": [
             [
              0,
              "#0d0887"
             ],
             [
              0.1111111111111111,
              "#46039f"
             ],
             [
              0.2222222222222222,
              "#7201a8"
             ],
             [
              0.3333333333333333,
              "#9c179e"
             ],
             [
              0.4444444444444444,
              "#bd3786"
             ],
             [
              0.5555555555555556,
              "#d8576b"
             ],
             [
              0.6666666666666666,
              "#ed7953"
             ],
             [
              0.7777777777777778,
              "#fb9f3a"
             ],
             [
              0.8888888888888888,
              "#fdca26"
             ],
             [
              1,
              "#f0f921"
             ]
            ],
            "type": "histogram2d"
           }
          ],
          "histogram2dcontour": [
           {
            "colorbar": {
             "outlinewidth": 0,
             "ticks": ""
            },
            "colorscale": [
             [
              0,
              "#0d0887"
             ],
             [
              0.1111111111111111,
              "#46039f"
             ],
             [
              0.2222222222222222,
              "#7201a8"
             ],
             [
              0.3333333333333333,
              "#9c179e"
             ],
             [
              0.4444444444444444,
              "#bd3786"
             ],
             [
              0.5555555555555556,
              "#d8576b"
             ],
             [
              0.6666666666666666,
              "#ed7953"
             ],
             [
              0.7777777777777778,
              "#fb9f3a"
             ],
             [
              0.8888888888888888,
              "#fdca26"
             ],
             [
              1,
              "#f0f921"
             ]
            ],
            "type": "histogram2dcontour"
           }
          ],
          "mesh3d": [
           {
            "colorbar": {
             "outlinewidth": 0,
             "ticks": ""
            },
            "type": "mesh3d"
           }
          ],
          "parcoords": [
           {
            "line": {
             "colorbar": {
              "outlinewidth": 0,
              "ticks": ""
             }
            },
            "type": "parcoords"
           }
          ],
          "pie": [
           {
            "automargin": true,
            "type": "pie"
           }
          ],
          "scatter": [
           {
            "marker": {
             "colorbar": {
              "outlinewidth": 0,
              "ticks": ""
             }
            },
            "type": "scatter"
           }
          ],
          "scatter3d": [
           {
            "line": {
             "colorbar": {
              "outlinewidth": 0,
              "ticks": ""
             }
            },
            "marker": {
             "colorbar": {
              "outlinewidth": 0,
              "ticks": ""
             }
            },
            "type": "scatter3d"
           }
          ],
          "scattercarpet": [
           {
            "marker": {
             "colorbar": {
              "outlinewidth": 0,
              "ticks": ""
             }
            },
            "type": "scattercarpet"
           }
          ],
          "scattergeo": [
           {
            "marker": {
             "colorbar": {
              "outlinewidth": 0,
              "ticks": ""
             }
            },
            "type": "scattergeo"
           }
          ],
          "scattergl": [
           {
            "marker": {
             "colorbar": {
              "outlinewidth": 0,
              "ticks": ""
             }
            },
            "type": "scattergl"
           }
          ],
          "scattermapbox": [
           {
            "marker": {
             "colorbar": {
              "outlinewidth": 0,
              "ticks": ""
             }
            },
            "type": "scattermapbox"
           }
          ],
          "scatterpolar": [
           {
            "marker": {
             "colorbar": {
              "outlinewidth": 0,
              "ticks": ""
             }
            },
            "type": "scatterpolar"
           }
          ],
          "scatterpolargl": [
           {
            "marker": {
             "colorbar": {
              "outlinewidth": 0,
              "ticks": ""
             }
            },
            "type": "scatterpolargl"
           }
          ],
          "scatterternary": [
           {
            "marker": {
             "colorbar": {
              "outlinewidth": 0,
              "ticks": ""
             }
            },
            "type": "scatterternary"
           }
          ],
          "surface": [
           {
            "colorbar": {
             "outlinewidth": 0,
             "ticks": ""
            },
            "colorscale": [
             [
              0,
              "#0d0887"
             ],
             [
              0.1111111111111111,
              "#46039f"
             ],
             [
              0.2222222222222222,
              "#7201a8"
             ],
             [
              0.3333333333333333,
              "#9c179e"
             ],
             [
              0.4444444444444444,
              "#bd3786"
             ],
             [
              0.5555555555555556,
              "#d8576b"
             ],
             [
              0.6666666666666666,
              "#ed7953"
             ],
             [
              0.7777777777777778,
              "#fb9f3a"
             ],
             [
              0.8888888888888888,
              "#fdca26"
             ],
             [
              1,
              "#f0f921"
             ]
            ],
            "type": "surface"
           }
          ],
          "table": [
           {
            "cells": {
             "fill": {
              "color": "#EBF0F8"
             },
             "line": {
              "color": "white"
             }
            },
            "header": {
             "fill": {
              "color": "#C8D4E3"
             },
             "line": {
              "color": "white"
             }
            },
            "type": "table"
           }
          ]
         },
         "layout": {
          "annotationdefaults": {
           "arrowcolor": "#2a3f5f",
           "arrowhead": 0,
           "arrowwidth": 1
          },
          "autotypenumbers": "strict",
          "coloraxis": {
           "colorbar": {
            "outlinewidth": 0,
            "ticks": ""
           }
          },
          "colorscale": {
           "diverging": [
            [
             0,
             "#8e0152"
            ],
            [
             0.1,
             "#c51b7d"
            ],
            [
             0.2,
             "#de77ae"
            ],
            [
             0.3,
             "#f1b6da"
            ],
            [
             0.4,
             "#fde0ef"
            ],
            [
             0.5,
             "#f7f7f7"
            ],
            [
             0.6,
             "#e6f5d0"
            ],
            [
             0.7,
             "#b8e186"
            ],
            [
             0.8,
             "#7fbc41"
            ],
            [
             0.9,
             "#4d9221"
            ],
            [
             1,
             "#276419"
            ]
           ],
           "sequential": [
            [
             0,
             "#0d0887"
            ],
            [
             0.1111111111111111,
             "#46039f"
            ],
            [
             0.2222222222222222,
             "#7201a8"
            ],
            [
             0.3333333333333333,
             "#9c179e"
            ],
            [
             0.4444444444444444,
             "#bd3786"
            ],
            [
             0.5555555555555556,
             "#d8576b"
            ],
            [
             0.6666666666666666,
             "#ed7953"
            ],
            [
             0.7777777777777778,
             "#fb9f3a"
            ],
            [
             0.8888888888888888,
             "#fdca26"
            ],
            [
             1,
             "#f0f921"
            ]
           ],
           "sequentialminus": [
            [
             0,
             "#0d0887"
            ],
            [
             0.1111111111111111,
             "#46039f"
            ],
            [
             0.2222222222222222,
             "#7201a8"
            ],
            [
             0.3333333333333333,
             "#9c179e"
            ],
            [
             0.4444444444444444,
             "#bd3786"
            ],
            [
             0.5555555555555556,
             "#d8576b"
            ],
            [
             0.6666666666666666,
             "#ed7953"
            ],
            [
             0.7777777777777778,
             "#fb9f3a"
            ],
            [
             0.8888888888888888,
             "#fdca26"
            ],
            [
             1,
             "#f0f921"
            ]
           ]
          },
          "colorway": [
           "#636efa",
           "#EF553B",
           "#00cc96",
           "#ab63fa",
           "#FFA15A",
           "#19d3f3",
           "#FF6692",
           "#B6E880",
           "#FF97FF",
           "#FECB52"
          ],
          "font": {
           "color": "#2a3f5f"
          },
          "geo": {
           "bgcolor": "white",
           "lakecolor": "white",
           "landcolor": "#E5ECF6",
           "showlakes": true,
           "showland": true,
           "subunitcolor": "white"
          },
          "hoverlabel": {
           "align": "left"
          },
          "hovermode": "closest",
          "mapbox": {
           "style": "light"
          },
          "paper_bgcolor": "white",
          "plot_bgcolor": "#E5ECF6",
          "polar": {
           "angularaxis": {
            "gridcolor": "white",
            "linecolor": "white",
            "ticks": ""
           },
           "bgcolor": "#E5ECF6",
           "radialaxis": {
            "gridcolor": "white",
            "linecolor": "white",
            "ticks": ""
           }
          },
          "scene": {
           "xaxis": {
            "backgroundcolor": "#E5ECF6",
            "gridcolor": "white",
            "gridwidth": 2,
            "linecolor": "white",
            "showbackground": true,
            "ticks": "",
            "zerolinecolor": "white"
           },
           "yaxis": {
            "backgroundcolor": "#E5ECF6",
            "gridcolor": "white",
            "gridwidth": 2,
            "linecolor": "white",
            "showbackground": true,
            "ticks": "",
            "zerolinecolor": "white"
           },
           "zaxis": {
            "backgroundcolor": "#E5ECF6",
            "gridcolor": "white",
            "gridwidth": 2,
            "linecolor": "white",
            "showbackground": true,
            "ticks": "",
            "zerolinecolor": "white"
           }
          },
          "shapedefaults": {
           "line": {
            "color": "#2a3f5f"
           }
          },
          "ternary": {
           "aaxis": {
            "gridcolor": "white",
            "linecolor": "white",
            "ticks": ""
           },
           "baxis": {
            "gridcolor": "white",
            "linecolor": "white",
            "ticks": ""
           },
           "bgcolor": "#E5ECF6",
           "caxis": {
            "gridcolor": "white",
            "linecolor": "white",
            "ticks": ""
           }
          },
          "title": {
           "x": 0.05
          },
          "xaxis": {
           "automargin": true,
           "gridcolor": "white",
           "linecolor": "white",
           "ticks": "",
           "title": {
            "standoff": 15
           },
           "zerolinecolor": "white",
           "zerolinewidth": 2
          },
          "yaxis": {
           "automargin": true,
           "gridcolor": "white",
           "linecolor": "white",
           "ticks": "",
           "title": {
            "standoff": 15
           },
           "zerolinecolor": "white",
           "zerolinewidth": 2
          }
         }
        },
        "xaxis": {
         "anchor": "y",
         "autorange": false,
         "domain": [
          0,
          1
         ],
         "range": [
          1903.8122807017544,
          1941.1069149481891
         ],
         "title": {
          "text": "Year_Cultured"
         },
         "type": "linear"
        },
        "yaxis": {
         "anchor": "x",
         "autorange": false,
         "domain": [
          0,
          1
         ],
         "range": [
          -3.666666666666667,
          70.23914434225954
         ],
         "title": {
          "text": "Number of strict/perfect AbR hits"
         },
         "type": "linear"
        }
       }
      },
      "image/png": "[encoded data removed]",
      "text/html": [
       "<div>                            <div id=\"0aee6d6c-3e82-44e9-932d-824172ebd6eb\" class=\"plotly-graph-div\" style=\"height:525px; width:100%;\"></div>            <script type=\"text/javascript\">                require([\"plotly\"], function(Plotly) {                    window.PLOTLYENV=window.PLOTLYENV || {};                                    if (document.getElementById(\"0aee6d6c-3e82-44e9-932d-824172ebd6eb\")) {                    Plotly.newPlot(                        \"0aee6d6c-3e82-44e9-932d-824172ebd6eb\",                        [{\"alignmentgroup\":\"True\",\"boxpoints\":\"all\",\"customdata\":[[\"Escherichia coli\",\"NCTC13461\"],[\"Escherichia coli\",\"NCTC12653\"],[\"Escherichia coli\",\"NCTC13441\"],[\"Escherichia coli\",\"NCTC13846\"],[\"Escherichia coli\",\"NCTC12652\"],[\"Escherichia coli\",\"NCTC13919\"],[\"Escherichia coli\",\"NCTC12654\"],[\"Escherichia coli\",\"NCTC11472\"],[\"Escherichia coli\",\"NCTC13353\"],[\"Pseudomonas aeruginosa\",\"NCTC13717\"],[\"Pseudomonas aeruginosa\",\"NCTC13719\"],[\"Pseudomonas aeruginosa\",\"NCTC13715\"],[\"Escherichia coli\",\"NCTC13462\"],[\"Escherichia coli\",\"NCTC11186\"],[\"Pseudomonas aeruginosa\",\"NCTC13921\"],[\"Escherichia coli\",\"NCTC13451\"],[\"Escherichia coli\",\"NCTC11560\"],[\"Pseudomonas aeruginosa\",\"NCTC11839\"],[\"Pseudomonas aeruginosa\",\"NCTC8506\"],[\"Escherichia coli\",\"NCTC13463\"],[\"Pseudomonas aeruginosa\",\"NCTC13716\"],[\"Escherichia coli\",\"NCTC13450\"],[\"Pseudomonas aeruginosa\",\"NCTC12447\"],[\"Pseudomonas aeruginosa\",\"NCTC13437\"],[\"Pseudomonas aeruginosa\",\"NCTC8058\"],[\"Pseudomonas aeruginosa\",\"NCTC8203\"],[\"Escherichia coli\",\"NCTC9031\"],[\"Pseudomonas aeruginosa\",\"NCTC7244\"],[\"Pseudomonas aeruginosa\",\"NCTC10730\"],[\"Pseudomonas aeruginosa\",\"NCTC10782\"],[\"Pseudomonas aeruginosa\",\"NCTC11445\"],[\"Escherichia coli\",\"NCTC13452\"],[\"Escherichia coli\",\"NCTC13351\"],[\"Pseudomonas aeruginosa\",\"NCTC11452\"],[\"Pseudomonas aeruginosa\",\"NCTC10731\"],[\"Escherichia coli\",\"NCTC9109\"],[\"Pseudomonas aeruginosa\",\"NCTC12449\"],[\"Escherichia coli\",\"NCTC4169\"],[\"Pseudomonas aeruginosa\",\"NCTC12448\"],[\"Escherichia coli\",\"NCTC9015\"],[\"Escherichia coli\",\"NCTC9069\"],[\"Pseudomonas aeruginosa\",\"NCTC11448\"],[\"Pseudomonas aeruginosa\",\"NCTC11447\"],[\"Pseudomonas aeruginosa\",\"NCTC10728\"],[\"Pseudomonas aeruginosa\",\"NCTC10299\"],[\"Escherichia coli\",\"NCTC9005\"],[\"Escherichia coli\",\"NCTC9009\"],[\"Escherichia coli\",\"NCTC9008\"],[\"Pseudomonas aeruginosa\",\"NCTC10332\"],[\"Pseudomonas aeruginosa\",\"NCTC9433\"],[\"Escherichia coli\",\"NCTC9705\"],[\"Escherichia coli\",\"NCTC9775\"],[\"Pseudomonas aeruginosa\",\"NCTC6750\"],[\"Pseudomonas aeruginosa\",\"NCTC10727\"],[\"Escherichia coli\",\"NCTC9070\"],[\"Pseudomonas aeruginosa\",\"NCTC11446\"],[\"Pseudomonas aeruginosa\",\"NCTC11449\"],[\"Pseudomonas aeruginosa\",\"NCTC11450\"],[\"Escherichia coli\",\"NCTC7927\"],[\"Escherichia coli\",\"NCTC8623\"],[\"Escherichia coli\",\"NCTC7921\"],[\"Escherichia coli\",\"NCTC9050\"],[\"Escherichia coli\",\"NCTC9034\"],[\"Escherichia coli\",\"NCTC10537\"],[\"Escherichia coli\",\"NCTC9032\"],[\"Escherichia coli\",\"NCTC9105\"],[\"Escherichia coli\",\"NCTC9085\"],[\"Escherichia coli\",\"NCTC9103\"],[\"Pseudomonas aeruginosa\",\"NCTC10783\"],[\"Escherichia coli\",\"NCTC9086\"],[\"Escherichia coli\",\"NCTC9071\"],[\"Escherichia coli\",\"NCTC9080\"],[\"Escherichia coli\",\"NCTC9114\"],[\"Escherichia coli\",\"NCTC9076\"],[\"Escherichia coli\",\"NCTC9123\"],[\"Escherichia coli\",\"NCTC9066\"],[\"Escherichia coli\",\"NCTC9060\"],[\"Shigella dysenteriae\",\"NCTC2966\"],[\"Escherichia coli\",\"NCTC11476\"],[\"Escherichia coli\",\"NCTC9056\"],[\"Escherichia coli\",\"NCTC4450\"],[\"Escherichia coli\",\"NCTC9055\"],[\"Pseudomonas aeruginosa\",\"NCTC11440\"],[\"Escherichia coli\",\"NCTC9963\"],[\"Escherichia coli\",\"NCTC9019\"],[\"Escherichia coli\",\"NCTC7362\"],[\"Escherichia coli\",\"NCTC10089\"],[\"Escherichia coli\",\"NCTC10863\"],[\"Escherichia coli\",\"NCTC9699\"],[\"Escherichia coli\",\"NCTC9007\"],[\"Escherichia coli\",\"NCTC10960\"],[\"Escherichia coli\",\"NCTC9096\"],[\"Escherichia coli\",\"NCTC9102\"],[\"Escherichia coli\",\"NCTC9087\"],[\"Escherichia coli\",\"NCTC86\"],[\"Escherichia coli\",\"NCTC5934\"],[\"Escherichia coli\",\"NCTC8620\"],[\"Escherichia coli\",\"NCTC9777\"],[\"Escherichia coli\",\"NCTC9064\"],[\"Escherichia coli\",\"NCTC9062\"],[\"Escherichia coli\",\"NCTC8603\"],[\"Escherichia coli\",\"NCTC10961\"],[\"Escherichia coli\",\"NCTC8783\"],[\"Escherichia coli\",\"NCTC10963\"],[\"Escherichia coli\",\"NCTC10973\"],[\"Escherichia coli\",\"NCTC10664\"],[\"Escherichia coli\",\"NCTC9967\"],[\"Escherichia coli\",\"NCTC9107\"],[\"Escherichia coli\",\"NCTC8008\"],[\"Escherichia coli\",\"NCTC9966\"],[\"Escherichia coli\",\"NCTC9964\"],[\"Escherichia coli\",\"NCTC9083\"],[\"Escherichia coli\",\"NCTC9084\"],[\"Streptococcus pneumoniae\",\"NCTC7978\"],[\"Escherichia coli\",\"NCTC12650\"],[\"Escherichia coli\",\"NCTC11151\"],[\"Escherichia coli\",\"NCTC9058\"],[\"Escherichia coli\",\"NCTC9110\"],[\"Escherichia coli\",\"NCTC9434\"],[\"Escherichia coli\",\"NCTC9035\"],[\"Escherichia coli\",\"NCTC9026\"],[\"Escherichia coli\",\"NCTC9020\"],[\"Escherichia coli\",\"NCTC9018\"],[\"Escherichia coli\",\"NCTC10850\"],[\"Escherichia coli\",\"NCTC10002\"],[\"Escherichia coli\",\"NCTC9014\"],[\"Escherichia coli\",\"NCTC9100\"],[\"Escherichia coli\",\"NCTC9013\"],[\"Escherichia coli\",\"NCTC9041\"],[\"Escherichia coli\",\"NCTC9043\"],[\"Escherichia coli\",\"NCTC9047\"],[\"Escherichia coli\",\"NCTC9011\"],[\"Escherichia coli\",\"NCTC9010\"],[\"Escherichia coli\",\"NCTC4168\"],[\"Escherichia coli\",\"NCTC9701\"],[\"Escherichia coli\",\"NCTC9006\"],[\"Escherichia coli\",\"NCTC9003\"],[\"Escherichia coli\",\"NCTC9707\"],[\"Escherichia coli\",\"NCTC9002\"],[\"Escherichia coli\",\"NCTC8960\"],[\"Escherichia coli\",\"NCTC8959\"],[\"Escherichia coli\",\"NCTC9092\"],[\"Escherichia coli\",\"NCTC9091\"],[\"Escherichia coli\",\"NCTC9028\"],[\"Escherichia coli\",\"NCTC10650\"],[\"Escherichia coli\",\"NCTC8003\"],[\"Escherichia coli\",\"NCTC9079\"],[\"Escherichia coli\",\"NCTC11023\"],[\"Escherichia coli\",\"NCTC10959\"],[\"Escherichia coli\",\"NCTC10958\"],[\"Escherichia coli\",\"NCTC9068\"],[\"Escherichia coli\",\"NCTC9053\"],[\"Escherichia coli\",\"NCTC9038\"],[\"Escherichia coli\",\"NCTC9022\"],[\"Escherichia coli\",\"NCTC8621\"],[\"Escherichia coli\",\"NCTC9082\"],[\"Escherichia coli\",\"NCTC10279\"],[\"Escherichia coli\",\"NCTC10361\"],[\"Escherichia coli\",\"NCTC10090\"],[\"Escherichia coli\",\"NCTC9120\"],[\"Escherichia coli\",\"NCTC9119\"],[\"Escherichia coli\",\"NCTC11473\"],[\"Pseudomonas aeruginosa\",\"NCTC13618\"],[\"Escherichia coli\",\"NCTC11475\"],[\"Escherichia coli\",\"NCTC9706\"],[\"Escherichia coli\",\"NCTC9113\"],[\"Escherichia coli\",\"NCTC10444\"],[\"Escherichia coli\",\"NCTC13128\"],[\"Escherichia coli\",\"NCTC12655\"],[\"Escherichia coli\",\"NCTC9111\"],[\"Escherichia coli\",\"NCTC9108\"],[\"Escherichia coli\",\"NCTC9104\"],[\"Escherichia coli\",\"NCTC9969\"],[\"Escherichia coli\",\"NCTC9101\"],[\"Escherichia coli\",\"NCTC9099\"],[\"Escherichia coli\",\"NCTC9098\"],[\"Escherichia coli\",\"NCTC8007\"],[\"Escherichia coli\",\"NCTC10087\"],[\"Escherichia coli\",\"NCTC8196\"],[\"Escherichia coli\",\"NCTC9037\"],[\"Escherichia coli\",\"NCTC9049\"],[\"Escherichia coli\",\"NCTC9065\"],[\"Escherichia coli\",\"NCTC12241\"],[\"Escherichia coli\",\"NCTC11181\"],[\"Pseudomonas aeruginosa\",\"NCTC13620\"],[\"Escherichia coli\",\"NCTC9776\"],[\"Escherichia coli\",\"NCTC122\"],[\"Escherichia coli\",\"NCTC4174\"],[\"Escherichia coli\",\"NCTC9012\"],[\"Escherichia coli\",\"NCTC10957\"],[\"Escherichia coli\",\"NCTC9030\"],[\"Escherichia coli\",\"NCTC9095\"],[\"Escherichia coli\",\"NCTC9112\"],[\"Pseudomonas aeruginosa\",\"NCTC11444\"],[\"Escherichia coli\",\"NCTC1093\"],[\"Escherichia coli\",\"NCTC13352\"],[\"Escherichia coli\",\"NCTC9855\"],[\"Escherichia coli\",\"NCTC10758\"],[\"Escherichia coli\",\"NCTC9023\"],[\"Escherichia coli\",\"NCTC9004\"],[\"Escherichia coli\",\"NCTC10864\"],[\"Escherichia coli\",\"NCTC9121\"],[\"Shigella sonnei\",\"NCTC7924\"],[\"Escherichia coli\",\"NCTC9078\"],[\"Escherichia coli\",\"NCTC9088\"],[\"Shigella dysenteriae\",\"NCTC11868\"],[\"Escherichia coli\",\"NCTC10767\"],[\"Escherichia coli\",\"NCTC9040\"],[\"Escherichia coli\",\"NCTC9097\"],[\"Escherichia coli\",\"NCTC11474\"],[\"Escherichia coli\",\"NCTC9052\"],[\"Escherichia coli\",\"NCTC9961\"],[\"Escherichia coli\",\"NCTC9708\"],[\"Escherichia coli\",\"NCTC9029\"],[\"Escherichia coli\",\"NCTC8450\"],[\"Escherichia coli\",\"NCTC9116\"],[\"Escherichia coli\",\"NCTC9036\"],[\"Escherichia coli\",\"NCTC7360\"],[\"Escherichia coli\",\"NCTC9016\"],[\"Escherichia coli\",\"NCTC10766\"],[\"Escherichia coli\",\"NCTC10538\"],[\"Escherichia coli\",\"NCTC9048\"],[\"Escherichia coli\",\"NCTC8984\"],[\"Escherichia coli\",\"NCTC10487\"],[\"Escherichia coli\",\"NCTC8333\"],[\"Escherichia coli\",\"NCTC11022\"],[\"Escherichia coli\",\"NCTC7152\"],[\"Escherichia coli\",\"NCTC8781\"],[\"Pseudomonas aeruginosa\",\"NCTC13619\"],[\"Shigella flexneri\",\"NCTC9783\"],[\"Shigella flexneri\",\"NCTC8520\"],[\"Escherichia coli\",\"NCTC9045\"],[\"Escherichia dispar\",\"NCTC8006\"],[\"Escherichia coli\",\"NCTC9702\"],[\"Escherichia coli\",\"NCTC13125\"],[\"Escherichia coli\",\"NCTC9965\"],[\"Escherichia coli\",\"NCTC9703\"],[\"Escherichia coli\",\"NCTC10962\"],[\"Escherichia coli\",\"NCTC10855\"],[\"Escherichia coli\",\"NCTC10430\"],[\"Shigella boydii\",\"NCTC9362\"],[\"Shigella boydii\",\"NCTC9734\"],[\"Shigella flexneri\",\"NCTC8524\"],[\"Klebsiella pneumoniae\",\"NCTC13438\"],[\"Shigella boydii\",\"NCTC8576\"],[\"Escherichia coli\",\"NCTC10764\"],[\"Escherichia coli\",\"NCTC9024\"],[\"Escherichia coli\",\"NCTC9089\"],[\"Shigella flexneri\",\"NCTC12698\"],[\"Shigella boydii\",\"NCTC9850\"],[\"Shigella flexneri\",\"NCTC2\"],[\"Escherichia coli\",\"NCTC9117\"],[\"Shigella flexneri\",\"NCTC5\"],[\"Pseudomonas aeruginosa\",\"NCTC10662\"],[\"Escherichia coli\",\"NCTC7926\"],[\"Shigella boydii\",\"NCTC9733\"],[\"Escherichia coli\",\"NCTC9778\"],[\"Shigella flexneri\",\"NCTC9728\"],[\"streptococcus equisimilis\",\"NCTC11565\"],[\"Escherichia coli\",\"NCTC11341\"],[\"Salmonella enterica \",\"NCTC9854\"],[\"Citrobacter koseri\",\"NCTC10771\"],[\"Enterobacter cloacae\",\"NCTC11593\"],[\"Shigella flexneri\",\"NCTC1\"],[\"Escherichia coli\",\"NCTC9054\"],[\"Shigella dysenteriae\",\"NCTC4837\"],[\"Salmonella enterica \",\"NCTC10075\"],[\"Salmonella enterica \",\"NCTC12705\"],[\"Escherichia coli\",\"NCTC9077\"],[\"Salmonella enterica \",\"NCTC9941\"],[\"Salmonella enterica \",\"NCTC6016\"],[\"Salmonella enterica \",\"NCTC7404\"],[\"Salmonella enterica \",\"NCTC7388\"],[\"Escherichia fergusonii\",\"NCTC12128\"],[\"Salmonella enterica \",\"NCTC8392\"],[\"Salmonella enterica \",\"NCTC7744\"],[\"Salmonella enterica \",\"NCTC6020\"],[\"Salmonella enterica \",\"NCTC5716\"],[\"Salmonella enterica \",\"NCTC6022\"],[\"Salmonella enterica \",\"NCTC5735\"],[\"Salmonella enterica \",\"NCTC5741\"],[\"Salmonella enterica \",\"NCTC7101\"],[\"Salmonella enterica \",\"NCTC6026\"],[\"Salmonella enterica \",\"NCTC10480\"],[\"Salmonella enterica \",\"NCTC5740\"],[\"Salmonella enterica \",\"NCTC8270\"],[\"Salmonella enterica \",\"NCTC5706\"],[\"Salmonella enterica \",\"NCTC6480\"],[\"Salmonella enterica \",\"NCTC6703\"],[\"Salmonella enterica \",\"NCTC9930\"],[\"Salmonella enterica \",\"NCTC7112\"],[\"Salmonella enterica \",\"NCTC9912\"],[\"Salmonella enterica \",\"NCTC10080\"],[\"Salmonella enterica \",\"NCTC8495\"],[\"Salmonella enterica \",\"NCTC5778\"],[\"Salmonella enterica \",\"NCTC10718\"],[\"Salmonella enterica \",\"NCTC8785\"],[\"Salmonella enterica \",\"NCTC5785\"],[\"Salmonella enterica \",\"NCTC5774\"],[\"Escherichia coli\",\"NCTC13127\"],[\"Salmonella enterica \",\"NCTC5754\"],[\"Salmonella enterica \",\"NCTC92\"],[\"Escherichia coli\",\"NCTC9033\"],[\"Pseudomonas aeruginosa\",\"NCTC13621\"],[\"Salmonella enterica \",\"NCTC5791\"],[\"Salmonella enterica \",\"NCTC12709\"],[\"Salmonella enterica \",\"NCTC10384\"],[\"Salmonella enterica \",\"NCTC5747\"],[\"Salmonella sp.\",\"NCTC5793\"],[\"Salmonella enterica \",\"NCTC5743\"],[\"Salmonella enterica \",\"NCTC5794\"],[\"Salmonella enterica \",\"NCTC3072\"],[\"Salmonella enterica \",\"NCTC9787\"],[\"Salmonella enterica \",\"NCTC5800\"],[\"Salmonella enterica \",\"NCTC9872\"],[\"Salmonella enterica \",\"NCTC10310\"],[\"Salmonella enterica \",\"NCTC8497\"],[\"Salmonella enterica \",\"NCTC5801\"],[\"Salmonella sp.\",\"NCTC3046\"],[\"Salmonella enterica \",\"NCTC8718\"],[\"Salmonella enterica \",\"NCTC9884\"],[\"Salmonella enterica \",\"NCTC9606\"],[\"Escherichia coli\",\"NCTC7922\"],[\"Salmonella enterica \",\"NCTC9853\"],[\"Salmonella enterica \",\"NCTC4840\"],[\"Salmonella enterica \",\"NCTC12710\"],[\"Salmonella enterica \",\"NCTC5742\"],[\"Citrobacter koseri\",\"NCTC10768\"],[\"Salmonella enterica \",\"NCTC10436\"],[\"Salmonella enterica \",\"NCTC5797\"],[\"Shigella dysenteriae\",\"NCTC9718\"],[\"Salmonella enterica \",\"NCTC12023\"],[\"Salmonella enterica \",\"NCTC5722\"],[\"Salmonella enterica \",\"NCTC618\"],[\"Salmonella enterica \",\"NCTC5750\"],[\"Salmonella enterica \",\"NCTC6385\"],[\"Salmonella enterica \",\"NCTC11948\"],[\"Salmonella enterica \",\"NCTC74\"],[\"Acinetobacter baumannii\",\"NCTC13424\"],[\"Salmonella enterica \",\"NCTC12116\"],[\"Escherichia coli\",\"NCTC10757\"],[\"Klebsiella pneumoniae sensu stricto\",\"NCTC10273\"],[\"Salmonella enterica \",\"NCTC10252\"],[\"Escherichia coli\",\"NCTC9044\"],[\"Escherichia coli\",\"NCTC8179\"],[\"Salmonella enterica \",\"NCTC6759\"],[\"Acinetobacter baumannii\",\"NCTC13421\"],[\"Salmonella sp.\",\"NCTC6947\"],[\"Shigella boydii\",\"NCTC9353\"],[\"Salmonella enterica \",\"NCTC10532\"],[\"Salmonella enterica \",\"NCTC10081\"],[\"Salmonella enterica \",\"NCTC5717\"],[\"Salmonella enterica \",\"NCTC9936\"],[\"Escherichia coli\",\"NCTC10429\"],[\"Salmonella enterica \",\"NCTC6086\"],[\"Salmonella enterica \",\"NCTC8273\"],[\"Salmonella enterica \",\"NCTC12420\"],[\"Enterobacter cloacae\",\"NCTC13464\"],[\"Escherichia coli\",\"NCTC9021\"],[\"Salmonella enterica \",\"NCTC8385\"],[\"Klebsiella pneumoniae\",\"NCTC13440\"],[\"Escherichia coli\",\"NCTC10865\"],[\"Salmonella enterica \",\"NCTC7831\"],[\"Escherichia coli\",\"NCTC10974\"],[\"Salmonella enterica \",\"NCTC10381\"],[\"Salmonella enterica \",\"NCTC8496\"],[\"Escherichia coli\",\"NCTC8985\"],[\"Citrobacter koseri\",\"NCTC10769\"],[\"Salmonella enterica \",\"NCTC9868\"],[\"Citrobacter koseri\",\"NCTC11076\"],[\"Salmonella enterica \",\"NCTC7318\"],[\"Klebsiella pneumoniae\",\"NCTC5055\"],[\"Salmonella enterica \",\"NCTC10056\"],[\"Salmonella enterica \",\"NCTC10401\"],[\"Acinetobacter baumannii\",\"NCTC13420\"],[\"Citrobacter koseri\",\"NCTC10770\"],[\"Citrobacter koseri\",\"NCTC10811\"],[\"Klebsiella pneumoniae\",\"NCTC9130\"],[\"Acinetobacter baumannii\",\"NCTC13485\"],[\"Salmonella enterica \",\"NCTC8705\"],[\"Escherichia coli\",\"NCTC8622\"],[\"Escherichia coli\",\"NCTC9001\"],[\"Escherichia coli\",\"NCTC7928\"],[\"Salmonella enterica \",\"NCTC8267\"],[\"Citrobacter koseri\",\"NCTC11077\"],[\"Salmonella enterica \",\"NCTC6024\"],[\"Salmonella enterica \",\"NCTC9684\"],[\"Salmonella enterica \",\"NCTC779\"],[\"Klebsiella pneumoniae\",\"NCTC9166\"],[\"Klebsiella pneumoniae sensu stricto\",\"NCTC9137\"],[\"Klebsiella pneumoniae\",\"NCTC13691\"],[\"Klebsiella pneumoniae\",\"NCTC9180\"],[\"Salmonella enterica \",\"NCTC9322\"],[\"Escherichia coli\",\"NCTC9081\"],[\"Klebsiella pneumoniae\",\"NCTC9499\"],[\"Klebsiella pneumoniae\",\"NCTC11357\"],[\"Citrobacter koseri\",\"NCTC10849\"],[\"Salmonella enterica \",\"NCTC5772\"],[\"Acinetobacter baumannii\",\"NCTC13423\"],[\"Klebsiella pneumoniae \",\"NCTC9633\"],[\"Salmonella enterica \",\"NCTC8389\"],[\"Salmonella enterica \",\"NCTC8387\"],[\"Klebsiella pneumoniae\",\"NCTC9632\"],[\"Klebsiella pneumoniae\",\"NCTC9660\"],[\"Salmonella enterica \",\"NCTC12416\"],[\"Klebsiella pneumoniae\",\"NCTC9636\"],[\"Klebsiella pneumoniae\",\"NCTC13695\"],[\"Klebsiella pneumoniae\",\"NCTC9133\"],[\"Klebsiella pneumoniae\",\"NCTC9142\"],[\"Salmonella sp.\",\"NCTC9948\"],[\"Salmonella enterica \",\"NCTC6017\"],[\"Klebsiella pneumoniae\",\"NCTC9150\"],[\"Salmonella enterica \",\"NCTC7411\"],[\"Klebsiella aerogenes\",\"NCTC3279\"],[\"Klebsiella pneumoniae\",\"NCTC9182\"],[\"Klebsiella pneumoniae\",\"NCTC9132\"],[\"Citrobacter koseri\",\"NCTC11074\"],[\"Klebsiella pneumoniae\",\"NCTC9656\"],[\"Klebsiella sp.\",\"NCTC9129\"],[\"Escherichia coli\",\"NCTC8164\"],[\"Salmonella enterica \",\"NCTC6802\"],[\"Salmonella enterica \",\"NCTC10705\"],[\"Citrobacter braakii\",\"NCTC9067\"],[\"Escherichia coli\",\"NCTC9073\"],[\"Klebsiella pneumoniae\",\"NCTC9167\"],[\"Klebsiella pneumoniae\",\"NCTC10246\"],[\"Klebsiella aerogenes\",\"NCTC243\"],[\"Klebsiella pneumoniae\",\"NCTC9162\"],[\"Klebsiella pneumoniae\",\"NCTC9163\"],[\"Klebsiella pneumoniae\",\"NCTC9644\"],[\"Klebsiella pneumoniae\",\"NCTC9170\"],[\"Klebsiella pneumoniae\",\"NCTC9184\"],[\"Citrobacter youngae\",\"NCTC13709\"],[\"Klebsiella pneumoniae\",\"NCTC9793\"],[\"Klebsiella pneumoniae\",\"NCTC13674\"],[\"Acinetobacter baumannii\",\"NCTC13422\"],[\"Klebsiella pneumoniae\",\"NCTC9181\"],[\"Klebsiella pneumoniae sensu stricto\",\"NCTC9157\"],[\"Klebsiella pneumoniae\",\"NCTC418\"],[\"Klebsiella pneumoniae sensu stricto\",\"NCTC9136\"],[\"Klebsiella pneumoniae\",\"NCTC11228\"],[\"Klebsiella pneumoniae\",\"NCTC9154\"],[\"Salmonella enterica \",\"NCTC7308\"],[\"Citrobacter freundii\",\"NCTC8165\"],[\"Klebsiella pneumoniae\",\"NCTC11358\"],[\"Salmonella enterica \",\"NCTC8256\"],[\"Citrobacter freundii\",\"NCTC6266\"],[\"Klebsiella pneumoniae\",\"NCTC9134\"],[\"Salmonella enterica \",\"NCTC5773\"],[\"Klebsiella pneumoniae\",\"NCTC13439\"],[\"Salmonella enterica \",\"NCTC8271\"],[\"Citrobacter gillenii\",\"NCTC9094\"],[\"Klebsiella pneumoniae\",\"NCTC10262\"],[\"Klebsiella pneumoniae sensu stricto\",\"NCTC9138\"],[\"Enterobacter aerogenes\",\"NCTC9735\"],[\"Escherichia coli\",\"NCTC8009\"],[\"Salmonella enterica \",\"NCTC12417\"],[\"Klebsiella pneumoniae \",\"NCTC7799\"],[\"Salmonella enterica \",\"NCTC6482\"],[\"Klebsiella edwardsii var. edwardsii\",\"NCTC7761\"],[\"Salmonella enterica \",\"NCTC4444\"],[\"Klebsiella pneumoniae\",\"NCTC9159\"],[\"Klebsiella pneumoniae\",\"NCTC9144\"],[\"Klebsiella pneumoniae\",\"NCTC9169\"],[\"Klebsiella pneumoniae\",\"NCTC7427\"],[\"Klebsiella pneumoniae \",\"NCTC1936\"],[\"Klebsiella pneumoniae\",\"NCTC9139\"],[\"Klebsiella oxytoca\",\"NCTC11356\"],[\"Klebsiella pneumoniae\",\"NCTC9153\"],[\"Klebsiella pneumoniae \",\"NCTC5048\"],[\"Salmonella enterica \",\"NCTC8272\"],[\"Escherichia coli\",\"NCTC9075\"],[\"Klebsiella oxytoca\",\"NCTC13775\"],[\"Escherichia coli\",\"NCTC10418\"],[\"Klebsiella pneumoniae\",\"NCTC9143\"],[\"Klebsiella pneumoniae\",\"NCTC11359\"],[\"Klebsiella pneumoniae sensu stricto\",\"NCTC9616\"],[\"Klebsiella pneumoniae\",\"NCTC9156\"],[\"Salmonella enterica \",\"NCTC7102\"],[\"Salmonella enterica \",\"NCTC12418\"],[\"Citrobacter freundii\",\"NCTC13639\"],[\"Citrobacter freundii\",\"NCTC9750\"],[\"Klebsiella pneumoniae\",\"NCTC10004\"],[\"Klebsiella pneumoniae\",\"NCTC13672\"],[\"Salmonella enterica \",\"NCTC7406\"],[\"Enterobacter cloacae\",\"NCTC11579\"],[\"Klebsiella pneumoniae\",\"NCTC5056\"],[\"Klebsiella pneumoniae\",\"NCTC9158\"],[\"Salmonella enterica \",\"NCTC7836\"],[\"Salmonella enterica \",\"NCTC5798\"],[\"Enterobacter cloacae\",\"NCTC11571\"],[\"Salmonella enterica \",\"NCTC6245\"],[\"Klebsiella pneumoniae\",\"NCTC9667\"],[\"Klebsiella pneumoniae\",\"NCTC9668\"],[\"Escherichia coli\",\"NCTC8500\"],[\"Klebsiella pneumoniae\",\"NCTC9635\"],[\"Salmonella enterica \",\"NCTC5713\"],[\"Klebsiella pneumoniae\",\"NCTC9174\"],[\"Citrobacter koseri\",\"NCTC10810\"],[\"Klebsiella sp.\",\"NCTC9189\"],[\"Klebsiella pneumoniae\",\"NCTC13700\"],[\"Klebsiella pneumoniae sensu stricto\",\"NCTC5054\"],[\"Klebsiella pneumoniae\",\"NCTC13675\"],[\"Klebsiella pneumoniae\",\"NCTC13676\"],[\"Klebsiella pneumoniae\",\"NCTC13684\"],[\"Klebsiella pneumoniae\",\"NCTC13688\"],[\"Klebsiella pneumoniae sensu stricto\",\"NCTC5051\"],[\"Klebsiella pneumoniae\",\"NCTC13669\"],[\"Salmonella enterica \",\"NCTC7832\"],[\"Klebsiella pneumoniae\",\"NCTC13696\"],[\"Enterococcus faecalis\",\"NCTC12203\"],[\"Klebsiella pneumoniae\",\"NCTC13697\"],[\"Klebsiella pneumoniae\",\"NCTC13698\"],[\"Klebsiella pneumoniae\",\"NCTC13673\"],[\"Raoultella planticola\",\"NCTC9179\"],[\"Klebsiella pneumoniae sensu stricto\",\"NCTC5057\"],[\"Klebsiella pneumoniae \",\"NCTC8883\"],[\"Klebsiella pneumoniae sensu stricto\",\"NCTC9135\"],[\"Klebsiella pneumoniae\",\"NCTC9145\"],[\"Klebsiella pneumoniae\",\"NCTC9176\"],[\"Klebsiella pneumoniae\",\"NCTC9127\"],[\"Klebsiella pneumoniae sensu stricto\",\"NCTC9661\"],[\"Klebsiella pneumoniae sensu stricto\",\"NCTC9495\"],[\"Klebsiella pneumoniae \",\"NCTC9657\"],[\"Raoultella planticola\",\"NCTC9527\"],[\"Klebsiella pneumoniae\",\"NCTC9652\"],[\"Raoultella planticola\",\"NCTC9528\"],[\"Klebsiella pneumoniae\",\"NCTC13701\"],[\"Klebsiella aerogenes\",\"NCTC9997\"],[\"Klebsiella pneumoniae\",\"NCTC10317\"],[\"Raoultella ornithinolytica\",\"NCTC9155\"],[\"Klebsiella aerogenes\",\"NCTC10006\"],[\"Klebsiella pneumoniae\",\"NCTC13686\"],[\"Klebsiella pneumoniae\",\"NCTC13687\"],[\"Klebsiella edwardsii var. edwardsii\",\"NCTC8839\"],[\"Klebsiella pneumoniae \",\"NCTC8172\"],[\"Enterobacter cloacae\",\"NCTC11588\"],[\"Klebsiella pneumoniae \",\"NCTC8895\"],[\"Klebsiella pneumoniae\",\"NCTC13685\"],[\"Raoultella terrigena\",\"NCTC12146\"],[\"Klebsiella pneumoniae \",\"NCTC5052\"],[\"Klebsiella oxytoca\",\"NCTC10261\"],[\"Klebsiella pneumoniae\",\"NCTC9151\"],[\"Klebsiella pneumoniae sensu stricto\",\"NCTC9662\"],[\"Klebsiella sp.\",\"NCTC9164\"],[\"Klebsiella pneumoniae\",\"NCTC10213\"],[\"Yokenella regensburgei\",\"NCTC11966\"],[\"Klebsiella pneumoniae\",\"NCTC8849\"],[\"Klebsiella pneumoniae sensu stricto\",\"NCTC9183\"],[\"Yokenella regensburgei\",\"NCTC11967\"],[\"Citrobacter amalonaticus\",\"NCTC10805\"],[\"Yokenella regensburgei\",\"NCTC11968\"],[\"Raoultella ornithinolytica\",\"NCTC10263\"],[\"Klebsiella pneumoniae sensu stricto\",\"NCTC7242\"],[\"Klebsiella pneumoniae\",\"NCTC13671\"],[\"Citrobacter koseri\",\"NCTC11075\"],[\"Leclercia adecarboxylata\",\"NCTC10600\"],[\"Acinetobacter baumannii\",\"NCTC12156\"],[\"Acinetobacter baumannii\",\"NCTC7364\"],[\"Escherichia coli\",\"NCTC9962\"],[\"Klebsiella pneumoniae\",\"NCTC9171\"],[\"Enterobacter cloacae\",\"NCTC9394\"],[\"Klebsiella pneumoniae\",\"NCTC12463\"],[\"Klebsiella pneumoniae\",\"NCTC13694\"],[\"Klebsiella oxytoca\",\"NCTC9186\"],[\"Salmonella enterica \",\"NCTC129\"],[\"Salmonella enterica \",\"NCTC11881\"],[\"Klebsiella pneumoniae\",\"NCTC13465\"],[\"Raoultella ornithinolytica\",\"NCTC8846\"],[\"Klebsiella pneumoniae\",\"NCTC9498\"],[\"Acinetobacter baumannii\",\"NCTC7412\"],[\"Enterococcus faecalis\",\"NCTC12201\"],[\"Klebsiella pneumoniae\",\"NCTC9175\"],[\"acinetobacter genospecies 13\",\"NCTC10304\"],[\"Yokenella regensburgei\",\"NCTC12131\"],[\"Enterobacter amnigenus\",\"NCTC12124\"],[\"Salmonella bongori serotype Brookfield\",\"NCTC12419\"],[\"Salmonella enterica \",\"NCTC8297\"],[\"Leclercia adecarboxylata\",\"NCTC10599\"],[\"Klebsiella pneumoniae\",\"NCTC10314\"],[\"Klebsiella pneumoniae \",\"NCTC9504\"],[\"Enterococcus hirae\",\"NCTC12367\"],[\"Klebsiella pneumoniae\",\"NCTC9177\"],[\"Klebsiella oxytoca\",\"NCTC8167\"],[\"Kluyvera ascorbata\",\"NCTC9737\"],[\"Salmonella enterica \",\"NCTC8258\"],[\"Escherichia vulneris\",\"NCTC12130\"],[\"Kluyvera cryocrescens\",\"NCTC10483\"],[\"Staphylococcus aureus\",\"NCTC11939\"],[\"Klebsiella pneumoniae \",\"NCTC9494\"],[\"Raoultella ornithinolytica\",\"NCTC12158\"],[\"Cedecea lapagei\",\"NCTC11466\"],[\"Klebsiella pneumoniae\",\"NCTC9178\"],[\"Enterobacter intermedius\",\"NCTC12125\"],[\"Klebsiella pneumoniae\",\"NCTC9161\"],[\"Klebsiella pneumoniae \",\"NCTC5046\"],[\"Klebsiella pneumoniae sensu stricto\",\"NCTC204\"],[\"Klebsiella pneumoniae\",\"NCTC9637\"],[\"Klebsiella pneumoniae \",\"NCTC10313\"],[\"Staphylococcus aureus\",\"NCTC9944\"],[\"Enterobacter cloacae\",\"NCTC10005\"],[\"Staphylococcus aureus\",\"NCTC10988\"],[\"Cronobacter universalis\",\"NCTC9529\"],[\"Acinetobacter sp.\",\"NCTC8102\"],[\"Cronobacter sakazakii\",\"NCTC8155\"],[\"Klebsiella pneumoniae \",\"NCTC5050\"],[\"Buttiauxella agrestis\",\"NCTC12119\"],[\"Cronobacter sakazakii\",\"NCTC9238\"],[\"Klebsiella pneumoniae \",\"NCTC9645\"],[\"Klebsiella oxytoca\",\"NCTC9149\"],[\"Enterococcus faecium\",\"NCTC13923\"],[\"Staphylococcus aureus\",\"NCTC10724\"],[\"Enterobacter asburiae\",\"NCTC12123\"],[\"Klebsiella pneumoniae \",\"NCTC5047\"],[\"Cronobacter sakazakii\",\"NCTC11467\"],[\"Enterococcus faecalis\",\"NCTC13779\"],[\"Staphylococcus epidermidis\",\"NCTC11964\"],[\"Staphylococcus aureus\",\"NCTC13812\"],[\"Klebsiella oxytoca\",\"NCTC11355\"],[\"Staphylococcus aureus\",\"NCTC10703\"],[\"Salmonella enterica \",\"NCTC6754\"],[\"Klebsiella pneumoniae \",\"NCTC5053\"],[\"Enterobacter taylorae\",\"NCTC12126\"],[\"Raoultella ornithinolytica\",\"NCTC9152\"],[\"Staphylococcus aureus\",\"NCTC11940\"],[\"Providencia stuartii\",\"NCTC12257\"],[\"Klebsiella pneumoniae \",\"NCTC9601\"],[\"Staphylococcus aureus\",\"NCTC13811\"],[\"Klebsiella pneumoniae\",\"NCTC9617\"],[\"Staphylococcus aureus\",\"NCTC10035\"],[\"Citrobacter koseri\",\"NCTC10786\"],[\"Escherichia hermannii\",\"NCTC12129\"],[\"Serratia marcescens\",\"NCTC10211\"],[\"Staphylococcus aureus\",\"NCTC12232\"],[\"Serratia liquefaciens\",\"NCTC10861\"],[\"Staphylococcus aureus\",\"NCTC13552\"],[\"Pluralibacter gergoviae\",\"NCTC11434\"],[\"Pantoea agglomerans\",\"NCTC10500\"],[\"Shimwellia blattae\",\"NCTC10965\"],[\"Shimwellia blattae\",\"NCTC12127\"],[\"Serratia proteamaculans \",\"NCTC11544\"],[\"Enterococcus faecium\",\"NCTC12202\"],[\"Enterococcus faecalis\",\"NCTC13780\"],[\"Morganella morganii\",\"NCTC12286\"],[\"Raoultella terrigena\",\"NCTC9185\"],[\"Staphylococcus aureus\",\"NCTC13434\"],[\"Hafnia alvei\",\"NCTC8535\"],[\"Yersinia canariae\",\"NCTC14382\"],[\"Staphylococcus aureus\",\"NCTC11561\"],[\"Staphylococcus aureus\",\"NCTC12233\"],[\"Pantoea agglomerans\",\"NCTC10601\"],[\"Klebsiella sp.\",\"NCTC9140\"],[\"Salmonella enterica \",\"NCTC8261\"],[\"Staphylococcus aureus\",\"NCTC10442\"],[\"Staphylococcus aureus\",\"NCTC8766\"],[\"Serratia marcescens\",\"NCTC13920\"],[\"Staphylococcus aureus\",\"NCTC1803\"],[\"Serratia plymuthica\",\"NCTC8015\"],[\"Hafnia alvei\",\"NCTC6578\"],[\"Neisseria gonorrhoeae\",\"NCTC13818\"],[\"Klebsiella aerogenes\",\"NCTC9646\"],[\"Serratia grimesii\",\"NCTC11543\"],[\"Staphylococcus aureus\",\"NCTC13435\"],[\"Yersinia enterocolitica\",\"NCTC10938\"],[\"Yersinia ruckeri\",\"NCTC10476\"],[\"Staphylococcus aureus\",\"NCTC8004\"],[\"Staphylococcus aureus\",\"NCTC13616\"],[\"Yersinia enterocolitica\",\"NCTC10460\"],[\"Staphylococcus aureus\",\"NCTC10654\"],[\"Serratia ficaria\",\"NCTC12148\"],[\"Staphylococcus aureus\",\"NCTC11963\"],[\"Salmonella sp.\",\"NCTC7297\"],[\"Staphylococcus aureus\",\"NCTC5656\"],[\"Achromobacter xylosoxidans \",\"NCTC10808\"],[\"Serratia rubidaea\",\"NCTC10036\"],[\"Staphylococcus argenteus\",\"NCTC13711\"],[\"Staphylococcus aureus\",\"NCTC6571\"],[\"Staphylococcus aureus\",\"NCTC10652\"],[\"Staphylococcus aureus\",\"NCTC3750\"],[\"Staphylococcus aureus\",\"NCTC5655\"],[\"Staphylococcus aureus\",\"NCTC7791\"],[\"Staphylococcus aureus\",\"NCTC10443\"],[\"Providencia stuartii\",\"NCTC10835\"],[\"Staphylococcus aureus\",\"NCTC4136\"],[\"Klebsiella sp.\",\"NCTC9128\"],[\"Serratia rubidaea\",\"NCTC10848\"],[\"Staphylococcus hyicus\",\"NCTC8294\"],[\"Yersinia intermedia\",\"NCTC11469\"],[\"Staphylococcus aureus\",\"NCTC9369\"],[\"Staphylococcus aureus\",\"NCTC7446\"],[\"Yersinia kristensenii\",\"NCTC11471\"],[\"Serratia marcescens\",\"NCTC8900\"],[\"Staphylococcus aureus\",\"NCTC11965\"],[\"Edwardsiella hoshinae\",\"NCTC12121\"],[\"Vibrio alginolyticus\",\"NCTC12160\"],[\"Staphylococcus epidermidis\",\"NCTC13924\"],[\"Staphylococcus aureus\",\"NCTC8507\"],[\"Staphylococcus aureus\",\"NCTC7988\"],[\"Staphylococcus aureus\",\"NCTC7445\"],[\"Staphylococcus aureus\",\"NCTC8530\"],[\"Staphylococcus aureus\",\"NCTC9555\"],[\"Staphylococcus aureus\",\"NCTC8531\"],[\"Achromobacter xylosoxidans \",\"NCTC10807\"],[\"Staphylococcus aureus\",\"NCTC8317\"],[\"Proteus mirabilis\",\"NCTC4199\"],[\"Yersinia pseudotuberculosis\",\"NCTC1101\"],[\"Neisseria gonorrhoeae\",\"NCTC13805\"],[\"Staphylococcus aureus\",\"NCTC7361\"],[\"Streptococcus dysgalactiae \",\"NCTC5969\"],[\"Proteus vulgaris\",\"NCTC10376\"],[\"Yersinia pseudotuberculosis\",\"NCTC10217\"],[\"Paenibacillus polymyxa\",\"NCTC4744\"],[\"Neisseria gonorrhoeae\",\"NCTC13820\"],[\"Pantoea agglomerans\",\"NCTC9381\"],[\"Yersinia pseudotuberculosis\",\"NCTC10551\"],[\"Neisseria gonorrhoeae\",\"NCTC13800\"],[\"Neisseria gonorrhoeae\",\"NCTC13795\"],[\"Neisseria gonorrhoeae\",\"NCTC13821\"],[\"Staphylococcus aureus\",\"NCTC10702\"],[\"Yersinia pestis\",\"NCTC144\"],[\"Morganella morganii\",\"NCTC232\"],[\"Staphylococcus aureus\",\"NCTC7972\"],[\"Staphylococcus aureus\",\"NCTC2669\"],[\"Staphylococcus aureus\",\"NCTC9553\"],[\"Staphylococcus aureus\",\"NCTC7856\"],[\"Staphylococcus aureus\",\"NCTC8178\"],[\"Yersinia pseudotuberculosis\",\"NCTC3571\"],[\"Staphylococcus aureus\",\"NCTC7718\"],[\"Serratia rubidaea\",\"NCTC9419\"],[\"Providencia heimbachae\",\"NCTC12003\"],[\"Staphylococcus aureus\",\"NCTC10655\"],[\"Staphylococcus aureus\",\"NCTC7712\"],[\"Staphylococcus aureus\",\"NCTC9393\"],[\"Yersinia pseudotuberculosis\",\"NCTC8480\"],[\"Proteus vulgaris\",\"NCTC401\"],[\"Staphylococcus aureus\",\"NCTC7485\"],[\"Providencia stuartii\",\"NCTC11800\"],[\"Neisseria gonorrhoeae\",\"NCTC13481\"],[\"Neisseria gonorrhoeae\",\"NCTC13802\"],[\"Staphylococcus aureus\",\"NCTC10833\"],[\"Yersinia pseudotuberculosis\",\"NCTC10275\"],[\"Staphylococcus aureus\",\"NCTC8765\"],[\"Staphylococcus aureus\",\"NCTC6507\"],[\"Staphylococcus aureus\",\"NCTC5657\"],[\"Staphylococcus aureus\",\"NCTC8726\"],[\"Staphylococcus aureus\",\"NCTC6137\"],[\"Staphylococcus aureus\",\"NCTC6135\"],[\"Staphylococcus aureus\",\"NCTC10649\"],[\"Staphylococcus aureus\",\"NCTC6966\"],[\"Morganella morganii\",\"NCTC12028\"],[\"Staphylococcus aureus\",\"NCTC6133\"],[\"Shewanella putrefaciens\",\"NCTC12093\"],[\"Staphylococcus aureus\",\"NCTC5663\"],[\"Proteus mirabilis\",\"NCTC12446\"],[\"Yersinia pseudotuberculosis\",\"NCTC8580\"],[\"Proteus mirabilis\",\"NCTC12441\"],[\"Staphylococcus aureus\",\"NCTC11962\"],[\"Yersinia pestis\",\"NCTC5923\"],[\"Yersinia frederiksenii\",\"NCTC11470\"],[\"Staphylococcus aureus\",\"NCTC10656\"],[\"Edwardsiella tarda\",\"NCTC10397\"],[\"Edwardsiella ictaluri\",\"NCTC12122\"],[\"Proteus mirabilis\",\"NCTC60\"],[\"Staphylococcus aureus\",\"NCTC6136\"],[\"Neisseria gonorrhoeae\",\"NCTC13801\"],[\"Vibrio parahaemolyticus\",\"NCTC10903\"],[\"Yersinia pseudotuberculosis\",\"NCTC10278\"],[\"Neisseria gonorrhoeae\",\"NCTC13798\"],[\"Proteus mirabilis\",\"NCTC6197\"],[\"Edwardsiella tarda\",\"NCTC10396\"],[\"Staphylococcus aureus\",\"NCTC7878\"],[\"Staphylococcus aureus\",\"NCTC9556\"],[\"Staphylococcus aureus\",\"NCTC9546\"],[\"Staphylococcus aureus\",\"NCTC6134\"],[\"Hafnia alvei\",\"NCTC8105\"],[\"Providencia rustigianii\",\"NCTC8113\"],[\"Vibrio parahaemolyticus\",\"NCTC10884\"],[\"Staphylococcus aureus\",\"NCTC6131\"],[\"Plesiomonas shigelloides\",\"NCTC10364\"],[\"Pseudomonas chlororaphis\",\"NCTC10686\"],[\"Morganella morganii\",\"NCTC235\"],[\"Staphylococcus aureus\",\"NCTC10657\"],[\"Pragia fontium\",\"NCTC12285\"],[\"Morganella morganii\",\"NCTC12289\"],[\"Mycobacterium smegmatis\",\"NCTC7017\"],[\"Stenotrophomonas maltophilia\",\"NCTC10257\"],[\"Morganella morganii\",\"NCTC12358\"],[\"Stenotrophomonas maltophilia\",\"NCTC10258\"],[\"Staphylococcus aureus\",\"NCTC7415\"],[\"Cedecea neteri\",\"NCTC12120\"],[\"Staphylococcus aureus\",\"NCTC11150\"],[\"Neisseria gonorrhoeae\",\"NCTC13484\"],[\"Staphylococcus aureus\",\"NCTC7428\"],[\"Pragia fontium\",\"NCTC12284\"],[\"Burkholderia cenocepacia\",\"NCTC13417\"],[\"Staphylococcus aureus\",\"NCTC8532\"],[\"Staphylococcus aureus\",\"NCTC8325\"],[\"Stenotrophomonas maltophilia\",\"NCTC10498\"],[\"Staphylococcus aureus\",\"NCTC9309\"],[\"Staphylococcus aureus\",\"NCTC10399\"],[\"Serratia odorifera\",\"NCTC11214\"],[\"Staphylococcus aureus\",\"NCTC9611\"],[\"Staphylococcus aureus\",\"NCTC9612\"],[\"Staphylococcus aureus\",\"NCTC9613\"],[\"Staphylococcus aureus\",\"NCTC8723\"],[\"Staphylococcus aureus\",\"NCTC10804\"],[\"Staphylococcus aureus\",\"NCTC8724\"],[\"Staphylococcus aureus\",\"NCTC8725\"],[\"Staphylococcus aureus\",\"NCTC9614\"],[\"Pseudomonas chlororaphis\",\"NCTC7357\"],[\"Yersinia enterocolitica\",\"NCTC10462\"],[\"Staphylococcus jettensis\",\"NCTC13830\"],[\"Aeromonas hydrophila\",\"NCTC8049\"],[\"Bacillus subtilis\",\"NCTC3610\"],[\"Staphylococcus aureus\",\"NCTC7447\"],[\"Vibrio harveyi\",\"NCTC11318\"],[\"Leminorella grimontii\",\"NCTC12152\"],[\"Leminorella richardii\",\"NCTC12151\"],[\"Staphylococcus aureus\",\"NCTC9547\"],[\"Providencia rettgeri\",\"NCTC7476\"],[\"Actinobacillus pleuropneumoniae\",\"NCTC11383\"],[\"Staphylococcus aureus\",\"NCTC5658\"],[\"Staphylococcus aureus\",\"NCTC7121\"],[\"Burkholderia cepacia\",\"NCTC10661\"],[\"Staphylococcus aureus\",\"NCTC9552\"],[\"Vibrio alginolyticus\",\"NCTC10675\"],[\"Staphylococcus schweitzeri\",\"NCTC13712\"],[\"Providencia rustigianii\",\"NCTC12026\"],[\"Staphylococcus aureus\",\"NCTC10344\"],[\"Yersinia pseudotuberculosis\",\"NCTC1103\"],[\"Streptococcus pneumoniae\",\"NCTC13754\"],[\"Staphylococcus aureus\",\"NCTC13758\"],[\"Providencia friedericiana\",\"NCTC11667\"],[\"Streptococcus pyogenes\",\"NCTC13740\"],[\"Burkholderia cepacia\",\"NCTC10743\"],[\"Staphylococcus aureus\",\"NCTC12035\"],[\"Plesiomonas shigelloides\",\"NCTC10360\"],[\"Staphylococcus aureus\",\"NCTC10345\"],[\"Staphylococcus aureus\",\"NCTC8399\"],[\"Staphylococcus aureus\",\"NCTC9752\"],[\"Budvicia aquatica\",\"NCTC12282\"],[\"Mycobacterium smegmatis\",\"NCTC8159\"],[\"Neisseria gonorrhoeae\",\"NCTC13483\"],[\"Staphylococcus aureus\",\"NCTC10788\"],[\"Plesiomonas shigelloides\",\"NCTC10363\"],[\"Neisseria meningitidis\",\"NCTC3372\"],[\"Actinobacillus rossii\",\"NCTC10801\"],[\"Providencia rustigianii\",\"NCTC6933\"],[\"Staphylococcus epidermidis\",\"NCTC12100\"],[\"Neisseria meningitidis\",\"NCTC8554\"],[\"Staphylococcus aureus\",\"NCTC3761\"],[\"Streptococcus pneumoniae\",\"NCTC13735\"],[\"Streptococcus pneumoniae\",\"NCTC13734\"],[\"Neisseria meningitidis\",\"NCTC8249\"],[\"Neisseria gonorrhoeae\",\"NCTC12700\"],[\"Neisseria meningitidis\",\"NCTC10026\"],[\"Staphylococcus aureus\",\"NCTC4137\"],[\"Staphylococcus aureus\",\"NCTC4163\"],[\"Proteus mirabilis\",\"NCTC10975\"],[\"Neisseria gonorrhoeae\",\"NCTC13799\"],[\"Achromobacter insolitus\",\"NCTC13520\"],[\"Acinetobacter baumannii\",\"NCTC7422\"],[\"Proteus penneri\",\"NCTC12737\"],[\"Neisseria meningitidis\",\"NCTC10025\"],[\"Haemophilus influenzae\",\"NCTC12699\"],[\"Staphylococcus aureus\",\"NCTC5660\"],[\"Pseudomonas synxantha\",\"NCTC10696\"],[\"Providencia alcalifaciens\",\"NCTC6344\"],[\"Neisseria meningitidis\",\"NCTC6455\"],[\"Staphylococcus aureus\",\"NCTC5664\"],[\"Mycobacterium fortuitum\",\"NCTC1542\"],[\"Providencia alcalifaciens\",\"NCTC10286\"],[\"Staphylococcus aureus\",\"NCTC9551\"],[\"Clostridium difficile\",\"NCTC13749\"],[\"Pseudomonas mucidolens\",\"NCTC8068\"],[\"Streptococcus pneumoniae\",\"NCTC12495\"],[\"Enterococcus gallinarum\",\"NCTC12359\"],[\"Vibrio fluvialis\",\"NCTC11327\"],[\"Providencia rettgeri\",\"NCTC11801\"],[\"Haemophilus influenzae\",\"NCTC8468\"],[\"Providencia rustigianii\",\"NCTC11802\"],[\"Corynebacterium urealyticum\",\"NCTC12011\"],[\"Moellerella wisconsensis\",\"NCTC12132\"],[\"Aeromonas caviae\",\"NCTC12244\"],[\"Pseudomonas taetrolens\",\"NCTC10697\"],[\"Pseudomonas taetrolens\",\"NCTC8067\"],[\"Streptococcus pneumoniae\",\"NCTC12140\"],[\"Haemophilus influenzae\",\"NCTC11931\"],[\"Enterococcus gallinarum\",\"NCTC12360\"],[\"Neisseria meningitidis\",\"NCTC9714\"],[\"Burkholderia pseudomallei\",\"NCTC13392\"],[\"Burkholderia pseudomallei\",\"NCTC6700\"],[\"Bacillus subtilis \",\"NCTC10400\"],[\"Streptococcus pneumoniae\",\"NCTC13753\"],[\"Ewingella americana\",\"NCTC12157\"],[\"Vibrio furnissii\",\"NCTC11218\"],[\"Pseudomonas fluorescens\",\"NCTC9428\"],[\"Pseudomonas fluorescens\",\"NCTC10038\"],[\"Acinetobacter haemolyticus \",\"NCTC10305\"],[\"Acinetobacter haemolyticus\",\"NCTC10306\"],[\"Elizabethkingia meningoseptica\",\"NCTC11305\"],[\"Corynebacterium jeikeium\",\"NCTC11913\"],[\"Avibacterium avium\",\"NCTC11297\"],[\"Enterococcus faecalis\",\"NCTC12697\"],[\"Proteus mirabilis\",\"NCTC11938\"],[\"Aeromonas salmonicida\",\"NCTC10402\"],[\"Neisseria gonorrhoeae\",\"NCTC10928\"],[\"Achromobacter denitrificans\",\"NCTC8582\"],[\"Haemophilus influenzae\",\"NCTC8455\"],[\"Vibrio cholerae\",\"NCTC5395\"],[\"Enterococcus gallinarum\",\"NCTC8736\"],[\"Tatumella ptyseos\",\"NCTC11468\"],[\"Haemophilus influenzae\",\"NCTC11426\"],[\"Haemophilus aegyptius\",\"NCTC8502\"],[\"Stenotrophomonas maltophilia\",\"NCTC10259\"],[\"Neisseria lactamica\",\"NCTC10618\"],[\"Elizabethkingia meningoseptica\",\"NCTC10016\"],[\"Vibrio vulnificus\",\"NCTC13647\"],[\"Stenotrophomonas maltophilia\",\"NCTC10499\"],[\"Acinetobacter haemolyticus\",\"NCTC12155\"],[\"Streptococcus pneumoniae\",\"NCTC10319\"],[\"Brevibacillus brevis\",\"NCTC2611\"],[\"Vibrio vulnificus\",\"NCTC11067\"],[\"Vibrio vulnificus\",\"NCTC11066\"],[\"Haemophilus influenzae\",\"NCTC8143\"],[\"Haemophilus influenzae biotype aegyptius\",\"NCTC8135\"],[\"Mycobacterium marinum\",\"NCTC2275\"],[\"Haemophilus aegyptius\",\"NCTC8134\"],[\"Streptococcus pyogenes\",\"NCTC13737\"],[\"Elizabethkingia meningoseptica\",\"NCTC10588\"],[\"Ochrobactrum anthropi\",\"NCTC12168\"],[\"Chryseobacterium meningosepticum\",\"NCTC10586\"],[\"Shewanella putrefaciens\",\"NCTC10738\"],[\"Streptococcus gallolyticus \",\"NCTC13784\"],[\"Pseudomonas fluorescens\",\"NCTC10392\"],[\"Haemophilus influenzae\",\"NCTC12194\"],[\"Vibrio cholerae non 0:1\",\"NCTC30\"],[\"Staphylococcus arlettae\",\"NCTC12413\"],[\"Photobacterium damselae\",\"NCTC11646\"],[\"Pseudomonas luteola\",\"NCTC11842\"],[\"Bacillus cereus\",\"NCTC7464\"],[\"Photobacterium damselae\",\"NCTC11648\"],[\"Neisseria gonorrhoeae\",\"NCTC8254\"],[\"Vibrio cholerae biotype el tor\",\"NCTC9420\"],[\"Photobacterium damselae\",\"NCTC11647\"],[\"Streptococcus pneumoniae\",\"NCTC7466\"],[\"Avibacterium paragallinarum\",\"NCTC11296\"],[\"Shewanella baltica\",\"NCTC10735\"],[\"Neisseria lactamica\",\"NCTC10616\"],[\"Enterococcus faecalis\",\"NCTC8131\"],[\"Listeria monocytogenes\",\"NCTC10357\"],[\"Enterococcus faecalis\",\"NCTC8132\"],[\"Pseudomonas mendocina\",\"NCTC10899\"],[\"Streptococcus pneumoniae\",\"NCTC7465\"],[\"Pseudomonas mendocina\",\"NCTC10898\"],[\"Enterococcus faecalis\",\"NCTC10927\"],[\"Enterococcus faecalis\",\"NCTC8745\"],[\"Aggregatibacter segnis\",\"NCTC10977\"],[\"Pseudomonas putida\",\"NCTC912\"],[\"Pseudomonas stutzeri\",\"NCTC10473\"],[\"Staphylococcus epidermidis\",\"NCTC10519\"],[\"Ralstonia mannitolilytica\",\"NCTC10894\"],[\"Pseudomonas mendocina\",\"NCTC10897\"],[\"Campylobacter jejuni \",\"NCTC10983\"],[\"Shewanella putrefaciens\",\"NCTC10737\"],[\"Listeria monocytogenes\",\"NCTC10887\"],[\"Ralstonia mannitolilytica\",\"NCTC10893\"],[\"Campylobacter jejuni \",\"NCTC11168\"],[\"Enterococcus faecalis\",\"NCTC8732\"],[\"Staphylococcus epidermidis\",\"NCTC11047\"],[\"Haemophilus haemolyticus\",\"NCTC10839\"],[\"Aggregatibacter aphrophilus\",\"NCTC11096\"],[\"Pseudomonas alcaligenes\",\"NCTC10367\"],[\"Ralstonia pickettii\",\"NCTC11149\"],[\"Enterococcus faecalis\",\"NCTC8176\"],[\"Haemophilus paragallinarum\",\"NCTC10926\"],[\"Avibacterium gallinarum\",\"NCTC11188\"],[\"Enterococcus faecalis\",\"NCTC8175\"],[\"Streptococcus mitis\",\"NCTC11189\"],[\"Chryseobacterium indologenes\",\"NCTC10796\"],[\"Sphingomonas paucimobilis\",\"NCTC11032\"],[\"Pseudomonas putida\",\"NCTC7914\"],[\"Enterococcus faecalis\",\"NCTC8734\"],[\"Enterococcus faecalis\",\"NCTC8727\"],[\"Enterococcus faecium\",\"NCTC7379\"],[\"Bacillus licheniformis\",\"NCTC7589\"],[\"Pseudomonas lemoignei\",\"NCTC10937\"],[\"Acinetobacter junii\",\"NCTC10307\"],[\"Listeria monocytogenes\",\"NCTC7973\"],[\"Haemophilus haemolyticus\",\"NCTC10659\"],[\"Listeria monocytogenes\",\"NCTC7974\"],[\"Vibrio cholerae biotype el tor\",\"NCTC8457\"],[\"Enterococcus faecalis\",\"NCTC775\"],[\"Enterococcus faecalis\",\"NCTC8729\"],[\"Streptococcus pyogenes\",\"NCTC13744\"],[\"Aggregatibacter aphrophilus\",\"NCTC5906\"],[\"Streptococcus pneumoniae\",\"NCTC11891\"],[\"Streptococcus pneumoniae\",\"NCTC11895\"],[\"Avibacterium volantium\",\"NCTC3438\"],[\"Streptococcus pneumoniae\",\"NCTC11897\"],[\"Streptococcus pneumoniae\",\"NCTC11898\"],[\"Streptococcus pneumoniae\",\"NCTC11899\"],[\"Streptococcus pneumoniae\",\"NCTC11901\"],[\"Campylobacter jejuni\",\"NCTC13257\"],[\"Pseudomonas fluorescens\",\"NCTC3756\"],[\"Streptococcus pneumoniae\",\"NCTC11902\"],[\"Streptococcus pneumoniae\",\"NCTC11903\"],[\"Streptococcus pneumoniae\",\"NCTC11904\"],[\"Streptococcus pneumoniae\",\"NCTC11905\"],[\"Streptococcus pneumoniae\",\"NCTC11907\"],[\"Streptococcus pneumoniae\",\"NCTC11908\"],[\"Corynebacterium jeikeium\",\"NCTC11917\"],[\"Campylobacter jejuni \",\"NCTC11925\"],[\"Listeria monocytogenes\",\"NCTC12480\"],[\"Burkholderia mallei\",\"NCTC10247\"],[\"Legionella quinlivanii\",\"NCTC12433\"],[\"Staphylococcus equorum\",\"NCTC12414\"],[\"Ralstonia mannitolilytica\",\"NCTC12379\"],[\"Legionella worsleiensis\",\"NCTC12377\"],[\"Legionella pneumophila \",\"NCTC12273\"],[\"Streptococcus pneumoniae\",\"NCTC11893\"],[\"Streptococcus pneumoniae\",\"NCTC11890\"],[\"Listeria innocua\",\"NCTC12210\"],[\"Streptococcus pneumoniae\",\"NCTC11889\"],[\"Streptococcus pyogenes\",\"NCTC13736\"],[\"Streptococcus pyogenes\",\"NCTC13742\"],[\"Clostridium difficile\",\"NCTC13746\"],[\"Clostridium difficile\",\"NCTC13747\"],[\"Clostridium difficile\",\"NCTC13748\"],[\"Clostridium difficile\",\"NCTC13750\"],[\"Enterococcus faecalis\",\"NCTC13705\"],[\"Streptococcus pneumoniae\",\"NCTC13755\"],[\"Burkholderia mallei\",\"NCTC10229\"],[\"Streptococcus infantis\",\"NCTC13771\"],[\"Streptococcus oligofermentans\",\"NCTC13807\"],[\"Aggregatibacter sp.\",\"NCTC11607\"],[\"Campylobacter jejuni \",\"NCTC11827\"],[\"Bacillus licheniformis\",\"NCTC2120\"],[\"Neisseria gonorrhoeae\",\"NCTC13477\"],[\"Janthinobacterium lividum\",\"NCTC9796\"],[\"Streptococcus dysgalactiae\",\"NCTC10238\"],[\"Enterococcus faecalis\",\"NCTC2705\"],[\"Haemophilus influenzae\",\"NCTC11872\"],[\"Haemophilus influenzae\",\"NCTC11873\"],[\"Streptococcus dysgalactiae \",\"NCTC11557\"],[\"Streptococcus pneumoniae\",\"NCTC11886\"],[\"Streptococcus pneumoniae\",\"NCTC11888\"],[\"Legionella pneumophila \",\"NCTC12272\"],[\"Corynebacterium jeikeium\",\"NCTC11914\"],[\"Streptococcus pyogenes\",\"NCTC12057\"],[\"Legionella pneumophila\",\"NCTC11986\"],[\"Streptococcus pyogenes\",\"NCTC12069\"],[\"Chryseobacterium lactis\",\"NCTC11390\"],[\"Vibrio mimicus\",\"NCTC11435\"],[\"Haemophilus influenzae\",\"NCTC11394\"],[\"Legionella pneumophila\",\"NCTC12025\"],[\"Chryseobacterium gleum\",\"NCTC11432\"],[\"Legionella pneumophila\",\"NCTC12008\"],[\"Legionella gormanii\",\"NCTC11401\"],[\"Oligella ureolytica\",\"NCTC11997\"],[\"Listeria monocytogenes\",\"NCTC11994\"],[\"Streptococcus pyogenes\",\"NCTC12061\"],[\"Streptococcus pyogenes\",\"NCTC12050\"],[\"Streptococcus pyogenes\",\"NCTC12047\"],[\"Streptococcus pyogenes\",\"NCTC8370\"],[\"Streptococcus pyogenes\",\"NCTC12052\"],[\"Streptococcus pyogenes\",\"NCTC8320\"],[\"Streptococcus pyogenes\",\"NCTC8326\"],[\"Streptococcus pyogenes\",\"NCTC12051\"],[\"Streptococcus pyogenes\",\"NCTC8330\"],[\"Streptococcus pyogenes\",\"NCTC8332\"],[\"Pasteurella multocida\",\"NCTC8489\"],[\"Brucella melitensis\",\"NCTC8334\"],[\"Actinobacillus lignieresii\",\"NCTC10568\"],[\"Pasteurella multocida\",\"NCTC10323\"],[\"Campylobacter jejuni \",\"NCTC11848\"],[\"Haemophilus parahaemolyticus\",\"NCTC8479\"],[\"Pasteurella bettyae\",\"NCTC10535\"],[\"Listeria welshimeri\",\"NCTC11857\"],[\"Streptococcus pyogenes\",\"NCTC12045\"],[\"Actinobacillus ureae\",\"NCTC10220\"],[\"Streptococcus pyogenes\",\"NCTC12048\"],[\"Streptococcus pyogenes\",\"NCTC12046\"],[\"Actinobacillus pleuropneumoniae\",\"NCTC10976\"],[\"Bacteroides fragilis\",\"NCTC9343\"],[\"Streptococcus pyogenes\",\"NCTC8318\"],[\"Pasteurella mairii\",\"NCTC10699\"],[\"Streptococcus pyogenes\",\"NCTC8316\"],[\"Streptococcus pyogenes\",\"NCTC8231\"],[\"Streptococcus pyogenes\",\"NCTC8195\"],[\"Vibrio hollisae\",\"NCTC11641\"],[\"Streptococcus pyogenes\",\"NCTC8198\"],[\"Streptococcus pyogenes\",\"NCTC8199\"],[\"Paenibacillus thiaminolyticus\",\"NCTC11027\"],[\"Brucella melitensis\",\"NCTC8223\"],[\"Legionella parisiensis\",\"NCTC11983\"],[\"Streptococcus pyogenes\",\"NCTC8224\"],[\"Streptococcus pyogenes\",\"NCTC8225\"],[\"Streptococcus pyogenes\",\"NCTC8227\"],[\"Pseudomonas stutzeri\",\"NCTC10450\"],[\"Streptococcus pyogenes\",\"NCTC8229\"],[\"Streptococcus pyogenes\",\"NCTC8230\"],[\"Bacteroides thetaiotaomicron\",\"NCTC13706\"],[\"Streptococcus pyogenes\",\"NCTC8308\"],[\"Pasteurella multocida \",\"NCTC11995\"],[\"Pseudomonas stutzeri\",\"NCTC10475\"],[\"Pasteurella canis\",\"NCTC11650\"],[\"Legionella pneumophila\",\"NCTC12024\"],[\"Mannheimia haemolytica\",\"NCTC9380\"],[\"Streptococcus porcinus\",\"NCTC10999\"],[\"Pasteurella dagmatis\",\"NCTC8282\"],[\"Streptococcus pyogenes\",\"NCTC12044\"],[\"Actinobacillus ureae\",\"NCTC10221\"],[\"Streptococcus pyogenes\",\"NCTC8300\"],[\"Streptococcus pyogenes\",\"NCTC8302\"],[\"Streptococcus pyogenes\",\"NCTC8303\"],[\"Streptococcus pyogenes\",\"NCTC12054\"],[\"Streptococcus pyogenes\",\"NCTC8305\"],[\"Neisseria gonorrhoeae\",\"NCTC10931\"],[\"Pseudomonas putida\",\"NCTC10936\"],[\"Pasteurella multocida\",\"NCTC10722\"],[\"Pasteurella testudinis\",\"NCTC12150\"],[\"Campylobacter jejuni \",\"NCTC11951\"],[\"Aminobacter aminovorans\",\"NCTC10684\"],[\"Acinetobacter junii\",\"NCTC12153\"],[\"pseudomonas nigrifaciens\",\"NCTC10691\"],[\"Streptococcus pyogenes\",\"NCTC10880\"],[\"Streptococcus pyogenes\",\"NCTC10879\"],[\"Streptococcus pyogenes\",\"NCTC10877\"],[\"Streptococcus pyogenes\",\"NCTC10876\"],[\"Streptococcus pyogenes\",\"NCTC10875\"],[\"Streptococcus pyogenes\",\"NCTC10874\"],[\"Streptococcus pyogenes\",\"NCTC10872\"],[\"Streptococcus pyogenes\",\"NCTC10871\"],[\"Streptococcus pyogenes\",\"NCTC10870\"],[\"Streptococcus pyogenes\",\"NCTC10866\"],[\"Legionella quateirensis\",\"NCTC12376\"],[\"Pseudomonas pseudoalcaligenes \",\"NCTC10860\"],[\"Brucella neotomae\",\"NCTC10084\"],[\"Actinobacillus seminis\",\"NCTC10851\"],[\"Brucella neotomae\",\"NCTC10071\"],[\"Enterococcus casseliflavus\",\"NCTC12362\"],[\"Enterococcus casseliflavus\",\"NCTC12361\"],[\"Pseudomonas oleovorans\",\"NCTC10692\"],[\"Shewanella putrefaciens\",\"NCTC10695\"],[\"Streptococcus mitis\",\"NCTC12261\"],[\"Legionella moravica\",\"NCTC12239\"],[\"Haemophilus parahaemolyticus\",\"NCTC10794\"],[\"Listonella anguillarum\",\"NCTC12159\"],[\"Campylobacter jejuni \",\"NCTC12208\"],[\"Legionella birminghamensis\",\"NCTC12437\"],[\"Streptococcus pyogenes\",\"NCTC10085\"],[\"Haemophilus parainfluenzae\",\"NCTC10672\"],[\"Streptococcus pyogenes\",\"NCTC12066\"],[\"Streptococcus pyogenes\",\"NCTC12058\"],[\"Streptococcus pyogenes\",\"NCTC12059\"],[\"Mannheimia haemolytica\",\"NCTC10609\"],[\"Actinobacillus equuli\",\"NCTC8529\"],[\"Pasteurella multocida\",\"NCTC10382\"],[\"Streptococcus pyogenes\",\"NCTC12060\"],[\"Campylobacter jejuni\",\"NCTC13362\"],[\"Neisseria lactamica\",\"NCTC10617\"],[\"Streptococcus pneumoniae\",\"NCTC11900\"],[\"Streptococcus pyogenes\",\"NCTC12062\"],[\"Mannheimia haemolytica\",\"NCTC10638\"],[\"Mannheimia haemolytica\",\"NCTC10643\"],[\"Streptococcus pyogenes\",\"NCTC12064\"],[\"Streptococcus porcinus\",\"NCTC10925\"],[\"Brucella suis\",\"NCTC10097\"],[\"Legionella lansingensis\",\"NCTC12830\"],[\"Afipia felis\",\"NCTC12722\"],[\"Bacillus licheniformis\",\"NCTC8721\"],[\"Mannheimia haemolytica\",\"NCTC10208\"],[\"Streptococcus pyogenes\",\"NCTC12067\"],[\"Streptococcus pyogenes\",\"NCTC12068\"],[\"Pasteurella multocida \",\"NCTC10204\"],[\"Streptococcus pyogenes\",\"NCTC12696\"],[\"Grimontia hollisae\",\"NCTC11640\"],[\"Campylobacter jejuni \",\"NCTC11924\"],[\"Haemophilus parainfluenzae\",\"NCTC10665\"],[\"Afipia felis\",\"NCTC12499\"],[\"Haemophilus paraphrohaemolyticus\",\"NCTC10671\"],[\"Streptococcus pyogenes\",\"NCTC8193\"],[\"Streptococcus pyogenes\",\"NCTC8314\"],[\"Actinobacillus pleuropneumoniae\",\"NCTC11384\"],[\"Pasteurella multocida \",\"NCTC11619\"],[\"Actinomadura madurae\",\"NCTC11373\"],[\"Enterococcus faecium\",\"NCTC7171\"],[\"Staphylococcus fleurettii\",\"NCTC13829\"],[\"Clostridium clostridiiforme\",\"NCTC11224\"],[\"Clostridium sphenoides\",\"NCTC507\"],[\"Actinobacillus lignieresii\",\"NCTC4191\"],[\"Haemophilus parainfluenzae\",\"NCTC7857\"],[\"Actinobacillus lignieresii\",\"NCTC4189\"],[\"Staphylococcus simiae\",\"NCTC13838\"],[\"Pasteurella dagmatis\",\"NCTC11617\"],[\"Brucella suis\",\"NCTC10316\"],[\"Burkholderia mallei\",\"NCTC3708\"],[\"Streptococcus pyogenes\",\"NCTC5163\"],[\"Streptococcus pyogenes\",\"NCTC5164\"],[\"Campylobacter hyointestinalis\",\"NCTC11610\"],[\"Streptococcus sp.\",\"NCTC4725\"],[\"Staphylococcus epidermidis\",\"NCTC7474\"],[\"Neisseria cinerea\",\"NCTC10294\"],[\"Actinobacillus pleuropneumoniae\",\"NCTC11407\"],[\"Streptococcus pyogenes\",\"NCTC4001\"],[\"Streptococcus pyogenes\",\"NCTC2218\"],[\"Gallibacterium anatis\",\"NCTC11413\"],[\"Mannheimia haemolytica\",\"NCTC9712\"],[\"Brucella abortus\",\"NCTC624\"],[\"Streptococcus acidominimus\",\"NCTC11291\"],[\"Streptococcus pseudoporcinus\",\"NCTC13786\"],[\"Bacillus circulans\",\"NCTC2610\"],[\"Enterococcus faecium\",\"NCTC7174\"],[\"Moraxella (branhamella) catarrhalis\",\"NCTC3622\"],[\"Haemophilus ducreyi\",\"NCTC11483\"],[\"Burkholderia mallei\",\"NCTC3709\"],[\"Enterococcus faecalis\",\"NCTC370\"],[\"Pasteurella canis\",\"NCTC11621\"],[\"Pasteurella multocida\",\"NCTC10322\"],[\"Streptococcus pyogenes\",\"NCTC13738\"],[\"Streptococcus pyogenes\",\"NCTC13739\"],[\"Streptococcus pyogenes\",\"NCTC13741\"],[\"Streptococcus pyogenes\",\"NCTC13743\"],[\"Mycobacterium farcinogenes \",\"NCTC4524\"],[\"Brucella suis\",\"NCTC5061\"],[\"Streptococcus pyogenes\",\"NCTC13745\"],[\"Pasteurella multocida \",\"NCTC11620\"],[\"Enterococcus casseliflavus\",\"NCTC7179\"],[\"Enterococcus faecium\",\"NCTC7176\"],[\"Mycobacterium flavescens\",\"NCTC10271\"],[\"Aggregatibacter actinomycetemcomitans\",\"NCTC9709\"],[\"Streptococcus pyogenes\",\"NCTC13751\"],[\"Staphylococcus epidermidis\",\"NCTC6513\"],[\"Legionella pneumophila\",\"NCTC11193\"],[\"Legionella pneumophila\",\"NCTC12179\"],[\"Streptococcus equi\",\"NCTC7022\"],[\"Streptococcus dysgalactiae \",\"NCTC5371\"],[\"Legionella pneumophila\",\"NCTC12174\"],[\"Aneurinibacillus migulanus\",\"NCTC7096\"],[\"Streptococcus equi \",\"NCTC7023\"],[\"Streptococcus dysgalactiae \",\"NCTC5370\"],[\"Comamonas testosteroni\",\"NCTC10698\"],[\"Ochrobactrum intermedium\",\"NCTC12171\"],[\"Streptococcus sp.\",\"NCTC5385\"],[\"Streptococcus sp.\",\"NCTC5386\"],[\"Streptococcus dysgalactiae \",\"NCTC9413\"],[\"Mycobacterium xenopi\",\"NCTC10042\"],[\"Streptococcus sp.\",\"NCTC10710\"],[\"Mycobacterium chubuense\",\"NCTC10819\"],[\"Legionella feeleii\",\"NCTC11978\"],[\"Clostridium botulinum\",\"NCTC7273\"],[\"Myroides odoratus\",\"NCTC11179\"],[\"Bordetella parapertussis\",\"NCTC10853\"],[\"Enterococcus hirae\",\"NCTC12368\"],[\"Enterococcus hirae\",\"NCTC7175\"],[\"Bacteroides splanchnicus\",\"NCTC10826\"],[\"Odoribacter splanchnicus\",\"NCTC10825\"],[\"Streptococcus ferus\",\"NCTC12278\"],[\"Mycobacterium aichiense\",\"NCTC10820\"],[\"Enterococcus hirae\",\"NCTC7170\"],[\"Legionella pneumophila\",\"NCTC12180\"],[\"Streptococcus hyointestinalis\",\"NCTC12224\"],[\"Streptococcus dysgalactiae \",\"NCTC7136\"],[\"Brucella neotomae\",\"NCTC10070\"],[\"Mycobacterium gilvum\",\"NCTC10742\"],[\"Enterococcus faecium\",\"NCTC12204\"],[\"Staphylococcus caprae\",\"NCTC12196\"],[\"Shewanella putrefaciens\",\"NCTC10736\"],[\"Streptococcus canis\",\"NCTC12191\"],[\"Legionella pneumophila\",\"NCTC12181\"],[\"Streptococcus sp.\",\"NCTC5338\"],[\"Chryseobacterium balustinum\",\"NCTC11212\"],[\"Bacillus cereus\",\"NCTC6474\"],[\"Staphylococcus lentus\",\"NCTC12102\"],[\"Fluoribacter bozemanae\",\"NCTC11368\"],[\"Streptococcus equi \",\"NCTC6176\"],[\"Sphingobacterium spiritivorum\",\"NCTC11386\"],[\"Brucella ovis\",\"NCTC10512\"],[\"Brucella melitensis\",\"NCTC10509\"],[\"Streptococcus sp.\",\"NCTC9124\"],[\"Brucella abortus\",\"NCTC10505\"],[\"Bordetella avium\",\"NCTC12033\"],[\"Legionella feeleii\",\"NCTC12022\"],[\"Fluoribacter dumoffii\",\"NCTC11370\"],[\"Legionella pneumophila\",\"NCTC12007\"],[\"Legionella pneumophila\",\"NCTC12000\"],[\"Oligella ureolytica\",\"NCTC11998\"],[\"Streptococcus equi \",\"NCTC12092\"],[\"Acinetobacter lwoffii\",\"NCTC5866\"],[\"Moraxella osloensis\",\"NCTC10465\"],[\"Acinetobacter lwoffii\",\"NCTC5867\"],[\"Campylobacter jejuni \",\"NCTC11351\"],[\"Campylobacter lari\",\"NCTC11352\"],[\"Streptococcus suis\",\"NCTC10446\"],[\"Legionella pneumophila\",\"NCTC11985\"],[\"Legionella pneumophila\",\"NCTC11984\"],[\"Aggregatibacter aphrophilus\",\"NCTC5908\"],[\"Legionella hackeliae\",\"NCTC11979\"],[\"Mycobacterium aurum\",\"NCTC10437\"],[\"Bordetella parapertussis\",\"NCTC10520\"],[\"Bordetella parapertussis\",\"NCTC10522\"],[\"Bordetella parapertussis\",\"NCTC10524\"],[\"streptococcus equisimilis\",\"NCTC6179\"],[\"Streptococcus equi \",\"NCTC12091\"],[\"Streptococcus equi \",\"NCTC12090\"],[\"Campylobacter coli\",\"NCTC11437\"],[\"Streptococcus pyogenes\",\"NCTC12065\"],[\"Streptococcus oralis\",\"NCTC11427\"],[\"Legionella pneumophila\",\"NCTC11230\"],[\"Haemophilus haemoglobinophilus\",\"NCTC10619\"],[\"Legionella pneumophila\",\"NCTC11417\"],[\"Streptococcus dysgalactiae \",\"NCTC6407\"],[\"Streptococcus dysgalactiae\",\"NCTC6403\"],[\"Paenibacillus macerans\",\"NCTC6355\"],[\"Nocardia farcinica\",\"NCTC630\"],[\"Legionella pneumophila\",\"NCTC11286\"],[\"Bacteroides vulgatus\",\"NCTC10583\"],[\"Bacteroides thetaiotaomicron\",\"NCTC10582\"],[\"Streptococcus canis\",\"NCTC6198\"],[\"Megamonas hypermegale\",\"NCTC10571\"],[\"Streptococcus dysgalactiae \",\"NCTC6181\"],[\"Streptococcus pyogenes\",\"NCTC12049\"],[\"Bordetella bronchiseptica\",\"NCTC10543\"],[\"Bordetella bronchiseptica\",\"NCTC10542\"],[\"Streptococcus equi \",\"NCTC6180\"],[\"Legionella pneumophila\",\"NCTC11404\"],[\"Legionella oakridgensis\",\"NCTC11531\"],[\"Bacteroides eggerthii\",\"NCTC11155\"],[\"Streptococcus equi \",\"NCTC4676\"],[\"Streptococcus dysgalactiae \",\"NCTC11564\"],[\"Comamonas terrigena\",\"NCTC1937\"],[\"Bordetella bronchiseptica\",\"NCTC8344\"],[\"Streptococcus dysgalactiae\",\"NCTC7982\"],[\"Clostridium botulinum\",\"NCTC2012\"],[\"Streptococcus pyogenes\",\"NCTC2366\"],[\"Streptococcus sp.\",\"NCTC11567\"],[\"Listeria ivanovii \",\"NCTC11846\"],[\"Bacillus cereus\",\"NCTC2599\"],[\"Streptococcus equi \",\"NCTC11854\"],[\"Streptococcus sanguinis\",\"NCTC11085\"],[\"Clostridium botulinum\",\"NCTC2916\"],[\"Streptococcus gordonii\",\"NCTC7870\"],[\"Haemophilus haemoglobinophilus\",\"NCTC1659\"],[\"Streptococcus gordonii\",\"NCTC7869\"],[\"Streptococcus gordonii\",\"NCTC7868\"],[\"Streptococcus gordonii\",\"NCTC7865\"],[\"Streptococcus sanguinis\",\"NCTC7863\"],[\"Streptococcus gordonii\",\"NCTC3165\"],[\"Streptococcus sanguinis\",\"NCTC11086\"],[\"Achromobacter sp.\",\"NCTC3233\"],[\"Streptococcus equi \",\"NCTC4675\"],[\"Nocardia farcinica\",\"NCTC11134\"],[\"Streptococcus dysgalactiae \",\"NCTC9603\"],[\"Brucella abortus\",\"NCTC3605\"],[\"Streptococcus equi subp. zooepidemicus\",\"NCTC11606\"],[\"Brucella abortus\",\"NCTC1478\"],[\"Streptococcus dysgalactiae \",\"NCTC8543\"],[\"Streptococcus sp.\",\"NCTC10228\"],[\"Streptococcus oralis\",\"NCTC10232\"],[\"Streptococcus sp.\",\"NCTC10233\"],[\"Streptococcus dysgalactiae \",\"NCTC10321\"],[\"Streptococcus pyogenes\",\"NCTC8232\"],[\"Streptococcus massilliensis\",\"NCTC13765\"],[\"Moraxella (branhamella) catarrhalis\",\"NCTC11020\"],[\"Streptococcus gordonii\",\"NCTC10231\"],[\"Chromobacterium violaceum\",\"NCTC9757\"],[\"Enterococcus durans\",\"NCTC8130\"],[\"Riemerella anatipestifer\",\"NCTC11014\"],[\"Enterococcus durans\",\"NCTC8129\"],[\"Listeria ivanovii \",\"NCTC11007\"],[\"Streptococcus equi subp. zooepidemicus\",\"NCTC11824\"],[\"Bifidobacterium longum \",\"NCTC11817\"],[\"Staphylococcus devriesei\",\"NCTC13828\"],[\"Streptococcus suis\",\"NCTC10234\"],[\"Blautia coccoides\",\"NCTC11035\"],[\"Streptococcus pyogenes\",\"NCTC8304\"],[\"Streptococcus suis\",\"NCTC10237\"],[\"Brucella abortus\",\"NCTC8038\"],[\"Bordetella parapertussis\",\"NCTC5952\"],[\"Rhodococcus erythropolis\",\"NCTC8036\"],[\"Streptococcus pyogenes\",\"NCTC8322\"],[\"Streptococcus pyogenes\",\"NCTC8324\"],[\"Haemophilus haemoglobinophilus\",\"NCTC8540\"],[\"Streptococcus dysgalactiae \",\"NCTC11556\"],[\"Streptococcus dysgalactiae \",\"NCTC8546\"],[\"Bacteroides distasonis\",\"NCTC11152\"],[\"Brucella abortus\",\"NCTC7471\"],[\"Streptococcus dysgalactiae \",\"NCTC11555\"],[\"Bordetella bronchiseptica\",\"NCTC8762\"],[\"Legionella jordanis\",\"NCTC11533\"],[\"Streptococcus agalactiae\",\"NCTC11930\"],[\"Arcobacter butzleri\",\"NCTC12481\"],[\"Bordetella bronchiseptica\",\"NCTC452\"],[\"Brucella abortus\",\"NCTC10093\"],[\"Clostridium botulinum\",\"NCTC4587\"],[\"Streptococcus dysgalactiae \",\"NCTC4669\"],[\"Enterococcus cecorum\",\"NCTC12421\"],[\"Clostridium botulinum\",\"NCTC751\"],[\"Bacteroides ovatus\",\"NCTC11153\"],[\"Streptococcus dysgalactiae \",\"NCTC9414\"],[\"Legionella gratiana\",\"NCTC12388\"],[\"Streptococcus dysgalactiae \",\"NCTC4670\"],[\"Burkholderia gladioli\",\"NCTC12378\"],[\"Iodobacter fluviatilis\",\"NCTC11159\"],[\"Streptococcus dysgalactiae \",\"NCTC4671\"],[\"Streptococcus uberis\",\"NCTC4672\"],[\"Streptococcus uberis\",\"NCTC4673\"],[\"Streptococcus uberis\",\"NCTC4674\"],[\"Moraxella (branhamella) catarrhalis\",\"NCTC4103\"],[\"Streptococcus dysgalactiae \",\"NCTC11554\"],[\"Streptococcus sp.\",\"NCTC5968\"],[\"Vibrio metschnikovii\",\"NCTC8563\"],[\"Clostridium botulinum\",\"NCTC3815\"],[\"Clostridium botulinum\",\"NCTC3806\"],[\"Acinetobacter johnsonii\",\"NCTC10308\"],[\"Janthinobacterium lividum\",\"NCTC8661\"],[\"Clostridium botulinum\",\"NCTC9837\"],[\"Clostridium botulinum\",\"NCTC3805\"],[\"Legionella pneumophila\",\"NCTC12821\"],[\"Chromobacterium violaceum\",\"NCTC8683\"],[\"Clostridium botulinum\",\"NCTC3807\"],[\"Streptococcus porcinus\",\"NCTC10924\"],[\"Chromobacterium violaceum\",\"NCTC8684\"],[\"Streptococcus sanguinis\",\"NCTC10904\"],[\"Streptococcus dysgalactiae\",\"NCTC8547\"],[\"Streptococcus uberis\",\"NCTC3858\"],[\"Mycobacterium chelonae \",\"NCTC946\"],[\"Neisseria meningitidis\",\"NCTC9388\"],[\"Moraxella (branhamella) cuniculi\",\"NCTC10297\"],[\"Moraxella bovis\",\"NCTC9426\"],[\"Streptococcus agalactiae\",\"NCTC9993\"],[\"Streptococcus equi \",\"NCTC9682\"],[\"Gardnerella vaginalis\",\"NCTC10287\"],[\"Bergeriella denitrificans\",\"NCTC10295\"],[\"Neisseria meningitidis\",\"NCTC9390\"],[\"Clostridium perfringens\",\"NCTC9851\"],[\"Paenibacillus polymyxa\",\"NCTC10343\"],[\"Brevundimonas vancanneytii\",\"NCTC9239\"],[\"Streptococcus agalactiae\",\"NCTC9828\"],[\"Neisseria animalis\",\"NCTC10212\"],[\"moraxella liquefaciens\",\"NCTC10359\"],[\"Clostridium perfringens\",\"NCTC10240\"],[\"Moraxella (branhamella) caviae\",\"NCTC10293\"],[\"Alcaligenes odorans\",\"NCTC10388\"],[\"Bacillus licheniformis\",\"NCTC9932\"],[\"Bacillus pumilus\",\"NCTC10337\"],[\"Chromobacterium violaceum\",\"NCTC9695\"],[\"Acholeplasma axanthum\",\"NCTC10138\"],[\"Staphylococcus hyicus \",\"NCTC10350\"],[\"Clostridium perfringens\",\"NCTC10239\"],[\"Chromobacterium violaceum\",\"NCTC9370\"],[\"Legionella cherrii\",\"NCTC11976\"],[\"Mycobacterium thermoresistibile\",\"NCTC10409\"],[\"Clostridium sporogenes\",\"NCTC534\"],[\"Legionella longbeachae\",\"NCTC11477\"],[\"Clostridium tetanomorphum\",\"NCTC500\"],[\"Wolinella succinogenes\",\"NCTC11488\"],[\"Haemophilus parasuis\",\"NCTC4557\"],[\"Legionella wadsworthii\",\"NCTC11532\"],[\"Staphylococcus epidermidis\",\"NCTC4133\"],[\"Clostridium perfringens\",\"NCTC3182\"],[\"Clostridium perfringens\",\"NCTC2837\"],[\"Clostridium sporogenes\",\"NCTC275\"],[\"Micrococcus luteus\",\"NCTC2665\"],[\"Staphylococcus petrasii\",\"NCTC13835\"],[\"Staphylococcus nepalensis\",\"NCTC13834\"],[\"Weeksella virosa\",\"NCTC11635\"],[\"Actinomyces howellii\",\"NCTC11636\"],[\"Mobiluncus curtisii \",\"NCTC11656\"],[\"Clostridium sporogenes\",\"NCTC532\"],[\"Clostridium tetani\",\"NCTC539\"],[\"Staphylococcus saprophyticus \",\"NCTC7526\"],[\"Clostridium tetani\",\"NCTC540\"],[\"Brevundimonas diminuta\",\"NCTC11164\"],[\"Brevundimonas diminuta\",\"NCTC11165\"],[\"Brevundimonas vesicularis\",\"NCTC11166\"],[\"Staphylococcus warneri\",\"NCTC7291\"],[\"Myroides odoratimimus\",\"NCTC11180\"],[\"Rikenella microfusus\",\"NCTC11190\"],[\"Legionella pneumophila\",\"NCTC11192\"],[\"Streptococcus agalactiae\",\"NCTC11242\"],[\"Streptococcus agalactiae\",\"NCTC6175\"],[\"Streptococcus constellatus\",\"NCTC11325\"],[\"Streptococcus agalactiae\",\"NCTC11360\"],[\"Campylobacter coli\",\"NCTC11366\"],[\"Neisseria gonorrhoeae\",\"NCTC11421\"],[\"Sphingobacterium thalpophilum\",\"NCTC11429\"],[\"Streptococcus bovis\",\"NCTC11436\"],[\"Staphylococcus saccharolyticus\",\"NCTC11807\"],[\"Clostridium indolis\",\"NCTC11811\"],[\"Bifidobacterium adolescentis\",\"NCTC11814\"],[\"Bifidobacterium breve\",\"NCTC11815\"],[\"Enterococcus mundtii\",\"NCTC12364\"],[\"Helicobacter cinaedi\",\"NCTC12221\"],[\"Helicobacter cinaedi\",\"NCTC12219\"],[\"Staphylococcus schleiferi\",\"NCTC12218\"],[\"Flavobacterium mizutaii\",\"NCTC12149\"],[\"Staphylococcus sciuri \",\"NCTC12103\"],[\"Staphylococcus auricularis\",\"NCTC12101\"],[\"Legionella spiritensis\",\"NCTC12082\"],[\"Veillonella criceti\",\"NCTC12020\"],[\"Legionella israelensis\",\"NCTC12010\"],[\"Oligella urethralis\",\"NCTC11999\"],[\"Legionella steigerwaltii\",\"NCTC11991\"],[\"Legionella spiritensis\",\"NCTC11990\"],[\"Legionella sainthelensi\",\"NCTC11988\"],[\"Tatlockia maceachernii\",\"NCTC11982\"],[\"Legionella geestiana\",\"NCTC12373\"],[\"Legionella cincinnatiensis\",\"NCTC12438\"],[\"Campylobacter lari\",\"NCTC11937\"],[\"Campylobacter lari\",\"NCTC11845\"],[\"Bifidobacterium dentium\",\"NCTC11816\"],[\"Bordetella pertussis\",\"NCTC13668\"],[\"Bordetella pertussis\",\"NCTC13667\"],[\"Bifidobacterium longum\",\"NCTC11818\"],[\"Falcivibrio vaginalis\",\"NCTC11820\"],[\"Clostridium paraputrificum\",\"NCTC11833\"],[\"Legionella londiniensis\",\"NCTC12931\"],[\"Legionella sainthelensi\",\"NCTC12450\"],[\"Helicobacter pylori\",\"NCTC12823\"],[\"Legionella adelaidensis\",\"NCTC12735\"],[\"Helicobacter muridarum\",\"NCTC12714\"],[\"Arcobacter skirrowii\",\"NCTC12713\"],[\"Listeria ivanovii \",\"NCTC12701\"],[\"Salmonella enterica \",\"NCTC12694\"],[\"Prevotella disiens\",\"NCTC11157\"],[\"Staphylococcus saprophyticus \",\"NCTC7540\"],[\"Bifidobacterium breve\",\"NCTC10471\"],[\"Clostridium perfringens\",\"NCTC8798\"],[\"Bacillus licheniformis\",\"NCTC8720\"],[\"Bordetella pertussis\",\"NCTC10905\"],[\"Clostridium perfringens\",\"NCTC8679\"],[\"Clostridium perfringens\",\"NCTC8678\"],[\"Bordetella pertussis\",\"NCTC10907\"],[\"Bordetella pertussis\",\"NCTC10908\"],[\"Bordetella pertussis\",\"NCTC10910\"],[\"Bordetella pertussis\",\"NCTC10911\"],[\"Brevundimonas diminuta\",\"NCTC8545\"],[\"Clostridium perfringens\",\"NCTC8503\"],[\"Clostridium perfringens\",\"NCTC8449\"],[\"Vibrio metschnikovii\",\"NCTC8443\"],[\"Clostridium baratii\",\"NCTC10986\"],[\"Clostridium perfringens\",\"NCTC8359\"],[\"Pasteurella pneumotropica\",\"NCTC8284\"],[\"Clostridium perfringens\",\"NCTC8797\"],[\"Clostridium perfringens\",\"NCTC8799\"],[\"Paenibacillus polymyxa\",\"NCTC7575\"],[\"Mycobacterium abscessus\",\"NCTC10882\"],[\"Mycobacterium chitae\",\"NCTC10485\"],[\"Staphylococcus warneri\",\"NCTC10518\"],[\"Psychrobacter phenylpyruvicus\",\"NCTC10526\"],[\"Staphylococcus chromogenes\",\"NCTC10530\"],[\"Megamonas hypermegale\",\"NCTC10570\"],[\"Clostridium perfringens\",\"NCTC10578\"],[\"Kurthia zopfii\",\"NCTC10597\"],[\"Clostridium perfringens\",\"NCTC10613\"],[\"Clostridium perfringens\",\"NCTC10614\"],[\"Neisseria elongata\",\"NCTC10660\"],[\"Gordonia terrae\",\"NCTC10669\"],[\"Clostridium perfringens\",\"NCTC10719\"],[\"Neisseria mucosa\",\"NCTC10774\"],[\"Mycobacterium tokaiense\",\"NCTC10821\"],[\"Mycobacterium terrae\",\"NCTC10856\"],[\"Moraxella equi\",\"NCTC11012\"],[\"Neisseria flavescens\",\"NCTC8263\"],[\"Clostridium perfringens\",\"NCTC8247\"],[\"Clostridium perfringens\",\"NCTC8246\"],[\"Staphylococcus warneri\",\"NCTC11044\"],[\"Staphylococcus capitis\",\"NCTC11045\"],[\"Staphylococcus simulans\",\"NCTC11046\"],[\"Neisseria elongata \",\"NCTC11050\"],[\"Streptococcus agalactiae\",\"NCTC11079\"],[\"Moraxella lacunata\",\"NCTC7911\"],[\"Staphylococcus agnetis\",\"NCTC7887\"],[\"Streptococcus pleomorphus\",\"NCTC11087\"],[\"Moraxella atlantae\",\"NCTC11091\"],[\"Clostridium perfringens\",\"NCTC11144\"],[\"Staphylococcus saprophyticus \",\"NCTC7692\"],[\"Staphylococcus saprophyticus \",\"NCTC7688\"],[\"Staphylococcus saprophyticus \",\"NCTC7687\"],[\"Staphylococcus saprophyticus \",\"NCTC7666\"],[\"Aerococcus viridans\",\"NCTC7595\"],[\"Staphylococcus cohnii\",\"NCTC11041\"],[\"Myroides odoratus\",\"NCTC11036\"],[\"Streptococcus agalactiae\",\"NCTC8017\"],[\"Streptococcus agalactiae\",\"NCTC8182\"],[\"Clostridium perfringens\",\"NCTC8239\"],[\"Streptococcus agalactiae\",\"NCTC8188\"],[\"Streptococcus agalactiae\",\"NCTC8187\"],[\"Streptococcus agalactiae\",\"NCTC8185\"],[\"Streptococcus agalactiae\",\"NCTC8184\"],[\"Streptococcus agalactiae\",\"NCTC8183\"],[\"Streptococcus agalactiae\",\"NCTC8181\"],[\"Clostridium perfringens\",\"NCTC8081\"],[\"Streptococcus agalactiae\",\"NCTC8180\"],[\"Sphingomonas paucimobilis\",\"NCTC11030\"],[\"Sphingobacterium multivorum\",\"NCTC11034\"],[\"Mycobacterium phlei\",\"NCTC8156\"],[\"Mycobacterium phlei\",\"NCTC8151\"],[\"Streptococcus agalactiae\",\"NCTC8100\"],[\"Staphylococcus saprophyticus \",\"NCTC7292\"]],\"fillcolor\":\"rgba(255,255,255,0)\",\"hoveron\":\"points\",\"hovertemplate\":\"Year_Cultured=%{x}<br>Number of strict/perfect AbR hits=%{y}<br>Species=%{customdata[0]}<br>Accession_Number=%{customdata[1]}<extra></extra>\",\"legendgroup\":\"\",\"line\":{\"color\":\"rgba(255,255,255,0)\"},\"marker\":{\"color\":\"#636efa\"},\"name\":\"\",\"offsetgroup\":\"\",\"orientation\":\"v\",\"pointpos\":0,\"showlegend\":false,\"type\":\"box\",\"x\":[2006,1992,2003,2013,1992,2016,1992,1982,2003,2010,2010,2011,2006,1977,2013,2009,1983,1984,1950,2006,2012,2009,1963,2008,1949,1950,1952,1947,1970,1968,1957,2009,1985,1960,1970,1952,1963,1931,1960,1952,1976,1957,1957,1970,1962,1952,1976,1952,1961,1925,1955,1955,1944,1970,1976,1957,1957,1957,1949,1948,1944,1952,1952,1963,1952,1952,1952,1952,1971,1952,1952,1952,1952,1952,1952,1952,1952,1929,1982,1952,1932,1952,1957,1976,1952,1947,1960,1935,1955,1952,1971,1952,1952,1952,1920,1939,1949,1955,1952,1952,1947,1973,1950,1973,1974,1966,1957,1952,1949,1957,1976,1952,1952,1949,1992,1977,1952,1952,1954,1952,1952,1952,1976,1957,1958,1952,1952,1952,1952,1976,1952,1976,1952,1931,1955,1952,1952,1955,1976,1952,1952,1952,1952,1952,1969,1949,1976,1967,1971,1971,1952,1976,1952,1952,1949,1952,1962,1958,1960,1952,1952,1982,2008,1982,1955,1952,1948,1994,1992,1952,1952,1952,1976,1952,1952,1952,1949,1976,1950,1952,1952,1952,1989,1960,2011,1955,1920,1931,1952,1971,1952,1952,1952,1982,1921,1988,1956,1964,1976,1976,1958,1952,1949,1952,1952,1981,1971,1952,1952,1978,1952,1957,1955,1952,1951,1952,1952,1947,1952,1971,1966,1952,1953,1957,1950,1975,1945,1953,2011,1955,1952,1952,1949,1955,1995,1957,1955,1973,1955,1965,1955,1955,1951,2008,1954,1971,1952,1952,1992,1956,1920,1952,1919,1969,1949,1955,1955,1955,1983,1977,1956,1971,1983,1914,1952,1935,1959,1991,1952,1957,1940,1947,1946,1985,1934,1948,1940,1920,1940,1939,1939,1946,1937,1967,1926,1952,1937,1942,1943,1955,1945,1955,1959,1951,1937,1970,1954,1937,1934,1995,1939,1917,1952,2012,1934,1988,1964,1936,1938,1930,1938,1920,1956,1938,1954,1978,1951,1939,1929,1950,1953,1953,1944,1956,1932,1990,1930,1971,1965,1938,1955,1987,1939,1920,1937,1942,1985,1911,2003,1987,1976,1961,1961,1952,1949,1943,2004,2014,1955,1967,1959,1933,1956,1965,1940,1952,1982,2006,1952,1918,2008,1958,1946,1974,1964,1951,1946,1971,1954,1974,1947,1934,1958,1962,2004,1971,1971,1952,2007,1950,1949,1952,1949,1952,1974,1940,1953,1920,1952,1952,1940,1952,1954,1952,1954,1980,1932,1939,2003,1955,1952,1917,1955,1955,1982,1955,1940,1952,1952,2014,1940,1952,1948,1930,1953,1952,1972,1955,1952,1950,1941,1970,1952,1952,1952,1948,1920,1952,1952,1955,1952,1953,1993,1946,1933,2004,1953,1952,1911,1952,1974,1952,1965,1950,1980,1947,1941,1952,1939,2008,1952,1952,1958,1952,1955,1949,1982,1948,1943,1948,1933,1952,1952,1952,1948,1937,1952,1980,1952,1934,1952,1952,1974,1947,1952,1980,1955,1952,1946,1982,1976,1953,1958,1940,1948,1983,1934,1952,1949,1936,1983,1941,1955,1955,1949,1955,1934,1952,1971,1953,1955,1934,1940,1941,1940,1940,1934,1937,1949,1948,1987,1947,1940,1920,1952,1934,1952,1952,1952,1952,1933,1955,1954,1955,1954,1955,1954,1936,1957,1962,1952,1958,1940,1941,1951,1950,1983,1952,1940,1980,1934,1958,1952,1955,1952,1960,1984,1951,1953,1984,1971,1984,1958,1947,1937,1972,1968,1986,1947,1957,1952,1955,1930,1932,1953,1915,1975,2006,1951,1954,1948,1986,1952,1962,1985,1981,1982,1953,1968,1960,1954,1985,1952,1950,1955,1952,1977,1957,1985,1954,1980,1981,1952,1980,1952,1934,1920,1955,1962,1956,1958,1975,1954,1949,1950,1931,1981,1953,1955,1952,2013,1970,1986,1934,1980,2007,1976,2003,1980,1968,1943,1934,1985,1952,1985,1989,1954,2003,1955,1959,1971,1982,1960,1988,1972,2007,1977,1966,1969,1987,1982,1987,2006,1989,1953,2008,1944,2018,1983,1988,1967,1952,1952,1960,1951,2015,1924,1949,1943,2012,1955,1982,2003,1973,1965,1949,2005,1960,1954,1979,1985,2014,1938,1971,1959,2006,1944,1940,1932,1938,1948,1964,1972,1932,1952,1972,1953,1980,1955,1948,1980,1952,1986,1980,1982,2013,1950,1949,1948,1935,1954,1935,1971,1944,1933,1921,2015,1947,1931,1962,1960,1935,2009,1956,1974,2015,2015,2010,1968,1920,1906,1949,1928,1954,1949,1950,1931,1948,1947,1986,1969,1948,1951,1951,1920,1948,1968,1992,2015,1970,1952,1951,1943,1938,1951,1941,1938,1969,1945,1987,1941,1975,1933,1990,1952,1990,1985,1939,1980,1964,1965,1981,1935,1938,2015,1953,1952,2015,1941,1965,1949,1954,1954,1941,1943,1950,1972,1941,1960,1959,1906,1969,1988,1989,1945,1961,1989,1961,1948,1982,1977,2016,1936,1988,2004,1935,1943,1957,1951,1965,1974,1954,1954,1954,1951,1971,1938,1951,1954,1947,1960,2010,1949,1930,1948,1969,1985,1985,1954,1947,1959,1938,1958,1966,1954,1963,2010,1973,1963,1921,2012,1974,1977,2015,1950,1986,1954,1963,1947,1955,1976,1950,1991,1971,1947,1936,1971,1944,1987,1942,1927,2013,2013,1952,1992,1957,1933,1921,1971,2015,1984,1948,1982,1937,1992,1938,1950,1942,1942,1938,1923,1945,1954,2015,1932,1986,1984,1976,1984,1940,1968,1988,1984,1984,1960,1932,1987,1984,1984,1955,1996,1942,1965,2015,1983,1974,1954,1951,1962,1962,1978,1979,1973,1992,1986,1960,1967,1954,1951,1938,1951,1981,1982,1950,1961,1966,1958,1975,1960,1986,1963,1916,1976,1964,1950,1950,1926,1950,2012,2013,1988,1956,1963,2002,1964,1985,1916,1985,1984,1984,1947,1984,1950,1954,1981,1948,1976,2014,1965,1950,1924,1950,1970,1948,1970,1958,1951,1975,1921,1959,1965,1972,1970,1975,1970,1983,1971,1977,1951,1967,1972,1971,1961,1972,1950,1958,1955,1950,1971,1958,1973,1949,1951,1951,1946,1944,1965,1962,1983,1969,1983,1930,1920,1951,2013,1939,1978,1978,1931,1978,1978,1978,1978,1999,1932,1978,1978,1978,1978,1978,1978,1984,1985,1989,1960,1989,1985,1990,1993,1988,1978,1978,1988,1978,2015,2015,2010,2015,2015,2015,1984,2015,1961,1990,2002,1976,1984,1925,1991,1952,1942,1919,1984,1976,1983,1978,1978,1988,1984,1972,1981,1975,1968,1977,1976,1979,1982,1986,1975,1971,1983,1979,1974,1974,1952,1965,1931,1944,1974,1935,1935,1951,1951,1954,1963,1984,1939,1990,1982,1975,1960,1974,1988,1973,1955,1934,1970,1935,1927,1944,1982,1926,1943,1974,1951,1981,1942,1942,1942,1965,1951,1944,1973,1936,1987,1967,1984,1979,1956,1968,1952,1981,1960,1943,1918,1935,1967,1944,1945,1947,1970,1981,1986,1959,1986,1954,1966,1969,1968,1967,1967,1967,1967,1967,1967,1957,1993,1966,1957,1960,1957,1984,1984,1942,1956,1989,1988,1971,1985,1986,1987,1953,1969,1975,1972,1974,1968,1953,1964,1975,1999,1967,1978,1972,1968,1968,1982,1966,1960,1992,1990,1951,1960,1980,1981,1945,1992,1982,1985,1969,1987,1970,1935,1950,1978,1985,1979,1946,1995,1958,1919,1933,1949,1933,2004,1985,1953,1931,1937,1937,1983,1935,1948,1962,1971,1933,1926,1981,1956,1919,1976,1997,1928,1946,1932,1981,1932,1918,1985,1962,2015,2014,2015,2015,1925,1937,2015,1985,1946,1946,1961,1948,2015,1943,1977,1986,1945,1938,1988,1944,1945,1938,1958,1988,1938,1938,1953,1959,1965,1971,1985,1947,1966,1938,1985,1946,1972,1968,1977,1971,1946,1987,1984,1946,1957,1970,1987,1983,1968,1986,1988,1938,1929,1942,1976,1980,1932,1980,1963,1961,1935,1959,1978,1987,1980,1986,1985,1985,1987,1939,1965,1939,1980,1980,1956,1983,1981,1939,1981,1965,1967,1967,1967,1941,1987,1987,1980,1976,1968,1980,1967,1979,1942,1942,1905,1919,1979,1967,1970,1941,1961,1941,1974,1952,1951,1941,1981,1981,1972,1933,1983,1923,1951,1949,1922,1927,1935,1984,1916,1983,1974,1928,1949,1922,1949,1938,1935,1949,1930,1974,1930,1933,1957,1954,1932,1983,1922,1939,1961,1961,1961,1963,1934,2004,1972,1961,1952,1950,1932,1950,1975,1980,1985,2006,1961,1976,1931,1961,1949,1937,1949,1950,1932,1953,1983,1953,1942,1948,1983,1950,1978,1980,1991,1912,1953,1934,1932,1983,1919,1942,1953,1989,1932,1973,1972,1932,1932,1932,1932,1932,1983,1938,1954,1925,1926,1962,1951,1955,1919,1990,1952,1921,1966,1937,1970,1953,1932,1921,1928,1962,1953,1932,1955,1961,1962,1928,1953,1963,1953,1955,1960,1964,1959,1953,1964,1956,1901,1953,1969,1950,1958,1952,1982,1965,1920,1980,1919,1960,1931,1981,1930,1930,1929,1914,1928,2009,2003,1983,1983,1984,1920,1917,1948,1917,1968,1968,1968,1935,1967,1977,1977,1979,1941,1979,1963,1980,1982,1983,1981,1984,1965,1984,1985,1986,1988,1988,1988,1983,1976,1983,1987,1987,1986,1964,1982,1985,1981,1979,1993,1988,1986,1982,1974,2012,2012,1985,1983,1985,1993,1991,1991,1991,1992,1992,1992,1992,1972,1948,1956,1953,1951,1973,1950,1953,1964,1952,1967,1966,1953,1930,1953,1922,1969,1950,1952,1950,1953,1948,1972,1966,1967,1967,1967,1961,1968,1966,1967,1953,1969,1967,1967,1971,1971,1966,1970,1952,1953,1952,1975,1975,1975,1976,1965,1949,1947,1960,1976,1975,1948,1948,1948,1948,1948,1975,1929,1949,1932,1953,1932,1932,1932,1932,1932,1932,1946,1932,1969,1973,1937,1949,1932,1935],\"x0\":\" \",\"xaxis\":\"x\",\"y\":[85,84,73,72,70,70,69,68,67,66,66,65,65,64,64,64,63,63,61,61,61,60,60,60,59,59,59,59,58,58,58,58,58,58,58,58,58,57,57,57,57,57,57,57,57,57,56,56,56,56,56,56,56,56,56,56,56,56,56,56,56,56,55,55,55,55,55,55,55,55,55,55,55,55,55,55,55,55,55,55,55,55,55,55,55,55,55,55,55,55,55,55,54,54,54,54,54,54,54,54,54,54,54,54,54,54,54,54,54,54,54,54,54,54,54,54,54,54,54,54,54,54,54,54,54,54,54,54,54,54,54,54,54,54,54,54,54,54,54,54,54,53,53,53,53,53,53,53,53,53,53,53,53,53,53,53,53,53,53,53,53,53,53,53,53,53,53,53,53,53,53,53,53,53,53,53,52,52,52,52,52,52,52,52,52,52,52,52,52,52,52,52,52,52,52,52,51,51,51,51,51,51,51,51,51,50,50,50,50,50,50,50,49,49,49,49,49,49,48,48,48,48,48,48,48,48,48,47,47,47,47,47,46,46,46,46,46,46,46,46,46,45,45,45,45,45,45,45,44,44,44,44,44,44,43,43,43,43,43,43,43,42,42,42,41,41,41,41,41,40,40,40,40,40,40,40,40,40,40,40,40,40,40,40,40,40,40,40,40,40,40,40,40,40,40,40,40,40,40,40,40,40,40,40,40,40,40,40,40,40,40,40,40,40,40,40,40,40,40,39,39,39,39,39,39,39,39,39,39,39,39,39,38,38,38,38,38,38,38,38,38,38,38,37,37,37,37,37,37,37,37,37,37,37,37,36,36,36,36,36,36,36,36,36,36,36,35,35,35,35,35,35,35,35,35,34,34,34,34,34,34,34,34,34,34,34,34,33,33,33,33,33,33,33,33,33,33,33,33,33,33,33,32,32,32,32,32,32,32,32,32,32,32,32,32,32,32,32,32,32,32,32,32,32,31,31,31,31,31,31,31,31,31,31,31,31,31,31,31,31,31,31,31,31,31,31,31,30,30,30,30,30,30,30,30,30,30,30,30,30,30,30,30,30,30,30,30,29,29,29,29,29,29,29,29,29,29,29,29,29,29,29,29,29,29,29,29,29,29,28,28,28,28,28,28,28,28,28,28,28,27,27,27,27,27,27,27,27,27,27,27,27,27,27,27,27,27,27,27,27,27,27,27,27,27,27,27,27,27,27,26,26,26,26,26,26,26,26,26,26,26,26,26,26,25,25,25,25,25,25,25,25,25,25,24,24,24,24,24,24,24,24,24,24,24,24,24,24,23,23,23,23,23,23,23,23,23,23,23,22,22,22,22,22,22,21,21,21,20,20,20,20,20,19,19,19,19,19,19,19,19,19,18,18,18,18,17,17,17,17,17,17,17,17,17,16,16,16,16,16,16,16,16,16,15,15,15,15,15,15,15,15,14,14,14,14,14,14,14,14,14,14,14,13,13,13,13,13,13,13,13,13,12,12,12,12,12,12,12,12,12,12,12,12,12,12,12,12,12,12,12,11,11,11,11,11,11,11,11,11,11,11,11,11,11,11,11,11,11,11,11,11,11,11,11,11,11,11,11,11,11,11,11,10,10,10,10,10,10,10,10,10,10,10,10,10,10,10,10,10,10,10,10,10,10,10,10,10,10,10,10,10,10,10,10,10,10,10,10,10,10,10,10,10,10,10,10,10,10,10,10,10,10,10,10,10,10,10,10,10,10,10,10,9,9,9,9,9,9,9,9,9,9,9,9,9,9,9,9,9,9,9,9,9,9,9,9,9,9,9,9,9,9,9,9,9,9,9,9,9,9,9,9,9,9,9,9,9,9,8,8,8,8,8,8,8,8,8,8,8,8,8,8,8,8,8,8,8,8,8,8,8,8,8,8,8,8,8,8,8,8,8,8,8,8,7,7,7,7,7,7,7,7,7,7,7,7,7,7,7,7,7,7,7,7,7,7,7,7,7,7,7,7,7,6,6,6,6,6,6,6,6,6,6,6,6,6,6,6,6,6,6,6,6,6,6,6,6,5,5,5,5,5,5,5,5,5,5,5,5,5,5,5,5,5,5,5,5,5,5,5,5,5,5,5,5,5,5,5,5,5,5,5,5,5,5,5,5,5,5,5,5,5,5,5,5,4,4,4,4,4,4,4,4,4,4,4,4,4,4,4,4,4,4,4,4,4,4,4,4,4,4,4,4,4,4,4,4,4,4,4,4,4,4,4,4,4,4,4,4,4,4,4,4,4,4,4,4,4,4,4,4,4,4,4,4,4,4,4,4,4,4,4,4,4,4,4,4,4,4,4,4,4,4,4,4,4,4,4,4,4,4,4,4,4,4,4,4,4,4,4,4,4,4,4,4,4,4,4,4,4,4,4,4,4,4,4,4,4,4,4,4,4,3,3,3,3,3,3,3,3,3,3,3,3,3,3,3,3,3,3,3,3,3,3,3,3,3,3,3,3,3,3,3,3,3,3,3,3,3,3,3,3,3,3,3,3,3,3,3,3,3,3,3,3,3,3,3,3,3,3,3,3,3,3,3,3,3,3,3,3,3,3,3,3,3,3,3,3,3,3,3,3,3,3,3,3,3,3,3,3,3,3,3,3,3,3,3,3,3,3,3,3,3,3,3,3,3,3,3,3,3,3,3,3,3,3,3,3,3,3,3,3,3,3,3,3,3,3,3,3,3,3,3,3,3,3,3,3,3,3,3,3,3,3,3,3,3,3,3,3,3,3,3,3,3,3,3,3,3,3,3,3,3,3,3,3,3,3,3,3,3,3,3,2,2,2,2,2,2,2,2,2,2,2,2,2,2,2,2,2,2,2,2,2,2,2,2,2,2,2,2,2,2,2,2,2,2,2,2,2,2,2,2,2,2,2,2,2,2,2,2,2,2,2,2,2,2,2,2,2,2,2,2,2,2,2,2,2,2,2,2,2,2,2,2,2,2,2,2,2,2,2,2,2,2,2,2,2,2,2,2,2,2,2,2,2,2,2,2,2,2,2,2,2,2,2,2,2,2,2,2,2,2,2,2,2,2,2,2,2,2,2,2,2,2,2,2,2,2,2,2,2,2,2,2,2,2,2,2,2,2,2,2,2,2,2,2,2,2,2,2,2,2,2,2,2,2,2,2,2,2,2,2,2,2,2,2,2,2,2,2,2,2,2,2,2,2,2,2,2,2,2,2,2,2,2,2,2,2,2,2,2,2,2,2,2,1,1,1,1,1,1,1,1,1,1,1,1,1,1,1,1,1,1,1,1,1,1,1,1,1,1,1,1,1,1,1,1,1,1,1,1,1,1,1,1,1,1,1,1,1,1,1,1,1,1,1,1,1,1,1,1,1,1,1,1,1,1,1,1,1,1,1,1,1,1,1,1,1,1,1,1,1,1,1,1,1,1,1,1,1,1,1,1,1,1,1,1,1,1,1,1,1,1,1,1,1,1,1,1,1,1,1,1,1,1,1,1,1,1,1,1,1,1,1,1,1,1,1,1,1,1,1,1,1,1,1,1,1,1,1,1,1,1,1,1,1,1,1,1,1,1,1,1,1,1,1,1,1,1,1,1,1,1,1,1,1,1,1,1,1,1,1,1,1,1,1,1,1,1,1],\"y0\":\" \",\"yaxis\":\"y\"}],                        {\"boxmode\":\"group\",\"legend\":{\"tracegroupgap\":0},\"margin\":{\"t\":60},\"template\":{\"data\":{\"bar\":[{\"error_x\":{\"color\":\"#2a3f5f\"},\"error_y\":{\"color\":\"#2a3f5f\"},\"marker\":{\"line\":{\"color\":\"#E5ECF6\",\"width\":0.5},\"pattern\":{\"fillmode\":\"overlay\",\"size\":10,\"solidity\":0.2}},\"type\":\"bar\"}],\"barpolar\":[{\"marker\":{\"line\":{\"color\":\"#E5ECF6\",\"width\":0.5},\"pattern\":{\"fillmode\":\"overlay\",\"size\":10,\"solidity\":0.2}},\"type\":\"barpolar\"}],\"carpet\":[{\"aaxis\":{\"endlinecolor\":\"#2a3f5f\",\"gridcolor\":\"white\",\"linecolor\":\"white\",\"minorgridcolor\":\"white\",\"startlinecolor\":\"#2a3f5f\"},\"baxis\":{\"endlinecolor\":\"#2a3f5f\",\"gridcolor\":\"white\",\"linecolor\":\"white\",\"minorgridcolor\":\"white\",\"startlinecolor\":\"#2a3f5f\"},\"type\":\"carpet\"}],\"choropleth\":[{\"colorbar\":{\"outlinewidth\":0,\"ticks\":\"\"},\"type\":\"choropleth\"}],\"contour\":[{\"colorbar\":{\"outlinewidth\":0,\"ticks\":\"\"},\"colorscale\":[[0.0,\"#0d0887\"],[0.1111111111111111,\"#46039f\"],[0.2222222222222222,\"#7201a8\"],[0.3333333333333333,\"#9c179e\"],[0.4444444444444444,\"#bd3786\"],[0.5555555555555556,\"#d8576b\"],[0.6666666666666666,\"#ed7953\"],[0.7777777777777778,\"#fb9f3a\"],[0.8888888888888888,\"#fdca26\"],[1.0,\"#f0f921\"]],\"type\":\"contour\"}],\"contourcarpet\":[{\"colorbar\":{\"outlinewidth\":0,\"ticks\":\"\"},\"type\":\"contourcarpet\"}],\"heatmap\":[{\"colorbar\":{\"outlinewidth\":0,\"ticks\":\"\"},\"colorscale\":[[0.0,\"#0d0887\"],[0.1111111111111111,\"#46039f\"],[0.2222222222222222,\"#7201a8\"],[0.3333333333333333,\"#9c179e\"],[0.4444444444444444,\"#bd3786\"],[0.5555555555555556,\"#d8576b\"],[0.6666666666666666,\"#ed7953\"],[0.7777777777777778,\"#fb9f3a\"],[0.8888888888888888,\"#fdca26\"],[1.0,\"#f0f921\"]],\"type\":\"heatmap\"}],\"heatmapgl\":[{\"colorbar\":{\"outlinewidth\":0,\"ticks\":\"\"},\"colorscale\":[[0.0,\"#0d0887\"],[0.1111111111111111,\"#46039f\"],[0.2222222222222222,\"#7201a8\"],[0.3333333333333333,\"#9c179e\"],[0.4444444444444444,\"#bd3786\"],[0.5555555555555556,\"#d8576b\"],[0.6666666666666666,\"#ed7953\"],[0.7777777777777778,\"#fb9f3a\"],[0.8888888888888888,\"#fdca26\"],[1.0,\"#f0f921\"]],\"type\":\"heatmapgl\"}],\"histogram\":[{\"marker\":{\"pattern\":{\"fillmode\":\"overlay\",\"size\":10,\"solidity\":0.2}},\"type\":\"histogram\"}],\"histogram2d\":[{\"colorbar\":{\"outlinewidth\":0,\"ticks\":\"\"},\"colorscale\":[[0.0,\"#0d0887\"],[0.1111111111111111,\"#46039f\"],[0.2222222222222222,\"#7201a8\"],[0.3333333333333333,\"#9c179e\"],[0.4444444444444444,\"#bd3786\"],[0.5555555555555556,\"#d8576b\"],[0.6666666666666666,\"#ed7953\"],[0.7777777777777778,\"#fb9f3a\"],[0.8888888888888888,\"#fdca26\"],[1.0,\"#f0f921\"]],\"type\":\"histogram2d\"}],\"histogram2dcontour\":[{\"colorbar\":{\"outlinewidth\":0,\"ticks\":\"\"},\"colorscale\":[[0.0,\"#0d0887\"],[0.1111111111111111,\"#46039f\"],[0.2222222222222222,\"#7201a8\"],[0.3333333333333333,\"#9c179e\"],[0.4444444444444444,\"#bd3786\"],[0.5555555555555556,\"#d8576b\"],[0.6666666666666666,\"#ed7953\"],[0.7777777777777778,\"#fb9f3a\"],[0.8888888888888888,\"#fdca26\"],[1.0,\"#f0f921\"]],\"type\":\"histogram2dcontour\"}],\"mesh3d\":[{\"colorbar\":{\"outlinewidth\":0,\"ticks\":\"\"},\"type\":\"mesh3d\"}],\"parcoords\":[{\"line\":{\"colorbar\":{\"outlinewidth\":0,\"ticks\":\"\"}},\"type\":\"parcoords\"}],\"pie\":[{\"automargin\":true,\"type\":\"pie\"}],\"scatter\":[{\"marker\":{\"colorbar\":{\"outlinewidth\":0,\"ticks\":\"\"}},\"type\":\"scatter\"}],\"scatter3d\":[{\"line\":{\"colorbar\":{\"outlinewidth\":0,\"ticks\":\"\"}},\"marker\":{\"colorbar\":{\"outlinewidth\":0,\"ticks\":\"\"}},\"type\":\"scatter3d\"}],\"scattercarpet\":[{\"marker\":{\"colorbar\":{\"outlinewidth\":0,\"ticks\":\"\"}},\"type\":\"scattercarpet\"}],\"scattergeo\":[{\"marker\":{\"colorbar\":{\"outlinewidth\":0,\"ticks\":\"\"}},\"type\":\"scattergeo\"}],\"scattergl\":[{\"marker\":{\"colorbar\":{\"outlinewidth\":0,\"ticks\":\"\"}},\"type\":\"scattergl\"}],\"scattermapbox\":[{\"marker\":{\"colorbar\":{\"outlinewidth\":0,\"ticks\":\"\"}},\"type\":\"scattermapbox\"}],\"scatterpolar\":[{\"marker\":{\"colorbar\":{\"outlinewidth\":0,\"ticks\":\"\"}},\"type\":\"scatterpolar\"}],\"scatterpolargl\":[{\"marker\":{\"colorbar\":{\"outlinewidth\":0,\"ticks\":\"\"}},\"type\":\"scatterpolargl\"}],\"scatterternary\":[{\"marker\":{\"colorbar\":{\"outlinewidth\":0,\"ticks\":\"\"}},\"type\":\"scatterternary\"}],\"surface\":[{\"colorbar\":{\"outlinewidth\":0,\"ticks\":\"\"},\"colorscale\":[[0.0,\"#0d0887\"],[0.1111111111111111,\"#46039f\"],[0.2222222222222222,\"#7201a8\"],[0.3333333333333333,\"#9c179e\"],[0.4444444444444444,\"#bd3786\"],[0.5555555555555556,\"#d8576b\"],[0.6666666666666666,\"#ed7953\"],[0.7777777777777778,\"#fb9f3a\"],[0.8888888888888888,\"#fdca26\"],[1.0,\"#f0f921\"]],\"type\":\"surface\"}],\"table\":[{\"cells\":{\"fill\":{\"color\":\"#EBF0F8\"},\"line\":{\"color\":\"white\"}},\"header\":{\"fill\":{\"color\":\"#C8D4E3\"},\"line\":{\"color\":\"white\"}},\"type\":\"table\"}]},\"layout\":{\"annotationdefaults\":{\"arrowcolor\":\"#2a3f5f\",\"arrowhead\":0,\"arrowwidth\":1},\"autotypenumbers\":\"strict\",\"coloraxis\":{\"colorbar\":{\"outlinewidth\":0,\"ticks\":\"\"}},\"colorscale\":{\"diverging\":[[0,\"#8e0152\"],[0.1,\"#c51b7d\"],[0.2,\"#de77ae\"],[0.3,\"#f1b6da\"],[0.4,\"#fde0ef\"],[0.5,\"#f7f7f7\"],[0.6,\"#e6f5d0\"],[0.7,\"#b8e186\"],[0.8,\"#7fbc41\"],[0.9,\"#4d9221\"],[1,\"#276419\"]],\"sequential\":[[0.0,\"#0d0887\"],[0.1111111111111111,\"#46039f\"],[0.2222222222222222,\"#7201a8\"],[0.3333333333333333,\"#9c179e\"],[0.4444444444444444,\"#bd3786\"],[0.5555555555555556,\"#d8576b\"],[0.6666666666666666,\"#ed7953\"],[0.7777777777777778,\"#fb9f3a\"],[0.8888888888888888,\"#fdca26\"],[1.0,\"#f0f921\"]],\"sequentialminus\":[[0.0,\"#0d0887\"],[0.1111111111111111,\"#46039f\"],[0.2222222222222222,\"#7201a8\"],[0.3333333333333333,\"#9c179e\"],[0.4444444444444444,\"#bd3786\"],[0.5555555555555556,\"#d8576b\"],[0.6666666666666666,\"#ed7953\"],[0.7777777777777778,\"#fb9f3a\"],[0.8888888888888888,\"#fdca26\"],[1.0,\"#f0f921\"]]},\"colorway\":[\"#636efa\",\"#EF553B\",\"#00cc96\",\"#ab63fa\",\"#FFA15A\",\"#19d3f3\",\"#FF6692\",\"#B6E880\",\"#FF97FF\",\"#FECB52\"],\"font\":{\"color\":\"#2a3f5f\"},\"geo\":{\"bgcolor\":\"white\",\"lakecolor\":\"white\",\"landcolor\":\"#E5ECF6\",\"showlakes\":true,\"showland\":true,\"subunitcolor\":\"white\"},\"hoverlabel\":{\"align\":\"left\"},\"hovermode\":\"closest\",\"mapbox\":{\"style\":\"light\"},\"paper_bgcolor\":\"white\",\"plot_bgcolor\":\"#E5ECF6\",\"polar\":{\"angularaxis\":{\"gridcolor\":\"white\",\"linecolor\":\"white\",\"ticks\":\"\"},\"bgcolor\":\"#E5ECF6\",\"radialaxis\":{\"gridcolor\":\"white\",\"linecolor\":\"white\",\"ticks\":\"\"}},\"scene\":{\"xaxis\":{\"backgroundcolor\":\"#E5ECF6\",\"gridcolor\":\"white\",\"gridwidth\":2,\"linecolor\":\"white\",\"showbackground\":true,\"ticks\":\"\",\"zerolinecolor\":\"white\"},\"yaxis\":{\"backgroundcolor\":\"#E5ECF6\",\"gridcolor\":\"white\",\"gridwidth\":2,\"linecolor\":\"white\",\"showbackground\":true,\"ticks\":\"\",\"zerolinecolor\":\"white\"},\"zaxis\":{\"backgroundcolor\":\"#E5ECF6\",\"gridcolor\":\"white\",\"gridwidth\":2,\"linecolor\":\"white\",\"showbackground\":true,\"ticks\":\"\",\"zerolinecolor\":\"white\"}},\"shapedefaults\":{\"line\":{\"color\":\"#2a3f5f\"}},\"ternary\":{\"aaxis\":{\"gridcolor\":\"white\",\"linecolor\":\"white\",\"ticks\":\"\"},\"baxis\":{\"gridcolor\":\"white\",\"linecolor\":\"white\",\"ticks\":\"\"},\"bgcolor\":\"#E5ECF6\",\"caxis\":{\"gridcolor\":\"white\",\"linecolor\":\"white\",\"ticks\":\"\"}},\"title\":{\"x\":0.05},\"xaxis\":{\"automargin\":true,\"gridcolor\":\"white\",\"linecolor\":\"white\",\"ticks\":\"\",\"title\":{\"standoff\":15},\"zerolinecolor\":\"white\",\"zerolinewidth\":2},\"yaxis\":{\"automargin\":true,\"gridcolor\":\"white\",\"linecolor\":\"white\",\"ticks\":\"\",\"title\":{\"standoff\":15},\"zerolinecolor\":\"white\",\"zerolinewidth\":2}}},\"xaxis\":{\"anchor\":\"y\",\"domain\":[0.0,1.0],\"title\":{\"text\":\"Year_Cultured\"}},\"yaxis\":{\"anchor\":\"x\",\"domain\":[0.0,1.0],\"title\":{\"text\":\"Number of strict/perfect AbR hits\"}}},                        {\"responsive\": true}                    ).then(function(){\n",
       "                            \n",
       "var gd = document.getElementById('0aee6d6c-3e82-44e9-932d-824172ebd6eb');\n",
       "var x = new MutationObserver(function (mutations, observer) {{\n",
       "        var display = window.getComputedStyle(gd).display;\n",
       "        if (!display || display === 'none') {{\n",
       "            console.log([gd, 'removed!']);\n",
       "            Plotly.purge(gd);\n",
       "            observer.disconnect();\n",
       "        }}\n",
       "}});\n",
       "\n",
       "// Listen for the removal of the full notebook cells\n",
       "var notebookContainer = gd.closest('#notebook-container');\n",
       "if (notebookContainer) {{\n",
       "    x.observe(notebookContainer, {childList: true});\n",
       "}}\n",
       "\n",
       "// Listen for the clearing of the current output cell\n",
       "var outputEl = gd.closest('.output');\n",
       "if (outputEl) {{\n",
       "    x.observe(outputEl, {childList: true});\n",
       "}}\n",
       "\n",
       "                        })                };                });            </script>        </div>"
      ]
     },
     "metadata": {},
     "output_type": "display_data"
    }
   ],
   "source": [
    "px.strip(\n",
    "    df.loc[df['ORF_ID']!='NoAb'].value_counts(subset=[\"Accession_Number\", \"Year_Cultured\", \"Species\"]).to_frame().reset_index(),\n",
    "    x=\"Year_Cultured\", \n",
    "    y=0, \n",
    "    hover_data=['Species','Accession_Number'],\n",
    "    labels={'0':'Number of strict/perfect AbR hits'},\n",
    ")"
   ]
  },
  {
   "cell_type": "code",
   "execution_count": 65,
   "id": "98d000f1-dca9-424c-bdcf-6f75ee44f395",
   "metadata": {},
   "outputs": [
    {
     "data": {
      "text/html": [
       "<div>\n",
       "<style scoped>\n",
       "    .dataframe tbody tr th:only-of-type {\n",
       "        vertical-align: middle;\n",
       "    }\n",
       "\n",
       "    .dataframe tbody tr th {\n",
       "        vertical-align: top;\n",
       "    }\n",
       "\n",
       "    .dataframe thead th {\n",
       "        text-align: right;\n",
       "    }\n",
       "</style>\n",
       "<table border=\"1\" class=\"dataframe\">\n",
       "  <thead>\n",
       "    <tr style=\"text-align: right;\">\n",
       "      <th></th>\n",
       "      <th>Accession_Number</th>\n",
       "      <th>Strain</th>\n",
       "      <th>Assembly_No</th>\n",
       "      <th>Year_Cultured</th>\n",
       "      <th>ORF_ID</th>\n",
       "      <th>Contig</th>\n",
       "      <th>Start</th>\n",
       "      <th>Stop</th>\n",
       "      <th>Orientation</th>\n",
       "      <th>Cut_Off</th>\n",
       "      <th>...</th>\n",
       "      <th>ID</th>\n",
       "      <th>Model_ID</th>\n",
       "      <th>Nudged</th>\n",
       "      <th>Note</th>\n",
       "      <th>Species</th>\n",
       "      <th>Subspecies</th>\n",
       "      <th>replicon-type</th>\n",
       "      <th>replicon-name</th>\n",
       "      <th>path</th>\n",
       "      <th>Location</th>\n",
       "    </tr>\n",
       "  </thead>\n",
       "  <tbody>\n",
       "    <tr>\n",
       "      <th>6573</th>\n",
       "      <td>NCTC8468</td>\n",
       "      <td>Haemophilus influenzae</td>\n",
       "      <td>1</td>\n",
       "      <td>1940</td>\n",
       "      <td>ENA|LR590465|LR590465.1_91 # 99763 # 101295 # ...</td>\n",
       "      <td>ENA|LR590465|LR590465.1_91</td>\n",
       "      <td>99763.0</td>\n",
       "      <td>101295.0</td>\n",
       "      <td>+</td>\n",
       "      <td>Strict</td>\n",
       "      <td>...</td>\n",
       "      <td>gnl|BL_ORD_ID|2802|hsp_num:0</td>\n",
       "      <td>3299.0</td>\n",
       "      <td>Null</td>\n",
       "      <td>Null</td>\n",
       "      <td>Haemophilus influenzae</td>\n",
       "      <td>Null</td>\n",
       "      <td>Chromosome</td>\n",
       "      <td>Null</td>\n",
       "      <td>NCTC/ena/NCTC8468/GCA_901472485/GCA_901472485....</td>\n",
       "      <td>Chromosome Null</td>\n",
       "    </tr>\n",
       "    <tr>\n",
       "      <th>6574</th>\n",
       "      <td>NCTC8468</td>\n",
       "      <td>Haemophilus influenzae</td>\n",
       "      <td>1</td>\n",
       "      <td>1940</td>\n",
       "      <td>ENA|LR590465|LR590465.1_175 # 171533 # 172303 ...</td>\n",
       "      <td>ENA|LR590465|LR590465.1_175</td>\n",
       "      <td>171533.0</td>\n",
       "      <td>172303.0</td>\n",
       "      <td>-</td>\n",
       "      <td>Strict</td>\n",
       "      <td>...</td>\n",
       "      <td>gnl|BL_ORD_ID|2853|hsp_num:0</td>\n",
       "      <td>3794.0</td>\n",
       "      <td>Null</td>\n",
       "      <td>Null</td>\n",
       "      <td>Haemophilus influenzae</td>\n",
       "      <td>Null</td>\n",
       "      <td>Chromosome</td>\n",
       "      <td>Null</td>\n",
       "      <td>NCTC/ena/NCTC8468/GCA_901472485/GCA_901472485....</td>\n",
       "      <td>Chromosome Null</td>\n",
       "    </tr>\n",
       "    <tr>\n",
       "      <th>6575</th>\n",
       "      <td>NCTC8468</td>\n",
       "      <td>Haemophilus influenzae</td>\n",
       "      <td>1</td>\n",
       "      <td>1940</td>\n",
       "      <td>ENA|LR590465|LR590465.1_1099 # 1188508 # 11899...</td>\n",
       "      <td>ENA|LR590465|LR590465.1_1099</td>\n",
       "      <td>1188508.0</td>\n",
       "      <td>1189902.0</td>\n",
       "      <td>+</td>\n",
       "      <td>Strict</td>\n",
       "      <td>...</td>\n",
       "      <td>gnl|BL_ORD_ID|2245|hsp_num:0</td>\n",
       "      <td>2425.0</td>\n",
       "      <td>Null</td>\n",
       "      <td>Null</td>\n",
       "      <td>Haemophilus influenzae</td>\n",
       "      <td>Null</td>\n",
       "      <td>Chromosome</td>\n",
       "      <td>Null</td>\n",
       "      <td>NCTC/ena/NCTC8468/GCA_901472485/GCA_901472485....</td>\n",
       "      <td>Chromosome Null</td>\n",
       "    </tr>\n",
       "    <tr>\n",
       "      <th>6576</th>\n",
       "      <td>NCTC8468</td>\n",
       "      <td>Haemophilus influenzae</td>\n",
       "      <td>1</td>\n",
       "      <td>1940</td>\n",
       "      <td>ENA|LR590465|LR590465.1_346 # 355817 # 357001 ...</td>\n",
       "      <td>ENA|LR590465|LR590465.1_346</td>\n",
       "      <td>355817.0</td>\n",
       "      <td>357001.0</td>\n",
       "      <td>-</td>\n",
       "      <td>Strict</td>\n",
       "      <td>...</td>\n",
       "      <td>gnl|BL_ORD_ID|2021|hsp_num:0</td>\n",
       "      <td>2158.0</td>\n",
       "      <td>Null</td>\n",
       "      <td>Null</td>\n",
       "      <td>Haemophilus influenzae</td>\n",
       "      <td>Null</td>\n",
       "      <td>Chromosome</td>\n",
       "      <td>Null</td>\n",
       "      <td>NCTC/ena/NCTC8468/GCA_901472485/GCA_901472485....</td>\n",
       "      <td>Chromosome Null</td>\n",
       "    </tr>\n",
       "    <tr>\n",
       "      <th>6577</th>\n",
       "      <td>NCTC8468</td>\n",
       "      <td>Haemophilus influenzae</td>\n",
       "      <td>1</td>\n",
       "      <td>1940</td>\n",
       "      <td>ENA|LR590465|LR590465.1_383 # 398480 # 399664 ...</td>\n",
       "      <td>ENA|LR590465|LR590465.1_383</td>\n",
       "      <td>398480.0</td>\n",
       "      <td>399664.0</td>\n",
       "      <td>+</td>\n",
       "      <td>Strict</td>\n",
       "      <td>...</td>\n",
       "      <td>gnl|BL_ORD_ID|2021|hsp_num:0</td>\n",
       "      <td>2158.0</td>\n",
       "      <td>Null</td>\n",
       "      <td>Null</td>\n",
       "      <td>Haemophilus influenzae</td>\n",
       "      <td>Null</td>\n",
       "      <td>Chromosome</td>\n",
       "      <td>Null</td>\n",
       "      <td>NCTC/ena/NCTC8468/GCA_901472485/GCA_901472485....</td>\n",
       "      <td>Chromosome Null</td>\n",
       "    </tr>\n",
       "    <tr>\n",
       "      <th>6578</th>\n",
       "      <td>NCTC8468</td>\n",
       "      <td>Haemophilus influenzae</td>\n",
       "      <td>1</td>\n",
       "      <td>1940</td>\n",
       "      <td>ENA|LR590465|LR590465.1_891 # 955388 # 957220 ...</td>\n",
       "      <td>ENA|LR590465|LR590465.1_891</td>\n",
       "      <td>955388.0</td>\n",
       "      <td>957220.0</td>\n",
       "      <td>+</td>\n",
       "      <td>Strict</td>\n",
       "      <td>...</td>\n",
       "      <td>gnl|BL_ORD_ID|2566|hsp_num:0</td>\n",
       "      <td>2886.0</td>\n",
       "      <td>Null</td>\n",
       "      <td>Null</td>\n",
       "      <td>Haemophilus influenzae</td>\n",
       "      <td>Null</td>\n",
       "      <td>Chromosome</td>\n",
       "      <td>Null</td>\n",
       "      <td>NCTC/ena/NCTC8468/GCA_901472485/GCA_901472485....</td>\n",
       "      <td>Chromosome Null</td>\n",
       "    </tr>\n",
       "  </tbody>\n",
       "</table>\n",
       "<p>6 rows × 35 columns</p>\n",
       "</div>"
      ],
      "text/plain": [
       "     Accession_Number                  Strain  Assembly_No  Year_Cultured  \\\n",
       "6573         NCTC8468  Haemophilus influenzae            1           1940   \n",
       "6574         NCTC8468  Haemophilus influenzae            1           1940   \n",
       "6575         NCTC8468  Haemophilus influenzae            1           1940   \n",
       "6576         NCTC8468  Haemophilus influenzae            1           1940   \n",
       "6577         NCTC8468  Haemophilus influenzae            1           1940   \n",
       "6578         NCTC8468  Haemophilus influenzae            1           1940   \n",
       "\n",
       "                                                 ORF_ID  \\\n",
       "6573  ENA|LR590465|LR590465.1_91 # 99763 # 101295 # ...   \n",
       "6574  ENA|LR590465|LR590465.1_175 # 171533 # 172303 ...   \n",
       "6575  ENA|LR590465|LR590465.1_1099 # 1188508 # 11899...   \n",
       "6576  ENA|LR590465|LR590465.1_346 # 355817 # 357001 ...   \n",
       "6577  ENA|LR590465|LR590465.1_383 # 398480 # 399664 ...   \n",
       "6578  ENA|LR590465|LR590465.1_891 # 955388 # 957220 ...   \n",
       "\n",
       "                            Contig      Start       Stop Orientation Cut_Off  \\\n",
       "6573    ENA|LR590465|LR590465.1_91    99763.0   101295.0           +  Strict   \n",
       "6574   ENA|LR590465|LR590465.1_175   171533.0   172303.0           -  Strict   \n",
       "6575  ENA|LR590465|LR590465.1_1099  1188508.0  1189902.0           +  Strict   \n",
       "6576  ENA|LR590465|LR590465.1_346    355817.0   357001.0           -  Strict   \n",
       "6577  ENA|LR590465|LR590465.1_383    398480.0   399664.0           +  Strict   \n",
       "6578  ENA|LR590465|LR590465.1_891    955388.0   957220.0           +  Strict   \n",
       "\n",
       "      ...                            ID Model_ID Nudged  Note  \\\n",
       "6573  ...  gnl|BL_ORD_ID|2802|hsp_num:0   3299.0   Null  Null   \n",
       "6574  ...  gnl|BL_ORD_ID|2853|hsp_num:0   3794.0   Null  Null   \n",
       "6575  ...  gnl|BL_ORD_ID|2245|hsp_num:0   2425.0   Null  Null   \n",
       "6576  ...  gnl|BL_ORD_ID|2021|hsp_num:0   2158.0   Null  Null   \n",
       "6577  ...  gnl|BL_ORD_ID|2021|hsp_num:0   2158.0   Null  Null   \n",
       "6578  ...  gnl|BL_ORD_ID|2566|hsp_num:0   2886.0   Null  Null   \n",
       "\n",
       "                     Species Subspecies replicon-type replicon-name  \\\n",
       "6573  Haemophilus influenzae       Null    Chromosome          Null   \n",
       "6574  Haemophilus influenzae       Null    Chromosome          Null   \n",
       "6575  Haemophilus influenzae       Null    Chromosome          Null   \n",
       "6576  Haemophilus influenzae       Null    Chromosome          Null   \n",
       "6577  Haemophilus influenzae       Null    Chromosome          Null   \n",
       "6578  Haemophilus influenzae       Null    Chromosome          Null   \n",
       "\n",
       "                                                   path         Location  \n",
       "6573  NCTC/ena/NCTC8468/GCA_901472485/GCA_901472485....  Chromosome Null  \n",
       "6574  NCTC/ena/NCTC8468/GCA_901472485/GCA_901472485....  Chromosome Null  \n",
       "6575  NCTC/ena/NCTC8468/GCA_901472485/GCA_901472485....  Chromosome Null  \n",
       "6576  NCTC/ena/NCTC8468/GCA_901472485/GCA_901472485....  Chromosome Null  \n",
       "6577  NCTC/ena/NCTC8468/GCA_901472485/GCA_901472485....  Chromosome Null  \n",
       "6578  NCTC/ena/NCTC8468/GCA_901472485/GCA_901472485....  Chromosome Null  \n",
       "\n",
       "[6 rows x 35 columns]"
      ]
     },
     "execution_count": 65,
     "metadata": {},
     "output_type": "execute_result"
    }
   ],
   "source": [
    "df.loc[df['Accession_Number']=='NCTC8468']"
   ]
  },
  {
   "cell_type": "code",
   "execution_count": 24,
   "id": "b60cdb73-725d-4723-9999-ddae9fe586d8",
   "metadata": {},
   "outputs": [],
   "source": [
    "def measure_obs_abdistance(df, ab, year, bins=-1, verbose=True):\n",
    "    if bins != -1:\n",
    "        df['Bins'] = pd.cut(df['Year_Cultured'], bins)\n",
    "    else:\n",
    "        df['Bins'] = df['Year_Cultured']\n",
    "    \n",
    "    complete_dbdict = df.drop_duplicates(subset=['Accession_Number'])['Bins'].value_counts().to_dict()\n",
    "    \n",
    "    abmask = np.column_stack([df['Drug Class'].str.contains(ab, na=False) for col in df])\n",
    "    ab_resistant = df.loc[abmask.any(axis=1)]\n",
    "    abresist_dict = ab_resistant.drop_duplicates(subset=['Accession_Number'])['Bins'].value_counts().to_dict()\n",
    "\n",
    "    year_dict = {}\n",
    "    for years in complete_dbdict:\n",
    "        if complete_dbdict[years] == 0:\n",
    "            continue\n",
    "        if years in abresist_dict:\n",
    "            frac = abresist_dict[years]/complete_dbdict[years]\n",
    "        else:\n",
    "            frac = 0.0\n",
    "        year_dict[years] = frac\n",
    "    yeardf = pd.DataFrame.from_dict(year_dict, orient='index',columns=['frac']).reset_index().rename(columns={'index':'year'}).sort_values(by='year').reset_index(drop=True)\n",
    "    if verbose:\n",
    "        print(yeardf)\n",
    "    anthro = {True:\"Pre-Human Ab\", False:\"Post-Human Ab\"}\n",
    "    if bins != -1:\n",
    "        line = pd.Index(yeardf['year']).get_loc(year)\n",
    "        yeardf['row'] = np.arange(yeardf.shape[0])\n",
    "        yeardf['Anthropogenicity'] = \"Pre-Human Ab\"\n",
    "        yeardf.loc[yeardf['row'] > line, 'Anthropogenicity'] = \"Post-Human Ab\"\n",
    "    else:\n",
    "        yeardf['Anthropogenicity'] = 'Pre-Human Ab'\n",
    "        yeardf.loc[yeardf['year'] > year, 'Anthropogenicity'] = \"Post-Human Ab\"\n",
    "    \n",
    "    preab_mean = yeardf.loc[yeardf['Anthropogenicity'] == \"Pre-Human Ab\"]['frac'].mean()\n",
    "    postab_mean = yeardf.loc[yeardf['Anthropogenicity'] == \"Post-Human Ab\"]['frac'].mean()\n",
    "    metric = postab_mean-preab_mean\n",
    "    print(\"Pre-Ab mean fraction = %s\" % (preab_mean))\n",
    "    print(\"Post-Ab mean fraction = %s\" % (postab_mean))\n",
    "    print(\"metric = %s\" % (metric))\n",
    "    return yeardf, metric"
   ]
  },
  {
   "cell_type": "code",
   "execution_count": 25,
   "id": "f7964926-4801-4583-b471-972fcffe2efc",
   "metadata": {},
   "outputs": [],
   "source": [
    "def shuffleallyears(ogdf, ab, year, bins=-1, verbose=True, simulations=500):\n",
    "    nulldists = []\n",
    "    df = ogdf.copy()\n",
    "\n",
    "    for simnum in range(simulations):\n",
    "        shuffled = ogdf['Year_Cultured'].sample(frac=1).reset_index(drop=True)\n",
    "        df['Year_Cultured'] = shuffled\n",
    "\n",
    "        if bins != -1:\n",
    "            df['Bins'] = pd.cut(df['Year_Cultured'], bins)\n",
    "        else:\n",
    "            df['Bins'] = df['Year_Cultured']\n",
    "\n",
    "        complete_dbdict = df.drop_duplicates(subset=['Accession_Number'])['Bins'].value_counts().to_dict()\n",
    "\n",
    "        abmask = np.column_stack([df['Drug Class'].str.contains(ab, na=False) for col in df])\n",
    "        ab_resistant = df.loc[abmask.any(axis=1)]\n",
    "        abresist_dict = ab_resistant.drop_duplicates(subset=['Accession_Number'])['Bins'].value_counts().to_dict()\n",
    "\n",
    "        year_dict = {}\n",
    "        for years in complete_dbdict:\n",
    "            if complete_dbdict[years] == 0:\n",
    "                continue\n",
    "            if years in abresist_dict:\n",
    "                frac = abresist_dict[years]/complete_dbdict[years]\n",
    "            else:\n",
    "                frac = 0.0\n",
    "            year_dict[years] = frac\n",
    "        yeardf = pd.DataFrame.from_dict(year_dict, orient='index',columns=['frac']).reset_index().rename(columns={'index':'year'}).sort_values(by='year').reset_index(drop=True)\n",
    "        anthro = {True:\"Pre-Human Ab\", False:\"Post-Human Ab\"}\n",
    "        if bins != -1:\n",
    "            line = pd.Index(yeardf['year']).get_loc(year)\n",
    "            yeardf['row'] = np.arange(yeardf.shape[0])\n",
    "            yeardf['Anthropogenicity'] = \"Pre-Human Ab\"\n",
    "            yeardf.loc[yeardf['row'] > line, 'Anthropogenicity'] = \"Post-Human Ab\"\n",
    "        else:\n",
    "            yeardf['Anthropogenicity'] = 'Pre-Human Ab'\n",
    "            yeardf.loc[yeardf['year'] > year, 'Anthropogenicity'] = \"Post-Human Ab\"\n",
    "\n",
    "        preab_mean = yeardf.loc[yeardf['Anthropogenicity'] == \"Pre-Human Ab\"]['frac'].mean()\n",
    "        postab_mean = yeardf.loc[yeardf['Anthropogenicity'] == \"Post-Human Ab\"]['frac'].mean()\n",
    "        metric = postab_mean-preab_mean\n",
    "        nulldists.append(metric)\n",
    "            \n",
    "    return nulldists"
   ]
  },
  {
   "cell_type": "code",
   "execution_count": 26,
   "id": "0581a951-c2a9-44dc-8d91-190462ad7cef",
   "metadata": {},
   "outputs": [],
   "source": [
    "import random\n",
    "def shuffle_withinyears(ogdf, ab, year, bins=-1, verbose=True, simulations=500):\n",
    "    nulldists = []\n",
    "    cdf = ogdf.copy()\n",
    "\n",
    "    for simnum in range(simulations):\n",
    "        df = pd.DataFrame(columns = ogdf.columns)\n",
    "        allyears = cdf['Year_Cultured'].unique()\n",
    "        for years in allyears:\n",
    "            random_year = random.choice(allyears)\n",
    "            x = cdf.loc[cdf['Year_Cultured']==years].copy()\n",
    "            x['Year_Cultured'] = random_year\n",
    "            df = pd.concat([df, x])\n",
    "        \n",
    "        if bins != -1:\n",
    "            df['Bins'] = pd.cut(df['Year_Cultured'], bins)\n",
    "        else:\n",
    "            df['Bins'] = df['Year_Cultured']\n",
    "\n",
    "        complete_dbdict = df.drop_duplicates(subset=['Accession_Number'])['Bins'].value_counts().to_dict()\n",
    "\n",
    "        abmask = np.column_stack([df['Drug Class'].str.contains(ab, na=False) for col in df])\n",
    "        ab_resistant = df.loc[abmask.any(axis=1)]\n",
    "        abresist_dict = ab_resistant.drop_duplicates(subset=['Accession_Number'])['Bins'].value_counts().to_dict()\n",
    "\n",
    "        year_dict = {}\n",
    "        for years in complete_dbdict:\n",
    "            if complete_dbdict[years] == 0:\n",
    "                continue\n",
    "            if years in abresist_dict:\n",
    "                frac = abresist_dict[years]/complete_dbdict[years]\n",
    "            else:\n",
    "                frac = 0.0\n",
    "            year_dict[years] = frac\n",
    "        yeardf = pd.DataFrame.from_dict(year_dict, orient='index',columns=['frac']).reset_index().rename(columns={'index':'year'}).sort_values(by='year').reset_index(drop=True)\n",
    "        anthro = {True:\"Pre-Human Ab\", False:\"Post-Human Ab\"}\n",
    "        if bins != -1:\n",
    "            line = pd.Index(yeardf['year']).get_loc(year)\n",
    "            yeardf['row'] = np.arange(yeardf.shape[0])\n",
    "            yeardf['Anthropogenicity'] = \"Pre-Human Ab\"\n",
    "            yeardf.loc[yeardf['row'] > line, 'Anthropogenicity'] = \"Post-Human Ab\"\n",
    "        else:\n",
    "            yeardf['Anthropogenicity'] = 'Pre-Human Ab'\n",
    "            yeardf.loc[yeardf['year'] > year, 'Anthropogenicity'] = \"Post-Human Ab\"\n",
    "\n",
    "        preab_mean = yeardf.loc[yeardf['Anthropogenicity'] == \"Pre-Human Ab\"]['frac'].mean()\n",
    "        postab_mean = yeardf.loc[yeardf['Anthropogenicity'] == \"Post-Human Ab\"]['frac'].mean()\n",
    "        metric = postab_mean-preab_mean\n",
    "        nulldists.append(metric)\n",
    "            \n",
    "    return nulldists"
   ]
  },
  {
   "cell_type": "code",
   "execution_count": 27,
   "id": "0814e158-4265-49dc-b8ef-295cb30b6c24",
   "metadata": {},
   "outputs": [],
   "source": [
    "drugs = {}\n",
    "for x in list(df['Drug Class']):\n",
    "    classes = x.split('; ')\n",
    "    for c in classes:\n",
    "        if c in drugs:\n",
    "            drugs[c] += 1\n",
    "        else:\n",
    "            drugs[c] = 1\n",
    "drugs = sorted(drugs, key=drugs.get, reverse=True)"
   ]
  },
  {
   "cell_type": "code",
   "execution_count": 28,
   "id": "1ef58152-4d60-41bf-b6a3-e45e5e664390",
   "metadata": {},
   "outputs": [],
   "source": [
    "def plot_abresist_drugtype(df, ab, year, bins=-1, verbose=True, sims=100,figname=\"doodoo\",savefig=False, smooth=5):\n",
    "    frac_df, abdist_obs = measure_obs_abdistance(df, ab, year, bins=bins, verbose=verbose)\n",
    "\n",
    "    # histogram of fraction of strains w/ RGI hits for drug class\n",
    "    plt.figure(figsize=(14,8))\n",
    "    sns.barplot(data=frac_df, x='year',y='frac', color='salmon', saturation=0.5)\n",
    "    if bins != -1:\n",
    "        plt.axvline(pd.Index(frac_df['year']).get_loc(year))\n",
    "    else:\n",
    "        plt.axvline(pd.Index(frac_df['year']).get_loc(year, method='nearest'))\n",
    "    plt.ylabel(\"Fraction of bugs with resistance\")\n",
    "    #plt.yticks(rotation=90)\n",
    "    plt.xlabel(\"Year\")\n",
    "    plt.xticks(rotation=45)\n",
    "    if savefig:\n",
    "        plt.savefig(\"fractionofresist_{}.png\".format(figname), bbox_inches='tight',dpi=100)\n",
    "    plt.show()\n",
    "    \n",
    "    d = {'Year': [], 'frac': [], 'Anthropogenicity': []}\n",
    "    for years in range(frac_df['year'].min(), frac_df['year'].max()):\n",
    "        upb = smooth + years\n",
    "        downb = years-smooth\n",
    "        g = frac_df.loc[(frac_df['year'] <= upb) & (downb <= frac_df['year'])]\n",
    "        d['Year'].append(years)\n",
    "        if years >= year:\n",
    "            d['Anthropogenicity'].append(\"Post-Human Ab\")\n",
    "        else:\n",
    "            d['Anthropogenicity'].append(\"Pre-Human Ab\")\n",
    "        d['frac'].append(g['frac'].mean())\n",
    "    xdf = pd.DataFrame(data=d)\n",
    "    lp = sns.lineplot(data=xdf, x='Year', y='frac', markers=True, hue='Anthropogenicity')\n",
    "    lp.set(ylim=(0, 1))\n",
    "    dp = sns.scatterplot(data=xdf, x=\"Year\", y='frac', hue='Anthropogenicity', legend=False)\n",
    "    plt.ylabel(\"Fraction of bugs with resistance\")\n",
    "    plt.xlabel(\"Year cultured with range of {} years\".format(smooth))\n",
    "    plt.xticks(rotation=45)\n",
    "    plt.axvline(year, color='red')\n",
    "    preab_df=xdf.loc[xdf['Anthropogenicity']=='Pre-Human Ab']\n",
    "    lp.hlines(y=preab_df['frac'].mean(), xmin=preab_df['Year'].min(), xmax=preab_df['Year'].max())\n",
    "    \n",
    "    postab_df=xdf.loc[xdf['Anthropogenicity']=='Post-Human Ab']\n",
    "    lp.hlines(y=postab_df['frac'].mean(), xmin=postab_df['Year'].min(), xmax=postab_df['Year'].max())\n",
    "    if savefig:\n",
    "        plt.savefig(\"fractionofresist_{}.png\".format(figname), bbox_inches='tight',dpi=100)\n",
    "    plt.show()\n",
    "    \n",
    "    preab_mean = frac_df.loc[frac_df['Anthropogenicity'] == \"Pre-Human Ab\"]['frac'].mean()\n",
    "    postab_mean = frac_df.loc[frac_df['Anthropogenicity'] == \"Post-Human Ab\"]['frac'].mean()\n",
    "    \n",
    "    #plt.figure()\n",
    "    #fig,ax = plt.subplots()\n",
    "    #ax.barh(frac_df['year'], frac_df['frac'], align='center')\n",
    "    #ax.invert_yaxis()\n",
    "    #plt.show()\n",
    "    \n",
    "    #kde dist. of preab vs. postab  \n",
    "    #plt.figure(figsize=(14,8))\n",
    "    #sns.kdeplot(data=frac_df,x='frac', hue='Anthropogenicity', cut=0)\n",
    "    #preab_mean = frac_df.loc[frac_df['Anthropogenicity'] == \"Pre-Human Ab\"]['frac'].mean()\n",
    "    #postab_mean = frac_df.loc[frac_df['Anthropogenicity'] == \"Post-Human Ab\"]['frac'].mean()\n",
    "    #plt.axvline(preab_mean, label=\"Pre-Ab mean = {:.2f}\".format(preab_mean))\n",
    "    #plt.axvline(postab_mean, color=\"#FF973C\", label=\"Post-Ab mean = {:.2f}\".format(postab_mean))\n",
    "    #plt.legend()\n",
    "    #plt.xlabel(\"Fraction of bugs with resistance\")\n",
    "    #if savefig:\n",
    "    #    plt.savefig(\"kdedist_{}.png\".format(figname))\n",
    "    #plt.show()\n",
    "    \n",
    "    \n",
    "    nulldist = shuffleallyears(df, ab, year, bins=-1, verbose=True, simulations=sims)\n",
    "    #plt.figure(figsize=(14,8))\n",
    "    sns.histplot(nulldist)\n",
    "    plt.axvline(abdist_obs, color='red', label=\"Ab-dist observed = {:.3f}\".format(abdist_obs))\n",
    "    plt.legend()\n",
    "    plt.title(\"All Years Shuffled\")\n",
    "    plt.xlabel(\"Antibiotic distances observed in {} simulations\".format(sims))\n",
    "    if savefig:\n",
    "        plt.savefig(\"allyearsshuffled_{}.png\".format(figname))\n",
    "    plt.show()\n",
    "    \n",
    "    nulldist = shuffle_withinyears(df, ab, year, bins=-1, verbose=True, simulations=sims)\n",
    "    #plt.figure(figsize=(14,8))\n",
    "    sns.histplot(nulldist)\n",
    "    plt.axvline(abdist_obs, color='red', label=\"Ab-dist observed = {:.3f}\".format(abdist_obs))\n",
    "    plt.title(\"Within Year Shuffling\")\n",
    "    plt.xlabel(\"Antibiotic distances observed in {} simulations\".format(sims))\n",
    "    if savefig:\n",
    "        plt.savefig(\"withinyearsshuffled_{}.png\".format(figname))\n",
    "    plt.show()\n",
    "    #plt.figure(figsize=(14,8))\n",
    "    #sns.displot(data=frac_df, x=\"year\", y=\"frac\", kind='kde')\n",
    "    #plt.show()\n"
   ]
  },
  {
   "cell_type": "code",
   "execution_count": 1,
   "id": "6ce4796b-4618-4e8c-9d14-171ebb413f8e",
   "metadata": {},
   "outputs": [
    {
     "ename": "NameError",
     "evalue": "name 'interact_manual' is not defined",
     "output_type": "error",
     "traceback": [
      "\u001b[0;31m---------------------------------------------------------------------------\u001b[0m",
      "\u001b[0;31mNameError\u001b[0m                                 Traceback (most recent call last)",
      "Input \u001b[0;32mIn [1]\u001b[0m, in \u001b[0;36m<cell line: 1>\u001b[0;34m()\u001b[0m\n\u001b[0;32m----> 1\u001b[0m \u001b[43minteract_manual\u001b[49m(plot_abresist_drugtype, \n\u001b[1;32m      2\u001b[0m                 df\u001b[38;5;241m=\u001b[39mfixed(df), \n\u001b[1;32m      3\u001b[0m                 ab\u001b[38;5;241m=\u001b[39mdrugs, \n\u001b[1;32m      4\u001b[0m                 year\u001b[38;5;241m=\u001b[39mwidgets\u001b[38;5;241m.\u001b[39mIntSlider(\u001b[38;5;28mmin\u001b[39m\u001b[38;5;241m=\u001b[39m\u001b[38;5;241m1900\u001b[39m, \u001b[38;5;28mmax\u001b[39m\u001b[38;5;241m=\u001b[39m\u001b[38;5;241m2010\u001b[39m, step\u001b[38;5;241m=\u001b[39m\u001b[38;5;241m1\u001b[39m, value\u001b[38;5;241m=\u001b[39m\u001b[38;5;241m1940\u001b[39m), \n\u001b[1;32m      5\u001b[0m                 bins\u001b[38;5;241m=\u001b[39mwidgets\u001b[38;5;241m.\u001b[39mIntSlider(\u001b[38;5;28mmin\u001b[39m\u001b[38;5;241m=\u001b[39m\u001b[38;5;241m-\u001b[39m\u001b[38;5;241m1\u001b[39m,\u001b[38;5;28mmax\u001b[39m\u001b[38;5;241m=\u001b[39m\u001b[38;5;241m30\u001b[39m, step\u001b[38;5;241m=\u001b[39m\u001b[38;5;241m1\u001b[39m, value\u001b[38;5;241m=\u001b[39m\u001b[38;5;241m-\u001b[39m\u001b[38;5;241m1\u001b[39m),\n\u001b[1;32m      6\u001b[0m                 sims\u001b[38;5;241m=\u001b[39mwidgets\u001b[38;5;241m.\u001b[39mIntSlider(\u001b[38;5;28mmin\u001b[39m\u001b[38;5;241m=\u001b[39m\u001b[38;5;241m0\u001b[39m,\u001b[38;5;28mmax\u001b[39m\u001b[38;5;241m=\u001b[39m\u001b[38;5;241m1000\u001b[39m,step\u001b[38;5;241m=\u001b[39m\u001b[38;5;241m10\u001b[39m,value\u001b[38;5;241m=\u001b[39m\u001b[38;5;241m10\u001b[39m),\n\u001b[1;32m      7\u001b[0m                 verbose\u001b[38;5;241m=\u001b[39m\u001b[38;5;28;01mFalse\u001b[39;00m)\n",
      "\u001b[0;31mNameError\u001b[0m: name 'interact_manual' is not defined"
     ]
    }
   ],
   "source": [
    "interact_manual(plot_abresist_drugtype, \n",
    "                df=fixed(df), \n",
    "                ab=drugs, \n",
    "                year=widgets.IntSlider(min=1900, max=2010, step=1, value=1940), \n",
    "                bins=widgets.IntSlider(min=-1,max=30, step=1, value=-1),\n",
    "                sims=widgets.IntSlider(min=0,max=1000,step=10,value=10),\n",
    "                verbose=False);"
   ]
  },
  {
   "cell_type": "code",
   "execution_count": null,
   "id": "70e5d0da-426d-446b-9f38-e69fba85d882",
   "metadata": {},
   "outputs": [],
   "source": []
  }
 ],
 "metadata": {
  "kernelspec": {
   "display_name": "Python 3 (ipykernel)",
   "language": "python",
   "name": "python3"
  },
  "language_info": {
   "codemirror_mode": {
    "name": "ipython",
    "version": 3
   },
   "file_extension": ".py",
   "mimetype": "text/x-python",
   "name": "python",
   "nbconvert_exporter": "python",
   "pygments_lexer": "ipython3",
   "version": "3.10.10"
  },
  "toc-autonumbering": true,
  "toc-showmarkdowntxt": true
 },
 "nbformat": 4,
 "nbformat_minor": 5
}

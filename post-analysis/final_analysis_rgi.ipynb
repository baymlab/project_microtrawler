{
 "cells": [
  {
   "cell_type": "code",
   "execution_count": 1,
   "id": "d581fc7a-0ac0-410f-995a-87fb51394ff8",
   "metadata": {
    "tags": []
   },
   "outputs": [
    {
     "data": {
      "text/html": [
       "        <script type=\"text/javascript\">\n",
       "        window.PlotlyConfig = {MathJaxConfig: 'local'};\n",
       "        if (window.MathJax && window.MathJax.Hub && window.MathJax.Hub.Config) {window.MathJax.Hub.Config({SVG: {font: \"STIX-Web\"}});}\n",
       "        if (typeof require !== 'undefined') {\n",
       "        require.undef(\"plotly\");\n",
       "        requirejs.config({\n",
       "            paths: {\n",
       "                'plotly': ['https://cdn.plot.ly/plotly-2.12.1.min']\n",
       "            }\n",
       "        });\n",
       "        require(['plotly'], function(Plotly) {\n",
       "            window._Plotly = Plotly;\n",
       "        });\n",
       "        }\n",
       "        </script>\n",
       "        "
      ]
     },
     "metadata": {},
     "output_type": "display_data"
    }
   ],
   "source": [
    "import matplotlib.pyplot as plt\n",
    "import numpy as np\n",
    "import pandas as pd\n",
    "import plotly\n",
    "import plotly.express as px\n",
    "import plotly.graph_objs as go\n",
    "import plotly.offline as pyo\n",
    "import seaborn as sns\n",
    "from natsort import index_natsorted\n",
    "from scipy.stats import norm\n",
    "from __future__ import print_function\n",
    "import ipywidgets as widgets\n",
    "from ipywidgets import fixed, interact, interact_manual, interactive\n",
    "%load_ext line_profiler\n",
    "%matplotlib inline\n",
    "pyo.init_notebook_mode(connected=True)"
   ]
  },
  {
   "cell_type": "markdown",
   "id": "b6e0cfd2-89fc-44e8-a0ec-d4f2f34e07f3",
   "metadata": {
    "tags": []
   },
   "source": [
    "# Read in all the data"
   ]
  },
  {
   "cell_type": "markdown",
   "id": "8e45a564-74bd-491a-ade1-7047ddc4eda8",
   "metadata": {
    "tags": []
   },
   "source": [
    "## RGI"
   ]
  },
  {
   "cell_type": "code",
   "execution_count": null,
   "id": "a0c5dd70-f54e-420d-9a58-c08795dbfd7e",
   "metadata": {},
   "outputs": [],
   "source": [
    "df = pd.read_csv(\"./all_rgiout_2022-06-21\", sep=\"\\t\")\n",
    "df = df.sort_values(\n",
    "    by=[\"Accession_Number\"],\n",
    "    ascending=True,\n",
    "    key=lambda x: np.argsort(index_natsorted(df[\"Accession_Number\"])),\n",
    "    ignore_index=True,\n",
    ")\n",
    "single_acc_df = df.drop_duplicates(subset=['Accession_Number'])\n",
    "year_dict = single_acc_df[['Accession_Number','Year_Cultured']].set_index('Accession_Number').to_dict()['Year_Cultured']\n",
    "df[[\"Species\", \"Subspecies\"]] = df[\"Strain\"].str.split(\"subsp.\", 1, expand=True)\n",
    "df = df.replace(np.nan, \"Null\", regex=True)\n",
    "rgiintegron = pd.read_csv('./rgi_subset_integronoverlap', sep='\\t', names=df.columns.values)\n",
    "rgiintegron[\"Species\"] = rgiintegron[\"Strain\"].str.split(\"subsp.\", 1, expand=True)\n",
    "rgiintegron[\"Subspecies\"] = \"Null\"\n",
    "contigdf = pd.concat([df['Accession_Number'], df['Contig'].str.split('_', expand=True)[0].str.split('|').str[-1]], axis=1).copy()\n",
    "\n",
    "sns.set(rc={\"figure.figsize\":(20, 12)}) #width=3, #height=4"
   ]
  },
  {
   "cell_type": "code",
   "execution_count": 2,
   "id": "d1a1bc48-f846-42f8-a82f-9d499bc38d5e",
   "metadata": {},
   "outputs": [
    {
     "ename": "FileNotFoundError",
     "evalue": "[Errno 2] No such file or directory: './all_rgiout_2022-06-21'",
     "output_type": "error",
     "traceback": [
      "\u001b[0;31m---------------------------------------------------------------------------\u001b[0m",
      "\u001b[0;31mFileNotFoundError\u001b[0m                         Traceback (most recent call last)",
      "Input \u001b[0;32mIn [2]\u001b[0m, in \u001b[0;36m<cell line: 1>\u001b[0;34m()\u001b[0m\n\u001b[0;32m----> 1\u001b[0m df \u001b[38;5;241m=\u001b[39m \u001b[43mpd\u001b[49m\u001b[38;5;241;43m.\u001b[39;49m\u001b[43mread_csv\u001b[49m\u001b[43m(\u001b[49m\u001b[38;5;124;43m\"\u001b[39;49m\u001b[38;5;124;43m./all_rgiout_2022-06-21\u001b[39;49m\u001b[38;5;124;43m\"\u001b[39;49m\u001b[43m,\u001b[49m\u001b[43m \u001b[49m\u001b[43msep\u001b[49m\u001b[38;5;241;43m=\u001b[39;49m\u001b[38;5;124;43m\"\u001b[39;49m\u001b[38;5;130;43;01m\\t\u001b[39;49;00m\u001b[38;5;124;43m\"\u001b[39;49m\u001b[43m)\u001b[49m\n\u001b[1;32m      2\u001b[0m df \u001b[38;5;241m=\u001b[39m df\u001b[38;5;241m.\u001b[39msort_values(\n\u001b[1;32m      3\u001b[0m     by\u001b[38;5;241m=\u001b[39m[\u001b[38;5;124m\"\u001b[39m\u001b[38;5;124mAccession_Number\u001b[39m\u001b[38;5;124m\"\u001b[39m],\n\u001b[1;32m      4\u001b[0m     ascending\u001b[38;5;241m=\u001b[39m\u001b[38;5;28;01mTrue\u001b[39;00m,\n\u001b[1;32m      5\u001b[0m     key\u001b[38;5;241m=\u001b[39m\u001b[38;5;28;01mlambda\u001b[39;00m x: np\u001b[38;5;241m.\u001b[39margsort(index_natsorted(df[\u001b[38;5;124m\"\u001b[39m\u001b[38;5;124mAccession_Number\u001b[39m\u001b[38;5;124m\"\u001b[39m])),\n\u001b[1;32m      6\u001b[0m     ignore_index\u001b[38;5;241m=\u001b[39m\u001b[38;5;28;01mTrue\u001b[39;00m,\n\u001b[1;32m      7\u001b[0m )\n\u001b[1;32m      8\u001b[0m df[[\u001b[38;5;124m\"\u001b[39m\u001b[38;5;124mSpecies\u001b[39m\u001b[38;5;124m\"\u001b[39m, \u001b[38;5;124m\"\u001b[39m\u001b[38;5;124mSubspecies\u001b[39m\u001b[38;5;124m\"\u001b[39m]] \u001b[38;5;241m=\u001b[39m df[\u001b[38;5;124m\"\u001b[39m\u001b[38;5;124mStrain\u001b[39m\u001b[38;5;124m\"\u001b[39m]\u001b[38;5;241m.\u001b[39mstr\u001b[38;5;241m.\u001b[39msplit(\u001b[38;5;124m\"\u001b[39m\u001b[38;5;124msubsp.\u001b[39m\u001b[38;5;124m\"\u001b[39m, \u001b[38;5;241m1\u001b[39m, expand\u001b[38;5;241m=\u001b[39m\u001b[38;5;28;01mTrue\u001b[39;00m)\n",
      "File \u001b[0;32m~/.conda/envs/RESIST/lib/python3.8/site-packages/pandas/util/_decorators.py:311\u001b[0m, in \u001b[0;36mdeprecate_nonkeyword_arguments.<locals>.decorate.<locals>.wrapper\u001b[0;34m(*args, **kwargs)\u001b[0m\n\u001b[1;32m    305\u001b[0m \u001b[38;5;28;01mif\u001b[39;00m \u001b[38;5;28mlen\u001b[39m(args) \u001b[38;5;241m>\u001b[39m num_allow_args:\n\u001b[1;32m    306\u001b[0m     warnings\u001b[38;5;241m.\u001b[39mwarn(\n\u001b[1;32m    307\u001b[0m         msg\u001b[38;5;241m.\u001b[39mformat(arguments\u001b[38;5;241m=\u001b[39marguments),\n\u001b[1;32m    308\u001b[0m         \u001b[38;5;167;01mFutureWarning\u001b[39;00m,\n\u001b[1;32m    309\u001b[0m         stacklevel\u001b[38;5;241m=\u001b[39mstacklevel,\n\u001b[1;32m    310\u001b[0m     )\n\u001b[0;32m--> 311\u001b[0m \u001b[38;5;28;01mreturn\u001b[39;00m \u001b[43mfunc\u001b[49m\u001b[43m(\u001b[49m\u001b[38;5;241;43m*\u001b[39;49m\u001b[43margs\u001b[49m\u001b[43m,\u001b[49m\u001b[43m \u001b[49m\u001b[38;5;241;43m*\u001b[39;49m\u001b[38;5;241;43m*\u001b[39;49m\u001b[43mkwargs\u001b[49m\u001b[43m)\u001b[49m\n",
      "File \u001b[0;32m~/.conda/envs/RESIST/lib/python3.8/site-packages/pandas/io/parsers/readers.py:680\u001b[0m, in \u001b[0;36mread_csv\u001b[0;34m(filepath_or_buffer, sep, delimiter, header, names, index_col, usecols, squeeze, prefix, mangle_dupe_cols, dtype, engine, converters, true_values, false_values, skipinitialspace, skiprows, skipfooter, nrows, na_values, keep_default_na, na_filter, verbose, skip_blank_lines, parse_dates, infer_datetime_format, keep_date_col, date_parser, dayfirst, cache_dates, iterator, chunksize, compression, thousands, decimal, lineterminator, quotechar, quoting, doublequote, escapechar, comment, encoding, encoding_errors, dialect, error_bad_lines, warn_bad_lines, on_bad_lines, delim_whitespace, low_memory, memory_map, float_precision, storage_options)\u001b[0m\n\u001b[1;32m    665\u001b[0m kwds_defaults \u001b[38;5;241m=\u001b[39m _refine_defaults_read(\n\u001b[1;32m    666\u001b[0m     dialect,\n\u001b[1;32m    667\u001b[0m     delimiter,\n\u001b[0;32m   (...)\u001b[0m\n\u001b[1;32m    676\u001b[0m     defaults\u001b[38;5;241m=\u001b[39m{\u001b[38;5;124m\"\u001b[39m\u001b[38;5;124mdelimiter\u001b[39m\u001b[38;5;124m\"\u001b[39m: \u001b[38;5;124m\"\u001b[39m\u001b[38;5;124m,\u001b[39m\u001b[38;5;124m\"\u001b[39m},\n\u001b[1;32m    677\u001b[0m )\n\u001b[1;32m    678\u001b[0m kwds\u001b[38;5;241m.\u001b[39mupdate(kwds_defaults)\n\u001b[0;32m--> 680\u001b[0m \u001b[38;5;28;01mreturn\u001b[39;00m \u001b[43m_read\u001b[49m\u001b[43m(\u001b[49m\u001b[43mfilepath_or_buffer\u001b[49m\u001b[43m,\u001b[49m\u001b[43m \u001b[49m\u001b[43mkwds\u001b[49m\u001b[43m)\u001b[49m\n",
      "File \u001b[0;32m~/.conda/envs/RESIST/lib/python3.8/site-packages/pandas/io/parsers/readers.py:575\u001b[0m, in \u001b[0;36m_read\u001b[0;34m(filepath_or_buffer, kwds)\u001b[0m\n\u001b[1;32m    572\u001b[0m _validate_names(kwds\u001b[38;5;241m.\u001b[39mget(\u001b[38;5;124m\"\u001b[39m\u001b[38;5;124mnames\u001b[39m\u001b[38;5;124m\"\u001b[39m, \u001b[38;5;28;01mNone\u001b[39;00m))\n\u001b[1;32m    574\u001b[0m \u001b[38;5;66;03m# Create the parser.\u001b[39;00m\n\u001b[0;32m--> 575\u001b[0m parser \u001b[38;5;241m=\u001b[39m \u001b[43mTextFileReader\u001b[49m\u001b[43m(\u001b[49m\u001b[43mfilepath_or_buffer\u001b[49m\u001b[43m,\u001b[49m\u001b[43m \u001b[49m\u001b[38;5;241;43m*\u001b[39;49m\u001b[38;5;241;43m*\u001b[39;49m\u001b[43mkwds\u001b[49m\u001b[43m)\u001b[49m\n\u001b[1;32m    577\u001b[0m \u001b[38;5;28;01mif\u001b[39;00m chunksize \u001b[38;5;129;01mor\u001b[39;00m iterator:\n\u001b[1;32m    578\u001b[0m     \u001b[38;5;28;01mreturn\u001b[39;00m parser\n",
      "File \u001b[0;32m~/.conda/envs/RESIST/lib/python3.8/site-packages/pandas/io/parsers/readers.py:934\u001b[0m, in \u001b[0;36mTextFileReader.__init__\u001b[0;34m(self, f, engine, **kwds)\u001b[0m\n\u001b[1;32m    931\u001b[0m     \u001b[38;5;28mself\u001b[39m\u001b[38;5;241m.\u001b[39moptions[\u001b[38;5;124m\"\u001b[39m\u001b[38;5;124mhas_index_names\u001b[39m\u001b[38;5;124m\"\u001b[39m] \u001b[38;5;241m=\u001b[39m kwds[\u001b[38;5;124m\"\u001b[39m\u001b[38;5;124mhas_index_names\u001b[39m\u001b[38;5;124m\"\u001b[39m]\n\u001b[1;32m    933\u001b[0m \u001b[38;5;28mself\u001b[39m\u001b[38;5;241m.\u001b[39mhandles: IOHandles \u001b[38;5;241m|\u001b[39m \u001b[38;5;28;01mNone\u001b[39;00m \u001b[38;5;241m=\u001b[39m \u001b[38;5;28;01mNone\u001b[39;00m\n\u001b[0;32m--> 934\u001b[0m \u001b[38;5;28mself\u001b[39m\u001b[38;5;241m.\u001b[39m_engine \u001b[38;5;241m=\u001b[39m \u001b[38;5;28;43mself\u001b[39;49m\u001b[38;5;241;43m.\u001b[39;49m\u001b[43m_make_engine\u001b[49m\u001b[43m(\u001b[49m\u001b[43mf\u001b[49m\u001b[43m,\u001b[49m\u001b[43m \u001b[49m\u001b[38;5;28;43mself\u001b[39;49m\u001b[38;5;241;43m.\u001b[39;49m\u001b[43mengine\u001b[49m\u001b[43m)\u001b[49m\n",
      "File \u001b[0;32m~/.conda/envs/RESIST/lib/python3.8/site-packages/pandas/io/parsers/readers.py:1218\u001b[0m, in \u001b[0;36mTextFileReader._make_engine\u001b[0;34m(self, f, engine)\u001b[0m\n\u001b[1;32m   1214\u001b[0m     mode \u001b[38;5;241m=\u001b[39m \u001b[38;5;124m\"\u001b[39m\u001b[38;5;124mrb\u001b[39m\u001b[38;5;124m\"\u001b[39m\n\u001b[1;32m   1215\u001b[0m \u001b[38;5;66;03m# error: No overload variant of \"get_handle\" matches argument types\u001b[39;00m\n\u001b[1;32m   1216\u001b[0m \u001b[38;5;66;03m# \"Union[str, PathLike[str], ReadCsvBuffer[bytes], ReadCsvBuffer[str]]\"\u001b[39;00m\n\u001b[1;32m   1217\u001b[0m \u001b[38;5;66;03m# , \"str\", \"bool\", \"Any\", \"Any\", \"Any\", \"Any\", \"Any\"\u001b[39;00m\n\u001b[0;32m-> 1218\u001b[0m \u001b[38;5;28mself\u001b[39m\u001b[38;5;241m.\u001b[39mhandles \u001b[38;5;241m=\u001b[39m \u001b[43mget_handle\u001b[49m\u001b[43m(\u001b[49m\u001b[43m  \u001b[49m\u001b[38;5;66;43;03m# type: ignore[call-overload]\u001b[39;49;00m\n\u001b[1;32m   1219\u001b[0m \u001b[43m    \u001b[49m\u001b[43mf\u001b[49m\u001b[43m,\u001b[49m\n\u001b[1;32m   1220\u001b[0m \u001b[43m    \u001b[49m\u001b[43mmode\u001b[49m\u001b[43m,\u001b[49m\n\u001b[1;32m   1221\u001b[0m \u001b[43m    \u001b[49m\u001b[43mencoding\u001b[49m\u001b[38;5;241;43m=\u001b[39;49m\u001b[38;5;28;43mself\u001b[39;49m\u001b[38;5;241;43m.\u001b[39;49m\u001b[43moptions\u001b[49m\u001b[38;5;241;43m.\u001b[39;49m\u001b[43mget\u001b[49m\u001b[43m(\u001b[49m\u001b[38;5;124;43m\"\u001b[39;49m\u001b[38;5;124;43mencoding\u001b[39;49m\u001b[38;5;124;43m\"\u001b[39;49m\u001b[43m,\u001b[49m\u001b[43m \u001b[49m\u001b[38;5;28;43;01mNone\u001b[39;49;00m\u001b[43m)\u001b[49m\u001b[43m,\u001b[49m\n\u001b[1;32m   1222\u001b[0m \u001b[43m    \u001b[49m\u001b[43mcompression\u001b[49m\u001b[38;5;241;43m=\u001b[39;49m\u001b[38;5;28;43mself\u001b[39;49m\u001b[38;5;241;43m.\u001b[39;49m\u001b[43moptions\u001b[49m\u001b[38;5;241;43m.\u001b[39;49m\u001b[43mget\u001b[49m\u001b[43m(\u001b[49m\u001b[38;5;124;43m\"\u001b[39;49m\u001b[38;5;124;43mcompression\u001b[39;49m\u001b[38;5;124;43m\"\u001b[39;49m\u001b[43m,\u001b[49m\u001b[43m \u001b[49m\u001b[38;5;28;43;01mNone\u001b[39;49;00m\u001b[43m)\u001b[49m\u001b[43m,\u001b[49m\n\u001b[1;32m   1223\u001b[0m \u001b[43m    \u001b[49m\u001b[43mmemory_map\u001b[49m\u001b[38;5;241;43m=\u001b[39;49m\u001b[38;5;28;43mself\u001b[39;49m\u001b[38;5;241;43m.\u001b[39;49m\u001b[43moptions\u001b[49m\u001b[38;5;241;43m.\u001b[39;49m\u001b[43mget\u001b[49m\u001b[43m(\u001b[49m\u001b[38;5;124;43m\"\u001b[39;49m\u001b[38;5;124;43mmemory_map\u001b[39;49m\u001b[38;5;124;43m\"\u001b[39;49m\u001b[43m,\u001b[49m\u001b[43m \u001b[49m\u001b[38;5;28;43;01mFalse\u001b[39;49;00m\u001b[43m)\u001b[49m\u001b[43m,\u001b[49m\n\u001b[1;32m   1224\u001b[0m \u001b[43m    \u001b[49m\u001b[43mis_text\u001b[49m\u001b[38;5;241;43m=\u001b[39;49m\u001b[43mis_text\u001b[49m\u001b[43m,\u001b[49m\n\u001b[1;32m   1225\u001b[0m \u001b[43m    \u001b[49m\u001b[43merrors\u001b[49m\u001b[38;5;241;43m=\u001b[39;49m\u001b[38;5;28;43mself\u001b[39;49m\u001b[38;5;241;43m.\u001b[39;49m\u001b[43moptions\u001b[49m\u001b[38;5;241;43m.\u001b[39;49m\u001b[43mget\u001b[49m\u001b[43m(\u001b[49m\u001b[38;5;124;43m\"\u001b[39;49m\u001b[38;5;124;43mencoding_errors\u001b[39;49m\u001b[38;5;124;43m\"\u001b[39;49m\u001b[43m,\u001b[49m\u001b[43m \u001b[49m\u001b[38;5;124;43m\"\u001b[39;49m\u001b[38;5;124;43mstrict\u001b[39;49m\u001b[38;5;124;43m\"\u001b[39;49m\u001b[43m)\u001b[49m\u001b[43m,\u001b[49m\n\u001b[1;32m   1226\u001b[0m \u001b[43m    \u001b[49m\u001b[43mstorage_options\u001b[49m\u001b[38;5;241;43m=\u001b[39;49m\u001b[38;5;28;43mself\u001b[39;49m\u001b[38;5;241;43m.\u001b[39;49m\u001b[43moptions\u001b[49m\u001b[38;5;241;43m.\u001b[39;49m\u001b[43mget\u001b[49m\u001b[43m(\u001b[49m\u001b[38;5;124;43m\"\u001b[39;49m\u001b[38;5;124;43mstorage_options\u001b[39;49m\u001b[38;5;124;43m\"\u001b[39;49m\u001b[43m,\u001b[49m\u001b[43m \u001b[49m\u001b[38;5;28;43;01mNone\u001b[39;49;00m\u001b[43m)\u001b[49m\u001b[43m,\u001b[49m\n\u001b[1;32m   1227\u001b[0m \u001b[43m\u001b[49m\u001b[43m)\u001b[49m\n\u001b[1;32m   1228\u001b[0m \u001b[38;5;28;01massert\u001b[39;00m \u001b[38;5;28mself\u001b[39m\u001b[38;5;241m.\u001b[39mhandles \u001b[38;5;129;01mis\u001b[39;00m \u001b[38;5;129;01mnot\u001b[39;00m \u001b[38;5;28;01mNone\u001b[39;00m\n\u001b[1;32m   1229\u001b[0m f \u001b[38;5;241m=\u001b[39m \u001b[38;5;28mself\u001b[39m\u001b[38;5;241m.\u001b[39mhandles\u001b[38;5;241m.\u001b[39mhandle\n",
      "File \u001b[0;32m~/.conda/envs/RESIST/lib/python3.8/site-packages/pandas/io/common.py:786\u001b[0m, in \u001b[0;36mget_handle\u001b[0;34m(path_or_buf, mode, encoding, compression, memory_map, is_text, errors, storage_options)\u001b[0m\n\u001b[1;32m    781\u001b[0m \u001b[38;5;28;01melif\u001b[39;00m \u001b[38;5;28misinstance\u001b[39m(handle, \u001b[38;5;28mstr\u001b[39m):\n\u001b[1;32m    782\u001b[0m     \u001b[38;5;66;03m# Check whether the filename is to be opened in binary mode.\u001b[39;00m\n\u001b[1;32m    783\u001b[0m     \u001b[38;5;66;03m# Binary mode does not support 'encoding' and 'newline'.\u001b[39;00m\n\u001b[1;32m    784\u001b[0m     \u001b[38;5;28;01mif\u001b[39;00m ioargs\u001b[38;5;241m.\u001b[39mencoding \u001b[38;5;129;01mand\u001b[39;00m \u001b[38;5;124m\"\u001b[39m\u001b[38;5;124mb\u001b[39m\u001b[38;5;124m\"\u001b[39m \u001b[38;5;129;01mnot\u001b[39;00m \u001b[38;5;129;01min\u001b[39;00m ioargs\u001b[38;5;241m.\u001b[39mmode:\n\u001b[1;32m    785\u001b[0m         \u001b[38;5;66;03m# Encoding\u001b[39;00m\n\u001b[0;32m--> 786\u001b[0m         handle \u001b[38;5;241m=\u001b[39m \u001b[38;5;28;43mopen\u001b[39;49m\u001b[43m(\u001b[49m\n\u001b[1;32m    787\u001b[0m \u001b[43m            \u001b[49m\u001b[43mhandle\u001b[49m\u001b[43m,\u001b[49m\n\u001b[1;32m    788\u001b[0m \u001b[43m            \u001b[49m\u001b[43mioargs\u001b[49m\u001b[38;5;241;43m.\u001b[39;49m\u001b[43mmode\u001b[49m\u001b[43m,\u001b[49m\n\u001b[1;32m    789\u001b[0m \u001b[43m            \u001b[49m\u001b[43mencoding\u001b[49m\u001b[38;5;241;43m=\u001b[39;49m\u001b[43mioargs\u001b[49m\u001b[38;5;241;43m.\u001b[39;49m\u001b[43mencoding\u001b[49m\u001b[43m,\u001b[49m\n\u001b[1;32m    790\u001b[0m \u001b[43m            \u001b[49m\u001b[43merrors\u001b[49m\u001b[38;5;241;43m=\u001b[39;49m\u001b[43merrors\u001b[49m\u001b[43m,\u001b[49m\n\u001b[1;32m    791\u001b[0m \u001b[43m            \u001b[49m\u001b[43mnewline\u001b[49m\u001b[38;5;241;43m=\u001b[39;49m\u001b[38;5;124;43m\"\u001b[39;49m\u001b[38;5;124;43m\"\u001b[39;49m\u001b[43m,\u001b[49m\n\u001b[1;32m    792\u001b[0m \u001b[43m        \u001b[49m\u001b[43m)\u001b[49m\n\u001b[1;32m    793\u001b[0m     \u001b[38;5;28;01melse\u001b[39;00m:\n\u001b[1;32m    794\u001b[0m         \u001b[38;5;66;03m# Binary mode\u001b[39;00m\n\u001b[1;32m    795\u001b[0m         handle \u001b[38;5;241m=\u001b[39m \u001b[38;5;28mopen\u001b[39m(handle, ioargs\u001b[38;5;241m.\u001b[39mmode)\n",
      "\u001b[0;31mFileNotFoundError\u001b[0m: [Errno 2] No such file or directory: './all_rgiout_2022-06-21'"
     ]
    }
   ],
   "source": [
    "df = pd.read_csv(\"./all_rgiout_2022-06-21\", sep=\"\\t\")\n",
    "df = df.sort_values(\n",
    "    by=[\"Accession_Number\"],\n",
    "    ascending=True,\n",
    "    key=lambda x: np.argsort(index_natsorted(df[\"Accession_Number\"])),\n",
    "    ignore_index=True,\n",
    ")\n",
    "df[[\"Species\", \"Subspecies\"]] = df[\"Strain\"].str.split(\"subsp.\", 1, expand=True)\n",
    "df = df.replace(np.nan, \"Null\", regex=True)\n",
    "df"
   ]
  },
  {
   "cell_type": "code",
   "execution_count": null,
   "id": "511b6590-9bf3-4e31-9804-20c6719399b4",
   "metadata": {},
   "outputs": [],
   "source": [
    "singleaccdf = df.drop_duplicates(subset=[\"Accession_Number\"])"
   ]
  },
  {
   "cell_type": "markdown",
   "id": "d70a3059-7251-4022-9660-e03398be862e",
   "metadata": {
    "tags": []
   },
   "source": [
    "## Plasmids"
   ]
  },
  {
   "cell_type": "code",
   "execution_count": null,
   "id": "95cc9895-f3a7-483d-bf32-90171d5eaedc",
   "metadata": {},
   "outputs": [],
   "source": [
    "contigdf = pd.concat([df['Accession_Number'], df['Contig'].str.split('_', expand=True)[0].str.split('|').str[-1]], axis=1).copy()\n",
    "\n",
    "ecoli_mlplasmid_out = pd.read_csv('../3_analysis-plasmid/merged-Escherichia_coli-mlplasmidout', sep='\\t')\n",
    "ecoli_mlplasmid_out['Contig'] = ecoli_mlplasmid_out['Contig_name'].str.split(' ', expand=True)[0]\n",
    "ecoliplasmids_df = contigdf.loc[contigdf['Accession_Number'].isin(ecoli_mlplasmid_out['AccNum'])]\n",
    "ecoliplasmids_df = ecoliplasmids_df.loc[ecoliplasmids_df[0].isin(ecoli_mlplasmid_out['Contig'])]\n",
    "ecoliplasmids_df = df.loc[ecoliplasmids_df.index].copy()\n",
    "\n",
    "kleb_mlplasmid_out = pd.read_csv('../3_analysis-plasmid/merged-Klebsiella_pneumoniae-mlplasmidout', sep='\\t')\n",
    "kleb_mlplasmid_out['Contig'] = kleb_mlplasmid_out['Contig_name'].str.split(' ', expand=True)[0]\n",
    "klebplasmids_df = contigdf.loc[contigdf['Accession_Number'].isin(kleb_mlplasmid_out['AccNum'])]\n",
    "klebplasmids_df = klebplasmids_df.loc[klebplasmids_df[0].isin(kleb_mlplasmid_out['Contig'])]\n",
    "klebplasmids_df = df.loc[klebplasmids_df.index].copy()\n",
    "\n",
    "faecium_mlplasmid_out = pd.read_csv('../3_analysis-plasmid/merged-Enterococcus_faecium-mlplasmidout', sep='\\t')\n",
    "faecium_mlplasmid_out['Contig'] = faecium_mlplasmid_out['Contig_name'].str.split(' ', expand=True)[0]\n",
    "faeciumplasmids_df = contigdf.loc[contigdf['Accession_Number'].isin(faecium_mlplasmid_out['AccNum'])]\n",
    "faeciumplasmids_df = faeciumplasmids_df.loc[faeciumplasmids_df[0].isin(faecium_mlplasmid_out['Contig'])]\n",
    "faeciumplasmids_df = df.loc[faeciumplasmids_df.index].copy()\n",
    "\n",
    "faecalis_mlplasmid_out = pd.read_csv('../3_analysis-plasmid/merged-Enterococcus_faecalis-mlplasmidout', sep='\\t')\n",
    "faecalis_mlplasmid_out['Contig'] = faecalis_mlplasmid_out['Contig_name'].str.split(' ', expand=True)[0]\n",
    "faecalisplasmids_df = contigdf.loc[contigdf['Accession_Number'].isin(faecalis_mlplasmid_out['AccNum'])]\n",
    "faecalisplasmids_df = faecalisplasmids_df.loc[faecalisplasmids_df[0].isin(faecalis_mlplasmid_out['Contig'])]\n",
    "faecalisplasmids_df = df.loc[faecalisplasmids_df.index].copy()\n",
    "\n",
    "baumannii_mlplasmid_out = pd.read_csv('../3_analysis-plasmid/merged-Acinetobacter_baumannii-mlplasmidout', sep='\\t')\n",
    "baumannii_mlplasmid_out['Contig'] = baumannii_mlplasmid_out['Contig_name'].str.split(' ', expand=True)[0]\n",
    "baumanniiplasmids_df = contigdf.loc[contigdf['Accession_Number'].isin(baumannii_mlplasmid_out['AccNum'])]\n",
    "baumanniiplasmids_df = baumanniiplasmids_df.loc[baumanniiplasmids_df[0].isin(baumannii_mlplasmid_out['Contig'])]\n",
    "baumanniiplasmids_df = df.loc[baumanniiplasmids_df.index].copy()\n",
    "\n",
    "# for g in [ecoliplasmids_df, klebplasmids_df, faeciumplasmids_df, faecalisplasmids_df, baumanniiplasmids_df]:\n",
    "#     g = g.replace(np.nan, \"Null\", regex=True)\n",
    "#     g['Start'] = g['Start'].astype(int)\n",
    "#     g['Stop'] = g['Stop'].astype(int)\n",
    "#     g['Pass_Bitscore'] = g['Pass_Bitscore'].astype(int)\n",
    "#     g['Best_Hit_Bitscore'] = g['Best_Hit_Bitscore'].astype(float)\n",
    "#     g['Best_Identities'] = g['Best_Identities'].astype(float)\n",
    "#     g['SNPs_in_Best_Hit_ARO'] = g['SNPs_in_Best_Hit_ARO'].astype(float)\n",
    "#     g['Other_SNPs'] = g['Other_SNPs'].astype(float)\n",
    "#     g['Percentage Length of Reference Sequence'] = g['Percentage Length of Reference Sequence'].astype(float)\n",
    "#     g['Other_SNPs'] = g['Other_SNPs'].astype(int)"
   ]
  },
  {
   "cell_type": "markdown",
   "id": "f8d695d8-2359-40a9-87e8-411d86c9dede",
   "metadata": {
    "tags": []
   },
   "source": [
    "## Integrons"
   ]
  },
  {
   "cell_type": "code",
   "execution_count": null,
   "id": "968d8f1f-face-45eb-9100-61513576e6ff",
   "metadata": {},
   "outputs": [],
   "source": [
    "rgiintegron = pd.read_csv('./rgi_subset_integronoverlap', sep='\\t', names=df.columns.values)\n",
    "rgiintegron[\"Species\"] = rgiintegron[\"Strain\"].str.split(\"subsp.\", 1, expand=True)\n",
    "rgiintegron[\"Subspecies\"] = \"Null\"\n",
    "ecoliplasmidintegrons_df = ecoliplasmids_df.loc[ecoliplasmids_df['ORF_ID'].isin(rgiintegron['ORF_ID']),:].copy()\n",
    "klebplasmidintegrons_df = klebplasmids_df.loc[klebplasmids_df['ORF_ID'].isin(rgiintegron['ORF_ID']),:].copy()\n",
    "# faeciumplasmidintegrons_df = faeciumplasmids_df.loc[faeciumplasmids_df['ORF_ID'].isin(rgiintegron['ORF_ID']),:].copy()       - this is empty\n",
    "# faecalisplasmidintegrons_df = faecalisplasmids_df.loc[faecalisplasmids_df['ORF_ID'].isin(rgiintegron['ORF_ID']),:].copy()    - this is empty\n",
    "baumanniiplasmidintegrons_df = baumanniiplasmids_df.loc[baumanniiplasmids_df['ORF_ID'].isin(rgiintegron['ORF_ID']),:].copy()"
   ]
  },
  {
   "cell_type": "markdown",
   "id": "17005195-d8bc-496f-b413-a49ad0ed1107",
   "metadata": {
    "tags": []
   },
   "source": [
    "# Get a sense of the data"
   ]
  },
  {
   "cell_type": "markdown",
   "id": "7a807bd3-7d7c-443b-b1d4-1ce52fb1a684",
   "metadata": {
    "tags": [],
    "toc-hr-collapsed": true
   },
   "source": [
    "## Look at structure"
   ]
  },
  {
   "cell_type": "code",
   "execution_count": null,
   "id": "10213a26-0ddd-4d10-9138-190343f5e871",
   "metadata": {},
   "outputs": [],
   "source": [
    "num_isolates = singleaccdf.shape[0]\n",
    "print(\"Total isolates: %s\" % num_isolates)"
   ]
  },
  {
   "cell_type": "markdown",
   "id": "16711cd5-892b-4f08-979a-571dcb553181",
   "metadata": {
    "tags": []
   },
   "source": [
    "### Strain analysis"
   ]
  },
  {
   "cell_type": "code",
   "execution_count": null,
   "id": "b09204bb-ad7f-43c0-baee-778b8c69a98e",
   "metadata": {},
   "outputs": [],
   "source": [
    "px.strip(\n",
    "    singleaccdf.value_counts(\"Species\").to_frame().reset_index(),\n",
    "    x=0,\n",
    "    hover_data=[\"Species\"],\n",
    "    labels={\"0\": \"Number of Strains w/ assemblies\"},\n",
    ")"
   ]
  },
  {
   "cell_type": "code",
   "execution_count": null,
   "id": "9d0b6e0a-cce1-43e9-91c5-6c5802b9ec35",
   "metadata": {},
   "outputs": [],
   "source": [
    "px.histogram(\n",
    "    singleaccdf,\n",
    "    x=\"Year_Cultured\",\n",
    "    labels={\"Year_Cultured\": \"Year Cultured\"},\n",
    "    title=\"Histogram of Year Cultured information from strains with genome assemblies in NCTC\",\n",
    "    hover_data=[\"Accession_Number\"],\n",
    "    color='Strain'\n",
    "    # nbins=30\n",
    ")"
   ]
  },
  {
   "cell_type": "code",
   "execution_count": null,
   "id": "bf95f0c9-27c7-41cf-a02e-f56660c65eb2",
   "metadata": {},
   "outputs": [],
   "source": [
    "px.bar(\n",
    "    singleaccdf,\n",
    "    x=\"Year_Cultured\",\n",
    "    y=singleaccdf['Year_Cultured'].map((1/singleaccdf['Year_Cultured'].value_counts()).to_dict()),\n",
    "    labels={\"Year_Cultured\": \"Year Cultured\"},\n",
    "    title=\"Normalized Year Cultured information from all strains with genome assemblies in NCTC\",\n",
    "    hover_data=[\"Accession_Number\"],\n",
    "    color='Strain'\n",
    "    # nbins=30\n",
    ")"
   ]
  },
  {
   "cell_type": "code",
   "execution_count": null,
   "id": "dc35b943-327d-44ac-828a-a10a14cab2ae",
   "metadata": {},
   "outputs": [],
   "source": [
    "px.bar(\n",
    "    df.loc[df['Species'].str.contains('Salmonella')],\n",
    "    x=\"Year_Cultured\",\n",
    "    y=df.loc[df['Species'].str.contains('Salmonella')]['Year_Cultured'].map((1/df.loc[df['Species'].str.contains('Salmonella')]['Year_Cultured'].value_counts()).to_dict()),\n",
    "    labels={\"Year_Cultured\": \"Year Cultured\"},\n",
    "    title=\"Normalized Year Cultured information from strains with at least 1 RGI hit\",\n",
    "    hover_data=[\"Accession_Number\", \"Best_Hit_ARO\", \"Species\", \"Resistance Mechanism\", \"AMR Gene Family\", \"Drug Class\"],\n",
    "    color='Accession_Number'\n",
    ")"
   ]
  },
  {
   "cell_type": "code",
   "execution_count": null,
   "id": "34d9ad51-637d-4ad7-934d-f853ce0942fd",
   "metadata": {},
   "outputs": [],
   "source": [
    "df.loc[df['Species'].str.contains('Salmonella')]['Best_Hit_ARO'].value_counts()"
   ]
  },
  {
   "cell_type": "code",
   "execution_count": null,
   "id": "972ae3d8-ed53-4984-869e-4b7b6973e8fb",
   "metadata": {},
   "outputs": [],
   "source": [
    "px.bar(\n",
    "    df.loc[df['Species'].str.contains('Salmonella')],\n",
    "    x=\"Year_Cultured\",\n",
    "    y=df.loc[df['Species'].str.contains('Salmonella')].value_counts(),\n",
    "    labels={\"Year_Cultured\": \"Year Cultured\"},\n",
    "    title=\"Normalized Year Cultured information from strains with at least 1 RGI hit\",\n",
    "    hover_data=[\"Accession_Number\", \"Best_Hit_ARO\", \"Species\", \"Resistance Mechanism\", \"AMR Gene Family\", \"Drug Class\"],\n",
    "    color='Accession_Number'\n",
    ")"
   ]
  },
  {
   "cell_type": "code",
   "execution_count": null,
   "id": "0bf6e89e-4267-4d1a-938d-ff3b8583cbd2",
   "metadata": {},
   "outputs": [],
   "source": [
    "df.loc[df['Species'].str.contains('Salmonella')]['Best_Hit_ARO'].value_counts()"
   ]
  },
  {
   "cell_type": "markdown",
   "id": "5d245e46-cf55-4ec3-b6e4-116f5845a856",
   "metadata": {
    "tags": []
   },
   "source": [
    "### Resistance Occurrence"
   ]
  },
  {
   "cell_type": "code",
   "execution_count": null,
   "id": "860a3920-85cc-4b98-8c4a-ee42ab6a2ce2",
   "metadata": {},
   "outputs": [],
   "source": [
    "num_atleast1abr = df.loc[df['ORF_ID'] != 'NoAb'].drop_duplicates(subset=[\"Accession_Number\"]).shape[0]\n",
    "print(\"Isolates w/o any abr hits: %s\" % (num_isolates-num_atleast1abr))\n",
    "print(\"Isolates w/ at least 1 abr hit: %s\" % num_atleast1abr)"
   ]
  },
  {
   "cell_type": "code",
   "execution_count": null,
   "id": "d22a913d-89fd-4c4f-ba91-e8c63390ab5f",
   "metadata": {},
   "outputs": [],
   "source": [
    "x = np.percentile(df.loc[df['ORF_ID']!='NoAb'].value_counts('Accession_Number'), [0, 25, 50, 75, 100], interpolation='midpoint')\n",
    "print(\"Given resistance exists...\")\n",
    "print(\"\\tMin num of abr hits: %s\" % x[0])\n",
    "print(\"\\tQ1 num of abr hits: %s\" % x[1])\n",
    "print(\"\\tMedian num of abr hits: %s\" % x[2])\n",
    "print(\"\\tMean num of abr hits: %s\" % np.mean(df.loc[df['ORF_ID']!='NoAb'].value_counts('Accession_Number')))\n",
    "print(\"\\tQ3 num of abr hits: %s\" % x[3])\n",
    "print(\"\\tMax num of abr hits: %s\" % x[4])"
   ]
  },
  {
   "cell_type": "code",
   "execution_count": null,
   "id": "c602572e-3344-4021-a130-60fdaec24b9d",
   "metadata": {},
   "outputs": [],
   "source": [
    "numrgihits_df = df.groupby([\"Accession_Number\", 'Year_Cultured', 'Species']).size().sub(df.loc[df['ORF_ID'] == 'NoAb'].groupby(['Accession_Number']).size(), fill_value=0).to_frame().reset_index()\n",
    "px.scatter(\n",
    "    numrgihits_df.groupby(\"Species\").filter(lambda x: len(x) > 20),\n",
    "    x=\"Year_Cultured\",\n",
    "    y=0,\n",
    "    color='Species',\n",
    "    hover_data=[\"Species\", \"Accession_Number\"],\n",
    "    labels={\"0\": \"Number of strict/perfect AbR hits\"},\n",
    "    trendline='ols'\n",
    ")"
   ]
  },
  {
   "cell_type": "code",
   "execution_count": null,
   "id": "4070a3de-fa19-49ee-8058-a7c36e255647",
   "metadata": {},
   "outputs": [],
   "source": [
    "px.bar(\n",
    "    df.loc[df['ORF_ID']!='NoAb'],\n",
    "    x=\"Year_Cultured\",\n",
    "    y=df.loc[df['ORF_ID']!='NoAb']['Year_Cultured'].map((1/df.loc[df['ORF_ID']!='NoAb']['Year_Cultured'].value_counts()).to_dict()),\n",
    "    labels={\"Year_Cultured\": \"Year Cultured\"},\n",
    "    title=\"\",\n",
    "    hover_data=[\"Accession_Number\", \"Resistance Mechanism\", \"Best_Hit_ARO\", \"Drug Class\", \"AMR Gene Family\"],\n",
    "    color='AMR Gene Family',\n",
    ")"
   ]
  },
  {
   "cell_type": "code",
   "execution_count": null,
   "id": "3b5bffd6-9d2e-4d62-97ad-297dc83b8cc1",
   "metadata": {},
   "outputs": [],
   "source": [
    "df['NumDrugClasses'] = df['Drug Class'].str.split(';').apply(len)\n",
    "px.bar(\n",
    "    df,\n",
    "    x='Year_Cultured',\n",
    "    y=df['Year_Cultured'].map((1/df['Year_Cultured'].value_counts()).to_dict()),\n",
    "    color='NumDrugClasses'\n",
    ")"
   ]
  },
  {
   "cell_type": "markdown",
   "id": "19eea4bf-581a-4405-a2ac-b557f53c3fe9",
   "metadata": {
    "tags": []
   },
   "source": [
    "## Look at Plasmids"
   ]
  },
  {
   "cell_type": "markdown",
   "id": "6ae70a7f-8bec-4375-95b8-f8f22a741e42",
   "metadata": {
    "tags": []
   },
   "source": [
    "### E. Coli!"
   ]
  },
  {
   "cell_type": "code",
   "execution_count": null,
   "id": "4dbc53fb-259a-4ce4-9a6c-6b29379b7e91",
   "metadata": {},
   "outputs": [],
   "source": [
    "px.bar(\n",
    "    ecoliplasmids_df,\n",
    "    x=\"Year_Cultured\",\n",
    "    y=ecoliplasmids_df['Year_Cultured'].map((1/ecoliplasmids_df['Year_Cultured'].value_counts()).to_dict()),\n",
    "    labels={\"Year_Cultured\": \"Year Cultured\"},\n",
    "    title=\"Resistance Mechanism - E. Coli Plasmids\",\n",
    "    hover_data=[\"Accession_Number\", \"Resistance Mechanism\", \"Best_Hit_ARO\", \"Drug Class\", \"AMR Gene Family\"],\n",
    "    color='Resistance Mechanism',\n",
    ")"
   ]
  },
  {
   "cell_type": "code",
   "execution_count": null,
   "id": "57ee77c2-30e9-402d-be44-59b3145ff8a7",
   "metadata": {},
   "outputs": [],
   "source": [
    "px.bar(\n",
    "    ecoliplasmids_df,\n",
    "    x=\"Year_Cultured\",\n",
    "    y=ecoliplasmids_df['Year_Cultured'].map((1/ecoliplasmids_df['Year_Cultured'].value_counts()).to_dict()),\n",
    "    labels={\"Year_Cultured\": \"Year Cultured\"},\n",
    "    title=\"Best Hit ARO - E. Coli Plasmids\",\n",
    "    hover_data=[\"Accession_Number\", \"Resistance Mechanism\", \"Best_Hit_ARO\", \"Drug Class\", \"AMR Gene Family\"],\n",
    "    color='Best_Hit_ARO',\n",
    ")"
   ]
  },
  {
   "cell_type": "code",
   "execution_count": null,
   "id": "362c50b9-f4c2-4007-ae1b-dcc0adfe5aff",
   "metadata": {},
   "outputs": [],
   "source": [
    "px.bar(\n",
    "    ecoliplasmids_df,\n",
    "    x=\"Year_Cultured\",\n",
    "    y=ecoliplasmids_df['Year_Cultured'].map((1/ecoliplasmids_df['Year_Cultured'].value_counts()).to_dict()),\n",
    "    labels={\"Year_Cultured\": \"Year Cultured\"},\n",
    "    title=\"AMR Gene Family - E. Coli Plasmids\",\n",
    "    hover_data=[\"Accession_Number\", \"Resistance Mechanism\", \"Best_Hit_ARO\", \"Drug Class\", \"AMR Gene Family\"],\n",
    "    color='AMR Gene Family',\n",
    ")"
   ]
  },
  {
   "cell_type": "code",
   "execution_count": null,
   "id": "371d23e3-41f3-43eb-af7a-1e46025b8c15",
   "metadata": {},
   "outputs": [],
   "source": [
    "px.bar(\n",
    "    ecoliplasmids_df,\n",
    "    x=\"Year_Cultured\",\n",
    "    y=ecoliplasmids_df['Year_Cultured'].map((1/ecoliplasmids_df['Year_Cultured'].value_counts()).to_dict()),\n",
    "    labels={\"Year_Cultured\": \"Year Cultured\"},\n",
    "    title=\"Drug Class - E. Coli Plasmids\",\n",
    "    hover_data=[\"Accession_Number\", \"Resistance Mechanism\", \"Best_Hit_ARO\", \"Drug Class\", \"AMR Gene Family\"],\n",
    "    color='Drug Class',\n",
    ")"
   ]
  },
  {
   "cell_type": "markdown",
   "id": "c69d531f-e663-4c09-a49c-add1d2487c21",
   "metadata": {
    "jp-MarkdownHeadingCollapsed": true,
    "tags": []
   },
   "source": [
    "### Klebsiella!"
   ]
  },
  {
   "cell_type": "code",
   "execution_count": null,
   "id": "8f9b9bd1-854c-4f5d-bc55-22a559501903",
   "metadata": {},
   "outputs": [],
   "source": [
    "px.bar(\n",
    "    klebplasmids_df,\n",
    "    x=\"Year_Cultured\",\n",
    "    y=klebplasmids_df['Year_Cultured'].map((1/klebplasmids_df['Year_Cultured'].value_counts()).to_dict()),\n",
    "    labels={\"Year_Cultured\": \"Year Cultured\"},\n",
    "    title=\"Resistance Mechanism - Kleb Plasmids\",\n",
    "    hover_data=[\"Accession_Number\", \"Resistance Mechanism\", \"Best_Hit_ARO\", \"Drug Class\", \"AMR Gene Family\"],\n",
    "    color='Resistance Mechanism',\n",
    ")"
   ]
  },
  {
   "cell_type": "code",
   "execution_count": null,
   "id": "d2373ab6-76af-49cd-b693-c98246dc3552",
   "metadata": {},
   "outputs": [],
   "source": [
    "px.bar(\n",
    "    klebplasmids_df,\n",
    "    x=\"Year_Cultured\",\n",
    "    y=klebplasmids_df['Year_Cultured'].map((1/klebplasmids_df['Year_Cultured'].value_counts()).to_dict()),\n",
    "    labels={\"Year_Cultured\": \"Year Cultured\"},\n",
    "    title=\"Best ARO Hit - Kleb Plasmids\",\n",
    "    hover_data=[\"Accession_Number\", \"Resistance Mechanism\", \"Best_Hit_ARO\", \"Drug Class\", \"AMR Gene Family\"],\n",
    "    color='Best_Hit_ARO',\n",
    ")"
   ]
  },
  {
   "cell_type": "code",
   "execution_count": null,
   "id": "259ec2bd-7cdc-43ef-8677-fb12b2ce89dd",
   "metadata": {},
   "outputs": [],
   "source": [
    "px.bar(\n",
    "    klebplasmids_df,\n",
    "    x=\"Year_Cultured\",\n",
    "    y=klebplasmids_df['Year_Cultured'].map((1/klebplasmids_df['Year_Cultured'].value_counts()).to_dict()),\n",
    "    labels={\"Year_Cultured\": \"Year Cultured\"},\n",
    "    title=\"AMR Gene Family - Kleb Plasmids\",\n",
    "    hover_data=[\"Accession_Number\", \"Resistance Mechanism\", \"Best_Hit_ARO\", \"Drug Class\", \"AMR Gene Family\"],\n",
    "    color='AMR Gene Family',\n",
    ")"
   ]
  },
  {
   "cell_type": "code",
   "execution_count": null,
   "id": "717fb6a4-d40e-4cf4-9c46-00e9dbbfebfd",
   "metadata": {},
   "outputs": [],
   "source": [
    "px.bar(\n",
    "    klebplasmids_df,\n",
    "    x=\"Year_Cultured\",\n",
    "    y=klebplasmids_df['Year_Cultured'].map((1/klebplasmids_df['Year_Cultured'].value_counts()).to_dict()),\n",
    "    labels={\"Year_Cultured\": \"Year Cultured\"},\n",
    "    title=\"Drug Class - Kleb Plasmids\",\n",
    "    hover_data=[\"Accession_Number\", \"Resistance Mechanism\", \"Best_Hit_ARO\", \"Drug Class\", \"AMR Gene Family\"],\n",
    "    color='Drug Class',\n",
    ")"
   ]
  },
  {
   "cell_type": "markdown",
   "id": "d3f5bfdf-0723-4711-a27d-dd2c4d9c7019",
   "metadata": {
    "tags": []
   },
   "source": [
    "### Enterococcus Faecium"
   ]
  },
  {
   "cell_type": "code",
   "execution_count": null,
   "id": "e2773c4b-13cd-4d49-a798-08e1d6518a8b",
   "metadata": {
    "tags": []
   },
   "outputs": [],
   "source": [
    "px.bar(\n",
    "    faeciumplasmids_df,\n",
    "    x=\"Year_Cultured\",\n",
    "    y=faeciumplasmids_df['Year_Cultured'].map((1/faeciumplasmids_df['Year_Cultured'].value_counts()).to_dict()),\n",
    "    labels={\"Year_Cultured\": \"Year Cultured\"},\n",
    "    title=\"Resistance Mechanism - Faecium Plasmids\",\n",
    "    hover_data=[\"Accession_Number\", \"Resistance Mechanism\", \"Best_Hit_ARO\", \"Drug Class\", \"AMR Gene Family\"],\n",
    "    color='Resistance Mechanism',\n",
    ")"
   ]
  },
  {
   "cell_type": "code",
   "execution_count": null,
   "id": "6db969da-0660-4b8a-b5c1-30239f6add8e",
   "metadata": {},
   "outputs": [],
   "source": [
    "px.bar(\n",
    "    faeciumplasmids_df,\n",
    "    x=\"Year_Cultured\",\n",
    "    y=faeciumplasmids_df['Year_Cultured'].map((1/faeciumplasmids_df['Year_Cultured'].value_counts()).to_dict()),\n",
    "    labels={\"Year_Cultured\": \"Year Cultured\"},\n",
    "    title=\"Best Hit ARO - Faecium Plasmids\",\n",
    "    hover_data=[\"Accession_Number\", \"Resistance Mechanism\", \"Best_Hit_ARO\", \"Drug Class\", \"AMR Gene Family\"],\n",
    "    color='Best_Hit_ARO',\n",
    ")"
   ]
  },
  {
   "cell_type": "code",
   "execution_count": null,
   "id": "2b15b327-7564-4f04-b599-e60b91435efc",
   "metadata": {},
   "outputs": [],
   "source": [
    "px.bar(\n",
    "    faeciumplasmids_df,\n",
    "    x=\"Year_Cultured\",\n",
    "    y=faeciumplasmids_df['Year_Cultured'].map((1/faeciumplasmids_df['Year_Cultured'].value_counts()).to_dict()),\n",
    "    labels={\"Year_Cultured\": \"Year Cultured\"},\n",
    "    title=\"AMR Gene Family - Faecium Plasmids\",\n",
    "    hover_data=[\"Accession_Number\", \"Resistance Mechanism\", \"Best_Hit_ARO\", \"Drug Class\", \"AMR Gene Family\"],\n",
    "    color='AMR Gene Family',\n",
    ")"
   ]
  },
  {
   "cell_type": "code",
   "execution_count": null,
   "id": "219dc77a-529d-41aa-ab96-d099e0c94e96",
   "metadata": {},
   "outputs": [],
   "source": [
    "px.bar(\n",
    "    faeciumplasmids_df,\n",
    "    x=\"Year_Cultured\",\n",
    "    y=faeciumplasmids_df['Year_Cultured'].map((1/faeciumplasmids_df['Year_Cultured'].value_counts()).to_dict()),\n",
    "    labels={\"Year_Cultured\": \"Year Cultured\"},\n",
    "    title=\"AMR Gene Family - Faecium Plasmids\",\n",
    "    hover_data=[\"Accession_Number\", \"Resistance Mechanism\", \"Best_Hit_ARO\", \"Drug Class\", \"AMR Gene Family\"],\n",
    "    color='Drug Class',\n",
    ")"
   ]
  },
  {
   "cell_type": "markdown",
   "id": "f0187eb4-74aa-47e1-aa34-a83cdd6dc1d0",
   "metadata": {
    "jp-MarkdownHeadingCollapsed": true,
    "tags": []
   },
   "source": [
    "### Enterococcus Faecalis"
   ]
  },
  {
   "cell_type": "code",
   "execution_count": null,
   "id": "4c3b42a3-3e0f-43f5-9dc2-f3ae8e741c17",
   "metadata": {},
   "outputs": [],
   "source": [
    "px.bar(\n",
    "    faecalisplasmids_df,\n",
    "    x=\"Year_Cultured\",\n",
    "    y=faecalisplasmids_df['Year_Cultured'].map((1/faecalisplasmids_df['Year_Cultured'].value_counts()).to_dict()),\n",
    "    labels={\"Year_Cultured\": \"Year Cultured\"},\n",
    "    title=\"Resistance Mechanism - Faecalis Plasmids\",\n",
    "    hover_data=[\"Accession_Number\", \"Resistance Mechanism\", \"Best_Hit_ARO\", \"Drug Class\", \"AMR Gene Family\"],\n",
    "    color='Resistance Mechanism',\n",
    ")"
   ]
  },
  {
   "cell_type": "code",
   "execution_count": null,
   "id": "3baa1188-6cb1-4597-a59b-4be3f4c41836",
   "metadata": {},
   "outputs": [],
   "source": [
    "px.bar(\n",
    "    faecalisplasmids_df,\n",
    "    x=\"Year_Cultured\",\n",
    "    y=faecalisplasmids_df['Year_Cultured'].map((1/faecalisplasmids_df['Year_Cultured'].value_counts()).to_dict()),\n",
    "    labels={\"Year_Cultured\": \"Year Cultured\"},\n",
    "    title=\"Best Hit ARO - Faecalis Plasmids\",\n",
    "    hover_data=[\"Accession_Number\", \"Resistance Mechanism\", \"Best_Hit_ARO\", \"Drug Class\", \"AMR Gene Family\"],\n",
    "    color='Best_Hit_ARO',\n",
    ")"
   ]
  },
  {
   "cell_type": "code",
   "execution_count": null,
   "id": "8e0acd14-e406-4fbc-ba43-2cfe990fa5c9",
   "metadata": {},
   "outputs": [],
   "source": [
    "px.bar(\n",
    "    faecalisplasmids_df,\n",
    "    x=\"Year_Cultured\",\n",
    "    y=faecalisplasmids_df['Year_Cultured'].map((1/faecalisplasmids_df['Year_Cultured'].value_counts()).to_dict()),\n",
    "    labels={\"Year_Cultured\": \"Year Cultured\"},\n",
    "    title=\"AMR Gene Family - Faecalis Plasmids\",\n",
    "    hover_data=[\"Accession_Number\", \"Resistance Mechanism\", \"Best_Hit_ARO\", \"Drug Class\", \"AMR Gene Family\"],\n",
    "    color='AMR Gene Family',\n",
    ")"
   ]
  },
  {
   "cell_type": "code",
   "execution_count": null,
   "id": "030b80ac-4ad8-4725-94a2-8169cf5eee3d",
   "metadata": {},
   "outputs": [],
   "source": [
    "px.bar(\n",
    "    faecalisplasmids_df,\n",
    "    x=\"Year_Cultured\",\n",
    "    y=faecalisplasmids_df['Year_Cultured'].map((1/faecalisplasmids_df['Year_Cultured'].value_counts()).to_dict()),\n",
    "    labels={\"Year_Cultured\": \"Year Cultured\"},\n",
    "    title=\"Drug Class - Faecalis Plasmids\",\n",
    "    hover_data=[\"Accession_Number\", \"Resistance Mechanism\", \"Best_Hit_ARO\", \"Drug Class\", \"AMR Gene Family\"],\n",
    "    color='Drug Class',\n",
    ")"
   ]
  },
  {
   "cell_type": "markdown",
   "id": "fd445169-6640-4c0b-8439-616fdd8cfa05",
   "metadata": {
    "tags": []
   },
   "source": [
    "### Baumannii"
   ]
  },
  {
   "cell_type": "code",
   "execution_count": null,
   "id": "a26c8536-a525-439f-9490-14a5626bed0f",
   "metadata": {},
   "outputs": [],
   "source": [
    "px.bar(\n",
    "    baumanniiplasmids_df,\n",
    "    x=\"Year_Cultured\",\n",
    "    y=baumanniiplasmids_df['Year_Cultured'].map((1/baumanniiplasmids_df['Year_Cultured'].value_counts()).to_dict()),\n",
    "    labels={\"Year_Cultured\": \"Year Cultured\"},\n",
    "    title=\"Resistance Mechanism - Baumannii Plasmids\",\n",
    "    hover_data=[\"Accession_Number\", \"Resistance Mechanism\", \"Best_Hit_ARO\", \"Drug Class\", \"AMR Gene Family\", 'Strain'],\n",
    "    color='Resistance Mechanism',\n",
    ")"
   ]
  },
  {
   "cell_type": "code",
   "execution_count": null,
   "id": "bd40f07c-4008-4ca0-9086-7fc07899b053",
   "metadata": {},
   "outputs": [],
   "source": [
    "px.bar(\n",
    "    baumanniiplasmids_df,\n",
    "    x=\"Year_Cultured\",\n",
    "    y=baumanniiplasmids_df['Year_Cultured'].map((1/baumanniiplasmids_df['Year_Cultured'].value_counts()).to_dict()),\n",
    "    labels={\"Year_Cultured\": \"Year Cultured\"},\n",
    "    title=\"Best Hit ARO - Baumannii Plasmids\",\n",
    "    hover_data=[\"Accession_Number\", \"Resistance Mechanism\", \"Best_Hit_ARO\", \"Drug Class\", \"AMR Gene Family\"],\n",
    "    color='Best_Hit_ARO',\n",
    ")"
   ]
  },
  {
   "cell_type": "code",
   "execution_count": null,
   "id": "95f4c9f3-3bc8-4780-97fe-3979d54a8802",
   "metadata": {},
   "outputs": [],
   "source": [
    "px.bar(\n",
    "    baumanniiplasmids_df,\n",
    "    x=\"Year_Cultured\",\n",
    "    y=baumanniiplasmids_df['Year_Cultured'].map((1/baumanniiplasmids_df['Year_Cultured'].value_counts()).to_dict()),\n",
    "    labels={\"Year_Cultured\": \"Year Cultured\"},\n",
    "    title=\"AMR Gene Family - Baumannii Plasmids\",\n",
    "    hover_data=[\"Accession_Number\", \"Resistance Mechanism\", \"Best_Hit_ARO\", \"Drug Class\", \"AMR Gene Family\"],\n",
    "    color='AMR Gene Family',\n",
    ")"
   ]
  },
  {
   "cell_type": "code",
   "execution_count": null,
   "id": "1502fe6d-fc37-40ec-872a-ab1b9daafbd1",
   "metadata": {},
   "outputs": [],
   "source": [
    "px.bar(\n",
    "    baumanniiplasmids_df,\n",
    "    x=\"Year_Cultured\",\n",
    "    y=baumanniiplasmids_df['Year_Cultured'].map((1/baumanniiplasmids_df['Year_Cultured'].value_counts()).to_dict()),\n",
    "    labels={\"Year_Cultured\": \"Year Cultured\"},\n",
    "    title=\"Drug Class - Baumannii Plasmids\",\n",
    "    hover_data=[\"Accession_Number\", \"Resistance Mechanism\", \"Best_Hit_ARO\", \"Drug Class\", \"AMR Gene Family\"],\n",
    "    color='Drug Class',\n",
    ")"
   ]
  },
  {
   "cell_type": "markdown",
   "id": "281ce705-a317-41df-90d3-063618463c05",
   "metadata": {
    "tags": []
   },
   "source": [
    "## Look at Integrons"
   ]
  },
  {
   "cell_type": "code",
   "execution_count": null,
   "id": "c42eb2d1-7428-40b8-b5dc-8240e415fcf7",
   "metadata": {},
   "outputs": [],
   "source": [
    "px.bar(\n",
    "    rgiintegron,\n",
    "    x=\"Year_Cultured\",\n",
    "    y=rgiintegron['Year_Cultured'].map((1/rgiintegron['Year_Cultured'].value_counts()).to_dict()),\n",
    "    labels={\"Year_Cultured\": \"Year Cultured\"},\n",
    "    title=\"Strains - Integrons\",\n",
    "    hover_data=[\"Accession_Number\", \"Resistance Mechanism\", \"Best_Hit_ARO\", \"Drug Class\", \"AMR Gene Family\"],\n",
    "    color='Strain',\n",
    ")"
   ]
  },
  {
   "cell_type": "markdown",
   "id": "b80a71a7-5c89-49c7-a5fd-822c4995b754",
   "metadata": {
    "tags": [],
    "toc-hr-collapsed": true
   },
   "source": [
    "## Integrons on Plasmids??"
   ]
  },
  {
   "cell_type": "markdown",
   "id": "c549aec9-3fd6-4f5a-9700-0617f9630635",
   "metadata": {
    "tags": []
   },
   "source": [
    "### E. Coli"
   ]
  },
  {
   "cell_type": "code",
   "execution_count": null,
   "id": "03712bf8-a1aa-4313-8842-9e88c520a5ba",
   "metadata": {},
   "outputs": [],
   "source": [
    "px.bar(\n",
    "    ecoliplasmidintegrons_df,\n",
    "    x=\"Year_Cultured\",\n",
    "    y=ecoliplasmidintegrons_df['Year_Cultured'].map((1/ecoliplasmidintegrons_df['Year_Cultured'].value_counts()).to_dict()),\n",
    "    labels={\"Year_Cultured\": \"Year Cultured\"},\n",
    "    title=\"Best Hit ARO - E. Coli Integrons on Plasmid\",\n",
    "    hover_data=[\"Accession_Number\", \"Resistance Mechanism\", \"Best_Hit_ARO\", \"Drug Class\", \"AMR Gene Family\"],\n",
    "    color='Best_Hit_ARO',\n",
    ")"
   ]
  },
  {
   "cell_type": "markdown",
   "id": "b0ddaf5d-56a2-4e8b-a369-e696351f28e9",
   "metadata": {
    "tags": []
   },
   "source": [
    "### Klebsiella"
   ]
  },
  {
   "cell_type": "code",
   "execution_count": null,
   "id": "d008ac10-8c96-40c1-b7de-88ad6f96b106",
   "metadata": {},
   "outputs": [],
   "source": [
    "px.bar(\n",
    "    klebplasmidintegrons_df,\n",
    "    x=\"Year_Cultured\",\n",
    "    y=klebplasmidintegrons_df['Year_Cultured'].map((1/klebplasmidintegrons_df['Year_Cultured'].value_counts()).to_dict()),\n",
    "    labels={\"Year_Cultured\": \"Year Cultured\"},\n",
    "    title=\"Best Hit ARO - Kleb Integrons on Plasmid\",\n",
    "    hover_data=[\"Accession_Number\", \"Resistance Mechanism\", \"Best_Hit_ARO\", \"Drug Class\", \"AMR Gene Family\"],\n",
    "    color='Best_Hit_ARO',\n",
    ")"
   ]
  },
  {
   "cell_type": "markdown",
   "id": "5a12e1ba-71a3-4c61-b17a-7361950cbd7f",
   "metadata": {
    "tags": []
   },
   "source": [
    "### Baumannii"
   ]
  },
  {
   "cell_type": "code",
   "execution_count": null,
   "id": "4055e254-d417-489d-8d98-ecc1536e5024",
   "metadata": {},
   "outputs": [],
   "source": [
    "px.bar(\n",
    "    baumanniiplasmidintegrons_df,\n",
    "    x=\"Year_Cultured\",\n",
    "    y=baumanniiplasmidintegrons_df['Year_Cultured'].map((1/baumanniiplasmidintegrons_df['Year_Cultured'].value_counts()).to_dict()),\n",
    "    labels={\"Year_Cultured\": \"Year Cultured\"},\n",
    "    title=\"Best Hit ARO - Baumannii Integrons on Plasmid\",\n",
    "    hover_data=[\"Accession_Number\", \"Resistance Mechanism\", \"Best_Hit_ARO\", \"Drug Class\", \"AMR Gene Family\"],\n",
    "    color='Best_Hit_ARO',\n",
    ")"
   ]
  },
  {
   "cell_type": "markdown",
   "id": "1d86bba4-acdb-474c-9357-5251089cb225",
   "metadata": {
    "tags": []
   },
   "source": [
    "# Perform meta-data analysis"
   ]
  },
  {
   "cell_type": "code",
   "execution_count": null,
   "id": "cf199a33-3ab2-4a00-ae3b-07310c05ce4a",
   "metadata": {},
   "outputs": [],
   "source": [
    "drugyear_usage = {\n",
    "    \"fluoroquinolone antibiotic\": 1962,\n",
    "    \"penam\": 1943,\n",
    "    \"cephalosporin\": 1964,\n",
    "    \"tetracycline antibiotic\": 1948,\n",
    "    \"phenicol antibiotic\": 1949,\n",
    "    \"macrolide antibiotic\": 1952,\n",
    "    \"rifamycin antibiotic\": 1963,\n",
    "    \"aminoglycoside antibiotic\": 1946,\n",
    "    \"peptide antibiotic\": 1941,  # not sure about this one\n",
    "    \"glycylcycline\": 1948,  # using year tetracyclines were introduced clinically\n",
    "    \"triclosan\": 1968,  # using wiki page\n",
    "    \"cephamycin\": 1964,  # using cephalosporin year\n",
    "    \"carbapenem\": 1985,\n",
    "    \"aminocoumarin antibiotic\": 1965,  # best guess from wiki article\n",
    "    \"penem\": 1985,  # using year carbapenems were introduced\n",
    "    \"monobactam\": 1986,\n",
    "    \"disinfecting agents and intercalating dyes\": 1930,  # no clue\n",
    "    \"acridine dye\": 1970,  # no clue?\n",
    "    \"diaminopyrimidine antibiotic\": 1962,\n",
    "    \"elfamycin antibiotic\": 1978,  # no clue\n",
    "    \"fosfomycin\": 1971,\n",
    "    \"nucleoside antibiotic\": 2014,  # no clue, but looks newish\n",
    "    \"lincosamide antibiotic\": 1963,\n",
    "    \"nitroimidazole antibiotic\": 1960,\n",
    "    \"Null\": 1920,\n",
    "    \"benzalkonium chloride\": 1950,  # no clude\n",
    "    \"rhodamine\": 1950,  # no clude\n",
    "    \"sulfonamide antibiotic\": 1936,\n",
    "    \"nitrofuran antibiotic\": 1953,\n",
    "    \"streptogramin antibiotic\": 1965,\n",
    "    \"oxazolidinone antibiotic\": 2000,\n",
    "    \"glycopeptide antibiotic\": 1958,\n",
    "    \"fusidic acid\": 1962,\n",
    "    \"pleuromutilin antibiotic\": 2007,\n",
    "    \"bicyclomycin\": 1972,  # from wiki\n",
    "    \"antibacterial free fatty acids\": 2000,  # noclude\n",
    "    \"para-aminosalicylic acid\": 1943,\n",
    "    \"isoniazid\": 1952,\n",
    "    \"polyamine antibiotic\": 2005,  # no idea\n",
    "}"
   ]
  },
  {
   "cell_type": "code",
   "execution_count": null,
   "id": "73e34329",
   "metadata": {},
   "outputs": [],
   "source": [
    "def measure_obs_distance(dataframe, value, anthro_year, column, sums=False, verbose=False):\n",
    "    num_yearcultured_allstrains_dict = (\n",
    "        dataframe.drop_duplicates(subset=[\"Accession_Number\"])[\"Year_Cultured\"]\n",
    "        .value_counts()\n",
    "        .to_dict()\n",
    "    )\n",
    "    num_yearcultured_valposstrains_dict = (\n",
    "        dataframe.loc[dataframe[column].str.contains(value, na=False, regex=True)]\n",
    "        .drop_duplicates(subset=[\"Accession_Number\"])[\"Year_Cultured\"]\n",
    "        .value_counts()\n",
    "        .to_dict()\n",
    "    )\n",
    "    fractional_dictionary = {}\n",
    "    for years in num_yearcultured_allstrains_dict:\n",
    "        if num_yearcultured_allstrains_dict[years] == 0:\n",
    "            continue\n",
    "        if years in num_yearcultured_valposstrains_dict:\n",
    "            val = [num_yearcultured_valposstrains_dict[years], num_yearcultured_allstrains_dict[years]]\n",
    "            # fraction = (\n",
    "            #     num_yearcultured_valposstrains_dict[years]\n",
    "            #     / num_yearcultured_allstrains_dict[years]\n",
    "            # )\n",
    "        else:\n",
    "            val = [0, num_yearcultured_allstrains_dict[years]]\n",
    "        fractional_dictionary[years] = val\n",
    "\n",
    "    yeardf = (\n",
    "        pd.DataFrame.from_dict(fractional_dictionary, orient=\"index\", columns=[\"num_pos\", \"all\"])\n",
    "        .reset_index()\n",
    "        .rename(columns={\"index\": \"year\"})\n",
    "        .sort_values(by=\"year\")\n",
    "        .reset_index(drop=True)\n",
    "    )\n",
    "    yeardf['frac'] = yeardf['num_pos']/yeardf['all']\n",
    "    if verbose:\n",
    "        print(yeardf)\n",
    "    anthro = {True: \"Pre-Human\", False: \"Post-Human\"}\n",
    "    #line = pd.Index(yeardf[\"year\"]).get_loc(anthro_year)\n",
    "    #yeardf[\"row\"] = np.arange(yeardf.shape[0])\n",
    "    #yeardf[\"Anthropogenicity\"] = \"Pre-Human\"\n",
    "    #yeardf.loc[yeardf[\"row\"] > line, \"Anthropogenicity\"] = \"Post-Human\"\n",
    "    yeardf[\"Anthropogenicity\"] = \"Pre-Human\"\n",
    "    yeardf.loc[yeardf[\"year\"] > anthro_year, \"Anthropogenicity\"] = \"Post-Human\"\n",
    "    \n",
    "    \n",
    "    preanthro_mean = yeardf.loc[yeardf[\"Anthropogenicity\"] == \"Pre-Human\"][\n",
    "        \"frac\"\n",
    "    ].mean()\n",
    "    postanthro_mean = yeardf.loc[yeardf[\"Anthropogenicity\"] == \"Post-Human\"][\n",
    "        \"frac\"\n",
    "    ].mean()\n",
    "    metric = postanthro_mean - preanthro_mean\n",
    "    # print(\"Pre-Human mean fraction = %s\" % (preanthro_mean))\n",
    "    # print(\"Post-Human mean fraction = %s\" % (postanthro_mean))\n",
    "    # print(\"metric = %s\" % (metric))\n",
    "    return yeardf, preanthro_mean, postanthro_mean\n",
    "\n",
    "\n",
    "# shuffle year_cultured information while retaining existing structure.\n",
    "#  i.e. all 1940 strains get remapped to 2019, all 2019 strains get remapped to 1982, etc.\n",
    "def shuffleyears_structured(\n",
    "    dataframe, value, anthro_year, column, verbose=False, simulations=500\n",
    "):\n",
    "    null_distances = []\n",
    "    sortedyears = dataframe[\"Year_Cultured\"].unique()\n",
    "    for sim in range(simulations):\n",
    "        copy_df = dataframe.copy()\n",
    "        shuffledyears = dataframe[\"Year_Cultured\"].sample(frac=1).unique()\n",
    "        remapping = dict(zip(sortedyears, shuffledyears))\n",
    "        copy_df[\"Year_Cultured\"] = dataframe[\"Year_Cultured\"].map(remapping)\n",
    "        yeardf, pre, post = measure_obs_distance(\n",
    "            copy_df, value, anthro_year, column, verbose\n",
    "        )\n",
    "        null_distances.append(post - pre)\n",
    "    return null_distances\n",
    "\n",
    "\n",
    "# shuffle year_cultured information while NOT retaining existing structure.\n",
    "#  i.e. some 1940 strains can get remapped to 2019, some can get remapped to 1930, etc.\n",
    "def shuffleyears_unstructured(\n",
    "    dataframe, value, anthro_year, column, verbose=False, simulations=500\n",
    "):\n",
    "    null_distances = []\n",
    "    sortedyears = dataframe[\"Year_Cultured\"].unique()\n",
    "    uq_strains = (\n",
    "        dataframe.groupby([\"Accession_Number\", \"Year_Cultured\"], sort=False)\n",
    "        .size()\n",
    "        .reset_index()\n",
    "    )\n",
    "    uq_strains.set_index(\"Accession_Number\", inplace=True)\n",
    "    uq_strains.drop(columns=[0, \"Year_Cultured\"], inplace=True)\n",
    "    for sim in range(simulations):\n",
    "        uq_strains[\"RandomChoice\"] = np.random.choice(sortedyears, uq_strains.shape[0])\n",
    "        copy_df = dataframe.copy()\n",
    "        remapping = uq_strains.to_dict()[\"RandomChoice\"]\n",
    "        copy_df[\"Year_Cultured\"] = dataframe[\"Accession_Number\"].map(remapping)\n",
    "        yeardf, pre, post = measure_obs_distance(\n",
    "            copy_df, value, anthro_year, column, verbose\n",
    "        )\n",
    "        null_distances.append(post - pre)\n",
    "    return null_distances"
   ]
  },
  {
   "cell_type": "code",
   "execution_count": null,
   "id": "3b9eb6dc-caa5-4b46-b1cc-1b1019aa262d",
   "metadata": {},
   "outputs": [],
   "source": [
    "def plot_abresist_frac(\n",
    "    df,\n",
    "    ex,\n",
    "    year,\n",
    "    verbose=True,\n",
    "    sims=100,\n",
    "    figname=\"doodoo\",\n",
    "    savefig=False,\n",
    "    smooth=5,\n",
    "    col=\"Drug Class\",\n",
    "    value=\"phenotype\",\n",
    "):\n",
    "\n",
    "    frac_df, pre, post = measure_obs_distance(df, ex, year, col, verbose)\n",
    "    dist = post - pre\n",
    "\n",
    "    # histogram of fraction of strains w/ RGI hits for drug class\n",
    "    plt.figure(figsize=(14, 8))\n",
    "    chart = sns.barplot(data=frac_df, x=\"year\", y=\"frac\", color=\"salmon\", saturation=0.5)\n",
    "    chart.bar_label(chart.containers[0])\n",
    "\n",
    "    plt.axvline(pd.Index(frac_df[\"year\"]).get_loc(year, method=\"nearest\"))\n",
    "    plt.ylabel(\"Fraction of bugs with phenotype\")\n",
    "    plt.xlabel(\"Year\")\n",
    "    plt.xticks(rotation=45)\n",
    "\n",
    "    plt.show()\n",
    "\n",
    "    \n",
    "    \n",
    "    \n",
    "    d = {\"Year\": [], \"frac\": [], \"Anthropogenicity\": []}\n",
    "    for years in range(frac_df[\"year\"].min(), frac_df[\"year\"].max()):\n",
    "        upb = smooth + years\n",
    "        downb = years - smooth\n",
    "        g = frac_df.loc[(frac_df[\"year\"] <= upb) & (downb <= frac_df[\"year\"])]\n",
    "        d[\"Year\"].append(years)\n",
    "        if years >= year:\n",
    "            d[\"Anthropogenicity\"].append(\"Post-Human\")\n",
    "        else:\n",
    "            d[\"Anthropogenicity\"].append(\"Pre-Human\")\n",
    "        d[\"frac\"].append(g[\"frac\"].mean())\n",
    "    \n",
    "    xdf = pd.DataFrame(data=d)\n",
    "    # print(xdf)\n",
    "    fig, axes = plt.subplots(2, 1, figsize=(14, 8), sharex=True)\n",
    "    lp = sns.lineplot(\n",
    "        data=xdf, x=\"Year\", y=\"frac\", markers=True, hue=\"Anthropogenicity\", ax=axes[0]\n",
    "    )\n",
    "    lp.set(ylim=(0, 1))\n",
    "    dp = sns.scatterplot(\n",
    "        data=xdf, x=\"Year\", y=\"frac\", hue=\"Anthropogenicity\", legend=False, ax=axes[0]\n",
    "    )\n",
    "    axes[0].set(ylabel='Fraction of bugs with {}'.format(value))\n",
    "    dp.axvline(year, color=\"red\")\n",
    "    preab_df = xdf.loc[xdf[\"Anthropogenicity\"] == \"Pre-Human\"]\n",
    "    lp.hlines(\n",
    "        y=preab_df[\"frac\"].mean(),\n",
    "        xmin=preab_df[\"Year\"].min(),\n",
    "        xmax=preab_df[\"Year\"].max(),\n",
    "    )\n",
    "\n",
    "    postab_df = xdf.loc[xdf[\"Anthropogenicity\"] == \"Post-Human\"]\n",
    "    lp.hlines(\n",
    "        y=postab_df[\"frac\"].mean(),\n",
    "        xmin=postab_df[\"Year\"].min(),\n",
    "        xmax=postab_df[\"Year\"].max(),\n",
    "    )\n",
    "    \n",
    "    histogram = sns.histplot(data=df.drop_duplicates(subset=[\"Accession_Number\"]), x='Year_Cultured', ax=axes[1])\n",
    "    axes[1].set(ylabel='Count of bugs analyzed', xlabel=\"Year Cultured\")\n",
    "    \n",
    "    if savefig:\n",
    "        plt.savefig(\n",
    "            \"fractionofresist_{}.png\".format(figname), bbox_inches=\"tight\", dpi=100\n",
    "        )\n",
    "    plt.show()\n",
    "    \n",
    "    if sims == 0: return\n",
    "\n",
    "    preab_mean = frac_df.loc[frac_df[\"Anthropogenicity\"] == \"Pre-Human\"][\"frac\"].mean()\n",
    "    postab_mean = frac_df.loc[frac_df[\"Anthropogenicity\"] == \"Post-Human\"][\n",
    "        \"frac\"\n",
    "    ].mean()\n",
    "\n",
    "    nulldist = shuffleyears_structured(df, ex, year, col, verbose, simulations=sims)\n",
    "    plt.figure(figsize=(14, 8))\n",
    "    sns.histplot(nulldist, stat='density')\n",
    "    xmin, xmax = plt.xlim()\n",
    "    mu_struct, std_struct = norm.fit(nulldist)\n",
    "    x = np.linspace(xmin, xmax, sims)\n",
    "    y_pdf = norm.pdf(x, mu_struct, std_struct)\n",
    "    plt.plot(x, y_pdf, \"k\", linewidth=2)\n",
    "    plt.axvline(dist, color=\"red\", label=\"Observed $\\Delta$ = {:.3f}\".format(dist))\n",
    "    plt.legend()\n",
    "    plt.title(\"Structured Shuffling\")\n",
    "    plt.xlabel(\"Null $\\Delta$ distribution in {} simulations\".format(sims))\n",
    "    if savefig:\n",
    "        plt.savefig(\"structuredshuffling_{}.png\".format(figname))\n",
    "    plt.show()\n",
    "    pval = norm.cdf(dist, mu_struct, std_struct)\n",
    "    if pval > 0.5:\n",
    "        pval = 1 - pval\n",
    "    print(\"P-value (structured) = {:.4f}\".format(pval))\n",
    "\n",
    "    nulldist = shuffleyears_unstructured(df, ex, year, col, verbose, simulations=sims)\n",
    "    plt.figure(figsize=(14, 8))\n",
    "    sns.histplot(nulldist, stat='density')\n",
    "    xmin, xmax = plt.xlim()\n",
    "    mu_unstruct, std_unstruct = norm.fit(nulldist)\n",
    "    x = np.linspace(xmin, xmax, sims)\n",
    "    y_pdf = norm.pdf(x, mu_unstruct, std_unstruct)\n",
    "    plt.plot(x, y_pdf, \"k\", linewidth=2)\n",
    "    plt.axvline(dist, color=\"red\", label=\"Observed $\\Delta$ = {:.3f}\".format(dist))\n",
    "    plt.legend()\n",
    "    plt.title(\"Unstructured Shuffling\")\n",
    "    plt.xlabel(\"Null $\\Delta$ distribution in {} simulations\".format(sims))\n",
    "    if savefig:\n",
    "        plt.savefig(\"unstructuredshuffling_{}.png\".format(figname))\n",
    "    plt.show()\n",
    "    pval = norm.cdf(dist, mu_unstruct, std_unstruct)\n",
    "    if pval > 0.5:\n",
    "        pval = 1 - pval\n",
    "    print(\"P-value (unstructured) = {:.4f}\".format(pval))"
   ]
  },
  {
   "cell_type": "markdown",
   "id": "c11b9c10-5a19-4c8a-8182-dc9b0cdfd080",
   "metadata": {},
   "source": [
    "## Drug Class - P Values Simulations"
   ]
  },
  {
   "cell_type": "code",
   "execution_count": null,
   "id": "3136923b-a3ec-4f63-be00-8a0540d74c2a",
   "metadata": {},
   "outputs": [],
   "source": [
    "confident_drugyears = [\"fluoroquinolone antibiotic\", \"penam\", \"cephalosporin\", \"tetracycline antibiotic\", \n",
    "                      \"phenicol antibiotic\", \"macrolide antibiotic\", \"rifamycin antibiotic\", \"aminoglycoside antibiotic\",\n",
    "                      \"carbapenem\", \"monobactam\", \"diaminopyrimidine antibiotic\", \"fosfomycin\", \"lincosamide antibiotic\",\n",
    "                      \"nitroimidazole antibiotic\", \"sulfonamide antibiotic\", \"nitrofuran antibiotic\", \"streptogramin antibiotic\",\n",
    "                      \"oxazolidinone antibiotic\", \"glycopeptide antibiotic\", \"fusidic acid\", \"pleuromutilin antibiotic\", \n",
    "                      \"para-aminosalicylic acid\", \"isoniazid\"]"
   ]
  },
  {
   "cell_type": "code",
   "execution_count": null,
   "id": "8b57b932-33f3-4ba0-a43a-db72ec12dd4b",
   "metadata": {},
   "outputs": [],
   "source": [
    "drug_count = {}\n",
    "for x in list(df[\"Drug Class\"]):\n",
    "    classes = x.split(\"; \")\n",
    "    for c in classes:\n",
    "        if c in drug_count:\n",
    "            drug_count[c] += 1\n",
    "        else:\n",
    "            drug_count[c] = 1\n",
    "allbugs_allresist = pd.read_csv('./10000sims-ALL-pvalues', names=['Drug Class', 'Delta', 'Struct_Pval', 'Unstruct_Pval'], skiprows=[0])\n",
    "allbugs_allresist['NumHits'] = allbugs_allresist['Drug Class'].map(drug_count)\n",
    "allbugs_allresist = allbugs_allresist.loc[allbugs_allresist['Drug Class'].str.match('|'.join(confident_drugyears))].sort_values('Struct_Pval')\n",
    "allbugs_allresist"
   ]
  },
  {
   "cell_type": "code",
   "execution_count": null,
   "id": "763c03b0-99fe-4572-b862-dd77aed0f2a2",
   "metadata": {},
   "outputs": [],
   "source": [
    "plot_abresist_frac(\n",
    "    df=df,\n",
    "    ex='aminoglycoside antibiotic',\n",
    "    year=drugyear_usage['aminoglycoside antibiotic'],\n",
    "    sims=0,\n",
    "    verbose=True,\n",
    "    col='Drug Class',\n",
    "    value=\"\",\n",
    "    savefig=False,\n",
    ")"
   ]
  },
  {
   "cell_type": "code",
   "execution_count": null,
   "id": "5cc0c95b-dfa8-411e-aa7f-416f543bb520",
   "metadata": {},
   "outputs": [],
   "source": [
    "drug_count = {}\n",
    "for x in list(df.loc[~df['Resistance Mechanism'].str.match('antibiotic efflux')]['Drug Class']):\n",
    "    classes = x.split(\"; \")\n",
    "    for c in classes:\n",
    "        if c in drug_count:\n",
    "            drug_count[c] += 1\n",
    "        else:\n",
    "            drug_count[c] = 1\n",
    "allbugs_noeff = pd.read_csv('./10000sims-ALL-noefflux-pvalues', names=['Drug Class', 'Delta', 'Struct_Pval', 'Unstruct_Pval'], skiprows=[0])\n",
    "allbugs_noeff['NumHits'] = allbugs_noeff['Drug Class'].map(drug_count)\n",
    "allbugs_noeff = allbugs_noeff.loc[allbugs_noeff['Drug Class'].str.match('|'.join(confident_drugyears))].sort_values('Struct_Pval')\n",
    "allbugs_noeff"
   ]
  },
  {
   "cell_type": "code",
   "execution_count": null,
   "id": "22fb54a0-0a33-476f-8b52-667ed9447662",
   "metadata": {},
   "outputs": [],
   "source": [
    "eskape_bugs = [\"Enterococcus faecium\", \"Staphylococcus aureus\", \"Klebsiella pneumoniae\", \"Acinetobacter baumannii\", \"Pseudomonas aeruginosa\", \"Enterobacter\"]\n",
    "eskapedf = df.loc[df['Strain'].str.contains('|'.join(eskape_bugs))].copy()\n",
    "eskapedf['SpeciesName'] = \"NONE\"\n",
    "eskapedf.loc[eskapedf['Strain'].str.contains(\"Enterococcus faecium\"), 'SpeciesName'] = \"Enterococcus faecium\"\n",
    "eskapedf.loc[eskapedf['Strain'].str.contains(\"Staphylococcus aureus\"), 'SpeciesName'] = \"Staphylococcus aureus\"\n",
    "eskapedf.loc[eskapedf['Strain'].str.contains(\"Klebsiella pneumoniae\"), 'SpeciesName'] = \"Klebsiella pneumoniae\"\n",
    "eskapedf.loc[eskapedf['Strain'].str.contains(\"Acinetobacter baumannii\"), 'SpeciesName'] = \"Acinetobacter baumannii\"\n",
    "eskapedf.loc[eskapedf['Strain'].str.contains(\"Pseudomonas aeruginosa\"), 'SpeciesName'] = \"Pseudomonas aeruginosa\"\n",
    "eskapedf.loc[eskapedf['Strain'].str.contains(\"Enterobacter\"), 'SpeciesName'] = \"Enterobacter\"\n",
    "\n",
    "eskape_integron = rgiintegron.loc[rgiintegron['Strain'].str.contains('|'.join(eskape_bugs))].copy()\n",
    "eskapedf['Integron'] = 'False'\n",
    "m = eskapedf['ORF_ID'].isin(eskape_integron['ORF_ID'])\n",
    "eskapedf.loc[m, 'Integron'] = 'True'\n",
    "# eskapedf['Integron'].value_counts()\n",
    "\n",
    "eskapedf['Plasmid'] = 'Null'\n",
    "eskapedf.loc[(eskapedf['SpeciesName']==\"Klebsiella pneumoniae\") | (eskapedf['SpeciesName']==\"Enterococcus faecium\") | (eskapedf['SpeciesName']==\"Acinetobacter baumannii\"), 'Plasmid'] = 'False'\n",
    "eskapedf.loc[eskapedf['ORF_ID'].isin(pd.concat([faeciumplasmids_df, baumanniiplasmids_df, klebplasmids_df])['ORF_ID']), 'Plasmid'] = 'True'\n",
    "df.drop_duplicates('Accession_Number')['Strain'].value_counts()"
   ]
  },
  {
   "cell_type": "code",
   "execution_count": null,
   "id": "fb09bc44-4772-45b5-b7f3-d2b5b060fb13",
   "metadata": {},
   "outputs": [],
   "source": [
    "drug_count = {}\n",
    "for x in list(eskapedf['Drug Class']):\n",
    "    classes = x.split(\"; \")\n",
    "    for c in classes:\n",
    "        if c in drug_count:\n",
    "            drug_count[c] += 1\n",
    "        else:\n",
    "            drug_count[c] = 1\n",
    "# print(drug_count)\n",
    "eskape_allresist = pd.read_csv('./10000sims-ESKAPE-pvalues', names=['Drug Class', 'Delta', 'Struct_Pval', 'Unstruct_Pval'], skiprows=[0])\n",
    "eskape_allresist['NumHits'] = eskape_allresist['Drug Class'].map(drug_count)\n",
    "eskape_allresist = eskape_allresist.loc[eskape_allresist['Drug Class'].str.match('|'.join(confident_drugyears))].sort_values('Struct_Pval')\n",
    "eskape_allresist"
   ]
  },
  {
   "cell_type": "code",
   "execution_count": null,
   "id": "21c6ec99-3fe1-491b-9214-4da13bfbfb6b",
   "metadata": {},
   "outputs": [],
   "source": [
    "drug_count = {}\n",
    "for x in list(eskapedf.loc[~eskapedf['Resistance Mechanism'].str.match('antibiotic efflux')]['Drug Class']):\n",
    "    classes = x.split(\"; \")\n",
    "    for c in classes:\n",
    "        if c in drug_count:\n",
    "            drug_count[c] += 1\n",
    "        else:\n",
    "            drug_count[c] = 1\n",
    "# print(drug_count)\n",
    "eskape_noeff = pd.read_csv('./10000sims-ESKAPE-noefflux-pvalues', names=['Drug Class', 'Delta', 'Struct_Pval', 'Unstruct_Pval'], skiprows=[0])\n",
    "eskape_noeff['NumHits'] = eskape_noeff['Drug Class'].map(drug_count)\n",
    "eskape_noeff = eskape_noeff.loc[eskape_noeff['Drug Class'].str.match('|'.join(confident_drugyears))].sort_values('Struct_Pval')\n",
    "eskape_noeff"
   ]
  },
  {
   "cell_type": "code",
   "execution_count": null,
   "id": "4c5368bc-09f2-42a6-a8e5-2b205e59320f",
   "metadata": {},
   "outputs": [],
   "source": [
    "allbugs_allresist['Dataset'] = 'Full Data'\n",
    "allbugs_noeff['Dataset'] = 'Full Data'\n",
    "eskape_noeff['Dataset'] = 'ESKAPE'\n",
    "eskape_allresist['Dataset'] = 'ESKAPE'\n",
    "allbugs_allresist['Mechanism'] = 'All'\n",
    "allbugs_noeff['Mechanism'] = 'No Efflux'\n",
    "eskape_noeff['Mechanism'] = 'No Efflux'\n",
    "eskape_allresist['Mechanism'] = 'All'\n",
    "tenthousandsims_values = pd.concat([allbugs_noeff.loc[allbugs_noeff['NumHits']>10], allbugs_allresist.loc[allbugs_allresist['NumHits']>10], eskape_noeff.loc[eskape_noeff['NumHits']>10],\n",
    "                                    eskape_allresist.loc[eskape_allresist['NumHits']>10]])"
   ]
  },
  {
   "cell_type": "code",
   "execution_count": null,
   "id": "8af656d2-c116-401c-b593-4773a08a7ebe",
   "metadata": {},
   "outputs": [],
   "source": [
    "fig = px.scatter(\n",
    "    tenthousandsims_values,\n",
    "    x='Drug Class',\n",
    "    y='Struct_Pval',\n",
    "    symbol='Mechanism',\n",
    "    # stripmode='overlay',\n",
    "    color='Dataset',\n",
    "    hover_data=['NumHits'],\n",
    "    # log_y=True,\n",
    "    labels={\"Struct_Pval\": \"P-value\"},\n",
    "    title=\"Significance of human production of a given drug class on resistome\"\n",
    ")\n",
    "fig.add_hline(y=0.1, annotation_text=\"P-value = 0.1\")\n",
    "# fig.write_image(\"drugclass_pvals.pdf\")"
   ]
  },
  {
   "cell_type": "markdown",
   "id": "b840eed2-1f0c-49dc-bb5b-cc150cfe8eeb",
   "metadata": {},
   "source": [
    "## Beta-lactam resistance"
   ]
  },
  {
   "cell_type": "code",
   "execution_count": null,
   "id": "30eb7f43-7549-4f8f-8f94-4424b816ae24",
   "metadata": {},
   "outputs": [],
   "source": [
    "betalactams = [\"penam\", \"cephalosporin\", \"cephamycin\", \"monobactam\", \"carbapenem\"]\n",
    "eskape_blactam_resist = eskapedf.loc[eskapedf['Drug Class'].str.contains(\"|\".join(betalactams))]\n",
    "df_blactam_resist = df.loc[df['Drug Class'].str.contains('|'.join(betalactams))]"
   ]
  },
  {
   "cell_type": "code",
   "execution_count": null,
   "id": "d7c4a3b3-1ccc-4002-af60-70fb03d962f4",
   "metadata": {},
   "outputs": [],
   "source": [
    "# df.groupby('S"
   ]
  },
  {
   "cell_type": "code",
   "execution_count": null,
   "id": "421c8eca-1472-4061-9f71-a0d692cc946a",
   "metadata": {},
   "outputs": [],
   "source": [
    "df_betalactamase = df.loc[df['AMR Gene Family'].str.contains('beta-lactamase')]\n",
    "df_blactamase_whocrit = df_betalactamase.loc[df_betalactamase['Strain'].str.contains('Acinetobacter baumannii|Pseudomonas aeruginosa|Klebsiella pneumonia|Escherichia coli|Enterobacter|Serratia|Proteus|Providencia|Morganella')]\n",
    "px.bar(df_betalactamase.loc[df_betalactamase['Strain'].str.contains('Escherichia coli')],\n",
    "       x=\"Year_Cultured\",\n",
    "       y=df_betalactamase.loc[df_betalactamase['Strain'].str.contains('Escherichia coli')]['Year_Cultured'].map((1/df_betalactamase.loc[df_betalactamase['Strain'].str.contains('Escherichia coli')]['Year_Cultured'].value_counts()).to_dict()),\n",
    "       hover_data=[\"Accession_Number\", \"Resistance Mechanism\", \"Best_Hit_ARO\", \"Drug Class\", \"AMR Gene Family\", \"Strain\"],\n",
    "       color=\"Drug Class\"\n",
    ")"
   ]
  },
  {
   "cell_type": "code",
   "execution_count": null,
   "id": "a5f37281-c78a-4afe-9de1-68ef17d02c51",
   "metadata": {},
   "outputs": [],
   "source": [
    "df.loc[df['AMR Gene Family'].str.contains('beta-lactamase')]['AMR Gene Family'].value_counts().head(20)"
   ]
  },
  {
   "cell_type": "code",
   "execution_count": null,
   "id": "2b943c95-186d-473a-8cce-035b289d7a08",
   "metadata": {},
   "outputs": [],
   "source": [
    "plot_abresist_frac(\n",
    "    df=df.loc[df['Strain'].str.contains('Kleb')],\n",
    "    ex='SHV beta-lactamase',\n",
    "    year=1943,\n",
    "    sims=100,\n",
    "    verbose=False,\n",
    "    col='AMR Gene Family',\n",
    "    value=\"≥ 1 SHV Beta-Lactamase\",\n",
    "    savefig=False,\n",
    "    smooth=5,\n",
    "    figname=\"beta-lactamases_ALL\"\n",
    ")"
   ]
  },
  {
   "cell_type": "code",
   "execution_count": null,
   "id": "ca18097e-6ec4-4de4-8d37-2c02039b715d",
   "metadata": {},
   "outputs": [],
   "source": [
    "plot_abresist_frac(\n",
    "    df=df_betalactamase.loc[df_betalactamase['Strain'].str.contains('Escherichia coli')],\n",
    "    ex='TEM beta-lactamase',\n",
    "    year=1943,\n",
    "    sims=100,\n",
    "    verbose=False,\n",
    "    col='AMR Gene Family',\n",
    "    value=\"≥ 1 SHV Beta-Lactamase\",\n",
    "    savefig=False,\n",
    "    smooth=5,\n",
    "    figname=\"beta-lactamases_ALL\"\n",
    ")"
   ]
  },
  {
   "cell_type": "code",
   "execution_count": null,
   "id": "415dd478-6489-4ae1-ba25-2174a225796b",
   "metadata": {},
   "outputs": [],
   "source": [
    "px.bar(df_blactam_resist,\n",
    "       x=\"Year_Cultured\",\n",
    "       y=df_blactam_resist['Year_Cultured'].map((1/df_blactam_resist['Year_Cultured'].value_counts()).to_dict()),\n",
    "       hover_data=[\"Accession_Number\", \"Resistance Mechanism\", \"Best_Hit_ARO\", \"Drug Class\", \"AMR Gene Family\", \"Strain\"],\n",
    "       color=\"Resistance Mechanism\"\n",
    ")"
   ]
  },
  {
   "cell_type": "markdown",
   "id": "0366c1e7-b281-4774-a4c9-697029848b85",
   "metadata": {},
   "source": [
    "### Carbapenem - WHO Critical "
   ]
  },
  {
   "cell_type": "code",
   "execution_count": null,
   "id": "d51c94d0-d72f-4fd3-9315-e47d484513eb",
   "metadata": {},
   "outputs": [],
   "source": [
    "criticalcarbapenem_strains = df.loc[df['Strain'].str.contains('Acinetobacter baumannii|Pseudomonas aeruginosa|Klebsiella pneumonia|Escherichia coli|Enterobacter|Serratia|Proteus|Providencia|Morganella')]\n",
    "px.histogram(\n",
    "    criticalcarbapenem_strains.drop_duplicates('Accession_Number'),\n",
    "    x='Year_Cultured',\n",
    "    hover_data=[\"Accession_Number\", \"Resistance Mechanism\", \"Best_Hit_ARO\", \"Drug Class\", \"AMR Gene Family\", \"Strain\"],\n",
    "    color='Strain'\n",
    ")\n",
    "    #     x=\"Year_Cultured\",\n",
    "#     y=df.loc[df['Drug Class'].str.contains('carbapenem')]['Year_Cultured'].map((1/df.loc[df['Drug Class'].str.contains('carbapenem')]['Year_Cultured'].value_counts()).to_dict()),\n",
    "\n",
    "#     color=\"Resistance Mechanism\"\n",
    "# )"
   ]
  },
  {
   "cell_type": "code",
   "execution_count": null,
   "id": "33dd2036-8af2-4a3a-b221-855b7cc28d5b",
   "metadata": {},
   "outputs": [],
   "source": [
    "criticalcarbapenem_strains = df.loc[df['Strain'].str.contains('Acinetobacter baumannii|Pseudomonas aeruginosa|Klebsiella pneumonia|Escherichia coli|Enterobacter|Serratia|Proteus|Providencia|Morganella')]\n",
    "px.bar(\n",
    "    criticalcarbapenem_resist,\n",
    "    x=\"Year_Cultured\",\n",
    "    y=criticalcarbapenem_resist['Year_Cultured'].map((1/criticalcarbapenem_resist['Year_Cultured'].value_counts()).to_dict()),\n",
    "    hover_data=[\"Accession_Number\", \"Resistance Mechanism\", \"Best_Hit_ARO\", \"Drug Class\", \"AMR Gene Family\", \"Strain\"],\n",
    "    color=\"Best_Hit_ARO\"\n",
    ")"
   ]
  },
  {
   "cell_type": "code",
   "execution_count": null,
   "id": "b7f8d810-3cc0-4ab1-99c0-b37ef6b5d006",
   "metadata": {},
   "outputs": [],
   "source": [
    "criticalcarbapenem_resist = criticalcarbapenem_strains.loc[criticalcarbapenem_strains['Drug Class'].str.contains('carbapenem')]\n",
    "px.bar(\n",
    "    criticalcarbapenem_resist,\n",
    "    x=\"Year_Cultured\",\n",
    "    y=criticalcarbapenem_resist['Year_Cultured'].map((1/criticalcarbapenem_resist['Year_Cultured'].value_counts()).to_dict()),\n",
    "    hover_data=[\"Accession_Number\", \"Resistance Mechanism\", \"Best_Hit_ARO\", \"Drug Class\", \"AMR Gene Family\", \"Strain\"],\n",
    "    color=\"Best_Hit_ARO\"\n",
    ")"
   ]
  },
  {
   "cell_type": "code",
   "execution_count": null,
   "id": "d6868176-84dc-4dc4-9bae-0bc6229fac8b",
   "metadata": {},
   "outputs": [],
   "source": [
    "criticalcarbapenem_strains = criticalcarbapenem_strains.loc[~criticalcarbapenem_strains['Resistance Mechanism'].str.contains('antibiotic efflux')]\n",
    "criticalcarbapenem_resist = criticalcarbapenem_strains.loc[criticalcarbapenem_strains['Drug Class'].str.contains('carbapenem')]\n",
    "fig = px.bar(\n",
    "    criticalcarbapenem_resist,\n",
    "    x=\"Year_Cultured\",\n",
    "    y=criticalcarbapenem_resist['Year_Cultured'].map((1/criticalcarbapenem_resist['Year_Cultured'].value_counts()).to_dict()),\n",
    "    hover_data=[\"Accession_Number\", \"Resistance Mechanism\", \"Best_Hit_ARO\", \"Drug Class\", \"AMR Gene Family\", \"Strain\"],\n",
    "    color=\"AMR Gene Family\",\n",
    "    labels={\"y\": \"Normalized carbapenem resistant genes\", \"Year_Cultured\": \"Year Cultured\"}\n",
    ")\n",
    "fig.add_vline(x=1985, annotation_text=\"1985\")\n"
   ]
  },
  {
   "cell_type": "code",
   "execution_count": null,
   "id": "3dc624af-b549-4060-aaab-3b03c00f7cb1",
   "metadata": {},
   "outputs": [],
   "source": [
    "fig = px.bar(\n",
    "    criticalcarbapenem_resist.drop_duplicates('Accession_Number'),\n",
    "    x=\"Year_Cultured\",\n",
    "    y=criticalcarbapenem_resist.drop_duplicates('Accession_Number')['Year_Cultured'].map((1/criticalcarbapenem_resist.drop_duplicates('Accession_Number')['Year_Cultured'].value_counts()).to_dict()),\n",
    "    hover_data=[\"Accession_Number\", \"Resistance Mechanism\", \"Best_Hit_ARO\", \"Drug Class\", \"AMR Gene Family\", \"Strain\"],\n",
    "    color=\"Strain\",\n",
    "    labels={\"y\": \"Normalized WHO critical pathogens <br> with predicted carbapanem resistance\", \"Year_Cultured\": \"Year Cultured\"}\n",
    ")\n",
    "fig.show()"
   ]
  },
  {
   "cell_type": "code",
   "execution_count": null,
   "id": "b7a38722-bdb9-4f9c-8abd-bb0952846535",
   "metadata": {},
   "outputs": [],
   "source": [
    "fig = px.bar(\n",
    "    criticalcarbapenem_resist,\n",
    "    x=\"Year_Cultured\",\n",
    "    y=criticalcarbapenem_resist['Year_Cultured'].map((1/criticalcarbapenem_resist['Year_Cultured'].value_counts()).to_dict()),\n",
    "    hover_data=[\"Accession_Number\", \"Resistance Mechanism\", \"Best_Hit_ARO\", \"Drug Class\", \"AMR Gene Family\", \"Strain\"],\n",
    "    labels={\"y\": \"Normalized carbapenem resistant genes\", \"Year_Cultured\": \"Year Cultured\"},\n",
    "    color=\"NumDrugClasses\"\n",
    ")\n",
    "fig.add_vline(x=1985, annotation_text=\"1985\")"
   ]
  },
  {
   "cell_type": "code",
   "execution_count": null,
   "id": "efb47c01-9b8b-4cc8-ba9b-4ed80fea1f44",
   "metadata": {},
   "outputs": [],
   "source": [
    "coli_resist = criticalcarbapenem_resist.loc[~criticalcarbapenem_resist['Strain'].str.contains('Pseud')]\n",
    "fig = px.bar(\n",
    "    coli_resist,\n",
    "    x=\"Year_Cultured\",\n",
    "    y=coli_resist['Year_Cultured'].map((1/coli_resist['Year_Cultured'].value_counts()).to_dict()),\n",
    "    hover_data=[\"Accession_Number\", \"Resistance Mechanism\", \"Best_Hit_ARO\", \"Drug Class\", \"AMR Gene Family\", \"Strain\"],\n",
    "    labels={\"y\": \"Normalized carbapenem resistant genes\", \"Year_Cultured\": \"Year Cultured\"},\n",
    "    color=\"AMR Gene Family\"\n",
    ")\n",
    "fig.add_vline(x=1985, annotation_text=\"1985\")"
   ]
  },
  {
   "cell_type": "code",
   "execution_count": null,
   "id": "448a8620-e187-4bda-a78a-7b479a7a88e6",
   "metadata": {},
   "outputs": [],
   "source": [
    "coli_resist = criticalcarbapenem_resist.loc[~criticalcarbapenem_resist['Strain'].str.contains('Pseud')]\n",
    "fig = px.bar(\n",
    "    coli_resist,\n",
    "    x=\"Year_Cultured\",\n",
    "    y=coli_resist['Year_Cultured'].map((1/coli_resist['Year_Cultured'].value_counts()).to_dict()),\n",
    "    hover_data=[\"Accession_Number\", \"Resistance Mechanism\", \"Best_Hit_ARO\", \"Drug Class\", \"AMR Gene Family\", \"Strain\"],\n",
    "    labels={\"y\": \"Normalized carbapenem resistant genes\", \"Year_Cultured\": \"Year Cultured\", \"NumDrugClasses\":\"Number of Drug Classes <br> resistance conferred to\"},\n",
    "    color=\"NumDrugClasses\"\n",
    ")\n",
    "fig.add_vline(x=1985, annotation_text=\"1985\")"
   ]
  },
  {
   "cell_type": "code",
   "execution_count": null,
   "id": "0d5d4f4b-a1e9-484b-9adb-271f6249b137",
   "metadata": {},
   "outputs": [],
   "source": [
    "plot_abresist_frac(\n",
    "    df=criticalcarbapenem_strains,\n",
    "    ex='carbapenem',\n",
    "    year=1985,\n",
    "    sims=10000,\n",
    "    verbose=False,\n",
    "    col='Drug Class',\n",
    "    value=\"≥ 1 Carbapenem Resistance Gene\",\n",
    "    savefig=False,\n",
    "    figname=\"beta-lactamases_ALL\"\n",
    ")"
   ]
  },
  {
   "cell_type": "code",
   "execution_count": null,
   "id": "e3188410-8831-4109-813c-aa6c85b6152c",
   "metadata": {},
   "outputs": [],
   "source": [
    "px.bar(\n",
    "    df.loc[df['AMR Gene Family'].str.contains('quinolone resistan')],\n",
    "    x=\"Year_Cultured\",\n",
    "    y=df.loc[df['AMR Gene Family'].str.contains('quinolone resistan')]['Year_Cultured'].map((1/df.loc[df['AMR Gene Family'].str.contains('quinolone resistan')]['Year_Cultured'].value_counts()).to_dict()),\n",
    "    hover_data=[\"Accession_Number\", \"Resistance Mechanism\", \"Best_Hit_ARO\", \"Drug Class\", \"AMR Gene Family\", \"Strain\"],\n",
    "    color=\"AMR Gene Family\",\n",
    "    labels={\"y\": \"Normalized fluoroquinolone <br> resistant genes\", \"Year_Cultured\": \"Year Cultured\", \"NumDrugClasses\":\"Number of Drug Classes <br> resistance conferred to\"}\n",
    ")"
   ]
  },
  {
   "cell_type": "markdown",
   "id": "49e8cddc-42f3-49fd-9de3-a6735dfadb04",
   "metadata": {},
   "source": [
    "## Fluoroquinolone"
   ]
  },
  {
   "cell_type": "code",
   "execution_count": null,
   "id": "551b0ee3-4783-4180-bf84-1acf8747c381",
   "metadata": {},
   "outputs": [],
   "source": [
    "fluoroquin_resist = df.loc[df['Drug Class'].str.contains('fluoroquinolone')]\n",
    "fluoroquin_resist = fluoroquin_resist.loc[~fluoroquin_resist['Resistance Mechanism'].str.contains('antibiotic efflux')]\n",
    "salm_resist = fluoroquin_resist.loc[fluoroquin_resist['Strain'].str.contains('Salm')]"
   ]
  },
  {
   "cell_type": "code",
   "execution_count": null,
   "id": "306f58d1-9b48-411e-807a-da1377e85259",
   "metadata": {},
   "outputs": [],
   "source": [
    "fluoroquin_resist['Strain'].value_counts()"
   ]
  },
  {
   "cell_type": "code",
   "execution_count": null,
   "id": "28769cbf-dc48-4c2a-84ce-ed1b08c95847",
   "metadata": {},
   "outputs": [],
   "source": [
    "px.histogram(\n",
    "    fluoroquin_resist.drop_duplicates('Accession_Number'),\n",
    "    x='Strain'\n",
    ")"
   ]
  },
  {
   "cell_type": "code",
   "execution_count": null,
   "id": "cb209167-8db4-48d1-b86d-052063fbf4c9",
   "metadata": {},
   "outputs": [],
   "source": [
    "px.bar(\n",
    "    salm_resist,\n",
    "    x=\"Year_Cultured\",\n",
    "    y=salm_resist['Year_Cultured'].map((1/salm_resist['Year_Cultured'].value_counts()).to_dict()),\n",
    "    hover_data=[\"Accession_Number\", \"Resistance Mechanism\", \"Best_Hit_ARO\", \"Drug Class\", \"AMR Gene Family\", \"Strain\"],\n",
    "    color=\"AMR Gene Family\"\n",
    ")"
   ]
  },
  {
   "cell_type": "code",
   "execution_count": null,
   "id": "a9a08855-ad5c-4faf-9b4c-68da5ab587e0",
   "metadata": {},
   "outputs": [],
   "source": [
    "px.bar(\n",
    "    df.loc[df['AMR Gene Family'].str.contains('quinolone resistan')],\n",
    "    x=\"Year_Cultured\",\n",
    "    y=df.loc[df['AMR Gene Family'].str.contains('quinolone resistan')]['Year_Cultured'].map((1/df.loc[df['AMR Gene Family'].str.contains('quinolone resistan')]['Year_Cultured'].value_counts()).to_dict()),\n",
    "    hover_data=[\"Accession_Number\", \"Resistance Mechanism\", \"Best_Hit_ARO\", \"Drug Class\", \"AMR Gene Family\", \"Strain\"],\n",
    "    color=\"Best_Hit_ARO\"\n",
    ")"
   ]
  },
  {
   "cell_type": "code",
   "execution_count": null,
   "id": "23a21c1a-ad6e-4fc0-98bf-bfafe67faaf0",
   "metadata": {},
   "outputs": [],
   "source": [
    "px.bar(\n",
    "    df.loc[df['AMR Gene Family'].str.contains('quinolone resistan')],\n",
    "    x=\"Year_Cultured\",\n",
    "    y=df.loc[df['AMR Gene Family'].str.contains('quinolone resistan')]['Year_Cultured'].map((1/df.loc[df['AMR Gene Family'].str.contains('quinolone resistan')]['Year_Cultured'].value_counts()).to_dict()),\n",
    "    hover_data=[\"Accession_Number\", \"Resistance Mechanism\", \"Best_Hit_ARO\", \"Drug Class\", \"AMR Gene Family\", \"Strain\"],\n",
    "    color=\"Strain\"\n",
    ")"
   ]
  },
  {
   "cell_type": "code",
   "execution_count": null,
   "id": "815aeb4d-8073-4450-be11-3e39b6ac04ee",
   "metadata": {},
   "outputs": [],
   "source": [
    "df.loc[df['Accession_Number'] == 'NCTC13669']['Drug Class']"
   ]
  },
  {
   "cell_type": "code",
   "execution_count": null,
   "id": "51a64436-4d21-43c2-b81e-3b46906ce703",
   "metadata": {},
   "outputs": [],
   "source": [
    "plot_abresist_frac(\n",
    "    df=df.loc[~df['Resistance Mechanism'].str.contains('antibiotic efflux') & df['Strain'].str.contains('Escherichia coli')],\n",
    "    ex='fluoroquinolone antibiotic',\n",
    "    year=1962,\n",
    "    sims=1000,\n",
    "    verbose=False,\n",
    "    col='Drug Class',\n",
    "    value=\"≥ 1 Carbapenem Resistance Gene\",\n",
    "    savefig=False,\n",
    "    figname=\"beta-lactamases_ALL\"\n",
    ")"
   ]
  },
  {
   "cell_type": "markdown",
   "id": "0c0e9ad2-3952-4fbe-9e58-aa3517647f9b",
   "metadata": {
    "tags": []
   },
   "source": [
    "# ESKAPE-specific analysis"
   ]
  },
  {
   "cell_type": "code",
   "execution_count": null,
   "id": "3ba5b932-193e-440d-9c33-99210c5c6e0a",
   "metadata": {},
   "outputs": [],
   "source": [
    "eskape_bugs = [\"Enterococcus faecium\", \"Staphylococcus aureus\", \"Klebsiella pneumoniae\", \"Acinetobacter baumannii\", \"Pseudomonas aeruginosa\", \"Enterobacter\"]\n",
    "eskapedf = df.loc[df['Strain'].str.contains('|'.join(eskape_bugs))].copy()\n",
    "eskapedf['SpeciesName'] = \"NONE\"\n",
    "eskapedf.loc[eskapedf['Strain'].str.contains(\"Enterococcus faecium\"), 'SpeciesName'] = \"Enterococcus faecium\"\n",
    "eskapedf.loc[eskapedf['Strain'].str.contains(\"Staphylococcus aureus\"), 'SpeciesName'] = \"Staphylococcus aureus\"\n",
    "eskapedf.loc[eskapedf['Strain'].str.contains(\"Klebsiella pneumoniae\"), 'SpeciesName'] = \"Klebsiella pneumoniae\"\n",
    "eskapedf.loc[eskapedf['Strain'].str.contains(\"Acinetobacter baumannii\"), 'SpeciesName'] = \"Acinetobacter baumannii\"\n",
    "eskapedf.loc[eskapedf['Strain'].str.contains(\"Pseudomonas aeruginosa\"), 'SpeciesName'] = \"Pseudomonas aeruginosa\"\n",
    "eskapedf.loc[eskapedf['Strain'].str.contains(\"Enterobacter\"), 'SpeciesName'] = \"Enterobacter\"\n",
    "\n",
    "eskape_integron = rgiintegron.loc[rgiintegron['Strain'].str.contains('|'.join(eskape_bugs))].copy()\n",
    "eskapedf['Integron'] = 'False'\n",
    "m = eskapedf['ORF_ID'].isin(eskape_integron['ORF_ID'])\n",
    "eskapedf.loc[m, 'Integron'] = 'True'\n",
    "# eskapedf['Integron'].value_counts()\n",
    "\n",
    "eskapedf['Plasmid'] = 'Null'\n",
    "eskapedf.loc[(eskapedf['SpeciesName']==\"Klebsiella pneumoniae\") | (eskapedf['SpeciesName']==\"Enterococcus faecium\") | (eskapedf['SpeciesName']==\"Acinetobacter baumannii\"), 'Plasmid'] = 'False'\n",
    "eskapedf.loc[eskapedf['ORF_ID'].isin(pd.concat([faeciumplasmids_df, baumanniiplasmids_df, klebplasmids_df])['ORF_ID']), 'Plasmid'] = 'True'\n",
    "df.drop_duplicates('Accession_Number')['Strain'].value_counts()"
   ]
  },
  {
   "cell_type": "markdown",
   "id": "fecf0f1c-bda4-4243-9b4b-86a4af2a0e36",
   "metadata": {},
   "source": [
    "## Get a sense of ESKAPE data"
   ]
  },
  {
   "cell_type": "code",
   "execution_count": null,
   "id": "8cf1f097-f145-4a00-ad00-9b1fcd7735c0",
   "metadata": {},
   "outputs": [],
   "source": [
    "numrgihits_eskapedf = eskapedf.groupby([\"Accession_Number\", 'Year_Cultured', 'SpeciesName']).size().sub(eskapedf.loc[eskapedf['ORF_ID'] == 'NoAb'].groupby(['Accession_Number']).size(), fill_value=0).to_frame().reset_index()\n",
    "px.scatter(\n",
    "    numrgihits_eskapedf,\n",
    "    x=\"Year_Cultured\",\n",
    "    y=0,\n",
    "    color='SpeciesName',\n",
    "    hover_data=[\"SpeciesName\", \"Accession_Number\"],\n",
    "    labels={\"0\": \"Number of strict/perfect AbR hits\"},\n",
    "    trendline='ols'\n",
    ")"
   ]
  },
  {
   "cell_type": "markdown",
   "id": "4e4ffeef-4672-45fe-ad5f-71bd8cb3d85e",
   "metadata": {},
   "source": [
    "## Investigate resistance to beta-lactams"
   ]
  },
  {
   "cell_type": "code",
   "execution_count": null,
   "id": "5613f358-b902-4325-8f8f-ad3f8ab95229",
   "metadata": {},
   "outputs": [],
   "source": [
    "betalactams = [\"penam\", \"cephalosporin\", \"cephamycin\", \"monobactam\", \"carbapenem\"]\n",
    "eskape_blactam_resist = eskapedf.loc[eskapedf['Drug Class'].str.contains(\"|\".join(betalactams))]"
   ]
  },
  {
   "cell_type": "markdown",
   "id": "4bb1981d-def0-4bfe-918d-45993cf568a7",
   "metadata": {},
   "source": [
    "### MRSA occurrence"
   ]
  },
  {
   "cell_type": "code",
   "execution_count": null,
   "id": "59dce37c-8d01-428c-b8ed-85783b70343c",
   "metadata": {},
   "outputs": [],
   "source": [
    "px.bar(\n",
    "    eskape_blactam_resist,\n",
    "    x=\"Year_Cultured\",\n",
    "    y=eskape_blactam_resist['Year_Cultured'].map((1/eskape_blactam_resist['Year_Cultured'].value_counts()).to_dict()),\n",
    "    hover_data=[\"Accession_Number\", \"Resistance Mechanism\", \"Best_Hit_ARO\", \"Drug Class\", \"AMR Gene Family\", \"Plasmid\", \"Integron\", \"SpeciesName\"],\n",
    "    color=\"AMR Gene Family\",\n",
    ")"
   ]
  },
  {
   "cell_type": "markdown",
   "id": "aad73362-2cb4-4434-b27a-5c5477a2730b",
   "metadata": {},
   "source": [
    "### Look at B-lactamase occurrence"
   ]
  },
  {
   "cell_type": "code",
   "execution_count": null,
   "id": "06f49ce2-af94-498e-ba0b-d122f3b74c49",
   "metadata": {},
   "outputs": [],
   "source": [
    "blactamase_hits = eskape_blactam_resist.loc[eskape_blactam_resist['AMR Gene Family'].str.contains('beta-lactamase')]"
   ]
  },
  {
   "cell_type": "code",
   "execution_count": null,
   "id": "57cbf759-8d51-46f0-a3ad-ff37d2417cf3",
   "metadata": {},
   "outputs": [],
   "source": [
    "px.bar(blactamase_hits,\n",
    "       x=\"Year_Cultured\",\n",
    "       y=blactamase_hits['Year_Cultured'].map((1/blactamase_hits['Year_Cultured'].value_counts()).to_dict()),\n",
    "       hover_data=[\"Accession_Number\", \"Resistance Mechanism\", \"Best_Hit_ARO\", \"Drug Class\", \"AMR Gene Family\", \"Plasmid\", \"Integron\", \"SpeciesName\"],\n",
    "       color=\"AMR Gene Family\"\n",
    "      )"
   ]
  },
  {
   "cell_type": "code",
   "execution_count": null,
   "id": "ce04203a-2ddc-4d1d-ba3e-0944638ae12a",
   "metadata": {},
   "outputs": [],
   "source": [
    "px.bar(\n",
    "    blactamase_hits,\n",
    "    x=\"Year_Cultured\",\n",
    "    y=blactamase_hits['Year_Cultured'].map((1/blactamase_hits['Year_Cultured'].value_counts()).to_dict()),\n",
    "    hover_data=[\"Accession_Number\", \"Resistance Mechanism\", \"Best_Hit_ARO\", \"Drug Class\", \"AMR Gene Family\", \"Plasmid\", \"Integron\", \"SpeciesName\"],\n",
    "    color=\"NumDrugClasses\",\n",
    ")"
   ]
  },
  {
   "cell_type": "markdown",
   "id": "ee151be7-2e0f-4a0f-9e57-2622f1d7ce31",
   "metadata": {},
   "source": [
    "### Where has beta-lactam resistance moved from?"
   ]
  },
  {
   "cell_type": "code",
   "execution_count": null,
   "id": "04021ea1-2f2c-4bef-bfd3-cf1420923532",
   "metadata": {},
   "outputs": [],
   "source": []
  },
  {
   "cell_type": "markdown",
   "id": "0f221f2b-6d6c-42cb-8566-1e7deda7d0e3",
   "metadata": {},
   "source": [
    "## Investigate resistance to fluoroquinolone"
   ]
  },
  {
   "cell_type": "code",
   "execution_count": null,
   "id": "b12a3a24-efb3-4e03-ab59-337e5ff22864",
   "metadata": {},
   "outputs": [],
   "source": [
    "interact_manual(\n",
    "    plot_abresist_frac,\n",
    "    df=fixed(df),\n",
    "    ex=\"gyrA|gyrB|parC|parE\",\n",
    "    year=widgets.IntSlider(min=1900, max=2010, step=1, value=1962),\n",
    "    sims=widgets.IntSlider(min=0, max=10000, step=10, value=100),\n",
    "    verbose=False,\n",
    "    col=fixed(\"Best_Hit_ARO\"),\n",
    ");"
   ]
  },
  {
   "cell_type": "code",
   "execution_count": null,
   "id": "e966e4bd-b3d2-4bb7-9270-64702ba727d3",
   "metadata": {},
   "outputs": [],
   "source": [
    "interact_manual(\n",
    "    plot_abresist_frac,\n",
    "    df=fixed(eskapedf),\n",
    "    ex=\"gyrA|gyrB|parC|parE\",\n",
    "    year=widgets.IntSlider(min=1900, max=2010, step=1, value=1962),\n",
    "    sims=widgets.IntSlider(min=0, max=10000, step=10, value=100),\n",
    "    verbose=False,\n",
    "    col=fixed(\"Best_Hit_ARO\"),\n",
    ");"
   ]
  },
  {
   "cell_type": "markdown",
   "id": "ce852813-483c-4e4b-a2b1-fe9a7bf6ed1a",
   "metadata": {},
   "source": [
    "## Investigate resistance to tetracycline"
   ]
  },
  {
   "cell_type": "code",
   "execution_count": null,
   "id": "648d6fd6-bf03-4949-915d-6440cd2eead2",
   "metadata": {},
   "outputs": [],
   "source": [
    "tetresist_eskape = eskapedf.loc[eskapedf['Drug Class'].str.contains('tetracycline')]"
   ]
  },
  {
   "cell_type": "code",
   "execution_count": null,
   "id": "17cb6d79-d3b5-4951-b42a-f88e2b064b62",
   "metadata": {},
   "outputs": [],
   "source": [
    "px.bar(\n",
    "    tetresist_eskape,\n",
    "    x='Year_Cultured',\n",
    "    y=tetresist_eskape['Year_Cultured'].map((1/tetresist_eskape['Year_Cultured'].value_counts()).to_dict()),\n",
    "    hover_data=[\"Accession_Number\", \"Resistance Mechanism\", \"Best_Hit_ARO\", \"Drug Class\", \"AMR Gene Family\", \"Strain\"],\n",
    "    color=\"Resistance Mechanism\",\n",
    ")"
   ]
  },
  {
   "cell_type": "markdown",
   "id": "6bbc9b15-c6bb-4ac6-8693-073c55690209",
   "metadata": {},
   "source": [
    "## Investigate resistance to glycopeptide"
   ]
  },
  {
   "cell_type": "code",
   "execution_count": null,
   "id": "6e5ca610-86b8-4417-9978-300015e82beb",
   "metadata": {},
   "outputs": [],
   "source": [
    "px.bar(\n",
    "    df.loc[df['Drug Class'].str.contains('glycopeptide')],\n",
    "    x='Year_Cultured',\n",
    "    y=df.loc[df['Drug Class'].str.contains('glycopeptide')]['Year_Cultured'].map((1/df.loc[df['Drug Class'].str.contains('glycopeptide')]['Year_Cultured'].value_counts()).to_dict()),\n",
    "    hover_data=[\"Accession_Number\", \"Resistance Mechanism\", \"Best_Hit_ARO\", \"Drug Class\", \"AMR Gene Family\", \"Strain\"],\n",
    "    color=\"NumDrugClasses\",\n",
    ")"
   ]
  },
  {
   "cell_type": "code",
   "execution_count": null,
   "id": "ef43b841-f253-47ce-aa2f-8b0dba6da4ad",
   "metadata": {},
   "outputs": [],
   "source": [
    "px.bar(\n",
    "    eskapedf.loc[eskapedf['Drug Class'].str.contains('glycopeptide')],\n",
    "    x='Year_Cultured',\n",
    "    y=eskapedf.loc[eskapedf['Drug Class'].str.contains('glycopeptide')]['Year_Cultured'].map((1/eskapedf.loc[eskapedf['Drug Class'].str.contains('glycopeptide')]['Year_Cultured'].value_counts()).to_dict()),\n",
    "    hover_data=[\"Accession_Number\", \"Resistance Mechanism\", \"Best_Hit_ARO\", \"Drug Class\", \"AMR Gene Family\", \"Strain\"],\n",
    "    color=\"AMR Gene Family\",\n",
    ")"
   ]
  },
  {
   "cell_type": "code",
   "execution_count": null,
   "id": "af9fd405-0446-45d5-9479-653596f25421",
   "metadata": {},
   "outputs": [],
   "source": [
    "plot_abresist_frac(\n",
    "    df=df.loc[df['Strain'].str.contains('Escherichia coli')],\n",
    "    ex='tet\\(',\n",
    "    year=1948,\n",
    "    sims=10,\n",
    "    verbose=False,\n",
    "    col='Best_Hit_ARO',\n",
    ")  "
   ]
  },
  {
   "cell_type": "markdown",
   "id": "775a6a61-4444-482a-b233-569a0861bfd3",
   "metadata": {},
   "source": [
    "# Figures"
   ]
  },
  {
   "cell_type": "code",
   "execution_count": null,
   "id": "59ed7054-f967-4ed6-ba01-6abc6cb1628c",
   "metadata": {},
   "outputs": [],
   "source": [
    "# plot_abresist_frac(\n",
    "#     df=df,\n",
    "#     ex='beta-lactamase',\n",
    "#     year=1943,\n",
    "#     sims=10000,\n",
    "#     verbose=False,\n",
    "#     col='AMR Gene Family',\n",
    "#     value=\"≥ 1 beta-lactamase\",\n",
    "#     savefig=True,\n",
    "#     figname=\"beta-lactamases_ALL\"\n",
    "# )"
   ]
  },
  {
   "cell_type": "code",
   "execution_count": null,
   "id": "f394659b-f872-4a80-adab-d4a2f4f838ed",
   "metadata": {},
   "outputs": [],
   "source": [
    "# plot_abresist_frac(\n",
    "#     df=eskapedf,\n",
    "#     ex='beta-lactamase',\n",
    "#     year=1943,\n",
    "#     sims=10000,\n",
    "#     verbose=False,\n",
    "#     col='AMR Gene Family',\n",
    "#     value=\"≥ 1 beta-lactamase\",\n",
    "#     savefig=True,\n",
    "#     figname=\"beta-lactamases_ESKAPE\"\n",
    "# )"
   ]
  },
  {
   "cell_type": "code",
   "execution_count": null,
   "id": "7286e4bc-33b5-4e84-9b04-0393963ebbfc",
   "metadata": {},
   "outputs": [],
   "source": [
    "# betalactams = [\"penam\", \"cephalosporin\", \"cephamycin\", \"monobactam\", \"carbapenem\"]\n",
    "# plot_abresist_frac(\n",
    "#     df=df.loc[df['Drug Class'].str.contains(\"|\".join(betalactams))],\n",
    "#     ex='SHV beta-lactamase',\n",
    "#     year=1943,\n",
    "#     sims=10000,\n",
    "#     verbose=False,\n",
    "#     col='AMR Gene Family',\n",
    "#     value=\"≥ 1 SHV beta-lactamase\",\n",
    "#     savefig=True,\n",
    "#     figname=\"SHV_beta-lactamases_BLACTAMRESISTOMEALL\"\n",
    "# )"
   ]
  },
  {
   "cell_type": "code",
   "execution_count": null,
   "id": "6a4a45e1-026b-469b-8901-06a2d5312f2f",
   "metadata": {},
   "outputs": [],
   "source": []
  }
 ],
 "metadata": {
  "kernelspec": {
   "display_name": "Python 3 (ipykernel)",
   "language": "python",
   "name": "python3"
  },
  "language_info": {
   "codemirror_mode": {
    "name": "ipython",
    "version": 3
   },
   "file_extension": ".py",
   "mimetype": "text/x-python",
   "name": "python",
   "nbconvert_exporter": "python",
   "pygments_lexer": "ipython3",
   "version": "3.8.13"
  },
  "toc-autonumbering": false
 },
 "nbformat": 4,
 "nbformat_minor": 5
}

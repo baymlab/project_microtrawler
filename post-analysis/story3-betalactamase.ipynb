{
 "cells": [
  {
   "cell_type": "code",
   "execution_count": 1,
   "id": "1204dc11-71a3-419c-8ae2-e31e0fc3e0a6",
   "metadata": {
    "tags": []
   },
   "outputs": [
    {
     "data": {
      "text/html": [
       "        <script type=\"text/javascript\">\n",
       "        window.PlotlyConfig = {MathJaxConfig: 'local'};\n",
       "        if (window.MathJax && window.MathJax.Hub && window.MathJax.Hub.Config) {window.MathJax.Hub.Config({SVG: {font: \"STIX-Web\"}});}\n",
       "        if (typeof require !== 'undefined') {\n",
       "        require.undef(\"plotly\");\n",
       "        requirejs.config({\n",
       "            paths: {\n",
       "                'plotly': ['https://cdn.plot.ly/plotly-2.12.1.min']\n",
       "            }\n",
       "        });\n",
       "        require(['plotly'], function(Plotly) {\n",
       "            window._Plotly = Plotly;\n",
       "        });\n",
       "        }\n",
       "        </script>\n",
       "        "
      ]
     },
     "metadata": {},
     "output_type": "display_data"
    }
   ],
   "source": [
    "import matplotlib.pyplot as plt\n",
    "import numpy as np\n",
    "import pandas as pd\n",
    "import plotly\n",
    "import plotly.express as px\n",
    "import plotly.graph_objs as go\n",
    "import plotly.offline as pyo\n",
    "import seaborn as sns\n",
    "from natsort import index_natsorted\n",
    "from scipy.stats import norm\n",
    "from __future__ import print_function\n",
    "import ipywidgets as widgets\n",
    "from ipywidgets import fixed, interact, interact_manual, interactive\n",
    "%load_ext line_profiler\n",
    "%matplotlib inline\n",
    "pyo.init_notebook_mode(connected=True)"
   ]
  },
  {
   "cell_type": "code",
   "execution_count": 2,
   "id": "5b41eab4-2d45-42bd-ab73-7a3f642a4468",
   "metadata": {},
   "outputs": [
    {
     "ename": "FileNotFoundError",
     "evalue": "[Errno 2] No such file or directory: './all_rgiout_2022-06-21'",
     "output_type": "error",
     "traceback": [
      "\u001b[0;31m---------------------------------------------------------------------------\u001b[0m",
      "\u001b[0;31mFileNotFoundError\u001b[0m                         Traceback (most recent call last)",
      "Input \u001b[0;32mIn [2]\u001b[0m, in \u001b[0;36m<cell line: 1>\u001b[0;34m()\u001b[0m\n\u001b[0;32m----> 1\u001b[0m df \u001b[38;5;241m=\u001b[39m \u001b[43mpd\u001b[49m\u001b[38;5;241;43m.\u001b[39;49m\u001b[43mread_csv\u001b[49m\u001b[43m(\u001b[49m\u001b[38;5;124;43m\"\u001b[39;49m\u001b[38;5;124;43m./all_rgiout_2022-06-21\u001b[39;49m\u001b[38;5;124;43m\"\u001b[39;49m\u001b[43m,\u001b[49m\u001b[43m \u001b[49m\u001b[43msep\u001b[49m\u001b[38;5;241;43m=\u001b[39;49m\u001b[38;5;124;43m\"\u001b[39;49m\u001b[38;5;130;43;01m\\t\u001b[39;49;00m\u001b[38;5;124;43m\"\u001b[39;49m\u001b[43m)\u001b[49m\n\u001b[1;32m      2\u001b[0m df \u001b[38;5;241m=\u001b[39m df\u001b[38;5;241m.\u001b[39msort_values(\n\u001b[1;32m      3\u001b[0m     by\u001b[38;5;241m=\u001b[39m[\u001b[38;5;124m\"\u001b[39m\u001b[38;5;124mAccession_Number\u001b[39m\u001b[38;5;124m\"\u001b[39m],\n\u001b[1;32m      4\u001b[0m     ascending\u001b[38;5;241m=\u001b[39m\u001b[38;5;28;01mTrue\u001b[39;00m,\n\u001b[1;32m      5\u001b[0m     key\u001b[38;5;241m=\u001b[39m\u001b[38;5;28;01mlambda\u001b[39;00m x: np\u001b[38;5;241m.\u001b[39margsort(index_natsorted(df[\u001b[38;5;124m\"\u001b[39m\u001b[38;5;124mAccession_Number\u001b[39m\u001b[38;5;124m\"\u001b[39m])),\n\u001b[1;32m      6\u001b[0m     ignore_index\u001b[38;5;241m=\u001b[39m\u001b[38;5;28;01mTrue\u001b[39;00m,\n\u001b[1;32m      7\u001b[0m )\n\u001b[1;32m      8\u001b[0m single_acc_df \u001b[38;5;241m=\u001b[39m df\u001b[38;5;241m.\u001b[39mdrop_duplicates(subset\u001b[38;5;241m=\u001b[39m[\u001b[38;5;124m'\u001b[39m\u001b[38;5;124mAccession_Number\u001b[39m\u001b[38;5;124m'\u001b[39m])\n",
      "File \u001b[0;32m~/.conda/envs/RESIST/lib/python3.8/site-packages/pandas/util/_decorators.py:311\u001b[0m, in \u001b[0;36mdeprecate_nonkeyword_arguments.<locals>.decorate.<locals>.wrapper\u001b[0;34m(*args, **kwargs)\u001b[0m\n\u001b[1;32m    305\u001b[0m \u001b[38;5;28;01mif\u001b[39;00m \u001b[38;5;28mlen\u001b[39m(args) \u001b[38;5;241m>\u001b[39m num_allow_args:\n\u001b[1;32m    306\u001b[0m     warnings\u001b[38;5;241m.\u001b[39mwarn(\n\u001b[1;32m    307\u001b[0m         msg\u001b[38;5;241m.\u001b[39mformat(arguments\u001b[38;5;241m=\u001b[39marguments),\n\u001b[1;32m    308\u001b[0m         \u001b[38;5;167;01mFutureWarning\u001b[39;00m,\n\u001b[1;32m    309\u001b[0m         stacklevel\u001b[38;5;241m=\u001b[39mstacklevel,\n\u001b[1;32m    310\u001b[0m     )\n\u001b[0;32m--> 311\u001b[0m \u001b[38;5;28;01mreturn\u001b[39;00m \u001b[43mfunc\u001b[49m\u001b[43m(\u001b[49m\u001b[38;5;241;43m*\u001b[39;49m\u001b[43margs\u001b[49m\u001b[43m,\u001b[49m\u001b[43m \u001b[49m\u001b[38;5;241;43m*\u001b[39;49m\u001b[38;5;241;43m*\u001b[39;49m\u001b[43mkwargs\u001b[49m\u001b[43m)\u001b[49m\n",
      "File \u001b[0;32m~/.conda/envs/RESIST/lib/python3.8/site-packages/pandas/io/parsers/readers.py:680\u001b[0m, in \u001b[0;36mread_csv\u001b[0;34m(filepath_or_buffer, sep, delimiter, header, names, index_col, usecols, squeeze, prefix, mangle_dupe_cols, dtype, engine, converters, true_values, false_values, skipinitialspace, skiprows, skipfooter, nrows, na_values, keep_default_na, na_filter, verbose, skip_blank_lines, parse_dates, infer_datetime_format, keep_date_col, date_parser, dayfirst, cache_dates, iterator, chunksize, compression, thousands, decimal, lineterminator, quotechar, quoting, doublequote, escapechar, comment, encoding, encoding_errors, dialect, error_bad_lines, warn_bad_lines, on_bad_lines, delim_whitespace, low_memory, memory_map, float_precision, storage_options)\u001b[0m\n\u001b[1;32m    665\u001b[0m kwds_defaults \u001b[38;5;241m=\u001b[39m _refine_defaults_read(\n\u001b[1;32m    666\u001b[0m     dialect,\n\u001b[1;32m    667\u001b[0m     delimiter,\n\u001b[0;32m   (...)\u001b[0m\n\u001b[1;32m    676\u001b[0m     defaults\u001b[38;5;241m=\u001b[39m{\u001b[38;5;124m\"\u001b[39m\u001b[38;5;124mdelimiter\u001b[39m\u001b[38;5;124m\"\u001b[39m: \u001b[38;5;124m\"\u001b[39m\u001b[38;5;124m,\u001b[39m\u001b[38;5;124m\"\u001b[39m},\n\u001b[1;32m    677\u001b[0m )\n\u001b[1;32m    678\u001b[0m kwds\u001b[38;5;241m.\u001b[39mupdate(kwds_defaults)\n\u001b[0;32m--> 680\u001b[0m \u001b[38;5;28;01mreturn\u001b[39;00m \u001b[43m_read\u001b[49m\u001b[43m(\u001b[49m\u001b[43mfilepath_or_buffer\u001b[49m\u001b[43m,\u001b[49m\u001b[43m \u001b[49m\u001b[43mkwds\u001b[49m\u001b[43m)\u001b[49m\n",
      "File \u001b[0;32m~/.conda/envs/RESIST/lib/python3.8/site-packages/pandas/io/parsers/readers.py:575\u001b[0m, in \u001b[0;36m_read\u001b[0;34m(filepath_or_buffer, kwds)\u001b[0m\n\u001b[1;32m    572\u001b[0m _validate_names(kwds\u001b[38;5;241m.\u001b[39mget(\u001b[38;5;124m\"\u001b[39m\u001b[38;5;124mnames\u001b[39m\u001b[38;5;124m\"\u001b[39m, \u001b[38;5;28;01mNone\u001b[39;00m))\n\u001b[1;32m    574\u001b[0m \u001b[38;5;66;03m# Create the parser.\u001b[39;00m\n\u001b[0;32m--> 575\u001b[0m parser \u001b[38;5;241m=\u001b[39m \u001b[43mTextFileReader\u001b[49m\u001b[43m(\u001b[49m\u001b[43mfilepath_or_buffer\u001b[49m\u001b[43m,\u001b[49m\u001b[43m \u001b[49m\u001b[38;5;241;43m*\u001b[39;49m\u001b[38;5;241;43m*\u001b[39;49m\u001b[43mkwds\u001b[49m\u001b[43m)\u001b[49m\n\u001b[1;32m    577\u001b[0m \u001b[38;5;28;01mif\u001b[39;00m chunksize \u001b[38;5;129;01mor\u001b[39;00m iterator:\n\u001b[1;32m    578\u001b[0m     \u001b[38;5;28;01mreturn\u001b[39;00m parser\n",
      "File \u001b[0;32m~/.conda/envs/RESIST/lib/python3.8/site-packages/pandas/io/parsers/readers.py:934\u001b[0m, in \u001b[0;36mTextFileReader.__init__\u001b[0;34m(self, f, engine, **kwds)\u001b[0m\n\u001b[1;32m    931\u001b[0m     \u001b[38;5;28mself\u001b[39m\u001b[38;5;241m.\u001b[39moptions[\u001b[38;5;124m\"\u001b[39m\u001b[38;5;124mhas_index_names\u001b[39m\u001b[38;5;124m\"\u001b[39m] \u001b[38;5;241m=\u001b[39m kwds[\u001b[38;5;124m\"\u001b[39m\u001b[38;5;124mhas_index_names\u001b[39m\u001b[38;5;124m\"\u001b[39m]\n\u001b[1;32m    933\u001b[0m \u001b[38;5;28mself\u001b[39m\u001b[38;5;241m.\u001b[39mhandles: IOHandles \u001b[38;5;241m|\u001b[39m \u001b[38;5;28;01mNone\u001b[39;00m \u001b[38;5;241m=\u001b[39m \u001b[38;5;28;01mNone\u001b[39;00m\n\u001b[0;32m--> 934\u001b[0m \u001b[38;5;28mself\u001b[39m\u001b[38;5;241m.\u001b[39m_engine \u001b[38;5;241m=\u001b[39m \u001b[38;5;28;43mself\u001b[39;49m\u001b[38;5;241;43m.\u001b[39;49m\u001b[43m_make_engine\u001b[49m\u001b[43m(\u001b[49m\u001b[43mf\u001b[49m\u001b[43m,\u001b[49m\u001b[43m \u001b[49m\u001b[38;5;28;43mself\u001b[39;49m\u001b[38;5;241;43m.\u001b[39;49m\u001b[43mengine\u001b[49m\u001b[43m)\u001b[49m\n",
      "File \u001b[0;32m~/.conda/envs/RESIST/lib/python3.8/site-packages/pandas/io/parsers/readers.py:1218\u001b[0m, in \u001b[0;36mTextFileReader._make_engine\u001b[0;34m(self, f, engine)\u001b[0m\n\u001b[1;32m   1214\u001b[0m     mode \u001b[38;5;241m=\u001b[39m \u001b[38;5;124m\"\u001b[39m\u001b[38;5;124mrb\u001b[39m\u001b[38;5;124m\"\u001b[39m\n\u001b[1;32m   1215\u001b[0m \u001b[38;5;66;03m# error: No overload variant of \"get_handle\" matches argument types\u001b[39;00m\n\u001b[1;32m   1216\u001b[0m \u001b[38;5;66;03m# \"Union[str, PathLike[str], ReadCsvBuffer[bytes], ReadCsvBuffer[str]]\"\u001b[39;00m\n\u001b[1;32m   1217\u001b[0m \u001b[38;5;66;03m# , \"str\", \"bool\", \"Any\", \"Any\", \"Any\", \"Any\", \"Any\"\u001b[39;00m\n\u001b[0;32m-> 1218\u001b[0m \u001b[38;5;28mself\u001b[39m\u001b[38;5;241m.\u001b[39mhandles \u001b[38;5;241m=\u001b[39m \u001b[43mget_handle\u001b[49m\u001b[43m(\u001b[49m\u001b[43m  \u001b[49m\u001b[38;5;66;43;03m# type: ignore[call-overload]\u001b[39;49;00m\n\u001b[1;32m   1219\u001b[0m \u001b[43m    \u001b[49m\u001b[43mf\u001b[49m\u001b[43m,\u001b[49m\n\u001b[1;32m   1220\u001b[0m \u001b[43m    \u001b[49m\u001b[43mmode\u001b[49m\u001b[43m,\u001b[49m\n\u001b[1;32m   1221\u001b[0m \u001b[43m    \u001b[49m\u001b[43mencoding\u001b[49m\u001b[38;5;241;43m=\u001b[39;49m\u001b[38;5;28;43mself\u001b[39;49m\u001b[38;5;241;43m.\u001b[39;49m\u001b[43moptions\u001b[49m\u001b[38;5;241;43m.\u001b[39;49m\u001b[43mget\u001b[49m\u001b[43m(\u001b[49m\u001b[38;5;124;43m\"\u001b[39;49m\u001b[38;5;124;43mencoding\u001b[39;49m\u001b[38;5;124;43m\"\u001b[39;49m\u001b[43m,\u001b[49m\u001b[43m \u001b[49m\u001b[38;5;28;43;01mNone\u001b[39;49;00m\u001b[43m)\u001b[49m\u001b[43m,\u001b[49m\n\u001b[1;32m   1222\u001b[0m \u001b[43m    \u001b[49m\u001b[43mcompression\u001b[49m\u001b[38;5;241;43m=\u001b[39;49m\u001b[38;5;28;43mself\u001b[39;49m\u001b[38;5;241;43m.\u001b[39;49m\u001b[43moptions\u001b[49m\u001b[38;5;241;43m.\u001b[39;49m\u001b[43mget\u001b[49m\u001b[43m(\u001b[49m\u001b[38;5;124;43m\"\u001b[39;49m\u001b[38;5;124;43mcompression\u001b[39;49m\u001b[38;5;124;43m\"\u001b[39;49m\u001b[43m,\u001b[49m\u001b[43m \u001b[49m\u001b[38;5;28;43;01mNone\u001b[39;49;00m\u001b[43m)\u001b[49m\u001b[43m,\u001b[49m\n\u001b[1;32m   1223\u001b[0m \u001b[43m    \u001b[49m\u001b[43mmemory_map\u001b[49m\u001b[38;5;241;43m=\u001b[39;49m\u001b[38;5;28;43mself\u001b[39;49m\u001b[38;5;241;43m.\u001b[39;49m\u001b[43moptions\u001b[49m\u001b[38;5;241;43m.\u001b[39;49m\u001b[43mget\u001b[49m\u001b[43m(\u001b[49m\u001b[38;5;124;43m\"\u001b[39;49m\u001b[38;5;124;43mmemory_map\u001b[39;49m\u001b[38;5;124;43m\"\u001b[39;49m\u001b[43m,\u001b[49m\u001b[43m \u001b[49m\u001b[38;5;28;43;01mFalse\u001b[39;49;00m\u001b[43m)\u001b[49m\u001b[43m,\u001b[49m\n\u001b[1;32m   1224\u001b[0m \u001b[43m    \u001b[49m\u001b[43mis_text\u001b[49m\u001b[38;5;241;43m=\u001b[39;49m\u001b[43mis_text\u001b[49m\u001b[43m,\u001b[49m\n\u001b[1;32m   1225\u001b[0m \u001b[43m    \u001b[49m\u001b[43merrors\u001b[49m\u001b[38;5;241;43m=\u001b[39;49m\u001b[38;5;28;43mself\u001b[39;49m\u001b[38;5;241;43m.\u001b[39;49m\u001b[43moptions\u001b[49m\u001b[38;5;241;43m.\u001b[39;49m\u001b[43mget\u001b[49m\u001b[43m(\u001b[49m\u001b[38;5;124;43m\"\u001b[39;49m\u001b[38;5;124;43mencoding_errors\u001b[39;49m\u001b[38;5;124;43m\"\u001b[39;49m\u001b[43m,\u001b[49m\u001b[43m \u001b[49m\u001b[38;5;124;43m\"\u001b[39;49m\u001b[38;5;124;43mstrict\u001b[39;49m\u001b[38;5;124;43m\"\u001b[39;49m\u001b[43m)\u001b[49m\u001b[43m,\u001b[49m\n\u001b[1;32m   1226\u001b[0m \u001b[43m    \u001b[49m\u001b[43mstorage_options\u001b[49m\u001b[38;5;241;43m=\u001b[39;49m\u001b[38;5;28;43mself\u001b[39;49m\u001b[38;5;241;43m.\u001b[39;49m\u001b[43moptions\u001b[49m\u001b[38;5;241;43m.\u001b[39;49m\u001b[43mget\u001b[49m\u001b[43m(\u001b[49m\u001b[38;5;124;43m\"\u001b[39;49m\u001b[38;5;124;43mstorage_options\u001b[39;49m\u001b[38;5;124;43m\"\u001b[39;49m\u001b[43m,\u001b[49m\u001b[43m \u001b[49m\u001b[38;5;28;43;01mNone\u001b[39;49;00m\u001b[43m)\u001b[49m\u001b[43m,\u001b[49m\n\u001b[1;32m   1227\u001b[0m \u001b[43m\u001b[49m\u001b[43m)\u001b[49m\n\u001b[1;32m   1228\u001b[0m \u001b[38;5;28;01massert\u001b[39;00m \u001b[38;5;28mself\u001b[39m\u001b[38;5;241m.\u001b[39mhandles \u001b[38;5;129;01mis\u001b[39;00m \u001b[38;5;129;01mnot\u001b[39;00m \u001b[38;5;28;01mNone\u001b[39;00m\n\u001b[1;32m   1229\u001b[0m f \u001b[38;5;241m=\u001b[39m \u001b[38;5;28mself\u001b[39m\u001b[38;5;241m.\u001b[39mhandles\u001b[38;5;241m.\u001b[39mhandle\n",
      "File \u001b[0;32m~/.conda/envs/RESIST/lib/python3.8/site-packages/pandas/io/common.py:786\u001b[0m, in \u001b[0;36mget_handle\u001b[0;34m(path_or_buf, mode, encoding, compression, memory_map, is_text, errors, storage_options)\u001b[0m\n\u001b[1;32m    781\u001b[0m \u001b[38;5;28;01melif\u001b[39;00m \u001b[38;5;28misinstance\u001b[39m(handle, \u001b[38;5;28mstr\u001b[39m):\n\u001b[1;32m    782\u001b[0m     \u001b[38;5;66;03m# Check whether the filename is to be opened in binary mode.\u001b[39;00m\n\u001b[1;32m    783\u001b[0m     \u001b[38;5;66;03m# Binary mode does not support 'encoding' and 'newline'.\u001b[39;00m\n\u001b[1;32m    784\u001b[0m     \u001b[38;5;28;01mif\u001b[39;00m ioargs\u001b[38;5;241m.\u001b[39mencoding \u001b[38;5;129;01mand\u001b[39;00m \u001b[38;5;124m\"\u001b[39m\u001b[38;5;124mb\u001b[39m\u001b[38;5;124m\"\u001b[39m \u001b[38;5;129;01mnot\u001b[39;00m \u001b[38;5;129;01min\u001b[39;00m ioargs\u001b[38;5;241m.\u001b[39mmode:\n\u001b[1;32m    785\u001b[0m         \u001b[38;5;66;03m# Encoding\u001b[39;00m\n\u001b[0;32m--> 786\u001b[0m         handle \u001b[38;5;241m=\u001b[39m \u001b[38;5;28;43mopen\u001b[39;49m\u001b[43m(\u001b[49m\n\u001b[1;32m    787\u001b[0m \u001b[43m            \u001b[49m\u001b[43mhandle\u001b[49m\u001b[43m,\u001b[49m\n\u001b[1;32m    788\u001b[0m \u001b[43m            \u001b[49m\u001b[43mioargs\u001b[49m\u001b[38;5;241;43m.\u001b[39;49m\u001b[43mmode\u001b[49m\u001b[43m,\u001b[49m\n\u001b[1;32m    789\u001b[0m \u001b[43m            \u001b[49m\u001b[43mencoding\u001b[49m\u001b[38;5;241;43m=\u001b[39;49m\u001b[43mioargs\u001b[49m\u001b[38;5;241;43m.\u001b[39;49m\u001b[43mencoding\u001b[49m\u001b[43m,\u001b[49m\n\u001b[1;32m    790\u001b[0m \u001b[43m            \u001b[49m\u001b[43merrors\u001b[49m\u001b[38;5;241;43m=\u001b[39;49m\u001b[43merrors\u001b[49m\u001b[43m,\u001b[49m\n\u001b[1;32m    791\u001b[0m \u001b[43m            \u001b[49m\u001b[43mnewline\u001b[49m\u001b[38;5;241;43m=\u001b[39;49m\u001b[38;5;124;43m\"\u001b[39;49m\u001b[38;5;124;43m\"\u001b[39;49m\u001b[43m,\u001b[49m\n\u001b[1;32m    792\u001b[0m \u001b[43m        \u001b[49m\u001b[43m)\u001b[49m\n\u001b[1;32m    793\u001b[0m     \u001b[38;5;28;01melse\u001b[39;00m:\n\u001b[1;32m    794\u001b[0m         \u001b[38;5;66;03m# Binary mode\u001b[39;00m\n\u001b[1;32m    795\u001b[0m         handle \u001b[38;5;241m=\u001b[39m \u001b[38;5;28mopen\u001b[39m(handle, ioargs\u001b[38;5;241m.\u001b[39mmode)\n",
      "\u001b[0;31mFileNotFoundError\u001b[0m: [Errno 2] No such file or directory: './all_rgiout_2022-06-21'"
     ]
    }
   ],
   "source": [
    "df = pd.read_csv(\"./all_rgiout_2022-06-21\", sep=\"\\t\")\n",
    "df = df.sort_values(\n",
    "    by=[\"Accession_Number\"],\n",
    "    ascending=True,\n",
    "    key=lambda x: np.argsort(index_natsorted(df[\"Accession_Number\"])),\n",
    "    ignore_index=True,\n",
    ")\n",
    "single_acc_df = df.drop_duplicates(subset=['Accession_Number'])\n",
    "year_dict = single_acc_df[['Accession_Number','Year_Cultured']].set_index('Accession_Number').to_dict()['Year_Cultured']\n",
    "df[[\"Species\", \"Subspecies\"]] = df[\"Strain\"].str.split(\"subsp.\", 1, expand=True)\n",
    "df = df.replace(np.nan, \"Null\", regex=True)\n",
    "rgiintegron = pd.read_csv('./rgi_subset_integronoverlap', sep='\\t', names=df.columns.values)\n",
    "rgiintegron[\"Species\"] = rgiintegron[\"Strain\"].str.split(\"subsp.\", 1, expand=True)\n",
    "rgiintegron[\"Subspecies\"] = \"Null\"\n",
    "contigdf = pd.concat([df['Accession_Number'], df['Contig'].str.split('_', expand=True)[0].str.split('|').str[-1]], axis=1).copy()\n",
    "\n",
    "sns.set(rc={\"figure.figsize\":(20, 12)}) #width=3, #height=4"
   ]
  },
  {
   "cell_type": "code",
   "execution_count": null,
   "id": "66938634-5c0c-4462-874e-310e0defa7b4",
   "metadata": {},
   "outputs": [],
   "source": [
    "blactamases = df.loc[df['AMR Gene Family'].str.contains('beta-lactamase')].copy()\n",
    "pbp = df.loc[df['Best_Hit_ARO'].str.contains('PBP')].copy()"
   ]
  },
  {
   "cell_type": "code",
   "execution_count": null,
   "id": "9fe5697b-3279-47a3-9e08-ff279257270e",
   "metadata": {},
   "outputs": [],
   "source": [
    "pbp['Strain'].value_counts()"
   ]
  },
  {
   "cell_type": "code",
   "execution_count": null,
   "id": "59d12e4b-a213-4649-9c38-561cbedbd149",
   "metadata": {},
   "outputs": [],
   "source": [
    "fig = sns.kdeplot(data=pbp.loc[pbp['Strain'].str.match('Escherichia coli')], x=\"Year_Cultured\", hue=\"Best_Hit_ARO\", multiple=\"fill\", cut=0)\n",
    "plt.xlabel('Year Cultured')\n",
    "# plt.savefig('./all-blactamases.png', dpi=200)"
   ]
  },
  {
   "cell_type": "code",
   "execution_count": null,
   "id": "0e86f7d3-f6e1-43c4-a2ab-9dd48bd70c1d",
   "metadata": {},
   "outputs": [],
   "source": [
    "blactamases.sort_values('Year_Cultured')[['Accession_Number', 'Year_Cultured', 'Strain', 'Best_Hit_ARO']]"
   ]
  },
  {
   "cell_type": "code",
   "execution_count": null,
   "id": "917193e3-ba52-4027-9032-f1049d93e029",
   "metadata": {},
   "outputs": [],
   "source": [
    "\n",
    "import matplotlib.pyplot as plt\n",
    "from dna_features_viewer import BiopythonTranslator\n",
    "from Bio import SeqIO\n",
    "import numpy as np\n",
    "\n",
    "record_dict = SeqIO.to_dict(SeqIO.parse(\"/n/scratch3/users/a/ak586/microtrawler/1_sequences/NCTC/ena/NCTC232/GCA_900453135/PROKKA_04192022/PROKKA_04192022.gbk\", \"genbank\"))\n",
    "# sub_record = record_dict['UGNE01000001.1'][1405899:1417399]\n",
    "sub_record = record_dict['UGQG01000001.1'][748436:769575]\n",
    "# sub_record = record_dict['UGQG01000001.1'][748436:775000]\n",
    "# print(sub_record)\n",
    "for features in sub_record.features:\n",
    "    if 'gene' in features.qualifiers:\n",
    "        gname = features.qualifiers['gene'][0]\n",
    "        # print(features.qualifiers)\n",
    "        if '_' in gname:\n",
    "            features.qualifiers['gene'] = [gname.split('_')[0]]\n",
    "        if gname == 'ampC':\n",
    "            features.qualifiers['gene'] = ['DHA-1']\n",
    "    else:\n",
    "        prodName = features.qualifiers['product'][0]\n",
    "        if 'NCBIFAM' in prodName:\n",
    "            NewprodName = prodName.split(': ')[1]\n",
    "            features.qualifiers['product'] = [NewprodName]\n",
    "    #         if 'metalloregulator' in NewprodName:\n",
    "    #             features.qualifiers['product'] = ['metalloregulator ArsR/SmtB TF']\n",
    "                # print(features.qualifiers)\n",
    "        # print(features.qualifiers)\n",
    "graphic_record = BiopythonTranslator().translate_record(sub_record)\n",
    "ax, _ = graphic_record.plot(figure_width=15, with_ruler=False, strand_in_label_threshold=7)\n",
    "# ax.figure.savefig('NCTC232-DHA1-neigh.png', bbox_inches='tight', dpi=200)"
   ]
  },
  {
   "cell_type": "code",
   "execution_count": null,
   "id": "5c336398-e6d4-4be7-a1e8-a4e80517505d",
   "metadata": {},
   "outputs": [],
   "source": [
    "record_dict = SeqIO.read(\"/n/scratch3/users/a/ak586/microtrawler/1_sequences/NCTC/ena/NCTC235/GCA_900635025/PROKKA_04192022/PROKKA_04192022.gbk\", \"genbank\")\n",
    "# print(record_dict)\n",
    "# for seq_record in record_dict:\n",
    "    # print(seq_record.id)\n",
    "\n",
    "sub_record = record_dict[771870:793009]\n",
    "# print(sub_record)\n",
    "for features in sub_record.features:\n",
    "    if 'gene' in features.qualifiers:\n",
    "        gname = features.qualifiers['gene'][0]\n",
    "        # print(features.qualifiers)\n",
    "        if '_' in gname:\n",
    "            features.qualifiers['gene'] = [gname.split('_')[0]]\n",
    "        if gname == 'ampC':\n",
    "            features.qualifiers['gene'] = ['DHA-22']\n",
    "    else:\n",
    "        prodName = features.qualifiers['product'][0]\n",
    "        if 'NCBIFAM' in prodName:\n",
    "            NewprodName = prodName.split(': ')[1]\n",
    "            features.qualifiers['product'] = [NewprodName]\n",
    "    #         if 'metalloregulator' in NewprodName:\n",
    "    #             features.qualifiers['product'] = ['metalloregulator ArsR/SmtB TF']\n",
    "                # print(features.qualifiers)\n",
    "        # print(features.qualifiers)\n",
    "graphic_record = BiopythonTranslator().translate_record(sub_record)\n",
    "ax, _ = graphic_record.plot(figure_width=15, with_ruler=False, strand_in_label_threshold=1)\n",
    "ax.figure.savefig('NCTC235-DHA22-neigh.png', bbox_inches='tight', dpi=200)"
   ]
  },
  {
   "cell_type": "code",
   "execution_count": null,
   "id": "443b2e27-c309-4afa-b5ad-897636b8a4be",
   "metadata": {},
   "outputs": [],
   "source": [
    "sns.set(rc = {'figure.figsize':(15,8)})"
   ]
  },
  {
   "cell_type": "code",
   "execution_count": null,
   "id": "3a058751-1c36-4032-9218-2935509ed6a0",
   "metadata": {},
   "outputs": [],
   "source": [
    "blactamases['AMR Gene Family'].value_counts().reset_index()\n",
    "other = []\n",
    "for i in blactamases['AMR Gene Family'].value_counts().reset_index().iloc():\n",
    "    if i['AMR Gene Family'] < 10:\n",
    "        other.append(i['index'])\n",
    "blactamases['Gene Family'] = blactamases['AMR Gene Family']\n",
    "blactamases.loc[blactamases['AMR Gene Family'].isin(other), ['Gene Family']] = 'Other'"
   ]
  },
  {
   "cell_type": "code",
   "execution_count": null,
   "id": "282fb22c-6f72-43ca-b121-7b45a6ebe286",
   "metadata": {},
   "outputs": [],
   "source": [
    "fig = sns.kdeplot(data=blactamases, x=\"Year_Cultured\", hue=\"Gene Family\", multiple=\"fill\", cut=0, bw_adjust=0.9)\n",
    "plt.xlabel('Year Cultured')\n",
    "sns.move_legend(fig, loc='upper left')\n",
    "plt.savefig('./all-blactamases.png', dpi=200)"
   ]
  },
  {
   "cell_type": "code",
   "execution_count": null,
   "id": "93eadeca-f4a9-4af6-ac4c-a1a3c8f9bcf6",
   "metadata": {},
   "outputs": [],
   "source": [
    "ecoli_blactamases = blactamases.loc[blactamases['Strain']=='Escherichia coli']\n",
    "fig = sns.kdeplot(data=ecoli_blactamases, x=\"Year_Cultured\", hue=\"AMR Gene Family\", multiple=\"fill\", cut=0)\n",
    "plt.xlabel('Year Cultured')\n",
    "sns.move_legend(fig, loc='upper left')\n",
    "plt.savefig('./ecoli-all-blactamases.png', dpi=200)"
   ]
  },
  {
   "cell_type": "code",
   "execution_count": null,
   "id": "9711d63f-6a75-4b58-b30c-5912a8e88509",
   "metadata": {},
   "outputs": [],
   "source": [
    "ampc_ecoli_blactamases = ecoli_blactamases.loc[ecoli_blactamases['AMR Gene Family']=='ampC-type beta-lactamase']\n",
    "sns.kdeplot(data=ampc_ecoli_blactamases, x=\"Year_Cultured\", hue=\"Best_Hit_ARO\", multiple=\"fill\", cut=0)\n",
    "plt.xlabel('Year Cultured')\n",
    "plt.savefig('./ecoli-ampC-blactamases.png', dpi=200)"
   ]
  },
  {
   "cell_type": "code",
   "execution_count": null,
   "id": "f00cebcb-c9b5-4c2a-9028-f377bdc54a5e",
   "metadata": {},
   "outputs": [],
   "source": [
    "ec_ecoli_blactamases = ecoli_blactamases.loc[ecoli_blactamases['AMR Gene Family']=='EC beta-lactamase']\n",
    "sns.kdeplot(data=ec_ecoli_blactamases, x=\"Year_Cultured\", hue=\"Best_Hit_ARO\", multiple=\"fill\", cut=0, bw_adjust=0.5)\n",
    "plt.xlabel('Year Cultured')\n",
    "plt.savefig('./ecoli-ec-blactamases.png', dpi=200)"
   ]
  },
  {
   "cell_type": "code",
   "execution_count": null,
   "id": "b3c44ae3-7a0e-46af-8881-0061e2df8c04",
   "metadata": {},
   "outputs": [],
   "source": [
    "tem_ecoli_blactamases = ecoli_blactamases.loc[ecoli_blactamases['AMR Gene Family']=='TEM beta-lactamase']\n",
    "sns.kdeplot(data=tem_ecoli_blactamases, x=\"Year_Cultured\", hue=\"Best_Hit_ARO\", multiple=\"fill\", bw_adjust=0.7)"
   ]
  },
  {
   "cell_type": "code",
   "execution_count": null,
   "id": "045ab8ac-b30f-4b44-a749-d86e1543bd69",
   "metadata": {},
   "outputs": [],
   "source": [
    "cmy_ecoli_blactamases = ecoli_blactamases.loc[ecoli_blactamases['AMR Gene Family']=='CMY beta-lactamase']\n",
    "sns.kdeplot(data=cmy_ecoli_blactamases, x=\"Year_Cultured\", hue=\"Best_Hit_ARO\", multiple=\"fill\", bw_adjust=0.7)"
   ]
  },
  {
   "cell_type": "code",
   "execution_count": null,
   "id": "2f4fdf7e-236a-4a07-b4ff-16bb8ba64007",
   "metadata": {},
   "outputs": [],
   "source": [
    "criticalcarbapenem_strains = df.loc[df['Strain'].str.contains('Acinetobacter baumannii|Pseudomonas aeruginosa|Klebsiella pneumonia|Escherichia coli|Enterobacter|Serratia|Proteus|Providencia|Morganella')]\n",
    "carbapenemases = criticalcarbapenem_strains.loc[criticalcarbapenem_strains['Drug Class'].str.contains('carbapenem') & criticalcarbapenem_strains['AMR Gene Family'].str.contains('lactamase')]\n",
    "sns.kdeplot(data=carbapenemases, x=\"Year_Cultured\", hue=\"AMR Gene Family\", multiple=\"fill\")"
   ]
  },
  {
   "cell_type": "code",
   "execution_count": null,
   "id": "4f6321d1-7e80-4100-b8de-13cd9e556cfa",
   "metadata": {},
   "outputs": [],
   "source": [
    "criticalcarbapenem_strains = df.loc[df['Strain'].str.contains('Acinetobacter baumannii|Klebsiella pneumonia|Escherichia coli|Enterobacter|Serratia|Proteus|Providencia|Morganella')]\n",
    "carbapenemases = criticalcarbapenem_strains.loc[criticalcarbapenem_strains['Drug Class'].str.contains('carbapenem') & criticalcarbapenem_strains['AMR Gene Family'].str.contains('lactamase')]\n",
    "sns.kdeplot(data=carbapenemases, x=\"Year_Cultured\", hue=\"AMR Gene Family\", multiple=\"fill\")"
   ]
  },
  {
   "cell_type": "code",
   "execution_count": null,
   "id": "c1d14d0e-8b6d-40eb-95e8-ab0b6a956323",
   "metadata": {},
   "outputs": [],
   "source": [
    "shv_carbapenemases = carbapenemases.loc[carbapenemases['AMR Gene Family'].str.contains('SHV beta-lactamase')]\n",
    "sns.kdeplot(data=shv_carbapenemases, x=\"Year_Cultured\", hue=\"Best_Hit_ARO\", multiple=\"fill\", bw_adjust=0.1)"
   ]
  },
  {
   "cell_type": "code",
   "execution_count": null,
   "id": "69490b0e-23c8-415f-8045-96973d68867a",
   "metadata": {},
   "outputs": [],
   "source": [
    "shv_carbapenemases['Strain'].value_counts()"
   ]
  },
  {
   "cell_type": "code",
   "execution_count": null,
   "id": "a5d9c30b-d812-4275-80ed-1876b9f3b9de",
   "metadata": {},
   "outputs": [],
   "source": [
    "blactamases['AMR Gene Family'].value_counts().reset_index()\n",
    "other = []\n",
    "for i in blactamases['AMR Gene Family'].value_counts().reset_index().iloc():\n",
    "    if i['AMR Gene Family'] < 10:\n",
    "        other.append(i['index'])\n",
    "blactamases['Gene Family'] = blactamases['AMR Gene Family']\n",
    "blactamases.loc[blactamases['AMR Gene Family'].isin(other), ['Gene Family']] = 'Other'"
   ]
  },
  {
   "cell_type": "code",
   "execution_count": null,
   "id": "62d4038a-ae99-491d-9b64-8caf83d48389",
   "metadata": {},
   "outputs": [],
   "source": [
    "kleb_carbapenemases = blactamases.loc[blactamases['Strain'].str.contains('Kleb')].copy()\n",
    "other = []\n",
    "for i in kleb_carbapenemases['Best_Hit_ARO'].value_counts().reset_index().iloc():\n",
    "    if i['Best_Hit_ARO'] < 3:\n",
    "        other.append(i['index'])\n",
    "kleb_carbapenemases['Gene'] = kleb_carbapenemases['Best_Hit_ARO']\n",
    "kleb_carbapenemases.loc[kleb_carbapenemases['Best_Hit_ARO'].isin(other), ['Gene']] = 'Other'\n",
    "sns.kdeplot(data=kleb_carbapenemases, x=\"Year_Cultured\", hue=\"Gene\", multiple=\"fill\")"
   ]
  },
  {
   "cell_type": "code",
   "execution_count": null,
   "id": "223bc8d5-4da7-441a-9392-f15a6984f965",
   "metadata": {},
   "outputs": [],
   "source": [
    "df.loc[df['Best_Hit_ARO'].str.contains('CTX')][['Strain','Year_Cultured','Best_Hit_ARO']]"
   ]
  },
  {
   "cell_type": "code",
   "execution_count": null,
   "id": "70853d8b-28b9-479c-919b-5de0fd1bd321",
   "metadata": {},
   "outputs": [],
   "source": [
    "shv_kleb_carbapenemases = kleb_carbapenemases.loc[kleb_carbapenemases['AMR Gene Family'].str.contains('SHV')]\n",
    "sns.kdeplot(data=shv_kleb_carbapenemases, x=\"Year_Cultured\", hue=\"Best_Hit_ARO\", multiple=\"fill\")"
   ]
  },
  {
   "cell_type": "code",
   "execution_count": null,
   "id": "5ecaaa48-1462-45d1-a121-c836fbbd1615",
   "metadata": {},
   "outputs": [],
   "source": [
    "pseud_blactamases = blactamases.loc[blactamases['Strain'].str.contains('Pseud')]\n",
    "sns.kdeplot(data=pseud_blactamases, x=\"Year_Cultured\", hue=\"Best_Hit_ARO\", multiple=\"fill\")"
   ]
  },
  {
   "cell_type": "code",
   "execution_count": null,
   "id": "6dc0731e-fd55-44b9-9a85-1148a9cdc9c8",
   "metadata": {},
   "outputs": [],
   "source": []
  },
  {
   "cell_type": "code",
   "execution_count": null,
   "id": "06271e33-ff47-4045-800e-77f694b1fcf5",
   "metadata": {},
   "outputs": [],
   "source": []
  },
  {
   "cell_type": "code",
   "execution_count": null,
   "id": "b87ae808-53de-4490-bccb-6363e7a7b9b5",
   "metadata": {},
   "outputs": [],
   "source": []
  },
  {
   "cell_type": "code",
   "execution_count": null,
   "id": "cf030328-443f-4ced-acfa-80d820de4c99",
   "metadata": {},
   "outputs": [],
   "source": []
  }
 ],
 "metadata": {
  "kernelspec": {
   "display_name": "Python 3 (ipykernel)",
   "language": "python",
   "name": "python3"
  },
  "language_info": {
   "codemirror_mode": {
    "name": "ipython",
    "version": 3
   },
   "file_extension": ".py",
   "mimetype": "text/x-python",
   "name": "python",
   "nbconvert_exporter": "python",
   "pygments_lexer": "ipython3",
   "version": "3.8.13"
  }
 },
 "nbformat": 4,
 "nbformat_minor": 5
}

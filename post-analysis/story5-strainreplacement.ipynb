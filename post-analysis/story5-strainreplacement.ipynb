{
 "cells": [
  {
   "cell_type": "code",
   "execution_count": 1,
   "id": "35811252-c32b-49b1-b1f2-efe652ffe572",
   "metadata": {},
   "outputs": [
    {
     "data": {
      "text/html": [
       "        <script type=\"text/javascript\">\n",
       "        window.PlotlyConfig = {MathJaxConfig: 'local'};\n",
       "        if (window.MathJax && window.MathJax.Hub && window.MathJax.Hub.Config) {window.MathJax.Hub.Config({SVG: {font: \"STIX-Web\"}});}\n",
       "        if (typeof require !== 'undefined') {\n",
       "        require.undef(\"plotly\");\n",
       "        requirejs.config({\n",
       "            paths: {\n",
       "                'plotly': ['https://cdn.plot.ly/plotly-2.12.1.min']\n",
       "            }\n",
       "        });\n",
       "        require(['plotly'], function(Plotly) {\n",
       "            window._Plotly = Plotly;\n",
       "        });\n",
       "        }\n",
       "        </script>\n",
       "        "
      ]
     },
     "metadata": {},
     "output_type": "display_data"
    }
   ],
   "source": [
    "import matplotlib.pyplot as plt\n",
    "import numpy as np\n",
    "import pandas as pd\n",
    "import plotly\n",
    "import plotly.express as px\n",
    "import plotly.graph_objs as go\n",
    "import plotly.offline as pyo\n",
    "import seaborn as sns\n",
    "from natsort import index_natsorted\n",
    "from scipy.stats import norm\n",
    "from __future__ import print_function\n",
    "import ipywidgets as widgets\n",
    "from ipywidgets import fixed, interact, interact_manual, interactive\n",
    "%load_ext line_profiler\n",
    "%matplotlib inline\n",
    "pyo.init_notebook_mode(connected=True)"
   ]
  },
  {
   "cell_type": "code",
   "execution_count": 6,
   "id": "c4b59324-bd9c-4d3d-b633-54a167ff3989",
   "metadata": {},
   "outputs": [],
   "source": [
    "df = pd.read_csv(\"/n/scratch3/users/a/ak586/microtrawler/3_analysis-resistance/all_rgiout_2022-06-21\", sep=\"\\t\")\n",
    "df = df.sort_values(\n",
    "    by=[\"Accession_Number\"],\n",
    "    ascending=True,\n",
    "    key=lambda x: np.argsort(index_natsorted(df[\"Accession_Number\"])),\n",
    "    ignore_index=True,\n",
    ")\n",
    "single_acc_df = df.drop_duplicates(subset=['Accession_Number'])\n",
    "year_dict = single_acc_df[['Accession_Number','Year_Cultured']].set_index('Accession_Number').to_dict()['Year_Cultured']\n",
    "df[[\"Species\", \"Subspecies\"]] = df[\"Strain\"].str.split(\"subsp.\", 1, expand=True)\n",
    "df = df.replace(np.nan, \"Null\", regex=True)\n",
    "rgiintegron = pd.read_csv('/n/scratch3/users/a/ak586/microtrawler/3_analysis-resistance/rgi_subset_integronoverlap', sep='\\t', names=df.columns.values)\n",
    "rgiintegron[\"Species\"] = rgiintegron[\"Strain\"].str.split(\"subsp.\", 1, expand=True)\n",
    "rgiintegron[\"Subspecies\"] = \"Null\""
   ]
  },
  {
   "cell_type": "code",
   "execution_count": 7,
   "id": "2d33e92b-45e0-4400-bf1a-e81d6fd2bfae",
   "metadata": {},
   "outputs": [],
   "source": [
    "# df = pd.read_csv(\"/n/scratch3/users/a/ak586/microtrawler/3_analysis-resistance/all_rgiout_2022-06-21\", sep=\"\\t\")\n",
    "# df = df.sort_values(\n",
    "#     by=[\"Accession_Number\"],\n",
    "#     ascending=True,\n",
    "#     key=lambda x: np.argsort(index_natsorted(df[\"Accession_Number\"])),\n",
    "#     ignore_index=True,\n",
    "# )\n",
    "# single_acc_df = df.drop_duplicates(subset=['Accession_Number'])\n",
    "# year_dict = single_acc_df[['Accession_Number','Year_Cultured']].set_index('Accession_Number').to_dict()['Year_Cultured']\n",
    "# df[[\"Species\", \"Subspecies\"]] = df[\"Strain\"].str.split(\"subsp.\", 1, expand=True)\n",
    "# df = df.replace(np.nan, \"Null\", regex=True)\n",
    "# rgiintegron = pd.read_csv('./rgi_subset_integronoverlap', sep='\\t', names=df.columns.values)\n",
    "# rgiintegron[\"Species\"] = rgiintegron[\"Strain\"].str.split(\"subsp.\", 1, expand=True)\n",
    "# rgiintegron[\"Subspecies\"] = \"Null\"\n",
    "# contigdf = pd.concat([df['Accession_Number'], df['Contig'].str.split('_', expand=True)[0].str.split('|').str[-1]], axis=1).copy()\n",
    "\n",
    "# sns.set(rc={\"figure.figsize\":(20, 12)}) #width=3, #height=4"
   ]
  },
  {
   "cell_type": "code",
   "execution_count": null,
   "id": "270606e6-29bc-4dc0-99a2-4f28df656f65",
   "metadata": {},
   "outputs": [],
   "source": [
    "df"
   ]
  },
  {
   "cell_type": "code",
   "execution_count": null,
   "id": "026c3a9d-0ed1-4f67-a425-82e437cf94c5",
   "metadata": {},
   "outputs": [],
   "source": [
    "serotyping_ecoli = pd.read_csv(\"../5_strains/ecoli_serotyping/serotyping_out/output.tsv\", sep='\\t')\n",
    "passing_serotypingecoli = serotyping_ecoli.loc[serotyping_ecoli['QC'].str.contains(\"PASS\")].copy()\n",
    "passing_serotypingecoli['Year'] = passing_serotypingecoli['Name'].map(year_dict)\n",
    "serotypevalue_counts = passing_serotypingecoli['Serotype'].value_counts().to_dict()\n",
    "serotypes_pass = []\n",
    "for i in serotypevalue_counts:\n",
    "    if serotypevalue_counts[i]>1:\n",
    "        serotypes_pass.append(i)\n",
    "passing_serotypingecoli = passing_serotypingecoli.loc[passing_serotypingecoli['Serotype'].isin(serotypes_pass)]"
   ]
  },
  {
   "cell_type": "code",
   "execution_count": null,
   "id": "036322a0-2c0e-4248-8312-6ef48254f39f",
   "metadata": {},
   "outputs": [],
   "source": [
    "serotypevalue_counts"
   ]
  },
  {
   "cell_type": "code",
   "execution_count": null,
   "id": "1f1522ce-c178-4740-ad75-667e9cf1b185",
   "metadata": {},
   "outputs": [],
   "source": [
    "sns.kdeplot(data=passing_serotypingecoli, x=\"Year\", hue=\"Serotype\", multiple=\"fill\", cut=0, bw_adjust=1.4)"
   ]
  },
  {
   "cell_type": "code",
   "execution_count": null,
   "id": "c8423ac3-71c3-4602-a048-6661253c87ec",
   "metadata": {},
   "outputs": [],
   "source": [
    "mlst_ecoli = pd.read_csv(\"../5_strains/ecoli_serotyping/mlst.csv\", sep='\\t', header=None)\n",
    "mlst_ecoli['AccNum'] = mlst_ecoli[0].str.split('/',expand=True)[10]\n",
    "mlst_ecoli['Year'] = mlst_ecoli['AccNum'].map(year_dict)\n",
    "mlst_ecoli = mlst_ecoli.loc[mlst_ecoli[1] == 'ecoli']"
   ]
  },
  {
   "cell_type": "code",
   "execution_count": null,
   "id": "61429bce-e5fe-417c-a3ff-92611f1d0acd",
   "metadata": {},
   "outputs": [],
   "source": [
    "mlstvalue_counts = mlst_ecoli[2].value_counts().to_dict()\n",
    "mlst_pass = []\n",
    "for i in mlstvalue_counts:\n",
    "    if mlstvalue_counts[i]>1:\n",
    "        mlst_pass.append(i)\n",
    "mlst_ecoli = mlst_ecoli.loc[mlst_ecoli[2].isin(mlst_pass)]"
   ]
  },
  {
   "cell_type": "code",
   "execution_count": null,
   "id": "eb44f0c0-f462-456e-a3e7-efe4cbd10128",
   "metadata": {},
   "outputs": [],
   "source": [
    "sns.kdeplot(data=mlst_ecoli, x=\"Year\", hue=2, multiple=\"fill\", cut=0, bw_adjust=1.4)"
   ]
  },
  {
   "cell_type": "code",
   "execution_count": null,
   "id": "a9abca13-f26b-4adc-873c-f91ef07a7ca6",
   "metadata": {},
   "outputs": [],
   "source": [
    "mlst_ecoli.loc[mlst_ecoli[1]=='ecoli'].loc[mlst_ecoli[2].isin(mlst_pass)]"
   ]
  },
  {
   "cell_type": "code",
   "execution_count": null,
   "id": "30f59d3d-3123-4629-a9e5-fadfa392c030",
   "metadata": {},
   "outputs": [],
   "source": [
    "mlstvalue_counts\n",
    "bigsum = 0\n",
    "filteredsum = 0\n",
    "for i in mlstvalue_counts:\n",
    "    if mlstvalue_counts[i] > 1:\n",
    "        filteredsum += mlstvalue_counts[i]\n",
    "    bigsum += mlstvalue_counts[i]\n",
    "filteredsum"
   ]
  },
  {
   "cell_type": "code",
   "execution_count": null,
   "id": "a607e932-3b54-45cf-bfef-9aae6b330beb",
   "metadata": {},
   "outputs": [],
   "source": [
    "bigsum"
   ]
  },
  {
   "cell_type": "code",
   "execution_count": null,
   "id": "5e033011-582a-4ae1-95e5-4d141ae3dcd4",
   "metadata": {},
   "outputs": [],
   "source": [
    "bigsum = 0\n",
    "filteredsum = 0\n",
    "for i in serotypevalue_counts:\n",
    "    if serotypevalue_counts[i] > 1:\n",
    "        filteredsum += serotypevalue_counts[i]\n",
    "    bigsum += serotypevalue_counts[i]\n",
    "filteredsum"
   ]
  },
  {
   "cell_type": "code",
   "execution_count": null,
   "id": "fcd78930-26ed-4a16-8ecb-6dde5e1e324e",
   "metadata": {},
   "outputs": [],
   "source": [
    "bigsum"
   ]
  },
  {
   "cell_type": "code",
   "execution_count": null,
   "id": "89470d95-a671-4faa-9915-31b9deda84c9",
   "metadata": {},
   "outputs": [],
   "source": []
  }
 ],
 "metadata": {
  "kernelspec": {
   "display_name": "Python 3 (ipykernel)",
   "language": "python",
   "name": "python3"
  },
  "language_info": {
   "codemirror_mode": {
    "name": "ipython",
    "version": 3
   },
   "file_extension": ".py",
   "mimetype": "text/x-python",
   "name": "python",
   "nbconvert_exporter": "python",
   "pygments_lexer": "ipython3",
   "version": "3.8.13"
  }
 },
 "nbformat": 4,
 "nbformat_minor": 5
}

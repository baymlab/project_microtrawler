{
 "cells": [
  {
   "cell_type": "code",
   "execution_count": 1,
   "id": "e9cae7dc-10bd-478a-ad6b-7c0dac731c69",
   "metadata": {
    "tags": []
   },
   "outputs": [
    {
     "data": {
      "text/html": [
       "        <script type=\"text/javascript\">\n",
       "        window.PlotlyConfig = {MathJaxConfig: 'local'};\n",
       "        if (window.MathJax && window.MathJax.Hub && window.MathJax.Hub.Config) {window.MathJax.Hub.Config({SVG: {font: \"STIX-Web\"}});}\n",
       "        if (typeof require !== 'undefined') {\n",
       "        require.undef(\"plotly\");\n",
       "        requirejs.config({\n",
       "            paths: {\n",
       "                'plotly': ['https://cdn.plot.ly/plotly-2.12.1.min']\n",
       "            }\n",
       "        });\n",
       "        require(['plotly'], function(Plotly) {\n",
       "            window._Plotly = Plotly;\n",
       "        });\n",
       "        }\n",
       "        </script>\n",
       "        "
      ]
     },
     "metadata": {},
     "output_type": "display_data"
    }
   ],
   "source": [
    "import matplotlib.pyplot as plt\n",
    "import numpy as np\n",
    "import pandas as pd\n",
    "import plotly\n",
    "import plotly.express as px\n",
    "import plotly.graph_objs as go\n",
    "import plotly.offline as pyo\n",
    "import seaborn as sns\n",
    "from natsort import index_natsorted\n",
    "from scipy.stats import norm\n",
    "from __future__ import print_function\n",
    "import ipywidgets as widgets\n",
    "from ipywidgets import fixed, interact, interact_manual, interactive\n",
    "%load_ext line_profiler\n",
    "%matplotlib inline\n",
    "pyo.init_notebook_mode(connected=True)"
   ]
  },
  {
   "cell_type": "markdown",
   "id": "49fdf847-224a-4df3-9098-7dabe549726d",
   "metadata": {},
   "source": [
    "## Read in Plasmid predictions"
   ]
  },
  {
   "cell_type": "code",
   "execution_count": 3,
   "id": "5b41eab4-2d45-42bd-ab73-7a3f642a4468",
   "metadata": {},
   "outputs": [],
   "source": [
    "df = pd.read_csv(\"/n/scratch3/users/a/ak586/microtrawler/3_analysis-resistance/all_rgiout_2022-06-21\", sep=\"\\t\")\n",
    "df = df.sort_values(\n",
    "    by=[\"Accession_Number\"],\n",
    "    ascending=True,\n",
    "    key=lambda x: np.argsort(index_natsorted(df[\"Accession_Number\"])),\n",
    "    ignore_index=True,\n",
    ")\n",
    "single_acc_df = df.drop_duplicates(subset=['Accession_Number'])\n",
    "year_dict = single_acc_df[['Accession_Number','Year_Cultured']].set_index('Accession_Number').to_dict()['Year_Cultured']\n",
    "df[[\"Species\", \"Subspecies\"]] = df[\"Strain\"].str.split(\"subsp.\", 1, expand=True)\n",
    "df = df.replace(np.nan, \"Null\", regex=True)\n",
    "rgiintegron = pd.read_csv('/n/scratch3/users/a/ak586/microtrawler/3_analysis-resistance/rgi_subset_integronoverlap', sep='\\t', names=df.columns.values)\n",
    "rgiintegron[\"Species\"] = rgiintegron[\"Strain\"].str.split(\"subsp.\", 1, expand=True)\n",
    "rgiintegron[\"Subspecies\"] = \"Null\""
   ]
  },
  {
   "cell_type": "code",
   "execution_count": 4,
   "id": "15e60eaf-c82b-4bbb-bc88-9365170b2d8f",
   "metadata": {},
   "outputs": [],
   "source": [
    "contigdf = pd.concat([df['Accession_Number'], df['Contig'].str.split('_', expand=True)[0].str.split('|').str[-1]], axis=1).copy()\n",
    "plasmidfinder_out = pd.read_csv(\"/n/scratch3/users/a/ak586/microtrawler/3_analysis-plasmid/merged-plasmidfinder\", sep='\\t')\n",
    "plasmidfinder_out['CleanContig'] = plasmidfinder_out['Contig'].str.split(' ', expand=True)[0]\n",
    "plasmidfinder_out['Year'] = plasmidfinder_out['AccNum'].map(year_dict)\n",
    "\n",
    "# mob_out = pd.read_csv(\"/n/scratch3/users/a/ak586/microtrawler/3_analysis-plasmid/merged-mobout\", sep='\\t')\n",
    "# mob_out[0] = mob_out['contig_id'].str.split(' ', expand=True)[0]\n",
    "# mob_rgi = df.loc[contigdf[0].isin(mob_out[0])].copy()\n",
    "\n",
    "ecoli_mlplasmid_out = pd.read_csv('/n/scratch3/users/a/ak586/microtrawler/3_analysis-plasmid/merged-Escherichia_coli-mlplasmidout', sep='\\t')\n",
    "ecoli_mlplasmid_out['Contig'] = ecoli_mlplasmid_out['Contig_name'].str.split(' ', expand=True)[0]\n",
    "ecoli_mlplasmid_out['Year'] = ecoli_mlplasmid_out['AccNum'].map(year_dict)\n",
    "ecoli_mlplasmids_rgi = contigdf.loc[contigdf['Accession_Number'].isin(ecoli_mlplasmid_out['AccNum'])]\n",
    "ecoli_mlplasmids_rgi = ecoli_mlplasmids_rgi.loc[ecoli_mlplasmids_rgi[0].isin(ecoli_mlplasmid_out['Contig'])]\n",
    "ecoli_mlplasmids_rgi = df.loc[ecoli_mlplasmids_rgi.index].copy()\n",
    "ecoli_mlplasmids_rgi['CleanContig'] = ecoli_mlplasmids_rgi['Contig'].str.split('_', expand=True)[0]\n",
    "\n",
    "kleb_mlplasmid_out = pd.read_csv('/n/scratch3/users/a/ak586/microtrawler/3_analysis-plasmid/merged-Klebsiella_pneumoniae-mlplasmidout', sep='\\t')\n",
    "kleb_mlplasmid_out['Contig'] = kleb_mlplasmid_out['Contig_name'].str.split(' ', expand=True)[0]\n",
    "klebplasmids_df = contigdf.loc[contigdf['Accession_Number'].isin(kleb_mlplasmid_out['AccNum'])]\n",
    "klebplasmids_df = klebplasmids_df.loc[klebplasmids_df[0].isin(kleb_mlplasmid_out['Contig'])]\n",
    "klebplasmids_df = df.loc[klebplasmids_df.index].copy()"
   ]
  },
  {
   "cell_type": "code",
   "execution_count": 5,
   "id": "c2f5838d-8e93-4b4d-b73f-b0c86b6710c0",
   "metadata": {},
   "outputs": [
    {
     "data": {
      "text/html": [
       "<div>\n",
       "<style scoped>\n",
       "    .dataframe tbody tr th:only-of-type {\n",
       "        vertical-align: middle;\n",
       "    }\n",
       "\n",
       "    .dataframe tbody tr th {\n",
       "        vertical-align: top;\n",
       "    }\n",
       "\n",
       "    .dataframe thead th {\n",
       "        text-align: right;\n",
       "    }\n",
       "</style>\n",
       "<table border=\"1\" class=\"dataframe\">\n",
       "  <thead>\n",
       "    <tr style=\"text-align: right;\">\n",
       "      <th></th>\n",
       "      <th>AccNum</th>\n",
       "      <th>sample_id</th>\n",
       "      <th>molecule_type</th>\n",
       "      <th>primary_cluster_id</th>\n",
       "      <th>secondary_cluster_id</th>\n",
       "      <th>contig_id</th>\n",
       "      <th>size</th>\n",
       "      <th>gc</th>\n",
       "      <th>md5</th>\n",
       "      <th>circularity_status</th>\n",
       "      <th>...</th>\n",
       "      <th>orit_accession(s)</th>\n",
       "      <th>predicted_mobility</th>\n",
       "      <th>mash_nearest_neighbor</th>\n",
       "      <th>mash_neighbor_distance</th>\n",
       "      <th>mash_neighbor_identification</th>\n",
       "      <th>repetitive_dna_id</th>\n",
       "      <th>repetitive_dna_type</th>\n",
       "      <th>filtering_reason</th>\n",
       "      <th>0</th>\n",
       "      <th>sample</th>\n",
       "    </tr>\n",
       "  </thead>\n",
       "  <tbody>\n",
       "    <tr>\n",
       "      <th>0</th>\n",
       "      <td>NCTC10005</td>\n",
       "      <td>assembly</td>\n",
       "      <td>plasmid</td>\n",
       "      <td>AA424</td>\n",
       "      <td>AI484</td>\n",
       "      <td>UGJB01000001.1 Enterobacter cloacae strain NCT...</td>\n",
       "      <td>11122</td>\n",
       "      <td>51.348678</td>\n",
       "      <td>95f9a5cf43a0297cd4af316ffce2c6b8</td>\n",
       "      <td>not tested</td>\n",
       "      <td>...</td>\n",
       "      <td>-</td>\n",
       "      <td>-</td>\n",
       "      <td>CP001919</td>\n",
       "      <td>0.00433199</td>\n",
       "      <td>Enterobacter cloacae subsp. cloacae ATCC 13047</td>\n",
       "      <td>-</td>\n",
       "      <td>-</td>\n",
       "      <td>-</td>\n",
       "      <td>UGJB01000001.1</td>\n",
       "      <td>assembly:AA424</td>\n",
       "    </tr>\n",
       "    <tr>\n",
       "      <th>1</th>\n",
       "      <td>NCTC10005</td>\n",
       "      <td>assembly</td>\n",
       "      <td>plasmid</td>\n",
       "      <td>AE199</td>\n",
       "      <td>AN927</td>\n",
       "      <td>UGJB01000002.1 Enterobacter cloacae strain NCT...</td>\n",
       "      <td>87975</td>\n",
       "      <td>47.577153</td>\n",
       "      <td>3c597b494df83c0a2e5816808e53da33</td>\n",
       "      <td>not tested</td>\n",
       "      <td>...</td>\n",
       "      <td>-</td>\n",
       "      <td>-</td>\n",
       "      <td>NC_014108</td>\n",
       "      <td>0.00113443</td>\n",
       "      <td>Enterobacter cloacae subsp. cloacae ATCC 13047</td>\n",
       "      <td>-</td>\n",
       "      <td>-</td>\n",
       "      <td>-</td>\n",
       "      <td>UGJB01000002.1</td>\n",
       "      <td>assembly:AE199</td>\n",
       "    </tr>\n",
       "    <tr>\n",
       "      <th>2</th>\n",
       "      <td>NCTC10005</td>\n",
       "      <td>assembly</td>\n",
       "      <td>plasmid</td>\n",
       "      <td>AA424</td>\n",
       "      <td>AI484</td>\n",
       "      <td>UGJB01000003.1 Enterobacter cloacae strain NCT...</td>\n",
       "      <td>160937</td>\n",
       "      <td>52.185016</td>\n",
       "      <td>6ff757a7f4526299bce4d7d046d4cf76</td>\n",
       "      <td>not tested</td>\n",
       "      <td>...</td>\n",
       "      <td>-</td>\n",
       "      <td>-</td>\n",
       "      <td>CP001919</td>\n",
       "      <td>0.00433199</td>\n",
       "      <td>Enterobacter cloacae subsp. cloacae ATCC 13047</td>\n",
       "      <td>-</td>\n",
       "      <td>-</td>\n",
       "      <td>-</td>\n",
       "      <td>UGJB01000003.1</td>\n",
       "      <td>assembly:AA424</td>\n",
       "    </tr>\n",
       "    <tr>\n",
       "      <th>3</th>\n",
       "      <td>NCTC10005</td>\n",
       "      <td>assembly</td>\n",
       "      <td>plasmid</td>\n",
       "      <td>AA424</td>\n",
       "      <td>AI484</td>\n",
       "      <td>UGJB01000005.1 Enterobacter cloacae strain NCT...</td>\n",
       "      <td>5585</td>\n",
       "      <td>46.105640</td>\n",
       "      <td>4ec2cacd0397ff2cb84a772d2e70acda</td>\n",
       "      <td>not tested</td>\n",
       "      <td>...</td>\n",
       "      <td>-</td>\n",
       "      <td>-</td>\n",
       "      <td>CP001919</td>\n",
       "      <td>0.00433199</td>\n",
       "      <td>Enterobacter cloacae subsp. cloacae ATCC 13047</td>\n",
       "      <td>-</td>\n",
       "      <td>-</td>\n",
       "      <td>-</td>\n",
       "      <td>UGJB01000005.1</td>\n",
       "      <td>assembly:AA424</td>\n",
       "    </tr>\n",
       "    <tr>\n",
       "      <th>4</th>\n",
       "      <td>NCTC10006</td>\n",
       "      <td>assembly_10</td>\n",
       "      <td>plasmid</td>\n",
       "      <td>AH399</td>\n",
       "      <td>AR455</td>\n",
       "      <td>ENA|LR134131|LR134131.1 Klebsiella aerogenes s...</td>\n",
       "      <td>2105</td>\n",
       "      <td>38.194774</td>\n",
       "      <td>1153df154e83eefd927594fe09f76be2</td>\n",
       "      <td>not tested</td>\n",
       "      <td>...</td>\n",
       "      <td>-</td>\n",
       "      <td>-</td>\n",
       "      <td>LR134131</td>\n",
       "      <td>0.0</td>\n",
       "      <td>Klebsiella aerogenes</td>\n",
       "      <td>-</td>\n",
       "      <td>-</td>\n",
       "      <td>-</td>\n",
       "      <td>ENA|LR134131|LR134131.1</td>\n",
       "      <td>assembly_10:AH399</td>\n",
       "    </tr>\n",
       "    <tr>\n",
       "      <th>...</th>\n",
       "      <td>...</td>\n",
       "      <td>...</td>\n",
       "      <td>...</td>\n",
       "      <td>...</td>\n",
       "      <td>...</td>\n",
       "      <td>...</td>\n",
       "      <td>...</td>\n",
       "      <td>...</td>\n",
       "      <td>...</td>\n",
       "      <td>...</td>\n",
       "      <td>...</td>\n",
       "      <td>...</td>\n",
       "      <td>...</td>\n",
       "      <td>...</td>\n",
       "      <td>...</td>\n",
       "      <td>...</td>\n",
       "      <td>...</td>\n",
       "      <td>...</td>\n",
       "      <td>...</td>\n",
       "      <td>...</td>\n",
       "      <td>...</td>\n",
       "    </tr>\n",
       "    <tr>\n",
       "      <th>1512</th>\n",
       "      <td>NCTC9969</td>\n",
       "      <td>assembly</td>\n",
       "      <td>plasmid</td>\n",
       "      <td>AC621</td>\n",
       "      <td>AL885</td>\n",
       "      <td>UGES01000001.1 Escherichia coli strain NCTC996...</td>\n",
       "      <td>33921</td>\n",
       "      <td>43.176793</td>\n",
       "      <td>d99118e3dea68679e078a7c2acd2c605</td>\n",
       "      <td>not tested</td>\n",
       "      <td>...</td>\n",
       "      <td>-</td>\n",
       "      <td>-</td>\n",
       "      <td>CP023368</td>\n",
       "      <td>0.00580821</td>\n",
       "      <td>Escherichia coli</td>\n",
       "      <td>-</td>\n",
       "      <td>-</td>\n",
       "      <td>-</td>\n",
       "      <td>UGES01000001.1</td>\n",
       "      <td>assembly:AC621</td>\n",
       "    </tr>\n",
       "    <tr>\n",
       "      <th>1513</th>\n",
       "      <td>NCTC9969</td>\n",
       "      <td>assembly</td>\n",
       "      <td>plasmid</td>\n",
       "      <td>AA179</td>\n",
       "      <td>AH867</td>\n",
       "      <td>UGES01000002.1 Escherichia coli strain NCTC996...</td>\n",
       "      <td>15794</td>\n",
       "      <td>45.226035</td>\n",
       "      <td>afeb427af213d1813116992b0b238ef9</td>\n",
       "      <td>not tested</td>\n",
       "      <td>...</td>\n",
       "      <td>-</td>\n",
       "      <td>-</td>\n",
       "      <td>CP021198</td>\n",
       "      <td>0.0202797</td>\n",
       "      <td>Escherichia coli</td>\n",
       "      <td>-</td>\n",
       "      <td>-</td>\n",
       "      <td>-</td>\n",
       "      <td>UGES01000002.1</td>\n",
       "      <td>assembly:AA179</td>\n",
       "    </tr>\n",
       "    <tr>\n",
       "      <th>1514</th>\n",
       "      <td>NCTC9969</td>\n",
       "      <td>assembly</td>\n",
       "      <td>plasmid</td>\n",
       "      <td>AC621</td>\n",
       "      <td>AL885</td>\n",
       "      <td>UGES01000003.1 Escherichia coli strain NCTC996...</td>\n",
       "      <td>63132</td>\n",
       "      <td>43.825635</td>\n",
       "      <td>b588db7003855ddcd04b9e1c2ffe6ccb</td>\n",
       "      <td>not tested</td>\n",
       "      <td>...</td>\n",
       "      <td>-</td>\n",
       "      <td>-</td>\n",
       "      <td>CP023368</td>\n",
       "      <td>0.00580821</td>\n",
       "      <td>Escherichia coli</td>\n",
       "      <td>-</td>\n",
       "      <td>-</td>\n",
       "      <td>-</td>\n",
       "      <td>UGES01000003.1</td>\n",
       "      <td>assembly:AC621</td>\n",
       "    </tr>\n",
       "    <tr>\n",
       "      <th>1515</th>\n",
       "      <td>NCTC9969</td>\n",
       "      <td>assembly</td>\n",
       "      <td>plasmid</td>\n",
       "      <td>AA179</td>\n",
       "      <td>AH867</td>\n",
       "      <td>UGES01000007.1 Escherichia coli strain NCTC996...</td>\n",
       "      <td>161332</td>\n",
       "      <td>49.476235</td>\n",
       "      <td>78919d30362f71853cf0d5550aff9bf4</td>\n",
       "      <td>not tested</td>\n",
       "      <td>...</td>\n",
       "      <td>HG796403</td>\n",
       "      <td>-</td>\n",
       "      <td>CP021198</td>\n",
       "      <td>0.0202797</td>\n",
       "      <td>Escherichia coli</td>\n",
       "      <td>-</td>\n",
       "      <td>-</td>\n",
       "      <td>-</td>\n",
       "      <td>UGES01000007.1</td>\n",
       "      <td>assembly:AA179</td>\n",
       "    </tr>\n",
       "    <tr>\n",
       "      <th>1516</th>\n",
       "      <td>NCTC9997</td>\n",
       "      <td>assembly_2</td>\n",
       "      <td>plasmid</td>\n",
       "      <td>AA822</td>\n",
       "      <td>AJ199</td>\n",
       "      <td>ENA|LR134252|LR134252.1 Raoultella terrigena s...</td>\n",
       "      <td>276068</td>\n",
       "      <td>51.627135</td>\n",
       "      <td>f82ada894623da577c58b3e1db507260</td>\n",
       "      <td>not tested</td>\n",
       "      <td>...</td>\n",
       "      <td>-</td>\n",
       "      <td>-</td>\n",
       "      <td>LR134252</td>\n",
       "      <td>0.0</td>\n",
       "      <td>Klebsiella aerogenes</td>\n",
       "      <td>-</td>\n",
       "      <td>-</td>\n",
       "      <td>-</td>\n",
       "      <td>ENA|LR134252|LR134252.1</td>\n",
       "      <td>assembly_2:AA822</td>\n",
       "    </tr>\n",
       "  </tbody>\n",
       "</table>\n",
       "<p>1517 rows × 27 columns</p>\n",
       "</div>"
      ],
      "text/plain": [
       "         AccNum    sample_id molecule_type primary_cluster_id  \\\n",
       "0     NCTC10005     assembly       plasmid              AA424   \n",
       "1     NCTC10005     assembly       plasmid              AE199   \n",
       "2     NCTC10005     assembly       plasmid              AA424   \n",
       "3     NCTC10005     assembly       plasmid              AA424   \n",
       "4     NCTC10006  assembly_10       plasmid              AH399   \n",
       "...         ...          ...           ...                ...   \n",
       "1512   NCTC9969     assembly       plasmid              AC621   \n",
       "1513   NCTC9969     assembly       plasmid              AA179   \n",
       "1514   NCTC9969     assembly       plasmid              AC621   \n",
       "1515   NCTC9969     assembly       plasmid              AA179   \n",
       "1516   NCTC9997   assembly_2       plasmid              AA822   \n",
       "\n",
       "     secondary_cluster_id                                          contig_id  \\\n",
       "0                   AI484  UGJB01000001.1 Enterobacter cloacae strain NCT...   \n",
       "1                   AN927  UGJB01000002.1 Enterobacter cloacae strain NCT...   \n",
       "2                   AI484  UGJB01000003.1 Enterobacter cloacae strain NCT...   \n",
       "3                   AI484  UGJB01000005.1 Enterobacter cloacae strain NCT...   \n",
       "4                   AR455  ENA|LR134131|LR134131.1 Klebsiella aerogenes s...   \n",
       "...                   ...                                                ...   \n",
       "1512                AL885  UGES01000001.1 Escherichia coli strain NCTC996...   \n",
       "1513                AH867  UGES01000002.1 Escherichia coli strain NCTC996...   \n",
       "1514                AL885  UGES01000003.1 Escherichia coli strain NCTC996...   \n",
       "1515                AH867  UGES01000007.1 Escherichia coli strain NCTC996...   \n",
       "1516                AJ199  ENA|LR134252|LR134252.1 Raoultella terrigena s...   \n",
       "\n",
       "        size         gc                               md5 circularity_status  \\\n",
       "0      11122  51.348678  95f9a5cf43a0297cd4af316ffce2c6b8         not tested   \n",
       "1      87975  47.577153  3c597b494df83c0a2e5816808e53da33         not tested   \n",
       "2     160937  52.185016  6ff757a7f4526299bce4d7d046d4cf76         not tested   \n",
       "3       5585  46.105640  4ec2cacd0397ff2cb84a772d2e70acda         not tested   \n",
       "4       2105  38.194774  1153df154e83eefd927594fe09f76be2         not tested   \n",
       "...      ...        ...                               ...                ...   \n",
       "1512   33921  43.176793  d99118e3dea68679e078a7c2acd2c605         not tested   \n",
       "1513   15794  45.226035  afeb427af213d1813116992b0b238ef9         not tested   \n",
       "1514   63132  43.825635  b588db7003855ddcd04b9e1c2ffe6ccb         not tested   \n",
       "1515  161332  49.476235  78919d30362f71853cf0d5550aff9bf4         not tested   \n",
       "1516  276068  51.627135  f82ada894623da577c58b3e1db507260         not tested   \n",
       "\n",
       "      ... orit_accession(s) predicted_mobility mash_nearest_neighbor  \\\n",
       "0     ...                 -                  -              CP001919   \n",
       "1     ...                 -                  -             NC_014108   \n",
       "2     ...                 -                  -              CP001919   \n",
       "3     ...                 -                  -              CP001919   \n",
       "4     ...                 -                  -              LR134131   \n",
       "...   ...               ...                ...                   ...   \n",
       "1512  ...                 -                  -              CP023368   \n",
       "1513  ...                 -                  -              CP021198   \n",
       "1514  ...                 -                  -              CP023368   \n",
       "1515  ...          HG796403                  -              CP021198   \n",
       "1516  ...                 -                  -              LR134252   \n",
       "\n",
       "     mash_neighbor_distance                    mash_neighbor_identification  \\\n",
       "0                0.00433199  Enterobacter cloacae subsp. cloacae ATCC 13047   \n",
       "1                0.00113443  Enterobacter cloacae subsp. cloacae ATCC 13047   \n",
       "2                0.00433199  Enterobacter cloacae subsp. cloacae ATCC 13047   \n",
       "3                0.00433199  Enterobacter cloacae subsp. cloacae ATCC 13047   \n",
       "4                       0.0                            Klebsiella aerogenes   \n",
       "...                     ...                                             ...   \n",
       "1512             0.00580821                                Escherichia coli   \n",
       "1513              0.0202797                                Escherichia coli   \n",
       "1514             0.00580821                                Escherichia coli   \n",
       "1515              0.0202797                                Escherichia coli   \n",
       "1516                    0.0                            Klebsiella aerogenes   \n",
       "\n",
       "     repetitive_dna_id repetitive_dna_type filtering_reason  \\\n",
       "0                    -                   -                -   \n",
       "1                    -                   -                -   \n",
       "2                    -                   -                -   \n",
       "3                    -                   -                -   \n",
       "4                    -                   -                -   \n",
       "...                ...                 ...              ...   \n",
       "1512                 -                   -                -   \n",
       "1513                 -                   -                -   \n",
       "1514                 -                   -                -   \n",
       "1515                 -                   -                -   \n",
       "1516                 -                   -                -   \n",
       "\n",
       "                            0             sample  \n",
       "0              UGJB01000001.1     assembly:AA424  \n",
       "1              UGJB01000002.1     assembly:AE199  \n",
       "2              UGJB01000003.1     assembly:AA424  \n",
       "3              UGJB01000005.1     assembly:AA424  \n",
       "4     ENA|LR134131|LR134131.1  assembly_10:AH399  \n",
       "...                       ...                ...  \n",
       "1512           UGES01000001.1     assembly:AC621  \n",
       "1513           UGES01000002.1     assembly:AA179  \n",
       "1514           UGES01000003.1     assembly:AC621  \n",
       "1515           UGES01000007.1     assembly:AA179  \n",
       "1516  ENA|LR134252|LR134252.1   assembly_2:AA822  \n",
       "\n",
       "[1517 rows x 27 columns]"
      ]
     },
     "execution_count": 5,
     "metadata": {},
     "output_type": "execute_result"
    }
   ],
   "source": [
    "contig_mob = pd.read_csv(\"/n/scratch3/users/a/ak586/microtrawler/3_analysis-plasmid/merged-contigreport\", sep='\\t')\n",
    "contig_mob[0] = contig_mob['contig_id'].str.split(' ', expand=True)[0]\n",
    "contig_mob['sample'] = contig_mob['sample_id']+\":\"+contig_mob['primary_cluster_id']\n",
    "contig_mob\n",
    "# mob_rgi = df.loc[contigdf[0].isin(mob_out[0])].copy()"
   ]
  },
  {
   "cell_type": "code",
   "execution_count": 6,
   "id": "e5fbf919-3278-4f23-8437-7365c4f0dc96",
   "metadata": {},
   "outputs": [
    {
     "data": {
      "text/html": [
       "<div>\n",
       "<style scoped>\n",
       "    .dataframe tbody tr th:only-of-type {\n",
       "        vertical-align: middle;\n",
       "    }\n",
       "\n",
       "    .dataframe tbody tr th {\n",
       "        vertical-align: top;\n",
       "    }\n",
       "\n",
       "    .dataframe thead th {\n",
       "        text-align: right;\n",
       "    }\n",
       "</style>\n",
       "<table border=\"1\" class=\"dataframe\">\n",
       "  <thead>\n",
       "    <tr style=\"text-align: right;\">\n",
       "      <th></th>\n",
       "      <th>AccNum</th>\n",
       "      <th>sample_id</th>\n",
       "      <th>num_contigs</th>\n",
       "      <th>size</th>\n",
       "      <th>gc</th>\n",
       "      <th>md5</th>\n",
       "      <th>rep_type(s)</th>\n",
       "      <th>rep_type_accession(s)</th>\n",
       "      <th>relaxase_type(s)</th>\n",
       "      <th>relaxase_type_accession(s)</th>\n",
       "      <th>...</th>\n",
       "      <th>primary_cluster_id</th>\n",
       "      <th>secondary_cluster_id</th>\n",
       "      <th>predicted_host_range_overall_rank</th>\n",
       "      <th>predicted_host_range_overall_name</th>\n",
       "      <th>observed_host_range_ncbi_rank</th>\n",
       "      <th>observed_host_range_ncbi_name</th>\n",
       "      <th>reported_host_range_lit_rank</th>\n",
       "      <th>reported_host_range_lit_name</th>\n",
       "      <th>associated_pmid(s)</th>\n",
       "      <th>sample</th>\n",
       "    </tr>\n",
       "  </thead>\n",
       "  <tbody>\n",
       "    <tr>\n",
       "      <th>0</th>\n",
       "      <td>NCTC10005</td>\n",
       "      <td>assembly:AA424</td>\n",
       "      <td>3</td>\n",
       "      <td>177644</td>\n",
       "      <td>51.941523</td>\n",
       "      <td>f0e8e64b80be3f25839e02755e530f08</td>\n",
       "      <td>IncFIB,IncFII,rep_cluster_2358</td>\n",
       "      <td>CP039454_00078,CP019890_00139,CP000974_00005</td>\n",
       "      <td>MOBF,MOBP</td>\n",
       "      <td>NC_014107_00160,NC_021819_00066</td>\n",
       "      <td>...</td>\n",
       "      <td>AA424</td>\n",
       "      <td>AI484</td>\n",
       "      <td>phylum</td>\n",
       "      <td>Proteobacteria</td>\n",
       "      <td>order</td>\n",
       "      <td>Enterobacterales</td>\n",
       "      <td>phylum</td>\n",
       "      <td>Proteobacteria</td>\n",
       "      <td>24096417</td>\n",
       "      <td>assembly:AA424</td>\n",
       "    </tr>\n",
       "    <tr>\n",
       "      <th>1</th>\n",
       "      <td>NCTC10005</td>\n",
       "      <td>assembly:AE199</td>\n",
       "      <td>1</td>\n",
       "      <td>87975</td>\n",
       "      <td>47.577153</td>\n",
       "      <td>3c597b494df83c0a2e5816808e53da33</td>\n",
       "      <td>rep_cluster_867</td>\n",
       "      <td>002347__CP001920_00047</td>\n",
       "      <td>MOBF</td>\n",
       "      <td>NC_014108_00108</td>\n",
       "      <td>...</td>\n",
       "      <td>AE199</td>\n",
       "      <td>AN927</td>\n",
       "      <td>genus</td>\n",
       "      <td>Enterobacter</td>\n",
       "      <td>genus</td>\n",
       "      <td>Enterobacter</td>\n",
       "      <td>-</td>\n",
       "      <td>-</td>\n",
       "      <td>-</td>\n",
       "      <td>assembly:AE199</td>\n",
       "    </tr>\n",
       "    <tr>\n",
       "      <th>2</th>\n",
       "      <td>NCTC10006</td>\n",
       "      <td>assembly_10:AH399</td>\n",
       "      <td>1</td>\n",
       "      <td>2105</td>\n",
       "      <td>38.194774</td>\n",
       "      <td>1153df154e83eefd927594fe09f76be2</td>\n",
       "      <td>-</td>\n",
       "      <td>-</td>\n",
       "      <td>-</td>\n",
       "      <td>-</td>\n",
       "      <td>...</td>\n",
       "      <td>AH399</td>\n",
       "      <td>AR455</td>\n",
       "      <td>genus</td>\n",
       "      <td>Klebsiella</td>\n",
       "      <td>genus</td>\n",
       "      <td>Klebsiella</td>\n",
       "      <td>-</td>\n",
       "      <td>-</td>\n",
       "      <td>-</td>\n",
       "      <td>assembly_10:AH399</td>\n",
       "    </tr>\n",
       "    <tr>\n",
       "      <th>3</th>\n",
       "      <td>NCTC10006</td>\n",
       "      <td>assembly_12:AH177</td>\n",
       "      <td>1</td>\n",
       "      <td>6249</td>\n",
       "      <td>43.815010</td>\n",
       "      <td>add2ec8852dcb0977dd496ce6156fb94</td>\n",
       "      <td>-</td>\n",
       "      <td>-</td>\n",
       "      <td>-</td>\n",
       "      <td>-</td>\n",
       "      <td>...</td>\n",
       "      <td>AH177</td>\n",
       "      <td>AR233</td>\n",
       "      <td>genus</td>\n",
       "      <td>Klebsiella</td>\n",
       "      <td>genus</td>\n",
       "      <td>Klebsiella</td>\n",
       "      <td>-</td>\n",
       "      <td>-</td>\n",
       "      <td>-</td>\n",
       "      <td>assembly_12:AH177</td>\n",
       "    </tr>\n",
       "    <tr>\n",
       "      <th>4</th>\n",
       "      <td>NCTC10006</td>\n",
       "      <td>assembly_7:AG790</td>\n",
       "      <td>1</td>\n",
       "      <td>7647</td>\n",
       "      <td>36.811822</td>\n",
       "      <td>fb84cf4d2241d3964f865d74f25455f6</td>\n",
       "      <td>-</td>\n",
       "      <td>-</td>\n",
       "      <td>-</td>\n",
       "      <td>-</td>\n",
       "      <td>...</td>\n",
       "      <td>AG790</td>\n",
       "      <td>AQ846</td>\n",
       "      <td>genus</td>\n",
       "      <td>Klebsiella</td>\n",
       "      <td>genus</td>\n",
       "      <td>Klebsiella</td>\n",
       "      <td>-</td>\n",
       "      <td>-</td>\n",
       "      <td>-</td>\n",
       "      <td>assembly_7:AG790</td>\n",
       "    </tr>\n",
       "    <tr>\n",
       "      <th>...</th>\n",
       "      <td>...</td>\n",
       "      <td>...</td>\n",
       "      <td>...</td>\n",
       "      <td>...</td>\n",
       "      <td>...</td>\n",
       "      <td>...</td>\n",
       "      <td>...</td>\n",
       "      <td>...</td>\n",
       "      <td>...</td>\n",
       "      <td>...</td>\n",
       "      <td>...</td>\n",
       "      <td>...</td>\n",
       "      <td>...</td>\n",
       "      <td>...</td>\n",
       "      <td>...</td>\n",
       "      <td>...</td>\n",
       "      <td>...</td>\n",
       "      <td>...</td>\n",
       "      <td>...</td>\n",
       "      <td>...</td>\n",
       "      <td>...</td>\n",
       "    </tr>\n",
       "    <tr>\n",
       "      <th>1096</th>\n",
       "      <td>NCTC9963</td>\n",
       "      <td>assembly:AA336</td>\n",
       "      <td>1</td>\n",
       "      <td>130556</td>\n",
       "      <td>49.255492</td>\n",
       "      <td>39ed2ddfec96f53d4d3b702e8edaaee9</td>\n",
       "      <td>IncFIA,IncFII</td>\n",
       "      <td>CP022610_00144,LS992172_00069</td>\n",
       "      <td>MOBF,MOBF</td>\n",
       "      <td>CP029214_00066,CP008715_00128</td>\n",
       "      <td>...</td>\n",
       "      <td>AA336</td>\n",
       "      <td>-</td>\n",
       "      <td>family</td>\n",
       "      <td>Enterobacteriaceae</td>\n",
       "      <td>family</td>\n",
       "      <td>Enterobacteriaceae</td>\n",
       "      <td>-</td>\n",
       "      <td>-</td>\n",
       "      <td>-</td>\n",
       "      <td>assembly:AA336</td>\n",
       "    </tr>\n",
       "    <tr>\n",
       "      <th>1097</th>\n",
       "      <td>NCTC9965</td>\n",
       "      <td>assembly:AA304</td>\n",
       "      <td>2</td>\n",
       "      <td>70980</td>\n",
       "      <td>46.129896</td>\n",
       "      <td>3f083418c312e47b5abda402ad2f2088</td>\n",
       "      <td>IncFIA,IncFIA,IncFIB,IncFIB</td>\n",
       "      <td>AF250878,000136__AP014877_00014,000095__NZ_CP0...</td>\n",
       "      <td>-</td>\n",
       "      <td>-</td>\n",
       "      <td>...</td>\n",
       "      <td>AA304</td>\n",
       "      <td>-</td>\n",
       "      <td>order</td>\n",
       "      <td>Enterobacterales</td>\n",
       "      <td>order</td>\n",
       "      <td>Enterobacterales</td>\n",
       "      <td>order</td>\n",
       "      <td>Enterobacterales</td>\n",
       "      <td>11254626; 19482926; 15781495; 20851899; 16257053</td>\n",
       "      <td>assembly:AA304</td>\n",
       "    </tr>\n",
       "    <tr>\n",
       "      <th>1098</th>\n",
       "      <td>NCTC9969</td>\n",
       "      <td>assembly:AC621</td>\n",
       "      <td>2</td>\n",
       "      <td>97053</td>\n",
       "      <td>43.598858</td>\n",
       "      <td>ce97d8e29445b3e8d8c3427a31957e3a</td>\n",
       "      <td>-</td>\n",
       "      <td>-</td>\n",
       "      <td>-</td>\n",
       "      <td>-</td>\n",
       "      <td>...</td>\n",
       "      <td>AC621</td>\n",
       "      <td>AL885</td>\n",
       "      <td>genus</td>\n",
       "      <td>Escherichia</td>\n",
       "      <td>genus</td>\n",
       "      <td>Escherichia</td>\n",
       "      <td>-</td>\n",
       "      <td>-</td>\n",
       "      <td>-</td>\n",
       "      <td>assembly:AC621</td>\n",
       "    </tr>\n",
       "    <tr>\n",
       "      <th>1099</th>\n",
       "      <td>NCTC9969</td>\n",
       "      <td>assembly:AA179</td>\n",
       "      <td>2</td>\n",
       "      <td>177126</td>\n",
       "      <td>49.097253</td>\n",
       "      <td>ce7d68848253ad18e5462e515c569a1b</td>\n",
       "      <td>IncFIB,IncFIC,rep_cluster_2244</td>\n",
       "      <td>000096__NC_019117_00097,AP001918,CP033091_00053</td>\n",
       "      <td>MOBF,MOBF</td>\n",
       "      <td>MF535908_00027,NC_011964_00125</td>\n",
       "      <td>...</td>\n",
       "      <td>AA179</td>\n",
       "      <td>AH867</td>\n",
       "      <td>genus</td>\n",
       "      <td>Escherichia</td>\n",
       "      <td>genus</td>\n",
       "      <td>Escherichia</td>\n",
       "      <td>-</td>\n",
       "      <td>-</td>\n",
       "      <td>-</td>\n",
       "      <td>assembly:AA179</td>\n",
       "    </tr>\n",
       "    <tr>\n",
       "      <th>1100</th>\n",
       "      <td>NCTC9997</td>\n",
       "      <td>assembly_2:AA822</td>\n",
       "      <td>1</td>\n",
       "      <td>276068</td>\n",
       "      <td>51.627135</td>\n",
       "      <td>f82ada894623da577c58b3e1db507260</td>\n",
       "      <td>IncFIB,IncFII</td>\n",
       "      <td>000107__CP014778_00094,000127__CP009275</td>\n",
       "      <td>MOBF</td>\n",
       "      <td>MF156708_00148</td>\n",
       "      <td>...</td>\n",
       "      <td>AA822</td>\n",
       "      <td>AJ199</td>\n",
       "      <td>family</td>\n",
       "      <td>Enterobacteriaceae</td>\n",
       "      <td>family</td>\n",
       "      <td>Enterobacteriaceae</td>\n",
       "      <td>-</td>\n",
       "      <td>-</td>\n",
       "      <td>-</td>\n",
       "      <td>assembly_2:AA822</td>\n",
       "    </tr>\n",
       "  </tbody>\n",
       "</table>\n",
       "<p>1101 rows × 28 columns</p>\n",
       "</div>"
      ],
      "text/plain": [
       "         AccNum          sample_id  num_contigs    size         gc  \\\n",
       "0     NCTC10005     assembly:AA424            3  177644  51.941523   \n",
       "1     NCTC10005     assembly:AE199            1   87975  47.577153   \n",
       "2     NCTC10006  assembly_10:AH399            1    2105  38.194774   \n",
       "3     NCTC10006  assembly_12:AH177            1    6249  43.815010   \n",
       "4     NCTC10006   assembly_7:AG790            1    7647  36.811822   \n",
       "...         ...                ...          ...     ...        ...   \n",
       "1096   NCTC9963     assembly:AA336            1  130556  49.255492   \n",
       "1097   NCTC9965     assembly:AA304            2   70980  46.129896   \n",
       "1098   NCTC9969     assembly:AC621            2   97053  43.598858   \n",
       "1099   NCTC9969     assembly:AA179            2  177126  49.097253   \n",
       "1100   NCTC9997   assembly_2:AA822            1  276068  51.627135   \n",
       "\n",
       "                                   md5                     rep_type(s)  \\\n",
       "0     f0e8e64b80be3f25839e02755e530f08  IncFIB,IncFII,rep_cluster_2358   \n",
       "1     3c597b494df83c0a2e5816808e53da33                 rep_cluster_867   \n",
       "2     1153df154e83eefd927594fe09f76be2                               -   \n",
       "3     add2ec8852dcb0977dd496ce6156fb94                               -   \n",
       "4     fb84cf4d2241d3964f865d74f25455f6                               -   \n",
       "...                                ...                             ...   \n",
       "1096  39ed2ddfec96f53d4d3b702e8edaaee9                   IncFIA,IncFII   \n",
       "1097  3f083418c312e47b5abda402ad2f2088     IncFIA,IncFIA,IncFIB,IncFIB   \n",
       "1098  ce97d8e29445b3e8d8c3427a31957e3a                               -   \n",
       "1099  ce7d68848253ad18e5462e515c569a1b  IncFIB,IncFIC,rep_cluster_2244   \n",
       "1100  f82ada894623da577c58b3e1db507260                   IncFIB,IncFII   \n",
       "\n",
       "                                  rep_type_accession(s) relaxase_type(s)  \\\n",
       "0          CP039454_00078,CP019890_00139,CP000974_00005        MOBF,MOBP   \n",
       "1                                002347__CP001920_00047             MOBF   \n",
       "2                                                     -                -   \n",
       "3                                                     -                -   \n",
       "4                                                     -                -   \n",
       "...                                                 ...              ...   \n",
       "1096                      CP022610_00144,LS992172_00069        MOBF,MOBF   \n",
       "1097  AF250878,000136__AP014877_00014,000095__NZ_CP0...                -   \n",
       "1098                                                  -                -   \n",
       "1099    000096__NC_019117_00097,AP001918,CP033091_00053        MOBF,MOBF   \n",
       "1100            000107__CP014778_00094,000127__CP009275             MOBF   \n",
       "\n",
       "           relaxase_type_accession(s)  ... primary_cluster_id  \\\n",
       "0     NC_014107_00160,NC_021819_00066  ...              AA424   \n",
       "1                     NC_014108_00108  ...              AE199   \n",
       "2                                   -  ...              AH399   \n",
       "3                                   -  ...              AH177   \n",
       "4                                   -  ...              AG790   \n",
       "...                               ...  ...                ...   \n",
       "1096    CP029214_00066,CP008715_00128  ...              AA336   \n",
       "1097                                -  ...              AA304   \n",
       "1098                                -  ...              AC621   \n",
       "1099   MF535908_00027,NC_011964_00125  ...              AA179   \n",
       "1100                   MF156708_00148  ...              AA822   \n",
       "\n",
       "     secondary_cluster_id predicted_host_range_overall_rank  \\\n",
       "0                   AI484                            phylum   \n",
       "1                   AN927                             genus   \n",
       "2                   AR455                             genus   \n",
       "3                   AR233                             genus   \n",
       "4                   AQ846                             genus   \n",
       "...                   ...                               ...   \n",
       "1096                    -                            family   \n",
       "1097                    -                             order   \n",
       "1098                AL885                             genus   \n",
       "1099                AH867                             genus   \n",
       "1100                AJ199                            family   \n",
       "\n",
       "     predicted_host_range_overall_name observed_host_range_ncbi_rank  \\\n",
       "0                       Proteobacteria                         order   \n",
       "1                         Enterobacter                         genus   \n",
       "2                           Klebsiella                         genus   \n",
       "3                           Klebsiella                         genus   \n",
       "4                           Klebsiella                         genus   \n",
       "...                                ...                           ...   \n",
       "1096                Enterobacteriaceae                        family   \n",
       "1097                  Enterobacterales                         order   \n",
       "1098                       Escherichia                         genus   \n",
       "1099                       Escherichia                         genus   \n",
       "1100                Enterobacteriaceae                        family   \n",
       "\n",
       "     observed_host_range_ncbi_name  reported_host_range_lit_rank  \\\n",
       "0                 Enterobacterales                        phylum   \n",
       "1                     Enterobacter                             -   \n",
       "2                       Klebsiella                             -   \n",
       "3                       Klebsiella                             -   \n",
       "4                       Klebsiella                             -   \n",
       "...                            ...                           ...   \n",
       "1096            Enterobacteriaceae                             -   \n",
       "1097              Enterobacterales                         order   \n",
       "1098                   Escherichia                             -   \n",
       "1099                   Escherichia                             -   \n",
       "1100            Enterobacteriaceae                             -   \n",
       "\n",
       "     reported_host_range_lit_name  \\\n",
       "0                  Proteobacteria   \n",
       "1                               -   \n",
       "2                               -   \n",
       "3                               -   \n",
       "4                               -   \n",
       "...                           ...   \n",
       "1096                            -   \n",
       "1097             Enterobacterales   \n",
       "1098                            -   \n",
       "1099                            -   \n",
       "1100                            -   \n",
       "\n",
       "                                    associated_pmid(s)             sample  \n",
       "0                                             24096417     assembly:AA424  \n",
       "1                                                    -     assembly:AE199  \n",
       "2                                                    -  assembly_10:AH399  \n",
       "3                                                    -  assembly_12:AH177  \n",
       "4                                                    -   assembly_7:AG790  \n",
       "...                                                ...                ...  \n",
       "1096                                                 -     assembly:AA336  \n",
       "1097  11254626; 19482926; 15781495; 20851899; 16257053     assembly:AA304  \n",
       "1098                                                 -     assembly:AC621  \n",
       "1099                                                 -     assembly:AA179  \n",
       "1100                                                 -   assembly_2:AA822  \n",
       "\n",
       "[1101 rows x 28 columns]"
      ]
     },
     "execution_count": 6,
     "metadata": {},
     "output_type": "execute_result"
    }
   ],
   "source": [
    "mobtyper_mob = pd.read_csv(\"/n/scratch3/users/a/ak586/microtrawler/3_analysis-plasmid/merged-mobtyper\", sep='\\t')\n",
    "mobtyper_mob['sample'] = mobtyper_mob['sample_id']\n",
    "mobtyper_mob"
   ]
  },
  {
   "cell_type": "code",
   "execution_count": 7,
   "id": "448e954f-f9ba-4c5d-a217-5ee4d1b07159",
   "metadata": {},
   "outputs": [
    {
     "data": {
      "text/html": [
       "<div>\n",
       "<style scoped>\n",
       "    .dataframe tbody tr th:only-of-type {\n",
       "        vertical-align: middle;\n",
       "    }\n",
       "\n",
       "    .dataframe tbody tr th {\n",
       "        vertical-align: top;\n",
       "    }\n",
       "\n",
       "    .dataframe thead th {\n",
       "        text-align: right;\n",
       "    }\n",
       "</style>\n",
       "<table border=\"1\" class=\"dataframe\">\n",
       "  <thead>\n",
       "    <tr style=\"text-align: right;\">\n",
       "      <th></th>\n",
       "      <th>index</th>\n",
       "      <th>AccNum_x</th>\n",
       "      <th>sample_id_x</th>\n",
       "      <th>num_contigs</th>\n",
       "      <th>size_x</th>\n",
       "      <th>gc_x</th>\n",
       "      <th>md5_x</th>\n",
       "      <th>rep_type(s)_x</th>\n",
       "      <th>rep_type_accession(s)_x</th>\n",
       "      <th>relaxase_type(s)_x</th>\n",
       "      <th>...</th>\n",
       "      <th>orit_accession(s)_y</th>\n",
       "      <th>predicted_mobility_y</th>\n",
       "      <th>mash_nearest_neighbor_y</th>\n",
       "      <th>mash_neighbor_distance_y</th>\n",
       "      <th>mash_neighbor_identification_y</th>\n",
       "      <th>repetitive_dna_id</th>\n",
       "      <th>repetitive_dna_type</th>\n",
       "      <th>filtering_reason</th>\n",
       "      <th>0</th>\n",
       "      <th>Year</th>\n",
       "    </tr>\n",
       "  </thead>\n",
       "  <tbody>\n",
       "    <tr>\n",
       "      <th>0</th>\n",
       "      <td>0</td>\n",
       "      <td>NCTC10005</td>\n",
       "      <td>assembly:AA424</td>\n",
       "      <td>3</td>\n",
       "      <td>177644</td>\n",
       "      <td>51.941523</td>\n",
       "      <td>f0e8e64b80be3f25839e02755e530f08</td>\n",
       "      <td>IncFIB,IncFII,rep_cluster_2358</td>\n",
       "      <td>CP039454_00078,CP019890_00139,CP000974_00005</td>\n",
       "      <td>MOBF,MOBP</td>\n",
       "      <td>...</td>\n",
       "      <td>-</td>\n",
       "      <td>-</td>\n",
       "      <td>CP001919</td>\n",
       "      <td>0.00433199</td>\n",
       "      <td>Enterobacter cloacae subsp. cloacae ATCC 13047</td>\n",
       "      <td>-</td>\n",
       "      <td>-</td>\n",
       "      <td>-</td>\n",
       "      <td>UGJB01000001.1</td>\n",
       "      <td>1958</td>\n",
       "    </tr>\n",
       "    <tr>\n",
       "      <th>1</th>\n",
       "      <td>3</td>\n",
       "      <td>NCTC10005</td>\n",
       "      <td>assembly:AE199</td>\n",
       "      <td>1</td>\n",
       "      <td>87975</td>\n",
       "      <td>47.577153</td>\n",
       "      <td>3c597b494df83c0a2e5816808e53da33</td>\n",
       "      <td>rep_cluster_867</td>\n",
       "      <td>002347__CP001920_00047</td>\n",
       "      <td>MOBF</td>\n",
       "      <td>...</td>\n",
       "      <td>-</td>\n",
       "      <td>-</td>\n",
       "      <td>NC_014108</td>\n",
       "      <td>0.00113443</td>\n",
       "      <td>Enterobacter cloacae subsp. cloacae ATCC 13047</td>\n",
       "      <td>-</td>\n",
       "      <td>-</td>\n",
       "      <td>-</td>\n",
       "      <td>UGJB01000002.1</td>\n",
       "      <td>1958</td>\n",
       "    </tr>\n",
       "    <tr>\n",
       "      <th>2</th>\n",
       "      <td>4</td>\n",
       "      <td>NCTC10006</td>\n",
       "      <td>assembly_10:AH399</td>\n",
       "      <td>1</td>\n",
       "      <td>2105</td>\n",
       "      <td>38.194774</td>\n",
       "      <td>1153df154e83eefd927594fe09f76be2</td>\n",
       "      <td>-</td>\n",
       "      <td>-</td>\n",
       "      <td>-</td>\n",
       "      <td>...</td>\n",
       "      <td>-</td>\n",
       "      <td>-</td>\n",
       "      <td>LR134131</td>\n",
       "      <td>0.0</td>\n",
       "      <td>Klebsiella aerogenes</td>\n",
       "      <td>-</td>\n",
       "      <td>-</td>\n",
       "      <td>-</td>\n",
       "      <td>ENA|LR134131|LR134131.1</td>\n",
       "      <td>1958</td>\n",
       "    </tr>\n",
       "    <tr>\n",
       "      <th>3</th>\n",
       "      <td>5</td>\n",
       "      <td>NCTC10006</td>\n",
       "      <td>assembly_12:AH177</td>\n",
       "      <td>1</td>\n",
       "      <td>6249</td>\n",
       "      <td>43.815010</td>\n",
       "      <td>add2ec8852dcb0977dd496ce6156fb94</td>\n",
       "      <td>-</td>\n",
       "      <td>-</td>\n",
       "      <td>-</td>\n",
       "      <td>...</td>\n",
       "      <td>-</td>\n",
       "      <td>-</td>\n",
       "      <td>LR134133</td>\n",
       "      <td>0.0</td>\n",
       "      <td>Klebsiella aerogenes</td>\n",
       "      <td>-</td>\n",
       "      <td>-</td>\n",
       "      <td>-</td>\n",
       "      <td>ENA|LR134133|LR134133.1</td>\n",
       "      <td>1958</td>\n",
       "    </tr>\n",
       "    <tr>\n",
       "      <th>4</th>\n",
       "      <td>6</td>\n",
       "      <td>NCTC10006</td>\n",
       "      <td>assembly_7:AG790</td>\n",
       "      <td>1</td>\n",
       "      <td>7647</td>\n",
       "      <td>36.811822</td>\n",
       "      <td>fb84cf4d2241d3964f865d74f25455f6</td>\n",
       "      <td>-</td>\n",
       "      <td>-</td>\n",
       "      <td>-</td>\n",
       "      <td>...</td>\n",
       "      <td>-</td>\n",
       "      <td>-</td>\n",
       "      <td>LR134128</td>\n",
       "      <td>0.0</td>\n",
       "      <td>Klebsiella aerogenes</td>\n",
       "      <td>-</td>\n",
       "      <td>-</td>\n",
       "      <td>-</td>\n",
       "      <td>ENA|LR134128|LR134128.1</td>\n",
       "      <td>1958</td>\n",
       "    </tr>\n",
       "    <tr>\n",
       "      <th>...</th>\n",
       "      <td>...</td>\n",
       "      <td>...</td>\n",
       "      <td>...</td>\n",
       "      <td>...</td>\n",
       "      <td>...</td>\n",
       "      <td>...</td>\n",
       "      <td>...</td>\n",
       "      <td>...</td>\n",
       "      <td>...</td>\n",
       "      <td>...</td>\n",
       "      <td>...</td>\n",
       "      <td>...</td>\n",
       "      <td>...</td>\n",
       "      <td>...</td>\n",
       "      <td>...</td>\n",
       "      <td>...</td>\n",
       "      <td>...</td>\n",
       "      <td>...</td>\n",
       "      <td>...</td>\n",
       "      <td>...</td>\n",
       "      <td>...</td>\n",
       "    </tr>\n",
       "    <tr>\n",
       "      <th>1096</th>\n",
       "      <td>9451</td>\n",
       "      <td>NCTC9778</td>\n",
       "      <td>assembly:AA976</td>\n",
       "      <td>1</td>\n",
       "      <td>5982</td>\n",
       "      <td>47.225008</td>\n",
       "      <td>3387e95c10cb7e207236277926a56d0c</td>\n",
       "      <td>-</td>\n",
       "      <td>-</td>\n",
       "      <td>MOBQ</td>\n",
       "      <td>...</td>\n",
       "      <td>-</td>\n",
       "      <td>-</td>\n",
       "      <td>DQ995354</td>\n",
       "      <td>0.00997914</td>\n",
       "      <td>Escherichia coli</td>\n",
       "      <td>-</td>\n",
       "      <td>-</td>\n",
       "      <td>-</td>\n",
       "      <td>UGAI01000001.1</td>\n",
       "      <td>1955</td>\n",
       "    </tr>\n",
       "    <tr>\n",
       "      <th>1097</th>\n",
       "      <td>9452</td>\n",
       "      <td>NCTC9793</td>\n",
       "      <td>assembly_3:AF144</td>\n",
       "      <td>1</td>\n",
       "      <td>24306</td>\n",
       "      <td>49.831317</td>\n",
       "      <td>28b41853892beb1dd038d493a96ead26</td>\n",
       "      <td>-</td>\n",
       "      <td>-</td>\n",
       "      <td>-</td>\n",
       "      <td>...</td>\n",
       "      <td>-</td>\n",
       "      <td>-</td>\n",
       "      <td>LR134278</td>\n",
       "      <td>0.0</td>\n",
       "      <td>Klebsiella aerogenes</td>\n",
       "      <td>-</td>\n",
       "      <td>-</td>\n",
       "      <td>-</td>\n",
       "      <td>ENA|LR134278|LR134278.1</td>\n",
       "      <td>1946</td>\n",
       "    </tr>\n",
       "    <tr>\n",
       "      <th>1098</th>\n",
       "      <td>9453</td>\n",
       "      <td>NCTC9853</td>\n",
       "      <td>assembly:novel_e753edade1796dba647b5c54d4f95ba5</td>\n",
       "      <td>1</td>\n",
       "      <td>9569</td>\n",
       "      <td>51.510085</td>\n",
       "      <td>e753edade1796dba647b5c54d4f95ba5</td>\n",
       "      <td>IncFIB</td>\n",
       "      <td>000107__CP014778_00094</td>\n",
       "      <td>MOBP</td>\n",
       "      <td>...</td>\n",
       "      <td>-</td>\n",
       "      <td>-</td>\n",
       "      <td>CP039329</td>\n",
       "      <td>0.0903831</td>\n",
       "      <td>Citrobacter portucalensis</td>\n",
       "      <td>-</td>\n",
       "      <td>-</td>\n",
       "      <td>-</td>\n",
       "      <td>MWLY01000035.1</td>\n",
       "      <td>1956</td>\n",
       "    </tr>\n",
       "    <tr>\n",
       "      <th>1099</th>\n",
       "      <td>9454</td>\n",
       "      <td>NCTC9963</td>\n",
       "      <td>assembly:AA319</td>\n",
       "      <td>1</td>\n",
       "      <td>139176</td>\n",
       "      <td>48.542852</td>\n",
       "      <td>bab795010db19989d16899a6f0539ada</td>\n",
       "      <td>IncFIB,IncFIC,rep_cluster_2244</td>\n",
       "      <td>000095__NZ_CP014273_00094,AP001918,CP033091_00053</td>\n",
       "      <td>MOBF,MOBF</td>\n",
       "      <td>...</td>\n",
       "      <td>-</td>\n",
       "      <td>-</td>\n",
       "      <td>CP010158</td>\n",
       "      <td>0.0157245</td>\n",
       "      <td>Escherichia coli</td>\n",
       "      <td>-</td>\n",
       "      <td>-</td>\n",
       "      <td>-</td>\n",
       "      <td>UGDS01000002.1</td>\n",
       "      <td>1976</td>\n",
       "    </tr>\n",
       "    <tr>\n",
       "      <th>1100</th>\n",
       "      <td>9455</td>\n",
       "      <td>NCTC9997</td>\n",
       "      <td>assembly_2:AA822</td>\n",
       "      <td>1</td>\n",
       "      <td>276068</td>\n",
       "      <td>51.627135</td>\n",
       "      <td>f82ada894623da577c58b3e1db507260</td>\n",
       "      <td>IncFIB,IncFII</td>\n",
       "      <td>000107__CP014778_00094,000127__CP009275</td>\n",
       "      <td>MOBF</td>\n",
       "      <td>...</td>\n",
       "      <td>-</td>\n",
       "      <td>-</td>\n",
       "      <td>LR134252</td>\n",
       "      <td>0.0</td>\n",
       "      <td>Klebsiella aerogenes</td>\n",
       "      <td>-</td>\n",
       "      <td>-</td>\n",
       "      <td>-</td>\n",
       "      <td>ENA|LR134252|LR134252.1</td>\n",
       "      <td>1957</td>\n",
       "    </tr>\n",
       "  </tbody>\n",
       "</table>\n",
       "<p>1101 rows × 56 columns</p>\n",
       "</div>"
      ],
      "text/plain": [
       "      index   AccNum_x                                      sample_id_x  \\\n",
       "0         0  NCTC10005                                   assembly:AA424   \n",
       "1         3  NCTC10005                                   assembly:AE199   \n",
       "2         4  NCTC10006                                assembly_10:AH399   \n",
       "3         5  NCTC10006                                assembly_12:AH177   \n",
       "4         6  NCTC10006                                 assembly_7:AG790   \n",
       "...     ...        ...                                              ...   \n",
       "1096   9451   NCTC9778                                   assembly:AA976   \n",
       "1097   9452   NCTC9793                                 assembly_3:AF144   \n",
       "1098   9453   NCTC9853  assembly:novel_e753edade1796dba647b5c54d4f95ba5   \n",
       "1099   9454   NCTC9963                                   assembly:AA319   \n",
       "1100   9455   NCTC9997                                 assembly_2:AA822   \n",
       "\n",
       "      num_contigs  size_x       gc_x                             md5_x  \\\n",
       "0               3  177644  51.941523  f0e8e64b80be3f25839e02755e530f08   \n",
       "1               1   87975  47.577153  3c597b494df83c0a2e5816808e53da33   \n",
       "2               1    2105  38.194774  1153df154e83eefd927594fe09f76be2   \n",
       "3               1    6249  43.815010  add2ec8852dcb0977dd496ce6156fb94   \n",
       "4               1    7647  36.811822  fb84cf4d2241d3964f865d74f25455f6   \n",
       "...           ...     ...        ...                               ...   \n",
       "1096            1    5982  47.225008  3387e95c10cb7e207236277926a56d0c   \n",
       "1097            1   24306  49.831317  28b41853892beb1dd038d493a96ead26   \n",
       "1098            1    9569  51.510085  e753edade1796dba647b5c54d4f95ba5   \n",
       "1099            1  139176  48.542852  bab795010db19989d16899a6f0539ada   \n",
       "1100            1  276068  51.627135  f82ada894623da577c58b3e1db507260   \n",
       "\n",
       "                       rep_type(s)_x  \\\n",
       "0     IncFIB,IncFII,rep_cluster_2358   \n",
       "1                    rep_cluster_867   \n",
       "2                                  -   \n",
       "3                                  -   \n",
       "4                                  -   \n",
       "...                              ...   \n",
       "1096                               -   \n",
       "1097                               -   \n",
       "1098                          IncFIB   \n",
       "1099  IncFIB,IncFIC,rep_cluster_2244   \n",
       "1100                   IncFIB,IncFII   \n",
       "\n",
       "                                rep_type_accession(s)_x relaxase_type(s)_x  \\\n",
       "0          CP039454_00078,CP019890_00139,CP000974_00005          MOBF,MOBP   \n",
       "1                                002347__CP001920_00047               MOBF   \n",
       "2                                                     -                  -   \n",
       "3                                                     -                  -   \n",
       "4                                                     -                  -   \n",
       "...                                                 ...                ...   \n",
       "1096                                                  -               MOBQ   \n",
       "1097                                                  -                  -   \n",
       "1098                             000107__CP014778_00094               MOBP   \n",
       "1099  000095__NZ_CP014273_00094,AP001918,CP033091_00053          MOBF,MOBF   \n",
       "1100            000107__CP014778_00094,000127__CP009275               MOBF   \n",
       "\n",
       "      ... orit_accession(s)_y predicted_mobility_y mash_nearest_neighbor_y  \\\n",
       "0     ...                   -                    -                CP001919   \n",
       "1     ...                   -                    -               NC_014108   \n",
       "2     ...                   -                    -                LR134131   \n",
       "3     ...                   -                    -                LR134133   \n",
       "4     ...                   -                    -                LR134128   \n",
       "...   ...                 ...                  ...                     ...   \n",
       "1096  ...                   -                    -                DQ995354   \n",
       "1097  ...                   -                    -                LR134278   \n",
       "1098  ...                   -                    -                CP039329   \n",
       "1099  ...                   -                    -                CP010158   \n",
       "1100  ...                   -                    -                LR134252   \n",
       "\n",
       "     mash_neighbor_distance_y                  mash_neighbor_identification_y  \\\n",
       "0                  0.00433199  Enterobacter cloacae subsp. cloacae ATCC 13047   \n",
       "1                  0.00113443  Enterobacter cloacae subsp. cloacae ATCC 13047   \n",
       "2                         0.0                            Klebsiella aerogenes   \n",
       "3                         0.0                            Klebsiella aerogenes   \n",
       "4                         0.0                            Klebsiella aerogenes   \n",
       "...                       ...                                             ...   \n",
       "1096               0.00997914                                Escherichia coli   \n",
       "1097                      0.0                            Klebsiella aerogenes   \n",
       "1098                0.0903831                       Citrobacter portucalensis   \n",
       "1099                0.0157245                                Escherichia coli   \n",
       "1100                      0.0                            Klebsiella aerogenes   \n",
       "\n",
       "     repetitive_dna_id repetitive_dna_type  filtering_reason  \\\n",
       "0                    -                   -                 -   \n",
       "1                    -                   -                 -   \n",
       "2                    -                   -                 -   \n",
       "3                    -                   -                 -   \n",
       "4                    -                   -                 -   \n",
       "...                ...                 ...               ...   \n",
       "1096                 -                   -                 -   \n",
       "1097                 -                   -                 -   \n",
       "1098                 -                   -                 -   \n",
       "1099                 -                   -                 -   \n",
       "1100                 -                   -                 -   \n",
       "\n",
       "                            0  Year  \n",
       "0              UGJB01000001.1  1958  \n",
       "1              UGJB01000002.1  1958  \n",
       "2     ENA|LR134131|LR134131.1  1958  \n",
       "3     ENA|LR134133|LR134133.1  1958  \n",
       "4     ENA|LR134128|LR134128.1  1958  \n",
       "...                       ...   ...  \n",
       "1096           UGAI01000001.1  1955  \n",
       "1097  ENA|LR134278|LR134278.1  1946  \n",
       "1098           MWLY01000035.1  1956  \n",
       "1099           UGDS01000002.1  1976  \n",
       "1100  ENA|LR134252|LR134252.1  1957  \n",
       "\n",
       "[1101 rows x 56 columns]"
      ]
     },
     "execution_count": 7,
     "metadata": {},
     "output_type": "execute_result"
    }
   ],
   "source": [
    "merged_mob = mobtyper_mob.merge(contig_mob, on='sample').drop_duplicates(subset=['AccNum_x', 'sample_id_x']).reset_index()\n",
    "merged_mob['Year'] = merged_mob['AccNum_x'].map(year_dict)\n",
    "merged_mob"
   ]
  },
  {
   "cell_type": "code",
   "execution_count": 8,
   "id": "cd0afe50-7993-47ca-be07-55c119466c56",
   "metadata": {},
   "outputs": [
    {
     "data": {
      "text/html": [
       "<div>\n",
       "<style scoped>\n",
       "    .dataframe tbody tr th:only-of-type {\n",
       "        vertical-align: middle;\n",
       "    }\n",
       "\n",
       "    .dataframe tbody tr th {\n",
       "        vertical-align: top;\n",
       "    }\n",
       "\n",
       "    .dataframe thead th {\n",
       "        text-align: right;\n",
       "    }\n",
       "</style>\n",
       "<table border=\"1\" class=\"dataframe\">\n",
       "  <thead>\n",
       "    <tr style=\"text-align: right;\">\n",
       "      <th></th>\n",
       "      <th>index</th>\n",
       "      <th>AccNum_x</th>\n",
       "      <th>sample_id_x</th>\n",
       "      <th>num_contigs</th>\n",
       "      <th>size_x</th>\n",
       "      <th>gc_x</th>\n",
       "      <th>md5_x</th>\n",
       "      <th>rep_type(s)_x</th>\n",
       "      <th>rep_type_accession(s)_x</th>\n",
       "      <th>relaxase_type(s)_x</th>\n",
       "      <th>...</th>\n",
       "      <th>orit_accession(s)_y</th>\n",
       "      <th>predicted_mobility_y</th>\n",
       "      <th>mash_nearest_neighbor_y</th>\n",
       "      <th>mash_neighbor_distance_y</th>\n",
       "      <th>mash_neighbor_identification_y</th>\n",
       "      <th>repetitive_dna_id</th>\n",
       "      <th>repetitive_dna_type</th>\n",
       "      <th>filtering_reason</th>\n",
       "      <th>0</th>\n",
       "      <th>Year</th>\n",
       "    </tr>\n",
       "  </thead>\n",
       "  <tbody>\n",
       "    <tr>\n",
       "      <th>7</th>\n",
       "      <td>9</td>\n",
       "      <td>NCTC10035</td>\n",
       "      <td>assembly:AC333</td>\n",
       "      <td>1</td>\n",
       "      <td>4439</td>\n",
       "      <td>30.051813</td>\n",
       "      <td>3c6e2037827c6b8c13f965225aa18b8a</td>\n",
       "      <td>rep_cluster_1118</td>\n",
       "      <td>000379__NC_013452_00003</td>\n",
       "      <td>MOBV</td>\n",
       "      <td>...</td>\n",
       "      <td>-</td>\n",
       "      <td>-</td>\n",
       "      <td>NC_005008</td>\n",
       "      <td>0.00028831</td>\n",
       "      <td>Staphylococcus epidermidis ATCC 12228</td>\n",
       "      <td>-</td>\n",
       "      <td>-</td>\n",
       "      <td>-</td>\n",
       "      <td>UHCJ01000001.1</td>\n",
       "      <td>1959</td>\n",
       "    </tr>\n",
       "    <tr>\n",
       "      <th>8</th>\n",
       "      <td>18</td>\n",
       "      <td>NCTC10442</td>\n",
       "      <td>assembly:AC333</td>\n",
       "      <td>1</td>\n",
       "      <td>5395</td>\n",
       "      <td>29.990732</td>\n",
       "      <td>0c6b51e35bcf93d2f4d7b4354df1b784</td>\n",
       "      <td>rep_cluster_1118</td>\n",
       "      <td>000379__NC_013452_00003</td>\n",
       "      <td>MOBV</td>\n",
       "      <td>...</td>\n",
       "      <td>-</td>\n",
       "      <td>-</td>\n",
       "      <td>NC_005008</td>\n",
       "      <td>0.00028831</td>\n",
       "      <td>Staphylococcus epidermidis ATCC 12228</td>\n",
       "      <td>-</td>\n",
       "      <td>-</td>\n",
       "      <td>-</td>\n",
       "      <td>UHCJ01000001.1</td>\n",
       "      <td>1960</td>\n",
       "    </tr>\n",
       "    <tr>\n",
       "      <th>9</th>\n",
       "      <td>27</td>\n",
       "      <td>NCTC10443</td>\n",
       "      <td>assembly:AC333</td>\n",
       "      <td>1</td>\n",
       "      <td>3185</td>\n",
       "      <td>29.262166</td>\n",
       "      <td>b5db81ce1bcbde98e65995bbca5ae1c1</td>\n",
       "      <td>rep_cluster_1118</td>\n",
       "      <td>000379__NC_013452_00003</td>\n",
       "      <td>-</td>\n",
       "      <td>...</td>\n",
       "      <td>-</td>\n",
       "      <td>-</td>\n",
       "      <td>NC_005008</td>\n",
       "      <td>0.00028831</td>\n",
       "      <td>Staphylococcus epidermidis ATCC 12228</td>\n",
       "      <td>-</td>\n",
       "      <td>-</td>\n",
       "      <td>-</td>\n",
       "      <td>UHCJ01000001.1</td>\n",
       "      <td>1964</td>\n",
       "    </tr>\n",
       "    <tr>\n",
       "      <th>10</th>\n",
       "      <td>36</td>\n",
       "      <td>NCTC10654</td>\n",
       "      <td>assembly:AC333</td>\n",
       "      <td>1</td>\n",
       "      <td>4663</td>\n",
       "      <td>30.280935</td>\n",
       "      <td>b9104726b0978b2c3c5164d057f3f2d4</td>\n",
       "      <td>rep_cluster_1118</td>\n",
       "      <td>000379__NC_013452_00003</td>\n",
       "      <td>MOBV</td>\n",
       "      <td>...</td>\n",
       "      <td>-</td>\n",
       "      <td>-</td>\n",
       "      <td>NC_005008</td>\n",
       "      <td>0.00028831</td>\n",
       "      <td>Staphylococcus epidermidis ATCC 12228</td>\n",
       "      <td>-</td>\n",
       "      <td>-</td>\n",
       "      <td>-</td>\n",
       "      <td>UHCJ01000001.1</td>\n",
       "      <td>1954</td>\n",
       "    </tr>\n",
       "    <tr>\n",
       "      <th>11</th>\n",
       "      <td>45</td>\n",
       "      <td>NCTC10724</td>\n",
       "      <td>assembly:AC333</td>\n",
       "      <td>1</td>\n",
       "      <td>7797</td>\n",
       "      <td>29.870463</td>\n",
       "      <td>21db7d5e537c9559bf70b2b87fcc0b30</td>\n",
       "      <td>rep_cluster_1118</td>\n",
       "      <td>000379__NC_013452_00003</td>\n",
       "      <td>MOBV,MOBV,MOBV</td>\n",
       "      <td>...</td>\n",
       "      <td>-</td>\n",
       "      <td>-</td>\n",
       "      <td>NC_005008</td>\n",
       "      <td>0.00028831</td>\n",
       "      <td>Staphylococcus epidermidis ATCC 12228</td>\n",
       "      <td>-</td>\n",
       "      <td>-</td>\n",
       "      <td>-</td>\n",
       "      <td>UHCJ01000001.1</td>\n",
       "      <td>1970</td>\n",
       "    </tr>\n",
       "    <tr>\n",
       "      <th>...</th>\n",
       "      <td>...</td>\n",
       "      <td>...</td>\n",
       "      <td>...</td>\n",
       "      <td>...</td>\n",
       "      <td>...</td>\n",
       "      <td>...</td>\n",
       "      <td>...</td>\n",
       "      <td>...</td>\n",
       "      <td>...</td>\n",
       "      <td>...</td>\n",
       "      <td>...</td>\n",
       "      <td>...</td>\n",
       "      <td>...</td>\n",
       "      <td>...</td>\n",
       "      <td>...</td>\n",
       "      <td>...</td>\n",
       "      <td>...</td>\n",
       "      <td>...</td>\n",
       "      <td>...</td>\n",
       "      <td>...</td>\n",
       "      <td>...</td>\n",
       "    </tr>\n",
       "    <tr>\n",
       "      <th>1036</th>\n",
       "      <td>9288</td>\n",
       "      <td>NCTC9175</td>\n",
       "      <td>assembly:AA405</td>\n",
       "      <td>1</td>\n",
       "      <td>311749</td>\n",
       "      <td>47.910980</td>\n",
       "      <td>e698c322f5aa989ec28ff9f90ed19d8b</td>\n",
       "      <td>IncFIB,IncHI1B</td>\n",
       "      <td>CP024497_00001,JN420336</td>\n",
       "      <td>MOBH</td>\n",
       "      <td>...</td>\n",
       "      <td>-</td>\n",
       "      <td>-</td>\n",
       "      <td>CP032223</td>\n",
       "      <td>0.0162193</td>\n",
       "      <td>Klebsiella pneumoniae</td>\n",
       "      <td>-</td>\n",
       "      <td>-</td>\n",
       "      <td>-</td>\n",
       "      <td>CABDVV010000003.1</td>\n",
       "      <td>1952</td>\n",
       "    </tr>\n",
       "    <tr>\n",
       "      <th>1037</th>\n",
       "      <td>9290</td>\n",
       "      <td>NCTC9130</td>\n",
       "      <td>assembly:AC296</td>\n",
       "      <td>1</td>\n",
       "      <td>51233</td>\n",
       "      <td>61.192981</td>\n",
       "      <td>6b9d944c6c53d0cf4ac20bc6cac9089b</td>\n",
       "      <td>IncP</td>\n",
       "      <td>000175__JQ004408_00022</td>\n",
       "      <td>MOBP</td>\n",
       "      <td>...</td>\n",
       "      <td>KX712121</td>\n",
       "      <td>-</td>\n",
       "      <td>CP028340</td>\n",
       "      <td>0.00319852</td>\n",
       "      <td>Thauera aromatica K172</td>\n",
       "      <td>-</td>\n",
       "      <td>-</td>\n",
       "      <td>-</td>\n",
       "      <td>UGNF01000002.1</td>\n",
       "      <td>1952</td>\n",
       "    </tr>\n",
       "    <tr>\n",
       "      <th>1040</th>\n",
       "      <td>9293</td>\n",
       "      <td>NCTC9137</td>\n",
       "      <td>assembly:AD768</td>\n",
       "      <td>1</td>\n",
       "      <td>50631</td>\n",
       "      <td>57.776856</td>\n",
       "      <td>f8e67ebd76df60fffc529a58c2652530</td>\n",
       "      <td>IncW</td>\n",
       "      <td>000213__AM901564_00031</td>\n",
       "      <td>MOBF</td>\n",
       "      <td>...</td>\n",
       "      <td>CP011434</td>\n",
       "      <td>-</td>\n",
       "      <td>AP018350</td>\n",
       "      <td>0.00343111</td>\n",
       "      <td>Enterobacter hormaechei</td>\n",
       "      <td>-</td>\n",
       "      <td>-</td>\n",
       "      <td>-</td>\n",
       "      <td>CABDVY010000001.1</td>\n",
       "      <td>1952</td>\n",
       "    </tr>\n",
       "    <tr>\n",
       "      <th>1041</th>\n",
       "      <td>9295</td>\n",
       "      <td>NCTC9143</td>\n",
       "      <td>assembly:AD768</td>\n",
       "      <td>1</td>\n",
       "      <td>14014</td>\n",
       "      <td>56.978736</td>\n",
       "      <td>a95b795ed568c2a7f3cfdadd706f91ac</td>\n",
       "      <td>IncW</td>\n",
       "      <td>000213__AM901564_00031</td>\n",
       "      <td>-</td>\n",
       "      <td>...</td>\n",
       "      <td>CP011434</td>\n",
       "      <td>-</td>\n",
       "      <td>AP018350</td>\n",
       "      <td>0.00343111</td>\n",
       "      <td>Enterobacter hormaechei</td>\n",
       "      <td>-</td>\n",
       "      <td>-</td>\n",
       "      <td>-</td>\n",
       "      <td>CABDVY010000001.1</td>\n",
       "      <td>1952</td>\n",
       "    </tr>\n",
       "    <tr>\n",
       "      <th>1088</th>\n",
       "      <td>9443</td>\n",
       "      <td>NCTC9656</td>\n",
       "      <td>assembly:AD702</td>\n",
       "      <td>1</td>\n",
       "      <td>13851</td>\n",
       "      <td>57.115010</td>\n",
       "      <td>be8ff6469998a5d69039b411a92746b9</td>\n",
       "      <td>IncQ2</td>\n",
       "      <td>000202__NC_003124_00010</td>\n",
       "      <td>MOBP</td>\n",
       "      <td>...</td>\n",
       "      <td>-</td>\n",
       "      <td>-</td>\n",
       "      <td>CP038105</td>\n",
       "      <td>0.00288374</td>\n",
       "      <td>Aeromonas salmonicida subsp. salmonicida</td>\n",
       "      <td>-</td>\n",
       "      <td>-</td>\n",
       "      <td>-</td>\n",
       "      <td>CAADJW010000001.1</td>\n",
       "      <td>1955</td>\n",
       "    </tr>\n",
       "  </tbody>\n",
       "</table>\n",
       "<p>116 rows × 56 columns</p>\n",
       "</div>"
      ],
      "text/plain": [
       "      index   AccNum_x     sample_id_x  num_contigs  size_x       gc_x  \\\n",
       "7         9  NCTC10035  assembly:AC333            1    4439  30.051813   \n",
       "8        18  NCTC10442  assembly:AC333            1    5395  29.990732   \n",
       "9        27  NCTC10443  assembly:AC333            1    3185  29.262166   \n",
       "10       36  NCTC10654  assembly:AC333            1    4663  30.280935   \n",
       "11       45  NCTC10724  assembly:AC333            1    7797  29.870463   \n",
       "...     ...        ...             ...          ...     ...        ...   \n",
       "1036   9288   NCTC9175  assembly:AA405            1  311749  47.910980   \n",
       "1037   9290   NCTC9130  assembly:AC296            1   51233  61.192981   \n",
       "1040   9293   NCTC9137  assembly:AD768            1   50631  57.776856   \n",
       "1041   9295   NCTC9143  assembly:AD768            1   14014  56.978736   \n",
       "1088   9443   NCTC9656  assembly:AD702            1   13851  57.115010   \n",
       "\n",
       "                                 md5_x     rep_type(s)_x  \\\n",
       "7     3c6e2037827c6b8c13f965225aa18b8a  rep_cluster_1118   \n",
       "8     0c6b51e35bcf93d2f4d7b4354df1b784  rep_cluster_1118   \n",
       "9     b5db81ce1bcbde98e65995bbca5ae1c1  rep_cluster_1118   \n",
       "10    b9104726b0978b2c3c5164d057f3f2d4  rep_cluster_1118   \n",
       "11    21db7d5e537c9559bf70b2b87fcc0b30  rep_cluster_1118   \n",
       "...                                ...               ...   \n",
       "1036  e698c322f5aa989ec28ff9f90ed19d8b    IncFIB,IncHI1B   \n",
       "1037  6b9d944c6c53d0cf4ac20bc6cac9089b              IncP   \n",
       "1040  f8e67ebd76df60fffc529a58c2652530              IncW   \n",
       "1041  a95b795ed568c2a7f3cfdadd706f91ac              IncW   \n",
       "1088  be8ff6469998a5d69039b411a92746b9             IncQ2   \n",
       "\n",
       "      rep_type_accession(s)_x relaxase_type(s)_x  ... orit_accession(s)_y  \\\n",
       "7     000379__NC_013452_00003               MOBV  ...                   -   \n",
       "8     000379__NC_013452_00003               MOBV  ...                   -   \n",
       "9     000379__NC_013452_00003                  -  ...                   -   \n",
       "10    000379__NC_013452_00003               MOBV  ...                   -   \n",
       "11    000379__NC_013452_00003     MOBV,MOBV,MOBV  ...                   -   \n",
       "...                       ...                ...  ...                 ...   \n",
       "1036  CP024497_00001,JN420336               MOBH  ...                   -   \n",
       "1037   000175__JQ004408_00022               MOBP  ...            KX712121   \n",
       "1040   000213__AM901564_00031               MOBF  ...            CP011434   \n",
       "1041   000213__AM901564_00031                  -  ...            CP011434   \n",
       "1088  000202__NC_003124_00010               MOBP  ...                   -   \n",
       "\n",
       "     predicted_mobility_y mash_nearest_neighbor_y mash_neighbor_distance_y  \\\n",
       "7                       -               NC_005008               0.00028831   \n",
       "8                       -               NC_005008               0.00028831   \n",
       "9                       -               NC_005008               0.00028831   \n",
       "10                      -               NC_005008               0.00028831   \n",
       "11                      -               NC_005008               0.00028831   \n",
       "...                   ...                     ...                      ...   \n",
       "1036                    -                CP032223                0.0162193   \n",
       "1037                    -                CP028340               0.00319852   \n",
       "1040                    -                AP018350               0.00343111   \n",
       "1041                    -                AP018350               0.00343111   \n",
       "1088                    -                CP038105               0.00288374   \n",
       "\n",
       "                mash_neighbor_identification_y repetitive_dna_id  \\\n",
       "7        Staphylococcus epidermidis ATCC 12228                 -   \n",
       "8        Staphylococcus epidermidis ATCC 12228                 -   \n",
       "9        Staphylococcus epidermidis ATCC 12228                 -   \n",
       "10       Staphylococcus epidermidis ATCC 12228                 -   \n",
       "11       Staphylococcus epidermidis ATCC 12228                 -   \n",
       "...                                        ...               ...   \n",
       "1036                     Klebsiella pneumoniae                 -   \n",
       "1037                    Thauera aromatica K172                 -   \n",
       "1040                   Enterobacter hormaechei                 -   \n",
       "1041                   Enterobacter hormaechei                 -   \n",
       "1088  Aeromonas salmonicida subsp. salmonicida                 -   \n",
       "\n",
       "     repetitive_dna_type  filtering_reason                  0  Year  \n",
       "7                      -                 -     UHCJ01000001.1  1959  \n",
       "8                      -                 -     UHCJ01000001.1  1960  \n",
       "9                      -                 -     UHCJ01000001.1  1964  \n",
       "10                     -                 -     UHCJ01000001.1  1954  \n",
       "11                     -                 -     UHCJ01000001.1  1970  \n",
       "...                  ...               ...                ...   ...  \n",
       "1036                   -                 -  CABDVV010000003.1  1952  \n",
       "1037                   -                 -     UGNF01000002.1  1952  \n",
       "1040                   -                 -  CABDVY010000001.1  1952  \n",
       "1041                   -                 -  CABDVY010000001.1  1952  \n",
       "1088                   -                 -  CAADJW010000001.1  1955  \n",
       "\n",
       "[116 rows x 56 columns]"
      ]
     },
     "execution_count": 8,
     "metadata": {},
     "output_type": "execute_result"
    }
   ],
   "source": [
    "mob_rgi = merged_mob.loc[merged_mob[0].isin(contigdf[0])].copy()\n",
    "mob_rgi"
   ]
  },
  {
   "cell_type": "code",
   "execution_count": 9,
   "id": "34cda7b4-b328-4c51-b6a5-3f14b31ebc68",
   "metadata": {},
   "outputs": [
    {
     "data": {
      "text/html": [
       "<div>\n",
       "<style scoped>\n",
       "    .dataframe tbody tr th:only-of-type {\n",
       "        vertical-align: middle;\n",
       "    }\n",
       "\n",
       "    .dataframe tbody tr th {\n",
       "        vertical-align: top;\n",
       "    }\n",
       "\n",
       "    .dataframe thead th {\n",
       "        text-align: right;\n",
       "    }\n",
       "</style>\n",
       "<table border=\"1\" class=\"dataframe\">\n",
       "  <thead>\n",
       "    <tr style=\"text-align: right;\">\n",
       "      <th></th>\n",
       "      <th>index</th>\n",
       "      <th>AccNum_x</th>\n",
       "      <th>sample_id_x</th>\n",
       "      <th>num_contigs</th>\n",
       "      <th>size_x</th>\n",
       "      <th>gc_x</th>\n",
       "      <th>md5_x</th>\n",
       "      <th>rep_type(s)_x</th>\n",
       "      <th>rep_type_accession(s)_x</th>\n",
       "      <th>relaxase_type(s)_x</th>\n",
       "      <th>...</th>\n",
       "      <th>orit_accession(s)_y</th>\n",
       "      <th>predicted_mobility_y</th>\n",
       "      <th>mash_nearest_neighbor_y</th>\n",
       "      <th>mash_neighbor_distance_y</th>\n",
       "      <th>mash_neighbor_identification_y</th>\n",
       "      <th>repetitive_dna_id</th>\n",
       "      <th>repetitive_dna_type</th>\n",
       "      <th>filtering_reason</th>\n",
       "      <th>0</th>\n",
       "      <th>Year</th>\n",
       "    </tr>\n",
       "  </thead>\n",
       "  <tbody>\n",
       "    <tr>\n",
       "      <th>53</th>\n",
       "      <td>867</td>\n",
       "      <td>NCTC10089</td>\n",
       "      <td>assembly:AB269</td>\n",
       "      <td>1</td>\n",
       "      <td>128351</td>\n",
       "      <td>48.499038</td>\n",
       "      <td>829fe90f8e1239f653d510850422b762</td>\n",
       "      <td>IncFIA,IncFIB</td>\n",
       "      <td>000136__AP014877_00014,000096__NC_019117_00097</td>\n",
       "      <td>MOBF</td>\n",
       "      <td>...</td>\n",
       "      <td>CP000430</td>\n",
       "      <td>-</td>\n",
       "      <td>FM180569</td>\n",
       "      <td>0.037311</td>\n",
       "      <td>Escherichia coli O127:H6 str. E2348/69</td>\n",
       "      <td>-</td>\n",
       "      <td>-</td>\n",
       "      <td>-</td>\n",
       "      <td>CABEEY010000005.1</td>\n",
       "      <td>1960</td>\n",
       "    </tr>\n",
       "    <tr>\n",
       "      <th>54</th>\n",
       "      <td>878</td>\n",
       "      <td>NCTC8009</td>\n",
       "      <td>assembly:AB269</td>\n",
       "      <td>1</td>\n",
       "      <td>129043</td>\n",
       "      <td>48.400146</td>\n",
       "      <td>aff16bfb46f79cdabad94d2ec66ac78f</td>\n",
       "      <td>IncFIA,IncFIB</td>\n",
       "      <td>CP022610_00144,000101__NZ_CP012345_00042</td>\n",
       "      <td>MOBF</td>\n",
       "      <td>...</td>\n",
       "      <td>CP000430</td>\n",
       "      <td>-</td>\n",
       "      <td>FM180569</td>\n",
       "      <td>0.037311</td>\n",
       "      <td>Escherichia coli O127:H6 str. E2348/69</td>\n",
       "      <td>-</td>\n",
       "      <td>-</td>\n",
       "      <td>-</td>\n",
       "      <td>CABEEY010000005.1</td>\n",
       "      <td>1949</td>\n",
       "    </tr>\n",
       "    <tr>\n",
       "      <th>55</th>\n",
       "      <td>889</td>\n",
       "      <td>NCTC8333</td>\n",
       "      <td>assembly:AB269</td>\n",
       "      <td>2</td>\n",
       "      <td>184832</td>\n",
       "      <td>49.144629</td>\n",
       "      <td>a57f90f7ffb0eb58a90eec7c17a93b59</td>\n",
       "      <td>IncFIA,IncFIA,IncFIB</td>\n",
       "      <td>000136__AP014877_00014,CP022610_00144,000101__...</td>\n",
       "      <td>MOBF,MOBF,MOBF,MOBF,MOBF</td>\n",
       "      <td>...</td>\n",
       "      <td>CP000430</td>\n",
       "      <td>-</td>\n",
       "      <td>FM180569</td>\n",
       "      <td>0.037311</td>\n",
       "      <td>Escherichia coli O127:H6 str. E2348/69</td>\n",
       "      <td>-</td>\n",
       "      <td>-</td>\n",
       "      <td>-</td>\n",
       "      <td>CABEEY010000005.1</td>\n",
       "      <td>1950</td>\n",
       "    </tr>\n",
       "    <tr>\n",
       "      <th>56</th>\n",
       "      <td>900</td>\n",
       "      <td>NCTC8603</td>\n",
       "      <td>assembly:AB269</td>\n",
       "      <td>1</td>\n",
       "      <td>71227</td>\n",
       "      <td>46.770185</td>\n",
       "      <td>ddb4cb4b636659939dfc4ee6571ff235</td>\n",
       "      <td>IncFIA,IncFIB</td>\n",
       "      <td>CP022610_00144,000101__NZ_CP012345_00042</td>\n",
       "      <td>-</td>\n",
       "      <td>...</td>\n",
       "      <td>CP000430</td>\n",
       "      <td>-</td>\n",
       "      <td>FM180569</td>\n",
       "      <td>0.037311</td>\n",
       "      <td>Escherichia coli O127:H6 str. E2348/69</td>\n",
       "      <td>-</td>\n",
       "      <td>-</td>\n",
       "      <td>-</td>\n",
       "      <td>CABEEY010000005.1</td>\n",
       "      <td>1947</td>\n",
       "    </tr>\n",
       "    <tr>\n",
       "      <th>57</th>\n",
       "      <td>911</td>\n",
       "      <td>NCTC8621</td>\n",
       "      <td>assembly:AB269</td>\n",
       "      <td>1</td>\n",
       "      <td>104095</td>\n",
       "      <td>47.536385</td>\n",
       "      <td>5f8dd0a49c6ca62c4607460da27b3518</td>\n",
       "      <td>IncFIA,IncFIB</td>\n",
       "      <td>CP022610_00144,000101__NZ_CP012345_00042</td>\n",
       "      <td>MOBF,MOBF</td>\n",
       "      <td>...</td>\n",
       "      <td>CP000430</td>\n",
       "      <td>-</td>\n",
       "      <td>FM180569</td>\n",
       "      <td>0.037311</td>\n",
       "      <td>Escherichia coli O127:H6 str. E2348/69</td>\n",
       "      <td>-</td>\n",
       "      <td>-</td>\n",
       "      <td>-</td>\n",
       "      <td>CABEEY010000005.1</td>\n",
       "      <td>1949</td>\n",
       "    </tr>\n",
       "    <tr>\n",
       "      <th>...</th>\n",
       "      <td>...</td>\n",
       "      <td>...</td>\n",
       "      <td>...</td>\n",
       "      <td>...</td>\n",
       "      <td>...</td>\n",
       "      <td>...</td>\n",
       "      <td>...</td>\n",
       "      <td>...</td>\n",
       "      <td>...</td>\n",
       "      <td>...</td>\n",
       "      <td>...</td>\n",
       "      <td>...</td>\n",
       "      <td>...</td>\n",
       "      <td>...</td>\n",
       "      <td>...</td>\n",
       "      <td>...</td>\n",
       "      <td>...</td>\n",
       "      <td>...</td>\n",
       "      <td>...</td>\n",
       "      <td>...</td>\n",
       "      <td>...</td>\n",
       "    </tr>\n",
       "    <tr>\n",
       "      <th>1018</th>\n",
       "      <td>9159</td>\n",
       "      <td>NCTC9101</td>\n",
       "      <td>assembly:AA670</td>\n",
       "      <td>1</td>\n",
       "      <td>7677</td>\n",
       "      <td>45.538622</td>\n",
       "      <td>54b3bf152f1c4de7a6373dbd7a0487d8</td>\n",
       "      <td>rep_cluster_2350</td>\n",
       "      <td>CP041342_00001</td>\n",
       "      <td>-</td>\n",
       "      <td>...</td>\n",
       "      <td>NZ_CP011138</td>\n",
       "      <td>-</td>\n",
       "      <td>CP019695</td>\n",
       "      <td>0.0204123</td>\n",
       "      <td>Shigella sonnei</td>\n",
       "      <td>-</td>\n",
       "      <td>-</td>\n",
       "      <td>-</td>\n",
       "      <td>UGDK01000004.1</td>\n",
       "      <td>1952</td>\n",
       "    </tr>\n",
       "    <tr>\n",
       "      <th>1022</th>\n",
       "      <td>9163</td>\n",
       "      <td>NCTC9120</td>\n",
       "      <td>assembly:AA158</td>\n",
       "      <td>1</td>\n",
       "      <td>5711</td>\n",
       "      <td>42.934687</td>\n",
       "      <td>40593a79f2f2ecc333d4d2cde09e83d6</td>\n",
       "      <td>rep_cluster_2350</td>\n",
       "      <td>CP035723_00002</td>\n",
       "      <td>MOBP</td>\n",
       "      <td>...</td>\n",
       "      <td>MF083142</td>\n",
       "      <td>-</td>\n",
       "      <td>NC_019982</td>\n",
       "      <td>0.00989629</td>\n",
       "      <td>Escherichia coli</td>\n",
       "      <td>-</td>\n",
       "      <td>-</td>\n",
       "      <td>-</td>\n",
       "      <td>UGFS01000003.1</td>\n",
       "      <td>1952</td>\n",
       "    </tr>\n",
       "    <tr>\n",
       "      <th>1093</th>\n",
       "      <td>9448</td>\n",
       "      <td>NCTC9707</td>\n",
       "      <td>assembly:novel_2a6c537881c90541c525a9a2709d5ac8</td>\n",
       "      <td>1</td>\n",
       "      <td>4486</td>\n",
       "      <td>47.302720</td>\n",
       "      <td>2a6c537881c90541c525a9a2709d5ac8</td>\n",
       "      <td>Col156</td>\n",
       "      <td>CP001126_00001</td>\n",
       "      <td>-</td>\n",
       "      <td>...</td>\n",
       "      <td>-</td>\n",
       "      <td>-</td>\n",
       "      <td>CP032517</td>\n",
       "      <td>0.0671564</td>\n",
       "      <td>Escherichia coli</td>\n",
       "      <td>-</td>\n",
       "      <td>-</td>\n",
       "      <td>-</td>\n",
       "      <td>UGGC01000004.1</td>\n",
       "      <td>1955</td>\n",
       "    </tr>\n",
       "    <tr>\n",
       "      <th>1095</th>\n",
       "      <td>9450</td>\n",
       "      <td>NCTC9777</td>\n",
       "      <td>assembly:AC411</td>\n",
       "      <td>1</td>\n",
       "      <td>8958</td>\n",
       "      <td>48.961822</td>\n",
       "      <td>2f1b2b51b9f04901a6148da778b93127</td>\n",
       "      <td>Col156</td>\n",
       "      <td>CP001126_00001</td>\n",
       "      <td>MOBQ</td>\n",
       "      <td>...</td>\n",
       "      <td>-</td>\n",
       "      <td>-</td>\n",
       "      <td>LT985301</td>\n",
       "      <td>0.0313762</td>\n",
       "      <td>Escherichia coli</td>\n",
       "      <td>-</td>\n",
       "      <td>-</td>\n",
       "      <td>-</td>\n",
       "      <td>UASC01000011.1</td>\n",
       "      <td>1955</td>\n",
       "    </tr>\n",
       "    <tr>\n",
       "      <th>1096</th>\n",
       "      <td>9451</td>\n",
       "      <td>NCTC9778</td>\n",
       "      <td>assembly:AA976</td>\n",
       "      <td>1</td>\n",
       "      <td>5982</td>\n",
       "      <td>47.225008</td>\n",
       "      <td>3387e95c10cb7e207236277926a56d0c</td>\n",
       "      <td>-</td>\n",
       "      <td>-</td>\n",
       "      <td>MOBQ</td>\n",
       "      <td>...</td>\n",
       "      <td>-</td>\n",
       "      <td>-</td>\n",
       "      <td>DQ995354</td>\n",
       "      <td>0.00997914</td>\n",
       "      <td>Escherichia coli</td>\n",
       "      <td>-</td>\n",
       "      <td>-</td>\n",
       "      <td>-</td>\n",
       "      <td>UGAI01000001.1</td>\n",
       "      <td>1955</td>\n",
       "    </tr>\n",
       "  </tbody>\n",
       "</table>\n",
       "<p>181 rows × 56 columns</p>\n",
       "</div>"
      ],
      "text/plain": [
       "      index   AccNum_x                                      sample_id_x  \\\n",
       "53      867  NCTC10089                                   assembly:AB269   \n",
       "54      878   NCTC8009                                   assembly:AB269   \n",
       "55      889   NCTC8333                                   assembly:AB269   \n",
       "56      900   NCTC8603                                   assembly:AB269   \n",
       "57      911   NCTC8621                                   assembly:AB269   \n",
       "...     ...        ...                                              ...   \n",
       "1018   9159   NCTC9101                                   assembly:AA670   \n",
       "1022   9163   NCTC9120                                   assembly:AA158   \n",
       "1093   9448   NCTC9707  assembly:novel_2a6c537881c90541c525a9a2709d5ac8   \n",
       "1095   9450   NCTC9777                                   assembly:AC411   \n",
       "1096   9451   NCTC9778                                   assembly:AA976   \n",
       "\n",
       "      num_contigs  size_x       gc_x                             md5_x  \\\n",
       "53              1  128351  48.499038  829fe90f8e1239f653d510850422b762   \n",
       "54              1  129043  48.400146  aff16bfb46f79cdabad94d2ec66ac78f   \n",
       "55              2  184832  49.144629  a57f90f7ffb0eb58a90eec7c17a93b59   \n",
       "56              1   71227  46.770185  ddb4cb4b636659939dfc4ee6571ff235   \n",
       "57              1  104095  47.536385  5f8dd0a49c6ca62c4607460da27b3518   \n",
       "...           ...     ...        ...                               ...   \n",
       "1018            1    7677  45.538622  54b3bf152f1c4de7a6373dbd7a0487d8   \n",
       "1022            1    5711  42.934687  40593a79f2f2ecc333d4d2cde09e83d6   \n",
       "1093            1    4486  47.302720  2a6c537881c90541c525a9a2709d5ac8   \n",
       "1095            1    8958  48.961822  2f1b2b51b9f04901a6148da778b93127   \n",
       "1096            1    5982  47.225008  3387e95c10cb7e207236277926a56d0c   \n",
       "\n",
       "             rep_type(s)_x                            rep_type_accession(s)_x  \\\n",
       "53           IncFIA,IncFIB     000136__AP014877_00014,000096__NC_019117_00097   \n",
       "54           IncFIA,IncFIB           CP022610_00144,000101__NZ_CP012345_00042   \n",
       "55    IncFIA,IncFIA,IncFIB  000136__AP014877_00014,CP022610_00144,000101__...   \n",
       "56           IncFIA,IncFIB           CP022610_00144,000101__NZ_CP012345_00042   \n",
       "57           IncFIA,IncFIB           CP022610_00144,000101__NZ_CP012345_00042   \n",
       "...                    ...                                                ...   \n",
       "1018      rep_cluster_2350                                     CP041342_00001   \n",
       "1022      rep_cluster_2350                                     CP035723_00002   \n",
       "1093                Col156                                     CP001126_00001   \n",
       "1095                Col156                                     CP001126_00001   \n",
       "1096                     -                                                  -   \n",
       "\n",
       "            relaxase_type(s)_x  ... orit_accession(s)_y predicted_mobility_y  \\\n",
       "53                        MOBF  ...            CP000430                    -   \n",
       "54                        MOBF  ...            CP000430                    -   \n",
       "55    MOBF,MOBF,MOBF,MOBF,MOBF  ...            CP000430                    -   \n",
       "56                           -  ...            CP000430                    -   \n",
       "57                   MOBF,MOBF  ...            CP000430                    -   \n",
       "...                        ...  ...                 ...                  ...   \n",
       "1018                         -  ...         NZ_CP011138                    -   \n",
       "1022                      MOBP  ...            MF083142                    -   \n",
       "1093                         -  ...                   -                    -   \n",
       "1095                      MOBQ  ...                   -                    -   \n",
       "1096                      MOBQ  ...                   -                    -   \n",
       "\n",
       "     mash_nearest_neighbor_y mash_neighbor_distance_y  \\\n",
       "53                  FM180569                 0.037311   \n",
       "54                  FM180569                 0.037311   \n",
       "55                  FM180569                 0.037311   \n",
       "56                  FM180569                 0.037311   \n",
       "57                  FM180569                 0.037311   \n",
       "...                      ...                      ...   \n",
       "1018                CP019695                0.0204123   \n",
       "1022               NC_019982               0.00989629   \n",
       "1093                CP032517                0.0671564   \n",
       "1095                LT985301                0.0313762   \n",
       "1096                DQ995354               0.00997914   \n",
       "\n",
       "              mash_neighbor_identification_y repetitive_dna_id  \\\n",
       "53    Escherichia coli O127:H6 str. E2348/69                 -   \n",
       "54    Escherichia coli O127:H6 str. E2348/69                 -   \n",
       "55    Escherichia coli O127:H6 str. E2348/69                 -   \n",
       "56    Escherichia coli O127:H6 str. E2348/69                 -   \n",
       "57    Escherichia coli O127:H6 str. E2348/69                 -   \n",
       "...                                      ...               ...   \n",
       "1018                         Shigella sonnei                 -   \n",
       "1022                        Escherichia coli                 -   \n",
       "1093                        Escherichia coli                 -   \n",
       "1095                        Escherichia coli                 -   \n",
       "1096                        Escherichia coli                 -   \n",
       "\n",
       "     repetitive_dna_type  filtering_reason                  0  Year  \n",
       "53                     -                 -  CABEEY010000005.1  1960  \n",
       "54                     -                 -  CABEEY010000005.1  1949  \n",
       "55                     -                 -  CABEEY010000005.1  1950  \n",
       "56                     -                 -  CABEEY010000005.1  1947  \n",
       "57                     -                 -  CABEEY010000005.1  1949  \n",
       "...                  ...               ...                ...   ...  \n",
       "1018                   -                 -     UGDK01000004.1  1952  \n",
       "1022                   -                 -     UGFS01000003.1  1952  \n",
       "1093                   -                 -     UGGC01000004.1  1955  \n",
       "1095                   -                 -     UASC01000011.1  1955  \n",
       "1096                   -                 -     UGAI01000001.1  1955  \n",
       "\n",
       "[181 rows x 56 columns]"
      ]
     },
     "execution_count": 9,
     "metadata": {},
     "output_type": "execute_result"
    }
   ],
   "source": [
    "mob_rgi = merged_mob.loc[merged_mob[0].isin(ecoli_mlplasmid_out['Contig'])].copy()\n",
    "mob_rgi"
   ]
  },
  {
   "cell_type": "code",
   "execution_count": 10,
   "id": "22ba2612-2c8a-4901-89ff-420b4791cd96",
   "metadata": {},
   "outputs": [
    {
     "data": {
      "text/html": [
       "<div>\n",
       "<style scoped>\n",
       "    .dataframe tbody tr th:only-of-type {\n",
       "        vertical-align: middle;\n",
       "    }\n",
       "\n",
       "    .dataframe tbody tr th {\n",
       "        vertical-align: top;\n",
       "    }\n",
       "\n",
       "    .dataframe thead th {\n",
       "        text-align: right;\n",
       "    }\n",
       "</style>\n",
       "<table border=\"1\" class=\"dataframe\">\n",
       "  <thead>\n",
       "    <tr style=\"text-align: right;\">\n",
       "      <th></th>\n",
       "      <th>AccNum</th>\n",
       "      <th>Prob_Chrom</th>\n",
       "      <th>Prob_Plasmid</th>\n",
       "      <th>Prediction</th>\n",
       "      <th>Contig_name</th>\n",
       "      <th>Contig_len</th>\n",
       "      <th>Contig</th>\n",
       "      <th>Year</th>\n",
       "    </tr>\n",
       "  </thead>\n",
       "  <tbody>\n",
       "    <tr>\n",
       "      <th>1</th>\n",
       "      <td>NCTC10089</td>\n",
       "      <td>0.173210</td>\n",
       "      <td>0.826790</td>\n",
       "      <td>Plasmid</td>\n",
       "      <td>CABEEY010000005.1 Escherichia coli strain NCTC...</td>\n",
       "      <td>128351</td>\n",
       "      <td>CABEEY010000005.1</td>\n",
       "      <td>1960</td>\n",
       "    </tr>\n",
       "    <tr>\n",
       "      <th>2</th>\n",
       "      <td>NCTC10090</td>\n",
       "      <td>0.026375</td>\n",
       "      <td>0.973625</td>\n",
       "      <td>Plasmid</td>\n",
       "      <td>UGFA01000003.1 Escherichia coli strain NCTC100...</td>\n",
       "      <td>5815</td>\n",
       "      <td>UGFA01000003.1</td>\n",
       "      <td>1960</td>\n",
       "    </tr>\n",
       "    <tr>\n",
       "      <th>3</th>\n",
       "      <td>NCTC10279</td>\n",
       "      <td>0.052393</td>\n",
       "      <td>0.947607</td>\n",
       "      <td>Plasmid</td>\n",
       "      <td>UASG01000001.1 Escherichia coli strain NCTC102...</td>\n",
       "      <td>6250</td>\n",
       "      <td>UASG01000001.1</td>\n",
       "      <td>1962</td>\n",
       "    </tr>\n",
       "    <tr>\n",
       "      <th>4</th>\n",
       "      <td>NCTC10279</td>\n",
       "      <td>0.256110</td>\n",
       "      <td>0.743890</td>\n",
       "      <td>Plasmid</td>\n",
       "      <td>UASG01000004.1 Escherichia coli strain NCTC102...</td>\n",
       "      <td>4528</td>\n",
       "      <td>UASG01000004.1</td>\n",
       "      <td>1962</td>\n",
       "    </tr>\n",
       "    <tr>\n",
       "      <th>6</th>\n",
       "      <td>NCTC10429</td>\n",
       "      <td>0.239130</td>\n",
       "      <td>0.760870</td>\n",
       "      <td>Plasmid</td>\n",
       "      <td>UGEX01000005.1 Escherichia coli strain NCTC104...</td>\n",
       "      <td>108471</td>\n",
       "      <td>UGEX01000005.1</td>\n",
       "      <td>1965</td>\n",
       "    </tr>\n",
       "    <tr>\n",
       "      <th>...</th>\n",
       "      <td>...</td>\n",
       "      <td>...</td>\n",
       "      <td>...</td>\n",
       "      <td>...</td>\n",
       "      <td>...</td>\n",
       "      <td>...</td>\n",
       "      <td>...</td>\n",
       "      <td>...</td>\n",
       "    </tr>\n",
       "    <tr>\n",
       "      <th>188</th>\n",
       "      <td>NCTC9101</td>\n",
       "      <td>0.149796</td>\n",
       "      <td>0.850204</td>\n",
       "      <td>Plasmid</td>\n",
       "      <td>UGDK01000004.1 Escherichia coli strain NCTC910...</td>\n",
       "      <td>7677</td>\n",
       "      <td>UGDK01000004.1</td>\n",
       "      <td>1952</td>\n",
       "    </tr>\n",
       "    <tr>\n",
       "      <th>199</th>\n",
       "      <td>NCTC9120</td>\n",
       "      <td>0.183105</td>\n",
       "      <td>0.816895</td>\n",
       "      <td>Plasmid</td>\n",
       "      <td>UGFS01000003.1 Escherichia coli strain NCTC912...</td>\n",
       "      <td>5711</td>\n",
       "      <td>UGFS01000003.1</td>\n",
       "      <td>1952</td>\n",
       "    </tr>\n",
       "    <tr>\n",
       "      <th>212</th>\n",
       "      <td>NCTC9707</td>\n",
       "      <td>0.009951</td>\n",
       "      <td>0.990049</td>\n",
       "      <td>Plasmid</td>\n",
       "      <td>UGGC01000004.1 Escherichia coli strain NCTC970...</td>\n",
       "      <td>4486</td>\n",
       "      <td>UGGC01000004.1</td>\n",
       "      <td>1955</td>\n",
       "    </tr>\n",
       "    <tr>\n",
       "      <th>222</th>\n",
       "      <td>NCTC9777</td>\n",
       "      <td>0.008379</td>\n",
       "      <td>0.991621</td>\n",
       "      <td>Plasmid</td>\n",
       "      <td>UASC01000011.1 Escherichia coli strain NCTC977...</td>\n",
       "      <td>8958</td>\n",
       "      <td>UASC01000011.1</td>\n",
       "      <td>1955</td>\n",
       "    </tr>\n",
       "    <tr>\n",
       "      <th>223</th>\n",
       "      <td>NCTC9778</td>\n",
       "      <td>0.027165</td>\n",
       "      <td>0.972835</td>\n",
       "      <td>Plasmid</td>\n",
       "      <td>UGAI01000001.1 Escherichia coli strain NCTC977...</td>\n",
       "      <td>5982</td>\n",
       "      <td>UGAI01000001.1</td>\n",
       "      <td>1955</td>\n",
       "    </tr>\n",
       "  </tbody>\n",
       "</table>\n",
       "<p>62 rows × 8 columns</p>\n",
       "</div>"
      ],
      "text/plain": [
       "        AccNum  Prob_Chrom  Prob_Plasmid Prediction  \\\n",
       "1    NCTC10089    0.173210      0.826790    Plasmid   \n",
       "2    NCTC10090    0.026375      0.973625    Plasmid   \n",
       "3    NCTC10279    0.052393      0.947607    Plasmid   \n",
       "4    NCTC10279    0.256110      0.743890    Plasmid   \n",
       "6    NCTC10429    0.239130      0.760870    Plasmid   \n",
       "..         ...         ...           ...        ...   \n",
       "188   NCTC9101    0.149796      0.850204    Plasmid   \n",
       "199   NCTC9120    0.183105      0.816895    Plasmid   \n",
       "212   NCTC9707    0.009951      0.990049    Plasmid   \n",
       "222   NCTC9777    0.008379      0.991621    Plasmid   \n",
       "223   NCTC9778    0.027165      0.972835    Plasmid   \n",
       "\n",
       "                                           Contig_name  Contig_len  \\\n",
       "1    CABEEY010000005.1 Escherichia coli strain NCTC...      128351   \n",
       "2    UGFA01000003.1 Escherichia coli strain NCTC100...        5815   \n",
       "3    UASG01000001.1 Escherichia coli strain NCTC102...        6250   \n",
       "4    UASG01000004.1 Escherichia coli strain NCTC102...        4528   \n",
       "6    UGEX01000005.1 Escherichia coli strain NCTC104...      108471   \n",
       "..                                                 ...         ...   \n",
       "188  UGDK01000004.1 Escherichia coli strain NCTC910...        7677   \n",
       "199  UGFS01000003.1 Escherichia coli strain NCTC912...        5711   \n",
       "212  UGGC01000004.1 Escherichia coli strain NCTC970...        4486   \n",
       "222  UASC01000011.1 Escherichia coli strain NCTC977...        8958   \n",
       "223  UGAI01000001.1 Escherichia coli strain NCTC977...        5982   \n",
       "\n",
       "                Contig  Year  \n",
       "1    CABEEY010000005.1  1960  \n",
       "2       UGFA01000003.1  1960  \n",
       "3       UASG01000001.1  1962  \n",
       "4       UASG01000004.1  1962  \n",
       "6       UGEX01000005.1  1965  \n",
       "..                 ...   ...  \n",
       "188     UGDK01000004.1  1952  \n",
       "199     UGFS01000003.1  1952  \n",
       "212     UGGC01000004.1  1955  \n",
       "222     UASC01000011.1  1955  \n",
       "223     UGAI01000001.1  1955  \n",
       "\n",
       "[62 rows x 8 columns]"
      ]
     },
     "execution_count": 10,
     "metadata": {},
     "output_type": "execute_result"
    }
   ],
   "source": [
    "ecoli_mlplasmid_out.loc[ecoli_mlplasmid_out['Contig'].isin(merged_mob[0])]"
   ]
  },
  {
   "cell_type": "code",
   "execution_count": 11,
   "id": "0aab06a5-7efc-4b2b-ac1c-babfd549e715",
   "metadata": {},
   "outputs": [
    {
     "data": {
      "application/vnd.plotly.v1+json": {
       "config": {
        "plotlyServerURL": "https://plot.ly"
       },
       "data": [
        {
         "alignmentgroup": "True",
         "hovertemplate": "predicted_mobility_x=conjugative<br>Year Cultured=%{x}<br>y=%{y}<extra></extra>",
         "legendgroup": "conjugative",
         "marker": {
          "color": "#636efa",
          "pattern": {
           "shape": ""
          }
         },
         "name": "conjugative",
         "offsetgroup": "conjugative",
         "orientation": "v",
         "showlegend": true,
         "textposition": "auto",
         "type": "bar",
         "x": [
          1958,
          1958,
          1958,
          1959,
          1949,
          1950,
          1949,
          1952,
          1955,
          1955,
          1955,
          1967,
          1949,
          1955,
          1960,
          1958,
          1971,
          1960,
          1977,
          1929,
          1935,
          1949,
          1949,
          1955,
          1960,
          1960,
          1948,
          1937,
          1941,
          1940,
          1932,
          1940,
          1948,
          1947,
          1940,
          1936,
          1920,
          1934,
          1934,
          1934,
          1934,
          1951,
          1954,
          1954,
          1955,
          1955,
          1955,
          1955,
          1955,
          1955,
          1955,
          1967,
          1961,
          1958,
          2008,
          1952,
          1954,
          1958,
          1937,
          1934,
          1934,
          1934,
          1958,
          1991,
          1995,
          2003,
          2009,
          2006,
          1920,
          1930,
          1937,
          1938,
          1940,
          1940,
          1941,
          1947,
          1949,
          1952,
          1952,
          1953,
          1952,
          1952,
          1952,
          1952,
          1955,
          1954,
          1955,
          1962,
          1962,
          1962,
          1989,
          1960,
          1953,
          1967,
          1970,
          1933,
          1939,
          1939,
          1957,
          1971,
          1971,
          1982,
          1983,
          1944,
          1949,
          1949,
          1949,
          1954,
          1952,
          1952,
          1952,
          1952,
          1952,
          1955,
          1957,
          1971,
          1932,
          1931,
          1931,
          1944,
          1952,
          1952,
          1955,
          1955,
          1957,
          1938,
          1966,
          1957,
          1976,
          1955,
          1969,
          1988,
          1969,
          1969,
          1964,
          1966,
          1968,
          1968,
          1995,
          1949,
          1971,
          1971,
          1944,
          1952,
          1976,
          1952,
          1955,
          1952,
          1971,
          1971,
          1977,
          1971,
          1971,
          1971,
          1983,
          1973,
          1935,
          1958,
          1952,
          1958,
          1955,
          1992,
          1991,
          2006,
          2013,
          1952,
          1971,
          1980,
          1980,
          1997,
          1980,
          1980,
          1980,
          1980,
          1982,
          1952,
          1978,
          1949,
          1951,
          1976,
          1982,
          1983,
          1981,
          1975,
          1987,
          1987,
          1982,
          1934,
          1952,
          1934,
          1988,
          1987,
          1985,
          1989,
          1985,
          1973,
          1982,
          1982,
          1988,
          1990,
          1985,
          2008,
          2003,
          2003,
          2009,
          2006,
          1997,
          2004,
          2003,
          2008,
          2008,
          1952,
          1953,
          1976,
          1937,
          1940,
          1936,
          1934,
          1934,
          1952,
          1940,
          1952,
          1953,
          1954,
          1931,
          1931,
          1932,
          1952,
          1939,
          1939,
          1965,
          1947,
          1952,
          1952,
          1952,
          1947,
          1946,
          1949,
          1949,
          1949,
          1949,
          1952,
          1952,
          1956,
          1950,
          1950,
          1951,
          1950,
          1950,
          1953,
          1953,
          1950,
          1951,
          1952,
          1952,
          1952,
          1953,
          1952,
          1952,
          1976,
          1952,
          1952,
          1952,
          1954,
          1976,
          1976,
          1952,
          1976,
          1952,
          1952,
          1952,
          1952,
          1952,
          1952,
          1952,
          1952,
          1952,
          1952,
          1952,
          1952,
          1952,
          1933,
          1952,
          1952,
          1952,
          1952,
          1952,
          1952,
          1952,
          1952,
          1952,
          1952,
          1952,
          1952,
          1953,
          1952,
          1952,
          1953,
          1952,
          1952,
          1952,
          1955,
          1955,
          1955,
          1956,
          1955,
          1954,
          1976,
          1957
         ],
         "xaxis": "x",
         "y": [
          0.047619047619047616,
          0.047619047619047616,
          0.047619047619047616,
          0.14285714285714285,
          0.030303030303030304,
          0.03225806451612903,
          0.030303030303030304,
          0.006134969325153374,
          0.011494252873563218,
          0.011494252873563218,
          0.011494252873563218,
          0.06666666666666667,
          0.030303030303030304,
          0.011494252873563218,
          0.058823529411764705,
          0.047619047619047616,
          0.030303030303030304,
          0.058823529411764705,
          0.3333333333333333,
          0.3333333333333333,
          0.125,
          0.030303030303030304,
          0.030303030303030304,
          0.011494252873563218,
          0.058823529411764705,
          0.058823529411764705,
          0.058823529411764705,
          0.16666666666666666,
          0.1111111111111111,
          0.045454545454545456,
          0.14285714285714285,
          0.045454545454545456,
          0.058823529411764705,
          0.06666666666666667,
          0.045454545454545456,
          0.2,
          0.09090909090909091,
          0.043478260869565216,
          0.043478260869565216,
          0.043478260869565216,
          0.043478260869565216,
          0.05263157894736842,
          0.03225806451612903,
          0.03225806451612903,
          0.011494252873563218,
          0.011494252873563218,
          0.011494252873563218,
          0.011494252873563218,
          0.011494252873563218,
          0.011494252873563218,
          0.011494252873563218,
          0.06666666666666667,
          0.3333333333333333,
          0.047619047619047616,
          0.14285714285714285,
          0.006134969325153374,
          0.03225806451612903,
          0.047619047619047616,
          0.16666666666666666,
          0.043478260869565216,
          0.043478260869565216,
          0.043478260869565216,
          0.047619047619047616,
          0.029411764705882353,
          0.2,
          0.0625,
          0.25,
          0.0625,
          0.09090909090909091,
          0.125,
          0.16666666666666666,
          0.125,
          0.045454545454545456,
          0.045454545454545456,
          0.1111111111111111,
          0.06666666666666667,
          0.030303030303030304,
          0.006134969325153374,
          0.006134969325153374,
          0.034482758620689655,
          0.006134969325153374,
          0.006134969325153374,
          0.006134969325153374,
          0.006134969325153374,
          0.011494252873563218,
          0.03225806451612903,
          0.011494252873563218,
          0.0625,
          0.0625,
          0.0625,
          0.16666666666666666,
          0.058823529411764705,
          0.034482758620689655,
          0.06666666666666667,
          0.06666666666666667,
          0.3333333333333333,
          0.1111111111111111,
          0.1111111111111111,
          0.08333333333333333,
          0.030303030303030304,
          0.030303030303030304,
          0.125,
          0.06666666666666667,
          0.14285714285714285,
          0.030303030303030304,
          0.030303030303030304,
          0.030303030303030304,
          0.03225806451612903,
          0.006134969325153374,
          0.006134969325153374,
          0.006134969325153374,
          0.006134969325153374,
          0.006134969325153374,
          0.011494252873563218,
          0.08333333333333333,
          0.030303030303030304,
          0.14285714285714285,
          0.09090909090909091,
          0.09090909090909091,
          0.14285714285714285,
          0.006134969325153374,
          0.006134969325153374,
          0.011494252873563218,
          0.011494252873563218,
          0.08333333333333333,
          0.125,
          0.14285714285714285,
          0.08333333333333333,
          0.041666666666666664,
          0.011494252873563218,
          0.14285714285714285,
          0.125,
          0.14285714285714285,
          0.14285714285714285,
          0.25,
          0.14285714285714285,
          0.125,
          0.125,
          0.2,
          0.030303030303030304,
          0.030303030303030304,
          0.030303030303030304,
          0.14285714285714285,
          0.006134969325153374,
          0.041666666666666664,
          0.006134969325153374,
          0.011494252873563218,
          0.006134969325153374,
          0.030303030303030304,
          0.030303030303030304,
          0.3333333333333333,
          0.030303030303030304,
          0.030303030303030304,
          0.030303030303030304,
          0.06666666666666667,
          0.16666666666666666,
          0.125,
          0.047619047619047616,
          0.006134969325153374,
          0.047619047619047616,
          0.011494252873563218,
          0.08333333333333333,
          0.029411764705882353,
          0.0625,
          0.2,
          0.006134969325153374,
          0.030303030303030304,
          0.058823529411764705,
          0.058823529411764705,
          0.5,
          0.058823529411764705,
          0.058823529411764705,
          0.058823529411764705,
          0.058823529411764705,
          0.125,
          0.006134969325153374,
          0.3333333333333333,
          0.030303030303030304,
          0.05263157894736842,
          0.041666666666666664,
          0.125,
          0.06666666666666667,
          0.1,
          0.1,
          0.09090909090909091,
          0.09090909090909091,
          0.125,
          0.043478260869565216,
          0.006134969325153374,
          0.043478260869565216,
          0.125,
          0.09090909090909091,
          0.0625,
          0.16666666666666666,
          0.0625,
          0.16666666666666666,
          0.125,
          0.125,
          0.125,
          0.5,
          0.0625,
          0.14285714285714285,
          0.0625,
          0.0625,
          0.25,
          0.0625,
          0.5,
          0.25,
          0.0625,
          0.14285714285714285,
          0.14285714285714285,
          0.006134969325153374,
          0.034482758620689655,
          0.041666666666666664,
          0.16666666666666666,
          0.045454545454545456,
          0.2,
          0.043478260869565216,
          0.043478260869565216,
          0.006134969325153374,
          0.045454545454545456,
          0.006134969325153374,
          0.034482758620689655,
          0.03225806451612903,
          0.09090909090909091,
          0.09090909090909091,
          0.14285714285714285,
          0.006134969325153374,
          0.1111111111111111,
          0.1111111111111111,
          0.09090909090909091,
          0.06666666666666667,
          0.006134969325153374,
          0.006134969325153374,
          0.006134969325153374,
          0.06666666666666667,
          0.125,
          0.030303030303030304,
          0.030303030303030304,
          0.030303030303030304,
          0.030303030303030304,
          0.006134969325153374,
          0.006134969325153374,
          0.1,
          0.03225806451612903,
          0.03225806451612903,
          0.05263157894736842,
          0.03225806451612903,
          0.03225806451612903,
          0.034482758620689655,
          0.034482758620689655,
          0.03225806451612903,
          0.05263157894736842,
          0.006134969325153374,
          0.006134969325153374,
          0.006134969325153374,
          0.034482758620689655,
          0.006134969325153374,
          0.006134969325153374,
          0.041666666666666664,
          0.006134969325153374,
          0.006134969325153374,
          0.006134969325153374,
          0.03225806451612903,
          0.041666666666666664,
          0.041666666666666664,
          0.006134969325153374,
          0.041666666666666664,
          0.006134969325153374,
          0.006134969325153374,
          0.006134969325153374,
          0.006134969325153374,
          0.006134969325153374,
          0.006134969325153374,
          0.006134969325153374,
          0.006134969325153374,
          0.006134969325153374,
          0.006134969325153374,
          0.006134969325153374,
          0.006134969325153374,
          0.006134969325153374,
          0.3333333333333333,
          0.006134969325153374,
          0.006134969325153374,
          0.006134969325153374,
          0.006134969325153374,
          0.006134969325153374,
          0.006134969325153374,
          0.006134969325153374,
          0.006134969325153374,
          0.006134969325153374,
          0.006134969325153374,
          0.006134969325153374,
          0.006134969325153374,
          0.034482758620689655,
          0.006134969325153374,
          0.006134969325153374,
          0.034482758620689655,
          0.006134969325153374,
          0.006134969325153374,
          0.006134969325153374,
          0.011494252873563218,
          0.011494252873563218,
          0.011494252873563218,
          0.1,
          0.011494252873563218,
          0.03225806451612903,
          0.041666666666666664,
          0.08333333333333333
         ],
         "yaxis": "y"
        },
        {
         "alignmentgroup": "True",
         "hovertemplate": "predicted_mobility_x=non-mobilizable<br>Year Cultured=%{x}<br>y=%{y}<extra></extra>",
         "legendgroup": "non-mobilizable",
         "marker": {
          "color": "#EF553B",
          "pattern": {
           "shape": ""
          }
         },
         "name": "non-mobilizable",
         "offsetgroup": "non-mobilizable",
         "orientation": "v",
         "showlegend": true,
         "textposition": "auto",
         "type": "bar",
         "x": [
          1958,
          1958,
          1958,
          1958,
          1958,
          1964,
          1951,
          1959,
          1956,
          1960,
          1989,
          2006,
          1949,
          1949,
          1950,
          1952,
          1952,
          1976,
          1947,
          1960,
          1920,
          1940,
          1934,
          1953,
          1950,
          1958,
          1967,
          1953,
          1953,
          1953,
          1958,
          1967,
          1953,
          1950,
          1953,
          1953,
          1948,
          1986,
          1934,
          1952,
          1955,
          1948,
          1937,
          1920,
          1934,
          1955,
          1970,
          1958,
          1952,
          1952,
          1962,
          1971,
          2003,
          1940,
          1962,
          1970,
          2012,
          1962,
          1962,
          1962,
          2003,
          2007,
          1962,
          2003,
          1962,
          1962,
          1952,
          1954,
          1960,
          1968,
          1952,
          1952,
          1962,
          1962,
          1916,
          1916,
          1947,
          1960,
          1960,
          1965,
          1965,
          1983,
          1965,
          1959,
          1965,
          1967,
          1992,
          1929,
          1920,
          1957,
          1955,
          1966,
          1967,
          1957,
          1970,
          1967,
          1968,
          1968,
          1967,
          1954,
          1970,
          1985,
          1985,
          1984,
          1987,
          1951,
          1970,
          1970,
          1970,
          1970,
          1950,
          1976,
          1958,
          2003,
          2006,
          2013,
          1940,
          1949,
          1952,
          1952,
          1952,
          1952,
          1976,
          1952,
          1952,
          1952,
          1952,
          1976,
          1952,
          1971,
          1952,
          1971,
          2012,
          1971,
          1971,
          1971,
          1966,
          1967,
          1974,
          1983,
          1966,
          1958,
          1973,
          1971,
          1947,
          1983,
          1949,
          1975,
          1975,
          1975,
          1974,
          1957,
          1974,
          1974,
          1933,
          1920,
          1930,
          1947,
          1948,
          1952,
          1952,
          1954,
          1974,
          1974,
          1975,
          1980,
          1980,
          1975,
          1981,
          1981,
          1979,
          1989,
          1959,
          1980,
          1980,
          1953,
          1980,
          1953,
          1980,
          1983,
          1955,
          1983,
          1985,
          1984,
          1981,
          1984,
          1984,
          1978,
          1986,
          1985,
          1976,
          1987,
          1986,
          1979,
          1986,
          1979,
          1980,
          1981,
          1981,
          1986,
          1986,
          1986,
          1986,
          1980,
          1980,
          1951,
          1987,
          1985,
          1987,
          1985,
          1989,
          1984,
          1984,
          1930,
          1991,
          1991,
          1987,
          1990,
          1992,
          1992,
          1992,
          1931,
          1955,
          1992,
          1991,
          1991,
          1991,
          1991,
          1991,
          1991,
          1991,
          1991,
          1991,
          1991,
          1991,
          1991,
          1991,
          1991,
          1991,
          1991,
          1991,
          1991,
          1991,
          1991,
          1991,
          1991,
          1991,
          1991,
          1991,
          1995,
          1995,
          1994,
          1999,
          2004,
          2004,
          2003,
          2008,
          2003,
          2008,
          2006,
          1950,
          1952,
          1985,
          1937,
          1940,
          1932,
          1940,
          1940,
          1941,
          1934,
          1952,
          1940,
          1956,
          1955,
          1936,
          2010,
          2010,
          2015,
          2010,
          2015,
          2010,
          2015,
          2015,
          2015,
          2015,
          2015,
          2015,
          2006,
          2006,
          2016,
          2013,
          1922,
          1922,
          1922,
          1916,
          1914,
          1955,
          1930,
          1921,
          1947,
          1925,
          1911,
          1911,
          1935,
          1917,
          1917,
          1931,
          1930,
          1949,
          1950,
          1952,
          1955,
          1956,
          1940,
          1941,
          1941,
          1936,
          1954,
          1954,
          1954,
          1954,
          1941,
          1941,
          1957,
          1946,
          1935,
          1948,
          1935,
          1947,
          1946,
          1948,
          1948,
          1948,
          1948,
          1983,
          1949,
          1950,
          1950,
          1950,
          1950,
          1952,
          1953,
          1936,
          1935,
          1950,
          1955,
          1944,
          1955,
          1955,
          1944,
          1955,
          1955,
          1952,
          1930,
          1939,
          1951,
          1939,
          1951,
          1952,
          1952,
          1952,
          1952,
          1952,
          1952,
          1952,
          1952,
          1953,
          1952,
          1952,
          1952,
          1952,
          1954,
          1952,
          1952,
          1953,
          1956,
          1953,
          1954,
          1954,
          1954,
          1954,
          1954,
          1954,
          1954,
          1954,
          1954,
          1955,
          1955,
          1955,
          1955,
          1955,
          1955,
          1955,
          1955,
          1955,
          1955,
          1946
         ],
         "xaxis": "x",
         "y": [
          0.047619047619047616,
          0.047619047619047616,
          0.047619047619047616,
          0.047619047619047616,
          0.047619047619047616,
          0.25,
          0.05263157894736842,
          0.14285714285714285,
          0.1,
          0.058823529411764705,
          0.16666666666666666,
          0.0625,
          0.030303030303030304,
          0.030303030303030304,
          0.03225806451612903,
          0.006134969325153374,
          0.006134969325153374,
          0.041666666666666664,
          0.06666666666666667,
          0.058823529411764705,
          0.09090909090909091,
          0.045454545454545456,
          0.043478260869565216,
          0.034482758620689655,
          0.03225806451612903,
          0.047619047619047616,
          0.06666666666666667,
          0.034482758620689655,
          0.034482758620689655,
          0.034482758620689655,
          0.047619047619047616,
          0.06666666666666667,
          0.034482758620689655,
          0.03225806451612903,
          0.034482758620689655,
          0.034482758620689655,
          0.058823529411764705,
          0.06666666666666667,
          0.043478260869565216,
          0.006134969325153374,
          0.011494252873563218,
          0.058823529411764705,
          0.16666666666666666,
          0.09090909090909091,
          0.043478260869565216,
          0.011494252873563218,
          0.06666666666666667,
          0.047619047619047616,
          0.006134969325153374,
          0.006134969325153374,
          0.0625,
          0.030303030303030304,
          0.0625,
          0.045454545454545456,
          0.0625,
          0.06666666666666667,
          0.3333333333333333,
          0.0625,
          0.0625,
          0.0625,
          0.0625,
          0.2,
          0.0625,
          0.0625,
          0.0625,
          0.0625,
          0.006134969325153374,
          0.03225806451612903,
          0.058823529411764705,
          0.125,
          0.006134969325153374,
          0.006134969325153374,
          0.0625,
          0.0625,
          0.2,
          0.2,
          0.06666666666666667,
          0.058823529411764705,
          0.058823529411764705,
          0.09090909090909091,
          0.09090909090909091,
          0.06666666666666667,
          0.09090909090909091,
          0.14285714285714285,
          0.09090909090909091,
          0.06666666666666667,
          0.08333333333333333,
          0.3333333333333333,
          0.09090909090909091,
          0.08333333333333333,
          0.011494252873563218,
          0.14285714285714285,
          0.06666666666666667,
          0.08333333333333333,
          0.06666666666666667,
          0.06666666666666667,
          0.125,
          0.125,
          0.06666666666666667,
          0.03225806451612903,
          0.06666666666666667,
          0.0625,
          0.0625,
          0.14285714285714285,
          0.09090909090909091,
          0.05263157894736842,
          0.06666666666666667,
          0.06666666666666667,
          0.06666666666666667,
          0.06666666666666667,
          0.03225806451612903,
          0.041666666666666664,
          0.047619047619047616,
          0.0625,
          0.0625,
          0.2,
          0.045454545454545456,
          0.030303030303030304,
          0.006134969325153374,
          0.006134969325153374,
          0.006134969325153374,
          0.006134969325153374,
          0.041666666666666664,
          0.006134969325153374,
          0.006134969325153374,
          0.006134969325153374,
          0.006134969325153374,
          0.041666666666666664,
          0.006134969325153374,
          0.030303030303030304,
          0.006134969325153374,
          0.030303030303030304,
          0.3333333333333333,
          0.030303030303030304,
          0.030303030303030304,
          0.030303030303030304,
          0.14285714285714285,
          0.06666666666666667,
          0.14285714285714285,
          0.06666666666666667,
          0.14285714285714285,
          0.047619047619047616,
          0.16666666666666666,
          0.030303030303030304,
          0.06666666666666667,
          0.06666666666666667,
          0.030303030303030304,
          0.1,
          0.1,
          0.1,
          0.14285714285714285,
          0.08333333333333333,
          0.14285714285714285,
          0.14285714285714285,
          0.3333333333333333,
          0.09090909090909091,
          0.125,
          0.06666666666666667,
          0.058823529411764705,
          0.006134969325153374,
          0.006134969325153374,
          0.03225806451612903,
          0.14285714285714285,
          0.14285714285714285,
          0.1,
          0.058823529411764705,
          0.058823529411764705,
          0.1,
          0.1,
          0.1,
          0.3333333333333333,
          0.16666666666666666,
          0.14285714285714285,
          0.058823529411764705,
          0.058823529411764705,
          0.034482758620689655,
          0.058823529411764705,
          0.034482758620689655,
          0.058823529411764705,
          0.06666666666666667,
          0.011494252873563218,
          0.06666666666666667,
          0.0625,
          0.14285714285714285,
          0.1,
          0.14285714285714285,
          0.14285714285714285,
          0.3333333333333333,
          0.06666666666666667,
          0.0625,
          0.041666666666666664,
          0.09090909090909091,
          0.06666666666666667,
          0.3333333333333333,
          0.06666666666666667,
          0.3333333333333333,
          0.058823529411764705,
          0.1,
          0.1,
          0.06666666666666667,
          0.06666666666666667,
          0.06666666666666667,
          0.06666666666666667,
          0.058823529411764705,
          0.058823529411764705,
          0.05263157894736842,
          0.09090909090909091,
          0.0625,
          0.09090909090909091,
          0.0625,
          0.16666666666666666,
          0.14285714285714285,
          0.14285714285714285,
          0.125,
          0.029411764705882353,
          0.029411764705882353,
          0.09090909090909091,
          0.5,
          0.08333333333333333,
          0.08333333333333333,
          0.08333333333333333,
          0.09090909090909091,
          0.011494252873563218,
          0.08333333333333333,
          0.029411764705882353,
          0.029411764705882353,
          0.029411764705882353,
          0.029411764705882353,
          0.029411764705882353,
          0.029411764705882353,
          0.029411764705882353,
          0.029411764705882353,
          0.029411764705882353,
          0.029411764705882353,
          0.029411764705882353,
          0.029411764705882353,
          0.029411764705882353,
          0.029411764705882353,
          0.029411764705882353,
          0.029411764705882353,
          0.029411764705882353,
          0.029411764705882353,
          0.029411764705882353,
          0.029411764705882353,
          0.029411764705882353,
          0.029411764705882353,
          0.029411764705882353,
          0.029411764705882353,
          0.029411764705882353,
          0.2,
          0.2,
          1,
          1,
          0.25,
          0.25,
          0.0625,
          0.14285714285714285,
          0.0625,
          0.14285714285714285,
          0.0625,
          0.03225806451612903,
          0.006134969325153374,
          0.0625,
          0.16666666666666666,
          0.045454545454545456,
          0.14285714285714285,
          0.045454545454545456,
          0.045454545454545456,
          0.1111111111111111,
          0.043478260869565216,
          0.006134969325153374,
          0.045454545454545456,
          0.1,
          0.011494252873563218,
          0.2,
          0.16666666666666666,
          0.16666666666666666,
          0.08333333333333333,
          0.16666666666666666,
          0.08333333333333333,
          0.16666666666666666,
          0.08333333333333333,
          0.08333333333333333,
          0.08333333333333333,
          0.08333333333333333,
          0.08333333333333333,
          0.08333333333333333,
          0.0625,
          0.0625,
          0.3333333333333333,
          0.2,
          0.2,
          0.2,
          0.2,
          0.2,
          1,
          0.011494252873563218,
          0.125,
          1,
          0.06666666666666667,
          1,
          0.5,
          0.5,
          0.125,
          0.5,
          0.5,
          0.09090909090909091,
          0.125,
          0.030303030303030304,
          0.03225806451612903,
          0.006134969325153374,
          0.011494252873563218,
          0.1,
          0.045454545454545456,
          0.1111111111111111,
          0.1111111111111111,
          0.2,
          0.03225806451612903,
          0.03225806451612903,
          0.03225806451612903,
          0.03225806451612903,
          0.1111111111111111,
          0.1111111111111111,
          0.08333333333333333,
          0.125,
          0.125,
          0.058823529411764705,
          0.125,
          0.06666666666666667,
          0.125,
          0.058823529411764705,
          0.058823529411764705,
          0.058823529411764705,
          0.058823529411764705,
          0.06666666666666667,
          0.030303030303030304,
          0.03225806451612903,
          0.03225806451612903,
          0.03225806451612903,
          0.03225806451612903,
          0.006134969325153374,
          0.034482758620689655,
          0.2,
          0.125,
          0.03225806451612903,
          0.011494252873563218,
          0.14285714285714285,
          0.011494252873563218,
          0.011494252873563218,
          0.14285714285714285,
          0.011494252873563218,
          0.011494252873563218,
          0.006134969325153374,
          0.125,
          0.1111111111111111,
          0.05263157894736842,
          0.1111111111111111,
          0.05263157894736842,
          0.006134969325153374,
          0.006134969325153374,
          0.006134969325153374,
          0.006134969325153374,
          0.006134969325153374,
          0.006134969325153374,
          0.006134969325153374,
          0.006134969325153374,
          0.034482758620689655,
          0.006134969325153374,
          0.006134969325153374,
          0.006134969325153374,
          0.006134969325153374,
          0.03225806451612903,
          0.006134969325153374,
          0.006134969325153374,
          0.034482758620689655,
          0.1,
          0.034482758620689655,
          0.03225806451612903,
          0.03225806451612903,
          0.03225806451612903,
          0.03225806451612903,
          0.03225806451612903,
          0.03225806451612903,
          0.03225806451612903,
          0.03225806451612903,
          0.03225806451612903,
          0.011494252873563218,
          0.011494252873563218,
          0.011494252873563218,
          0.011494252873563218,
          0.011494252873563218,
          0.011494252873563218,
          0.011494252873563218,
          0.011494252873563218,
          0.011494252873563218,
          0.011494252873563218,
          0.125
         ],
         "yaxis": "y"
        },
        {
         "alignmentgroup": "True",
         "hovertemplate": "predicted_mobility_x=mobilizable<br>Year Cultured=%{x}<br>y=%{y}<extra></extra>",
         "legendgroup": "mobilizable",
         "marker": {
          "color": "#00cc96",
          "pattern": {
           "shape": ""
          }
         },
         "name": "mobilizable",
         "offsetgroup": "mobilizable",
         "orientation": "v",
         "showlegend": true,
         "textposition": "auto",
         "type": "bar",
         "x": [
          1959,
          1960,
          1954,
          1970,
          1983,
          1983,
          1985,
          1959,
          1969,
          1971,
          1977,
          1986,
          1928,
          1938,
          1938,
          1938,
          1938,
          1943,
          1944,
          1947,
          1948,
          1948,
          1948,
          1949,
          1935,
          1935,
          1938,
          1951,
          1951,
          1951,
          1976,
          1960,
          1960,
          1920,
          1952,
          1951,
          1954,
          1955,
          1955,
          1960,
          1955,
          1931,
          1955,
          1955,
          1958,
          1959,
          1967,
          1953,
          1967,
          1953,
          1952,
          1953,
          1950,
          1950,
          1953,
          1953,
          1953,
          1948,
          1930,
          2003,
          1920,
          1940,
          1940,
          1948,
          1947,
          1920,
          1934,
          1934,
          1934,
          1934,
          1951,
          1955,
          1955,
          1955,
          1955,
          1955,
          1955,
          1961,
          1952,
          1961,
          1962,
          1969,
          2006,
          1942,
          1952,
          1952,
          1955,
          1955,
          2004,
          1962,
          1962,
          1940,
          1940,
          1941,
          1955,
          1931,
          1934,
          1934,
          1952,
          1955,
          1955,
          1955,
          1955,
          1916,
          1916,
          1952,
          1960,
          1960,
          1947,
          1965,
          1973,
          1960,
          1954,
          1969,
          1968,
          1968,
          1970,
          1970,
          1975,
          1949,
          1950,
          1951,
          1965,
          1965,
          1965,
          1965,
          1955,
          1976,
          1957,
          1981,
          1949,
          1949,
          1952,
          1952,
          1955,
          1967,
          1965,
          1951,
          1966,
          1969,
          1987,
          1940,
          1964,
          1971,
          1974,
          1932,
          1955,
          1951,
          1966,
          1952,
          1970,
          1970,
          1967,
          1946,
          1970,
          1964,
          1971,
          1952,
          1952,
          1971,
          1955,
          1971,
          1952,
          1952,
          1955,
          1971,
          2009,
          1971,
          1971,
          1972,
          2008,
          1952,
          1971,
          1971,
          1971,
          1972,
          1972,
          1971,
          1976,
          1983,
          1958,
          1984,
          1950,
          1967,
          1982,
          1992,
          1992,
          1991,
          2015,
          2015,
          2015,
          2015,
          2009,
          2010,
          1950,
          1945,
          1920,
          1971,
          1971,
          1955,
          1949,
          1973,
          2016,
          1975,
          1945,
          1976,
          1957,
          1957,
          1975,
          1930,
          1975,
          1955,
          1988,
          1980,
          1978,
          1952,
          1952,
          1983,
          1989,
          1991,
          1983,
          1943,
          1952,
          1956,
          1976,
          1968,
          1981,
          1976,
          1981,
          1981,
          1986,
          1986,
          1985,
          1986,
          1952,
          1955,
          1955,
          1980,
          1988,
          1983,
          1986,
          1987,
          1992,
          1986,
          1986,
          2007,
          1987,
          1988,
          2006,
          1934,
          1952,
          1993,
          1973,
          1985,
          1985,
          1985,
          1985,
          1982,
          1946,
          1992,
          1992,
          1992,
          1991,
          1988,
          1991,
          1995,
          1988,
          2003,
          2003,
          2007,
          1941,
          2003,
          2003,
          1976,
          1952,
          2006,
          2006,
          2006,
          1991,
          2012,
          2007,
          1976,
          2007,
          2006,
          2006,
          2006,
          1950,
          2003,
          2010,
          2016,
          2013,
          2013,
          1922,
          1922,
          1920,
          1919,
          1950,
          1951,
          1928,
          1929,
          1919,
          1926,
          1919,
          1931,
          1949,
          1952,
          1976,
          1931,
          1944,
          1952,
          1955,
          1934,
          1952,
          1952,
          1952,
          1955,
          1939,
          1939,
          1939,
          1931,
          1938,
          1948,
          1940,
          1940,
          1942,
          1943,
          1946,
          1945,
          1952,
          1947,
          1947,
          1948,
          1949,
          1949,
          1949,
          1949,
          1949,
          1950,
          1950,
          1950,
          1950,
          1950,
          1950,
          1950,
          1932,
          1932,
          1952,
          1952,
          1952,
          1956,
          1952,
          1951,
          1954,
          1949,
          1956,
          1953,
          1952,
          1952,
          1946,
          1952,
          1952,
          1952,
          1952,
          1952,
          1952,
          1952,
          1952,
          1976,
          1952,
          1952,
          1952,
          1952,
          1952,
          1952,
          1952,
          1952,
          1952,
          1952,
          1954,
          1952,
          1952,
          1952,
          1955,
          1955,
          1955,
          1955,
          1954,
          1955,
          1955,
          1955,
          1955,
          1955,
          1955,
          1955,
          1956
         ],
         "xaxis": "x",
         "y": [
          0.14285714285714285,
          0.058823529411764705,
          0.03225806451612903,
          0.06666666666666667,
          0.06666666666666667,
          0.06666666666666667,
          0.0625,
          0.14285714285714285,
          0.14285714285714285,
          0.030303030303030304,
          0.3333333333333333,
          0.06666666666666667,
          0.5,
          0.125,
          0.125,
          0.125,
          0.125,
          0.3333333333333333,
          0.14285714285714285,
          0.06666666666666667,
          0.058823529411764705,
          0.058823529411764705,
          0.058823529411764705,
          0.030303030303030304,
          0.125,
          0.125,
          0.125,
          0.05263157894736842,
          0.05263157894736842,
          0.05263157894736842,
          0.041666666666666664,
          0.058823529411764705,
          0.058823529411764705,
          0.09090909090909091,
          0.006134969325153374,
          0.05263157894736842,
          0.03225806451612903,
          0.011494252873563218,
          0.011494252873563218,
          0.058823529411764705,
          0.011494252873563218,
          0.09090909090909091,
          0.011494252873563218,
          0.011494252873563218,
          0.047619047619047616,
          0.14285714285714285,
          0.06666666666666667,
          0.034482758620689655,
          0.06666666666666667,
          0.034482758620689655,
          0.006134969325153374,
          0.034482758620689655,
          0.03225806451612903,
          0.03225806451612903,
          0.034482758620689655,
          0.034482758620689655,
          0.034482758620689655,
          0.058823529411764705,
          0.125,
          0.0625,
          0.09090909090909091,
          0.045454545454545456,
          0.045454545454545456,
          0.058823529411764705,
          0.06666666666666667,
          0.09090909090909091,
          0.043478260869565216,
          0.043478260869565216,
          0.043478260869565216,
          0.043478260869565216,
          0.05263157894736842,
          0.011494252873563218,
          0.011494252873563218,
          0.011494252873563218,
          0.011494252873563218,
          0.011494252873563218,
          0.011494252873563218,
          0.3333333333333333,
          0.006134969325153374,
          0.3333333333333333,
          0.0625,
          0.14285714285714285,
          0.0625,
          0.5,
          0.006134969325153374,
          0.006134969325153374,
          0.011494252873563218,
          0.011494252873563218,
          0.25,
          0.0625,
          0.0625,
          0.045454545454545456,
          0.045454545454545456,
          0.1111111111111111,
          0.011494252873563218,
          0.09090909090909091,
          0.043478260869565216,
          0.043478260869565216,
          0.006134969325153374,
          0.011494252873563218,
          0.011494252873563218,
          0.011494252873563218,
          0.011494252873563218,
          0.2,
          0.2,
          0.006134969325153374,
          0.058823529411764705,
          0.058823529411764705,
          0.06666666666666667,
          0.09090909090909091,
          0.16666666666666666,
          0.058823529411764705,
          0.03225806451612903,
          0.14285714285714285,
          0.125,
          0.125,
          0.06666666666666667,
          0.06666666666666667,
          0.1,
          0.030303030303030304,
          0.03225806451612903,
          0.05263157894736842,
          0.09090909090909091,
          0.09090909090909091,
          0.09090909090909091,
          0.09090909090909091,
          0.011494252873563218,
          0.041666666666666664,
          0.08333333333333333,
          0.1,
          0.030303030303030304,
          0.030303030303030304,
          0.006134969325153374,
          0.006134969325153374,
          0.011494252873563218,
          0.06666666666666667,
          0.09090909090909091,
          0.05263157894736842,
          0.14285714285714285,
          0.14285714285714285,
          0.09090909090909091,
          0.045454545454545456,
          0.25,
          0.030303030303030304,
          0.14285714285714285,
          0.14285714285714285,
          0.011494252873563218,
          0.05263157894736842,
          0.14285714285714285,
          0.006134969325153374,
          0.06666666666666667,
          0.06666666666666667,
          0.06666666666666667,
          0.125,
          0.06666666666666667,
          0.25,
          0.030303030303030304,
          0.006134969325153374,
          0.006134969325153374,
          0.030303030303030304,
          0.011494252873563218,
          0.030303030303030304,
          0.006134969325153374,
          0.006134969325153374,
          0.011494252873563218,
          0.030303030303030304,
          0.25,
          0.030303030303030304,
          0.030303030303030304,
          0.3333333333333333,
          0.14285714285714285,
          0.006134969325153374,
          0.030303030303030304,
          0.030303030303030304,
          0.030303030303030304,
          0.3333333333333333,
          0.3333333333333333,
          0.030303030303030304,
          0.041666666666666664,
          0.06666666666666667,
          0.047619047619047616,
          0.14285714285714285,
          0.03225806451612903,
          0.06666666666666667,
          0.125,
          0.08333333333333333,
          0.08333333333333333,
          0.029411764705882353,
          0.08333333333333333,
          0.08333333333333333,
          0.08333333333333333,
          0.08333333333333333,
          0.25,
          0.16666666666666666,
          0.03225806451612903,
          0.3333333333333333,
          0.09090909090909091,
          0.030303030303030304,
          0.030303030303030304,
          0.011494252873563218,
          0.030303030303030304,
          0.16666666666666666,
          0.3333333333333333,
          0.1,
          0.3333333333333333,
          0.041666666666666664,
          0.08333333333333333,
          0.08333333333333333,
          0.1,
          0.125,
          0.1,
          0.011494252873563218,
          0.125,
          0.058823529411764705,
          0.3333333333333333,
          0.006134969325153374,
          0.006134969325153374,
          0.06666666666666667,
          0.16666666666666666,
          0.029411764705882353,
          0.06666666666666667,
          0.3333333333333333,
          0.006134969325153374,
          0.1,
          0.041666666666666664,
          0.125,
          0.1,
          0.041666666666666664,
          0.1,
          0.1,
          0.06666666666666667,
          0.06666666666666667,
          0.0625,
          0.06666666666666667,
          0.006134969325153374,
          0.011494252873563218,
          0.011494252873563218,
          0.058823529411764705,
          0.125,
          0.06666666666666667,
          0.06666666666666667,
          0.09090909090909091,
          0.08333333333333333,
          0.06666666666666667,
          0.06666666666666667,
          0.2,
          0.09090909090909091,
          0.125,
          0.0625,
          0.043478260869565216,
          0.006134969325153374,
          1,
          0.16666666666666666,
          0.0625,
          0.0625,
          0.0625,
          0.0625,
          0.125,
          0.125,
          0.08333333333333333,
          0.08333333333333333,
          0.08333333333333333,
          0.029411764705882353,
          0.125,
          0.029411764705882353,
          0.2,
          0.125,
          0.0625,
          0.0625,
          0.2,
          0.1111111111111111,
          0.0625,
          0.0625,
          0.041666666666666664,
          0.006134969325153374,
          0.0625,
          0.0625,
          0.0625,
          0.029411764705882353,
          0.3333333333333333,
          0.2,
          0.041666666666666664,
          0.2,
          0.0625,
          0.0625,
          0.0625,
          0.03225806451612903,
          0.0625,
          0.16666666666666666,
          0.3333333333333333,
          0.2,
          0.2,
          0.2,
          0.2,
          0.09090909090909091,
          0.3333333333333333,
          0.03225806451612903,
          0.05263157894736842,
          0.5,
          0.3333333333333333,
          0.3333333333333333,
          1,
          0.3333333333333333,
          0.09090909090909091,
          0.030303030303030304,
          0.006134969325153374,
          0.041666666666666664,
          0.09090909090909091,
          0.14285714285714285,
          0.006134969325153374,
          0.011494252873563218,
          0.043478260869565216,
          0.006134969325153374,
          0.006134969325153374,
          0.006134969325153374,
          0.011494252873563218,
          0.1111111111111111,
          0.1111111111111111,
          0.1111111111111111,
          0.09090909090909091,
          0.125,
          0.058823529411764705,
          0.045454545454545456,
          0.045454545454545456,
          0.5,
          0.3333333333333333,
          0.125,
          0.3333333333333333,
          0.006134969325153374,
          0.06666666666666667,
          0.06666666666666667,
          0.058823529411764705,
          0.030303030303030304,
          0.030303030303030304,
          0.030303030303030304,
          0.030303030303030304,
          0.030303030303030304,
          0.03225806451612903,
          0.03225806451612903,
          0.03225806451612903,
          0.03225806451612903,
          0.03225806451612903,
          0.03225806451612903,
          0.03225806451612903,
          0.14285714285714285,
          0.14285714285714285,
          0.006134969325153374,
          0.006134969325153374,
          0.006134969325153374,
          0.1,
          0.006134969325153374,
          0.05263157894736842,
          0.03225806451612903,
          0.030303030303030304,
          0.1,
          0.034482758620689655,
          0.006134969325153374,
          0.006134969325153374,
          0.125,
          0.006134969325153374,
          0.006134969325153374,
          0.006134969325153374,
          0.006134969325153374,
          0.006134969325153374,
          0.006134969325153374,
          0.006134969325153374,
          0.006134969325153374,
          0.041666666666666664,
          0.006134969325153374,
          0.006134969325153374,
          0.006134969325153374,
          0.006134969325153374,
          0.006134969325153374,
          0.006134969325153374,
          0.006134969325153374,
          0.006134969325153374,
          0.006134969325153374,
          0.006134969325153374,
          0.03225806451612903,
          0.006134969325153374,
          0.006134969325153374,
          0.006134969325153374,
          0.011494252873563218,
          0.011494252873563218,
          0.011494252873563218,
          0.011494252873563218,
          0.03225806451612903,
          0.011494252873563218,
          0.011494252873563218,
          0.011494252873563218,
          0.011494252873563218,
          0.011494252873563218,
          0.011494252873563218,
          0.011494252873563218,
          0.1
         ],
         "yaxis": "y"
        }
       ],
       "layout": {
        "autosize": true,
        "barmode": "relative",
        "legend": {
         "title": {
          "text": "predicted_mobility_x"
         },
         "tracegroupgap": 0
        },
        "template": {
         "data": {
          "bar": [
           {
            "error_x": {
             "color": "#2a3f5f"
            },
            "error_y": {
             "color": "#2a3f5f"
            },
            "marker": {
             "line": {
              "color": "#E5ECF6",
              "width": 0.5
             },
             "pattern": {
              "fillmode": "overlay",
              "size": 10,
              "solidity": 0.2
             }
            },
            "type": "bar"
           }
          ],
          "barpolar": [
           {
            "marker": {
             "line": {
              "color": "#E5ECF6",
              "width": 0.5
             },
             "pattern": {
              "fillmode": "overlay",
              "size": 10,
              "solidity": 0.2
             }
            },
            "type": "barpolar"
           }
          ],
          "carpet": [
           {
            "aaxis": {
             "endlinecolor": "#2a3f5f",
             "gridcolor": "white",
             "linecolor": "white",
             "minorgridcolor": "white",
             "startlinecolor": "#2a3f5f"
            },
            "baxis": {
             "endlinecolor": "#2a3f5f",
             "gridcolor": "white",
             "linecolor": "white",
             "minorgridcolor": "white",
             "startlinecolor": "#2a3f5f"
            },
            "type": "carpet"
           }
          ],
          "choropleth": [
           {
            "colorbar": {
             "outlinewidth": 0,
             "ticks": ""
            },
            "type": "choropleth"
           }
          ],
          "contour": [
           {
            "colorbar": {
             "outlinewidth": 0,
             "ticks": ""
            },
            "colorscale": [
             [
              0,
              "#0d0887"
             ],
             [
              0.1111111111111111,
              "#46039f"
             ],
             [
              0.2222222222222222,
              "#7201a8"
             ],
             [
              0.3333333333333333,
              "#9c179e"
             ],
             [
              0.4444444444444444,
              "#bd3786"
             ],
             [
              0.5555555555555556,
              "#d8576b"
             ],
             [
              0.6666666666666666,
              "#ed7953"
             ],
             [
              0.7777777777777778,
              "#fb9f3a"
             ],
             [
              0.8888888888888888,
              "#fdca26"
             ],
             [
              1,
              "#f0f921"
             ]
            ],
            "type": "contour"
           }
          ],
          "contourcarpet": [
           {
            "colorbar": {
             "outlinewidth": 0,
             "ticks": ""
            },
            "type": "contourcarpet"
           }
          ],
          "heatmap": [
           {
            "colorbar": {
             "outlinewidth": 0,
             "ticks": ""
            },
            "colorscale": [
             [
              0,
              "#0d0887"
             ],
             [
              0.1111111111111111,
              "#46039f"
             ],
             [
              0.2222222222222222,
              "#7201a8"
             ],
             [
              0.3333333333333333,
              "#9c179e"
             ],
             [
              0.4444444444444444,
              "#bd3786"
             ],
             [
              0.5555555555555556,
              "#d8576b"
             ],
             [
              0.6666666666666666,
              "#ed7953"
             ],
             [
              0.7777777777777778,
              "#fb9f3a"
             ],
             [
              0.8888888888888888,
              "#fdca26"
             ],
             [
              1,
              "#f0f921"
             ]
            ],
            "type": "heatmap"
           }
          ],
          "heatmapgl": [
           {
            "colorbar": {
             "outlinewidth": 0,
             "ticks": ""
            },
            "colorscale": [
             [
              0,
              "#0d0887"
             ],
             [
              0.1111111111111111,
              "#46039f"
             ],
             [
              0.2222222222222222,
              "#7201a8"
             ],
             [
              0.3333333333333333,
              "#9c179e"
             ],
             [
              0.4444444444444444,
              "#bd3786"
             ],
             [
              0.5555555555555556,
              "#d8576b"
             ],
             [
              0.6666666666666666,
              "#ed7953"
             ],
             [
              0.7777777777777778,
              "#fb9f3a"
             ],
             [
              0.8888888888888888,
              "#fdca26"
             ],
             [
              1,
              "#f0f921"
             ]
            ],
            "type": "heatmapgl"
           }
          ],
          "histogram": [
           {
            "marker": {
             "pattern": {
              "fillmode": "overlay",
              "size": 10,
              "solidity": 0.2
             }
            },
            "type": "histogram"
           }
          ],
          "histogram2d": [
           {
            "colorbar": {
             "outlinewidth": 0,
             "ticks": ""
            },
            "colorscale": [
             [
              0,
              "#0d0887"
             ],
             [
              0.1111111111111111,
              "#46039f"
             ],
             [
              0.2222222222222222,
              "#7201a8"
             ],
             [
              0.3333333333333333,
              "#9c179e"
             ],
             [
              0.4444444444444444,
              "#bd3786"
             ],
             [
              0.5555555555555556,
              "#d8576b"
             ],
             [
              0.6666666666666666,
              "#ed7953"
             ],
             [
              0.7777777777777778,
              "#fb9f3a"
             ],
             [
              0.8888888888888888,
              "#fdca26"
             ],
             [
              1,
              "#f0f921"
             ]
            ],
            "type": "histogram2d"
           }
          ],
          "histogram2dcontour": [
           {
            "colorbar": {
             "outlinewidth": 0,
             "ticks": ""
            },
            "colorscale": [
             [
              0,
              "#0d0887"
             ],
             [
              0.1111111111111111,
              "#46039f"
             ],
             [
              0.2222222222222222,
              "#7201a8"
             ],
             [
              0.3333333333333333,
              "#9c179e"
             ],
             [
              0.4444444444444444,
              "#bd3786"
             ],
             [
              0.5555555555555556,
              "#d8576b"
             ],
             [
              0.6666666666666666,
              "#ed7953"
             ],
             [
              0.7777777777777778,
              "#fb9f3a"
             ],
             [
              0.8888888888888888,
              "#fdca26"
             ],
             [
              1,
              "#f0f921"
             ]
            ],
            "type": "histogram2dcontour"
           }
          ],
          "mesh3d": [
           {
            "colorbar": {
             "outlinewidth": 0,
             "ticks": ""
            },
            "type": "mesh3d"
           }
          ],
          "parcoords": [
           {
            "line": {
             "colorbar": {
              "outlinewidth": 0,
              "ticks": ""
             }
            },
            "type": "parcoords"
           }
          ],
          "pie": [
           {
            "automargin": true,
            "type": "pie"
           }
          ],
          "scatter": [
           {
            "fillpattern": {
             "fillmode": "overlay",
             "size": 10,
             "solidity": 0.2
            },
            "type": "scatter"
           }
          ],
          "scatter3d": [
           {
            "line": {
             "colorbar": {
              "outlinewidth": 0,
              "ticks": ""
             }
            },
            "marker": {
             "colorbar": {
              "outlinewidth": 0,
              "ticks": ""
             }
            },
            "type": "scatter3d"
           }
          ],
          "scattercarpet": [
           {
            "marker": {
             "colorbar": {
              "outlinewidth": 0,
              "ticks": ""
             }
            },
            "type": "scattercarpet"
           }
          ],
          "scattergeo": [
           {
            "marker": {
             "colorbar": {
              "outlinewidth": 0,
              "ticks": ""
             }
            },
            "type": "scattergeo"
           }
          ],
          "scattergl": [
           {
            "marker": {
             "colorbar": {
              "outlinewidth": 0,
              "ticks": ""
             }
            },
            "type": "scattergl"
           }
          ],
          "scattermapbox": [
           {
            "marker": {
             "colorbar": {
              "outlinewidth": 0,
              "ticks": ""
             }
            },
            "type": "scattermapbox"
           }
          ],
          "scatterpolar": [
           {
            "marker": {
             "colorbar": {
              "outlinewidth": 0,
              "ticks": ""
             }
            },
            "type": "scatterpolar"
           }
          ],
          "scatterpolargl": [
           {
            "marker": {
             "colorbar": {
              "outlinewidth": 0,
              "ticks": ""
             }
            },
            "type": "scatterpolargl"
           }
          ],
          "scatterternary": [
           {
            "marker": {
             "colorbar": {
              "outlinewidth": 0,
              "ticks": ""
             }
            },
            "type": "scatterternary"
           }
          ],
          "surface": [
           {
            "colorbar": {
             "outlinewidth": 0,
             "ticks": ""
            },
            "colorscale": [
             [
              0,
              "#0d0887"
             ],
             [
              0.1111111111111111,
              "#46039f"
             ],
             [
              0.2222222222222222,
              "#7201a8"
             ],
             [
              0.3333333333333333,
              "#9c179e"
             ],
             [
              0.4444444444444444,
              "#bd3786"
             ],
             [
              0.5555555555555556,
              "#d8576b"
             ],
             [
              0.6666666666666666,
              "#ed7953"
             ],
             [
              0.7777777777777778,
              "#fb9f3a"
             ],
             [
              0.8888888888888888,
              "#fdca26"
             ],
             [
              1,
              "#f0f921"
             ]
            ],
            "type": "surface"
           }
          ],
          "table": [
           {
            "cells": {
             "fill": {
              "color": "#EBF0F8"
             },
             "line": {
              "color": "white"
             }
            },
            "header": {
             "fill": {
              "color": "#C8D4E3"
             },
             "line": {
              "color": "white"
             }
            },
            "type": "table"
           }
          ]
         },
         "layout": {
          "annotationdefaults": {
           "arrowcolor": "#2a3f5f",
           "arrowhead": 0,
           "arrowwidth": 1
          },
          "autotypenumbers": "strict",
          "coloraxis": {
           "colorbar": {
            "outlinewidth": 0,
            "ticks": ""
           }
          },
          "colorscale": {
           "diverging": [
            [
             0,
             "#8e0152"
            ],
            [
             0.1,
             "#c51b7d"
            ],
            [
             0.2,
             "#de77ae"
            ],
            [
             0.3,
             "#f1b6da"
            ],
            [
             0.4,
             "#fde0ef"
            ],
            [
             0.5,
             "#f7f7f7"
            ],
            [
             0.6,
             "#e6f5d0"
            ],
            [
             0.7,
             "#b8e186"
            ],
            [
             0.8,
             "#7fbc41"
            ],
            [
             0.9,
             "#4d9221"
            ],
            [
             1,
             "#276419"
            ]
           ],
           "sequential": [
            [
             0,
             "#0d0887"
            ],
            [
             0.1111111111111111,
             "#46039f"
            ],
            [
             0.2222222222222222,
             "#7201a8"
            ],
            [
             0.3333333333333333,
             "#9c179e"
            ],
            [
             0.4444444444444444,
             "#bd3786"
            ],
            [
             0.5555555555555556,
             "#d8576b"
            ],
            [
             0.6666666666666666,
             "#ed7953"
            ],
            [
             0.7777777777777778,
             "#fb9f3a"
            ],
            [
             0.8888888888888888,
             "#fdca26"
            ],
            [
             1,
             "#f0f921"
            ]
           ],
           "sequentialminus": [
            [
             0,
             "#0d0887"
            ],
            [
             0.1111111111111111,
             "#46039f"
            ],
            [
             0.2222222222222222,
             "#7201a8"
            ],
            [
             0.3333333333333333,
             "#9c179e"
            ],
            [
             0.4444444444444444,
             "#bd3786"
            ],
            [
             0.5555555555555556,
             "#d8576b"
            ],
            [
             0.6666666666666666,
             "#ed7953"
            ],
            [
             0.7777777777777778,
             "#fb9f3a"
            ],
            [
             0.8888888888888888,
             "#fdca26"
            ],
            [
             1,
             "#f0f921"
            ]
           ]
          },
          "colorway": [
           "#636efa",
           "#EF553B",
           "#00cc96",
           "#ab63fa",
           "#FFA15A",
           "#19d3f3",
           "#FF6692",
           "#B6E880",
           "#FF97FF",
           "#FECB52"
          ],
          "font": {
           "color": "#2a3f5f"
          },
          "geo": {
           "bgcolor": "white",
           "lakecolor": "white",
           "landcolor": "#E5ECF6",
           "showlakes": true,
           "showland": true,
           "subunitcolor": "white"
          },
          "hoverlabel": {
           "align": "left"
          },
          "hovermode": "closest",
          "mapbox": {
           "style": "light"
          },
          "paper_bgcolor": "white",
          "plot_bgcolor": "#E5ECF6",
          "polar": {
           "angularaxis": {
            "gridcolor": "white",
            "linecolor": "white",
            "ticks": ""
           },
           "bgcolor": "#E5ECF6",
           "radialaxis": {
            "gridcolor": "white",
            "linecolor": "white",
            "ticks": ""
           }
          },
          "scene": {
           "xaxis": {
            "backgroundcolor": "#E5ECF6",
            "gridcolor": "white",
            "gridwidth": 2,
            "linecolor": "white",
            "showbackground": true,
            "ticks": "",
            "zerolinecolor": "white"
           },
           "yaxis": {
            "backgroundcolor": "#E5ECF6",
            "gridcolor": "white",
            "gridwidth": 2,
            "linecolor": "white",
            "showbackground": true,
            "ticks": "",
            "zerolinecolor": "white"
           },
           "zaxis": {
            "backgroundcolor": "#E5ECF6",
            "gridcolor": "white",
            "gridwidth": 2,
            "linecolor": "white",
            "showbackground": true,
            "ticks": "",
            "zerolinecolor": "white"
           }
          },
          "shapedefaults": {
           "line": {
            "color": "#2a3f5f"
           }
          },
          "ternary": {
           "aaxis": {
            "gridcolor": "white",
            "linecolor": "white",
            "ticks": ""
           },
           "baxis": {
            "gridcolor": "white",
            "linecolor": "white",
            "ticks": ""
           },
           "bgcolor": "#E5ECF6",
           "caxis": {
            "gridcolor": "white",
            "linecolor": "white",
            "ticks": ""
           }
          },
          "title": {
           "x": 0.05
          },
          "xaxis": {
           "automargin": true,
           "gridcolor": "white",
           "linecolor": "white",
           "ticks": "",
           "title": {
            "standoff": 15
           },
           "zerolinecolor": "white",
           "zerolinewidth": 2
          },
          "yaxis": {
           "automargin": true,
           "gridcolor": "white",
           "linecolor": "white",
           "ticks": "",
           "title": {
            "standoff": 15
           },
           "zerolinecolor": "white",
           "zerolinewidth": 2
          }
         }
        },
        "title": {
         "text": "Plasmid - "
        },
        "xaxis": {
         "anchor": "y",
         "autorange": true,
         "domain": [
          0,
          1
         ],
         "range": [
          1910.5,
          2016.5
         ],
         "title": {
          "text": "Year Cultured"
         },
         "type": "linear"
        },
        "yaxis": {
         "anchor": "x",
         "autorange": true,
         "domain": [
          0,
          1
         ],
         "range": [
          0,
          1.0526315789473688
         ],
         "title": {
          "text": "y"
         },
         "type": "linear"
        }
       }
      },
      "image/png": "[encoded data removed]",
      "text/html": [
       "<div>                            <div id=\"276e5ace-31e9-48b4-aa5c-f4f67edcd005\" class=\"plotly-graph-div\" style=\"height:525px; width:100%;\"></div>            <script type=\"text/javascript\">                require([\"plotly\"], function(Plotly) {                    window.PLOTLYENV=window.PLOTLYENV || {};                                    if (document.getElementById(\"276e5ace-31e9-48b4-aa5c-f4f67edcd005\")) {                    Plotly.newPlot(                        \"276e5ace-31e9-48b4-aa5c-f4f67edcd005\",                        [{\"alignmentgroup\":\"True\",\"hovertemplate\":\"predicted_mobility_x=conjugative<br>Year Cultured=%{x}<br>y=%{y}<extra></extra>\",\"legendgroup\":\"conjugative\",\"marker\":{\"color\":\"#636efa\",\"pattern\":{\"shape\":\"\"}},\"name\":\"conjugative\",\"offsetgroup\":\"conjugative\",\"orientation\":\"v\",\"showlegend\":true,\"textposition\":\"auto\",\"x\":[1958,1958,1958,1959,1949,1950,1949,1952,1955,1955,1955,1967,1949,1955,1960,1958,1971,1960,1977,1929,1935,1949,1949,1955,1960,1960,1948,1937,1941,1940,1932,1940,1948,1947,1940,1936,1920,1934,1934,1934,1934,1951,1954,1954,1955,1955,1955,1955,1955,1955,1955,1967,1961,1958,2008,1952,1954,1958,1937,1934,1934,1934,1958,1991,1995,2003,2009,2006,1920,1930,1937,1938,1940,1940,1941,1947,1949,1952,1952,1953,1952,1952,1952,1952,1955,1954,1955,1962,1962,1962,1989,1960,1953,1967,1970,1933,1939,1939,1957,1971,1971,1982,1983,1944,1949,1949,1949,1954,1952,1952,1952,1952,1952,1955,1957,1971,1932,1931,1931,1944,1952,1952,1955,1955,1957,1938,1966,1957,1976,1955,1969,1988,1969,1969,1964,1966,1968,1968,1995,1949,1971,1971,1944,1952,1976,1952,1955,1952,1971,1971,1977,1971,1971,1971,1983,1973,1935,1958,1952,1958,1955,1992,1991,2006,2013,1952,1971,1980,1980,1997,1980,1980,1980,1980,1982,1952,1978,1949,1951,1976,1982,1983,1981,1975,1987,1987,1982,1934,1952,1934,1988,1987,1985,1989,1985,1973,1982,1982,1988,1990,1985,2008,2003,2003,2009,2006,1997,2004,2003,2008,2008,1952,1953,1976,1937,1940,1936,1934,1934,1952,1940,1952,1953,1954,1931,1931,1932,1952,1939,1939,1965,1947,1952,1952,1952,1947,1946,1949,1949,1949,1949,1952,1952,1956,1950,1950,1951,1950,1950,1953,1953,1950,1951,1952,1952,1952,1953,1952,1952,1976,1952,1952,1952,1954,1976,1976,1952,1976,1952,1952,1952,1952,1952,1952,1952,1952,1952,1952,1952,1952,1952,1933,1952,1952,1952,1952,1952,1952,1952,1952,1952,1952,1952,1952,1953,1952,1952,1953,1952,1952,1952,1955,1955,1955,1956,1955,1954,1976,1957],\"xaxis\":\"x\",\"y\":[0.047619047619047616,0.047619047619047616,0.047619047619047616,0.14285714285714285,0.030303030303030304,0.03225806451612903,0.030303030303030304,0.006134969325153374,0.011494252873563218,0.011494252873563218,0.011494252873563218,0.06666666666666667,0.030303030303030304,0.011494252873563218,0.058823529411764705,0.047619047619047616,0.030303030303030304,0.058823529411764705,0.3333333333333333,0.3333333333333333,0.125,0.030303030303030304,0.030303030303030304,0.011494252873563218,0.058823529411764705,0.058823529411764705,0.058823529411764705,0.16666666666666666,0.1111111111111111,0.045454545454545456,0.14285714285714285,0.045454545454545456,0.058823529411764705,0.06666666666666667,0.045454545454545456,0.2,0.09090909090909091,0.043478260869565216,0.043478260869565216,0.043478260869565216,0.043478260869565216,0.05263157894736842,0.03225806451612903,0.03225806451612903,0.011494252873563218,0.011494252873563218,0.011494252873563218,0.011494252873563218,0.011494252873563218,0.011494252873563218,0.011494252873563218,0.06666666666666667,0.3333333333333333,0.047619047619047616,0.14285714285714285,0.006134969325153374,0.03225806451612903,0.047619047619047616,0.16666666666666666,0.043478260869565216,0.043478260869565216,0.043478260869565216,0.047619047619047616,0.029411764705882353,0.2,0.0625,0.25,0.0625,0.09090909090909091,0.125,0.16666666666666666,0.125,0.045454545454545456,0.045454545454545456,0.1111111111111111,0.06666666666666667,0.030303030303030304,0.006134969325153374,0.006134969325153374,0.034482758620689655,0.006134969325153374,0.006134969325153374,0.006134969325153374,0.006134969325153374,0.011494252873563218,0.03225806451612903,0.011494252873563218,0.0625,0.0625,0.0625,0.16666666666666666,0.058823529411764705,0.034482758620689655,0.06666666666666667,0.06666666666666667,0.3333333333333333,0.1111111111111111,0.1111111111111111,0.08333333333333333,0.030303030303030304,0.030303030303030304,0.125,0.06666666666666667,0.14285714285714285,0.030303030303030304,0.030303030303030304,0.030303030303030304,0.03225806451612903,0.006134969325153374,0.006134969325153374,0.006134969325153374,0.006134969325153374,0.006134969325153374,0.011494252873563218,0.08333333333333333,0.030303030303030304,0.14285714285714285,0.09090909090909091,0.09090909090909091,0.14285714285714285,0.006134969325153374,0.006134969325153374,0.011494252873563218,0.011494252873563218,0.08333333333333333,0.125,0.14285714285714285,0.08333333333333333,0.041666666666666664,0.011494252873563218,0.14285714285714285,0.125,0.14285714285714285,0.14285714285714285,0.25,0.14285714285714285,0.125,0.125,0.2,0.030303030303030304,0.030303030303030304,0.030303030303030304,0.14285714285714285,0.006134969325153374,0.041666666666666664,0.006134969325153374,0.011494252873563218,0.006134969325153374,0.030303030303030304,0.030303030303030304,0.3333333333333333,0.030303030303030304,0.030303030303030304,0.030303030303030304,0.06666666666666667,0.16666666666666666,0.125,0.047619047619047616,0.006134969325153374,0.047619047619047616,0.011494252873563218,0.08333333333333333,0.029411764705882353,0.0625,0.2,0.006134969325153374,0.030303030303030304,0.058823529411764705,0.058823529411764705,0.5,0.058823529411764705,0.058823529411764705,0.058823529411764705,0.058823529411764705,0.125,0.006134969325153374,0.3333333333333333,0.030303030303030304,0.05263157894736842,0.041666666666666664,0.125,0.06666666666666667,0.1,0.1,0.09090909090909091,0.09090909090909091,0.125,0.043478260869565216,0.006134969325153374,0.043478260869565216,0.125,0.09090909090909091,0.0625,0.16666666666666666,0.0625,0.16666666666666666,0.125,0.125,0.125,0.5,0.0625,0.14285714285714285,0.0625,0.0625,0.25,0.0625,0.5,0.25,0.0625,0.14285714285714285,0.14285714285714285,0.006134969325153374,0.034482758620689655,0.041666666666666664,0.16666666666666666,0.045454545454545456,0.2,0.043478260869565216,0.043478260869565216,0.006134969325153374,0.045454545454545456,0.006134969325153374,0.034482758620689655,0.03225806451612903,0.09090909090909091,0.09090909090909091,0.14285714285714285,0.006134969325153374,0.1111111111111111,0.1111111111111111,0.09090909090909091,0.06666666666666667,0.006134969325153374,0.006134969325153374,0.006134969325153374,0.06666666666666667,0.125,0.030303030303030304,0.030303030303030304,0.030303030303030304,0.030303030303030304,0.006134969325153374,0.006134969325153374,0.1,0.03225806451612903,0.03225806451612903,0.05263157894736842,0.03225806451612903,0.03225806451612903,0.034482758620689655,0.034482758620689655,0.03225806451612903,0.05263157894736842,0.006134969325153374,0.006134969325153374,0.006134969325153374,0.034482758620689655,0.006134969325153374,0.006134969325153374,0.041666666666666664,0.006134969325153374,0.006134969325153374,0.006134969325153374,0.03225806451612903,0.041666666666666664,0.041666666666666664,0.006134969325153374,0.041666666666666664,0.006134969325153374,0.006134969325153374,0.006134969325153374,0.006134969325153374,0.006134969325153374,0.006134969325153374,0.006134969325153374,0.006134969325153374,0.006134969325153374,0.006134969325153374,0.006134969325153374,0.006134969325153374,0.006134969325153374,0.3333333333333333,0.006134969325153374,0.006134969325153374,0.006134969325153374,0.006134969325153374,0.006134969325153374,0.006134969325153374,0.006134969325153374,0.006134969325153374,0.006134969325153374,0.006134969325153374,0.006134969325153374,0.006134969325153374,0.034482758620689655,0.006134969325153374,0.006134969325153374,0.034482758620689655,0.006134969325153374,0.006134969325153374,0.006134969325153374,0.011494252873563218,0.011494252873563218,0.011494252873563218,0.1,0.011494252873563218,0.03225806451612903,0.041666666666666664,0.08333333333333333],\"yaxis\":\"y\",\"type\":\"bar\"},{\"alignmentgroup\":\"True\",\"hovertemplate\":\"predicted_mobility_x=non-mobilizable<br>Year Cultured=%{x}<br>y=%{y}<extra></extra>\",\"legendgroup\":\"non-mobilizable\",\"marker\":{\"color\":\"#EF553B\",\"pattern\":{\"shape\":\"\"}},\"name\":\"non-mobilizable\",\"offsetgroup\":\"non-mobilizable\",\"orientation\":\"v\",\"showlegend\":true,\"textposition\":\"auto\",\"x\":[1958,1958,1958,1958,1958,1964,1951,1959,1956,1960,1989,2006,1949,1949,1950,1952,1952,1976,1947,1960,1920,1940,1934,1953,1950,1958,1967,1953,1953,1953,1958,1967,1953,1950,1953,1953,1948,1986,1934,1952,1955,1948,1937,1920,1934,1955,1970,1958,1952,1952,1962,1971,2003,1940,1962,1970,2012,1962,1962,1962,2003,2007,1962,2003,1962,1962,1952,1954,1960,1968,1952,1952,1962,1962,1916,1916,1947,1960,1960,1965,1965,1983,1965,1959,1965,1967,1992,1929,1920,1957,1955,1966,1967,1957,1970,1967,1968,1968,1967,1954,1970,1985,1985,1984,1987,1951,1970,1970,1970,1970,1950,1976,1958,2003,2006,2013,1940,1949,1952,1952,1952,1952,1976,1952,1952,1952,1952,1976,1952,1971,1952,1971,2012,1971,1971,1971,1966,1967,1974,1983,1966,1958,1973,1971,1947,1983,1949,1975,1975,1975,1974,1957,1974,1974,1933,1920,1930,1947,1948,1952,1952,1954,1974,1974,1975,1980,1980,1975,1981,1981,1979,1989,1959,1980,1980,1953,1980,1953,1980,1983,1955,1983,1985,1984,1981,1984,1984,1978,1986,1985,1976,1987,1986,1979,1986,1979,1980,1981,1981,1986,1986,1986,1986,1980,1980,1951,1987,1985,1987,1985,1989,1984,1984,1930,1991,1991,1987,1990,1992,1992,1992,1931,1955,1992,1991,1991,1991,1991,1991,1991,1991,1991,1991,1991,1991,1991,1991,1991,1991,1991,1991,1991,1991,1991,1991,1991,1991,1991,1991,1995,1995,1994,1999,2004,2004,2003,2008,2003,2008,2006,1950,1952,1985,1937,1940,1932,1940,1940,1941,1934,1952,1940,1956,1955,1936,2010,2010,2015,2010,2015,2010,2015,2015,2015,2015,2015,2015,2006,2006,2016,2013,1922,1922,1922,1916,1914,1955,1930,1921,1947,1925,1911,1911,1935,1917,1917,1931,1930,1949,1950,1952,1955,1956,1940,1941,1941,1936,1954,1954,1954,1954,1941,1941,1957,1946,1935,1948,1935,1947,1946,1948,1948,1948,1948,1983,1949,1950,1950,1950,1950,1952,1953,1936,1935,1950,1955,1944,1955,1955,1944,1955,1955,1952,1930,1939,1951,1939,1951,1952,1952,1952,1952,1952,1952,1952,1952,1953,1952,1952,1952,1952,1954,1952,1952,1953,1956,1953,1954,1954,1954,1954,1954,1954,1954,1954,1954,1955,1955,1955,1955,1955,1955,1955,1955,1955,1955,1946],\"xaxis\":\"x\",\"y\":[0.047619047619047616,0.047619047619047616,0.047619047619047616,0.047619047619047616,0.047619047619047616,0.25,0.05263157894736842,0.14285714285714285,0.1,0.058823529411764705,0.16666666666666666,0.0625,0.030303030303030304,0.030303030303030304,0.03225806451612903,0.006134969325153374,0.006134969325153374,0.041666666666666664,0.06666666666666667,0.058823529411764705,0.09090909090909091,0.045454545454545456,0.043478260869565216,0.034482758620689655,0.03225806451612903,0.047619047619047616,0.06666666666666667,0.034482758620689655,0.034482758620689655,0.034482758620689655,0.047619047619047616,0.06666666666666667,0.034482758620689655,0.03225806451612903,0.034482758620689655,0.034482758620689655,0.058823529411764705,0.06666666666666667,0.043478260869565216,0.006134969325153374,0.011494252873563218,0.058823529411764705,0.16666666666666666,0.09090909090909091,0.043478260869565216,0.011494252873563218,0.06666666666666667,0.047619047619047616,0.006134969325153374,0.006134969325153374,0.0625,0.030303030303030304,0.0625,0.045454545454545456,0.0625,0.06666666666666667,0.3333333333333333,0.0625,0.0625,0.0625,0.0625,0.2,0.0625,0.0625,0.0625,0.0625,0.006134969325153374,0.03225806451612903,0.058823529411764705,0.125,0.006134969325153374,0.006134969325153374,0.0625,0.0625,0.2,0.2,0.06666666666666667,0.058823529411764705,0.058823529411764705,0.09090909090909091,0.09090909090909091,0.06666666666666667,0.09090909090909091,0.14285714285714285,0.09090909090909091,0.06666666666666667,0.08333333333333333,0.3333333333333333,0.09090909090909091,0.08333333333333333,0.011494252873563218,0.14285714285714285,0.06666666666666667,0.08333333333333333,0.06666666666666667,0.06666666666666667,0.125,0.125,0.06666666666666667,0.03225806451612903,0.06666666666666667,0.0625,0.0625,0.14285714285714285,0.09090909090909091,0.05263157894736842,0.06666666666666667,0.06666666666666667,0.06666666666666667,0.06666666666666667,0.03225806451612903,0.041666666666666664,0.047619047619047616,0.0625,0.0625,0.2,0.045454545454545456,0.030303030303030304,0.006134969325153374,0.006134969325153374,0.006134969325153374,0.006134969325153374,0.041666666666666664,0.006134969325153374,0.006134969325153374,0.006134969325153374,0.006134969325153374,0.041666666666666664,0.006134969325153374,0.030303030303030304,0.006134969325153374,0.030303030303030304,0.3333333333333333,0.030303030303030304,0.030303030303030304,0.030303030303030304,0.14285714285714285,0.06666666666666667,0.14285714285714285,0.06666666666666667,0.14285714285714285,0.047619047619047616,0.16666666666666666,0.030303030303030304,0.06666666666666667,0.06666666666666667,0.030303030303030304,0.1,0.1,0.1,0.14285714285714285,0.08333333333333333,0.14285714285714285,0.14285714285714285,0.3333333333333333,0.09090909090909091,0.125,0.06666666666666667,0.058823529411764705,0.006134969325153374,0.006134969325153374,0.03225806451612903,0.14285714285714285,0.14285714285714285,0.1,0.058823529411764705,0.058823529411764705,0.1,0.1,0.1,0.3333333333333333,0.16666666666666666,0.14285714285714285,0.058823529411764705,0.058823529411764705,0.034482758620689655,0.058823529411764705,0.034482758620689655,0.058823529411764705,0.06666666666666667,0.011494252873563218,0.06666666666666667,0.0625,0.14285714285714285,0.1,0.14285714285714285,0.14285714285714285,0.3333333333333333,0.06666666666666667,0.0625,0.041666666666666664,0.09090909090909091,0.06666666666666667,0.3333333333333333,0.06666666666666667,0.3333333333333333,0.058823529411764705,0.1,0.1,0.06666666666666667,0.06666666666666667,0.06666666666666667,0.06666666666666667,0.058823529411764705,0.058823529411764705,0.05263157894736842,0.09090909090909091,0.0625,0.09090909090909091,0.0625,0.16666666666666666,0.14285714285714285,0.14285714285714285,0.125,0.029411764705882353,0.029411764705882353,0.09090909090909091,0.5,0.08333333333333333,0.08333333333333333,0.08333333333333333,0.09090909090909091,0.011494252873563218,0.08333333333333333,0.029411764705882353,0.029411764705882353,0.029411764705882353,0.029411764705882353,0.029411764705882353,0.029411764705882353,0.029411764705882353,0.029411764705882353,0.029411764705882353,0.029411764705882353,0.029411764705882353,0.029411764705882353,0.029411764705882353,0.029411764705882353,0.029411764705882353,0.029411764705882353,0.029411764705882353,0.029411764705882353,0.029411764705882353,0.029411764705882353,0.029411764705882353,0.029411764705882353,0.029411764705882353,0.029411764705882353,0.029411764705882353,0.2,0.2,1.0,1.0,0.25,0.25,0.0625,0.14285714285714285,0.0625,0.14285714285714285,0.0625,0.03225806451612903,0.006134969325153374,0.0625,0.16666666666666666,0.045454545454545456,0.14285714285714285,0.045454545454545456,0.045454545454545456,0.1111111111111111,0.043478260869565216,0.006134969325153374,0.045454545454545456,0.1,0.011494252873563218,0.2,0.16666666666666666,0.16666666666666666,0.08333333333333333,0.16666666666666666,0.08333333333333333,0.16666666666666666,0.08333333333333333,0.08333333333333333,0.08333333333333333,0.08333333333333333,0.08333333333333333,0.08333333333333333,0.0625,0.0625,0.3333333333333333,0.2,0.2,0.2,0.2,0.2,1.0,0.011494252873563218,0.125,1.0,0.06666666666666667,1.0,0.5,0.5,0.125,0.5,0.5,0.09090909090909091,0.125,0.030303030303030304,0.03225806451612903,0.006134969325153374,0.011494252873563218,0.1,0.045454545454545456,0.1111111111111111,0.1111111111111111,0.2,0.03225806451612903,0.03225806451612903,0.03225806451612903,0.03225806451612903,0.1111111111111111,0.1111111111111111,0.08333333333333333,0.125,0.125,0.058823529411764705,0.125,0.06666666666666667,0.125,0.058823529411764705,0.058823529411764705,0.058823529411764705,0.058823529411764705,0.06666666666666667,0.030303030303030304,0.03225806451612903,0.03225806451612903,0.03225806451612903,0.03225806451612903,0.006134969325153374,0.034482758620689655,0.2,0.125,0.03225806451612903,0.011494252873563218,0.14285714285714285,0.011494252873563218,0.011494252873563218,0.14285714285714285,0.011494252873563218,0.011494252873563218,0.006134969325153374,0.125,0.1111111111111111,0.05263157894736842,0.1111111111111111,0.05263157894736842,0.006134969325153374,0.006134969325153374,0.006134969325153374,0.006134969325153374,0.006134969325153374,0.006134969325153374,0.006134969325153374,0.006134969325153374,0.034482758620689655,0.006134969325153374,0.006134969325153374,0.006134969325153374,0.006134969325153374,0.03225806451612903,0.006134969325153374,0.006134969325153374,0.034482758620689655,0.1,0.034482758620689655,0.03225806451612903,0.03225806451612903,0.03225806451612903,0.03225806451612903,0.03225806451612903,0.03225806451612903,0.03225806451612903,0.03225806451612903,0.03225806451612903,0.011494252873563218,0.011494252873563218,0.011494252873563218,0.011494252873563218,0.011494252873563218,0.011494252873563218,0.011494252873563218,0.011494252873563218,0.011494252873563218,0.011494252873563218,0.125],\"yaxis\":\"y\",\"type\":\"bar\"},{\"alignmentgroup\":\"True\",\"hovertemplate\":\"predicted_mobility_x=mobilizable<br>Year Cultured=%{x}<br>y=%{y}<extra></extra>\",\"legendgroup\":\"mobilizable\",\"marker\":{\"color\":\"#00cc96\",\"pattern\":{\"shape\":\"\"}},\"name\":\"mobilizable\",\"offsetgroup\":\"mobilizable\",\"orientation\":\"v\",\"showlegend\":true,\"textposition\":\"auto\",\"x\":[1959,1960,1954,1970,1983,1983,1985,1959,1969,1971,1977,1986,1928,1938,1938,1938,1938,1943,1944,1947,1948,1948,1948,1949,1935,1935,1938,1951,1951,1951,1976,1960,1960,1920,1952,1951,1954,1955,1955,1960,1955,1931,1955,1955,1958,1959,1967,1953,1967,1953,1952,1953,1950,1950,1953,1953,1953,1948,1930,2003,1920,1940,1940,1948,1947,1920,1934,1934,1934,1934,1951,1955,1955,1955,1955,1955,1955,1961,1952,1961,1962,1969,2006,1942,1952,1952,1955,1955,2004,1962,1962,1940,1940,1941,1955,1931,1934,1934,1952,1955,1955,1955,1955,1916,1916,1952,1960,1960,1947,1965,1973,1960,1954,1969,1968,1968,1970,1970,1975,1949,1950,1951,1965,1965,1965,1965,1955,1976,1957,1981,1949,1949,1952,1952,1955,1967,1965,1951,1966,1969,1987,1940,1964,1971,1974,1932,1955,1951,1966,1952,1970,1970,1967,1946,1970,1964,1971,1952,1952,1971,1955,1971,1952,1952,1955,1971,2009,1971,1971,1972,2008,1952,1971,1971,1971,1972,1972,1971,1976,1983,1958,1984,1950,1967,1982,1992,1992,1991,2015,2015,2015,2015,2009,2010,1950,1945,1920,1971,1971,1955,1949,1973,2016,1975,1945,1976,1957,1957,1975,1930,1975,1955,1988,1980,1978,1952,1952,1983,1989,1991,1983,1943,1952,1956,1976,1968,1981,1976,1981,1981,1986,1986,1985,1986,1952,1955,1955,1980,1988,1983,1986,1987,1992,1986,1986,2007,1987,1988,2006,1934,1952,1993,1973,1985,1985,1985,1985,1982,1946,1992,1992,1992,1991,1988,1991,1995,1988,2003,2003,2007,1941,2003,2003,1976,1952,2006,2006,2006,1991,2012,2007,1976,2007,2006,2006,2006,1950,2003,2010,2016,2013,2013,1922,1922,1920,1919,1950,1951,1928,1929,1919,1926,1919,1931,1949,1952,1976,1931,1944,1952,1955,1934,1952,1952,1952,1955,1939,1939,1939,1931,1938,1948,1940,1940,1942,1943,1946,1945,1952,1947,1947,1948,1949,1949,1949,1949,1949,1950,1950,1950,1950,1950,1950,1950,1932,1932,1952,1952,1952,1956,1952,1951,1954,1949,1956,1953,1952,1952,1946,1952,1952,1952,1952,1952,1952,1952,1952,1976,1952,1952,1952,1952,1952,1952,1952,1952,1952,1952,1954,1952,1952,1952,1955,1955,1955,1955,1954,1955,1955,1955,1955,1955,1955,1955,1956],\"xaxis\":\"x\",\"y\":[0.14285714285714285,0.058823529411764705,0.03225806451612903,0.06666666666666667,0.06666666666666667,0.06666666666666667,0.0625,0.14285714285714285,0.14285714285714285,0.030303030303030304,0.3333333333333333,0.06666666666666667,0.5,0.125,0.125,0.125,0.125,0.3333333333333333,0.14285714285714285,0.06666666666666667,0.058823529411764705,0.058823529411764705,0.058823529411764705,0.030303030303030304,0.125,0.125,0.125,0.05263157894736842,0.05263157894736842,0.05263157894736842,0.041666666666666664,0.058823529411764705,0.058823529411764705,0.09090909090909091,0.006134969325153374,0.05263157894736842,0.03225806451612903,0.011494252873563218,0.011494252873563218,0.058823529411764705,0.011494252873563218,0.09090909090909091,0.011494252873563218,0.011494252873563218,0.047619047619047616,0.14285714285714285,0.06666666666666667,0.034482758620689655,0.06666666666666667,0.034482758620689655,0.006134969325153374,0.034482758620689655,0.03225806451612903,0.03225806451612903,0.034482758620689655,0.034482758620689655,0.034482758620689655,0.058823529411764705,0.125,0.0625,0.09090909090909091,0.045454545454545456,0.045454545454545456,0.058823529411764705,0.06666666666666667,0.09090909090909091,0.043478260869565216,0.043478260869565216,0.043478260869565216,0.043478260869565216,0.05263157894736842,0.011494252873563218,0.011494252873563218,0.011494252873563218,0.011494252873563218,0.011494252873563218,0.011494252873563218,0.3333333333333333,0.006134969325153374,0.3333333333333333,0.0625,0.14285714285714285,0.0625,0.5,0.006134969325153374,0.006134969325153374,0.011494252873563218,0.011494252873563218,0.25,0.0625,0.0625,0.045454545454545456,0.045454545454545456,0.1111111111111111,0.011494252873563218,0.09090909090909091,0.043478260869565216,0.043478260869565216,0.006134969325153374,0.011494252873563218,0.011494252873563218,0.011494252873563218,0.011494252873563218,0.2,0.2,0.006134969325153374,0.058823529411764705,0.058823529411764705,0.06666666666666667,0.09090909090909091,0.16666666666666666,0.058823529411764705,0.03225806451612903,0.14285714285714285,0.125,0.125,0.06666666666666667,0.06666666666666667,0.1,0.030303030303030304,0.03225806451612903,0.05263157894736842,0.09090909090909091,0.09090909090909091,0.09090909090909091,0.09090909090909091,0.011494252873563218,0.041666666666666664,0.08333333333333333,0.1,0.030303030303030304,0.030303030303030304,0.006134969325153374,0.006134969325153374,0.011494252873563218,0.06666666666666667,0.09090909090909091,0.05263157894736842,0.14285714285714285,0.14285714285714285,0.09090909090909091,0.045454545454545456,0.25,0.030303030303030304,0.14285714285714285,0.14285714285714285,0.011494252873563218,0.05263157894736842,0.14285714285714285,0.006134969325153374,0.06666666666666667,0.06666666666666667,0.06666666666666667,0.125,0.06666666666666667,0.25,0.030303030303030304,0.006134969325153374,0.006134969325153374,0.030303030303030304,0.011494252873563218,0.030303030303030304,0.006134969325153374,0.006134969325153374,0.011494252873563218,0.030303030303030304,0.25,0.030303030303030304,0.030303030303030304,0.3333333333333333,0.14285714285714285,0.006134969325153374,0.030303030303030304,0.030303030303030304,0.030303030303030304,0.3333333333333333,0.3333333333333333,0.030303030303030304,0.041666666666666664,0.06666666666666667,0.047619047619047616,0.14285714285714285,0.03225806451612903,0.06666666666666667,0.125,0.08333333333333333,0.08333333333333333,0.029411764705882353,0.08333333333333333,0.08333333333333333,0.08333333333333333,0.08333333333333333,0.25,0.16666666666666666,0.03225806451612903,0.3333333333333333,0.09090909090909091,0.030303030303030304,0.030303030303030304,0.011494252873563218,0.030303030303030304,0.16666666666666666,0.3333333333333333,0.1,0.3333333333333333,0.041666666666666664,0.08333333333333333,0.08333333333333333,0.1,0.125,0.1,0.011494252873563218,0.125,0.058823529411764705,0.3333333333333333,0.006134969325153374,0.006134969325153374,0.06666666666666667,0.16666666666666666,0.029411764705882353,0.06666666666666667,0.3333333333333333,0.006134969325153374,0.1,0.041666666666666664,0.125,0.1,0.041666666666666664,0.1,0.1,0.06666666666666667,0.06666666666666667,0.0625,0.06666666666666667,0.006134969325153374,0.011494252873563218,0.011494252873563218,0.058823529411764705,0.125,0.06666666666666667,0.06666666666666667,0.09090909090909091,0.08333333333333333,0.06666666666666667,0.06666666666666667,0.2,0.09090909090909091,0.125,0.0625,0.043478260869565216,0.006134969325153374,1.0,0.16666666666666666,0.0625,0.0625,0.0625,0.0625,0.125,0.125,0.08333333333333333,0.08333333333333333,0.08333333333333333,0.029411764705882353,0.125,0.029411764705882353,0.2,0.125,0.0625,0.0625,0.2,0.1111111111111111,0.0625,0.0625,0.041666666666666664,0.006134969325153374,0.0625,0.0625,0.0625,0.029411764705882353,0.3333333333333333,0.2,0.041666666666666664,0.2,0.0625,0.0625,0.0625,0.03225806451612903,0.0625,0.16666666666666666,0.3333333333333333,0.2,0.2,0.2,0.2,0.09090909090909091,0.3333333333333333,0.03225806451612903,0.05263157894736842,0.5,0.3333333333333333,0.3333333333333333,1.0,0.3333333333333333,0.09090909090909091,0.030303030303030304,0.006134969325153374,0.041666666666666664,0.09090909090909091,0.14285714285714285,0.006134969325153374,0.011494252873563218,0.043478260869565216,0.006134969325153374,0.006134969325153374,0.006134969325153374,0.011494252873563218,0.1111111111111111,0.1111111111111111,0.1111111111111111,0.09090909090909091,0.125,0.058823529411764705,0.045454545454545456,0.045454545454545456,0.5,0.3333333333333333,0.125,0.3333333333333333,0.006134969325153374,0.06666666666666667,0.06666666666666667,0.058823529411764705,0.030303030303030304,0.030303030303030304,0.030303030303030304,0.030303030303030304,0.030303030303030304,0.03225806451612903,0.03225806451612903,0.03225806451612903,0.03225806451612903,0.03225806451612903,0.03225806451612903,0.03225806451612903,0.14285714285714285,0.14285714285714285,0.006134969325153374,0.006134969325153374,0.006134969325153374,0.1,0.006134969325153374,0.05263157894736842,0.03225806451612903,0.030303030303030304,0.1,0.034482758620689655,0.006134969325153374,0.006134969325153374,0.125,0.006134969325153374,0.006134969325153374,0.006134969325153374,0.006134969325153374,0.006134969325153374,0.006134969325153374,0.006134969325153374,0.006134969325153374,0.041666666666666664,0.006134969325153374,0.006134969325153374,0.006134969325153374,0.006134969325153374,0.006134969325153374,0.006134969325153374,0.006134969325153374,0.006134969325153374,0.006134969325153374,0.006134969325153374,0.03225806451612903,0.006134969325153374,0.006134969325153374,0.006134969325153374,0.011494252873563218,0.011494252873563218,0.011494252873563218,0.011494252873563218,0.03225806451612903,0.011494252873563218,0.011494252873563218,0.011494252873563218,0.011494252873563218,0.011494252873563218,0.011494252873563218,0.011494252873563218,0.1],\"yaxis\":\"y\",\"type\":\"bar\"}],                        {\"template\":{\"data\":{\"histogram2dcontour\":[{\"type\":\"histogram2dcontour\",\"colorbar\":{\"outlinewidth\":0,\"ticks\":\"\"},\"colorscale\":[[0.0,\"#0d0887\"],[0.1111111111111111,\"#46039f\"],[0.2222222222222222,\"#7201a8\"],[0.3333333333333333,\"#9c179e\"],[0.4444444444444444,\"#bd3786\"],[0.5555555555555556,\"#d8576b\"],[0.6666666666666666,\"#ed7953\"],[0.7777777777777778,\"#fb9f3a\"],[0.8888888888888888,\"#fdca26\"],[1.0,\"#f0f921\"]]}],\"choropleth\":[{\"type\":\"choropleth\",\"colorbar\":{\"outlinewidth\":0,\"ticks\":\"\"}}],\"histogram2d\":[{\"type\":\"histogram2d\",\"colorbar\":{\"outlinewidth\":0,\"ticks\":\"\"},\"colorscale\":[[0.0,\"#0d0887\"],[0.1111111111111111,\"#46039f\"],[0.2222222222222222,\"#7201a8\"],[0.3333333333333333,\"#9c179e\"],[0.4444444444444444,\"#bd3786\"],[0.5555555555555556,\"#d8576b\"],[0.6666666666666666,\"#ed7953\"],[0.7777777777777778,\"#fb9f3a\"],[0.8888888888888888,\"#fdca26\"],[1.0,\"#f0f921\"]]}],\"heatmap\":[{\"type\":\"heatmap\",\"colorbar\":{\"outlinewidth\":0,\"ticks\":\"\"},\"colorscale\":[[0.0,\"#0d0887\"],[0.1111111111111111,\"#46039f\"],[0.2222222222222222,\"#7201a8\"],[0.3333333333333333,\"#9c179e\"],[0.4444444444444444,\"#bd3786\"],[0.5555555555555556,\"#d8576b\"],[0.6666666666666666,\"#ed7953\"],[0.7777777777777778,\"#fb9f3a\"],[0.8888888888888888,\"#fdca26\"],[1.0,\"#f0f921\"]]}],\"heatmapgl\":[{\"type\":\"heatmapgl\",\"colorbar\":{\"outlinewidth\":0,\"ticks\":\"\"},\"colorscale\":[[0.0,\"#0d0887\"],[0.1111111111111111,\"#46039f\"],[0.2222222222222222,\"#7201a8\"],[0.3333333333333333,\"#9c179e\"],[0.4444444444444444,\"#bd3786\"],[0.5555555555555556,\"#d8576b\"],[0.6666666666666666,\"#ed7953\"],[0.7777777777777778,\"#fb9f3a\"],[0.8888888888888888,\"#fdca26\"],[1.0,\"#f0f921\"]]}],\"contourcarpet\":[{\"type\":\"contourcarpet\",\"colorbar\":{\"outlinewidth\":0,\"ticks\":\"\"}}],\"contour\":[{\"type\":\"contour\",\"colorbar\":{\"outlinewidth\":0,\"ticks\":\"\"},\"colorscale\":[[0.0,\"#0d0887\"],[0.1111111111111111,\"#46039f\"],[0.2222222222222222,\"#7201a8\"],[0.3333333333333333,\"#9c179e\"],[0.4444444444444444,\"#bd3786\"],[0.5555555555555556,\"#d8576b\"],[0.6666666666666666,\"#ed7953\"],[0.7777777777777778,\"#fb9f3a\"],[0.8888888888888888,\"#fdca26\"],[1.0,\"#f0f921\"]]}],\"surface\":[{\"type\":\"surface\",\"colorbar\":{\"outlinewidth\":0,\"ticks\":\"\"},\"colorscale\":[[0.0,\"#0d0887\"],[0.1111111111111111,\"#46039f\"],[0.2222222222222222,\"#7201a8\"],[0.3333333333333333,\"#9c179e\"],[0.4444444444444444,\"#bd3786\"],[0.5555555555555556,\"#d8576b\"],[0.6666666666666666,\"#ed7953\"],[0.7777777777777778,\"#fb9f3a\"],[0.8888888888888888,\"#fdca26\"],[1.0,\"#f0f921\"]]}],\"mesh3d\":[{\"type\":\"mesh3d\",\"colorbar\":{\"outlinewidth\":0,\"ticks\":\"\"}}],\"scatter\":[{\"fillpattern\":{\"fillmode\":\"overlay\",\"size\":10,\"solidity\":0.2},\"type\":\"scatter\"}],\"parcoords\":[{\"type\":\"parcoords\",\"line\":{\"colorbar\":{\"outlinewidth\":0,\"ticks\":\"\"}}}],\"scatterpolargl\":[{\"type\":\"scatterpolargl\",\"marker\":{\"colorbar\":{\"outlinewidth\":0,\"ticks\":\"\"}}}],\"bar\":[{\"error_x\":{\"color\":\"#2a3f5f\"},\"error_y\":{\"color\":\"#2a3f5f\"},\"marker\":{\"line\":{\"color\":\"#E5ECF6\",\"width\":0.5},\"pattern\":{\"fillmode\":\"overlay\",\"size\":10,\"solidity\":0.2}},\"type\":\"bar\"}],\"scattergeo\":[{\"type\":\"scattergeo\",\"marker\":{\"colorbar\":{\"outlinewidth\":0,\"ticks\":\"\"}}}],\"scatterpolar\":[{\"type\":\"scatterpolar\",\"marker\":{\"colorbar\":{\"outlinewidth\":0,\"ticks\":\"\"}}}],\"histogram\":[{\"marker\":{\"pattern\":{\"fillmode\":\"overlay\",\"size\":10,\"solidity\":0.2}},\"type\":\"histogram\"}],\"scattergl\":[{\"type\":\"scattergl\",\"marker\":{\"colorbar\":{\"outlinewidth\":0,\"ticks\":\"\"}}}],\"scatter3d\":[{\"type\":\"scatter3d\",\"line\":{\"colorbar\":{\"outlinewidth\":0,\"ticks\":\"\"}},\"marker\":{\"colorbar\":{\"outlinewidth\":0,\"ticks\":\"\"}}}],\"scattermapbox\":[{\"type\":\"scattermapbox\",\"marker\":{\"colorbar\":{\"outlinewidth\":0,\"ticks\":\"\"}}}],\"scatterternary\":[{\"type\":\"scatterternary\",\"marker\":{\"colorbar\":{\"outlinewidth\":0,\"ticks\":\"\"}}}],\"scattercarpet\":[{\"type\":\"scattercarpet\",\"marker\":{\"colorbar\":{\"outlinewidth\":0,\"ticks\":\"\"}}}],\"carpet\":[{\"aaxis\":{\"endlinecolor\":\"#2a3f5f\",\"gridcolor\":\"white\",\"linecolor\":\"white\",\"minorgridcolor\":\"white\",\"startlinecolor\":\"#2a3f5f\"},\"baxis\":{\"endlinecolor\":\"#2a3f5f\",\"gridcolor\":\"white\",\"linecolor\":\"white\",\"minorgridcolor\":\"white\",\"startlinecolor\":\"#2a3f5f\"},\"type\":\"carpet\"}],\"table\":[{\"cells\":{\"fill\":{\"color\":\"#EBF0F8\"},\"line\":{\"color\":\"white\"}},\"header\":{\"fill\":{\"color\":\"#C8D4E3\"},\"line\":{\"color\":\"white\"}},\"type\":\"table\"}],\"barpolar\":[{\"marker\":{\"line\":{\"color\":\"#E5ECF6\",\"width\":0.5},\"pattern\":{\"fillmode\":\"overlay\",\"size\":10,\"solidity\":0.2}},\"type\":\"barpolar\"}],\"pie\":[{\"automargin\":true,\"type\":\"pie\"}]},\"layout\":{\"autotypenumbers\":\"strict\",\"colorway\":[\"#636efa\",\"#EF553B\",\"#00cc96\",\"#ab63fa\",\"#FFA15A\",\"#19d3f3\",\"#FF6692\",\"#B6E880\",\"#FF97FF\",\"#FECB52\"],\"font\":{\"color\":\"#2a3f5f\"},\"hovermode\":\"closest\",\"hoverlabel\":{\"align\":\"left\"},\"paper_bgcolor\":\"white\",\"plot_bgcolor\":\"#E5ECF6\",\"polar\":{\"bgcolor\":\"#E5ECF6\",\"angularaxis\":{\"gridcolor\":\"white\",\"linecolor\":\"white\",\"ticks\":\"\"},\"radialaxis\":{\"gridcolor\":\"white\",\"linecolor\":\"white\",\"ticks\":\"\"}},\"ternary\":{\"bgcolor\":\"#E5ECF6\",\"aaxis\":{\"gridcolor\":\"white\",\"linecolor\":\"white\",\"ticks\":\"\"},\"baxis\":{\"gridcolor\":\"white\",\"linecolor\":\"white\",\"ticks\":\"\"},\"caxis\":{\"gridcolor\":\"white\",\"linecolor\":\"white\",\"ticks\":\"\"}},\"coloraxis\":{\"colorbar\":{\"outlinewidth\":0,\"ticks\":\"\"}},\"colorscale\":{\"sequential\":[[0.0,\"#0d0887\"],[0.1111111111111111,\"#46039f\"],[0.2222222222222222,\"#7201a8\"],[0.3333333333333333,\"#9c179e\"],[0.4444444444444444,\"#bd3786\"],[0.5555555555555556,\"#d8576b\"],[0.6666666666666666,\"#ed7953\"],[0.7777777777777778,\"#fb9f3a\"],[0.8888888888888888,\"#fdca26\"],[1.0,\"#f0f921\"]],\"sequentialminus\":[[0.0,\"#0d0887\"],[0.1111111111111111,\"#46039f\"],[0.2222222222222222,\"#7201a8\"],[0.3333333333333333,\"#9c179e\"],[0.4444444444444444,\"#bd3786\"],[0.5555555555555556,\"#d8576b\"],[0.6666666666666666,\"#ed7953\"],[0.7777777777777778,\"#fb9f3a\"],[0.8888888888888888,\"#fdca26\"],[1.0,\"#f0f921\"]],\"diverging\":[[0,\"#8e0152\"],[0.1,\"#c51b7d\"],[0.2,\"#de77ae\"],[0.3,\"#f1b6da\"],[0.4,\"#fde0ef\"],[0.5,\"#f7f7f7\"],[0.6,\"#e6f5d0\"],[0.7,\"#b8e186\"],[0.8,\"#7fbc41\"],[0.9,\"#4d9221\"],[1,\"#276419\"]]},\"xaxis\":{\"gridcolor\":\"white\",\"linecolor\":\"white\",\"ticks\":\"\",\"title\":{\"standoff\":15},\"zerolinecolor\":\"white\",\"automargin\":true,\"zerolinewidth\":2},\"yaxis\":{\"gridcolor\":\"white\",\"linecolor\":\"white\",\"ticks\":\"\",\"title\":{\"standoff\":15},\"zerolinecolor\":\"white\",\"automargin\":true,\"zerolinewidth\":2},\"scene\":{\"xaxis\":{\"backgroundcolor\":\"#E5ECF6\",\"gridcolor\":\"white\",\"linecolor\":\"white\",\"showbackground\":true,\"ticks\":\"\",\"zerolinecolor\":\"white\",\"gridwidth\":2},\"yaxis\":{\"backgroundcolor\":\"#E5ECF6\",\"gridcolor\":\"white\",\"linecolor\":\"white\",\"showbackground\":true,\"ticks\":\"\",\"zerolinecolor\":\"white\",\"gridwidth\":2},\"zaxis\":{\"backgroundcolor\":\"#E5ECF6\",\"gridcolor\":\"white\",\"linecolor\":\"white\",\"showbackground\":true,\"ticks\":\"\",\"zerolinecolor\":\"white\",\"gridwidth\":2}},\"shapedefaults\":{\"line\":{\"color\":\"#2a3f5f\"}},\"annotationdefaults\":{\"arrowcolor\":\"#2a3f5f\",\"arrowhead\":0,\"arrowwidth\":1},\"geo\":{\"bgcolor\":\"white\",\"landcolor\":\"#E5ECF6\",\"subunitcolor\":\"white\",\"showland\":true,\"showlakes\":true,\"lakecolor\":\"white\"},\"title\":{\"x\":0.05},\"mapbox\":{\"style\":\"light\"}}},\"xaxis\":{\"anchor\":\"y\",\"domain\":[0.0,1.0],\"title\":{\"text\":\"Year Cultured\"}},\"yaxis\":{\"anchor\":\"x\",\"domain\":[0.0,1.0],\"title\":{\"text\":\"y\"}},\"legend\":{\"title\":{\"text\":\"predicted_mobility_x\"},\"tracegroupgap\":0},\"title\":{\"text\":\"Plasmid - \"},\"barmode\":\"relative\"},                        {\"responsive\": true}                    ).then(function(){\n",
       "                            \n",
       "var gd = document.getElementById('276e5ace-31e9-48b4-aa5c-f4f67edcd005');\n",
       "var x = new MutationObserver(function (mutations, observer) {{\n",
       "        var display = window.getComputedStyle(gd).display;\n",
       "        if (!display || display === 'none') {{\n",
       "            console.log([gd, 'removed!']);\n",
       "            Plotly.purge(gd);\n",
       "            observer.disconnect();\n",
       "        }}\n",
       "}});\n",
       "\n",
       "// Listen for the removal of the full notebook cells\n",
       "var notebookContainer = gd.closest('#notebook-container');\n",
       "if (notebookContainer) {{\n",
       "    x.observe(notebookContainer, {childList: true});\n",
       "}}\n",
       "\n",
       "// Listen for the clearing of the current output cell\n",
       "var outputEl = gd.closest('.output');\n",
       "if (outputEl) {{\n",
       "    x.observe(outputEl, {childList: true});\n",
       "}}\n",
       "\n",
       "                        })                };                });            </script>        </div>"
      ]
     },
     "metadata": {},
     "output_type": "display_data"
    }
   ],
   "source": [
    "px.bar(\n",
    "    merged_mob,\n",
    "    x=\"Year\",\n",
    "    y=merged_mob['Year'].map((1/merged_mob['Year'].value_counts()).to_dict()),\n",
    "    labels={\"Year\": \"Year Cultured\", },\n",
    "    title=\"Plasmid - \",\n",
    "    # hover_data=[\"Accession_Number\", \"Resistance Mechanism\", \"Best_Hit_ARO\", \"Drug Class\", \"AMR Gene Family\", 'Contig', 'Strain'],\n",
    "    # color='Best_Hit_ARO',\n",
    "    color='predicted_mobility_x'\n",
    ")"
   ]
  },
  {
   "cell_type": "code",
   "execution_count": 12,
   "id": "6062f9da-7b46-4d25-b9fe-ea322c95c5a9",
   "metadata": {},
   "outputs": [
    {
     "data": {
      "application/vnd.plotly.v1+json": {
       "config": {
        "plotlyServerURL": "https://plot.ly"
       },
       "data": [
        {
         "alignmentgroup": "True",
         "hovertemplate": "Predicted Mobility=mobilizable<br>Year Cultured=%{x}<br>Proportion of plasmids=%{y}<extra></extra>",
         "legendgroup": "mobilizable",
         "marker": {
          "color": "#636efa",
          "pattern": {
           "shape": ""
          }
         },
         "name": "mobilizable",
         "offsetgroup": "mobilizable",
         "orientation": "v",
         "showlegend": true,
         "textposition": "auto",
         "type": "bar",
         "x": [
          1960,
          1960,
          1962,
          1969,
          2006,
          1942,
          1952,
          1952,
          1955,
          1976,
          1969,
          1987,
          1964,
          1976,
          1971,
          1971,
          1955,
          1949,
          1973,
          1978,
          1952,
          1952,
          1995,
          1988,
          2003,
          1976,
          1952,
          2016,
          1931,
          1949,
          1952,
          1976,
          1931,
          1944,
          1952,
          1955,
          1945,
          1952,
          1949,
          1949,
          1949,
          1956,
          1953,
          1952,
          1952,
          1946,
          1952,
          1952,
          1952,
          1952,
          1952,
          1976,
          1952,
          1952,
          1952,
          1952,
          1955,
          1955
         ],
         "xaxis": "x",
         "y": [
          0.5,
          0.5,
          0.5,
          0.25,
          0.3333333333333333,
          1,
          0.01818181818181818,
          0.01818181818181818,
          0.06666666666666667,
          0.1,
          0.25,
          1,
          0.5,
          0.1,
          0.2,
          0.2,
          0.06666666666666667,
          0.07692307692307693,
          1,
          0.5,
          0.01818181818181818,
          0.01818181818181818,
          0.2,
          0.5,
          0.3333333333333333,
          0.1,
          0.01818181818181818,
          0.5,
          0.16666666666666666,
          0.07692307692307693,
          0.01818181818181818,
          0.1,
          0.16666666666666666,
          0.5,
          0.01818181818181818,
          0.06666666666666667,
          1,
          0.01818181818181818,
          0.07692307692307693,
          0.07692307692307693,
          0.07692307692307693,
          0.5,
          0.25,
          0.01818181818181818,
          0.01818181818181818,
          1,
          0.01818181818181818,
          0.01818181818181818,
          0.01818181818181818,
          0.01818181818181818,
          0.01818181818181818,
          0.1,
          0.01818181818181818,
          0.01818181818181818,
          0.01818181818181818,
          0.01818181818181818,
          0.06666666666666667,
          0.06666666666666667
         ],
         "yaxis": "y"
        },
        {
         "alignmentgroup": "True",
         "hovertemplate": "Predicted Mobility=conjugative<br>Year Cultured=%{x}<br>Proportion of plasmids=%{y}<extra></extra>",
         "legendgroup": "conjugative",
         "marker": {
          "color": "#EF553B",
          "pattern": {
           "shape": ""
          }
         },
         "name": "conjugative",
         "offsetgroup": "conjugative",
         "orientation": "v",
         "showlegend": true,
         "textposition": "auto",
         "type": "bar",
         "x": [
          1949,
          1950,
          1949,
          1952,
          1955,
          1955,
          1955,
          1958,
          1991,
          1995,
          2003,
          2009,
          2006,
          1920,
          1930,
          1937,
          1938,
          1940,
          1940,
          1941,
          1947,
          1949,
          1952,
          1952,
          1953,
          1952,
          1952,
          1952,
          1952,
          1955,
          1954,
          1955,
          1953,
          1957,
          1971,
          1932,
          1931,
          1931,
          1944,
          1952,
          1952,
          1955,
          1955,
          1966,
          1957,
          1976,
          1955,
          1988,
          1969,
          1969,
          1964,
          1966,
          1995,
          1958,
          1952,
          1958,
          1955,
          2006,
          2013,
          1952,
          1971,
          1982,
          1952,
          1978,
          1949,
          1951,
          1976,
          1982,
          1985,
          2008,
          1931,
          1931,
          1932,
          1952,
          1947,
          1952,
          1952,
          1952,
          1949,
          1949,
          1949,
          1949,
          1952,
          1952,
          1956,
          1952,
          1953,
          1952,
          1952,
          1976,
          1952,
          1952,
          1952,
          1954,
          1976,
          1952,
          1976,
          1952,
          1952,
          1952,
          1952,
          1952,
          1952,
          1952,
          1952
         ],
         "xaxis": "x",
         "y": [
          0.07692307692307693,
          1,
          0.07692307692307693,
          0.01818181818181818,
          0.06666666666666667,
          0.06666666666666667,
          0.06666666666666667,
          0.3333333333333333,
          1,
          0.2,
          0.3333333333333333,
          1,
          0.3333333333333333,
          1,
          1,
          1,
          1,
          0.3333333333333333,
          0.3333333333333333,
          1,
          0.3333333333333333,
          0.07692307692307693,
          0.01818181818181818,
          0.01818181818181818,
          0.25,
          0.01818181818181818,
          0.01818181818181818,
          0.01818181818181818,
          0.01818181818181818,
          0.06666666666666667,
          0.5,
          0.06666666666666667,
          0.25,
          0.3333333333333333,
          0.2,
          0.5,
          0.16666666666666666,
          0.16666666666666666,
          0.5,
          0.01818181818181818,
          0.01818181818181818,
          0.06666666666666667,
          0.06666666666666667,
          0.5,
          0.3333333333333333,
          0.1,
          0.06666666666666667,
          0.5,
          0.25,
          0.25,
          0.5,
          0.5,
          0.2,
          0.3333333333333333,
          0.01818181818181818,
          0.3333333333333333,
          0.06666666666666667,
          0.3333333333333333,
          1,
          0.01818181818181818,
          0.2,
          0.5,
          0.01818181818181818,
          0.5,
          0.07692307692307693,
          1,
          0.1,
          0.5,
          1,
          1,
          0.16666666666666666,
          0.16666666666666666,
          0.5,
          0.01818181818181818,
          0.3333333333333333,
          0.01818181818181818,
          0.01818181818181818,
          0.01818181818181818,
          0.07692307692307693,
          0.07692307692307693,
          0.07692307692307693,
          0.07692307692307693,
          0.01818181818181818,
          0.01818181818181818,
          0.5,
          0.01818181818181818,
          0.25,
          0.01818181818181818,
          0.01818181818181818,
          0.1,
          0.01818181818181818,
          0.01818181818181818,
          0.01818181818181818,
          0.5,
          0.1,
          0.01818181818181818,
          0.1,
          0.01818181818181818,
          0.01818181818181818,
          0.01818181818181818,
          0.01818181818181818,
          0.01818181818181818,
          0.01818181818181818,
          0.01818181818181818,
          0.01818181818181818
         ],
         "yaxis": "y"
        },
        {
         "alignmentgroup": "True",
         "hovertemplate": "Predicted Mobility=non-mobilizable<br>Year Cultured=%{x}<br>Proportion of plasmids=%{y}<extra></extra>",
         "legendgroup": "non-mobilizable",
         "marker": {
          "color": "#00cc96",
          "pattern": {
           "shape": ""
          }
         },
         "name": "non-mobilizable",
         "offsetgroup": "non-mobilizable",
         "orientation": "v",
         "showlegend": true,
         "textposition": "auto",
         "type": "bar",
         "x": [
          1947,
          1962,
          1971,
          2003,
          1940,
          1965,
          1965,
          1957,
          1992,
          1992,
          1995,
          1995,
          1994,
          1952,
          2016,
          1952,
          1952,
          1955
         ],
         "xaxis": "x",
         "y": [
          0.3333333333333333,
          0.5,
          0.2,
          0.3333333333333333,
          0.3333333333333333,
          0.5,
          0.5,
          0.3333333333333333,
          0.5,
          0.5,
          0.2,
          0.2,
          1,
          0.01818181818181818,
          0.5,
          0.01818181818181818,
          0.01818181818181818,
          0.06666666666666667
         ],
         "yaxis": "y"
        }
       ],
       "layout": {
        "autosize": true,
        "barmode": "relative",
        "legend": {
         "title": {
          "text": "Predicted Mobility"
         },
         "tracegroupgap": 0
        },
        "template": {
         "data": {
          "bar": [
           {
            "error_x": {
             "color": "#2a3f5f"
            },
            "error_y": {
             "color": "#2a3f5f"
            },
            "marker": {
             "line": {
              "color": "#E5ECF6",
              "width": 0.5
             },
             "pattern": {
              "fillmode": "overlay",
              "size": 10,
              "solidity": 0.2
             }
            },
            "type": "bar"
           }
          ],
          "barpolar": [
           {
            "marker": {
             "line": {
              "color": "#E5ECF6",
              "width": 0.5
             },
             "pattern": {
              "fillmode": "overlay",
              "size": 10,
              "solidity": 0.2
             }
            },
            "type": "barpolar"
           }
          ],
          "carpet": [
           {
            "aaxis": {
             "endlinecolor": "#2a3f5f",
             "gridcolor": "white",
             "linecolor": "white",
             "minorgridcolor": "white",
             "startlinecolor": "#2a3f5f"
            },
            "baxis": {
             "endlinecolor": "#2a3f5f",
             "gridcolor": "white",
             "linecolor": "white",
             "minorgridcolor": "white",
             "startlinecolor": "#2a3f5f"
            },
            "type": "carpet"
           }
          ],
          "choropleth": [
           {
            "colorbar": {
             "outlinewidth": 0,
             "ticks": ""
            },
            "type": "choropleth"
           }
          ],
          "contour": [
           {
            "colorbar": {
             "outlinewidth": 0,
             "ticks": ""
            },
            "colorscale": [
             [
              0,
              "#0d0887"
             ],
             [
              0.1111111111111111,
              "#46039f"
             ],
             [
              0.2222222222222222,
              "#7201a8"
             ],
             [
              0.3333333333333333,
              "#9c179e"
             ],
             [
              0.4444444444444444,
              "#bd3786"
             ],
             [
              0.5555555555555556,
              "#d8576b"
             ],
             [
              0.6666666666666666,
              "#ed7953"
             ],
             [
              0.7777777777777778,
              "#fb9f3a"
             ],
             [
              0.8888888888888888,
              "#fdca26"
             ],
             [
              1,
              "#f0f921"
             ]
            ],
            "type": "contour"
           }
          ],
          "contourcarpet": [
           {
            "colorbar": {
             "outlinewidth": 0,
             "ticks": ""
            },
            "type": "contourcarpet"
           }
          ],
          "heatmap": [
           {
            "colorbar": {
             "outlinewidth": 0,
             "ticks": ""
            },
            "colorscale": [
             [
              0,
              "#0d0887"
             ],
             [
              0.1111111111111111,
              "#46039f"
             ],
             [
              0.2222222222222222,
              "#7201a8"
             ],
             [
              0.3333333333333333,
              "#9c179e"
             ],
             [
              0.4444444444444444,
              "#bd3786"
             ],
             [
              0.5555555555555556,
              "#d8576b"
             ],
             [
              0.6666666666666666,
              "#ed7953"
             ],
             [
              0.7777777777777778,
              "#fb9f3a"
             ],
             [
              0.8888888888888888,
              "#fdca26"
             ],
             [
              1,
              "#f0f921"
             ]
            ],
            "type": "heatmap"
           }
          ],
          "heatmapgl": [
           {
            "colorbar": {
             "outlinewidth": 0,
             "ticks": ""
            },
            "colorscale": [
             [
              0,
              "#0d0887"
             ],
             [
              0.1111111111111111,
              "#46039f"
             ],
             [
              0.2222222222222222,
              "#7201a8"
             ],
             [
              0.3333333333333333,
              "#9c179e"
             ],
             [
              0.4444444444444444,
              "#bd3786"
             ],
             [
              0.5555555555555556,
              "#d8576b"
             ],
             [
              0.6666666666666666,
              "#ed7953"
             ],
             [
              0.7777777777777778,
              "#fb9f3a"
             ],
             [
              0.8888888888888888,
              "#fdca26"
             ],
             [
              1,
              "#f0f921"
             ]
            ],
            "type": "heatmapgl"
           }
          ],
          "histogram": [
           {
            "marker": {
             "pattern": {
              "fillmode": "overlay",
              "size": 10,
              "solidity": 0.2
             }
            },
            "type": "histogram"
           }
          ],
          "histogram2d": [
           {
            "colorbar": {
             "outlinewidth": 0,
             "ticks": ""
            },
            "colorscale": [
             [
              0,
              "#0d0887"
             ],
             [
              0.1111111111111111,
              "#46039f"
             ],
             [
              0.2222222222222222,
              "#7201a8"
             ],
             [
              0.3333333333333333,
              "#9c179e"
             ],
             [
              0.4444444444444444,
              "#bd3786"
             ],
             [
              0.5555555555555556,
              "#d8576b"
             ],
             [
              0.6666666666666666,
              "#ed7953"
             ],
             [
              0.7777777777777778,
              "#fb9f3a"
             ],
             [
              0.8888888888888888,
              "#fdca26"
             ],
             [
              1,
              "#f0f921"
             ]
            ],
            "type": "histogram2d"
           }
          ],
          "histogram2dcontour": [
           {
            "colorbar": {
             "outlinewidth": 0,
             "ticks": ""
            },
            "colorscale": [
             [
              0,
              "#0d0887"
             ],
             [
              0.1111111111111111,
              "#46039f"
             ],
             [
              0.2222222222222222,
              "#7201a8"
             ],
             [
              0.3333333333333333,
              "#9c179e"
             ],
             [
              0.4444444444444444,
              "#bd3786"
             ],
             [
              0.5555555555555556,
              "#d8576b"
             ],
             [
              0.6666666666666666,
              "#ed7953"
             ],
             [
              0.7777777777777778,
              "#fb9f3a"
             ],
             [
              0.8888888888888888,
              "#fdca26"
             ],
             [
              1,
              "#f0f921"
             ]
            ],
            "type": "histogram2dcontour"
           }
          ],
          "mesh3d": [
           {
            "colorbar": {
             "outlinewidth": 0,
             "ticks": ""
            },
            "type": "mesh3d"
           }
          ],
          "parcoords": [
           {
            "line": {
             "colorbar": {
              "outlinewidth": 0,
              "ticks": ""
             }
            },
            "type": "parcoords"
           }
          ],
          "pie": [
           {
            "automargin": true,
            "type": "pie"
           }
          ],
          "scatter": [
           {
            "fillpattern": {
             "fillmode": "overlay",
             "size": 10,
             "solidity": 0.2
            },
            "type": "scatter"
           }
          ],
          "scatter3d": [
           {
            "line": {
             "colorbar": {
              "outlinewidth": 0,
              "ticks": ""
             }
            },
            "marker": {
             "colorbar": {
              "outlinewidth": 0,
              "ticks": ""
             }
            },
            "type": "scatter3d"
           }
          ],
          "scattercarpet": [
           {
            "marker": {
             "colorbar": {
              "outlinewidth": 0,
              "ticks": ""
             }
            },
            "type": "scattercarpet"
           }
          ],
          "scattergeo": [
           {
            "marker": {
             "colorbar": {
              "outlinewidth": 0,
              "ticks": ""
             }
            },
            "type": "scattergeo"
           }
          ],
          "scattergl": [
           {
            "marker": {
             "colorbar": {
              "outlinewidth": 0,
              "ticks": ""
             }
            },
            "type": "scattergl"
           }
          ],
          "scattermapbox": [
           {
            "marker": {
             "colorbar": {
              "outlinewidth": 0,
              "ticks": ""
             }
            },
            "type": "scattermapbox"
           }
          ],
          "scatterpolar": [
           {
            "marker": {
             "colorbar": {
              "outlinewidth": 0,
              "ticks": ""
             }
            },
            "type": "scatterpolar"
           }
          ],
          "scatterpolargl": [
           {
            "marker": {
             "colorbar": {
              "outlinewidth": 0,
              "ticks": ""
             }
            },
            "type": "scatterpolargl"
           }
          ],
          "scatterternary": [
           {
            "marker": {
             "colorbar": {
              "outlinewidth": 0,
              "ticks": ""
             }
            },
            "type": "scatterternary"
           }
          ],
          "surface": [
           {
            "colorbar": {
             "outlinewidth": 0,
             "ticks": ""
            },
            "colorscale": [
             [
              0,
              "#0d0887"
             ],
             [
              0.1111111111111111,
              "#46039f"
             ],
             [
              0.2222222222222222,
              "#7201a8"
             ],
             [
              0.3333333333333333,
              "#9c179e"
             ],
             [
              0.4444444444444444,
              "#bd3786"
             ],
             [
              0.5555555555555556,
              "#d8576b"
             ],
             [
              0.6666666666666666,
              "#ed7953"
             ],
             [
              0.7777777777777778,
              "#fb9f3a"
             ],
             [
              0.8888888888888888,
              "#fdca26"
             ],
             [
              1,
              "#f0f921"
             ]
            ],
            "type": "surface"
           }
          ],
          "table": [
           {
            "cells": {
             "fill": {
              "color": "#EBF0F8"
             },
             "line": {
              "color": "white"
             }
            },
            "header": {
             "fill": {
              "color": "#C8D4E3"
             },
             "line": {
              "color": "white"
             }
            },
            "type": "table"
           }
          ]
         },
         "layout": {
          "annotationdefaults": {
           "arrowcolor": "#2a3f5f",
           "arrowhead": 0,
           "arrowwidth": 1
          },
          "autotypenumbers": "strict",
          "coloraxis": {
           "colorbar": {
            "outlinewidth": 0,
            "ticks": ""
           }
          },
          "colorscale": {
           "diverging": [
            [
             0,
             "#8e0152"
            ],
            [
             0.1,
             "#c51b7d"
            ],
            [
             0.2,
             "#de77ae"
            ],
            [
             0.3,
             "#f1b6da"
            ],
            [
             0.4,
             "#fde0ef"
            ],
            [
             0.5,
             "#f7f7f7"
            ],
            [
             0.6,
             "#e6f5d0"
            ],
            [
             0.7,
             "#b8e186"
            ],
            [
             0.8,
             "#7fbc41"
            ],
            [
             0.9,
             "#4d9221"
            ],
            [
             1,
             "#276419"
            ]
           ],
           "sequential": [
            [
             0,
             "#0d0887"
            ],
            [
             0.1111111111111111,
             "#46039f"
            ],
            [
             0.2222222222222222,
             "#7201a8"
            ],
            [
             0.3333333333333333,
             "#9c179e"
            ],
            [
             0.4444444444444444,
             "#bd3786"
            ],
            [
             0.5555555555555556,
             "#d8576b"
            ],
            [
             0.6666666666666666,
             "#ed7953"
            ],
            [
             0.7777777777777778,
             "#fb9f3a"
            ],
            [
             0.8888888888888888,
             "#fdca26"
            ],
            [
             1,
             "#f0f921"
            ]
           ],
           "sequentialminus": [
            [
             0,
             "#0d0887"
            ],
            [
             0.1111111111111111,
             "#46039f"
            ],
            [
             0.2222222222222222,
             "#7201a8"
            ],
            [
             0.3333333333333333,
             "#9c179e"
            ],
            [
             0.4444444444444444,
             "#bd3786"
            ],
            [
             0.5555555555555556,
             "#d8576b"
            ],
            [
             0.6666666666666666,
             "#ed7953"
            ],
            [
             0.7777777777777778,
             "#fb9f3a"
            ],
            [
             0.8888888888888888,
             "#fdca26"
            ],
            [
             1,
             "#f0f921"
            ]
           ]
          },
          "colorway": [
           "#636efa",
           "#EF553B",
           "#00cc96",
           "#ab63fa",
           "#FFA15A",
           "#19d3f3",
           "#FF6692",
           "#B6E880",
           "#FF97FF",
           "#FECB52"
          ],
          "font": {
           "color": "#2a3f5f"
          },
          "geo": {
           "bgcolor": "white",
           "lakecolor": "white",
           "landcolor": "#E5ECF6",
           "showlakes": true,
           "showland": true,
           "subunitcolor": "white"
          },
          "hoverlabel": {
           "align": "left"
          },
          "hovermode": "closest",
          "mapbox": {
           "style": "light"
          },
          "paper_bgcolor": "white",
          "plot_bgcolor": "#E5ECF6",
          "polar": {
           "angularaxis": {
            "gridcolor": "white",
            "linecolor": "white",
            "ticks": ""
           },
           "bgcolor": "#E5ECF6",
           "radialaxis": {
            "gridcolor": "white",
            "linecolor": "white",
            "ticks": ""
           }
          },
          "scene": {
           "xaxis": {
            "backgroundcolor": "#E5ECF6",
            "gridcolor": "white",
            "gridwidth": 2,
            "linecolor": "white",
            "showbackground": true,
            "ticks": "",
            "zerolinecolor": "white"
           },
           "yaxis": {
            "backgroundcolor": "#E5ECF6",
            "gridcolor": "white",
            "gridwidth": 2,
            "linecolor": "white",
            "showbackground": true,
            "ticks": "",
            "zerolinecolor": "white"
           },
           "zaxis": {
            "backgroundcolor": "#E5ECF6",
            "gridcolor": "white",
            "gridwidth": 2,
            "linecolor": "white",
            "showbackground": true,
            "ticks": "",
            "zerolinecolor": "white"
           }
          },
          "shapedefaults": {
           "line": {
            "color": "#2a3f5f"
           }
          },
          "ternary": {
           "aaxis": {
            "gridcolor": "white",
            "linecolor": "white",
            "ticks": ""
           },
           "baxis": {
            "gridcolor": "white",
            "linecolor": "white",
            "ticks": ""
           },
           "bgcolor": "#E5ECF6",
           "caxis": {
            "gridcolor": "white",
            "linecolor": "white",
            "ticks": ""
           }
          },
          "title": {
           "x": 0.05
          },
          "xaxis": {
           "automargin": true,
           "gridcolor": "white",
           "linecolor": "white",
           "ticks": "",
           "title": {
            "standoff": 15
           },
           "zerolinecolor": "white",
           "zerolinewidth": 2
          },
          "yaxis": {
           "automargin": true,
           "gridcolor": "white",
           "linecolor": "white",
           "ticks": "",
           "title": {
            "standoff": 15
           },
           "zerolinecolor": "white",
           "zerolinewidth": 2
          }
         }
        },
        "title": {
         "text": "All E. Coli Plasmids"
        },
        "xaxis": {
         "anchor": "y",
         "autorange": true,
         "domain": [
          0,
          1
         ],
         "range": [
          1919.5,
          2016.5
         ],
         "title": {
          "text": "Year Cultured"
         },
         "type": "linear"
        },
        "yaxis": {
         "anchor": "x",
         "autorange": true,
         "domain": [
          0,
          1
         ],
         "range": [
          0,
          1.0526315789473686
         ],
         "title": {
          "text": "Proportion of plasmids"
         },
         "type": "linear"
        }
       }
      },
      "image/png": "[encoded data removed]",
      "text/html": [
       "<div>                            <div id=\"088cb16e-a59f-4a58-921e-b798ca592545\" class=\"plotly-graph-div\" style=\"height:525px; width:100%;\"></div>            <script type=\"text/javascript\">                require([\"plotly\"], function(Plotly) {                    window.PLOTLYENV=window.PLOTLYENV || {};                                    if (document.getElementById(\"088cb16e-a59f-4a58-921e-b798ca592545\")) {                    Plotly.newPlot(                        \"088cb16e-a59f-4a58-921e-b798ca592545\",                        [{\"alignmentgroup\":\"True\",\"hovertemplate\":\"Predicted Mobility=mobilizable<br>Year Cultured=%{x}<br>Proportion of plasmids=%{y}<extra></extra>\",\"legendgroup\":\"mobilizable\",\"marker\":{\"color\":\"#636efa\",\"pattern\":{\"shape\":\"\"}},\"name\":\"mobilizable\",\"offsetgroup\":\"mobilizable\",\"orientation\":\"v\",\"showlegend\":true,\"textposition\":\"auto\",\"x\":[1960,1960,1962,1969,2006,1942,1952,1952,1955,1976,1969,1987,1964,1976,1971,1971,1955,1949,1973,1978,1952,1952,1995,1988,2003,1976,1952,2016,1931,1949,1952,1976,1931,1944,1952,1955,1945,1952,1949,1949,1949,1956,1953,1952,1952,1946,1952,1952,1952,1952,1952,1976,1952,1952,1952,1952,1955,1955],\"xaxis\":\"x\",\"y\":[0.5,0.5,0.5,0.25,0.3333333333333333,1.0,0.01818181818181818,0.01818181818181818,0.06666666666666667,0.1,0.25,1.0,0.5,0.1,0.2,0.2,0.06666666666666667,0.07692307692307693,1.0,0.5,0.01818181818181818,0.01818181818181818,0.2,0.5,0.3333333333333333,0.1,0.01818181818181818,0.5,0.16666666666666666,0.07692307692307693,0.01818181818181818,0.1,0.16666666666666666,0.5,0.01818181818181818,0.06666666666666667,1.0,0.01818181818181818,0.07692307692307693,0.07692307692307693,0.07692307692307693,0.5,0.25,0.01818181818181818,0.01818181818181818,1.0,0.01818181818181818,0.01818181818181818,0.01818181818181818,0.01818181818181818,0.01818181818181818,0.1,0.01818181818181818,0.01818181818181818,0.01818181818181818,0.01818181818181818,0.06666666666666667,0.06666666666666667],\"yaxis\":\"y\",\"type\":\"bar\"},{\"alignmentgroup\":\"True\",\"hovertemplate\":\"Predicted Mobility=conjugative<br>Year Cultured=%{x}<br>Proportion of plasmids=%{y}<extra></extra>\",\"legendgroup\":\"conjugative\",\"marker\":{\"color\":\"#EF553B\",\"pattern\":{\"shape\":\"\"}},\"name\":\"conjugative\",\"offsetgroup\":\"conjugative\",\"orientation\":\"v\",\"showlegend\":true,\"textposition\":\"auto\",\"x\":[1949,1950,1949,1952,1955,1955,1955,1958,1991,1995,2003,2009,2006,1920,1930,1937,1938,1940,1940,1941,1947,1949,1952,1952,1953,1952,1952,1952,1952,1955,1954,1955,1953,1957,1971,1932,1931,1931,1944,1952,1952,1955,1955,1966,1957,1976,1955,1988,1969,1969,1964,1966,1995,1958,1952,1958,1955,2006,2013,1952,1971,1982,1952,1978,1949,1951,1976,1982,1985,2008,1931,1931,1932,1952,1947,1952,1952,1952,1949,1949,1949,1949,1952,1952,1956,1952,1953,1952,1952,1976,1952,1952,1952,1954,1976,1952,1976,1952,1952,1952,1952,1952,1952,1952,1952],\"xaxis\":\"x\",\"y\":[0.07692307692307693,1.0,0.07692307692307693,0.01818181818181818,0.06666666666666667,0.06666666666666667,0.06666666666666667,0.3333333333333333,1.0,0.2,0.3333333333333333,1.0,0.3333333333333333,1.0,1.0,1.0,1.0,0.3333333333333333,0.3333333333333333,1.0,0.3333333333333333,0.07692307692307693,0.01818181818181818,0.01818181818181818,0.25,0.01818181818181818,0.01818181818181818,0.01818181818181818,0.01818181818181818,0.06666666666666667,0.5,0.06666666666666667,0.25,0.3333333333333333,0.2,0.5,0.16666666666666666,0.16666666666666666,0.5,0.01818181818181818,0.01818181818181818,0.06666666666666667,0.06666666666666667,0.5,0.3333333333333333,0.1,0.06666666666666667,0.5,0.25,0.25,0.5,0.5,0.2,0.3333333333333333,0.01818181818181818,0.3333333333333333,0.06666666666666667,0.3333333333333333,1.0,0.01818181818181818,0.2,0.5,0.01818181818181818,0.5,0.07692307692307693,1.0,0.1,0.5,1.0,1.0,0.16666666666666666,0.16666666666666666,0.5,0.01818181818181818,0.3333333333333333,0.01818181818181818,0.01818181818181818,0.01818181818181818,0.07692307692307693,0.07692307692307693,0.07692307692307693,0.07692307692307693,0.01818181818181818,0.01818181818181818,0.5,0.01818181818181818,0.25,0.01818181818181818,0.01818181818181818,0.1,0.01818181818181818,0.01818181818181818,0.01818181818181818,0.5,0.1,0.01818181818181818,0.1,0.01818181818181818,0.01818181818181818,0.01818181818181818,0.01818181818181818,0.01818181818181818,0.01818181818181818,0.01818181818181818,0.01818181818181818],\"yaxis\":\"y\",\"type\":\"bar\"},{\"alignmentgroup\":\"True\",\"hovertemplate\":\"Predicted Mobility=non-mobilizable<br>Year Cultured=%{x}<br>Proportion of plasmids=%{y}<extra></extra>\",\"legendgroup\":\"non-mobilizable\",\"marker\":{\"color\":\"#00cc96\",\"pattern\":{\"shape\":\"\"}},\"name\":\"non-mobilizable\",\"offsetgroup\":\"non-mobilizable\",\"orientation\":\"v\",\"showlegend\":true,\"textposition\":\"auto\",\"x\":[1947,1962,1971,2003,1940,1965,1965,1957,1992,1992,1995,1995,1994,1952,2016,1952,1952,1955],\"xaxis\":\"x\",\"y\":[0.3333333333333333,0.5,0.2,0.3333333333333333,0.3333333333333333,0.5,0.5,0.3333333333333333,0.5,0.5,0.2,0.2,1.0,0.01818181818181818,0.5,0.01818181818181818,0.01818181818181818,0.06666666666666667],\"yaxis\":\"y\",\"type\":\"bar\"}],                        {\"template\":{\"data\":{\"histogram2dcontour\":[{\"type\":\"histogram2dcontour\",\"colorbar\":{\"outlinewidth\":0,\"ticks\":\"\"},\"colorscale\":[[0.0,\"#0d0887\"],[0.1111111111111111,\"#46039f\"],[0.2222222222222222,\"#7201a8\"],[0.3333333333333333,\"#9c179e\"],[0.4444444444444444,\"#bd3786\"],[0.5555555555555556,\"#d8576b\"],[0.6666666666666666,\"#ed7953\"],[0.7777777777777778,\"#fb9f3a\"],[0.8888888888888888,\"#fdca26\"],[1.0,\"#f0f921\"]]}],\"choropleth\":[{\"type\":\"choropleth\",\"colorbar\":{\"outlinewidth\":0,\"ticks\":\"\"}}],\"histogram2d\":[{\"type\":\"histogram2d\",\"colorbar\":{\"outlinewidth\":0,\"ticks\":\"\"},\"colorscale\":[[0.0,\"#0d0887\"],[0.1111111111111111,\"#46039f\"],[0.2222222222222222,\"#7201a8\"],[0.3333333333333333,\"#9c179e\"],[0.4444444444444444,\"#bd3786\"],[0.5555555555555556,\"#d8576b\"],[0.6666666666666666,\"#ed7953\"],[0.7777777777777778,\"#fb9f3a\"],[0.8888888888888888,\"#fdca26\"],[1.0,\"#f0f921\"]]}],\"heatmap\":[{\"type\":\"heatmap\",\"colorbar\":{\"outlinewidth\":0,\"ticks\":\"\"},\"colorscale\":[[0.0,\"#0d0887\"],[0.1111111111111111,\"#46039f\"],[0.2222222222222222,\"#7201a8\"],[0.3333333333333333,\"#9c179e\"],[0.4444444444444444,\"#bd3786\"],[0.5555555555555556,\"#d8576b\"],[0.6666666666666666,\"#ed7953\"],[0.7777777777777778,\"#fb9f3a\"],[0.8888888888888888,\"#fdca26\"],[1.0,\"#f0f921\"]]}],\"heatmapgl\":[{\"type\":\"heatmapgl\",\"colorbar\":{\"outlinewidth\":0,\"ticks\":\"\"},\"colorscale\":[[0.0,\"#0d0887\"],[0.1111111111111111,\"#46039f\"],[0.2222222222222222,\"#7201a8\"],[0.3333333333333333,\"#9c179e\"],[0.4444444444444444,\"#bd3786\"],[0.5555555555555556,\"#d8576b\"],[0.6666666666666666,\"#ed7953\"],[0.7777777777777778,\"#fb9f3a\"],[0.8888888888888888,\"#fdca26\"],[1.0,\"#f0f921\"]]}],\"contourcarpet\":[{\"type\":\"contourcarpet\",\"colorbar\":{\"outlinewidth\":0,\"ticks\":\"\"}}],\"contour\":[{\"type\":\"contour\",\"colorbar\":{\"outlinewidth\":0,\"ticks\":\"\"},\"colorscale\":[[0.0,\"#0d0887\"],[0.1111111111111111,\"#46039f\"],[0.2222222222222222,\"#7201a8\"],[0.3333333333333333,\"#9c179e\"],[0.4444444444444444,\"#bd3786\"],[0.5555555555555556,\"#d8576b\"],[0.6666666666666666,\"#ed7953\"],[0.7777777777777778,\"#fb9f3a\"],[0.8888888888888888,\"#fdca26\"],[1.0,\"#f0f921\"]]}],\"surface\":[{\"type\":\"surface\",\"colorbar\":{\"outlinewidth\":0,\"ticks\":\"\"},\"colorscale\":[[0.0,\"#0d0887\"],[0.1111111111111111,\"#46039f\"],[0.2222222222222222,\"#7201a8\"],[0.3333333333333333,\"#9c179e\"],[0.4444444444444444,\"#bd3786\"],[0.5555555555555556,\"#d8576b\"],[0.6666666666666666,\"#ed7953\"],[0.7777777777777778,\"#fb9f3a\"],[0.8888888888888888,\"#fdca26\"],[1.0,\"#f0f921\"]]}],\"mesh3d\":[{\"type\":\"mesh3d\",\"colorbar\":{\"outlinewidth\":0,\"ticks\":\"\"}}],\"scatter\":[{\"fillpattern\":{\"fillmode\":\"overlay\",\"size\":10,\"solidity\":0.2},\"type\":\"scatter\"}],\"parcoords\":[{\"type\":\"parcoords\",\"line\":{\"colorbar\":{\"outlinewidth\":0,\"ticks\":\"\"}}}],\"scatterpolargl\":[{\"type\":\"scatterpolargl\",\"marker\":{\"colorbar\":{\"outlinewidth\":0,\"ticks\":\"\"}}}],\"bar\":[{\"error_x\":{\"color\":\"#2a3f5f\"},\"error_y\":{\"color\":\"#2a3f5f\"},\"marker\":{\"line\":{\"color\":\"#E5ECF6\",\"width\":0.5},\"pattern\":{\"fillmode\":\"overlay\",\"size\":10,\"solidity\":0.2}},\"type\":\"bar\"}],\"scattergeo\":[{\"type\":\"scattergeo\",\"marker\":{\"colorbar\":{\"outlinewidth\":0,\"ticks\":\"\"}}}],\"scatterpolar\":[{\"type\":\"scatterpolar\",\"marker\":{\"colorbar\":{\"outlinewidth\":0,\"ticks\":\"\"}}}],\"histogram\":[{\"marker\":{\"pattern\":{\"fillmode\":\"overlay\",\"size\":10,\"solidity\":0.2}},\"type\":\"histogram\"}],\"scattergl\":[{\"type\":\"scattergl\",\"marker\":{\"colorbar\":{\"outlinewidth\":0,\"ticks\":\"\"}}}],\"scatter3d\":[{\"type\":\"scatter3d\",\"line\":{\"colorbar\":{\"outlinewidth\":0,\"ticks\":\"\"}},\"marker\":{\"colorbar\":{\"outlinewidth\":0,\"ticks\":\"\"}}}],\"scattermapbox\":[{\"type\":\"scattermapbox\",\"marker\":{\"colorbar\":{\"outlinewidth\":0,\"ticks\":\"\"}}}],\"scatterternary\":[{\"type\":\"scatterternary\",\"marker\":{\"colorbar\":{\"outlinewidth\":0,\"ticks\":\"\"}}}],\"scattercarpet\":[{\"type\":\"scattercarpet\",\"marker\":{\"colorbar\":{\"outlinewidth\":0,\"ticks\":\"\"}}}],\"carpet\":[{\"aaxis\":{\"endlinecolor\":\"#2a3f5f\",\"gridcolor\":\"white\",\"linecolor\":\"white\",\"minorgridcolor\":\"white\",\"startlinecolor\":\"#2a3f5f\"},\"baxis\":{\"endlinecolor\":\"#2a3f5f\",\"gridcolor\":\"white\",\"linecolor\":\"white\",\"minorgridcolor\":\"white\",\"startlinecolor\":\"#2a3f5f\"},\"type\":\"carpet\"}],\"table\":[{\"cells\":{\"fill\":{\"color\":\"#EBF0F8\"},\"line\":{\"color\":\"white\"}},\"header\":{\"fill\":{\"color\":\"#C8D4E3\"},\"line\":{\"color\":\"white\"}},\"type\":\"table\"}],\"barpolar\":[{\"marker\":{\"line\":{\"color\":\"#E5ECF6\",\"width\":0.5},\"pattern\":{\"fillmode\":\"overlay\",\"size\":10,\"solidity\":0.2}},\"type\":\"barpolar\"}],\"pie\":[{\"automargin\":true,\"type\":\"pie\"}]},\"layout\":{\"autotypenumbers\":\"strict\",\"colorway\":[\"#636efa\",\"#EF553B\",\"#00cc96\",\"#ab63fa\",\"#FFA15A\",\"#19d3f3\",\"#FF6692\",\"#B6E880\",\"#FF97FF\",\"#FECB52\"],\"font\":{\"color\":\"#2a3f5f\"},\"hovermode\":\"closest\",\"hoverlabel\":{\"align\":\"left\"},\"paper_bgcolor\":\"white\",\"plot_bgcolor\":\"#E5ECF6\",\"polar\":{\"bgcolor\":\"#E5ECF6\",\"angularaxis\":{\"gridcolor\":\"white\",\"linecolor\":\"white\",\"ticks\":\"\"},\"radialaxis\":{\"gridcolor\":\"white\",\"linecolor\":\"white\",\"ticks\":\"\"}},\"ternary\":{\"bgcolor\":\"#E5ECF6\",\"aaxis\":{\"gridcolor\":\"white\",\"linecolor\":\"white\",\"ticks\":\"\"},\"baxis\":{\"gridcolor\":\"white\",\"linecolor\":\"white\",\"ticks\":\"\"},\"caxis\":{\"gridcolor\":\"white\",\"linecolor\":\"white\",\"ticks\":\"\"}},\"coloraxis\":{\"colorbar\":{\"outlinewidth\":0,\"ticks\":\"\"}},\"colorscale\":{\"sequential\":[[0.0,\"#0d0887\"],[0.1111111111111111,\"#46039f\"],[0.2222222222222222,\"#7201a8\"],[0.3333333333333333,\"#9c179e\"],[0.4444444444444444,\"#bd3786\"],[0.5555555555555556,\"#d8576b\"],[0.6666666666666666,\"#ed7953\"],[0.7777777777777778,\"#fb9f3a\"],[0.8888888888888888,\"#fdca26\"],[1.0,\"#f0f921\"]],\"sequentialminus\":[[0.0,\"#0d0887\"],[0.1111111111111111,\"#46039f\"],[0.2222222222222222,\"#7201a8\"],[0.3333333333333333,\"#9c179e\"],[0.4444444444444444,\"#bd3786\"],[0.5555555555555556,\"#d8576b\"],[0.6666666666666666,\"#ed7953\"],[0.7777777777777778,\"#fb9f3a\"],[0.8888888888888888,\"#fdca26\"],[1.0,\"#f0f921\"]],\"diverging\":[[0,\"#8e0152\"],[0.1,\"#c51b7d\"],[0.2,\"#de77ae\"],[0.3,\"#f1b6da\"],[0.4,\"#fde0ef\"],[0.5,\"#f7f7f7\"],[0.6,\"#e6f5d0\"],[0.7,\"#b8e186\"],[0.8,\"#7fbc41\"],[0.9,\"#4d9221\"],[1,\"#276419\"]]},\"xaxis\":{\"gridcolor\":\"white\",\"linecolor\":\"white\",\"ticks\":\"\",\"title\":{\"standoff\":15},\"zerolinecolor\":\"white\",\"automargin\":true,\"zerolinewidth\":2},\"yaxis\":{\"gridcolor\":\"white\",\"linecolor\":\"white\",\"ticks\":\"\",\"title\":{\"standoff\":15},\"zerolinecolor\":\"white\",\"automargin\":true,\"zerolinewidth\":2},\"scene\":{\"xaxis\":{\"backgroundcolor\":\"#E5ECF6\",\"gridcolor\":\"white\",\"linecolor\":\"white\",\"showbackground\":true,\"ticks\":\"\",\"zerolinecolor\":\"white\",\"gridwidth\":2},\"yaxis\":{\"backgroundcolor\":\"#E5ECF6\",\"gridcolor\":\"white\",\"linecolor\":\"white\",\"showbackground\":true,\"ticks\":\"\",\"zerolinecolor\":\"white\",\"gridwidth\":2},\"zaxis\":{\"backgroundcolor\":\"#E5ECF6\",\"gridcolor\":\"white\",\"linecolor\":\"white\",\"showbackground\":true,\"ticks\":\"\",\"zerolinecolor\":\"white\",\"gridwidth\":2}},\"shapedefaults\":{\"line\":{\"color\":\"#2a3f5f\"}},\"annotationdefaults\":{\"arrowcolor\":\"#2a3f5f\",\"arrowhead\":0,\"arrowwidth\":1},\"geo\":{\"bgcolor\":\"white\",\"landcolor\":\"#E5ECF6\",\"subunitcolor\":\"white\",\"showland\":true,\"showlakes\":true,\"lakecolor\":\"white\"},\"title\":{\"x\":0.05},\"mapbox\":{\"style\":\"light\"}}},\"xaxis\":{\"anchor\":\"y\",\"domain\":[0.0,1.0],\"title\":{\"text\":\"Year Cultured\"}},\"yaxis\":{\"anchor\":\"x\",\"domain\":[0.0,1.0],\"title\":{\"text\":\"Proportion of plasmids\"}},\"legend\":{\"title\":{\"text\":\"Predicted Mobility\"},\"tracegroupgap\":0},\"title\":{\"text\":\"All E. Coli Plasmids\"},\"barmode\":\"relative\"},                        {\"responsive\": true}                    ).then(function(){\n",
       "                            \n",
       "var gd = document.getElementById('088cb16e-a59f-4a58-921e-b798ca592545');\n",
       "var x = new MutationObserver(function (mutations, observer) {{\n",
       "        var display = window.getComputedStyle(gd).display;\n",
       "        if (!display || display === 'none') {{\n",
       "            console.log([gd, 'removed!']);\n",
       "            Plotly.purge(gd);\n",
       "            observer.disconnect();\n",
       "        }}\n",
       "}});\n",
       "\n",
       "// Listen for the removal of the full notebook cells\n",
       "var notebookContainer = gd.closest('#notebook-container');\n",
       "if (notebookContainer) {{\n",
       "    x.observe(notebookContainer, {childList: true});\n",
       "}}\n",
       "\n",
       "// Listen for the clearing of the current output cell\n",
       "var outputEl = gd.closest('.output');\n",
       "if (outputEl) {{\n",
       "    x.observe(outputEl, {childList: true});\n",
       "}}\n",
       "\n",
       "                        })                };                });            </script>        </div>"
      ]
     },
     "metadata": {},
     "output_type": "display_data"
    }
   ],
   "source": [
    "mob_rgi = merged_mob.loc[merged_mob[0].isin(ecoli_mlplasmid_out['Contig'])].copy()\n",
    "px.bar(\n",
    "    mob_rgi,\n",
    "    x=\"Year\",\n",
    "    y=mob_rgi['Year'].map((1/mob_rgi['Year'].value_counts()).to_dict()),\n",
    "    labels={\"Year\": \"Year Cultured\", 'predicted_mobility_x': \"Predicted Mobility\", 'y': 'Proportion of plasmids'},\n",
    "    title=\"All E. Coli Plasmids\",\n",
    "    # hover_data=[\"Accession_Number\", \"Resistance Mechanism\", \"Best_Hit_ARO\", \"Drug Class\", \"AMR Gene Family\", 'Contig', 'Strain'],\n",
    "    # color='Best_Hit_ARO',\n",
    "    color='predicted_mobility_x'\n",
    ")"
   ]
  },
  {
   "cell_type": "code",
   "execution_count": 13,
   "id": "96d521e6-0658-481b-8623-0cba4c0da15d",
   "metadata": {},
   "outputs": [
    {
     "data": {
      "application/vnd.plotly.v1+json": {
       "config": {
        "plotlyServerURL": "https://plot.ly"
       },
       "data": [
        {
         "alignmentgroup": "True",
         "hovertemplate": "rep_type(s)_x=IncFIA,IncFIB<br>Year Cultured=%{x}<br>Proportion of plasmids=%{y}<extra></extra>",
         "legendgroup": "IncFIA,IncFIB",
         "marker": {
          "color": "#636efa",
          "pattern": {
           "shape": ""
          }
         },
         "name": "IncFIA,IncFIB",
         "offsetgroup": "IncFIA,IncFIB",
         "orientation": "v",
         "showlegend": true,
         "textposition": "auto",
         "type": "bar",
         "x": [
          1960,
          1949,
          1947,
          1949,
          1955,
          1955,
          1955,
          1965,
          1952,
          1982,
          1952,
          1952,
          1952,
          1949,
          1956,
          1952
         ],
         "xaxis": "x",
         "y": [
          0.5,
          0.07692307692307693,
          0.3333333333333333,
          0.07692307692307693,
          0.06666666666666667,
          0.06666666666666667,
          0.06666666666666667,
          0.5,
          0.01818181818181818,
          0.5,
          0.01818181818181818,
          0.01818181818181818,
          0.01818181818181818,
          0.07692307692307693,
          0.5,
          0.01818181818181818
         ],
         "yaxis": "y"
        },
        {
         "alignmentgroup": "True",
         "hovertemplate": "rep_type(s)_x=IncFIA,IncFIA,IncFIB<br>Year Cultured=%{x}<br>Proportion of plasmids=%{y}<extra></extra>",
         "legendgroup": "IncFIA,IncFIA,IncFIB",
         "marker": {
          "color": "#EF553B",
          "pattern": {
           "shape": ""
          }
         },
         "name": "IncFIA,IncFIA,IncFIB",
         "offsetgroup": "IncFIA,IncFIA,IncFIB",
         "orientation": "v",
         "showlegend": true,
         "textposition": "auto",
         "type": "bar",
         "x": [
          1950,
          1952,
          1952,
          1949,
          1949,
          1952
         ],
         "xaxis": "x",
         "y": [
          1,
          0.01818181818181818,
          0.01818181818181818,
          0.07692307692307693,
          0.07692307692307693,
          0.01818181818181818
         ],
         "yaxis": "y"
        },
        {
         "alignmentgroup": "True",
         "hovertemplate": "rep_type(s)_x=rep_cluster_2350<br>Year Cultured=%{x}<br>Proportion of plasmids=%{y}<extra></extra>",
         "legendgroup": "rep_cluster_2350",
         "marker": {
          "color": "#00cc96",
          "pattern": {
           "shape": ""
          }
         },
         "name": "rep_cluster_2350",
         "offsetgroup": "rep_cluster_2350",
         "orientation": "v",
         "showlegend": true,
         "textposition": "auto",
         "type": "bar",
         "x": [
          1960,
          1971,
          1992,
          1992,
          1988,
          1949,
          1952,
          1931,
          1944,
          1952,
          1955,
          1949,
          1949,
          1949,
          1952,
          1952,
          1976,
          1952,
          1952,
          1952
         ],
         "xaxis": "x",
         "y": [
          0.5,
          0.2,
          0.5,
          0.5,
          0.5,
          0.07692307692307693,
          0.01818181818181818,
          0.16666666666666666,
          0.5,
          0.01818181818181818,
          0.06666666666666667,
          0.07692307692307693,
          0.07692307692307693,
          0.07692307692307693,
          0.01818181818181818,
          0.01818181818181818,
          0.1,
          0.01818181818181818,
          0.01818181818181818,
          0.01818181818181818
         ],
         "yaxis": "y"
        },
        {
         "alignmentgroup": "True",
         "hovertemplate": "rep_type(s)_x=IncI-gamma/K1<br>Year Cultured=%{x}<br>Proportion of plasmids=%{y}<extra></extra>",
         "legendgroup": "IncI-gamma/K1",
         "marker": {
          "color": "#ab63fa",
          "pattern": {
           "shape": ""
          }
         },
         "name": "IncI-gamma/K1",
         "offsetgroup": "IncI-gamma/K1",
         "orientation": "v",
         "showlegend": true,
         "textposition": "auto",
         "type": "bar",
         "x": [
          1962,
          1969,
          1958,
          2006,
          2006,
          1920,
          1930,
          1937,
          1938,
          1940,
          1940,
          1941,
          1942,
          1947,
          1949,
          1952,
          1953,
          1952,
          1952,
          1952,
          1952,
          1952,
          1955,
          1955,
          1954,
          1995
         ],
         "xaxis": "x",
         "y": [
          0.5,
          0.25,
          0.3333333333333333,
          0.3333333333333333,
          0.3333333333333333,
          1,
          1,
          1,
          1,
          0.3333333333333333,
          0.3333333333333333,
          1,
          1,
          0.3333333333333333,
          0.07692307692307693,
          0.01818181818181818,
          0.25,
          0.01818181818181818,
          0.01818181818181818,
          0.01818181818181818,
          0.01818181818181818,
          0.01818181818181818,
          0.06666666666666667,
          0.06666666666666667,
          0.5,
          0.2
         ],
         "yaxis": "y"
        },
        {
         "alignmentgroup": "True",
         "hovertemplate": "rep_type(s)_x=IncI1/B/O<br>Year Cultured=%{x}<br>Proportion of plasmids=%{y}<extra></extra>",
         "legendgroup": "IncI1/B/O",
         "marker": {
          "color": "#FFA15A",
          "pattern": {
           "shape": ""
          }
         },
         "name": "IncI1/B/O",
         "offsetgroup": "IncI1/B/O",
         "orientation": "v",
         "showlegend": true,
         "textposition": "auto",
         "type": "bar",
         "x": [
          1991,
          1995,
          2009,
          1952,
          1952,
          1955,
          1952
         ],
         "xaxis": "x",
         "y": [
          1,
          0.2,
          1,
          0.01818181818181818,
          0.01818181818181818,
          0.06666666666666667,
          0.01818181818181818
         ],
         "yaxis": "y"
        },
        {
         "alignmentgroup": "True",
         "hovertemplate": "rep_type(s)_x=IncK2/Z<br>Year Cultured=%{x}<br>Proportion of plasmids=%{y}<extra></extra>",
         "legendgroup": "IncK2/Z",
         "marker": {
          "color": "#19d3f3",
          "pattern": {
           "shape": ""
          }
         },
         "name": "IncK2/Z",
         "offsetgroup": "IncK2/Z",
         "orientation": "v",
         "showlegend": true,
         "textposition": "auto",
         "type": "bar",
         "x": [
          2003,
          1952,
          1952,
          1952,
          1952,
          1952
         ],
         "xaxis": "x",
         "y": [
          0.3333333333333333,
          0.01818181818181818,
          0.01818181818181818,
          0.01818181818181818,
          0.01818181818181818,
          0.01818181818181818
         ],
         "yaxis": "y"
        },
        {
         "alignmentgroup": "True",
         "hovertemplate": "rep_type(s)_x=-<br>Year Cultured=%{x}<br>Proportion of plasmids=%{y}<extra></extra>",
         "legendgroup": "-",
         "marker": {
          "color": "#FF6692",
          "pattern": {
           "shape": ""
          }
         },
         "name": "-",
         "offsetgroup": "-",
         "orientation": "v",
         "showlegend": true,
         "textposition": "auto",
         "type": "bar",
         "x": [
          1962,
          1971,
          2003,
          1940,
          1965,
          1964,
          1955,
          1931,
          1955
         ],
         "xaxis": "x",
         "y": [
          0.5,
          0.2,
          0.3333333333333333,
          0.3333333333333333,
          0.5,
          0.5,
          0.06666666666666667,
          0.16666666666666666,
          0.06666666666666667
         ],
         "yaxis": "y"
        },
        {
         "alignmentgroup": "True",
         "hovertemplate": "rep_type(s)_x=IncFIB,IncFII,rep_cluster_2183<br>Year Cultured=%{x}<br>Proportion of plasmids=%{y}<extra></extra>",
         "legendgroup": "IncFIB,IncFII,rep_cluster_2183",
         "marker": {
          "color": "#B6E880",
          "pattern": {
           "shape": ""
          }
         },
         "name": "IncFIB,IncFII,rep_cluster_2183",
         "offsetgroup": "IncFIB,IncFII,rep_cluster_2183",
         "orientation": "v",
         "showlegend": true,
         "textposition": "auto",
         "type": "bar",
         "x": [
          1953
         ],
         "xaxis": "x",
         "y": [
          0.25
         ],
         "yaxis": "y"
        },
        {
         "alignmentgroup": "True",
         "hovertemplate": "rep_type(s)_x=IncFIA,IncFIB,IncFIC,rep_cluster_2131,IncFIA,IncFIC<br>Year Cultured=%{x}<br>Proportion of plasmids=%{y}<extra></extra>",
         "legendgroup": "IncFIA,IncFIB,IncFIC,rep_cluster_2131,IncFIA,IncFIC",
         "marker": {
          "color": "#FF97FF",
          "pattern": {
           "shape": ""
          }
         },
         "name": "IncFIA,IncFIB,IncFIC,rep_cluster_2131,IncFIA,IncFIC",
         "offsetgroup": "IncFIA,IncFIB,IncFIC,rep_cluster_2131,IncFIA,IncFIC",
         "orientation": "v",
         "showlegend": true,
         "textposition": "auto",
         "type": "bar",
         "x": [
          1957
         ],
         "xaxis": "x",
         "y": [
          0.3333333333333333
         ],
         "yaxis": "y"
        },
        {
         "alignmentgroup": "True",
         "hovertemplate": "rep_type(s)_x=IncFIA,IncFIB,IncFIC,rep_cluster_2131<br>Year Cultured=%{x}<br>Proportion of plasmids=%{y}<extra></extra>",
         "legendgroup": "IncFIA,IncFIB,IncFIC,rep_cluster_2131",
         "marker": {
          "color": "#FECB52",
          "pattern": {
           "shape": ""
          }
         },
         "name": "IncFIA,IncFIB,IncFIC,rep_cluster_2131",
         "offsetgroup": "IncFIA,IncFIB,IncFIC,rep_cluster_2131",
         "orientation": "v",
         "showlegend": true,
         "textposition": "auto",
         "type": "bar",
         "x": [
          1971,
          1932,
          1944,
          1952
         ],
         "xaxis": "x",
         "y": [
          0.2,
          0.5,
          0.5,
          0.01818181818181818
         ],
         "yaxis": "y"
        },
        {
         "alignmentgroup": "True",
         "hovertemplate": "rep_type(s)_x=IncFIA,IncFIB,rep_cluster_2131<br>Year Cultured=%{x}<br>Proportion of plasmids=%{y}<extra></extra>",
         "legendgroup": "IncFIA,IncFIB,rep_cluster_2131",
         "marker": {
          "color": "#636efa",
          "pattern": {
           "shape": ""
          }
         },
         "name": "IncFIA,IncFIB,rep_cluster_2131",
         "offsetgroup": "IncFIA,IncFIB,rep_cluster_2131",
         "orientation": "v",
         "showlegend": true,
         "textposition": "auto",
         "type": "bar",
         "x": [
          1931,
          1931,
          1952,
          1955
         ],
         "xaxis": "x",
         "y": [
          0.16666666666666666,
          0.16666666666666666,
          0.01818181818181818,
          0.06666666666666667
         ],
         "yaxis": "y"
        },
        {
         "alignmentgroup": "True",
         "hovertemplate": "rep_type(s)_x=IncFIA,IncFIB,IncFII,rep_cluster_2131<br>Year Cultured=%{x}<br>Proportion of plasmids=%{y}<extra></extra>",
         "legendgroup": "IncFIA,IncFIB,IncFII,rep_cluster_2131",
         "marker": {
          "color": "#EF553B",
          "pattern": {
           "shape": ""
          }
         },
         "name": "IncFIA,IncFIB,IncFII,rep_cluster_2131",
         "offsetgroup": "IncFIA,IncFIB,IncFII,rep_cluster_2131",
         "orientation": "v",
         "showlegend": true,
         "textposition": "auto",
         "type": "bar",
         "x": [
          1976
         ],
         "xaxis": "x",
         "y": [
          0.1
         ],
         "yaxis": "y"
        },
        {
         "alignmentgroup": "True",
         "hovertemplate": "rep_type(s)_x=IncFIA,IncFIA,IncFIB,IncFIC,rep_cluster_2131<br>Year Cultured=%{x}<br>Proportion of plasmids=%{y}<extra></extra>",
         "legendgroup": "IncFIA,IncFIA,IncFIB,IncFIC,rep_cluster_2131",
         "marker": {
          "color": "#00cc96",
          "pattern": {
           "shape": ""
          }
         },
         "name": "IncFIA,IncFIA,IncFIB,IncFIC,rep_cluster_2131",
         "offsetgroup": "IncFIA,IncFIA,IncFIB,IncFIC,rep_cluster_2131",
         "orientation": "v",
         "showlegend": true,
         "textposition": "auto",
         "type": "bar",
         "x": [
          1955
         ],
         "xaxis": "x",
         "y": [
          0.06666666666666667
         ],
         "yaxis": "y"
        },
        {
         "alignmentgroup": "True",
         "hovertemplate": "rep_type(s)_x=IncFIA,IncFIB,IncFIC<br>Year Cultured=%{x}<br>Proportion of plasmids=%{y}<extra></extra>",
         "legendgroup": "IncFIA,IncFIB,IncFIC",
         "marker": {
          "color": "#ab63fa",
          "pattern": {
           "shape": ""
          }
         },
         "name": "IncFIA,IncFIB,IncFIC",
         "offsetgroup": "IncFIA,IncFIB,IncFIC",
         "orientation": "v",
         "showlegend": true,
         "textposition": "auto",
         "type": "bar",
         "x": [
          1966,
          1957,
          1958,
          1952,
          1952
         ],
         "xaxis": "x",
         "y": [
          0.5,
          0.3333333333333333,
          0.3333333333333333,
          0.01818181818181818,
          0.01818181818181818
         ],
         "yaxis": "y"
        },
        {
         "alignmentgroup": "True",
         "hovertemplate": "rep_type(s)_x=IncFIA,IncFIB,IncFIC,rep_cluster_2244<br>Year Cultured=%{x}<br>Proportion of plasmids=%{y}<extra></extra>",
         "legendgroup": "IncFIA,IncFIB,IncFIC,rep_cluster_2244",
         "marker": {
          "color": "#FFA15A",
          "pattern": {
           "shape": ""
          }
         },
         "name": "IncFIA,IncFIB,IncFIC,rep_cluster_2244",
         "offsetgroup": "IncFIA,IncFIB,IncFIC,rep_cluster_2244",
         "orientation": "v",
         "showlegend": true,
         "textposition": "auto",
         "type": "bar",
         "x": [
          1976,
          1952,
          1952
         ],
         "xaxis": "x",
         "y": [
          0.1,
          0.01818181818181818,
          0.01818181818181818
         ],
         "yaxis": "y"
        },
        {
         "alignmentgroup": "True",
         "hovertemplate": "rep_type(s)_x=IncFIB,IncFIC,IncI1<br>Year Cultured=%{x}<br>Proportion of plasmids=%{y}<extra></extra>",
         "legendgroup": "IncFIB,IncFIC,IncI1",
         "marker": {
          "color": "#19d3f3",
          "pattern": {
           "shape": ""
          }
         },
         "name": "IncFIB,IncFIC,IncI1",
         "offsetgroup": "IncFIB,IncFIC,IncI1",
         "orientation": "v",
         "showlegend": true,
         "textposition": "auto",
         "type": "bar",
         "x": [
          1955,
          1969,
          1964
         ],
         "xaxis": "x",
         "y": [
          0.06666666666666667,
          0.25,
          0.5
         ],
         "yaxis": "y"
        },
        {
         "alignmentgroup": "True",
         "hovertemplate": "rep_type(s)_x=IncFIA,IncFIA,IncFIB,IncFIB<br>Year Cultured=%{x}<br>Proportion of plasmids=%{y}<extra></extra>",
         "legendgroup": "IncFIA,IncFIA,IncFIB,IncFIB",
         "marker": {
          "color": "#FF6692",
          "pattern": {
           "shape": ""
          }
         },
         "name": "IncFIA,IncFIA,IncFIB,IncFIB",
         "offsetgroup": "IncFIA,IncFIA,IncFIB,IncFIB",
         "orientation": "v",
         "showlegend": true,
         "textposition": "auto",
         "type": "bar",
         "x": [
          1957
         ],
         "xaxis": "x",
         "y": [
          0.3333333333333333
         ],
         "yaxis": "y"
        },
        {
         "alignmentgroup": "True",
         "hovertemplate": "rep_type(s)_x=IncN<br>Year Cultured=%{x}<br>Proportion of plasmids=%{y}<extra></extra>",
         "legendgroup": "IncN",
         "marker": {
          "color": "#B6E880",
          "pattern": {
           "shape": ""
          }
         },
         "name": "IncN",
         "offsetgroup": "IncN",
         "orientation": "v",
         "showlegend": true,
         "textposition": "auto",
         "type": "bar",
         "x": [
          1969,
          1987,
          1988
         ],
         "xaxis": "x",
         "y": [
          0.25,
          1,
          0.5
         ],
         "yaxis": "y"
        },
        {
         "alignmentgroup": "True",
         "hovertemplate": "rep_type(s)_x=IncFIA<br>Year Cultured=%{x}<br>Proportion of plasmids=%{y}<extra></extra>",
         "legendgroup": "IncFIA",
         "marker": {
          "color": "#FF97FF",
          "pattern": {
           "shape": ""
          }
         },
         "name": "IncFIA",
         "offsetgroup": "IncFIA",
         "orientation": "v",
         "showlegend": true,
         "textposition": "auto",
         "type": "bar",
         "x": [
          1969,
          1966,
          1949,
          1978,
          1978,
          1949,
          1952,
          1952,
          1932,
          1952,
          1945,
          1952
         ],
         "xaxis": "x",
         "y": [
          0.25,
          0.5,
          0.07692307692307693,
          0.5,
          0.5,
          0.07692307692307693,
          0.01818181818181818,
          0.01818181818181818,
          0.5,
          0.01818181818181818,
          1,
          0.01818181818181818
         ],
         "yaxis": "y"
        },
        {
         "alignmentgroup": "True",
         "hovertemplate": "rep_type(s)_x=IncX4<br>Year Cultured=%{x}<br>Proportion of plasmids=%{y}<extra></extra>",
         "legendgroup": "IncX4",
         "marker": {
          "color": "#FECB52",
          "pattern": {
           "shape": ""
          }
         },
         "name": "IncX4",
         "offsetgroup": "IncX4",
         "orientation": "v",
         "showlegend": true,
         "textposition": "auto",
         "type": "bar",
         "x": [
          1995
         ],
         "xaxis": "x",
         "y": [
          0.2
         ],
         "yaxis": "y"
        },
        {
         "alignmentgroup": "True",
         "hovertemplate": "rep_type(s)_x=IncFIA,IncFIC<br>Year Cultured=%{x}<br>Proportion of plasmids=%{y}<extra></extra>",
         "legendgroup": "IncFIA,IncFIC",
         "marker": {
          "color": "#636efa",
          "pattern": {
           "shape": ""
          }
         },
         "name": "IncFIA,IncFIC",
         "offsetgroup": "IncFIA,IncFIC",
         "orientation": "v",
         "showlegend": true,
         "textposition": "auto",
         "type": "bar",
         "x": [
          1958,
          1955,
          1971
         ],
         "xaxis": "x",
         "y": [
          0.3333333333333333,
          0.06666666666666667,
          0.2
         ],
         "yaxis": "y"
        },
        {
         "alignmentgroup": "True",
         "hovertemplate": "rep_type(s)_x=IncFIA,IncFII<br>Year Cultured=%{x}<br>Proportion of plasmids=%{y}<extra></extra>",
         "legendgroup": "IncFIA,IncFII",
         "marker": {
          "color": "#EF553B",
          "pattern": {
           "shape": ""
          }
         },
         "name": "IncFIA,IncFII",
         "offsetgroup": "IncFIA,IncFII",
         "orientation": "v",
         "showlegend": true,
         "textposition": "auto",
         "type": "bar",
         "x": [
          1976,
          1951,
          1976,
          2016,
          1952
         ],
         "xaxis": "x",
         "y": [
          0.1,
          1,
          0.1,
          0.5,
          0.01818181818181818
         ],
         "yaxis": "y"
        },
        {
         "alignmentgroup": "True",
         "hovertemplate": "rep_type(s)_x=IncHI2A,rep_cluster_1088<br>Year Cultured=%{x}<br>Proportion of plasmids=%{y}<extra></extra>",
         "legendgroup": "IncHI2A,rep_cluster_1088",
         "marker": {
          "color": "#00cc96",
          "pattern": {
           "shape": ""
          }
         },
         "name": "IncHI2A,rep_cluster_1088",
         "offsetgroup": "IncHI2A,rep_cluster_1088",
         "orientation": "v",
         "showlegend": true,
         "textposition": "auto",
         "type": "bar",
         "x": [
          1971,
          2006,
          1952
         ],
         "xaxis": "x",
         "y": [
          0.2,
          0.3333333333333333,
          0.01818181818181818
         ],
         "yaxis": "y"
        },
        {
         "alignmentgroup": "True",
         "hovertemplate": "rep_type(s)_x=IncHI2A,rep_cluster_1088,IncI2<br>Year Cultured=%{x}<br>Proportion of plasmids=%{y}<extra></extra>",
         "legendgroup": "IncHI2A,rep_cluster_1088,IncI2",
         "marker": {
          "color": "#ab63fa",
          "pattern": {
           "shape": ""
          }
         },
         "name": "IncHI2A,rep_cluster_1088,IncI2",
         "offsetgroup": "IncHI2A,rep_cluster_1088,IncI2",
         "orientation": "v",
         "showlegend": true,
         "textposition": "auto",
         "type": "bar",
         "x": [
          2013
         ],
         "xaxis": "x",
         "y": [
          1
         ],
         "yaxis": "y"
        },
        {
         "alignmentgroup": "True",
         "hovertemplate": "rep_type(s)_x=rep_cluster_2335<br>Year Cultured=%{x}<br>Proportion of plasmids=%{y}<extra></extra>",
         "legendgroup": "rep_cluster_2335",
         "marker": {
          "color": "#FFA15A",
          "pattern": {
           "shape": ""
          }
         },
         "name": "rep_cluster_2335",
         "offsetgroup": "rep_cluster_2335",
         "orientation": "v",
         "showlegend": true,
         "textposition": "auto",
         "type": "bar",
         "x": [
          1973
         ],
         "xaxis": "x",
         "y": [
          1
         ],
         "yaxis": "y"
        },
        {
         "alignmentgroup": "True",
         "hovertemplate": "rep_type(s)_x=IncFIA,IncFIB,IncFIA,IncFIC<br>Year Cultured=%{x}<br>Proportion of plasmids=%{y}<extra></extra>",
         "legendgroup": "IncFIA,IncFIB,IncFIA,IncFIC",
         "marker": {
          "color": "#19d3f3",
          "pattern": {
           "shape": ""
          }
         },
         "name": "IncFIA,IncFIB,IncFIA,IncFIC",
         "offsetgroup": "IncFIA,IncFIB,IncFIA,IncFIC",
         "orientation": "v",
         "showlegend": true,
         "textposition": "auto",
         "type": "bar",
         "x": [
          1982
         ],
         "xaxis": "x",
         "y": [
          0.5
         ],
         "yaxis": "y"
        },
        {
         "alignmentgroup": "True",
         "hovertemplate": "rep_type(s)_x=IncFIA,IncFIB,IncFII<br>Year Cultured=%{x}<br>Proportion of plasmids=%{y}<extra></extra>",
         "legendgroup": "IncFIA,IncFIB,IncFII",
         "marker": {
          "color": "#FF6692",
          "pattern": {
           "shape": ""
          }
         },
         "name": "IncFIA,IncFIB,IncFII",
         "offsetgroup": "IncFIA,IncFIB,IncFII",
         "orientation": "v",
         "showlegend": true,
         "textposition": "auto",
         "type": "bar",
         "x": [
          1995,
          1994,
          1931
         ],
         "xaxis": "x",
         "y": [
          0.2,
          1,
          0.16666666666666666
         ],
         "yaxis": "y"
        },
        {
         "alignmentgroup": "True",
         "hovertemplate": "rep_type(s)_x=IncFIA,IncFIB,IncFIB<br>Year Cultured=%{x}<br>Proportion of plasmids=%{y}<extra></extra>",
         "legendgroup": "IncFIA,IncFIB,IncFIB",
         "marker": {
          "color": "#B6E880",
          "pattern": {
           "shape": ""
          }
         },
         "name": "IncFIA,IncFIB,IncFIB",
         "offsetgroup": "IncFIA,IncFIB,IncFIB",
         "orientation": "v",
         "showlegend": true,
         "textposition": "auto",
         "type": "bar",
         "x": [
          1995
         ],
         "xaxis": "x",
         "y": [
          0.2
         ],
         "yaxis": "y"
        },
        {
         "alignmentgroup": "True",
         "hovertemplate": "rep_type(s)_x=IncL/M<br>Year Cultured=%{x}<br>Proportion of plasmids=%{y}<extra></extra>",
         "legendgroup": "IncL/M",
         "marker": {
          "color": "#FF97FF",
          "pattern": {
           "shape": ""
          }
         },
         "name": "IncL/M",
         "offsetgroup": "IncL/M",
         "orientation": "v",
         "showlegend": true,
         "textposition": "auto",
         "type": "bar",
         "x": [
          1985,
          2008
         ],
         "xaxis": "x",
         "y": [
          1,
          1
         ],
         "yaxis": "y"
        },
        {
         "alignmentgroup": "True",
         "hovertemplate": "rep_type(s)_x=rep_cluster_2131<br>Year Cultured=%{x}<br>Proportion of plasmids=%{y}<extra></extra>",
         "legendgroup": "rep_cluster_2131",
         "marker": {
          "color": "#FECB52",
          "pattern": {
           "shape": ""
          }
         },
         "name": "rep_cluster_2131",
         "offsetgroup": "rep_cluster_2131",
         "orientation": "v",
         "showlegend": true,
         "textposition": "auto",
         "type": "bar",
         "x": [
          2003,
          1952
         ],
         "xaxis": "x",
         "y": [
          0.3333333333333333,
          0.01818181818181818
         ],
         "yaxis": "y"
        },
        {
         "alignmentgroup": "True",
         "hovertemplate": "rep_type(s)_x=Col156<br>Year Cultured=%{x}<br>Proportion of plasmids=%{y}<extra></extra>",
         "legendgroup": "Col156",
         "marker": {
          "color": "#636efa",
          "pattern": {
           "shape": ""
          }
         },
         "name": "Col156",
         "offsetgroup": "Col156",
         "orientation": "v",
         "showlegend": true,
         "textposition": "auto",
         "type": "bar",
         "x": [
          1976,
          1952,
          1952,
          1955,
          1955
         ],
         "xaxis": "x",
         "y": [
          0.1,
          0.01818181818181818,
          0.01818181818181818,
          0.06666666666666667,
          0.06666666666666667
         ],
         "yaxis": "y"
        },
        {
         "alignmentgroup": "True",
         "hovertemplate": "rep_type(s)_x=IncQ2<br>Year Cultured=%{x}<br>Proportion of plasmids=%{y}<extra></extra>",
         "legendgroup": "IncQ2",
         "marker": {
          "color": "#EF553B",
          "pattern": {
           "shape": ""
          }
         },
         "name": "IncQ2",
         "offsetgroup": "IncQ2",
         "orientation": "v",
         "showlegend": true,
         "textposition": "auto",
         "type": "bar",
         "x": [
          2016
         ],
         "xaxis": "x",
         "y": [
          0.5
         ],
         "yaxis": "y"
        },
        {
         "alignmentgroup": "True",
         "hovertemplate": "rep_type(s)_x=IncX1<br>Year Cultured=%{x}<br>Proportion of plasmids=%{y}<extra></extra>",
         "legendgroup": "IncX1",
         "marker": {
          "color": "#00cc96",
          "pattern": {
           "shape": ""
          }
         },
         "name": "IncX1",
         "offsetgroup": "IncX1",
         "orientation": "v",
         "showlegend": true,
         "textposition": "auto",
         "type": "bar",
         "x": [
          1931,
          1976
         ],
         "xaxis": "x",
         "y": [
          0.16666666666666666,
          0.1
         ],
         "yaxis": "y"
        },
        {
         "alignmentgroup": "True",
         "hovertemplate": "rep_type(s)_x=IncFIB,IncFII,IncI1<br>Year Cultured=%{x}<br>Proportion of plasmids=%{y}<extra></extra>",
         "legendgroup": "IncFIB,IncFII,IncI1",
         "marker": {
          "color": "#ab63fa",
          "pattern": {
           "shape": ""
          }
         },
         "name": "IncFIB,IncFII,IncI1",
         "offsetgroup": "IncFIB,IncFII,IncI1",
         "orientation": "v",
         "showlegend": true,
         "textposition": "auto",
         "type": "bar",
         "x": [
          1947
         ],
         "xaxis": "x",
         "y": [
          0.3333333333333333
         ],
         "yaxis": "y"
        },
        {
         "alignmentgroup": "True",
         "hovertemplate": "rep_type(s)_x=IncFII,IncI-gamma/K1<br>Year Cultured=%{x}<br>Proportion of plasmids=%{y}<extra></extra>",
         "legendgroup": "IncFII,IncI-gamma/K1",
         "marker": {
          "color": "#FFA15A",
          "pattern": {
           "shape": ""
          }
         },
         "name": "IncFII,IncI-gamma/K1",
         "offsetgroup": "IncFII,IncI-gamma/K1",
         "orientation": "v",
         "showlegend": true,
         "textposition": "auto",
         "type": "bar",
         "x": [
          1949
         ],
         "xaxis": "x",
         "y": [
          0.07692307692307693
         ],
         "yaxis": "y"
        },
        {
         "alignmentgroup": "True",
         "hovertemplate": "rep_type(s)_x=rep_cluster_2350,rep_cluster_2350,rep_cluster_2370<br>Year Cultured=%{x}<br>Proportion of plasmids=%{y}<extra></extra>",
         "legendgroup": "rep_cluster_2350,rep_cluster_2350,rep_cluster_2370",
         "marker": {
          "color": "#19d3f3",
          "pattern": {
           "shape": ""
          }
         },
         "name": "rep_cluster_2350,rep_cluster_2350,rep_cluster_2370",
         "offsetgroup": "rep_cluster_2350,rep_cluster_2350,rep_cluster_2370",
         "orientation": "v",
         "showlegend": true,
         "textposition": "auto",
         "type": "bar",
         "x": [
          1956
         ],
         "xaxis": "x",
         "y": [
          0.5
         ],
         "yaxis": "y"
        },
        {
         "alignmentgroup": "True",
         "hovertemplate": "rep_type(s)_x=IncFIB,IncI-gamma/K1<br>Year Cultured=%{x}<br>Proportion of plasmids=%{y}<extra></extra>",
         "legendgroup": "IncFIB,IncI-gamma/K1",
         "marker": {
          "color": "#FF6692",
          "pattern": {
           "shape": ""
          }
         },
         "name": "IncFIB,IncI-gamma/K1",
         "offsetgroup": "IncFIB,IncI-gamma/K1",
         "orientation": "v",
         "showlegend": true,
         "textposition": "auto",
         "type": "bar",
         "x": [
          1953,
          1952
         ],
         "xaxis": "x",
         "y": [
          0.25,
          0.01818181818181818
         ],
         "yaxis": "y"
        },
        {
         "alignmentgroup": "True",
         "hovertemplate": "rep_type(s)_x=IncFIB,rep_cluster_2244<br>Year Cultured=%{x}<br>Proportion of plasmids=%{y}<extra></extra>",
         "legendgroup": "IncFIB,rep_cluster_2244",
         "marker": {
          "color": "#B6E880",
          "pattern": {
           "shape": ""
          }
         },
         "name": "IncFIB,rep_cluster_2244",
         "offsetgroup": "IncFIB,rep_cluster_2244",
         "orientation": "v",
         "showlegend": true,
         "textposition": "auto",
         "type": "bar",
         "x": [
          1953,
          1946,
          1952,
          1952,
          1954
         ],
         "xaxis": "x",
         "y": [
          0.25,
          1,
          0.01818181818181818,
          0.01818181818181818,
          0.5
         ],
         "yaxis": "y"
        },
        {
         "alignmentgroup": "True",
         "hovertemplate": "rep_type(s)_x=IncFIA,IncFIB,rep_cluster_2244<br>Year Cultured=%{x}<br>Proportion of plasmids=%{y}<extra></extra>",
         "legendgroup": "IncFIA,IncFIB,rep_cluster_2244",
         "marker": {
          "color": "#FF97FF",
          "pattern": {
           "shape": ""
          }
         },
         "name": "IncFIA,IncFIB,rep_cluster_2244",
         "offsetgroup": "IncFIA,IncFIB,rep_cluster_2244",
         "orientation": "v",
         "showlegend": true,
         "textposition": "auto",
         "type": "bar",
         "x": [
          1976
         ],
         "xaxis": "x",
         "y": [
          0.1
         ],
         "yaxis": "y"
        },
        {
         "alignmentgroup": "True",
         "hovertemplate": "rep_type(s)_x=IncFIB<br>Year Cultured=%{x}<br>Proportion of plasmids=%{y}<extra></extra>",
         "legendgroup": "IncFIB",
         "marker": {
          "color": "#FECB52",
          "pattern": {
           "shape": ""
          }
         },
         "name": "IncFIB",
         "offsetgroup": "IncFIB",
         "orientation": "v",
         "showlegend": true,
         "textposition": "auto",
         "type": "bar",
         "x": [
          1952
         ],
         "xaxis": "x",
         "y": [
          0.01818181818181818
         ],
         "yaxis": "y"
        },
        {
         "alignmentgroup": "True",
         "hovertemplate": "rep_type(s)_x=IncFIB,IncFIC,rep_cluster_2244<br>Year Cultured=%{x}<br>Proportion of plasmids=%{y}<extra></extra>",
         "legendgroup": "IncFIB,IncFIC,rep_cluster_2244",
         "marker": {
          "color": "#636efa",
          "pattern": {
           "shape": ""
          }
         },
         "name": "IncFIB,IncFIC,rep_cluster_2244",
         "offsetgroup": "IncFIB,IncFIC,rep_cluster_2244",
         "orientation": "v",
         "showlegend": true,
         "textposition": "auto",
         "type": "bar",
         "x": [
          1952,
          1976,
          1952,
          1976
         ],
         "xaxis": "x",
         "y": [
          0.01818181818181818,
          0.1,
          0.01818181818181818,
          0.1
         ],
         "yaxis": "y"
        },
        {
         "alignmentgroup": "True",
         "hovertemplate": "rep_type(s)_x=IncFIA,IncFIB,IncFIC,IncFII<br>Year Cultured=%{x}<br>Proportion of plasmids=%{y}<extra></extra>",
         "legendgroup": "IncFIA,IncFIB,IncFIC,IncFII",
         "marker": {
          "color": "#EF553B",
          "pattern": {
           "shape": ""
          }
         },
         "name": "IncFIA,IncFIB,IncFIC,IncFII",
         "offsetgroup": "IncFIA,IncFIB,IncFIC,IncFII",
         "orientation": "v",
         "showlegend": true,
         "textposition": "auto",
         "type": "bar",
         "x": [
          1952,
          1952
         ],
         "xaxis": "x",
         "y": [
          0.01818181818181818,
          0.01818181818181818
         ],
         "yaxis": "y"
        },
        {
         "alignmentgroup": "True",
         "hovertemplate": "rep_type(s)_x=IncFIB,IncFII,IncI-gamma/K1<br>Year Cultured=%{x}<br>Proportion of plasmids=%{y}<extra></extra>",
         "legendgroup": "IncFIB,IncFII,IncI-gamma/K1",
         "marker": {
          "color": "#00cc96",
          "pattern": {
           "shape": ""
          }
         },
         "name": "IncFIB,IncFII,IncI-gamma/K1",
         "offsetgroup": "IncFIB,IncFII,IncI-gamma/K1",
         "orientation": "v",
         "showlegend": true,
         "textposition": "auto",
         "type": "bar",
         "x": [
          1952,
          1952
         ],
         "xaxis": "x",
         "y": [
          0.01818181818181818,
          0.01818181818181818
         ],
         "yaxis": "y"
        },
        {
         "alignmentgroup": "True",
         "hovertemplate": "rep_type(s)_x=rep_cluster_2373<br>Year Cultured=%{x}<br>Proportion of plasmids=%{y}<extra></extra>",
         "legendgroup": "rep_cluster_2373",
         "marker": {
          "color": "#ab63fa",
          "pattern": {
           "shape": ""
          }
         },
         "name": "rep_cluster_2373",
         "offsetgroup": "rep_cluster_2373",
         "orientation": "v",
         "showlegend": true,
         "textposition": "auto",
         "type": "bar",
         "x": [
          1952
         ],
         "xaxis": "x",
         "y": [
          0.01818181818181818
         ],
         "yaxis": "y"
        }
       ],
       "layout": {
        "autosize": true,
        "barmode": "relative",
        "legend": {
         "title": {
          "text": "rep_type(s)_x"
         },
         "tracegroupgap": 0
        },
        "template": {
         "data": {
          "bar": [
           {
            "error_x": {
             "color": "#2a3f5f"
            },
            "error_y": {
             "color": "#2a3f5f"
            },
            "marker": {
             "line": {
              "color": "#E5ECF6",
              "width": 0.5
             },
             "pattern": {
              "fillmode": "overlay",
              "size": 10,
              "solidity": 0.2
             }
            },
            "type": "bar"
           }
          ],
          "barpolar": [
           {
            "marker": {
             "line": {
              "color": "#E5ECF6",
              "width": 0.5
             },
             "pattern": {
              "fillmode": "overlay",
              "size": 10,
              "solidity": 0.2
             }
            },
            "type": "barpolar"
           }
          ],
          "carpet": [
           {
            "aaxis": {
             "endlinecolor": "#2a3f5f",
             "gridcolor": "white",
             "linecolor": "white",
             "minorgridcolor": "white",
             "startlinecolor": "#2a3f5f"
            },
            "baxis": {
             "endlinecolor": "#2a3f5f",
             "gridcolor": "white",
             "linecolor": "white",
             "minorgridcolor": "white",
             "startlinecolor": "#2a3f5f"
            },
            "type": "carpet"
           }
          ],
          "choropleth": [
           {
            "colorbar": {
             "outlinewidth": 0,
             "ticks": ""
            },
            "type": "choropleth"
           }
          ],
          "contour": [
           {
            "colorbar": {
             "outlinewidth": 0,
             "ticks": ""
            },
            "colorscale": [
             [
              0,
              "#0d0887"
             ],
             [
              0.1111111111111111,
              "#46039f"
             ],
             [
              0.2222222222222222,
              "#7201a8"
             ],
             [
              0.3333333333333333,
              "#9c179e"
             ],
             [
              0.4444444444444444,
              "#bd3786"
             ],
             [
              0.5555555555555556,
              "#d8576b"
             ],
             [
              0.6666666666666666,
              "#ed7953"
             ],
             [
              0.7777777777777778,
              "#fb9f3a"
             ],
             [
              0.8888888888888888,
              "#fdca26"
             ],
             [
              1,
              "#f0f921"
             ]
            ],
            "type": "contour"
           }
          ],
          "contourcarpet": [
           {
            "colorbar": {
             "outlinewidth": 0,
             "ticks": ""
            },
            "type": "contourcarpet"
           }
          ],
          "heatmap": [
           {
            "colorbar": {
             "outlinewidth": 0,
             "ticks": ""
            },
            "colorscale": [
             [
              0,
              "#0d0887"
             ],
             [
              0.1111111111111111,
              "#46039f"
             ],
             [
              0.2222222222222222,
              "#7201a8"
             ],
             [
              0.3333333333333333,
              "#9c179e"
             ],
             [
              0.4444444444444444,
              "#bd3786"
             ],
             [
              0.5555555555555556,
              "#d8576b"
             ],
             [
              0.6666666666666666,
              "#ed7953"
             ],
             [
              0.7777777777777778,
              "#fb9f3a"
             ],
             [
              0.8888888888888888,
              "#fdca26"
             ],
             [
              1,
              "#f0f921"
             ]
            ],
            "type": "heatmap"
           }
          ],
          "heatmapgl": [
           {
            "colorbar": {
             "outlinewidth": 0,
             "ticks": ""
            },
            "colorscale": [
             [
              0,
              "#0d0887"
             ],
             [
              0.1111111111111111,
              "#46039f"
             ],
             [
              0.2222222222222222,
              "#7201a8"
             ],
             [
              0.3333333333333333,
              "#9c179e"
             ],
             [
              0.4444444444444444,
              "#bd3786"
             ],
             [
              0.5555555555555556,
              "#d8576b"
             ],
             [
              0.6666666666666666,
              "#ed7953"
             ],
             [
              0.7777777777777778,
              "#fb9f3a"
             ],
             [
              0.8888888888888888,
              "#fdca26"
             ],
             [
              1,
              "#f0f921"
             ]
            ],
            "type": "heatmapgl"
           }
          ],
          "histogram": [
           {
            "marker": {
             "pattern": {
              "fillmode": "overlay",
              "size": 10,
              "solidity": 0.2
             }
            },
            "type": "histogram"
           }
          ],
          "histogram2d": [
           {
            "colorbar": {
             "outlinewidth": 0,
             "ticks": ""
            },
            "colorscale": [
             [
              0,
              "#0d0887"
             ],
             [
              0.1111111111111111,
              "#46039f"
             ],
             [
              0.2222222222222222,
              "#7201a8"
             ],
             [
              0.3333333333333333,
              "#9c179e"
             ],
             [
              0.4444444444444444,
              "#bd3786"
             ],
             [
              0.5555555555555556,
              "#d8576b"
             ],
             [
              0.6666666666666666,
              "#ed7953"
             ],
             [
              0.7777777777777778,
              "#fb9f3a"
             ],
             [
              0.8888888888888888,
              "#fdca26"
             ],
             [
              1,
              "#f0f921"
             ]
            ],
            "type": "histogram2d"
           }
          ],
          "histogram2dcontour": [
           {
            "colorbar": {
             "outlinewidth": 0,
             "ticks": ""
            },
            "colorscale": [
             [
              0,
              "#0d0887"
             ],
             [
              0.1111111111111111,
              "#46039f"
             ],
             [
              0.2222222222222222,
              "#7201a8"
             ],
             [
              0.3333333333333333,
              "#9c179e"
             ],
             [
              0.4444444444444444,
              "#bd3786"
             ],
             [
              0.5555555555555556,
              "#d8576b"
             ],
             [
              0.6666666666666666,
              "#ed7953"
             ],
             [
              0.7777777777777778,
              "#fb9f3a"
             ],
             [
              0.8888888888888888,
              "#fdca26"
             ],
             [
              1,
              "#f0f921"
             ]
            ],
            "type": "histogram2dcontour"
           }
          ],
          "mesh3d": [
           {
            "colorbar": {
             "outlinewidth": 0,
             "ticks": ""
            },
            "type": "mesh3d"
           }
          ],
          "parcoords": [
           {
            "line": {
             "colorbar": {
              "outlinewidth": 0,
              "ticks": ""
             }
            },
            "type": "parcoords"
           }
          ],
          "pie": [
           {
            "automargin": true,
            "type": "pie"
           }
          ],
          "scatter": [
           {
            "fillpattern": {
             "fillmode": "overlay",
             "size": 10,
             "solidity": 0.2
            },
            "type": "scatter"
           }
          ],
          "scatter3d": [
           {
            "line": {
             "colorbar": {
              "outlinewidth": 0,
              "ticks": ""
             }
            },
            "marker": {
             "colorbar": {
              "outlinewidth": 0,
              "ticks": ""
             }
            },
            "type": "scatter3d"
           }
          ],
          "scattercarpet": [
           {
            "marker": {
             "colorbar": {
              "outlinewidth": 0,
              "ticks": ""
             }
            },
            "type": "scattercarpet"
           }
          ],
          "scattergeo": [
           {
            "marker": {
             "colorbar": {
              "outlinewidth": 0,
              "ticks": ""
             }
            },
            "type": "scattergeo"
           }
          ],
          "scattergl": [
           {
            "marker": {
             "colorbar": {
              "outlinewidth": 0,
              "ticks": ""
             }
            },
            "type": "scattergl"
           }
          ],
          "scattermapbox": [
           {
            "marker": {
             "colorbar": {
              "outlinewidth": 0,
              "ticks": ""
             }
            },
            "type": "scattermapbox"
           }
          ],
          "scatterpolar": [
           {
            "marker": {
             "colorbar": {
              "outlinewidth": 0,
              "ticks": ""
             }
            },
            "type": "scatterpolar"
           }
          ],
          "scatterpolargl": [
           {
            "marker": {
             "colorbar": {
              "outlinewidth": 0,
              "ticks": ""
             }
            },
            "type": "scatterpolargl"
           }
          ],
          "scatterternary": [
           {
            "marker": {
             "colorbar": {
              "outlinewidth": 0,
              "ticks": ""
             }
            },
            "type": "scatterternary"
           }
          ],
          "surface": [
           {
            "colorbar": {
             "outlinewidth": 0,
             "ticks": ""
            },
            "colorscale": [
             [
              0,
              "#0d0887"
             ],
             [
              0.1111111111111111,
              "#46039f"
             ],
             [
              0.2222222222222222,
              "#7201a8"
             ],
             [
              0.3333333333333333,
              "#9c179e"
             ],
             [
              0.4444444444444444,
              "#bd3786"
             ],
             [
              0.5555555555555556,
              "#d8576b"
             ],
             [
              0.6666666666666666,
              "#ed7953"
             ],
             [
              0.7777777777777778,
              "#fb9f3a"
             ],
             [
              0.8888888888888888,
              "#fdca26"
             ],
             [
              1,
              "#f0f921"
             ]
            ],
            "type": "surface"
           }
          ],
          "table": [
           {
            "cells": {
             "fill": {
              "color": "#EBF0F8"
             },
             "line": {
              "color": "white"
             }
            },
            "header": {
             "fill": {
              "color": "#C8D4E3"
             },
             "line": {
              "color": "white"
             }
            },
            "type": "table"
           }
          ]
         },
         "layout": {
          "annotationdefaults": {
           "arrowcolor": "#2a3f5f",
           "arrowhead": 0,
           "arrowwidth": 1
          },
          "autotypenumbers": "strict",
          "coloraxis": {
           "colorbar": {
            "outlinewidth": 0,
            "ticks": ""
           }
          },
          "colorscale": {
           "diverging": [
            [
             0,
             "#8e0152"
            ],
            [
             0.1,
             "#c51b7d"
            ],
            [
             0.2,
             "#de77ae"
            ],
            [
             0.3,
             "#f1b6da"
            ],
            [
             0.4,
             "#fde0ef"
            ],
            [
             0.5,
             "#f7f7f7"
            ],
            [
             0.6,
             "#e6f5d0"
            ],
            [
             0.7,
             "#b8e186"
            ],
            [
             0.8,
             "#7fbc41"
            ],
            [
             0.9,
             "#4d9221"
            ],
            [
             1,
             "#276419"
            ]
           ],
           "sequential": [
            [
             0,
             "#0d0887"
            ],
            [
             0.1111111111111111,
             "#46039f"
            ],
            [
             0.2222222222222222,
             "#7201a8"
            ],
            [
             0.3333333333333333,
             "#9c179e"
            ],
            [
             0.4444444444444444,
             "#bd3786"
            ],
            [
             0.5555555555555556,
             "#d8576b"
            ],
            [
             0.6666666666666666,
             "#ed7953"
            ],
            [
             0.7777777777777778,
             "#fb9f3a"
            ],
            [
             0.8888888888888888,
             "#fdca26"
            ],
            [
             1,
             "#f0f921"
            ]
           ],
           "sequentialminus": [
            [
             0,
             "#0d0887"
            ],
            [
             0.1111111111111111,
             "#46039f"
            ],
            [
             0.2222222222222222,
             "#7201a8"
            ],
            [
             0.3333333333333333,
             "#9c179e"
            ],
            [
             0.4444444444444444,
             "#bd3786"
            ],
            [
             0.5555555555555556,
             "#d8576b"
            ],
            [
             0.6666666666666666,
             "#ed7953"
            ],
            [
             0.7777777777777778,
             "#fb9f3a"
            ],
            [
             0.8888888888888888,
             "#fdca26"
            ],
            [
             1,
             "#f0f921"
            ]
           ]
          },
          "colorway": [
           "#636efa",
           "#EF553B",
           "#00cc96",
           "#ab63fa",
           "#FFA15A",
           "#19d3f3",
           "#FF6692",
           "#B6E880",
           "#FF97FF",
           "#FECB52"
          ],
          "font": {
           "color": "#2a3f5f"
          },
          "geo": {
           "bgcolor": "white",
           "lakecolor": "white",
           "landcolor": "#E5ECF6",
           "showlakes": true,
           "showland": true,
           "subunitcolor": "white"
          },
          "hoverlabel": {
           "align": "left"
          },
          "hovermode": "closest",
          "mapbox": {
           "style": "light"
          },
          "paper_bgcolor": "white",
          "plot_bgcolor": "#E5ECF6",
          "polar": {
           "angularaxis": {
            "gridcolor": "white",
            "linecolor": "white",
            "ticks": ""
           },
           "bgcolor": "#E5ECF6",
           "radialaxis": {
            "gridcolor": "white",
            "linecolor": "white",
            "ticks": ""
           }
          },
          "scene": {
           "xaxis": {
            "backgroundcolor": "#E5ECF6",
            "gridcolor": "white",
            "gridwidth": 2,
            "linecolor": "white",
            "showbackground": true,
            "ticks": "",
            "zerolinecolor": "white"
           },
           "yaxis": {
            "backgroundcolor": "#E5ECF6",
            "gridcolor": "white",
            "gridwidth": 2,
            "linecolor": "white",
            "showbackground": true,
            "ticks": "",
            "zerolinecolor": "white"
           },
           "zaxis": {
            "backgroundcolor": "#E5ECF6",
            "gridcolor": "white",
            "gridwidth": 2,
            "linecolor": "white",
            "showbackground": true,
            "ticks": "",
            "zerolinecolor": "white"
           }
          },
          "shapedefaults": {
           "line": {
            "color": "#2a3f5f"
           }
          },
          "ternary": {
           "aaxis": {
            "gridcolor": "white",
            "linecolor": "white",
            "ticks": ""
           },
           "baxis": {
            "gridcolor": "white",
            "linecolor": "white",
            "ticks": ""
           },
           "bgcolor": "#E5ECF6",
           "caxis": {
            "gridcolor": "white",
            "linecolor": "white",
            "ticks": ""
           }
          },
          "title": {
           "x": 0.05
          },
          "xaxis": {
           "automargin": true,
           "gridcolor": "white",
           "linecolor": "white",
           "ticks": "",
           "title": {
            "standoff": 15
           },
           "zerolinecolor": "white",
           "zerolinewidth": 2
          },
          "yaxis": {
           "automargin": true,
           "gridcolor": "white",
           "linecolor": "white",
           "ticks": "",
           "title": {
            "standoff": 15
           },
           "zerolinecolor": "white",
           "zerolinewidth": 2
          }
         }
        },
        "title": {
         "text": "All E. Coli Plasmids"
        },
        "xaxis": {
         "anchor": "y",
         "autorange": true,
         "domain": [
          0,
          1
         ],
         "range": [
          1919.5,
          2016.5
         ],
         "title": {
          "text": "Year Cultured"
         },
         "type": "linear"
        },
        "yaxis": {
         "anchor": "x",
         "autorange": true,
         "domain": [
          0,
          1
         ],
         "range": [
          0,
          1.0526315789473686
         ],
         "title": {
          "text": "Proportion of plasmids"
         },
         "type": "linear"
        }
       }
      },
      "image/png": "[encoded data removed]",
      "text/html": [
       "<div>                            <div id=\"0fcd6bc4-72a6-43fd-961f-69183f037a04\" class=\"plotly-graph-div\" style=\"height:525px; width:100%;\"></div>            <script type=\"text/javascript\">                require([\"plotly\"], function(Plotly) {                    window.PLOTLYENV=window.PLOTLYENV || {};                                    if (document.getElementById(\"0fcd6bc4-72a6-43fd-961f-69183f037a04\")) {                    Plotly.newPlot(                        \"0fcd6bc4-72a6-43fd-961f-69183f037a04\",                        [{\"alignmentgroup\":\"True\",\"hovertemplate\":\"rep_type(s)_x=IncFIA,IncFIB<br>Year Cultured=%{x}<br>Proportion of plasmids=%{y}<extra></extra>\",\"legendgroup\":\"IncFIA,IncFIB\",\"marker\":{\"color\":\"#636efa\",\"pattern\":{\"shape\":\"\"}},\"name\":\"IncFIA,IncFIB\",\"offsetgroup\":\"IncFIA,IncFIB\",\"orientation\":\"v\",\"showlegend\":true,\"textposition\":\"auto\",\"x\":[1960,1949,1947,1949,1955,1955,1955,1965,1952,1982,1952,1952,1952,1949,1956,1952],\"xaxis\":\"x\",\"y\":[0.5,0.07692307692307693,0.3333333333333333,0.07692307692307693,0.06666666666666667,0.06666666666666667,0.06666666666666667,0.5,0.01818181818181818,0.5,0.01818181818181818,0.01818181818181818,0.01818181818181818,0.07692307692307693,0.5,0.01818181818181818],\"yaxis\":\"y\",\"type\":\"bar\"},{\"alignmentgroup\":\"True\",\"hovertemplate\":\"rep_type(s)_x=IncFIA,IncFIA,IncFIB<br>Year Cultured=%{x}<br>Proportion of plasmids=%{y}<extra></extra>\",\"legendgroup\":\"IncFIA,IncFIA,IncFIB\",\"marker\":{\"color\":\"#EF553B\",\"pattern\":{\"shape\":\"\"}},\"name\":\"IncFIA,IncFIA,IncFIB\",\"offsetgroup\":\"IncFIA,IncFIA,IncFIB\",\"orientation\":\"v\",\"showlegend\":true,\"textposition\":\"auto\",\"x\":[1950,1952,1952,1949,1949,1952],\"xaxis\":\"x\",\"y\":[1.0,0.01818181818181818,0.01818181818181818,0.07692307692307693,0.07692307692307693,0.01818181818181818],\"yaxis\":\"y\",\"type\":\"bar\"},{\"alignmentgroup\":\"True\",\"hovertemplate\":\"rep_type(s)_x=rep_cluster_2350<br>Year Cultured=%{x}<br>Proportion of plasmids=%{y}<extra></extra>\",\"legendgroup\":\"rep_cluster_2350\",\"marker\":{\"color\":\"#00cc96\",\"pattern\":{\"shape\":\"\"}},\"name\":\"rep_cluster_2350\",\"offsetgroup\":\"rep_cluster_2350\",\"orientation\":\"v\",\"showlegend\":true,\"textposition\":\"auto\",\"x\":[1960,1971,1992,1992,1988,1949,1952,1931,1944,1952,1955,1949,1949,1949,1952,1952,1976,1952,1952,1952],\"xaxis\":\"x\",\"y\":[0.5,0.2,0.5,0.5,0.5,0.07692307692307693,0.01818181818181818,0.16666666666666666,0.5,0.01818181818181818,0.06666666666666667,0.07692307692307693,0.07692307692307693,0.07692307692307693,0.01818181818181818,0.01818181818181818,0.1,0.01818181818181818,0.01818181818181818,0.01818181818181818],\"yaxis\":\"y\",\"type\":\"bar\"},{\"alignmentgroup\":\"True\",\"hovertemplate\":\"rep_type(s)_x=IncI-gamma/K1<br>Year Cultured=%{x}<br>Proportion of plasmids=%{y}<extra></extra>\",\"legendgroup\":\"IncI-gamma/K1\",\"marker\":{\"color\":\"#ab63fa\",\"pattern\":{\"shape\":\"\"}},\"name\":\"IncI-gamma/K1\",\"offsetgroup\":\"IncI-gamma/K1\",\"orientation\":\"v\",\"showlegend\":true,\"textposition\":\"auto\",\"x\":[1962,1969,1958,2006,2006,1920,1930,1937,1938,1940,1940,1941,1942,1947,1949,1952,1953,1952,1952,1952,1952,1952,1955,1955,1954,1995],\"xaxis\":\"x\",\"y\":[0.5,0.25,0.3333333333333333,0.3333333333333333,0.3333333333333333,1.0,1.0,1.0,1.0,0.3333333333333333,0.3333333333333333,1.0,1.0,0.3333333333333333,0.07692307692307693,0.01818181818181818,0.25,0.01818181818181818,0.01818181818181818,0.01818181818181818,0.01818181818181818,0.01818181818181818,0.06666666666666667,0.06666666666666667,0.5,0.2],\"yaxis\":\"y\",\"type\":\"bar\"},{\"alignmentgroup\":\"True\",\"hovertemplate\":\"rep_type(s)_x=IncI1/B/O<br>Year Cultured=%{x}<br>Proportion of plasmids=%{y}<extra></extra>\",\"legendgroup\":\"IncI1/B/O\",\"marker\":{\"color\":\"#FFA15A\",\"pattern\":{\"shape\":\"\"}},\"name\":\"IncI1/B/O\",\"offsetgroup\":\"IncI1/B/O\",\"orientation\":\"v\",\"showlegend\":true,\"textposition\":\"auto\",\"x\":[1991,1995,2009,1952,1952,1955,1952],\"xaxis\":\"x\",\"y\":[1.0,0.2,1.0,0.01818181818181818,0.01818181818181818,0.06666666666666667,0.01818181818181818],\"yaxis\":\"y\",\"type\":\"bar\"},{\"alignmentgroup\":\"True\",\"hovertemplate\":\"rep_type(s)_x=IncK2/Z<br>Year Cultured=%{x}<br>Proportion of plasmids=%{y}<extra></extra>\",\"legendgroup\":\"IncK2/Z\",\"marker\":{\"color\":\"#19d3f3\",\"pattern\":{\"shape\":\"\"}},\"name\":\"IncK2/Z\",\"offsetgroup\":\"IncK2/Z\",\"orientation\":\"v\",\"showlegend\":true,\"textposition\":\"auto\",\"x\":[2003,1952,1952,1952,1952,1952],\"xaxis\":\"x\",\"y\":[0.3333333333333333,0.01818181818181818,0.01818181818181818,0.01818181818181818,0.01818181818181818,0.01818181818181818],\"yaxis\":\"y\",\"type\":\"bar\"},{\"alignmentgroup\":\"True\",\"hovertemplate\":\"rep_type(s)_x=-<br>Year Cultured=%{x}<br>Proportion of plasmids=%{y}<extra></extra>\",\"legendgroup\":\"-\",\"marker\":{\"color\":\"#FF6692\",\"pattern\":{\"shape\":\"\"}},\"name\":\"-\",\"offsetgroup\":\"-\",\"orientation\":\"v\",\"showlegend\":true,\"textposition\":\"auto\",\"x\":[1962,1971,2003,1940,1965,1964,1955,1931,1955],\"xaxis\":\"x\",\"y\":[0.5,0.2,0.3333333333333333,0.3333333333333333,0.5,0.5,0.06666666666666667,0.16666666666666666,0.06666666666666667],\"yaxis\":\"y\",\"type\":\"bar\"},{\"alignmentgroup\":\"True\",\"hovertemplate\":\"rep_type(s)_x=IncFIB,IncFII,rep_cluster_2183<br>Year Cultured=%{x}<br>Proportion of plasmids=%{y}<extra></extra>\",\"legendgroup\":\"IncFIB,IncFII,rep_cluster_2183\",\"marker\":{\"color\":\"#B6E880\",\"pattern\":{\"shape\":\"\"}},\"name\":\"IncFIB,IncFII,rep_cluster_2183\",\"offsetgroup\":\"IncFIB,IncFII,rep_cluster_2183\",\"orientation\":\"v\",\"showlegend\":true,\"textposition\":\"auto\",\"x\":[1953],\"xaxis\":\"x\",\"y\":[0.25],\"yaxis\":\"y\",\"type\":\"bar\"},{\"alignmentgroup\":\"True\",\"hovertemplate\":\"rep_type(s)_x=IncFIA,IncFIB,IncFIC,rep_cluster_2131,IncFIA,IncFIC<br>Year Cultured=%{x}<br>Proportion of plasmids=%{y}<extra></extra>\",\"legendgroup\":\"IncFIA,IncFIB,IncFIC,rep_cluster_2131,IncFIA,IncFIC\",\"marker\":{\"color\":\"#FF97FF\",\"pattern\":{\"shape\":\"\"}},\"name\":\"IncFIA,IncFIB,IncFIC,rep_cluster_2131,IncFIA,IncFIC\",\"offsetgroup\":\"IncFIA,IncFIB,IncFIC,rep_cluster_2131,IncFIA,IncFIC\",\"orientation\":\"v\",\"showlegend\":true,\"textposition\":\"auto\",\"x\":[1957],\"xaxis\":\"x\",\"y\":[0.3333333333333333],\"yaxis\":\"y\",\"type\":\"bar\"},{\"alignmentgroup\":\"True\",\"hovertemplate\":\"rep_type(s)_x=IncFIA,IncFIB,IncFIC,rep_cluster_2131<br>Year Cultured=%{x}<br>Proportion of plasmids=%{y}<extra></extra>\",\"legendgroup\":\"IncFIA,IncFIB,IncFIC,rep_cluster_2131\",\"marker\":{\"color\":\"#FECB52\",\"pattern\":{\"shape\":\"\"}},\"name\":\"IncFIA,IncFIB,IncFIC,rep_cluster_2131\",\"offsetgroup\":\"IncFIA,IncFIB,IncFIC,rep_cluster_2131\",\"orientation\":\"v\",\"showlegend\":true,\"textposition\":\"auto\",\"x\":[1971,1932,1944,1952],\"xaxis\":\"x\",\"y\":[0.2,0.5,0.5,0.01818181818181818],\"yaxis\":\"y\",\"type\":\"bar\"},{\"alignmentgroup\":\"True\",\"hovertemplate\":\"rep_type(s)_x=IncFIA,IncFIB,rep_cluster_2131<br>Year Cultured=%{x}<br>Proportion of plasmids=%{y}<extra></extra>\",\"legendgroup\":\"IncFIA,IncFIB,rep_cluster_2131\",\"marker\":{\"color\":\"#636efa\",\"pattern\":{\"shape\":\"\"}},\"name\":\"IncFIA,IncFIB,rep_cluster_2131\",\"offsetgroup\":\"IncFIA,IncFIB,rep_cluster_2131\",\"orientation\":\"v\",\"showlegend\":true,\"textposition\":\"auto\",\"x\":[1931,1931,1952,1955],\"xaxis\":\"x\",\"y\":[0.16666666666666666,0.16666666666666666,0.01818181818181818,0.06666666666666667],\"yaxis\":\"y\",\"type\":\"bar\"},{\"alignmentgroup\":\"True\",\"hovertemplate\":\"rep_type(s)_x=IncFIA,IncFIB,IncFII,rep_cluster_2131<br>Year Cultured=%{x}<br>Proportion of plasmids=%{y}<extra></extra>\",\"legendgroup\":\"IncFIA,IncFIB,IncFII,rep_cluster_2131\",\"marker\":{\"color\":\"#EF553B\",\"pattern\":{\"shape\":\"\"}},\"name\":\"IncFIA,IncFIB,IncFII,rep_cluster_2131\",\"offsetgroup\":\"IncFIA,IncFIB,IncFII,rep_cluster_2131\",\"orientation\":\"v\",\"showlegend\":true,\"textposition\":\"auto\",\"x\":[1976],\"xaxis\":\"x\",\"y\":[0.1],\"yaxis\":\"y\",\"type\":\"bar\"},{\"alignmentgroup\":\"True\",\"hovertemplate\":\"rep_type(s)_x=IncFIA,IncFIA,IncFIB,IncFIC,rep_cluster_2131<br>Year Cultured=%{x}<br>Proportion of plasmids=%{y}<extra></extra>\",\"legendgroup\":\"IncFIA,IncFIA,IncFIB,IncFIC,rep_cluster_2131\",\"marker\":{\"color\":\"#00cc96\",\"pattern\":{\"shape\":\"\"}},\"name\":\"IncFIA,IncFIA,IncFIB,IncFIC,rep_cluster_2131\",\"offsetgroup\":\"IncFIA,IncFIA,IncFIB,IncFIC,rep_cluster_2131\",\"orientation\":\"v\",\"showlegend\":true,\"textposition\":\"auto\",\"x\":[1955],\"xaxis\":\"x\",\"y\":[0.06666666666666667],\"yaxis\":\"y\",\"type\":\"bar\"},{\"alignmentgroup\":\"True\",\"hovertemplate\":\"rep_type(s)_x=IncFIA,IncFIB,IncFIC<br>Year Cultured=%{x}<br>Proportion of plasmids=%{y}<extra></extra>\",\"legendgroup\":\"IncFIA,IncFIB,IncFIC\",\"marker\":{\"color\":\"#ab63fa\",\"pattern\":{\"shape\":\"\"}},\"name\":\"IncFIA,IncFIB,IncFIC\",\"offsetgroup\":\"IncFIA,IncFIB,IncFIC\",\"orientation\":\"v\",\"showlegend\":true,\"textposition\":\"auto\",\"x\":[1966,1957,1958,1952,1952],\"xaxis\":\"x\",\"y\":[0.5,0.3333333333333333,0.3333333333333333,0.01818181818181818,0.01818181818181818],\"yaxis\":\"y\",\"type\":\"bar\"},{\"alignmentgroup\":\"True\",\"hovertemplate\":\"rep_type(s)_x=IncFIA,IncFIB,IncFIC,rep_cluster_2244<br>Year Cultured=%{x}<br>Proportion of plasmids=%{y}<extra></extra>\",\"legendgroup\":\"IncFIA,IncFIB,IncFIC,rep_cluster_2244\",\"marker\":{\"color\":\"#FFA15A\",\"pattern\":{\"shape\":\"\"}},\"name\":\"IncFIA,IncFIB,IncFIC,rep_cluster_2244\",\"offsetgroup\":\"IncFIA,IncFIB,IncFIC,rep_cluster_2244\",\"orientation\":\"v\",\"showlegend\":true,\"textposition\":\"auto\",\"x\":[1976,1952,1952],\"xaxis\":\"x\",\"y\":[0.1,0.01818181818181818,0.01818181818181818],\"yaxis\":\"y\",\"type\":\"bar\"},{\"alignmentgroup\":\"True\",\"hovertemplate\":\"rep_type(s)_x=IncFIB,IncFIC,IncI1<br>Year Cultured=%{x}<br>Proportion of plasmids=%{y}<extra></extra>\",\"legendgroup\":\"IncFIB,IncFIC,IncI1\",\"marker\":{\"color\":\"#19d3f3\",\"pattern\":{\"shape\":\"\"}},\"name\":\"IncFIB,IncFIC,IncI1\",\"offsetgroup\":\"IncFIB,IncFIC,IncI1\",\"orientation\":\"v\",\"showlegend\":true,\"textposition\":\"auto\",\"x\":[1955,1969,1964],\"xaxis\":\"x\",\"y\":[0.06666666666666667,0.25,0.5],\"yaxis\":\"y\",\"type\":\"bar\"},{\"alignmentgroup\":\"True\",\"hovertemplate\":\"rep_type(s)_x=IncFIA,IncFIA,IncFIB,IncFIB<br>Year Cultured=%{x}<br>Proportion of plasmids=%{y}<extra></extra>\",\"legendgroup\":\"IncFIA,IncFIA,IncFIB,IncFIB\",\"marker\":{\"color\":\"#FF6692\",\"pattern\":{\"shape\":\"\"}},\"name\":\"IncFIA,IncFIA,IncFIB,IncFIB\",\"offsetgroup\":\"IncFIA,IncFIA,IncFIB,IncFIB\",\"orientation\":\"v\",\"showlegend\":true,\"textposition\":\"auto\",\"x\":[1957],\"xaxis\":\"x\",\"y\":[0.3333333333333333],\"yaxis\":\"y\",\"type\":\"bar\"},{\"alignmentgroup\":\"True\",\"hovertemplate\":\"rep_type(s)_x=IncN<br>Year Cultured=%{x}<br>Proportion of plasmids=%{y}<extra></extra>\",\"legendgroup\":\"IncN\",\"marker\":{\"color\":\"#B6E880\",\"pattern\":{\"shape\":\"\"}},\"name\":\"IncN\",\"offsetgroup\":\"IncN\",\"orientation\":\"v\",\"showlegend\":true,\"textposition\":\"auto\",\"x\":[1969,1987,1988],\"xaxis\":\"x\",\"y\":[0.25,1.0,0.5],\"yaxis\":\"y\",\"type\":\"bar\"},{\"alignmentgroup\":\"True\",\"hovertemplate\":\"rep_type(s)_x=IncFIA<br>Year Cultured=%{x}<br>Proportion of plasmids=%{y}<extra></extra>\",\"legendgroup\":\"IncFIA\",\"marker\":{\"color\":\"#FF97FF\",\"pattern\":{\"shape\":\"\"}},\"name\":\"IncFIA\",\"offsetgroup\":\"IncFIA\",\"orientation\":\"v\",\"showlegend\":true,\"textposition\":\"auto\",\"x\":[1969,1966,1949,1978,1978,1949,1952,1952,1932,1952,1945,1952],\"xaxis\":\"x\",\"y\":[0.25,0.5,0.07692307692307693,0.5,0.5,0.07692307692307693,0.01818181818181818,0.01818181818181818,0.5,0.01818181818181818,1.0,0.01818181818181818],\"yaxis\":\"y\",\"type\":\"bar\"},{\"alignmentgroup\":\"True\",\"hovertemplate\":\"rep_type(s)_x=IncX4<br>Year Cultured=%{x}<br>Proportion of plasmids=%{y}<extra></extra>\",\"legendgroup\":\"IncX4\",\"marker\":{\"color\":\"#FECB52\",\"pattern\":{\"shape\":\"\"}},\"name\":\"IncX4\",\"offsetgroup\":\"IncX4\",\"orientation\":\"v\",\"showlegend\":true,\"textposition\":\"auto\",\"x\":[1995],\"xaxis\":\"x\",\"y\":[0.2],\"yaxis\":\"y\",\"type\":\"bar\"},{\"alignmentgroup\":\"True\",\"hovertemplate\":\"rep_type(s)_x=IncFIA,IncFIC<br>Year Cultured=%{x}<br>Proportion of plasmids=%{y}<extra></extra>\",\"legendgroup\":\"IncFIA,IncFIC\",\"marker\":{\"color\":\"#636efa\",\"pattern\":{\"shape\":\"\"}},\"name\":\"IncFIA,IncFIC\",\"offsetgroup\":\"IncFIA,IncFIC\",\"orientation\":\"v\",\"showlegend\":true,\"textposition\":\"auto\",\"x\":[1958,1955,1971],\"xaxis\":\"x\",\"y\":[0.3333333333333333,0.06666666666666667,0.2],\"yaxis\":\"y\",\"type\":\"bar\"},{\"alignmentgroup\":\"True\",\"hovertemplate\":\"rep_type(s)_x=IncFIA,IncFII<br>Year Cultured=%{x}<br>Proportion of plasmids=%{y}<extra></extra>\",\"legendgroup\":\"IncFIA,IncFII\",\"marker\":{\"color\":\"#EF553B\",\"pattern\":{\"shape\":\"\"}},\"name\":\"IncFIA,IncFII\",\"offsetgroup\":\"IncFIA,IncFII\",\"orientation\":\"v\",\"showlegend\":true,\"textposition\":\"auto\",\"x\":[1976,1951,1976,2016,1952],\"xaxis\":\"x\",\"y\":[0.1,1.0,0.1,0.5,0.01818181818181818],\"yaxis\":\"y\",\"type\":\"bar\"},{\"alignmentgroup\":\"True\",\"hovertemplate\":\"rep_type(s)_x=IncHI2A,rep_cluster_1088<br>Year Cultured=%{x}<br>Proportion of plasmids=%{y}<extra></extra>\",\"legendgroup\":\"IncHI2A,rep_cluster_1088\",\"marker\":{\"color\":\"#00cc96\",\"pattern\":{\"shape\":\"\"}},\"name\":\"IncHI2A,rep_cluster_1088\",\"offsetgroup\":\"IncHI2A,rep_cluster_1088\",\"orientation\":\"v\",\"showlegend\":true,\"textposition\":\"auto\",\"x\":[1971,2006,1952],\"xaxis\":\"x\",\"y\":[0.2,0.3333333333333333,0.01818181818181818],\"yaxis\":\"y\",\"type\":\"bar\"},{\"alignmentgroup\":\"True\",\"hovertemplate\":\"rep_type(s)_x=IncHI2A,rep_cluster_1088,IncI2<br>Year Cultured=%{x}<br>Proportion of plasmids=%{y}<extra></extra>\",\"legendgroup\":\"IncHI2A,rep_cluster_1088,IncI2\",\"marker\":{\"color\":\"#ab63fa\",\"pattern\":{\"shape\":\"\"}},\"name\":\"IncHI2A,rep_cluster_1088,IncI2\",\"offsetgroup\":\"IncHI2A,rep_cluster_1088,IncI2\",\"orientation\":\"v\",\"showlegend\":true,\"textposition\":\"auto\",\"x\":[2013],\"xaxis\":\"x\",\"y\":[1.0],\"yaxis\":\"y\",\"type\":\"bar\"},{\"alignmentgroup\":\"True\",\"hovertemplate\":\"rep_type(s)_x=rep_cluster_2335<br>Year Cultured=%{x}<br>Proportion of plasmids=%{y}<extra></extra>\",\"legendgroup\":\"rep_cluster_2335\",\"marker\":{\"color\":\"#FFA15A\",\"pattern\":{\"shape\":\"\"}},\"name\":\"rep_cluster_2335\",\"offsetgroup\":\"rep_cluster_2335\",\"orientation\":\"v\",\"showlegend\":true,\"textposition\":\"auto\",\"x\":[1973],\"xaxis\":\"x\",\"y\":[1.0],\"yaxis\":\"y\",\"type\":\"bar\"},{\"alignmentgroup\":\"True\",\"hovertemplate\":\"rep_type(s)_x=IncFIA,IncFIB,IncFIA,IncFIC<br>Year Cultured=%{x}<br>Proportion of plasmids=%{y}<extra></extra>\",\"legendgroup\":\"IncFIA,IncFIB,IncFIA,IncFIC\",\"marker\":{\"color\":\"#19d3f3\",\"pattern\":{\"shape\":\"\"}},\"name\":\"IncFIA,IncFIB,IncFIA,IncFIC\",\"offsetgroup\":\"IncFIA,IncFIB,IncFIA,IncFIC\",\"orientation\":\"v\",\"showlegend\":true,\"textposition\":\"auto\",\"x\":[1982],\"xaxis\":\"x\",\"y\":[0.5],\"yaxis\":\"y\",\"type\":\"bar\"},{\"alignmentgroup\":\"True\",\"hovertemplate\":\"rep_type(s)_x=IncFIA,IncFIB,IncFII<br>Year Cultured=%{x}<br>Proportion of plasmids=%{y}<extra></extra>\",\"legendgroup\":\"IncFIA,IncFIB,IncFII\",\"marker\":{\"color\":\"#FF6692\",\"pattern\":{\"shape\":\"\"}},\"name\":\"IncFIA,IncFIB,IncFII\",\"offsetgroup\":\"IncFIA,IncFIB,IncFII\",\"orientation\":\"v\",\"showlegend\":true,\"textposition\":\"auto\",\"x\":[1995,1994,1931],\"xaxis\":\"x\",\"y\":[0.2,1.0,0.16666666666666666],\"yaxis\":\"y\",\"type\":\"bar\"},{\"alignmentgroup\":\"True\",\"hovertemplate\":\"rep_type(s)_x=IncFIA,IncFIB,IncFIB<br>Year Cultured=%{x}<br>Proportion of plasmids=%{y}<extra></extra>\",\"legendgroup\":\"IncFIA,IncFIB,IncFIB\",\"marker\":{\"color\":\"#B6E880\",\"pattern\":{\"shape\":\"\"}},\"name\":\"IncFIA,IncFIB,IncFIB\",\"offsetgroup\":\"IncFIA,IncFIB,IncFIB\",\"orientation\":\"v\",\"showlegend\":true,\"textposition\":\"auto\",\"x\":[1995],\"xaxis\":\"x\",\"y\":[0.2],\"yaxis\":\"y\",\"type\":\"bar\"},{\"alignmentgroup\":\"True\",\"hovertemplate\":\"rep_type(s)_x=IncL/M<br>Year Cultured=%{x}<br>Proportion of plasmids=%{y}<extra></extra>\",\"legendgroup\":\"IncL/M\",\"marker\":{\"color\":\"#FF97FF\",\"pattern\":{\"shape\":\"\"}},\"name\":\"IncL/M\",\"offsetgroup\":\"IncL/M\",\"orientation\":\"v\",\"showlegend\":true,\"textposition\":\"auto\",\"x\":[1985,2008],\"xaxis\":\"x\",\"y\":[1.0,1.0],\"yaxis\":\"y\",\"type\":\"bar\"},{\"alignmentgroup\":\"True\",\"hovertemplate\":\"rep_type(s)_x=rep_cluster_2131<br>Year Cultured=%{x}<br>Proportion of plasmids=%{y}<extra></extra>\",\"legendgroup\":\"rep_cluster_2131\",\"marker\":{\"color\":\"#FECB52\",\"pattern\":{\"shape\":\"\"}},\"name\":\"rep_cluster_2131\",\"offsetgroup\":\"rep_cluster_2131\",\"orientation\":\"v\",\"showlegend\":true,\"textposition\":\"auto\",\"x\":[2003,1952],\"xaxis\":\"x\",\"y\":[0.3333333333333333,0.01818181818181818],\"yaxis\":\"y\",\"type\":\"bar\"},{\"alignmentgroup\":\"True\",\"hovertemplate\":\"rep_type(s)_x=Col156<br>Year Cultured=%{x}<br>Proportion of plasmids=%{y}<extra></extra>\",\"legendgroup\":\"Col156\",\"marker\":{\"color\":\"#636efa\",\"pattern\":{\"shape\":\"\"}},\"name\":\"Col156\",\"offsetgroup\":\"Col156\",\"orientation\":\"v\",\"showlegend\":true,\"textposition\":\"auto\",\"x\":[1976,1952,1952,1955,1955],\"xaxis\":\"x\",\"y\":[0.1,0.01818181818181818,0.01818181818181818,0.06666666666666667,0.06666666666666667],\"yaxis\":\"y\",\"type\":\"bar\"},{\"alignmentgroup\":\"True\",\"hovertemplate\":\"rep_type(s)_x=IncQ2<br>Year Cultured=%{x}<br>Proportion of plasmids=%{y}<extra></extra>\",\"legendgroup\":\"IncQ2\",\"marker\":{\"color\":\"#EF553B\",\"pattern\":{\"shape\":\"\"}},\"name\":\"IncQ2\",\"offsetgroup\":\"IncQ2\",\"orientation\":\"v\",\"showlegend\":true,\"textposition\":\"auto\",\"x\":[2016],\"xaxis\":\"x\",\"y\":[0.5],\"yaxis\":\"y\",\"type\":\"bar\"},{\"alignmentgroup\":\"True\",\"hovertemplate\":\"rep_type(s)_x=IncX1<br>Year Cultured=%{x}<br>Proportion of plasmids=%{y}<extra></extra>\",\"legendgroup\":\"IncX1\",\"marker\":{\"color\":\"#00cc96\",\"pattern\":{\"shape\":\"\"}},\"name\":\"IncX1\",\"offsetgroup\":\"IncX1\",\"orientation\":\"v\",\"showlegend\":true,\"textposition\":\"auto\",\"x\":[1931,1976],\"xaxis\":\"x\",\"y\":[0.16666666666666666,0.1],\"yaxis\":\"y\",\"type\":\"bar\"},{\"alignmentgroup\":\"True\",\"hovertemplate\":\"rep_type(s)_x=IncFIB,IncFII,IncI1<br>Year Cultured=%{x}<br>Proportion of plasmids=%{y}<extra></extra>\",\"legendgroup\":\"IncFIB,IncFII,IncI1\",\"marker\":{\"color\":\"#ab63fa\",\"pattern\":{\"shape\":\"\"}},\"name\":\"IncFIB,IncFII,IncI1\",\"offsetgroup\":\"IncFIB,IncFII,IncI1\",\"orientation\":\"v\",\"showlegend\":true,\"textposition\":\"auto\",\"x\":[1947],\"xaxis\":\"x\",\"y\":[0.3333333333333333],\"yaxis\":\"y\",\"type\":\"bar\"},{\"alignmentgroup\":\"True\",\"hovertemplate\":\"rep_type(s)_x=IncFII,IncI-gamma/K1<br>Year Cultured=%{x}<br>Proportion of plasmids=%{y}<extra></extra>\",\"legendgroup\":\"IncFII,IncI-gamma/K1\",\"marker\":{\"color\":\"#FFA15A\",\"pattern\":{\"shape\":\"\"}},\"name\":\"IncFII,IncI-gamma/K1\",\"offsetgroup\":\"IncFII,IncI-gamma/K1\",\"orientation\":\"v\",\"showlegend\":true,\"textposition\":\"auto\",\"x\":[1949],\"xaxis\":\"x\",\"y\":[0.07692307692307693],\"yaxis\":\"y\",\"type\":\"bar\"},{\"alignmentgroup\":\"True\",\"hovertemplate\":\"rep_type(s)_x=rep_cluster_2350,rep_cluster_2350,rep_cluster_2370<br>Year Cultured=%{x}<br>Proportion of plasmids=%{y}<extra></extra>\",\"legendgroup\":\"rep_cluster_2350,rep_cluster_2350,rep_cluster_2370\",\"marker\":{\"color\":\"#19d3f3\",\"pattern\":{\"shape\":\"\"}},\"name\":\"rep_cluster_2350,rep_cluster_2350,rep_cluster_2370\",\"offsetgroup\":\"rep_cluster_2350,rep_cluster_2350,rep_cluster_2370\",\"orientation\":\"v\",\"showlegend\":true,\"textposition\":\"auto\",\"x\":[1956],\"xaxis\":\"x\",\"y\":[0.5],\"yaxis\":\"y\",\"type\":\"bar\"},{\"alignmentgroup\":\"True\",\"hovertemplate\":\"rep_type(s)_x=IncFIB,IncI-gamma/K1<br>Year Cultured=%{x}<br>Proportion of plasmids=%{y}<extra></extra>\",\"legendgroup\":\"IncFIB,IncI-gamma/K1\",\"marker\":{\"color\":\"#FF6692\",\"pattern\":{\"shape\":\"\"}},\"name\":\"IncFIB,IncI-gamma/K1\",\"offsetgroup\":\"IncFIB,IncI-gamma/K1\",\"orientation\":\"v\",\"showlegend\":true,\"textposition\":\"auto\",\"x\":[1953,1952],\"xaxis\":\"x\",\"y\":[0.25,0.01818181818181818],\"yaxis\":\"y\",\"type\":\"bar\"},{\"alignmentgroup\":\"True\",\"hovertemplate\":\"rep_type(s)_x=IncFIB,rep_cluster_2244<br>Year Cultured=%{x}<br>Proportion of plasmids=%{y}<extra></extra>\",\"legendgroup\":\"IncFIB,rep_cluster_2244\",\"marker\":{\"color\":\"#B6E880\",\"pattern\":{\"shape\":\"\"}},\"name\":\"IncFIB,rep_cluster_2244\",\"offsetgroup\":\"IncFIB,rep_cluster_2244\",\"orientation\":\"v\",\"showlegend\":true,\"textposition\":\"auto\",\"x\":[1953,1946,1952,1952,1954],\"xaxis\":\"x\",\"y\":[0.25,1.0,0.01818181818181818,0.01818181818181818,0.5],\"yaxis\":\"y\",\"type\":\"bar\"},{\"alignmentgroup\":\"True\",\"hovertemplate\":\"rep_type(s)_x=IncFIA,IncFIB,rep_cluster_2244<br>Year Cultured=%{x}<br>Proportion of plasmids=%{y}<extra></extra>\",\"legendgroup\":\"IncFIA,IncFIB,rep_cluster_2244\",\"marker\":{\"color\":\"#FF97FF\",\"pattern\":{\"shape\":\"\"}},\"name\":\"IncFIA,IncFIB,rep_cluster_2244\",\"offsetgroup\":\"IncFIA,IncFIB,rep_cluster_2244\",\"orientation\":\"v\",\"showlegend\":true,\"textposition\":\"auto\",\"x\":[1976],\"xaxis\":\"x\",\"y\":[0.1],\"yaxis\":\"y\",\"type\":\"bar\"},{\"alignmentgroup\":\"True\",\"hovertemplate\":\"rep_type(s)_x=IncFIB<br>Year Cultured=%{x}<br>Proportion of plasmids=%{y}<extra></extra>\",\"legendgroup\":\"IncFIB\",\"marker\":{\"color\":\"#FECB52\",\"pattern\":{\"shape\":\"\"}},\"name\":\"IncFIB\",\"offsetgroup\":\"IncFIB\",\"orientation\":\"v\",\"showlegend\":true,\"textposition\":\"auto\",\"x\":[1952],\"xaxis\":\"x\",\"y\":[0.01818181818181818],\"yaxis\":\"y\",\"type\":\"bar\"},{\"alignmentgroup\":\"True\",\"hovertemplate\":\"rep_type(s)_x=IncFIB,IncFIC,rep_cluster_2244<br>Year Cultured=%{x}<br>Proportion of plasmids=%{y}<extra></extra>\",\"legendgroup\":\"IncFIB,IncFIC,rep_cluster_2244\",\"marker\":{\"color\":\"#636efa\",\"pattern\":{\"shape\":\"\"}},\"name\":\"IncFIB,IncFIC,rep_cluster_2244\",\"offsetgroup\":\"IncFIB,IncFIC,rep_cluster_2244\",\"orientation\":\"v\",\"showlegend\":true,\"textposition\":\"auto\",\"x\":[1952,1976,1952,1976],\"xaxis\":\"x\",\"y\":[0.01818181818181818,0.1,0.01818181818181818,0.1],\"yaxis\":\"y\",\"type\":\"bar\"},{\"alignmentgroup\":\"True\",\"hovertemplate\":\"rep_type(s)_x=IncFIA,IncFIB,IncFIC,IncFII<br>Year Cultured=%{x}<br>Proportion of plasmids=%{y}<extra></extra>\",\"legendgroup\":\"IncFIA,IncFIB,IncFIC,IncFII\",\"marker\":{\"color\":\"#EF553B\",\"pattern\":{\"shape\":\"\"}},\"name\":\"IncFIA,IncFIB,IncFIC,IncFII\",\"offsetgroup\":\"IncFIA,IncFIB,IncFIC,IncFII\",\"orientation\":\"v\",\"showlegend\":true,\"textposition\":\"auto\",\"x\":[1952,1952],\"xaxis\":\"x\",\"y\":[0.01818181818181818,0.01818181818181818],\"yaxis\":\"y\",\"type\":\"bar\"},{\"alignmentgroup\":\"True\",\"hovertemplate\":\"rep_type(s)_x=IncFIB,IncFII,IncI-gamma/K1<br>Year Cultured=%{x}<br>Proportion of plasmids=%{y}<extra></extra>\",\"legendgroup\":\"IncFIB,IncFII,IncI-gamma/K1\",\"marker\":{\"color\":\"#00cc96\",\"pattern\":{\"shape\":\"\"}},\"name\":\"IncFIB,IncFII,IncI-gamma/K1\",\"offsetgroup\":\"IncFIB,IncFII,IncI-gamma/K1\",\"orientation\":\"v\",\"showlegend\":true,\"textposition\":\"auto\",\"x\":[1952,1952],\"xaxis\":\"x\",\"y\":[0.01818181818181818,0.01818181818181818],\"yaxis\":\"y\",\"type\":\"bar\"},{\"alignmentgroup\":\"True\",\"hovertemplate\":\"rep_type(s)_x=rep_cluster_2373<br>Year Cultured=%{x}<br>Proportion of plasmids=%{y}<extra></extra>\",\"legendgroup\":\"rep_cluster_2373\",\"marker\":{\"color\":\"#ab63fa\",\"pattern\":{\"shape\":\"\"}},\"name\":\"rep_cluster_2373\",\"offsetgroup\":\"rep_cluster_2373\",\"orientation\":\"v\",\"showlegend\":true,\"textposition\":\"auto\",\"x\":[1952],\"xaxis\":\"x\",\"y\":[0.01818181818181818],\"yaxis\":\"y\",\"type\":\"bar\"}],                        {\"template\":{\"data\":{\"histogram2dcontour\":[{\"type\":\"histogram2dcontour\",\"colorbar\":{\"outlinewidth\":0,\"ticks\":\"\"},\"colorscale\":[[0.0,\"#0d0887\"],[0.1111111111111111,\"#46039f\"],[0.2222222222222222,\"#7201a8\"],[0.3333333333333333,\"#9c179e\"],[0.4444444444444444,\"#bd3786\"],[0.5555555555555556,\"#d8576b\"],[0.6666666666666666,\"#ed7953\"],[0.7777777777777778,\"#fb9f3a\"],[0.8888888888888888,\"#fdca26\"],[1.0,\"#f0f921\"]]}],\"choropleth\":[{\"type\":\"choropleth\",\"colorbar\":{\"outlinewidth\":0,\"ticks\":\"\"}}],\"histogram2d\":[{\"type\":\"histogram2d\",\"colorbar\":{\"outlinewidth\":0,\"ticks\":\"\"},\"colorscale\":[[0.0,\"#0d0887\"],[0.1111111111111111,\"#46039f\"],[0.2222222222222222,\"#7201a8\"],[0.3333333333333333,\"#9c179e\"],[0.4444444444444444,\"#bd3786\"],[0.5555555555555556,\"#d8576b\"],[0.6666666666666666,\"#ed7953\"],[0.7777777777777778,\"#fb9f3a\"],[0.8888888888888888,\"#fdca26\"],[1.0,\"#f0f921\"]]}],\"heatmap\":[{\"type\":\"heatmap\",\"colorbar\":{\"outlinewidth\":0,\"ticks\":\"\"},\"colorscale\":[[0.0,\"#0d0887\"],[0.1111111111111111,\"#46039f\"],[0.2222222222222222,\"#7201a8\"],[0.3333333333333333,\"#9c179e\"],[0.4444444444444444,\"#bd3786\"],[0.5555555555555556,\"#d8576b\"],[0.6666666666666666,\"#ed7953\"],[0.7777777777777778,\"#fb9f3a\"],[0.8888888888888888,\"#fdca26\"],[1.0,\"#f0f921\"]]}],\"heatmapgl\":[{\"type\":\"heatmapgl\",\"colorbar\":{\"outlinewidth\":0,\"ticks\":\"\"},\"colorscale\":[[0.0,\"#0d0887\"],[0.1111111111111111,\"#46039f\"],[0.2222222222222222,\"#7201a8\"],[0.3333333333333333,\"#9c179e\"],[0.4444444444444444,\"#bd3786\"],[0.5555555555555556,\"#d8576b\"],[0.6666666666666666,\"#ed7953\"],[0.7777777777777778,\"#fb9f3a\"],[0.8888888888888888,\"#fdca26\"],[1.0,\"#f0f921\"]]}],\"contourcarpet\":[{\"type\":\"contourcarpet\",\"colorbar\":{\"outlinewidth\":0,\"ticks\":\"\"}}],\"contour\":[{\"type\":\"contour\",\"colorbar\":{\"outlinewidth\":0,\"ticks\":\"\"},\"colorscale\":[[0.0,\"#0d0887\"],[0.1111111111111111,\"#46039f\"],[0.2222222222222222,\"#7201a8\"],[0.3333333333333333,\"#9c179e\"],[0.4444444444444444,\"#bd3786\"],[0.5555555555555556,\"#d8576b\"],[0.6666666666666666,\"#ed7953\"],[0.7777777777777778,\"#fb9f3a\"],[0.8888888888888888,\"#fdca26\"],[1.0,\"#f0f921\"]]}],\"surface\":[{\"type\":\"surface\",\"colorbar\":{\"outlinewidth\":0,\"ticks\":\"\"},\"colorscale\":[[0.0,\"#0d0887\"],[0.1111111111111111,\"#46039f\"],[0.2222222222222222,\"#7201a8\"],[0.3333333333333333,\"#9c179e\"],[0.4444444444444444,\"#bd3786\"],[0.5555555555555556,\"#d8576b\"],[0.6666666666666666,\"#ed7953\"],[0.7777777777777778,\"#fb9f3a\"],[0.8888888888888888,\"#fdca26\"],[1.0,\"#f0f921\"]]}],\"mesh3d\":[{\"type\":\"mesh3d\",\"colorbar\":{\"outlinewidth\":0,\"ticks\":\"\"}}],\"scatter\":[{\"fillpattern\":{\"fillmode\":\"overlay\",\"size\":10,\"solidity\":0.2},\"type\":\"scatter\"}],\"parcoords\":[{\"type\":\"parcoords\",\"line\":{\"colorbar\":{\"outlinewidth\":0,\"ticks\":\"\"}}}],\"scatterpolargl\":[{\"type\":\"scatterpolargl\",\"marker\":{\"colorbar\":{\"outlinewidth\":0,\"ticks\":\"\"}}}],\"bar\":[{\"error_x\":{\"color\":\"#2a3f5f\"},\"error_y\":{\"color\":\"#2a3f5f\"},\"marker\":{\"line\":{\"color\":\"#E5ECF6\",\"width\":0.5},\"pattern\":{\"fillmode\":\"overlay\",\"size\":10,\"solidity\":0.2}},\"type\":\"bar\"}],\"scattergeo\":[{\"type\":\"scattergeo\",\"marker\":{\"colorbar\":{\"outlinewidth\":0,\"ticks\":\"\"}}}],\"scatterpolar\":[{\"type\":\"scatterpolar\",\"marker\":{\"colorbar\":{\"outlinewidth\":0,\"ticks\":\"\"}}}],\"histogram\":[{\"marker\":{\"pattern\":{\"fillmode\":\"overlay\",\"size\":10,\"solidity\":0.2}},\"type\":\"histogram\"}],\"scattergl\":[{\"type\":\"scattergl\",\"marker\":{\"colorbar\":{\"outlinewidth\":0,\"ticks\":\"\"}}}],\"scatter3d\":[{\"type\":\"scatter3d\",\"line\":{\"colorbar\":{\"outlinewidth\":0,\"ticks\":\"\"}},\"marker\":{\"colorbar\":{\"outlinewidth\":0,\"ticks\":\"\"}}}],\"scattermapbox\":[{\"type\":\"scattermapbox\",\"marker\":{\"colorbar\":{\"outlinewidth\":0,\"ticks\":\"\"}}}],\"scatterternary\":[{\"type\":\"scatterternary\",\"marker\":{\"colorbar\":{\"outlinewidth\":0,\"ticks\":\"\"}}}],\"scattercarpet\":[{\"type\":\"scattercarpet\",\"marker\":{\"colorbar\":{\"outlinewidth\":0,\"ticks\":\"\"}}}],\"carpet\":[{\"aaxis\":{\"endlinecolor\":\"#2a3f5f\",\"gridcolor\":\"white\",\"linecolor\":\"white\",\"minorgridcolor\":\"white\",\"startlinecolor\":\"#2a3f5f\"},\"baxis\":{\"endlinecolor\":\"#2a3f5f\",\"gridcolor\":\"white\",\"linecolor\":\"white\",\"minorgridcolor\":\"white\",\"startlinecolor\":\"#2a3f5f\"},\"type\":\"carpet\"}],\"table\":[{\"cells\":{\"fill\":{\"color\":\"#EBF0F8\"},\"line\":{\"color\":\"white\"}},\"header\":{\"fill\":{\"color\":\"#C8D4E3\"},\"line\":{\"color\":\"white\"}},\"type\":\"table\"}],\"barpolar\":[{\"marker\":{\"line\":{\"color\":\"#E5ECF6\",\"width\":0.5},\"pattern\":{\"fillmode\":\"overlay\",\"size\":10,\"solidity\":0.2}},\"type\":\"barpolar\"}],\"pie\":[{\"automargin\":true,\"type\":\"pie\"}]},\"layout\":{\"autotypenumbers\":\"strict\",\"colorway\":[\"#636efa\",\"#EF553B\",\"#00cc96\",\"#ab63fa\",\"#FFA15A\",\"#19d3f3\",\"#FF6692\",\"#B6E880\",\"#FF97FF\",\"#FECB52\"],\"font\":{\"color\":\"#2a3f5f\"},\"hovermode\":\"closest\",\"hoverlabel\":{\"align\":\"left\"},\"paper_bgcolor\":\"white\",\"plot_bgcolor\":\"#E5ECF6\",\"polar\":{\"bgcolor\":\"#E5ECF6\",\"angularaxis\":{\"gridcolor\":\"white\",\"linecolor\":\"white\",\"ticks\":\"\"},\"radialaxis\":{\"gridcolor\":\"white\",\"linecolor\":\"white\",\"ticks\":\"\"}},\"ternary\":{\"bgcolor\":\"#E5ECF6\",\"aaxis\":{\"gridcolor\":\"white\",\"linecolor\":\"white\",\"ticks\":\"\"},\"baxis\":{\"gridcolor\":\"white\",\"linecolor\":\"white\",\"ticks\":\"\"},\"caxis\":{\"gridcolor\":\"white\",\"linecolor\":\"white\",\"ticks\":\"\"}},\"coloraxis\":{\"colorbar\":{\"outlinewidth\":0,\"ticks\":\"\"}},\"colorscale\":{\"sequential\":[[0.0,\"#0d0887\"],[0.1111111111111111,\"#46039f\"],[0.2222222222222222,\"#7201a8\"],[0.3333333333333333,\"#9c179e\"],[0.4444444444444444,\"#bd3786\"],[0.5555555555555556,\"#d8576b\"],[0.6666666666666666,\"#ed7953\"],[0.7777777777777778,\"#fb9f3a\"],[0.8888888888888888,\"#fdca26\"],[1.0,\"#f0f921\"]],\"sequentialminus\":[[0.0,\"#0d0887\"],[0.1111111111111111,\"#46039f\"],[0.2222222222222222,\"#7201a8\"],[0.3333333333333333,\"#9c179e\"],[0.4444444444444444,\"#bd3786\"],[0.5555555555555556,\"#d8576b\"],[0.6666666666666666,\"#ed7953\"],[0.7777777777777778,\"#fb9f3a\"],[0.8888888888888888,\"#fdca26\"],[1.0,\"#f0f921\"]],\"diverging\":[[0,\"#8e0152\"],[0.1,\"#c51b7d\"],[0.2,\"#de77ae\"],[0.3,\"#f1b6da\"],[0.4,\"#fde0ef\"],[0.5,\"#f7f7f7\"],[0.6,\"#e6f5d0\"],[0.7,\"#b8e186\"],[0.8,\"#7fbc41\"],[0.9,\"#4d9221\"],[1,\"#276419\"]]},\"xaxis\":{\"gridcolor\":\"white\",\"linecolor\":\"white\",\"ticks\":\"\",\"title\":{\"standoff\":15},\"zerolinecolor\":\"white\",\"automargin\":true,\"zerolinewidth\":2},\"yaxis\":{\"gridcolor\":\"white\",\"linecolor\":\"white\",\"ticks\":\"\",\"title\":{\"standoff\":15},\"zerolinecolor\":\"white\",\"automargin\":true,\"zerolinewidth\":2},\"scene\":{\"xaxis\":{\"backgroundcolor\":\"#E5ECF6\",\"gridcolor\":\"white\",\"linecolor\":\"white\",\"showbackground\":true,\"ticks\":\"\",\"zerolinecolor\":\"white\",\"gridwidth\":2},\"yaxis\":{\"backgroundcolor\":\"#E5ECF6\",\"gridcolor\":\"white\",\"linecolor\":\"white\",\"showbackground\":true,\"ticks\":\"\",\"zerolinecolor\":\"white\",\"gridwidth\":2},\"zaxis\":{\"backgroundcolor\":\"#E5ECF6\",\"gridcolor\":\"white\",\"linecolor\":\"white\",\"showbackground\":true,\"ticks\":\"\",\"zerolinecolor\":\"white\",\"gridwidth\":2}},\"shapedefaults\":{\"line\":{\"color\":\"#2a3f5f\"}},\"annotationdefaults\":{\"arrowcolor\":\"#2a3f5f\",\"arrowhead\":0,\"arrowwidth\":1},\"geo\":{\"bgcolor\":\"white\",\"landcolor\":\"#E5ECF6\",\"subunitcolor\":\"white\",\"showland\":true,\"showlakes\":true,\"lakecolor\":\"white\"},\"title\":{\"x\":0.05},\"mapbox\":{\"style\":\"light\"}}},\"xaxis\":{\"anchor\":\"y\",\"domain\":[0.0,1.0],\"title\":{\"text\":\"Year Cultured\"}},\"yaxis\":{\"anchor\":\"x\",\"domain\":[0.0,1.0],\"title\":{\"text\":\"Proportion of plasmids\"}},\"legend\":{\"title\":{\"text\":\"rep_type(s)_x\"},\"tracegroupgap\":0},\"title\":{\"text\":\"All E. Coli Plasmids\"},\"barmode\":\"relative\"},                        {\"responsive\": true}                    ).then(function(){\n",
       "                            \n",
       "var gd = document.getElementById('0fcd6bc4-72a6-43fd-961f-69183f037a04');\n",
       "var x = new MutationObserver(function (mutations, observer) {{\n",
       "        var display = window.getComputedStyle(gd).display;\n",
       "        if (!display || display === 'none') {{\n",
       "            console.log([gd, 'removed!']);\n",
       "            Plotly.purge(gd);\n",
       "            observer.disconnect();\n",
       "        }}\n",
       "}});\n",
       "\n",
       "// Listen for the removal of the full notebook cells\n",
       "var notebookContainer = gd.closest('#notebook-container');\n",
       "if (notebookContainer) {{\n",
       "    x.observe(notebookContainer, {childList: true});\n",
       "}}\n",
       "\n",
       "// Listen for the clearing of the current output cell\n",
       "var outputEl = gd.closest('.output');\n",
       "if (outputEl) {{\n",
       "    x.observe(outputEl, {childList: true});\n",
       "}}\n",
       "\n",
       "                        })                };                });            </script>        </div>"
      ]
     },
     "metadata": {},
     "output_type": "display_data"
    }
   ],
   "source": [
    "px.bar(\n",
    "    mob_rgi,\n",
    "    x=\"Year\",\n",
    "    y=mob_rgi['Year'].map((1/mob_rgi['Year'].value_counts()).to_dict()),\n",
    "    labels={\"Year\": \"Year Cultured\", 'predicted_mobility_x': \"Predicted Mobility\", 'y': 'Proportion of plasmids'},\n",
    "    title=\"All E. Coli Plasmids\",\n",
    "    # hover_data=[\"Accession_Number\", \"Resistance Mechanism\", \"Best_Hit_ARO\", \"Drug Class\", \"AMR Gene Family\", 'Contig', 'Strain'],\n",
    "    # color='Best_Hit_ARO',\n",
    "    color='rep_type(s)_x'\n",
    ")"
   ]
  },
  {
   "cell_type": "code",
   "execution_count": 12,
   "id": "d8ce707c-616d-47ad-8e82-ba75d7d896ff",
   "metadata": {},
   "outputs": [
    {
     "data": {
      "image/png": "[encoded data removed]",
      "text/plain": [
       "<Figure size 432x288 with 1 Axes>"
      ]
     },
     "metadata": {
      "needs_background": "light"
     },
     "output_type": "display_data"
    }
   ],
   "source": [
    "fig = sns.kdeplot(data=mob_rgi, x=\"Year\", hue=\"predicted_mobility_x\", multiple=\"fill\", cut=0, bw_adjust=0.9)\n",
    "plt.xlabel('Year Cultured')\n",
    "sns.move_legend(fig, loc='upper left')\n",
    "# plt.savefig('./all-blactamases.png', dpi=200)"
   ]
  },
  {
   "cell_type": "code",
   "execution_count": 15,
   "id": "4296afdc-23ea-4f19-b493-b50dd9cdca00",
   "metadata": {},
   "outputs": [
    {
     "data": {
      "text/html": [
       "<div>\n",
       "<style scoped>\n",
       "    .dataframe tbody tr th:only-of-type {\n",
       "        vertical-align: middle;\n",
       "    }\n",
       "\n",
       "    .dataframe tbody tr th {\n",
       "        vertical-align: top;\n",
       "    }\n",
       "\n",
       "    .dataframe thead th {\n",
       "        text-align: right;\n",
       "    }\n",
       "</style>\n",
       "<table border=\"1\" class=\"dataframe\">\n",
       "  <thead>\n",
       "    <tr style=\"text-align: right;\">\n",
       "      <th></th>\n",
       "      <th>index</th>\n",
       "      <th>AccNum_x</th>\n",
       "      <th>sample_id_x</th>\n",
       "      <th>num_contigs</th>\n",
       "      <th>size_x</th>\n",
       "      <th>gc_x</th>\n",
       "      <th>md5_x</th>\n",
       "      <th>rep_type(s)_x</th>\n",
       "      <th>rep_type_accession(s)_x</th>\n",
       "      <th>relaxase_type(s)_x</th>\n",
       "      <th>...</th>\n",
       "      <th>predicted_mobility_y</th>\n",
       "      <th>mash_nearest_neighbor_y</th>\n",
       "      <th>mash_neighbor_distance_y</th>\n",
       "      <th>mash_neighbor_identification_y</th>\n",
       "      <th>repetitive_dna_id</th>\n",
       "      <th>repetitive_dna_type</th>\n",
       "      <th>filtering_reason</th>\n",
       "      <th>0</th>\n",
       "      <th>Year</th>\n",
       "      <th>contig</th>\n",
       "    </tr>\n",
       "  </thead>\n",
       "  <tbody>\n",
       "    <tr>\n",
       "      <th>366</th>\n",
       "      <td>6739</td>\n",
       "      <td>NCTC10650</td>\n",
       "      <td>assembly:AA551</td>\n",
       "      <td>1</td>\n",
       "      <td>62639</td>\n",
       "      <td>53.236801</td>\n",
       "      <td>d12855b0713a62c4ab46ba1efb1b7521</td>\n",
       "      <td>IncN</td>\n",
       "      <td>000153__NC_019087_00001</td>\n",
       "      <td>MOBF</td>\n",
       "      <td>...</td>\n",
       "      <td>-</td>\n",
       "      <td>HE613857</td>\n",
       "      <td>0.00594242</td>\n",
       "      <td>Escherichia coli</td>\n",
       "      <td>-</td>\n",
       "      <td>-</td>\n",
       "      <td>-</td>\n",
       "      <td>UART01000002.1</td>\n",
       "      <td>1969</td>\n",
       "      <td>UART01000002.1</td>\n",
       "    </tr>\n",
       "    <tr>\n",
       "      <th>367</th>\n",
       "      <td>6742</td>\n",
       "      <td>NCTC12116</td>\n",
       "      <td>assembly:AA551</td>\n",
       "      <td>1</td>\n",
       "      <td>36272</td>\n",
       "      <td>50.589987</td>\n",
       "      <td>5d01703c97e09a749e61f9435981b1e7</td>\n",
       "      <td>IncN</td>\n",
       "      <td>000155__CP018649</td>\n",
       "      <td>MOBF</td>\n",
       "      <td>...</td>\n",
       "      <td>-</td>\n",
       "      <td>HE613857</td>\n",
       "      <td>0.00594242</td>\n",
       "      <td>Escherichia coli</td>\n",
       "      <td>-</td>\n",
       "      <td>-</td>\n",
       "      <td>-</td>\n",
       "      <td>UART01000002.1</td>\n",
       "      <td>1987</td>\n",
       "      <td>UART01000002.1</td>\n",
       "    </tr>\n",
       "    <tr>\n",
       "      <th>368</th>\n",
       "      <td>6745</td>\n",
       "      <td>NCTC13352</td>\n",
       "      <td>assembly:AA551</td>\n",
       "      <td>1</td>\n",
       "      <td>51363</td>\n",
       "      <td>51.745420</td>\n",
       "      <td>76e7c4d7c883433401b50f790559339a</td>\n",
       "      <td>IncN</td>\n",
       "      <td>000153__NC_019087_00001</td>\n",
       "      <td>MOBF</td>\n",
       "      <td>...</td>\n",
       "      <td>-</td>\n",
       "      <td>HE613857</td>\n",
       "      <td>0.00594242</td>\n",
       "      <td>Escherichia coli</td>\n",
       "      <td>-</td>\n",
       "      <td>-</td>\n",
       "      <td>-</td>\n",
       "      <td>UART01000002.1</td>\n",
       "      <td>1988</td>\n",
       "      <td>UART01000002.1</td>\n",
       "    </tr>\n",
       "    <tr>\n",
       "      <th>503</th>\n",
       "      <td>7643</td>\n",
       "      <td>NCTC10957</td>\n",
       "      <td>assembly:AA738</td>\n",
       "      <td>1</td>\n",
       "      <td>220668</td>\n",
       "      <td>45.501840</td>\n",
       "      <td>b22d6d478e655c244cdd8cc586193a7f</td>\n",
       "      <td>IncHI2A,rep_cluster_1088</td>\n",
       "      <td>BX664015,000340__KU353730</td>\n",
       "      <td>MOBH</td>\n",
       "      <td>...</td>\n",
       "      <td>-</td>\n",
       "      <td>MN232195</td>\n",
       "      <td>0.00597612</td>\n",
       "      <td>Escherichia coli</td>\n",
       "      <td>-</td>\n",
       "      <td>-</td>\n",
       "      <td>-</td>\n",
       "      <td>UGFJ01000002.1</td>\n",
       "      <td>1971</td>\n",
       "      <td>UGFJ01000002.1</td>\n",
       "    </tr>\n",
       "    <tr>\n",
       "      <th>504</th>\n",
       "      <td>7648</td>\n",
       "      <td>NCTC13462</td>\n",
       "      <td>assembly:AA738</td>\n",
       "      <td>1</td>\n",
       "      <td>239622</td>\n",
       "      <td>46.502408</td>\n",
       "      <td>14324db39984738e5634ebc458c435b1</td>\n",
       "      <td>IncHI2A,rep_cluster_1088</td>\n",
       "      <td>BX664015,000340__KU353730</td>\n",
       "      <td>MOBH</td>\n",
       "      <td>...</td>\n",
       "      <td>-</td>\n",
       "      <td>MN232195</td>\n",
       "      <td>0.00597612</td>\n",
       "      <td>Escherichia coli</td>\n",
       "      <td>-</td>\n",
       "      <td>-</td>\n",
       "      <td>-</td>\n",
       "      <td>UGFJ01000002.1</td>\n",
       "      <td>2006</td>\n",
       "      <td>UGFJ01000002.1</td>\n",
       "    </tr>\n",
       "    <tr>\n",
       "      <th>505</th>\n",
       "      <td>7653</td>\n",
       "      <td>NCTC13846</td>\n",
       "      <td>assembly:AA738</td>\n",
       "      <td>2</td>\n",
       "      <td>314654</td>\n",
       "      <td>45.694636</td>\n",
       "      <td>a465d5066ffecfa02bcaf810339975fd</td>\n",
       "      <td>IncHI2A,rep_cluster_1088,IncI2</td>\n",
       "      <td>BX664015,000340__KU353730,JN983044</td>\n",
       "      <td>MOBH,MOBP</td>\n",
       "      <td>...</td>\n",
       "      <td>-</td>\n",
       "      <td>MN232195</td>\n",
       "      <td>0.00597612</td>\n",
       "      <td>Escherichia coli</td>\n",
       "      <td>-</td>\n",
       "      <td>-</td>\n",
       "      <td>-</td>\n",
       "      <td>UGFJ01000002.1</td>\n",
       "      <td>2013</td>\n",
       "      <td>UGFJ01000002.1</td>\n",
       "    </tr>\n",
       "    <tr>\n",
       "      <th>506</th>\n",
       "      <td>7658</td>\n",
       "      <td>NCTC9068</td>\n",
       "      <td>assembly:AA738</td>\n",
       "      <td>1</td>\n",
       "      <td>189530</td>\n",
       "      <td>44.374505</td>\n",
       "      <td>abda961c8ac1ba5bbc25c362fca6b200</td>\n",
       "      <td>IncHI2A,rep_cluster_1088</td>\n",
       "      <td>BX664015,000340__KU353730</td>\n",
       "      <td>MOBH</td>\n",
       "      <td>...</td>\n",
       "      <td>-</td>\n",
       "      <td>MN232195</td>\n",
       "      <td>0.00597612</td>\n",
       "      <td>Escherichia coli</td>\n",
       "      <td>-</td>\n",
       "      <td>-</td>\n",
       "      <td>-</td>\n",
       "      <td>UGFJ01000002.1</td>\n",
       "      <td>1952</td>\n",
       "      <td>UGFJ01000002.1</td>\n",
       "    </tr>\n",
       "    <tr>\n",
       "      <th>509</th>\n",
       "      <td>7667</td>\n",
       "      <td>NCTC10960</td>\n",
       "      <td>assembly:AA315</td>\n",
       "      <td>1</td>\n",
       "      <td>98022</td>\n",
       "      <td>53.351288</td>\n",
       "      <td>616262f73d96a47462963cc02c22bf04</td>\n",
       "      <td>IncFIA,IncFIC</td>\n",
       "      <td>000136__AP014877_00014,CP014493_00001</td>\n",
       "      <td>MOBF</td>\n",
       "      <td>...</td>\n",
       "      <td>-</td>\n",
       "      <td>MK092064</td>\n",
       "      <td>0.00804257</td>\n",
       "      <td>Escherichia coli</td>\n",
       "      <td>-</td>\n",
       "      <td>-</td>\n",
       "      <td>-</td>\n",
       "      <td>UGFL01000004.1</td>\n",
       "      <td>1971</td>\n",
       "      <td>UGFL01000004.1</td>\n",
       "    </tr>\n",
       "    <tr>\n",
       "      <th>510</th>\n",
       "      <td>7669</td>\n",
       "      <td>NCTC8620</td>\n",
       "      <td>assembly:AA315</td>\n",
       "      <td>1</td>\n",
       "      <td>61786</td>\n",
       "      <td>52.040915</td>\n",
       "      <td>bdb596f81caf9026df69cf236911895e</td>\n",
       "      <td>IncFIA</td>\n",
       "      <td>000136__AP014877_00014</td>\n",
       "      <td>MOBF,MOBF</td>\n",
       "      <td>...</td>\n",
       "      <td>-</td>\n",
       "      <td>MK092064</td>\n",
       "      <td>0.00804257</td>\n",
       "      <td>Escherichia coli</td>\n",
       "      <td>-</td>\n",
       "      <td>-</td>\n",
       "      <td>-</td>\n",
       "      <td>UGFL01000004.1</td>\n",
       "      <td>1949</td>\n",
       "      <td>UGFL01000004.1</td>\n",
       "    </tr>\n",
       "    <tr>\n",
       "      <th>566</th>\n",
       "      <td>7876</td>\n",
       "      <td>NCTC11472</td>\n",
       "      <td>assembly:AA334</td>\n",
       "      <td>2</td>\n",
       "      <td>238745</td>\n",
       "      <td>52.069363</td>\n",
       "      <td>47b061d759f83896bab496bfcec70f58</td>\n",
       "      <td>IncFIA,IncFIB,IncFIA,IncFIC</td>\n",
       "      <td>CP012501_00008,000095__NZ_CP014273_00094,00013...</td>\n",
       "      <td>MOBF,MOBF,MOBP</td>\n",
       "      <td>...</td>\n",
       "      <td>-</td>\n",
       "      <td>NC_008460</td>\n",
       "      <td>0.017359</td>\n",
       "      <td>Escherichia coli</td>\n",
       "      <td>-</td>\n",
       "      <td>-</td>\n",
       "      <td>-</td>\n",
       "      <td>UGAG01000003.1</td>\n",
       "      <td>1982</td>\n",
       "      <td>UGAG01000003.1</td>\n",
       "    </tr>\n",
       "    <tr>\n",
       "      <th>567</th>\n",
       "      <td>7879</td>\n",
       "      <td>NCTC9091</td>\n",
       "      <td>assembly:AA334</td>\n",
       "      <td>1</td>\n",
       "      <td>134930</td>\n",
       "      <td>48.903135</td>\n",
       "      <td>3dc163ea3e8462773ab4364ff638361e</td>\n",
       "      <td>IncFIA,IncFIB</td>\n",
       "      <td>CP012501_00008,000095__NZ_CP014273_00094</td>\n",
       "      <td>MOBF</td>\n",
       "      <td>...</td>\n",
       "      <td>-</td>\n",
       "      <td>NC_008460</td>\n",
       "      <td>0.017359</td>\n",
       "      <td>Escherichia coli</td>\n",
       "      <td>-</td>\n",
       "      <td>-</td>\n",
       "      <td>-</td>\n",
       "      <td>UGAG01000003.1</td>\n",
       "      <td>1952</td>\n",
       "      <td>UGAG01000003.1</td>\n",
       "    </tr>\n",
       "    <tr>\n",
       "      <th>676</th>\n",
       "      <td>8164</td>\n",
       "      <td>NCTC12650</td>\n",
       "      <td>assembly:AB951</td>\n",
       "      <td>1</td>\n",
       "      <td>42644</td>\n",
       "      <td>43.731826</td>\n",
       "      <td>b613f140806d638aa67104cdee09d1ef</td>\n",
       "      <td>rep_cluster_2350</td>\n",
       "      <td>CP041342_00001</td>\n",
       "      <td>-</td>\n",
       "      <td>...</td>\n",
       "      <td>-</td>\n",
       "      <td>NC_019053</td>\n",
       "      <td>0.0234513</td>\n",
       "      <td>Escherichia coli</td>\n",
       "      <td>-</td>\n",
       "      <td>-</td>\n",
       "      <td>-</td>\n",
       "      <td>CABEEF010000001.1</td>\n",
       "      <td>1992</td>\n",
       "      <td>CABEEF010000001.1</td>\n",
       "    </tr>\n",
       "    <tr>\n",
       "      <th>677</th>\n",
       "      <td>8166</td>\n",
       "      <td>NCTC12654</td>\n",
       "      <td>assembly:AB951</td>\n",
       "      <td>1</td>\n",
       "      <td>63398</td>\n",
       "      <td>46.611881</td>\n",
       "      <td>c225d81c663eade76da96c554cfaa771</td>\n",
       "      <td>rep_cluster_2350</td>\n",
       "      <td>CP041342_00001</td>\n",
       "      <td>-</td>\n",
       "      <td>...</td>\n",
       "      <td>-</td>\n",
       "      <td>NC_019053</td>\n",
       "      <td>0.0234513</td>\n",
       "      <td>Escherichia coli</td>\n",
       "      <td>-</td>\n",
       "      <td>-</td>\n",
       "      <td>-</td>\n",
       "      <td>CABEEF010000001.1</td>\n",
       "      <td>1992</td>\n",
       "      <td>CABEEF010000001.1</td>\n",
       "    </tr>\n",
       "    <tr>\n",
       "      <th>718</th>\n",
       "      <td>8223</td>\n",
       "      <td>NCTC13351</td>\n",
       "      <td>assembly:AA002</td>\n",
       "      <td>1</td>\n",
       "      <td>83240</td>\n",
       "      <td>53.813071</td>\n",
       "      <td>7fb830588b1252d097f3795a59957009</td>\n",
       "      <td>IncL/M</td>\n",
       "      <td>U27345</td>\n",
       "      <td>MOBP</td>\n",
       "      <td>...</td>\n",
       "      <td>-</td>\n",
       "      <td>LT985264</td>\n",
       "      <td>0.00113443</td>\n",
       "      <td>Escherichia coli</td>\n",
       "      <td>-</td>\n",
       "      <td>-</td>\n",
       "      <td>-</td>\n",
       "      <td>UFZR01000001.1</td>\n",
       "      <td>1985</td>\n",
       "      <td>UFZR01000001.1</td>\n",
       "    </tr>\n",
       "    <tr>\n",
       "      <th>719</th>\n",
       "      <td>8225</td>\n",
       "      <td>NCTC13440</td>\n",
       "      <td>assembly:AA002</td>\n",
       "      <td>1</td>\n",
       "      <td>58667</td>\n",
       "      <td>51.845160</td>\n",
       "      <td>f38766b29cc5a4fa1c3e3a1ed893f738</td>\n",
       "      <td>IncL/M</td>\n",
       "      <td>JN626286</td>\n",
       "      <td>MOBP</td>\n",
       "      <td>...</td>\n",
       "      <td>-</td>\n",
       "      <td>LT985264</td>\n",
       "      <td>0.00113443</td>\n",
       "      <td>Escherichia coli</td>\n",
       "      <td>-</td>\n",
       "      <td>-</td>\n",
       "      <td>-</td>\n",
       "      <td>UFZR01000001.1</td>\n",
       "      <td>2008</td>\n",
       "      <td>UFZR01000001.1</td>\n",
       "    </tr>\n",
       "    <tr>\n",
       "      <th>720</th>\n",
       "      <td>8227</td>\n",
       "      <td>NCTC13352</td>\n",
       "      <td>assembly:AA667</td>\n",
       "      <td>1</td>\n",
       "      <td>14490</td>\n",
       "      <td>49.427191</td>\n",
       "      <td>883b82f1441a2f5fea26fca8d4b831ac</td>\n",
       "      <td>rep_cluster_2350</td>\n",
       "      <td>CP041342_00001</td>\n",
       "      <td>MOBF</td>\n",
       "      <td>...</td>\n",
       "      <td>-</td>\n",
       "      <td>HG428760</td>\n",
       "      <td>0.0179508</td>\n",
       "      <td>Salmonella enterica subsp. enterica serovar De...</td>\n",
       "      <td>-</td>\n",
       "      <td>-</td>\n",
       "      <td>-</td>\n",
       "      <td>UFZZ01000001.1</td>\n",
       "      <td>1988</td>\n",
       "      <td>UFZZ01000001.1</td>\n",
       "    </tr>\n",
       "    <tr>\n",
       "      <th>803</th>\n",
       "      <td>8515</td>\n",
       "      <td>NCTC13919</td>\n",
       "      <td>assembly:AC507</td>\n",
       "      <td>1</td>\n",
       "      <td>16035</td>\n",
       "      <td>61.721235</td>\n",
       "      <td>7bf5ada95eb8043be542439937c229c6</td>\n",
       "      <td>IncQ2</td>\n",
       "      <td>000201__KJ631731_00005</td>\n",
       "      <td>MOBP</td>\n",
       "      <td>...</td>\n",
       "      <td>-</td>\n",
       "      <td>NC_014356</td>\n",
       "      <td>0.00108342</td>\n",
       "      <td>Escherichia coli</td>\n",
       "      <td>-</td>\n",
       "      <td>-</td>\n",
       "      <td>-</td>\n",
       "      <td>UARQ01000013.1</td>\n",
       "      <td>2016</td>\n",
       "      <td>UARQ01000013.1</td>\n",
       "    </tr>\n",
       "  </tbody>\n",
       "</table>\n",
       "<p>17 rows × 57 columns</p>\n",
       "</div>"
      ],
      "text/plain": [
       "     index   AccNum_x     sample_id_x  num_contigs  size_x       gc_x  \\\n",
       "366   6739  NCTC10650  assembly:AA551            1   62639  53.236801   \n",
       "367   6742  NCTC12116  assembly:AA551            1   36272  50.589987   \n",
       "368   6745  NCTC13352  assembly:AA551            1   51363  51.745420   \n",
       "503   7643  NCTC10957  assembly:AA738            1  220668  45.501840   \n",
       "504   7648  NCTC13462  assembly:AA738            1  239622  46.502408   \n",
       "505   7653  NCTC13846  assembly:AA738            2  314654  45.694636   \n",
       "506   7658   NCTC9068  assembly:AA738            1  189530  44.374505   \n",
       "509   7667  NCTC10960  assembly:AA315            1   98022  53.351288   \n",
       "510   7669   NCTC8620  assembly:AA315            1   61786  52.040915   \n",
       "566   7876  NCTC11472  assembly:AA334            2  238745  52.069363   \n",
       "567   7879   NCTC9091  assembly:AA334            1  134930  48.903135   \n",
       "676   8164  NCTC12650  assembly:AB951            1   42644  43.731826   \n",
       "677   8166  NCTC12654  assembly:AB951            1   63398  46.611881   \n",
       "718   8223  NCTC13351  assembly:AA002            1   83240  53.813071   \n",
       "719   8225  NCTC13440  assembly:AA002            1   58667  51.845160   \n",
       "720   8227  NCTC13352  assembly:AA667            1   14490  49.427191   \n",
       "803   8515  NCTC13919  assembly:AC507            1   16035  61.721235   \n",
       "\n",
       "                                md5_x                   rep_type(s)_x  \\\n",
       "366  d12855b0713a62c4ab46ba1efb1b7521                            IncN   \n",
       "367  5d01703c97e09a749e61f9435981b1e7                            IncN   \n",
       "368  76e7c4d7c883433401b50f790559339a                            IncN   \n",
       "503  b22d6d478e655c244cdd8cc586193a7f        IncHI2A,rep_cluster_1088   \n",
       "504  14324db39984738e5634ebc458c435b1        IncHI2A,rep_cluster_1088   \n",
       "505  a465d5066ffecfa02bcaf810339975fd  IncHI2A,rep_cluster_1088,IncI2   \n",
       "506  abda961c8ac1ba5bbc25c362fca6b200        IncHI2A,rep_cluster_1088   \n",
       "509  616262f73d96a47462963cc02c22bf04                   IncFIA,IncFIC   \n",
       "510  bdb596f81caf9026df69cf236911895e                          IncFIA   \n",
       "566  47b061d759f83896bab496bfcec70f58     IncFIA,IncFIB,IncFIA,IncFIC   \n",
       "567  3dc163ea3e8462773ab4364ff638361e                   IncFIA,IncFIB   \n",
       "676  b613f140806d638aa67104cdee09d1ef                rep_cluster_2350   \n",
       "677  c225d81c663eade76da96c554cfaa771                rep_cluster_2350   \n",
       "718  7fb830588b1252d097f3795a59957009                          IncL/M   \n",
       "719  f38766b29cc5a4fa1c3e3a1ed893f738                          IncL/M   \n",
       "720  883b82f1441a2f5fea26fca8d4b831ac                rep_cluster_2350   \n",
       "803  7bf5ada95eb8043be542439937c229c6                           IncQ2   \n",
       "\n",
       "                               rep_type_accession(s)_x relaxase_type(s)_x  \\\n",
       "366                            000153__NC_019087_00001               MOBF   \n",
       "367                                   000155__CP018649               MOBF   \n",
       "368                            000153__NC_019087_00001               MOBF   \n",
       "503                          BX664015,000340__KU353730               MOBH   \n",
       "504                          BX664015,000340__KU353730               MOBH   \n",
       "505                 BX664015,000340__KU353730,JN983044          MOBH,MOBP   \n",
       "506                          BX664015,000340__KU353730               MOBH   \n",
       "509              000136__AP014877_00014,CP014493_00001               MOBF   \n",
       "510                             000136__AP014877_00014          MOBF,MOBF   \n",
       "566  CP012501_00008,000095__NZ_CP014273_00094,00013...     MOBF,MOBF,MOBP   \n",
       "567           CP012501_00008,000095__NZ_CP014273_00094               MOBF   \n",
       "676                                     CP041342_00001                  -   \n",
       "677                                     CP041342_00001                  -   \n",
       "718                                             U27345               MOBP   \n",
       "719                                           JN626286               MOBP   \n",
       "720                                     CP041342_00001               MOBF   \n",
       "803                             000201__KJ631731_00005               MOBP   \n",
       "\n",
       "     ... predicted_mobility_y mash_nearest_neighbor_y  \\\n",
       "366  ...                    -                HE613857   \n",
       "367  ...                    -                HE613857   \n",
       "368  ...                    -                HE613857   \n",
       "503  ...                    -                MN232195   \n",
       "504  ...                    -                MN232195   \n",
       "505  ...                    -                MN232195   \n",
       "506  ...                    -                MN232195   \n",
       "509  ...                    -                MK092064   \n",
       "510  ...                    -                MK092064   \n",
       "566  ...                    -               NC_008460   \n",
       "567  ...                    -               NC_008460   \n",
       "676  ...                    -               NC_019053   \n",
       "677  ...                    -               NC_019053   \n",
       "718  ...                    -                LT985264   \n",
       "719  ...                    -                LT985264   \n",
       "720  ...                    -                HG428760   \n",
       "803  ...                    -               NC_014356   \n",
       "\n",
       "    mash_neighbor_distance_y  \\\n",
       "366               0.00594242   \n",
       "367               0.00594242   \n",
       "368               0.00594242   \n",
       "503               0.00597612   \n",
       "504               0.00597612   \n",
       "505               0.00597612   \n",
       "506               0.00597612   \n",
       "509               0.00804257   \n",
       "510               0.00804257   \n",
       "566                 0.017359   \n",
       "567                 0.017359   \n",
       "676                0.0234513   \n",
       "677                0.0234513   \n",
       "718               0.00113443   \n",
       "719               0.00113443   \n",
       "720                0.0179508   \n",
       "803               0.00108342   \n",
       "\n",
       "                        mash_neighbor_identification_y repetitive_dna_id  \\\n",
       "366                                   Escherichia coli                 -   \n",
       "367                                   Escherichia coli                 -   \n",
       "368                                   Escherichia coli                 -   \n",
       "503                                   Escherichia coli                 -   \n",
       "504                                   Escherichia coli                 -   \n",
       "505                                   Escherichia coli                 -   \n",
       "506                                   Escherichia coli                 -   \n",
       "509                                   Escherichia coli                 -   \n",
       "510                                   Escherichia coli                 -   \n",
       "566                                   Escherichia coli                 -   \n",
       "567                                   Escherichia coli                 -   \n",
       "676                                   Escherichia coli                 -   \n",
       "677                                   Escherichia coli                 -   \n",
       "718                                   Escherichia coli                 -   \n",
       "719                                   Escherichia coli                 -   \n",
       "720  Salmonella enterica subsp. enterica serovar De...                 -   \n",
       "803                                   Escherichia coli                 -   \n",
       "\n",
       "    repetitive_dna_type filtering_reason                  0  Year  \\\n",
       "366                   -                -     UART01000002.1  1969   \n",
       "367                   -                -     UART01000002.1  1987   \n",
       "368                   -                -     UART01000002.1  1988   \n",
       "503                   -                -     UGFJ01000002.1  1971   \n",
       "504                   -                -     UGFJ01000002.1  2006   \n",
       "505                   -                -     UGFJ01000002.1  2013   \n",
       "506                   -                -     UGFJ01000002.1  1952   \n",
       "509                   -                -     UGFL01000004.1  1971   \n",
       "510                   -                -     UGFL01000004.1  1949   \n",
       "566                   -                -     UGAG01000003.1  1982   \n",
       "567                   -                -     UGAG01000003.1  1952   \n",
       "676                   -                -  CABEEF010000001.1  1992   \n",
       "677                   -                -  CABEEF010000001.1  1992   \n",
       "718                   -                -     UFZR01000001.1  1985   \n",
       "719                   -                -     UFZR01000001.1  2008   \n",
       "720                   -                -     UFZZ01000001.1  1988   \n",
       "803                   -                -     UARQ01000013.1  2016   \n",
       "\n",
       "                contig  \n",
       "366     UART01000002.1  \n",
       "367     UART01000002.1  \n",
       "368     UART01000002.1  \n",
       "503     UGFJ01000002.1  \n",
       "504     UGFJ01000002.1  \n",
       "505     UGFJ01000002.1  \n",
       "506     UGFJ01000002.1  \n",
       "509     UGFL01000004.1  \n",
       "510     UGFL01000004.1  \n",
       "566     UGAG01000003.1  \n",
       "567     UGAG01000003.1  \n",
       "676  CABEEF010000001.1  \n",
       "677  CABEEF010000001.1  \n",
       "718     UFZR01000001.1  \n",
       "719     UFZR01000001.1  \n",
       "720     UFZZ01000001.1  \n",
       "803     UARQ01000013.1  \n",
       "\n",
       "[17 rows x 57 columns]"
      ]
     },
     "execution_count": 15,
     "metadata": {},
     "output_type": "execute_result"
    }
   ],
   "source": [
    "mob_rgi\n",
    "# ecoli_mlplasmids_rgi['Contig']"
   ]
  },
  {
   "cell_type": "code",
   "execution_count": 14,
   "id": "9eba59ef-88c5-4389-8315-f9e0165ab2f1",
   "metadata": {},
   "outputs": [
    {
     "name": "stderr",
     "output_type": "stream",
     "text": [
      "/home/ak586/.conda/envs/RESIST/lib/python3.8/site-packages/seaborn/distributions.py:316: UserWarning:\n",
      "\n",
      "Dataset has 0 variance; skipping density estimate. Pass `warn_singular=False` to disable this warning.\n",
      "\n"
     ]
    },
    {
     "data": {
      "image/png": "[encoded data removed]",
      "text/plain": [
       "<Figure size 432x288 with 1 Axes>"
      ]
     },
     "metadata": {
      "needs_background": "light"
     },
     "output_type": "display_data"
    }
   ],
   "source": [
    "merged_mob['contig'] = merged_mob['contig_id'].str.split(' ', expand=True)[0]\n",
    "ecoli_mlplasmids_rgi['contig'] = ecoli_mlplasmids_rgi['Contig'].str.split('_', expand=True)[0]\n",
    "mob_rgi = merged_mob.loc[merged_mob['contig'].isin(ecoli_mlplasmids_rgi['contig'])].copy()\n",
    "fig = sns.kdeplot(data=mob_rgi, x=\"Year\", hue=\"predicted_mobility_x\", multiple=\"fill\", cut=0, bw_adjust=0.9)\n",
    "plt.xlabel('Year Cultured')\n",
    "sns.move_legend(fig, loc='upper left')"
   ]
  },
  {
   "cell_type": "code",
   "execution_count": 16,
   "id": "1f6edcbf-3d6b-44df-aedf-cb3455ba6939",
   "metadata": {},
   "outputs": [],
   "source": [
    "# mob_out.loc[mob_out['contig_id'].isin(ecoli_mlplasmid_out['Contig_name'])]['predicted_mobility'].value_counts()"
   ]
  },
  {
   "cell_type": "code",
   "execution_count": 22,
   "id": "7bb6ed70-32a6-4134-9b2d-b8e5fb62c95f",
   "metadata": {},
   "outputs": [
    {
     "name": "stdout",
     "output_type": "stream",
     "text": [
      "index\n",
      "AccNum_x\n",
      "sample_id_x\n",
      "num_contigs\n",
      "size_x\n",
      "gc_x\n",
      "md5_x\n",
      "rep_type(s)_x\n",
      "rep_type_accession(s)_x\n",
      "relaxase_type(s)_x\n",
      "relaxase_type_accession(s)_x\n",
      "mpf_type_x\n",
      "mpf_type_accession(s)_x\n",
      "orit_type(s)_x\n",
      "orit_accession(s)_x\n",
      "predicted_mobility_x\n",
      "mash_nearest_neighbor_x\n",
      "mash_neighbor_distance_x\n",
      "mash_neighbor_identification_x\n",
      "primary_cluster_id_x\n",
      "secondary_cluster_id_x\n",
      "predicted_host_range_overall_rank\n",
      "predicted_host_range_overall_name\n",
      "observed_host_range_ncbi_rank\n",
      "observed_host_range_ncbi_name\n",
      "reported_host_range_lit_rank\n",
      "reported_host_range_lit_name\n",
      "associated_pmid(s)\n",
      "sample\n",
      "AccNum_y\n",
      "sample_id_y\n",
      "molecule_type\n",
      "primary_cluster_id_y\n",
      "secondary_cluster_id_y\n",
      "contig_id\n",
      "size_y\n",
      "gc_y\n",
      "md5_y\n",
      "circularity_status\n",
      "rep_type(s)_y\n",
      "rep_type_accession(s)_y\n",
      "relaxase_type(s)_y\n",
      "relaxase_type_accession(s)_y\n",
      "mpf_type_y\n",
      "mpf_type_accession(s)_y\n",
      "orit_type(s)_y\n",
      "orit_accession(s)_y\n",
      "predicted_mobility_y\n",
      "mash_nearest_neighbor_y\n",
      "mash_neighbor_distance_y\n",
      "mash_neighbor_identification_y\n",
      "repetitive_dna_id\n",
      "repetitive_dna_type\n",
      "filtering_reason\n",
      "0\n",
      "Year\n",
      "contig\n"
     ]
    }
   ],
   "source": [
    "for i in mob_rgi:\n",
    "    print(i)"
   ]
  },
  {
   "cell_type": "code",
   "execution_count": 25,
   "id": "c33bb612-7de6-4cad-900f-d67844a91d7b",
   "metadata": {},
   "outputs": [
    {
     "ename": "ValueError",
     "evalue": "Value of 'color' is not the name of a column in 'data_frame'. Expected one of ['index', 'AccNum_x', 'sample_id_x', 'num_contigs', 'size_x', 'gc_x', 'md5_x', 'rep_type(s)_x', 'rep_type_accession(s)_x', 'relaxase_type(s)_x', 'relaxase_type_accession(s)_x', 'mpf_type_x', 'mpf_type_accession(s)_x', 'orit_type(s)_x', 'orit_accession(s)_x', 'predicted_mobility_x', 'mash_nearest_neighbor_x', 'mash_neighbor_distance_x', 'mash_neighbor_identification_x', 'primary_cluster_id_x', 'secondary_cluster_id_x', 'predicted_host_range_overall_rank', 'predicted_host_range_overall_name', 'observed_host_range_ncbi_rank', 'observed_host_range_ncbi_name', 'reported_host_range_lit_rank', 'reported_host_range_lit_name', 'associated_pmid(s)', 'sample', 'AccNum_y', 'sample_id_y', 'molecule_type', 'primary_cluster_id_y', 'secondary_cluster_id_y', 'contig_id', 'size_y', 'gc_y', 'md5_y', 'circularity_status', 'rep_type(s)_y', 'rep_type_accession(s)_y', 'relaxase_type(s)_y', 'relaxase_type_accession(s)_y', 'mpf_type_y', 'mpf_type_accession(s)_y', 'orit_type(s)_y', 'orit_accession(s)_y', 'predicted_mobility_y', 'mash_nearest_neighbor_y', 'mash_neighbor_distance_y', 'mash_neighbor_identification_y', 'repetitive_dna_id', 'repetitive_dna_type', 'filtering_reason', 0, 'Year', 'contig'] but received: Best_Hit_ARO",
     "output_type": "error",
     "traceback": [
      "\u001b[0;31m---------------------------------------------------------------------------\u001b[0m",
      "\u001b[0;31mValueError\u001b[0m                                Traceback (most recent call last)",
      "Input \u001b[0;32mIn [25]\u001b[0m, in \u001b[0;36m<cell line: 1>\u001b[0;34m()\u001b[0m\n\u001b[0;32m----> 1\u001b[0m \u001b[43mpx\u001b[49m\u001b[38;5;241;43m.\u001b[39;49m\u001b[43mbar\u001b[49m\u001b[43m(\u001b[49m\n\u001b[1;32m      2\u001b[0m \u001b[43m    \u001b[49m\u001b[43mmob_rgi\u001b[49m\u001b[38;5;241;43m.\u001b[39;49m\u001b[43mdrop_duplicates\u001b[49m\u001b[43m(\u001b[49m\u001b[43msubset\u001b[49m\u001b[38;5;241;43m=\u001b[39;49m\u001b[38;5;124;43m\"\u001b[39;49m\u001b[38;5;124;43mcontig_id\u001b[39;49m\u001b[38;5;124;43m\"\u001b[39;49m\u001b[43m)\u001b[49m\u001b[43m,\u001b[49m\n\u001b[1;32m      3\u001b[0m \u001b[43m    \u001b[49m\u001b[43mx\u001b[49m\u001b[38;5;241;43m=\u001b[39;49m\u001b[38;5;124;43m\"\u001b[39;49m\u001b[38;5;124;43mYear\u001b[39;49m\u001b[38;5;124;43m\"\u001b[39;49m\u001b[43m,\u001b[49m\n\u001b[1;32m      4\u001b[0m \u001b[43m    \u001b[49m\u001b[43my\u001b[49m\u001b[38;5;241;43m=\u001b[39;49m\u001b[43mmob_rgi\u001b[49m\u001b[38;5;241;43m.\u001b[39;49m\u001b[43mdrop_duplicates\u001b[49m\u001b[43m(\u001b[49m\u001b[43msubset\u001b[49m\u001b[38;5;241;43m=\u001b[39;49m\u001b[38;5;124;43m\"\u001b[39;49m\u001b[38;5;124;43mcontig_id\u001b[39;49m\u001b[38;5;124;43m\"\u001b[39;49m\u001b[43m)\u001b[49m\u001b[43m[\u001b[49m\u001b[38;5;124;43m'\u001b[39;49m\u001b[38;5;124;43mYear\u001b[39;49m\u001b[38;5;124;43m'\u001b[39;49m\u001b[43m]\u001b[49m\u001b[38;5;241;43m.\u001b[39;49m\u001b[43mmap\u001b[49m\u001b[43m(\u001b[49m\u001b[43m(\u001b[49m\u001b[38;5;241;43m1\u001b[39;49m\u001b[38;5;241;43m/\u001b[39;49m\u001b[43mmob_rgi\u001b[49m\u001b[38;5;241;43m.\u001b[39;49m\u001b[43mdrop_duplicates\u001b[49m\u001b[43m(\u001b[49m\u001b[43msubset\u001b[49m\u001b[38;5;241;43m=\u001b[39;49m\u001b[38;5;124;43m\"\u001b[39;49m\u001b[38;5;124;43mcontig_id\u001b[39;49m\u001b[38;5;124;43m\"\u001b[39;49m\u001b[43m)\u001b[49m\u001b[43m[\u001b[49m\u001b[38;5;124;43m'\u001b[39;49m\u001b[38;5;124;43mYear\u001b[39;49m\u001b[38;5;124;43m'\u001b[39;49m\u001b[43m]\u001b[49m\u001b[38;5;241;43m.\u001b[39;49m\u001b[43mvalue_counts\u001b[49m\u001b[43m(\u001b[49m\u001b[43m)\u001b[49m\u001b[43m)\u001b[49m\u001b[38;5;241;43m.\u001b[39;49m\u001b[43mto_dict\u001b[49m\u001b[43m(\u001b[49m\u001b[43m)\u001b[49m\u001b[43m)\u001b[49m\u001b[43m,\u001b[49m\n\u001b[1;32m      5\u001b[0m \u001b[43m    \u001b[49m\u001b[43mlabels\u001b[49m\u001b[38;5;241;43m=\u001b[39;49m\u001b[43m{\u001b[49m\u001b[38;5;124;43m\"\u001b[39;49m\u001b[38;5;124;43mYear_Cultured\u001b[39;49m\u001b[38;5;124;43m\"\u001b[39;49m\u001b[43m:\u001b[49m\u001b[43m \u001b[49m\u001b[38;5;124;43m\"\u001b[39;49m\u001b[38;5;124;43mYear Cultured\u001b[39;49m\u001b[38;5;124;43m\"\u001b[39;49m\u001b[43m}\u001b[49m\u001b[43m,\u001b[49m\n\u001b[1;32m      6\u001b[0m \u001b[43m    \u001b[49m\u001b[43mtitle\u001b[49m\u001b[38;5;241;43m=\u001b[39;49m\u001b[38;5;124;43m\"\u001b[39;49m\u001b[38;5;124;43mPlasmids\u001b[39;49m\u001b[38;5;124;43m\"\u001b[39;49m\u001b[43m,\u001b[49m\n\u001b[1;32m      7\u001b[0m \u001b[43m    \u001b[49m\u001b[38;5;66;43;03m# hover_data=[\"Accession_Number\", \"Resistance Mechanism\", \"Best_Hit_ARO\", \"Drug Class\", \"AMR Gene Family\", 'Contig', 'Strain'],\u001b[39;49;00m\n\u001b[1;32m      8\u001b[0m \u001b[43m    \u001b[49m\u001b[43mcolor\u001b[49m\u001b[38;5;241;43m=\u001b[39;49m\u001b[38;5;124;43m'\u001b[39;49m\u001b[38;5;124;43mBest_Hit_ARO\u001b[39;49m\u001b[38;5;124;43m'\u001b[39;49m\u001b[43m,\u001b[49m\n\u001b[1;32m      9\u001b[0m \u001b[43m)\u001b[49m\n",
      "File \u001b[0;32m~/.conda/envs/RESIST/lib/python3.8/site-packages/plotly/express/_chart_types.py:373\u001b[0m, in \u001b[0;36mbar\u001b[0;34m(data_frame, x, y, color, pattern_shape, facet_row, facet_col, facet_col_wrap, facet_row_spacing, facet_col_spacing, hover_name, hover_data, custom_data, text, base, error_x, error_x_minus, error_y, error_y_minus, animation_frame, animation_group, category_orders, labels, color_discrete_sequence, color_discrete_map, color_continuous_scale, pattern_shape_sequence, pattern_shape_map, range_color, color_continuous_midpoint, opacity, orientation, barmode, log_x, log_y, range_x, range_y, text_auto, title, template, width, height)\u001b[0m\n\u001b[1;32m    325\u001b[0m \u001b[38;5;28;01mdef\u001b[39;00m \u001b[38;5;21mbar\u001b[39m(\n\u001b[1;32m    326\u001b[0m     data_frame\u001b[38;5;241m=\u001b[39m\u001b[38;5;28;01mNone\u001b[39;00m,\n\u001b[1;32m    327\u001b[0m     x\u001b[38;5;241m=\u001b[39m\u001b[38;5;28;01mNone\u001b[39;00m,\n\u001b[0;32m   (...)\u001b[0m\n\u001b[1;32m    367\u001b[0m     height\u001b[38;5;241m=\u001b[39m\u001b[38;5;28;01mNone\u001b[39;00m,\n\u001b[1;32m    368\u001b[0m ) \u001b[38;5;241m-\u001b[39m\u001b[38;5;241m>\u001b[39m go\u001b[38;5;241m.\u001b[39mFigure:\n\u001b[1;32m    369\u001b[0m     \u001b[38;5;124;03m\"\"\"\u001b[39;00m\n\u001b[1;32m    370\u001b[0m \u001b[38;5;124;03m    In a bar plot, each row of `data_frame` is represented as a rectangular\u001b[39;00m\n\u001b[1;32m    371\u001b[0m \u001b[38;5;124;03m    mark.\u001b[39;00m\n\u001b[1;32m    372\u001b[0m \u001b[38;5;124;03m    \"\"\"\u001b[39;00m\n\u001b[0;32m--> 373\u001b[0m     \u001b[38;5;28;01mreturn\u001b[39;00m \u001b[43mmake_figure\u001b[49m\u001b[43m(\u001b[49m\n\u001b[1;32m    374\u001b[0m \u001b[43m        \u001b[49m\u001b[43margs\u001b[49m\u001b[38;5;241;43m=\u001b[39;49m\u001b[38;5;28;43mlocals\u001b[39;49m\u001b[43m(\u001b[49m\u001b[43m)\u001b[49m\u001b[43m,\u001b[49m\n\u001b[1;32m    375\u001b[0m \u001b[43m        \u001b[49m\u001b[43mconstructor\u001b[49m\u001b[38;5;241;43m=\u001b[39;49m\u001b[43mgo\u001b[49m\u001b[38;5;241;43m.\u001b[39;49m\u001b[43mBar\u001b[49m\u001b[43m,\u001b[49m\n\u001b[1;32m    376\u001b[0m \u001b[43m        \u001b[49m\u001b[43mtrace_patch\u001b[49m\u001b[38;5;241;43m=\u001b[39;49m\u001b[38;5;28;43mdict\u001b[39;49m\u001b[43m(\u001b[49m\u001b[43mtextposition\u001b[49m\u001b[38;5;241;43m=\u001b[39;49m\u001b[38;5;124;43m\"\u001b[39;49m\u001b[38;5;124;43mauto\u001b[39;49m\u001b[38;5;124;43m\"\u001b[39;49m\u001b[43m)\u001b[49m\u001b[43m,\u001b[49m\n\u001b[1;32m    377\u001b[0m \u001b[43m        \u001b[49m\u001b[43mlayout_patch\u001b[49m\u001b[38;5;241;43m=\u001b[39;49m\u001b[38;5;28;43mdict\u001b[39;49m\u001b[43m(\u001b[49m\u001b[43mbarmode\u001b[49m\u001b[38;5;241;43m=\u001b[39;49m\u001b[43mbarmode\u001b[49m\u001b[43m)\u001b[49m\u001b[43m,\u001b[49m\n\u001b[1;32m    378\u001b[0m \u001b[43m    \u001b[49m\u001b[43m)\u001b[49m\n",
      "File \u001b[0;32m~/.conda/envs/RESIST/lib/python3.8/site-packages/plotly/express/_core.py:1990\u001b[0m, in \u001b[0;36mmake_figure\u001b[0;34m(args, constructor, trace_patch, layout_patch)\u001b[0m\n\u001b[1;32m   1987\u001b[0m layout_patch \u001b[38;5;241m=\u001b[39m layout_patch \u001b[38;5;129;01mor\u001b[39;00m {}\n\u001b[1;32m   1988\u001b[0m apply_default_cascade(args)\n\u001b[0;32m-> 1990\u001b[0m args \u001b[38;5;241m=\u001b[39m \u001b[43mbuild_dataframe\u001b[49m\u001b[43m(\u001b[49m\u001b[43margs\u001b[49m\u001b[43m,\u001b[49m\u001b[43m \u001b[49m\u001b[43mconstructor\u001b[49m\u001b[43m)\u001b[49m\n\u001b[1;32m   1991\u001b[0m \u001b[38;5;28;01mif\u001b[39;00m constructor \u001b[38;5;129;01min\u001b[39;00m [go\u001b[38;5;241m.\u001b[39mTreemap, go\u001b[38;5;241m.\u001b[39mSunburst, go\u001b[38;5;241m.\u001b[39mIcicle] \u001b[38;5;129;01mand\u001b[39;00m args[\u001b[38;5;124m\"\u001b[39m\u001b[38;5;124mpath\u001b[39m\u001b[38;5;124m\"\u001b[39m] \u001b[38;5;129;01mis\u001b[39;00m \u001b[38;5;129;01mnot\u001b[39;00m \u001b[38;5;28;01mNone\u001b[39;00m:\n\u001b[1;32m   1992\u001b[0m     args \u001b[38;5;241m=\u001b[39m process_dataframe_hierarchy(args)\n",
      "File \u001b[0;32m~/.conda/envs/RESIST/lib/python3.8/site-packages/plotly/express/_core.py:1405\u001b[0m, in \u001b[0;36mbuild_dataframe\u001b[0;34m(args, constructor)\u001b[0m\n\u001b[1;32m   1402\u001b[0m     args[\u001b[38;5;124m\"\u001b[39m\u001b[38;5;124mcolor\u001b[39m\u001b[38;5;124m\"\u001b[39m] \u001b[38;5;241m=\u001b[39m \u001b[38;5;28;01mNone\u001b[39;00m\n\u001b[1;32m   1403\u001b[0m \u001b[38;5;66;03m# now that things have been prepped, we do the systematic rewriting of `args`\u001b[39;00m\n\u001b[0;32m-> 1405\u001b[0m df_output, wide_id_vars \u001b[38;5;241m=\u001b[39m \u001b[43mprocess_args_into_dataframe\u001b[49m\u001b[43m(\u001b[49m\n\u001b[1;32m   1406\u001b[0m \u001b[43m    \u001b[49m\u001b[43margs\u001b[49m\u001b[43m,\u001b[49m\u001b[43m \u001b[49m\u001b[43mwide_mode\u001b[49m\u001b[43m,\u001b[49m\u001b[43m \u001b[49m\u001b[43mvar_name\u001b[49m\u001b[43m,\u001b[49m\u001b[43m \u001b[49m\u001b[43mvalue_name\u001b[49m\n\u001b[1;32m   1407\u001b[0m \u001b[43m\u001b[49m\u001b[43m)\u001b[49m\n\u001b[1;32m   1409\u001b[0m \u001b[38;5;66;03m# now that `df_output` exists and `args` contains only references, we complete\u001b[39;00m\n\u001b[1;32m   1410\u001b[0m \u001b[38;5;66;03m# the special-case and wide-mode handling by further rewriting args and/or mutating\u001b[39;00m\n\u001b[1;32m   1411\u001b[0m \u001b[38;5;66;03m# df_output\u001b[39;00m\n\u001b[1;32m   1413\u001b[0m count_name \u001b[38;5;241m=\u001b[39m _escape_col_name(df_output, \u001b[38;5;124m\"\u001b[39m\u001b[38;5;124mcount\u001b[39m\u001b[38;5;124m\"\u001b[39m, [var_name, value_name])\n",
      "File \u001b[0;32m~/.conda/envs/RESIST/lib/python3.8/site-packages/plotly/express/_core.py:1207\u001b[0m, in \u001b[0;36mprocess_args_into_dataframe\u001b[0;34m(args, wide_mode, var_name, value_name)\u001b[0m\n\u001b[1;32m   1205\u001b[0m         \u001b[38;5;28;01mif\u001b[39;00m argument \u001b[38;5;241m==\u001b[39m \u001b[38;5;124m\"\u001b[39m\u001b[38;5;124mindex\u001b[39m\u001b[38;5;124m\"\u001b[39m:\n\u001b[1;32m   1206\u001b[0m             err_msg \u001b[38;5;241m+\u001b[39m\u001b[38;5;241m=\u001b[39m \u001b[38;5;124m\"\u001b[39m\u001b[38;5;130;01m\\n\u001b[39;00m\u001b[38;5;124m To use the index, pass it in directly as `df.index`.\u001b[39m\u001b[38;5;124m\"\u001b[39m\n\u001b[0;32m-> 1207\u001b[0m         \u001b[38;5;28;01mraise\u001b[39;00m \u001b[38;5;167;01mValueError\u001b[39;00m(err_msg)\n\u001b[1;32m   1208\u001b[0m \u001b[38;5;28;01melif\u001b[39;00m length \u001b[38;5;129;01mand\u001b[39;00m \u001b[38;5;28mlen\u001b[39m(df_input[argument]) \u001b[38;5;241m!=\u001b[39m length:\n\u001b[1;32m   1209\u001b[0m     \u001b[38;5;28;01mraise\u001b[39;00m \u001b[38;5;167;01mValueError\u001b[39;00m(\n\u001b[1;32m   1210\u001b[0m         \u001b[38;5;124m\"\u001b[39m\u001b[38;5;124mAll arguments should have the same length. \u001b[39m\u001b[38;5;124m\"\u001b[39m\n\u001b[1;32m   1211\u001b[0m         \u001b[38;5;124m\"\u001b[39m\u001b[38;5;124mThe length of column argument `df[\u001b[39m\u001b[38;5;132;01m%s\u001b[39;00m\u001b[38;5;124m]` is \u001b[39m\u001b[38;5;132;01m%d\u001b[39;00m\u001b[38;5;124m, whereas the \u001b[39m\u001b[38;5;124m\"\u001b[39m\n\u001b[0;32m   (...)\u001b[0m\n\u001b[1;32m   1218\u001b[0m         )\n\u001b[1;32m   1219\u001b[0m     )\n",
      "\u001b[0;31mValueError\u001b[0m: Value of 'color' is not the name of a column in 'data_frame'. Expected one of ['index', 'AccNum_x', 'sample_id_x', 'num_contigs', 'size_x', 'gc_x', 'md5_x', 'rep_type(s)_x', 'rep_type_accession(s)_x', 'relaxase_type(s)_x', 'relaxase_type_accession(s)_x', 'mpf_type_x', 'mpf_type_accession(s)_x', 'orit_type(s)_x', 'orit_accession(s)_x', 'predicted_mobility_x', 'mash_nearest_neighbor_x', 'mash_neighbor_distance_x', 'mash_neighbor_identification_x', 'primary_cluster_id_x', 'secondary_cluster_id_x', 'predicted_host_range_overall_rank', 'predicted_host_range_overall_name', 'observed_host_range_ncbi_rank', 'observed_host_range_ncbi_name', 'reported_host_range_lit_rank', 'reported_host_range_lit_name', 'associated_pmid(s)', 'sample', 'AccNum_y', 'sample_id_y', 'molecule_type', 'primary_cluster_id_y', 'secondary_cluster_id_y', 'contig_id', 'size_y', 'gc_y', 'md5_y', 'circularity_status', 'rep_type(s)_y', 'rep_type_accession(s)_y', 'relaxase_type(s)_y', 'relaxase_type_accession(s)_y', 'mpf_type_y', 'mpf_type_accession(s)_y', 'orit_type(s)_y', 'orit_accession(s)_y', 'predicted_mobility_y', 'mash_nearest_neighbor_y', 'mash_neighbor_distance_y', 'mash_neighbor_identification_y', 'repetitive_dna_id', 'repetitive_dna_type', 'filtering_reason', 0, 'Year', 'contig'] but received: Best_Hit_ARO"
     ]
    }
   ],
   "source": [
    "px.bar(\n",
    "    mob_rgi.drop_duplicates(subset=\"contig_id\"),\n",
    "    x=\"Year\",\n",
    "    y=mob_rgi.drop_duplicates(subset=\"contig_id\")['Year'].map((1/mob_rgi.drop_duplicates(subset=\"contig_id\")['Year'].value_counts()).to_dict()),\n",
    "    labels={\"Year_Cultured\": \"Year Cultured\"},\n",
    "    title=\"Plasmids\",\n",
    "    # hover_data=[\"Accession_Number\", \"Resistance Mechanism\", \"Best_Hit_ARO\", \"Drug Class\", \"AMR Gene Family\", 'Contig', 'Strain'],\n",
    "    color='Best_Hit_ARO',\n",
    ")"
   ]
  },
  {
   "cell_type": "code",
   "execution_count": null,
   "id": "9290dea2-ca79-4927-8956-ab9302a103dd",
   "metadata": {},
   "outputs": [],
   "source": [
    "x = plasmidfinder_out[plasmidfinder_out['CleanContig'].isin(ecoli_mlplasmid_out['Contig'])].drop_duplicates(subset='Contig')\n",
    "px.bar(\n",
    "    x,\n",
    "    x=\"Year\",\n",
    "    y=x['Year'].map((1/x['Year'].value_counts()).to_dict()),\n",
    "    labels={\"Year\": \"Year Cultured\"},\n",
    "    title=\"Plasmids\",\n",
    "    # hover_data=[\"Accession_Number\", \"Resistance Mechanism\", \"Best_Hit_ARO\", \"Drug Class\", \"AMR Gene Family\", 'Contig', 'Strain'],\n",
    "    color='PlasmidGroup',\n",
    ")"
   ]
  },
  {
   "cell_type": "code",
   "execution_count": null,
   "id": "ee7cc59f-1aa6-4989-a44d-42579285a182",
   "metadata": {},
   "outputs": [],
   "source": [
    "# plasmidfinder_out[plasmidfinder_out['CleanContig'].isin(ecoli_mlplasmid_out['Contig'])].sort_values('Year').drop_duplicates(subset='AccNum')\n",
    "x = plasmidfinder_out[plasmidfinder_out['CleanContig'].isin(ecoli_mlplasmids_rgi['CleanContig'])]\n",
    "px.bar(\n",
    "    x,\n",
    "    x=\"Year\",\n",
    "    y=x['Year'].map((1/x['Year'].value_counts()).to_dict()),\n",
    "    labels={\"Year\": \"Year Cultured\"},\n",
    "    title=\"Plasmids\",\n",
    "    # hover_data=[\"Accession_Number\", \"Resistance Mechanism\", \"Best_Hit_ARO\", \"Drug Class\", \"AMR Gene Family\", 'Contig', 'Strain'],\n",
    "    color='PlasmidGroup',\n",
    ")"
   ]
  },
  {
   "cell_type": "code",
   "execution_count": null,
   "id": "84289924-5bd5-49a1-bc3f-3321444a0923",
   "metadata": {},
   "outputs": [],
   "source": [
    "plasmidfinder_out[plasmidfinder_out['CleanContig'].isin(ecoli_mlplasmids_rgi['CleanContig'])]"
   ]
  },
  {
   "cell_type": "code",
   "execution_count": null,
   "id": "2e701b95-88fb-4e63-a47e-1c7bcf026d47",
   "metadata": {},
   "outputs": [],
   "source": [
    "plasmidfinder_out.loc[plasmidfinder_out['CleanContig'] == 'UGAH01000001.1']"
   ]
  },
  {
   "cell_type": "code",
   "execution_count": null,
   "id": "4e225614-fdcf-4f57-8e02-d1128d451ff5",
   "metadata": {},
   "outputs": [],
   "source": [
    "plasmidfinder_out.loc[plasmidfinder_out['CleanContig'] == 'UGGA01000002.1']"
   ]
  },
  {
   "cell_type": "code",
   "execution_count": null,
   "id": "1da27c80-229b-4b4f-8e82-328b9f5d8304",
   "metadata": {},
   "outputs": [],
   "source": [
    "plasmidfinder_out.loc[plasmidfinder_out['CleanContig'] == 'UFZP01000001.1']"
   ]
  },
  {
   "cell_type": "code",
   "execution_count": null,
   "id": "d64a9e45-3474-4c02-93ee-19e455b79e61",
   "metadata": {},
   "outputs": [],
   "source": [
    "plasmidfinder_out.loc[plasmidfinder_out['CleanContig'] == 'UGGK01000003.1']"
   ]
  },
  {
   "cell_type": "code",
   "execution_count": null,
   "id": "99eb67b3-0913-4abe-8cc4-fc903555d4ef",
   "metadata": {},
   "outputs": [],
   "source": [
    "def generate_fracs(dataframe, value, column, verbose=False):\n",
    "    num_yearcultured_allstrains_dict = (\n",
    "        dataframe.drop_duplicates(subset=[\"Accession_Number\"])[\"Year_Cultured\"]\n",
    "        .value_counts()\n",
    "        .to_dict()\n",
    "    )\n",
    "    num_yearcultured_valposstrains_dict = (\n",
    "        dataframe.loc[dataframe[column].str.contains(value, na=False, regex=True)]\n",
    "        .drop_duplicates(subset=[\"Accession_Number\"])[\"Year_Cultured\"]\n",
    "        .value_counts()\n",
    "        .to_dict()\n",
    "    )\n",
    "    fractional_dictionary = {}\n",
    "    for years in num_yearcultured_allstrains_dict:\n",
    "        if num_yearcultured_allstrains_dict[years] == 0:\n",
    "            continue\n",
    "        if years in num_yearcultured_valposstrains_dict:\n",
    "            val = [num_yearcultured_valposstrains_dict[years], num_yearcultured_allstrains_dict[years]]\n",
    "            # fraction = (\n",
    "            #     num_yearcultured_valposstrains_dict[years]\n",
    "            #     / num_yearcultured_allstrains_dict[years]\n",
    "            # )\n",
    "        else:\n",
    "            val = [0, num_yearcultured_allstrains_dict[years]]\n",
    "        fractional_dictionary[years] = val\n",
    "\n",
    "    yeardf = (\n",
    "        pd.DataFrame.from_dict(fractional_dictionary, orient=\"index\", columns=[\"num_pos\", \"all\"])\n",
    "        .reset_index()\n",
    "        .rename(columns={\"index\": \"year\"})\n",
    "        .sort_values(by=\"year\")\n",
    "        .reset_index(drop=True)\n",
    "    )\n",
    "    yeardf['frac'] = yeardf['num_pos']/yeardf['all']\n",
    "\n",
    "    return yeardf"
   ]
  },
  {
   "cell_type": "code",
   "execution_count": null,
   "id": "7d08273f-6129-45e5-91e3-da5c33c11462",
   "metadata": {},
   "outputs": [],
   "source": [
    "def plot_frac(\n",
    "    df,\n",
    "    ex,\n",
    "    verbose=True,\n",
    "    smooth=5,\n",
    "    col=\"Drug Class\",\n",
    "    value=\"phenotype\",\n",
    "    y2=\"Count of bugs analyzed\"\n",
    "):\n",
    "\n",
    "    frac_df = generate_fracs(df, ex, col, verbose)\n",
    "    # print(frac_df)\n",
    "\n",
    "    # histogram of fraction of strains w/ RGI hits for drug class\n",
    "    plt.figure(figsize=(14, 8))\n",
    "    chart = sns.barplot(data=frac_df, x=\"year\", y=\"frac\", color=\"salmon\", saturation=0.5)\n",
    "    chart.bar_label(chart.containers[0])\n",
    "    # plt.axvline(pd.Index(frac_df[\"year\"]).get_loc(year, method=\"nearest\"))\n",
    "    plt.ylabel(\"Fraction of bugs with phenotype\")\n",
    "    plt.xlabel(\"Year\")\n",
    "    plt.xticks(rotation=45)\n",
    "    plt.show()\n",
    "    \n",
    "    d = {\"Year\": [], \"frac\": []}\n",
    "    for years in range(frac_df[\"year\"].min(), frac_df[\"year\"].max()):\n",
    "        upb = smooth + years\n",
    "        downb = years - smooth\n",
    "        g = frac_df.loc[(frac_df[\"year\"] <= upb) & (downb <= frac_df[\"year\"])]\n",
    "        d[\"Year\"].append(years)\n",
    "        d[\"frac\"].append(g[\"frac\"].mean())\n",
    "    \n",
    "    xdf = pd.DataFrame(data=d)\n",
    "    # print(xdf)\n",
    "    fig, axes = plt.subplots(2, 1, figsize=(14, 8), sharex=True)\n",
    "    lp = sns.lineplot(\n",
    "        data=xdf, x=\"Year\", y=\"frac\", markers=True, ax=axes[0]\n",
    "    )\n",
    "    lp.set(ylim=(0, 1))\n",
    "    dp = sns.scatterplot(\n",
    "        data=xdf, x=\"Year\", y=\"frac\", legend=False, ax=axes[0]\n",
    "    )\n",
    "    axes[0].set(ylabel='{}'.format(value))\n",
    "    # dp.axvline(year, color=\"red\")\n",
    "    \n",
    "    histogram = sns.histplot(data=df.drop_duplicates(subset=[\"Accession_Number\"]), x='Year_Cultured', ax=axes[1])\n",
    "    axes[1].set(ylabel='{}'.format(y2), xlabel=\"Year Cultured\")\n",
    "    return fig"
   ]
  },
  {
   "cell_type": "code",
   "execution_count": null,
   "id": "1309cd78-2623-49a3-b11d-717502025176",
   "metadata": {},
   "outputs": [],
   "source": [
    "plot = plot_frac(df.loc[df['Strain'].str.contains(\"Escherichia coli\")],\n",
    "          '|'.join(list(ecoli_mlplasmid_out['AccNum'].drop_duplicates())),\n",
    "          verbose=False,\n",
    "          col='Accession_Number',\n",
    "          smooth=7,\n",
    "          value='Fraction of E. Coli with ≥ 1 plasmid',\n",
    "          y2='Count of all E. Coli present'\n",
    ")\n",
    "plot.savefig('./coliplasmid-occ.png', dpi=200)"
   ]
  },
  {
   "cell_type": "code",
   "execution_count": null,
   "id": "2242586c-9ef1-4267-8185-ec4f43fa323f",
   "metadata": {},
   "outputs": [],
   "source": [
    "plot = plot_frac(df.loc[df['Strain'].str.contains(\"Escherichia coli\") & df['Accession_Number'].str.contains('|'.join(list(ecoli_mlplasmid_out['AccNum'].drop_duplicates())))],\n",
    "          '|'.join(list(ecoli_mlplasmids_rgi['Accession_Number'].drop_duplicates())),\n",
    "          verbose=False,\n",
    "          col='Accession_Number',\n",
    "          smooth=5,\n",
    "          value='Fraction of plasmids carrying ≥ 1 AbR gene',\n",
    "          y2='Count of E. Coli with plasmids'\n",
    ")\n",
    "plot.savefig('./coliplasmid-abr.png', dpi=200)"
   ]
  },
  {
   "cell_type": "code",
   "execution_count": null,
   "id": "4a249c6a-67f7-4c71-857e-25ba79a0c011",
   "metadata": {},
   "outputs": [],
   "source": [
    "ecoli_mlplasmid_out['AccNum'].unique().shape"
   ]
  },
  {
   "cell_type": "code",
   "execution_count": null,
   "id": "9f8fd2ce-d449-41b3-8098-d2820c9c0cd5",
   "metadata": {},
   "outputs": [],
   "source": [
    "plasmidfinder_out = pd.read_csv(\"/n/scratch3/users/a/ak586/microtrawler/3_analysis-plasmid/merged-plasmidfinder\", sep='\\t')\n",
    "# plasmidfinder_out\n",
    "plasmidfinder_out.loc[plasmidfinder_out['Contig'].str.split(' ', expand=True)[0].isin(ecoli_mlplasmid_out['Contig'])]['Contig'].value_counts()"
   ]
  },
  {
   "cell_type": "code",
   "execution_count": null,
   "id": "fd9a5ddd-ec09-4d62-bc52-2ed71d21734b",
   "metadata": {},
   "outputs": [],
   "source": [
    "plasmidfinder_out.loc[plasmidfinder_out['AccNum'] == \"NCTC9776\"]"
   ]
  },
  {
   "cell_type": "code",
   "execution_count": null,
   "id": "45b4702d-4257-434e-83a6-e3178ad756e6",
   "metadata": {},
   "outputs": [],
   "source": [
    "ecoli_mlplasmids_rgi"
   ]
  },
  {
   "cell_type": "code",
   "execution_count": null,
   "id": "287f7d78-cd8b-460a-986b-239183faf31e",
   "metadata": {},
   "outputs": [],
   "source": [
    "plasmidfinder_out.loc[plasmidfinder_out['Contig'].str.split(' ', expand=True)[0].isin(ecoli_mlplasmid_out['Contig'])]['AccNum'].unique().shape"
   ]
  },
  {
   "cell_type": "code",
   "execution_count": null,
   "id": "06517b36-7257-4401-9333-88b31ded91ed",
   "metadata": {},
   "outputs": [],
   "source": [
    "ecoli_mlplasmids_rgi['Contig'].str.split('_', expand=True)[0]"
   ]
  },
  {
   "cell_type": "code",
   "execution_count": null,
   "id": "30552bd9-4d7a-4132-a5b0-bcee6971de0f",
   "metadata": {},
   "outputs": [],
   "source": [
    "ecoli_mlplasmids_rgi['Accession_Number'].unique()"
   ]
  },
  {
   "cell_type": "code",
   "execution_count": null,
   "id": "ef445889-703a-4f2e-aeda-b005a969d82a",
   "metadata": {},
   "outputs": [],
   "source": [
    "plasmidfinder_out['Contig'].str.split(' ', expand=True)[0]"
   ]
  },
  {
   "cell_type": "code",
   "execution_count": null,
   "id": "ae5659dc-62b8-4268-b204-6dc36a7060f3",
   "metadata": {},
   "outputs": [],
   "source": [
    "plasmidfinder_out.loc[plasmidfinder_out['Contig'].str.split(' ', expand=True)[0].isin(ecoli_mlplasmids_rgi['Contig'].str.split('_', expand=True)[0])]['AccNum'].unique()"
   ]
  },
  {
   "cell_type": "code",
   "execution_count": null,
   "id": "06ed0a42-330c-4770-9ad4-647f4c05fc71",
   "metadata": {},
   "outputs": [],
   "source": [
    "plasmidfinder_out.loc[plasmidfinder_out['AccNum'].str.contains('|'.join(list(ecoli_mlplasmid_out['AccNum'])))]"
   ]
  },
  {
   "cell_type": "code",
   "execution_count": null,
   "id": "49ab40fb-70d3-4983-beea-6b236bb0d9fe",
   "metadata": {},
   "outputs": [],
   "source": [
    "df.loc[df['Strain'].str.contains(\"Escherichia coli\") & df['Accession_Number'].str.contains('|'.join(list(ecoli_mlplasmid_out['AccNum'].drop_duplicates())))]"
   ]
  },
  {
   "cell_type": "code",
   "execution_count": null,
   "id": "61805654-7d30-47b6-94c8-32de1e2903b7",
   "metadata": {},
   "outputs": [],
   "source": [
    "df.loc[df['Strain'].str.contains(\"Escherichia coli\")]"
   ]
  },
  {
   "cell_type": "code",
   "execution_count": null,
   "id": "3da8062e-2ef8-4c7a-8302-225fd1a661dd",
   "metadata": {},
   "outputs": [],
   "source": [
    "# year_dict\n",
    "ecoliplasmidfinder_df = plasmidfinder_out.loc[plasmidfinder_out['AccNum'].str.contains('|'.join(list(ecoli_mlplasmid_out['AccNum'])))].copy()\n",
    "ecoliplasmidfinder_df['Year_Cultured'] = ecoliplasmidfinder_df['AccNum'].map(year_dict)\n",
    "ecoliplasmidfinder_df['PlasmidGroup'].value_counts()"
   ]
  },
  {
   "cell_type": "code",
   "execution_count": null,
   "id": "da2cb545-6188-459a-af4b-da49b068bca7",
   "metadata": {},
   "outputs": [],
   "source": [
    "ecoliplasmidfinder_df.drop_duplicates(subset=\"Contig\")"
   ]
  },
  {
   "cell_type": "code",
   "execution_count": null,
   "id": "e77cd80b-feb0-4469-9c4d-62bcb3fc5007",
   "metadata": {},
   "outputs": [],
   "source": [
    "ecoliplasmidfinder_df.drop_duplicates(subset=\"Contig\")"
   ]
  },
  {
   "cell_type": "code",
   "execution_count": null,
   "id": "d5a21a48-df7b-44bf-8297-0fd91b2a2bb1",
   "metadata": {},
   "outputs": [],
   "source": [
    "ecoliplasmidfinder_df.loc[ecoliplasmidfinder_df['Contig'].isin(ecoli_mlplasmid_out['Contig_name'])]"
   ]
  },
  {
   "cell_type": "code",
   "execution_count": null,
   "id": "db6269f9-ad09-4164-a0d7-f8160c75e5e4",
   "metadata": {},
   "outputs": [],
   "source": [
    "px.bar(\n",
    "    ecoliplasmidfinder_df.drop_duplicates(subset=\"Contig\"),\n",
    "    x=\"Year_Cultured\",\n",
    "    y=ecoliplasmidfinder_df.drop_duplicates(subset=\"Contig\")['Year_Cultured'].map((1/ecoliplasmidfinder_df.drop_duplicates(subset=\"Contig\")['Year_Cultured'].value_counts()).to_dict()),\n",
    "    labels={\"Year_Cultured\": \"Year Cultured\"},\n",
    "    title=\"Conjugation Machinery - E. Coli Plasmids\",\n",
    "    hover_data=[\"AccNum\", \"Contig\"],\n",
    "    color='PlasmidGroup',\n",
    ")"
   ]
  },
  {
   "cell_type": "code",
   "execution_count": null,
   "id": "2300d551-8462-48a2-ba73-ea1e026b910f",
   "metadata": {},
   "outputs": [],
   "source": [
    "px.bar(\n",
    "    ecoli_mlplasmids_rgi,\n",
    "    x=\"Year_Cultured\",\n",
    "    y=ecoli_mlplasmids_rgi['Year_Cultured'].map((1/ecoli_mlplasmids_rgi['Year_Cultured'].value_counts()).to_dict()),\n",
    "    labels={\"Year_Cultured\": \"Year Cultured\"},\n",
    "    title=\"Resistance Mechanism - E. Coli Plasmids\",\n",
    "    hover_data=[\"Accession_Number\", \"Resistance Mechanism\", \"Best_Hit_ARO\", \"Drug Class\", \"AMR Gene Family\", 'Contig'],\n",
    "    color='Best_Hit_ARO',\n",
    ")"
   ]
  },
  {
   "cell_type": "code",
   "execution_count": null,
   "id": "71d5ec25-edee-4340-8c52-2ecac0f61c81",
   "metadata": {},
   "outputs": [],
   "source": [
    "plot = plot_frac(df.loc[df['Strain'].str.contains(\"Klebsiella pneumoniae\")],\n",
    "          '|'.join(list(kleb_mlplasmid_out['AccNum'].drop_duplicates())),\n",
    "          verbose=False,\n",
    "          col='Accession_Number',\n",
    "          smooth=4,\n",
    "          value='Fraction of Kleb. with ≥ 1 plasmid',\n",
    "          y2='Count of all Kleb. present'\n",
    ")\n",
    "plot.savefig('./klebplasmid-occ.png', dpi=200)"
   ]
  },
  {
   "cell_type": "code",
   "execution_count": null,
   "id": "9c82a47d-78cf-4654-bb3b-c8f04eaf8b97",
   "metadata": {},
   "outputs": [],
   "source": [
    "plot = plot_frac(df.loc[df['Strain'].str.contains(\"Klebsiella pneumoniae\") & df['Accession_Number'].str.contains('|'.join(list(kleb_mlplasmid_out['AccNum'].drop_duplicates())))],\n",
    "          '|'.join(list(klebplasmids_df['Accession_Number'].drop_duplicates())),\n",
    "          verbose=False,\n",
    "          col='Accession_Number',\n",
    "          smooth=4,\n",
    "          value='Fraction of plasmids carrying ≥ 1 AbR gene',\n",
    "          y2='Count of Kleb. with plasmids'\n",
    ")\n",
    "plot.savefig('./klebplasmid-abr.png', dpi=200)"
   ]
  },
  {
   "cell_type": "code",
   "execution_count": null,
   "id": "5e9ee07b-c9d4-4af0-8b08-af702f836f8e",
   "metadata": {},
   "outputs": [],
   "source": [
    "import matplotlib.pyplot as plt\n",
    "from dna_features_viewer import BiopythonTranslator, CircularGraphicRecord\n",
    "from Bio import SeqIO\n",
    "import numpy as np\n",
    "\n",
    "record_dict = SeqIO.to_dict(SeqIO.parse(\"/n/scratch3/users/a/ak586/microtrawler/2_analyze-seqs/NCTC/ena/NCTC10650/assembly/assembly_prokka/assembly_prokka.gbk\", \"genbank\"))\n",
    "# sub_record = record_dict['UGNE01000001.1'][1405899:1417399]\n",
    "sub_record = record_dict['UART01000002.1']\n",
    "# sub_record.annotations['topology'] = 'linear'\n",
    "# print(sub_record)\n",
    "for features in sub_record.features:\n",
    "    if 'gene' in features.qualifiers:\n",
    "        gname = features.qualifiers['gene'][0]\n",
    "        # print(features.qualifiers)\n",
    "        if 'yajR' in gname:\n",
    "            features.qualifiers['gene'] = ['tet(A)']\n",
    "        elif 'tetR' in gname:\n",
    "            features.qualifiers['gene'] = ['tetR']\n",
    "    # else:\n",
    "    #     prodName = features.qualifiers['product'][0]\n",
    "    #     prodName = features.qualifiers['product'][0]\n",
    "    #     if 'NCBIFAM' in prodName:\n",
    "    #         NewprodName = prodName.split(': ')[1]\n",
    "    #         features.qualifiers['product'] = [NewprodName]\n",
    "    #         if 'metalloregulator' in NewprodName:\n",
    "    #             features.qualifiers['product'] = ['metalloregulator ArsR/SmtB TF']\n",
    "                # print(features.qualifiers)\n",
    "        # print(features.qualifiers)\n",
    "\n",
    "\n",
    "class MyCustomTranslator(BiopythonTranslator):\n",
    "    \"\"\"Custom translator implementing the following theme:\n",
    "\n",
    "    - Color terminators in green, CDS in blue, all other features in gold.\n",
    "    - Do not display features that are restriction sites unless they are BamHI\n",
    "    - Do not display labels for restriction sites\n",
    "    - For CDS labels just write \"CDS here\" instead of the name of the gene.\n",
    "\n",
    "    \"\"\"\n",
    "\n",
    "    def compute_feature_color(self, feature):\n",
    "        if feature.type == \"CDS\" and not (\"tet\" in str(feature.qualifiers.get(\"gene\", ''))):\n",
    "            return \"blue\"\n",
    "        elif (\"tet\" in str(feature.qualifiers.get(\"gene\", ''))):\n",
    "            return \"green\"\n",
    "        else:\n",
    "            return \"blue\"\n",
    "\n",
    "#     def compute_feature_label(self, feature):\n",
    "#         if 'yajR|tetR' not in feature.qualifiers['gene']:\n",
    "#             return None\n",
    "#         else:\n",
    "#             return BiopythonTranslator.compute_feature_label(self, feature)\n",
    "\n",
    "    def compute_feature_label(self, feature):\n",
    "        if feature.type == 'CDS' and not (\"tet\" in str(feature.qualifiers.get(\"gene\", ''))):\n",
    "            return None\n",
    "        elif feature.type == \"CDS\":\n",
    "            return BiopythonTranslator.compute_feature_label(self, feature)\n",
    "        else:\n",
    "            return BiopythonTranslator.compute_feature_label(self, feature)\n",
    "\n",
    "    # def compute_filtered_features(self, features):\n",
    "    #     \"\"\"Do not display promoters. Just because.\"\"\"\n",
    "    #     return [\n",
    "    #         feature for feature in features\n",
    "    #         if (feature.type != \"CDS\")\n",
    "    #         or (\"tet\" in str(feature.qualifiers.get(\"gene\", '')))\n",
    "    #     ]\n",
    "\n",
    "\n",
    "        \n",
    "# graphic_record = BiopythonTranslator().translate_record(sub_record, record_class=CircularGraphicRecord)\n",
    "graphic_record = MyCustomTranslator().translate_record(sub_record, record_class=CircularGraphicRecord)\n",
    "ax, _ = graphic_record.plot(figure_width=7, with_ruler=False, strand_in_label_threshold=1)\n",
    "ax.figure.savefig('NCTC10650-plasmid.png', bbox_inches='tight', dpi=200)"
   ]
  },
  {
   "cell_type": "code",
   "execution_count": null,
   "id": "62f6c069-1fa7-4258-b2f9-2be8bccc3136",
   "metadata": {},
   "outputs": [],
   "source": [
    "df.loc[df['Strain'].str.contains(\"Escherichia coli\") & df['Best_Hit_ARO'].str.contains('tet\\(|tetR')][['Accession_Number','Year_Cultured','Best_Hit_ARO', 'Contig']]"
   ]
  },
  {
   "cell_type": "code",
   "execution_count": null,
   "id": "6c5b3c1b-c1df-4904-bad2-1e2497dc23da",
   "metadata": {},
   "outputs": [],
   "source": [
    "ecoli_mlplasmids_rgi.loc[ecoli_mlplasmids_rgi['Best_Hit_ARO'].str.contains('tet')][['Accession_Number','Year_Cultured','Best_Hit_ARO', 'Contig']]"
   ]
  },
  {
   "cell_type": "code",
   "execution_count": null,
   "id": "f288882c-4843-4886-a9b8-14b98ff468be",
   "metadata": {},
   "outputs": [],
   "source": [
    "df.loc[df['Strain'].str.contains(\"Escherichia coli\") & df['Best_Hit_ARO'].str.contains('tet\\(|tetR')]['Best_Hit_ARO'].value_counts()"
   ]
  },
  {
   "cell_type": "code",
   "execution_count": null,
   "id": "85145887-5d84-4710-b061-dde73b4cd5ca",
   "metadata": {},
   "outputs": [],
   "source": [
    "ecoli_mlplasmids_rgi.loc[ecoli_mlplasmids_rgi['Best_Hit_ARO'].str.contains('tet')]['Best_Hit_ARO'].value_counts()"
   ]
  },
  {
   "cell_type": "code",
   "execution_count": null,
   "id": "0f39f47f-1a64-4f5b-962c-4d1dc9b1ddb9",
   "metadata": {},
   "outputs": [],
   "source": []
  },
  {
   "cell_type": "code",
   "execution_count": null,
   "id": "bf4150ed-10b5-4307-9095-b0d4b90327f6",
   "metadata": {},
   "outputs": [],
   "source": [
    "px.bar(\n",
    "    ecoli_mlplasmids_rgi,\n",
    "    x=\"Year_Cultured\",\n",
    "    y=ecoli_mlplasmids_rgi['Year_Cultured'].map((1/ecoli_mlplasmids_rgi['Year_Cultured'].value_counts()).to_dict()),\n",
    "    labels={\"Year_Cultured\": \"Year Cultured\"},\n",
    "    title=\"Resistance Mechanism - E. Coli Plasmids\",\n",
    "    hover_data=[\"Accession_Number\", \"Resistance Mechanism\", \"Best_Hit_ARO\", \"Drug Class\", \"AMR Gene Family\", 'Contig'],\n",
    "    color='Best_Hit_ARO',\n",
    ")"
   ]
  },
  {
   "cell_type": "code",
   "execution_count": null,
   "id": "91052b46-ad97-4ae5-9578-d23a22c4edd6",
   "metadata": {},
   "outputs": [],
   "source": [
    "sns.kdeplot(data=ecoli_mlplasmids_rgi, cut=0, x='Year_Cultured', hue='Best_Hit_ARO', multiple='fill')"
   ]
  },
  {
   "cell_type": "code",
   "execution_count": null,
   "id": "6932a2af-992c-4b4f-a8f1-07ff82c18bc0",
   "metadata": {},
   "outputs": [],
   "source": [
    "x = ecoli_mlplasmids_rgi[['Accession_Number', 'Year_Cultured', 'Contig','Best_Hit_ARO']].copy()\n",
    "x['CleanContig'] = x['Accession_Number'] + \"_\" + x['Contig'].str.split('_', expand=True)[0]\n",
    "# x = x.drop_duplicates(subset=['CleanContig', 'Best_Hit_ARO'])\n",
    "x"
   ]
  },
  {
   "cell_type": "code",
   "execution_count": null,
   "id": "5c6b35b5-a1c7-41af-9606-048e4c16525b",
   "metadata": {},
   "outputs": [],
   "source": [
    "y = pd.crosstab(x['CleanContig'], x['Best_Hit_ARO'])\n",
    "y"
   ]
  },
  {
   "cell_type": "code",
   "execution_count": null,
   "id": "c43c4a04-b833-4bcd-be3f-ba1e0a8be40c",
   "metadata": {},
   "outputs": [],
   "source": [
    "pal = sns.light_palette('green', len(x['Year_Cultured'].unique()))\n",
    "lut = dict(zip(x['Year_Cultured'].unique(), pal))\n",
    "x['Color'] = x['Year_Cultured'].map(lut)\n",
    "color = y.index.map(x[['CleanContig', 'Color']].set_index('CleanContig').to_dict()['Color'])\n",
    "ax = sns.clustermap(y, row_cluster=True,yticklabels=True, xticklabels=True, vmax=5, figsize=(15,15), row_colors=color)\n",
    "# ax.set(ylabel = 'Accession Number and Contig', xlabel='Antibiotic resistant Gene')\n",
    "ax.ax_heatmap.set_xlabel('Antibiotic resistant gene')\n",
    "ax.ax_heatmap.set_ylabel('Accession number and contig')\n",
    "\n",
    "for label in x.Year_Cultured.unique():\n",
    "    ax.ax_col_dendrogram.bar(0, 0, color=lut[label],\n",
    "                            label=label, linewidth=0)\n",
    "ax.ax_col_dendrogram.legend(loc=\"center\", ncol=5)\n",
    "\n",
    "# Adjust the postion of the main colorbar for the heatmap\n",
    "# ax.cax.set_position([.97, .2, .03, .45])\n",
    "# ax.cax.set_position([0,0,0,0])\n",
    "plt.savefig('plasmid_abpresence_corr.png', dpi=200)"
   ]
  },
  {
   "cell_type": "code",
   "execution_count": null,
   "id": "a04dd4c1-b63d-4893-b29c-17e72bd347af",
   "metadata": {},
   "outputs": [],
   "source": [
    "ecoliplasmidintegrons_df = ecoli_mlplasmids_rgi.loc[ecoli_mlplasmids_rgi['ORF_ID'].isin(rgiintegron['ORF_ID']),:].copy()\n",
    "ecoliplasmidintegrons_df['Best_Hit_ARO'].value_counts()"
   ]
  },
  {
   "cell_type": "code",
   "execution_count": null,
   "id": "988986b5-50bb-4883-951f-c116ebf87e20",
   "metadata": {},
   "outputs": [],
   "source": [
    "gg = df.loc[df['Strain'].str.match(\"Escherichia coli\")].copy().drop_duplicates(subset=['Accession_Number','Best_Hit_ARO'])\n",
    "px.bar(\n",
    "    gg.loc[gg['Best_Hit_ARO'].str.contains('EC-14')],\n",
    "    x=\"Year_Cultured\",\n",
    "    y=gg.loc[gg['Best_Hit_ARO'].str.contains('EC-14')]['Year_Cultured'].map((1/gg.loc[gg['Best_Hit_ARO'].str.contains('EC-14')]['Year_Cultured'].value_counts()).to_dict()),\n",
    "    labels={\"Year_Cultured\": \"Year Cultured\"},\n",
    "    title=\"Resistance Mechanism - E. Coli Plasmids\",\n",
    "    hover_data=[\"Accession_Number\", \"Resistance Mechanism\", \"Best_Hit_ARO\", \"Drug Class\", \"AMR Gene Family\", 'Contig'],\n",
    "    color='Resistance Mechanism',\n",
    ")"
   ]
  },
  {
   "cell_type": "code",
   "execution_count": null,
   "id": "cc746024-fbf1-4330-8bfc-e11ff3a26af2",
   "metadata": {},
   "outputs": [],
   "source": [
    "x = {}\n",
    "for i in gg['Best_Hit_ARO'].value_counts().reset_index().iloc():\n",
    "    aro = i['index']\n",
    "    count = i['Best_Hit_ARO']\n",
    "    if count < 5:\n",
    "        continue\n",
    "    # print(aro)\n",
    "    # if i not in gg['Best_Hit_ARO']:\n",
    "        # continue\n",
    "    x[aro] = (gg['Best_Hit_ARO'] == aro).corr(gg['Year_Cultured'])\n",
    "x = pd.DataFrame.from_dict(x, orient='index',columns=['Corr'])\n",
    "x.sort_values('Corr')"
   ]
  },
  {
   "cell_type": "code",
   "execution_count": null,
   "id": "04e39ff4-288f-45f9-b5a9-c6e1427ef475",
   "metadata": {},
   "outputs": [],
   "source": [
    "for i in gg['Best_Hit_ARO'].value_counts().reset_index().iloc():\n",
    "    print(\"X\" + i['index'])"
   ]
  },
  {
   "cell_type": "code",
   "execution_count": null,
   "id": "c2fa2816-074b-4555-a968-ee043cf20a45",
   "metadata": {},
   "outputs": [],
   "source": [
    "gg['Best_Hit_ARO'].value_counts().reset_index()"
   ]
  },
  {
   "cell_type": "code",
   "execution_count": null,
   "id": "3600b86c-44cf-4faa-8a01-cca38dbf6caf",
   "metadata": {},
   "outputs": [],
   "source": [
    "for i in gg.iloc():\n",
    "    if i['Best_Hit_ARO'] == ('AAC(3)-IIe'):\n",
    "        print(i)"
   ]
  },
  {
   "cell_type": "code",
   "execution_count": null,
   "id": "0ac2dfa4-e5a4-4621-a4e2-4e13b1474776",
   "metadata": {},
   "outputs": [],
   "source": []
  },
  {
   "cell_type": "code",
   "execution_count": null,
   "id": "d1966407-30db-482a-80a7-a27293e827a5",
   "metadata": {},
   "outputs": [],
   "source": [
    "gg.loc[gg['Best_Hit_ARO']== \"AAC(3)-IIe\"]"
   ]
  },
  {
   "cell_type": "code",
   "execution_count": null,
   "id": "3c865325-3149-4644-81d4-2bc987f4bfe1",
   "metadata": {},
   "outputs": [],
   "source": [
    "df.loc[df['Strain'].str.match(\"Escherichia coli\") & df['AMR Gene Family'].str.contains('EC beta-lactamase')][['Year_Cultured','Best_Hit_ARO']]"
   ]
  },
  {
   "cell_type": "code",
   "execution_count": null,
   "id": "41279e4d-0766-46c4-87fb-202ef46a8c22",
   "metadata": {},
   "outputs": [],
   "source": [
    "plasmidfinder_out.loc[plasmidfinder_out['AccNum'] == \"NCTC144\"]"
   ]
  },
  {
   "cell_type": "code",
   "execution_count": null,
   "id": "bbf9727a-1b86-4a1e-93c6-11baee9861a9",
   "metadata": {},
   "outputs": [],
   "source": [
    "plasmidfinder_resistance_df = contigdf.loc[contigdf['Accession_Number'].isin(plasmidfinder_out['AccNum'])]\n",
    "plasmidfinder_resistance_df = plasmidfinder_resistance_df.loc[plasmidfinder_resistance_df[0].isin(plasmidfinder_out['Contig'].str.split(' ', expand=True)[0])]\n",
    "plasmidfinder_resistance_df = df.loc[plasmidfinder_resistance_df.index].copy()\n",
    "plasmidfinder_resistance_df"
   ]
  },
  {
   "cell_type": "code",
   "execution_count": null,
   "id": "1540854c-d1f8-4db7-9bd6-b14115fdac1d",
   "metadata": {},
   "outputs": [],
   "source": [
    "px.bar(\n",
    "    plasmidfinder_resistance_df,\n",
    "    x=\"Year_Cultured\",\n",
    "    y=plasmidfinder_resistance_df['Year_Cultured'].map((1/plasmidfinder_resistance_df['Year_Cultured'].value_counts()).to_dict()),\n",
    "    labels={\"Year_Cultured\": \"Year Cultured\"},\n",
    "    title=\"Resistance Mechanism - Plasmids\",\n",
    "    hover_data=[\"Accession_Number\", \"Resistance Mechanism\", \"Best_Hit_ARO\", \"Drug Class\", \"AMR Gene Family\", 'Contig', 'Species'],\n",
    "    color='Best_Hit_ARO',\n",
    ")"
   ]
  },
  {
   "cell_type": "code",
   "execution_count": null,
   "id": "2cb0c55d-9f69-4659-93b3-5cffb30db81d",
   "metadata": {},
   "outputs": [],
   "source": []
  },
  {
   "cell_type": "code",
   "execution_count": null,
   "id": "7f04c411-024f-4be3-ae18-91c1c98091ec",
   "metadata": {},
   "outputs": [],
   "source": [
    "plasmidfinder_resistance_df = contigdf.loc[contigdf['Accession_Number'].isin(plasmidfinder_out['AccNum'])]\n",
    "plasmidfinder_resistance_df = plasmidfinder_resistance_df.loc[plasmidfinder_resistance_df[0].isin(plasmidfinder_out['Contig'].str.split(' ', expand=True)[0])]\n",
    "plasmidfinder_resistance_df = df.loc[plasmidfinder_resistance_df.index].copy()"
   ]
  },
  {
   "cell_type": "code",
   "execution_count": null,
   "id": "1c46ce49-e14a-46e3-9512-99e2dd5d52cd",
   "metadata": {},
   "outputs": [],
   "source": [
    "def measure_obs_distance(dataframe, value, anthro_year, column, verbose=False):\n",
    "    num_yearcultured_allstrains_dict = (\n",
    "        dataframe.drop_duplicates(subset=[\"Accession_Number\"])[\"Year_Cultured\"]\n",
    "        .value_counts()\n",
    "        .to_dict()\n",
    "    )\n",
    "    num_yearcultured_valposstrains_dict = (\n",
    "        dataframe.loc[dataframe[column].str.contains(value, na=False, regex=True)]\n",
    "        .drop_duplicates(subset=[\"Accession_Number\"])[\"Year_Cultured\"]\n",
    "        .value_counts()\n",
    "        .to_dict()\n",
    "    )\n",
    "    fractional_dictionary = {}\n",
    "    for years in num_yearcultured_allstrains_dict:\n",
    "        if num_yearcultured_allstrains_dict[years] == 0:\n",
    "            continue\n",
    "        if years in num_yearcultured_valposstrains_dict:\n",
    "            val = [num_yearcultured_valposstrains_dict[years], num_yearcultured_allstrains_dict[years]]\n",
    "            # fraction = (\n",
    "            #     num_yearcultured_valposstrains_dict[years]\n",
    "            #     / num_yearcultured_allstrains_dict[years]\n",
    "            # )\n",
    "        else:\n",
    "            val = [0, num_yearcultured_allstrains_dict[years]]\n",
    "        fractional_dictionary[years] = val\n",
    "\n",
    "    yeardf = (\n",
    "        pd.DataFrame.from_dict(fractional_dictionary, orient=\"index\", columns=[\"num_pos\", \"all\"])\n",
    "        .reset_index()\n",
    "        .rename(columns={\"index\": \"year\"})\n",
    "        .sort_values(by=\"year\")\n",
    "        .reset_index(drop=True)\n",
    "    )\n",
    "    yeardf['frac'] = yeardf['num_pos']/yeardf['all']\n",
    "    if verbose:\n",
    "        print(yeardf)\n",
    "    anthro = {True: \"Pre-Human\", False: \"Post-Human\"}\n",
    "    #line = pd.Index(yeardf[\"year\"]).get_loc(anthro_year)\n",
    "    #yeardf[\"row\"] = np.arange(yeardf.shape[0])\n",
    "    #yeardf[\"Anthropogenicity\"] = \"Pre-Human\"\n",
    "    #yeardf.loc[yeardf[\"row\"] > line, \"Anthropogenicity\"] = \"Post-Human\"\n",
    "    yeardf[\"Anthropogenicity\"] = \"Pre-Human\"\n",
    "    yeardf.loc[yeardf[\"year\"] > anthro_year, \"Anthropogenicity\"] = \"Post-Human\"\n",
    "    \n",
    "    \n",
    "    preanthro_mean = yeardf.loc[yeardf[\"Anthropogenicity\"] == \"Pre-Human\"][\n",
    "        \"frac\"\n",
    "    ].mean()\n",
    "    postanthro_mean = yeardf.loc[yeardf[\"Anthropogenicity\"] == \"Post-Human\"][\n",
    "        \"frac\"\n",
    "    ].mean()\n",
    "    metric = postanthro_mean - preanthro_mean\n",
    "    # print(\"Pre-Human mean fraction = %s\" % (preanthro_mean))\n",
    "    # print(\"Post-Human mean fraction = %s\" % (postanthro_mean))\n",
    "    # print(\"metric = %s\" % (metric))\n",
    "    return yeardf, preanthro_mean, postanthro_mean\n",
    "\n",
    "\n",
    "# shuffle year_cultured information while retaining existing structure.\n",
    "#  i.e. all 1940 strains get remapped to 2019, all 2019 strains get remapped to 1982, etc.\n",
    "def shuffleyears_structured(\n",
    "    dataframe, value, anthro_year, column, verbose=False, simulations=500\n",
    "):\n",
    "    null_distances = []\n",
    "    sortedyears = dataframe[\"Year_Cultured\"].unique()\n",
    "    for sim in range(simulations):\n",
    "        copy_df = dataframe.copy()\n",
    "        shuffledyears = dataframe[\"Year_Cultured\"].sample(frac=1).unique()\n",
    "        remapping = dict(zip(sortedyears, shuffledyears))\n",
    "        copy_df[\"Year_Cultured\"] = dataframe[\"Year_Cultured\"].map(remapping)\n",
    "        yeardf, pre, post = measure_obs_distance(\n",
    "            copy_df, value, anthro_year, column, verbose\n",
    "        )\n",
    "        null_distances.append(post - pre)\n",
    "    return null_distances\n",
    "\n",
    "\n",
    "# shuffle year_cultured information while NOT retaining existing structure.\n",
    "#  i.e. some 1940 strains can get remapped to 2019, some can get remapped to 1930, etc.\n",
    "def shuffleyears_unstructured(\n",
    "    dataframe, value, anthro_year, column, verbose=False, simulations=500\n",
    "):\n",
    "    null_distances = []\n",
    "    sortedyears = dataframe[\"Year_Cultured\"].unique()\n",
    "    uq_strains = (\n",
    "        dataframe.groupby([\"Accession_Number\", \"Year_Cultured\"], sort=False)\n",
    "        .size()\n",
    "        .reset_index()\n",
    "    )\n",
    "    uq_strains.set_index(\"Accession_Number\", inplace=True)\n",
    "    uq_strains.drop(columns=[0, \"Year_Cultured\"], inplace=True)\n",
    "    for sim in range(simulations):\n",
    "        uq_strains[\"RandomChoice\"] = np.random.choice(sortedyears, uq_strains.shape[0])\n",
    "        copy_df = dataframe.copy()\n",
    "        remapping = uq_strains.to_dict()[\"RandomChoice\"]\n",
    "        copy_df[\"Year_Cultured\"] = dataframe[\"Accession_Number\"].map(remapping)\n",
    "        yeardf, pre, post = measure_obs_distance(\n",
    "            copy_df, value, anthro_year, column, verbose\n",
    "        )\n",
    "        null_distances.append(post - pre)\n",
    "    return null_distances\n",
    "\n",
    "def plot_abresist_frac(\n",
    "    df,\n",
    "    ex,\n",
    "    year,\n",
    "    verbose=True,\n",
    "    sims=100,\n",
    "    figname=\"doodoo\",\n",
    "    savefig=False,\n",
    "    smooth=5,\n",
    "    col=\"Drug Class\",\n",
    "    value=\"phenotype\",\n",
    "):\n",
    "\n",
    "    frac_df, pre, post = measure_obs_distance(df, ex, year, col, verbose)\n",
    "    dist = post - pre\n",
    "\n",
    "    # histogram of fraction of strains w/ RGI hits for drug class\n",
    "    plt.figure(figsize=(14, 8))\n",
    "    chart = sns.barplot(data=frac_df, x=\"year\", y=\"frac\", color=\"salmon\", saturation=0.5)\n",
    "    chart.bar_label(chart.containers[0])\n",
    "\n",
    "    plt.axvline(pd.Index(frac_df[\"year\"]).get_loc(year, method=\"nearest\"))\n",
    "    plt.ylabel(\"Fraction of bugs with phenotype\")\n",
    "    plt.xlabel(\"Year\")\n",
    "    plt.xticks(rotation=45)\n",
    "\n",
    "    plt.show()\n",
    "\n",
    "    \n",
    "    \n",
    "    \n",
    "    d = {\"Year\": [], \"frac\": [], \"Anthropogenicity\": []}\n",
    "    for years in range(frac_df[\"year\"].min(), frac_df[\"year\"].max()):\n",
    "        upb = smooth + years\n",
    "        downb = years - smooth\n",
    "        g = frac_df.loc[(frac_df[\"year\"] <= upb) & (downb <= frac_df[\"year\"])]\n",
    "        d[\"Year\"].append(years)\n",
    "        if years >= year:\n",
    "            d[\"Anthropogenicity\"].append(\"Post-Human\")\n",
    "        else:\n",
    "            d[\"Anthropogenicity\"].append(\"Pre-Human\")\n",
    "        d[\"frac\"].append(g[\"frac\"].mean())\n",
    "    \n",
    "    xdf = pd.DataFrame(data=d)\n",
    "    # print(xdf)\n",
    "    fig, axes = plt.subplots(2, 1, figsize=(14, 8), sharex=True)\n",
    "    lp = sns.lineplot(\n",
    "        data=xdf, x=\"Year\", y=\"frac\", markers=True, hue=\"Anthropogenicity\", ax=axes[0]\n",
    "    )\n",
    "    lp.set(ylim=(0, 1))\n",
    "    dp = sns.scatterplot(\n",
    "        data=xdf, x=\"Year\", y=\"frac\", hue=\"Anthropogenicity\", legend=False, ax=axes[0]\n",
    "    )\n",
    "    axes[0].set(ylabel='Fraction of bugs with {}'.format(value))\n",
    "    dp.axvline(year, color=\"red\")\n",
    "    preab_df = xdf.loc[xdf[\"Anthropogenicity\"] == \"Pre-Human\"]\n",
    "    lp.hlines(\n",
    "        y=preab_df[\"frac\"].mean(),\n",
    "        xmin=preab_df[\"Year\"].min(),\n",
    "        xmax=preab_df[\"Year\"].max(),\n",
    "    )\n",
    "\n",
    "    postab_df = xdf.loc[xdf[\"Anthropogenicity\"] == \"Post-Human\"]\n",
    "    lp.hlines(\n",
    "        y=postab_df[\"frac\"].mean(),\n",
    "        xmin=postab_df[\"Year\"].min(),\n",
    "        xmax=postab_df[\"Year\"].max(),\n",
    "    )\n",
    "    \n",
    "    histogram = sns.histplot(data=df.drop_duplicates(subset=[\"Accession_Number\"]), x='Year_Cultured', ax=axes[1])\n",
    "    axes[1].set(ylabel='Count of bugs analyzed', xlabel=\"Year Cultured\")\n",
    "    \n",
    "    if savefig:\n",
    "        plt.savefig(\n",
    "            \"fractionofresist_{}.png\".format(figname), bbox_inches=\"tight\", dpi=100\n",
    "        )\n",
    "    plt.show()\n",
    "    \n",
    "    if sims == 0: return\n",
    "\n",
    "    preab_mean = frac_df.loc[frac_df[\"Anthropogenicity\"] == \"Pre-Human\"][\"frac\"].mean()\n",
    "    postab_mean = frac_df.loc[frac_df[\"Anthropogenicity\"] == \"Post-Human\"][\n",
    "        \"frac\"\n",
    "    ].mean()\n",
    "\n",
    "    nulldist = shuffleyears_structured(df, ex, year, col, verbose, simulations=sims)\n",
    "    plt.figure(figsize=(14, 8))\n",
    "    sns.histplot(nulldist, stat='density')\n",
    "    xmin, xmax = plt.xlim()\n",
    "    mu_struct, std_struct = norm.fit(nulldist)\n",
    "    x = np.linspace(xmin, xmax, sims)\n",
    "    y_pdf = norm.pdf(x, mu_struct, std_struct)\n",
    "    plt.plot(x, y_pdf, \"k\", linewidth=2)\n",
    "    plt.axvline(dist, color=\"red\", label=\"Observed $\\Delta$ = {:.3f}\".format(dist))\n",
    "    plt.legend()\n",
    "    plt.title(\"Structured Shuffling\")\n",
    "    plt.xlabel(\"Null $\\Delta$ distribution in {} simulations\".format(sims))\n",
    "    if savefig:\n",
    "        plt.savefig(\"structuredshuffling_{}.png\".format(figname))\n",
    "    plt.show()\n",
    "    pval = norm.cdf(dist, mu_struct, std_struct)\n",
    "    if pval > 0.5:\n",
    "        pval = 1 - pval\n",
    "    print(\"P-value (structured) = {:.4f}\".format(pval))\n",
    "\n",
    "    nulldist = shuffleyears_unstructured(df, ex, year, col, verbose, simulations=sims)\n",
    "    plt.figure(figsize=(14, 8))\n",
    "    sns.histplot(nulldist, stat='density')\n",
    "    xmin, xmax = plt.xlim()\n",
    "    mu_unstruct, std_unstruct = norm.fit(nulldist)\n",
    "    x = np.linspace(xmin, xmax, sims)\n",
    "    y_pdf = norm.pdf(x, mu_unstruct, std_unstruct)\n",
    "    plt.plot(x, y_pdf, \"k\", linewidth=2)\n",
    "    plt.axvline(dist, color=\"red\", label=\"Observed $\\Delta$ = {:.3f}\".format(dist))\n",
    "    plt.legend()\n",
    "    plt.title(\"Unstructured Shuffling\")\n",
    "    plt.xlabel(\"Null $\\Delta$ distribution in {} simulations\".format(sims))\n",
    "    if savefig:\n",
    "        plt.savefig(\"unstructuredshuffling_{}.png\".format(figname))\n",
    "    plt.show()\n",
    "    pval = norm.cdf(dist, mu_unstruct, std_unstruct)\n",
    "    if pval > 0.5:\n",
    "        pval = 1 - pval\n",
    "    print(\"P-value (unstructured) = {:.4f}\".format(pval))"
   ]
  },
  {
   "cell_type": "code",
   "execution_count": null,
   "id": "49b5f867-7c50-455d-884f-032cafd9dc46",
   "metadata": {},
   "outputs": [],
   "source": [
    "y.sum()"
   ]
  },
  {
   "cell_type": "code",
   "execution_count": null,
   "id": "a81d9a4b-f51d-40db-a5f8-2eaf77327f3d",
   "metadata": {},
   "outputs": [],
   "source": [
    "plot_frac(df.loc[df['Strain'].str.contains(\"Klebsiella pneumoniae\")],\n",
    "          '|'.join(list(kleb_mlplasmid_out['AccNum'].drop_duplicates())),\n",
    "          verbose=False,\n",
    "          col='Accession_Number',\n",
    "          smooth=7,\n",
    "          value='Fraction of Kleb. Pneum. with ≥ 1 plasmid',\n",
    "          y2='Count of all Kleb Pneum. present'\n",
    ")"
   ]
  },
  {
   "cell_type": "code",
   "execution_count": null,
   "id": "80051bae-104e-446b-848d-4d5c3f31d605",
   "metadata": {},
   "outputs": [],
   "source": []
  },
  {
   "cell_type": "code",
   "execution_count": null,
   "id": "f89dfe01-d225-4c26-8237-669d760e6985",
   "metadata": {},
   "outputs": [],
   "source": [
    "plot_frac(df.loc[df['Strain'].str.contains(\"Klebsiella pneumoniae\") & df['Accession_Number'].str.contains('|'.join(list(kleb_mlplasmid_out['AccNum'].drop_duplicates())))],\n",
    "          '|'.join(list(klebplasmids_df['Accession_Number'].drop_duplicates())),\n",
    "          verbose=False,\n",
    "          col='Accession_Number',\n",
    "          smooth=7,\n",
    "          value='Fraction of plasmids carrying ≥ 1 AbR gene',\n",
    "          y2='Count of E. Coli with plasmids'\n",
    ")"
   ]
  },
  {
   "cell_type": "code",
   "execution_count": null,
   "id": "6a1c2b62-56d7-4958-9922-ed95ec5ada48",
   "metadata": {},
   "outputs": [],
   "source": [
    "aro = {}\n",
    "for x in list(df[\"Best_Hit_ARO\"]):\n",
    "    classes = x.split(\"; \")\n",
    "    for c in classes:\n",
    "        if c in aro:\n",
    "            aro[c] += 1\n",
    "        else:\n",
    "            aro[c] = 1\n",
    "aro_abovet = []\n",
    "t=50\n",
    "for i in aro:\n",
    "    if aro[i] > t:\n",
    "        aro_abovet.append(i)\n",
    "subd = df.loc[~df['Best_Hit_ARO'].str.contains('Null') & df['Best_Hit_ARO'].str.contains('|'.join(aro_abovet))]\n",
    "sns.clustermap(pd.crosstab(subd['Accession_Number'], subd['Best_Hit_ARO']), vmax=10)"
   ]
  }
 ],
 "metadata": {
  "kernelspec": {
   "display_name": "Python 3 (ipykernel)",
   "language": "python",
   "name": "python3"
  },
  "language_info": {
   "codemirror_mode": {
    "name": "ipython",
    "version": 3
   },
   "file_extension": ".py",
   "mimetype": "text/x-python",
   "name": "python",
   "nbconvert_exporter": "python",
   "pygments_lexer": "ipython3",
   "version": "3.8.13"
  }
 },
 "nbformat": 4,
 "nbformat_minor": 5
}
